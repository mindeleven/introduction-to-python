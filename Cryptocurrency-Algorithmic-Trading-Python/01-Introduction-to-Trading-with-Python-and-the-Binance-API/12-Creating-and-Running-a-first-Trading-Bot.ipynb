{
 "cells": [
  {
   "cell_type": "markdown",
   "id": "75f9e5a0",
   "metadata": {},
   "source": [
    "# Creating and Running a first (simple) Trading Bot"
   ]
  },
  {
   "cell_type": "code",
   "execution_count": null,
   "id": "1ad36f15",
   "metadata": {},
   "outputs": [],
   "source": [
    "from binance.client import Client\n",
    "from binance import ThreadedWebsocketManager\n",
    "import pandas as pd\n",
    "import numpy as np"
   ]
  },
  {
   "cell_type": "code",
   "execution_count": null,
   "id": "d49ace1c",
   "metadata": {},
   "outputs": [],
   "source": [
    "# getting the testnet api keys\n",
    "keys_test = pd.read_csv(\"~/Documents/temp/bnc/testnet_key.txt\", sep=\" \", header=None)\n",
    "api_key_test = keys_test[0][0]\n",
    "secret_key_test = keys_test[0][1]\n",
    "\n",
    "# use your testnet credentials with testnet = True\n",
    "client = Client(api_key = api_key_test, api_secret = secret_key_test, tld = \"com\", testnet = True)"
   ]
  },
  {
   "cell_type": "code",
   "execution_count": null,
   "id": "87b435b5",
   "metadata": {},
   "outputs": [],
   "source": [
    "client.get_account()"
   ]
  },
  {
   "cell_type": "markdown",
   "id": "de915423",
   "metadata": {},
   "source": [
    "**A simple random Trading Bot:** Stream Market Data and buy 0.1 BTC (with USDT) once condition x (Price and/or Volume) has been met. Then stop the stream.\n",
    "\n",
    "Condition x: Pricd (rounded down) is divisible my 10 without remainder."
   ]
  },
  {
   "cell_type": "code",
   "execution_count": null,
   "id": "194d53da",
   "metadata": {},
   "outputs": [],
   "source": [
    "40210 % 10"
   ]
  },
  {
   "cell_type": "code",
   "execution_count": null,
   "id": "b9cccd16",
   "metadata": {},
   "outputs": [],
   "source": [
    "# init and start the WebSocket\n",
    "twm = ThreadedWebsocketManager()\n",
    "twm.start()"
   ]
  },
  {
   "cell_type": "markdown",
   "id": "94474453",
   "metadata": {},
   "source": [
    "## Using the Miniticker Stream:"
   ]
  },
  {
   "cell_type": "markdown",
   "id": "f29a6633",
   "metadata": {},
   "source": [
    "![24hr Mini Ticker Stream Output/Message](../Assets/Images/24hrMiniTicker-output.png)"
   ]
  },
  {
   "cell_type": "code",
   "execution_count": 16,
   "id": "14c13a06",
   "metadata": {},
   "outputs": [],
   "source": [
    "def simple_bot(msg):\n",
    "    ''' define how to process incoming websocket messages '''\n",
    "    \n",
    "    time = pd.to_datetime(msg[\"E\"], unit = \"ms\")\n",
    "    price = float(msg[\"c\"])\n",
    "    \n",
    "    print(\"Time: {} | Price: {}\".format(time, price))\n",
    "    \n",
    "    if int(price) % 10 == 0:\n",
    "        order = client.create_order(symbol = \"BTCUSDT\", side = \"BUY\", type = \"MARKET\", quantity = 0.01)\n",
    "        print(\"\\n\" + 50 * \"-\")\n",
    "        print(\"Buy {} BTC for {} USDT\".format(order[\"executedQty\"], order[\"cummulativeQuoteQty\"]))\n",
    "        print(50 * \"-\" + \"\\n\")\n",
    "        \n",
    "        twm.stop()"
   ]
  },
  {
   "cell_type": "code",
   "execution_count": 17,
   "id": "d0bd1af2",
   "metadata": {},
   "outputs": [
    {
     "data": {
      "text/plain": [
       "'btcusdt@miniTicker'"
      ]
     },
     "execution_count": 17,
     "metadata": {},
     "output_type": "execute_result"
    },
    {
     "name": "stdout",
     "output_type": "stream",
     "text": [
      "Time: 2022-06-07 14:46:02.856000 | Price: 29915.81\n",
      "Time: 2022-06-07 14:46:03.677000 | Price: 29913.07\n",
      "Time: 2022-06-07 14:46:04.714000 | Price: 29918.36\n",
      "Time: 2022-06-07 14:46:05.859000 | Price: 29925.36\n",
      "Time: 2022-06-07 14:46:06.862000 | Price: 29925.36\n",
      "Time: 2022-06-07 14:46:07.860000 | Price: 29918.17\n",
      "Time: 2022-06-07 14:46:08.865000 | Price: 29924.59\n",
      "Time: 2022-06-07 14:46:09.823000 | Price: 29928.0\n",
      "Time: 2022-06-07 14:46:10.781000 | Price: 29929.98\n",
      "Time: 2022-06-07 14:46:11.806000 | Price: 29929.99\n",
      "Time: 2022-06-07 14:46:12.620000 | Price: 29931.56\n",
      "Time: 2022-06-07 14:46:13.810000 | Price: 29931.63\n",
      "Time: 2022-06-07 14:46:14.813000 | Price: 29932.79\n",
      "Time: 2022-06-07 14:46:15.819000 | Price: 29933.88\n",
      "Time: 2022-06-07 14:46:16.892000 | Price: 29928.0\n",
      "Time: 2022-06-07 14:46:17.870000 | Price: 29923.48\n",
      "Time: 2022-06-07 14:46:18.787000 | Price: 29923.47\n",
      "Time: 2022-06-07 14:46:19.904000 | Price: 29923.48\n",
      "Time: 2022-06-07 14:46:20.733000 | Price: 29925.56\n",
      "Time: 2022-06-07 14:46:21.890000 | Price: 29929.19\n",
      "Time: 2022-06-07 14:46:22.618000 | Price: 29929.69\n",
      "Time: 2022-06-07 14:46:23.781000 | Price: 29930.42\n",
      "\n",
      "--------------------------------------------------\n",
      "Buy 0.01000000 BTC for 299.30420000 USDT\n",
      "--------------------------------------------------\n",
      "\n"
     ]
    }
   ],
   "source": [
    "# subscribe to the stream\n",
    "twm.start_symbol_miniticker_socket(callback = simple_bot, symbol = \"BTCUSDT\")"
   ]
  },
  {
   "cell_type": "code",
   "execution_count": 18,
   "id": "c5a0fc4d",
   "metadata": {},
   "outputs": [
    {
     "data": {
      "text/plain": [
       "{'makerCommission': 0,\n",
       " 'takerCommission': 0,\n",
       " 'buyerCommission': 0,\n",
       " 'sellerCommission': 0,\n",
       " 'canTrade': True,\n",
       " 'canWithdraw': False,\n",
       " 'canDeposit': False,\n",
       " 'updateTime': 1654613184658,\n",
       " 'accountType': 'SPOT',\n",
       " 'balances': [{'asset': 'BNB',\n",
       "   'free': '1000.00000000',\n",
       "   'locked': '0.00000000'},\n",
       "  {'asset': 'BTC', 'free': '1.32383800', 'locked': '0.00000000'},\n",
       "  {'asset': 'BUSD', 'free': '10000.00000000', 'locked': '0.00000000'},\n",
       "  {'asset': 'ETH', 'free': '100.00000000', 'locked': '0.00000000'},\n",
       "  {'asset': 'LTC', 'free': '500.00000000', 'locked': '0.00000000'},\n",
       "  {'asset': 'TRX', 'free': '500000.00000000', 'locked': '0.00000000'},\n",
       "  {'asset': 'USDT', 'free': '33.82081322', 'locked': '0.00000000'},\n",
       "  {'asset': 'XRP', 'free': '50000.00000000', 'locked': '0.00000000'}],\n",
       " 'permissions': ['SPOT']}"
      ]
     },
     "execution_count": 18,
     "metadata": {},
     "output_type": "execute_result"
    }
   ],
   "source": [
    "client.get_account()"
   ]
  },
  {
   "cell_type": "code",
   "execution_count": null,
   "id": "8cc1f772",
   "metadata": {},
   "outputs": [],
   "source": []
  }
 ],
 "metadata": {
  "kernelspec": {
   "display_name": "Python 3 (ipykernel)",
   "language": "python",
   "name": "python3"
  },
  "language_info": {
   "codemirror_mode": {
    "name": "ipython",
    "version": 3
   },
   "file_extension": ".py",
   "mimetype": "text/x-python",
   "name": "python",
   "nbconvert_exporter": "python",
   "pygments_lexer": "ipython3",
   "version": "3.9.10"
  }
 },
 "nbformat": 4,
 "nbformat_minor": 5
}
