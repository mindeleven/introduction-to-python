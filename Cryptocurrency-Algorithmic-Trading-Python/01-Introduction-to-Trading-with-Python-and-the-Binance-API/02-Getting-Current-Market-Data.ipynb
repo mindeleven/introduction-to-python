{
 "cells": [
  {
   "cell_type": "markdown",
   "id": "a60109c5",
   "metadata": {},
   "source": [
    "# Getting (current) Market Data"
   ]
  },
  {
   "cell_type": "code",
   "execution_count": null,
   "id": "53e6f1d7",
   "metadata": {},
   "outputs": [],
   "source": [
    "from binance.client import Client"
   ]
  },
  {
   "cell_type": "code",
   "execution_count": null,
   "id": "6ea99e39",
   "metadata": {},
   "outputs": [],
   "source": [
    "import pandas as pd"
   ]
  },
  {
   "cell_type": "code",
   "execution_count": null,
   "id": "799216ca",
   "metadata": {},
   "outputs": [],
   "source": [
    "keys = pd.read_csv(\"~/Documents/temp/bnc/api_key.txt\", sep=\" \", header=None)"
   ]
  },
  {
   "cell_type": "code",
   "execution_count": null,
   "id": "de62411b",
   "metadata": {},
   "outputs": [],
   "source": [
    "api_key = keys[0][0]\n",
    "secret_key = keys[0][1]"
   ]
  },
  {
   "cell_type": "markdown",
   "id": "321bf1f3",
   "metadata": {},
   "source": [
    "Connecting to the account on Binance.com"
   ]
  },
  {
   "cell_type": "code",
   "execution_count": null,
   "id": "193c7aa3",
   "metadata": {},
   "outputs": [],
   "source": [
    "client = Client(api_key = api_key, api_secret = secret_key, tld = \"com\")"
   ]
  },
  {
   "cell_type": "markdown",
   "id": "87dd1026",
   "metadata": {},
   "source": [
    "## Getting the current prices"
   ]
  },
  {
   "cell_type": "code",
   "execution_count": null,
   "id": "b555eb91",
   "metadata": {},
   "outputs": [],
   "source": [
    "client.get_symbol_ticker(symbol = 'BTCUSDT')"
   ]
  },
  {
   "cell_type": "code",
   "execution_count": null,
   "id": "2b75c97e",
   "metadata": {},
   "outputs": [],
   "source": [
    "float(client.get_symbol_ticker(symbol = 'BTCEUR')['price'])"
   ]
  },
  {
   "cell_type": "code",
   "execution_count": null,
   "id": "89900b73",
   "metadata": {},
   "outputs": [],
   "source": [
    "# get the current prices for all pairs\n",
    "# return JSON format\n",
    "prices = client.get_all_tickers()\n",
    "prices"
   ]
  },
  {
   "cell_type": "code",
   "execution_count": null,
   "id": "c5a7f254",
   "metadata": {},
   "outputs": [],
   "source": [
    "df = pd.DataFrame(prices)\n",
    "df"
   ]
  },
  {
   "cell_type": "code",
   "execution_count": null,
   "id": "8d9d684d",
   "metadata": {},
   "outputs": [],
   "source": [
    "# get all pairs with Ethereum\n",
    "df[df.symbol.str.contains(\"ETH\")]"
   ]
  },
  {
   "cell_type": "code",
   "execution_count": null,
   "id": "f4538219",
   "metadata": {},
   "outputs": [],
   "source": [
    "# filter data frame for all pairs that contain Bitcoin and US Dollar\n",
    "df[df.symbol.str.contains(\"ETH\") & df.symbol.str.contains(\"USD\")]"
   ]
  },
  {
   "cell_type": "code",
   "execution_count": null,
   "id": "8f8389cc",
   "metadata": {},
   "outputs": [],
   "source": [
    "# filter data frame for all pairs that contain Bitcoin and US Dollar\n",
    "df[df.symbol.str.contains(\"ETH\") & df.symbol.str.contains(\"EUR\")]"
   ]
  },
  {
   "cell_type": "code",
   "execution_count": null,
   "id": "2eaa87e7",
   "metadata": {},
   "outputs": [],
   "source": [
    "# 24h price change statistic\n",
    "last24 = client.get_ticker(symbol = \"BTCUSDT\")\n",
    "last24"
   ]
  },
  {
   "cell_type": "code",
   "execution_count": null,
   "id": "b8b28eda",
   "metadata": {},
   "outputs": [],
   "source": [
    "open_time = last24[\"openTime\"]\n",
    "close_time = last24[\"closeTime\"]"
   ]
  },
  {
   "cell_type": "code",
   "execution_count": null,
   "id": "47d1f559",
   "metadata": {},
   "outputs": [],
   "source": [
    "pd.to_datetime(open_time, unit = \"ms\")"
   ]
  },
  {
   "cell_type": "code",
   "execution_count": null,
   "id": "a33bebf3",
   "metadata": {},
   "outputs": [],
   "source": [
    "pd.to_datetime(close_time, unit = \"ms\")"
   ]
  },
  {
   "cell_type": "code",
   "execution_count": null,
   "id": "271de43b",
   "metadata": {},
   "outputs": [],
   "source": [
    "open_price = float(last24[\"openPrice\"])\n",
    "open_price"
   ]
  },
  {
   "cell_type": "code",
   "execution_count": null,
   "id": "5935af05",
   "metadata": {},
   "outputs": [],
   "source": [
    "high_price = float(last24[\"highPrice\"])\n",
    "high_price"
   ]
  },
  {
   "cell_type": "code",
   "execution_count": null,
   "id": "640059ef",
   "metadata": {},
   "outputs": [],
   "source": [
    "low_price = float(last24[\"lowPrice\"])\n",
    "low_price"
   ]
  },
  {
   "cell_type": "code",
   "execution_count": null,
   "id": "e6291cfb",
   "metadata": {},
   "outputs": [],
   "source": [
    "close_price = float(last24[\"lastPrice\"])\n",
    "close_price\n"
   ]
  },
  {
   "cell_type": "code",
   "execution_count": null,
   "id": "1cdd0598",
   "metadata": {},
   "outputs": [],
   "source": [
    "# double checking the price change\n",
    "price_change = close_price - open_price\n",
    "price_change"
   ]
  },
  {
   "cell_type": "code",
   "execution_count": null,
   "id": "d46c1e4e",
   "metadata": {},
   "outputs": [],
   "source": [
    "relative_price_change = (close_price/open_price - 1) * 100 \n",
    "relative_price_change"
   ]
  }
 ],
 "metadata": {
  "kernelspec": {
   "display_name": "Python 3 (ipykernel)",
   "language": "python",
   "name": "python3"
  },
  "language_info": {
   "codemirror_mode": {
    "name": "ipython",
    "version": 3
   },
   "file_extension": ".py",
   "mimetype": "text/x-python",
   "name": "python",
   "nbconvert_exporter": "python",
   "pygments_lexer": "ipython3",
   "version": "3.9.10"
  }
 },
 "nbformat": 4,
 "nbformat_minor": 5
}
