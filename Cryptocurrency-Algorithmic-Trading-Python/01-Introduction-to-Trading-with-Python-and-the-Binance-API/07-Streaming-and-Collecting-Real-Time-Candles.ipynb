{
 "cells": [
  {
   "cell_type": "markdown",
   "id": "236e245f",
   "metadata": {},
   "source": [
    "## Streaming and Collecting Real-Time Candles"
   ]
  },
  {
   "cell_type": "code",
   "execution_count": 45,
   "id": "c9330be7",
   "metadata": {},
   "outputs": [],
   "source": [
    "from binance import ThreadedWebsocketManager\n",
    "import pandas as pd"
   ]
  },
  {
   "cell_type": "markdown",
   "id": "8e91c97f",
   "metadata": {},
   "source": [
    "**Kline/Candlestick Stream:** The Kline/Candlestick Stream push updates to the current klines/candlestick every second.\n",
    "\n",
    "https://binance-docs.github.io/apidocs/spot/en/#kline-candlestick-streams    "
   ]
  },
  {
   "cell_type": "markdown",
   "id": "e29467ef",
   "metadata": {},
   "source": [
    "![Kline/Candlestick Stream Output/Message](../Assets/Images/kline-candlestick-streams-output-message.png)"
   ]
  },
  {
   "cell_type": "code",
   "execution_count": 46,
   "id": "ad38df3a",
   "metadata": {},
   "outputs": [
    {
     "data": {
      "text/html": [
       "<div>\n",
       "<style scoped>\n",
       "    .dataframe tbody tr th:only-of-type {\n",
       "        vertical-align: middle;\n",
       "    }\n",
       "\n",
       "    .dataframe tbody tr th {\n",
       "        vertical-align: top;\n",
       "    }\n",
       "\n",
       "    .dataframe thead th {\n",
       "        text-align: right;\n",
       "    }\n",
       "</style>\n",
       "<table border=\"1\" class=\"dataframe\">\n",
       "  <thead>\n",
       "    <tr style=\"text-align: right;\">\n",
       "      <th></th>\n",
       "      <th>Open</th>\n",
       "      <th>High</th>\n",
       "      <th>Low</th>\n",
       "      <th>Close</th>\n",
       "      <th>Volume</th>\n",
       "      <th>Complete</th>\n",
       "    </tr>\n",
       "  </thead>\n",
       "  <tbody>\n",
       "  </tbody>\n",
       "</table>\n",
       "</div>"
      ],
      "text/plain": [
       "Empty DataFrame\n",
       "Columns: [Open, High, Low, Close, Volume, Complete]\n",
       "Index: []"
      ]
     },
     "execution_count": 46,
     "metadata": {},
     "output_type": "execute_result"
    }
   ],
   "source": [
    "df = pd.DataFrame(columns = [\"Open\", \"High\", \"Low\", \"Close\", \"Volume\", \"Complete\"])\n",
    "df"
   ]
  },
  {
   "cell_type": "code",
   "execution_count": 47,
   "id": "57aafe9f",
   "metadata": {},
   "outputs": [],
   "source": [
    "def stream_candles(msg):\n",
    "    ''' define how to process incoming WebSocket messages '''\n",
    "    \n",
    "    # extract the required items from msg\n",
    "    event_time = pd.to_datetime(msg[\"E\"], unit = \"ms\")\n",
    "    start_time = pd.to_datetime(msg[\"k\"][\"t\"], unit = \"ms\")\n",
    "    first = float(msg[\"k\"][\"o\"])\n",
    "    high = float(msg[\"k\"][\"h\"])\n",
    "    low = float(msg[\"k\"][\"l\"])\n",
    "    close = float(msg[\"k\"][\"c\"])\n",
    "    volume = float(msg[\"k\"][\"v\"])\n",
    "    complete = msg[\"k\"][\"x\"]\n",
    "    \n",
    "    # print out\n",
    "    print(\"Time: {} | Price: {}\".format(event_time, close))\n",
    "    \n",
    "    # feed df (add new bar / update latest bar)\n",
    "    df.loc[start_time] = [first, high, low, close, volume, complete]"
   ]
  },
  {
   "cell_type": "code",
   "execution_count": 48,
   "id": "b55233ae",
   "metadata": {},
   "outputs": [],
   "source": [
    "# initialize and start the WebSocket\n",
    "twm = ThreadedWebsocketManager()\n",
    "twm.start()"
   ]
  },
  {
   "cell_type": "markdown",
   "id": "952a5d69",
   "metadata": {},
   "source": [
    "valid intervals - 1m, 3m, 5m, 15m, 30m, 1h, 2h, 4h, 6h, 8h, 12h, 1d, 3d, 1w, 1M"
   ]
  },
  {
   "cell_type": "code",
   "execution_count": 49,
   "id": "7944a002",
   "metadata": {},
   "outputs": [
    {
     "data": {
      "text/plain": [
       "'btcusdt@kline_1m'"
      ]
     },
     "execution_count": 49,
     "metadata": {},
     "output_type": "execute_result"
    },
    {
     "name": "stdout",
     "output_type": "stream",
     "text": [
      "Time: 2022-06-06 06:59:44.456000 | Price: 31287.67\n",
      "Time: 2022-06-06 06:59:46.509000 | Price: 31287.68\n",
      "Time: 2022-06-06 06:59:48.738000 | Price: 31282.79\n",
      "Time: 2022-06-06 06:59:51.119000 | Price: 31282.8\n",
      "Time: 2022-06-06 06:59:53.147000 | Price: 31276.06\n",
      "Time: 2022-06-06 06:59:55.718000 | Price: 31276.05\n",
      "Time: 2022-06-06 06:59:57.881000 | Price: 31274.23\n",
      "Time: 2022-06-06 06:59:59.911000 | Price: 31274.22\n",
      "Time: 2022-06-06 07:00:00.002000 | Price: 31274.23\n",
      "Time: 2022-06-06 07:00:02.038000 | Price: 31286.72\n",
      "Time: 2022-06-06 07:00:04.115000 | Price: 31297.06\n",
      "Time: 2022-06-06 07:00:06.137000 | Price: 31293.57\n",
      "Time: 2022-06-06 07:00:08.230000 | Price: 31282.09\n",
      "Time: 2022-06-06 07:00:10.799000 | Price: 31275.14\n",
      "Time: 2022-06-06 07:00:13.065000 | Price: 31279.21\n",
      "Time: 2022-06-06 07:00:15.552000 | Price: 31279.21\n",
      "Time: 2022-06-06 07:00:17.618000 | Price: 31268.8\n",
      "Time: 2022-06-06 07:00:19.625000 | Price: 31266.36\n",
      "Time: 2022-06-06 07:00:21.820000 | Price: 31266.18\n",
      "Time: 2022-06-06 07:00:24.827000 | Price: 31264.7\n"
     ]
    }
   ],
   "source": [
    "twm.start_kline_socket(callback = stream_candles, symbol = \"BTCUSDT\", interval = \"1m\")"
   ]
  },
  {
   "cell_type": "code",
   "execution_count": 50,
   "id": "acfbe5c2",
   "metadata": {},
   "outputs": [],
   "source": [
    "twm.stop()"
   ]
  },
  {
   "cell_type": "code",
   "execution_count": 51,
   "id": "4a3a6d7b",
   "metadata": {},
   "outputs": [
    {
     "data": {
      "text/html": [
       "<div>\n",
       "<style scoped>\n",
       "    .dataframe tbody tr th:only-of-type {\n",
       "        vertical-align: middle;\n",
       "    }\n",
       "\n",
       "    .dataframe tbody tr th {\n",
       "        vertical-align: top;\n",
       "    }\n",
       "\n",
       "    .dataframe thead th {\n",
       "        text-align: right;\n",
       "    }\n",
       "</style>\n",
       "<table border=\"1\" class=\"dataframe\">\n",
       "  <thead>\n",
       "    <tr style=\"text-align: right;\">\n",
       "      <th></th>\n",
       "      <th>Open</th>\n",
       "      <th>High</th>\n",
       "      <th>Low</th>\n",
       "      <th>Close</th>\n",
       "      <th>Volume</th>\n",
       "      <th>Complete</th>\n",
       "    </tr>\n",
       "  </thead>\n",
       "  <tbody>\n",
       "    <tr>\n",
       "      <th>2022-06-06 06:59:00</th>\n",
       "      <td>31287.68</td>\n",
       "      <td>31287.68</td>\n",
       "      <td>31267.56</td>\n",
       "      <td>31274.23</td>\n",
       "      <td>46.48310</td>\n",
       "      <td>True</td>\n",
       "    </tr>\n",
       "    <tr>\n",
       "      <th>2022-06-06 07:00:00</th>\n",
       "      <td>31274.23</td>\n",
       "      <td>31297.56</td>\n",
       "      <td>31264.70</td>\n",
       "      <td>31264.70</td>\n",
       "      <td>30.04866</td>\n",
       "      <td>False</td>\n",
       "    </tr>\n",
       "  </tbody>\n",
       "</table>\n",
       "</div>"
      ],
      "text/plain": [
       "                         Open      High       Low     Close    Volume  \\\n",
       "2022-06-06 06:59:00  31287.68  31287.68  31267.56  31274.23  46.48310   \n",
       "2022-06-06 07:00:00  31274.23  31297.56  31264.70  31264.70  30.04866   \n",
       "\n",
       "                     Complete  \n",
       "2022-06-06 06:59:00      True  \n",
       "2022-06-06 07:00:00     False  "
      ]
     },
     "execution_count": 51,
     "metadata": {},
     "output_type": "execute_result"
    }
   ],
   "source": [
    "df"
   ]
  },
  {
   "cell_type": "code",
   "execution_count": 52,
   "id": "03ff38cf",
   "metadata": {},
   "outputs": [
    {
     "name": "stdout",
     "output_type": "stream",
     "text": [
      "<class 'pandas.core.frame.DataFrame'>\n",
      "DatetimeIndex: 2 entries, 2022-06-06 06:59:00 to 2022-06-06 07:00:00\n",
      "Data columns (total 6 columns):\n",
      " #   Column    Non-Null Count  Dtype  \n",
      "---  ------    --------------  -----  \n",
      " 0   Open      2 non-null      float64\n",
      " 1   High      2 non-null      float64\n",
      " 2   Low       2 non-null      float64\n",
      " 3   Close     2 non-null      float64\n",
      " 4   Volume    2 non-null      float64\n",
      " 5   Complete  2 non-null      bool   \n",
      "dtypes: bool(1), float64(5)\n",
      "memory usage: 206.0 bytes\n"
     ]
    }
   ],
   "source": [
    "df.info()"
   ]
  },
  {
   "cell_type": "code",
   "execution_count": null,
   "id": "0ba299ce",
   "metadata": {},
   "outputs": [],
   "source": []
  }
 ],
 "metadata": {
  "kernelspec": {
   "display_name": "Python 3 (ipykernel)",
   "language": "python",
   "name": "python3"
  },
  "language_info": {
   "codemirror_mode": {
    "name": "ipython",
    "version": 3
   },
   "file_extension": ".py",
   "mimetype": "text/x-python",
   "name": "python",
   "nbconvert_exporter": "python",
   "pygments_lexer": "ipython3",
   "version": "3.9.10"
  }
 },
 "nbformat": 4,
 "nbformat_minor": 5
}
