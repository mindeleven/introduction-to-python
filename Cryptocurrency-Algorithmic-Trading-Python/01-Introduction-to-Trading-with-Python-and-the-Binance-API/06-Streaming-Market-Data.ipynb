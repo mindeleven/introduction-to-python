{
 "cells": [
  {
   "cell_type": "markdown",
   "id": "eaed2413",
   "metadata": {},
   "source": [
    "## Streaming Market Data (Part 1)"
   ]
  },
  {
   "cell_type": "code",
   "execution_count": null,
   "id": "9c09ff7e",
   "metadata": {},
   "outputs": [],
   "source": [
    "from binance import ThreadedWebsocketManager\n",
    "import pandas as pd"
   ]
  },
  {
   "cell_type": "code",
   "execution_count": null,
   "id": "68644a59",
   "metadata": {},
   "outputs": [],
   "source": [
    "# define simple callback function to print message from live stream\n",
    "def stream_data(msg):\n",
    "    ''' define how to process incoming WebSocket messages '''\n",
    "    print(msg)"
   ]
  },
  {
   "cell_type": "code",
   "execution_count": null,
   "id": "a547c153",
   "metadata": {},
   "outputs": [],
   "source": [
    "# initialize and start the WebSocket\n",
    "twm = ThreadedWebsocketManager()\n",
    "twm.start()"
   ]
  },
  {
   "cell_type": "code",
   "execution_count": null,
   "id": "30c0aef5",
   "metadata": {},
   "outputs": [],
   "source": [
    "twm"
   ]
  },
  {
   "cell_type": "markdown",
   "id": "b220361c",
   "metadata": {},
   "source": [
    "**Different market streams available:** [https://binance-docs.github.io/apidocs/spot/en/#websocket-market-streams](https://binance-docs.github.io/apidocs/spot/en/#websocket-market-streams)\n",
    "\n",
    "**[Individual Symbol Mini Ticker](https://binance-docs.github.io/apidocs/spot/en/#individual-symbol-mini-ticker-stream):** 24hr rolling window mini-ticker statistics. These are NOT the statistics of the UTC day, but a 24hr rolling window for the previous 24hrs."
   ]
  },
  {
   "cell_type": "code",
   "execution_count": null,
   "id": "7c44ea48",
   "metadata": {},
   "outputs": [],
   "source": [
    "# subscribe to a market stream for the Bitcoin/USTether pair\n",
    "# callback function defines how we process the incoming message\n",
    "twm.start_symbol_miniticker_socket(callback = stream_data, symbol = \"BTCUSDT\")"
   ]
  },
  {
   "cell_type": "code",
   "execution_count": null,
   "id": "5bae6092",
   "metadata": {},
   "outputs": [],
   "source": [
    "twm.stop()"
   ]
  },
  {
   "cell_type": "markdown",
   "id": "4777dcb4",
   "metadata": {},
   "source": [
    "## Individual Symbol Mini Ticker Output/Message"
   ]
  },
  {
   "cell_type": "markdown",
   "id": "d30b0089",
   "metadata": {},
   "source": [
    "![Individual Symbol Mini Ticker Output/Message](../../Assets/Images/individual-mini-ticker-symbol-output.png)"
   ]
  },
  {
   "cell_type": "markdown",
   "id": "21cf8628",
   "metadata": {},
   "source": [
    "## Streaming Market Data (Part 2)"
   ]
  },
  {
   "cell_type": "code",
   "execution_count": null,
   "id": "d788aa50",
   "metadata": {},
   "outputs": [],
   "source": [
    "# modifying callback function with some more functionality\n",
    "def stream_data(msg):\n",
    "    ''' define how to process incoming WebSocket messages '''\n",
    "    # select event time and transform it to datetime\n",
    "    # see image above for data rows\n",
    "    time = pd.to_datetime(msg[\"E\"], unit = \"ms\")\n",
    "    # save close price\n",
    "    price = msg[\"c\"]\n",
    "    \n",
    "    print(\"Time: {} | Price: {}\".format(time, price))"
   ]
  },
  {
   "cell_type": "code",
   "execution_count": null,
   "id": "3bcdcec8",
   "metadata": {},
   "outputs": [],
   "source": [
    "# initialize and start the WebSocket\n",
    "twm = ThreadedWebsocketManager()\n",
    "twm.start()"
   ]
  },
  {
   "cell_type": "code",
   "execution_count": null,
   "id": "0b87dbbd",
   "metadata": {},
   "outputs": [],
   "source": [
    "twm.start_symbol_miniticker_socket(callback = stream_data, symbol = \"BTCUSDT\")"
   ]
  },
  {
   "cell_type": "code",
   "execution_count": null,
   "id": "cd297d63",
   "metadata": {},
   "outputs": [],
   "source": [
    "twm.stop()"
   ]
  },
  {
   "cell_type": "code",
   "execution_count": null,
   "id": "bc447dee",
   "metadata": {},
   "outputs": [],
   "source": []
  }
 ],
 "metadata": {
  "kernelspec": {
   "display_name": "Python 3 (ipykernel)",
   "language": "python",
   "name": "python3"
  },
  "language_info": {
   "codemirror_mode": {
    "name": "ipython",
    "version": 3
   },
   "file_extension": ".py",
   "mimetype": "text/x-python",
   "name": "python",
   "nbconvert_exporter": "python",
   "pygments_lexer": "ipython3",
   "version": "3.9.10"
  }
 },
 "nbformat": 4,
 "nbformat_minor": 5
}
