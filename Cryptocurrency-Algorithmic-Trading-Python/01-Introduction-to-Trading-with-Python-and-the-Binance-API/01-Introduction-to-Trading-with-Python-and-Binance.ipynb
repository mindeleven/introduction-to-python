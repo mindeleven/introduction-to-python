{
 "cells": [
  {
   "cell_type": "markdown",
   "id": "a6aceaa8",
   "metadata": {},
   "source": [
    "# Trading with Python and Binance - Introduction to the API"
   ]
  },
  {
   "cell_type": "markdown",
   "id": "bd06baad",
   "metadata": {},
   "source": [
    "__Python-Binance official API documentation site:__<br>\n",
    "https://python-binance.readthedocs.io/en/latest/"
   ]
  },
  {
   "cell_type": "markdown",
   "id": "8afe1faf",
   "metadata": {},
   "source": [
    "__Python-Binance API wrapper documentation site:__<br>\n",
    "https://binance-docs.github.io/apidocs/spot/en/#introduction"
   ]
  },
  {
   "cell_type": "code",
   "execution_count": null,
   "id": "1f51e73e",
   "metadata": {},
   "outputs": [],
   "source": [
    "import pandas as pd"
   ]
  },
  {
   "cell_type": "code",
   "execution_count": null,
   "id": "b35cb3c3",
   "metadata": {},
   "outputs": [],
   "source": [
    "keys = pd.read_csv(\"~/Documents/temp/bnc/api_key.txt\", sep=\" \", header=None)"
   ]
  },
  {
   "cell_type": "code",
   "execution_count": null,
   "id": "88fd528d",
   "metadata": {},
   "outputs": [],
   "source": [
    "api_key = keys[0][0]\n",
    "secret_key = keys[0][1]"
   ]
  },
  {
   "cell_type": "code",
   "execution_count": null,
   "id": "66e95dcd",
   "metadata": {},
   "outputs": [],
   "source": [
    "from binance.client import Client"
   ]
  },
  {
   "cell_type": "markdown",
   "id": "840f50f7",
   "metadata": {},
   "source": [
    "Connecting to the account on Binance.com"
   ]
  },
  {
   "cell_type": "code",
   "execution_count": null,
   "id": "13f16735",
   "metadata": {},
   "outputs": [],
   "source": [
    "client = Client(api_key = api_key, api_secret = secret_key, tld = \"com\")"
   ]
  },
  {
   "cell_type": "code",
   "execution_count": null,
   "id": "0e798e57",
   "metadata": {},
   "outputs": [],
   "source": [
    "client.ping()"
   ]
  },
  {
   "cell_type": "code",
   "execution_count": null,
   "id": "aecef4b0",
   "metadata": {},
   "outputs": [],
   "source": [
    "client"
   ]
  },
  {
   "cell_type": "code",
   "execution_count": null,
   "id": "ad0a2b87",
   "metadata": {},
   "outputs": [],
   "source": [
    "client.get_system_status()"
   ]
  },
  {
   "cell_type": "code",
   "execution_count": null,
   "id": "b7ffc9f6",
   "metadata": {},
   "outputs": [],
   "source": [
    "account = client.get_account() # account details\n",
    "account"
   ]
  },
  {
   "cell_type": "code",
   "execution_count": null,
   "id": "af43a972",
   "metadata": {},
   "outputs": [],
   "source": [
    "account['accountType']"
   ]
  },
  {
   "cell_type": "code",
   "execution_count": null,
   "id": "eb87a13b",
   "metadata": {},
   "outputs": [],
   "source": [
    "pd.to_datetime(account[\"updateTime\"], unit = \"ms\") # Last update -> UTC time"
   ]
  },
  {
   "cell_type": "code",
   "execution_count": null,
   "id": "c85a2088",
   "metadata": {},
   "outputs": [],
   "source": [
    "account[\"balances\"] # asset balances as a dictonary "
   ]
  },
  {
   "cell_type": "code",
   "execution_count": null,
   "id": "b335a4f7",
   "metadata": {},
   "outputs": [],
   "source": [
    "df = pd.DataFrame(account[\"balances\"]) # asset balances converted to a data frame\n",
    "df"
   ]
  },
  {
   "cell_type": "code",
   "execution_count": null,
   "id": "d4a232e8",
   "metadata": {},
   "outputs": [],
   "source": [
    "df.info()"
   ]
  },
  {
   "cell_type": "code",
   "execution_count": null,
   "id": "996116ab",
   "metadata": {},
   "outputs": [],
   "source": [
    "df.free = pd.to_numeric(df.free, errors=\"coerce\")\n",
    "df.locked = pd.to_numeric(df.locked, errors=\"coerce\")"
   ]
  },
  {
   "cell_type": "code",
   "execution_count": null,
   "id": "5e45cb9d",
   "metadata": {},
   "outputs": [],
   "source": [
    "df.info()"
   ]
  },
  {
   "cell_type": "code",
   "execution_count": null,
   "id": "6dd5c34a",
   "metadata": {},
   "outputs": [],
   "source": [
    "df.loc[df.free > 0]"
   ]
  },
  {
   "cell_type": "code",
   "execution_count": null,
   "id": "69ab523f",
   "metadata": {},
   "outputs": [],
   "source": [
    "client.get_asset_balance(asset = 'BTC')"
   ]
  },
  {
   "cell_type": "code",
   "execution_count": null,
   "id": "93b10957",
   "metadata": {},
   "outputs": [],
   "source": [
    "client.get_asset_balance(asset = 'ETH')"
   ]
  },
  {
   "cell_type": "code",
   "execution_count": null,
   "id": "0430a004",
   "metadata": {},
   "outputs": [],
   "source": [
    "client.get_asset_balance(asset = 'EUR')"
   ]
  },
  {
   "cell_type": "code",
   "execution_count": null,
   "id": "8a1cb2c9",
   "metadata": {},
   "outputs": [],
   "source": [
    "float(client.get_asset_balance(asset = 'EUR')['free'])"
   ]
  },
  {
   "cell_type": "code",
   "execution_count": null,
   "id": "705246c7",
   "metadata": {},
   "outputs": [],
   "source": [
    "snap = client.get_account_snapshot(type = 'SPOT') # daily account snapshot\n",
    "snap"
   ]
  },
  {
   "cell_type": "code",
   "execution_count": null,
   "id": "8e3472e9",
   "metadata": {},
   "outputs": [],
   "source": [
    "snapshot_vos = pd.json_normalize(snap['snapshotVos'])\n",
    "snapshot_vos"
   ]
  },
  {
   "cell_type": "code",
   "execution_count": null,
   "id": "5393f4ac",
   "metadata": {},
   "outputs": [],
   "source": [
    "snapshot_vos.updateTime = pd.to_datetime(snapshot_vos['updateTime'], unit= 'ms')\n",
    "snapshot_vos"
   ]
  },
  {
   "cell_type": "code",
   "execution_count": null,
   "id": "e5fffda1",
   "metadata": {},
   "outputs": [],
   "source": [
    "snapshot_vos['data.balances'][0]"
   ]
  },
  {
   "cell_type": "code",
   "execution_count": null,
   "id": "7eb30dfc",
   "metadata": {},
   "outputs": [],
   "source": [
    "client.get_exchange_info()#['rateLimits'] # API limits"
   ]
  },
  {
   "cell_type": "code",
   "execution_count": null,
   "id": "4b13d262",
   "metadata": {},
   "outputs": [],
   "source": [
    "client.get_exchange_info()['rateLimits'] # API limits"
   ]
  },
  {
   "cell_type": "code",
   "execution_count": null,
   "id": "02f72590",
   "metadata": {},
   "outputs": [],
   "source": [
    "client.get_all_coins_info() # asset/coin info"
   ]
  },
  {
   "cell_type": "code",
   "execution_count": null,
   "id": "2ce0eb82",
   "metadata": {},
   "outputs": [],
   "source": [
    "coins = pd.DataFrame(client.get_all_coins_info()) # asset/coin info\n",
    "coins"
   ]
  },
  {
   "cell_type": "code",
   "execution_count": null,
   "id": "fa4f7152",
   "metadata": {},
   "outputs": [],
   "source": [
    "coins.loc[coins.coin == 'BTC']"
   ]
  },
  {
   "cell_type": "code",
   "execution_count": null,
   "id": "36d2fb5d",
   "metadata": {},
   "outputs": [],
   "source": [
    "coins.loc[coins.coin == 'EUR']"
   ]
  },
  {
   "cell_type": "code",
   "execution_count": null,
   "id": "90aa648f",
   "metadata": {},
   "outputs": [],
   "source": [
    "client.get_trade_fee(symbol = 'BTCUSDT')"
   ]
  },
  {
   "cell_type": "code",
   "execution_count": null,
   "id": "ab711f26",
   "metadata": {},
   "outputs": [],
   "source": [
    "client.get_trade_fee(symbol = 'BTCEUR')"
   ]
  },
  {
   "cell_type": "code",
   "execution_count": null,
   "id": "885e59ad",
   "metadata": {},
   "outputs": [],
   "source": [
    "client.get_trade_fee(symbol = 'BUSDUSDT') # zero commission for stable coin pairs"
   ]
  },
  {
   "cell_type": "code",
   "execution_count": null,
   "id": "68121304",
   "metadata": {},
   "outputs": [],
   "source": [
    "client.get_symbol_info(symbol = 'BTCEUR')"
   ]
  },
  {
   "cell_type": "code",
   "execution_count": null,
   "id": "821ed61b",
   "metadata": {},
   "outputs": [],
   "source": []
  }
 ],
 "metadata": {
  "kernelspec": {
   "display_name": "Python 3 (ipykernel)",
   "language": "python",
   "name": "python3"
  },
  "language_info": {
   "codemirror_mode": {
    "name": "ipython",
    "version": 3
   },
   "file_extension": ".py",
   "mimetype": "text/x-python",
   "name": "python",
   "nbconvert_exporter": "python",
   "pygments_lexer": "ipython3",
   "version": "3.9.10"
  }
 },
 "nbformat": 4,
 "nbformat_minor": 5
}
