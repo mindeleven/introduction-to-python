{
 "cells": [
  {
   "cell_type": "markdown",
   "id": "f48d7620",
   "metadata": {},
   "source": [
    "# Placing Limit Orders"
   ]
  },
  {
   "cell_type": "code",
   "execution_count": 86,
   "id": "852c5437",
   "metadata": {},
   "outputs": [],
   "source": [
    "from binance.client import Client\n",
    "import pandas as pd"
   ]
  },
  {
   "cell_type": "code",
   "execution_count": 87,
   "id": "08f494a4",
   "metadata": {},
   "outputs": [],
   "source": [
    "keys_test = pd.read_csv(\"~/Documents/temp/bnc/testnet_key.txt\", sep=\" \", header=None)\n",
    "api_key_test = keys_test[0][0]\n",
    "secret_key_test = keys_test[0][1]"
   ]
  },
  {
   "cell_type": "code",
   "execution_count": 88,
   "id": "481f48da",
   "metadata": {},
   "outputs": [],
   "source": [
    "# use your testnet credentials with testnet = True\n",
    "client = Client(api_key = api_key_test, api_secret = secret_key_test, tld = \"com\", testnet = True)"
   ]
  },
  {
   "cell_type": "code",
   "execution_count": 89,
   "id": "8e9faa11",
   "metadata": {},
   "outputs": [
    {
     "data": {
      "text/plain": [
       "{'makerCommission': 0,\n",
       " 'takerCommission': 0,\n",
       " 'buyerCommission': 0,\n",
       " 'sellerCommission': 0,\n",
       " 'canTrade': True,\n",
       " 'canWithdraw': False,\n",
       " 'canDeposit': False,\n",
       " 'updateTime': 1654519940797,\n",
       " 'accountType': 'SPOT',\n",
       " 'balances': [{'asset': 'BNB',\n",
       "   'free': '1000.00000000',\n",
       "   'locked': '0.00000000'},\n",
       "  {'asset': 'BTC', 'free': '1.21383800', 'locked': '0.00000000'},\n",
       "  {'asset': 'BUSD', 'free': '10000.00000000', 'locked': '0.00000000'},\n",
       "  {'asset': 'ETH', 'free': '100.00000000', 'locked': '0.00000000'},\n",
       "  {'asset': 'LTC', 'free': '500.00000000', 'locked': '0.00000000'},\n",
       "  {'asset': 'TRX', 'free': '500000.00000000', 'locked': '0.00000000'},\n",
       "  {'asset': 'USDT', 'free': '3315.13509034', 'locked': '0.00000000'},\n",
       "  {'asset': 'XRP', 'free': '50000.00000000', 'locked': '0.00000000'}],\n",
       " 'permissions': ['SPOT']}"
      ]
     },
     "execution_count": 89,
     "metadata": {},
     "output_type": "execute_result"
    }
   ],
   "source": [
    "client.get_account()"
   ]
  },
  {
   "cell_type": "code",
   "execution_count": 90,
   "id": "8583d536",
   "metadata": {},
   "outputs": [],
   "source": [
    "# checking the current price for Bitcoin/USTether\n",
    "current_price = client.get_symbol_ticker(symbol = \"BTCUSDT\") "
   ]
  },
  {
   "cell_type": "markdown",
   "id": "fa66c812",
   "metadata": {},
   "source": [
    "## Limit Buy Order"
   ]
  },
  {
   "cell_type": "markdown",
   "id": "9c0e18cd",
   "metadata": {},
   "source": [
    "The intention of a limit order is to buy the asset at a more favourable price. "
   ]
  },
  {
   "cell_type": "code",
   "execution_count": 91,
   "id": "e718daa0",
   "metadata": {},
   "outputs": [],
   "source": [
    "price = float(current_price[\"price\"])"
   ]
  },
  {
   "cell_type": "code",
   "execution_count": 92,
   "id": "1fbfa542",
   "metadata": {},
   "outputs": [
    {
     "data": {
      "text/plain": [
       "28265"
      ]
     },
     "execution_count": 92,
     "metadata": {},
     "output_type": "execute_result"
    }
   ],
   "source": [
    "# set a limit price that is 10% below the current price\n",
    "limit_price_1 = int(price - price*0.1)\n",
    "limit_price_1"
   ]
  },
  {
   "cell_type": "code",
   "execution_count": 94,
   "id": "284058e8",
   "metadata": {},
   "outputs": [],
   "source": [
    "# timeInForce specifies how long limit order is in force\n",
    "# GTC = good till cancel\n",
    "order_1 = client.create_order(\n",
    "    symbol = \"BTCUSDT\", side = \"BUY\", type = \"LIMIT\", \n",
    "    quantity = 0.01, timeInForce = \"GTC\", price = limit_price_1)"
   ]
  },
  {
   "cell_type": "code",
   "execution_count": 95,
   "id": "9c16add6",
   "metadata": {},
   "outputs": [
    {
     "data": {
      "text/plain": [
       "{'symbol': 'BTCUSDT',\n",
       " 'orderId': 13573689,\n",
       " 'orderListId': -1,\n",
       " 'clientOrderId': 'AruxwgWteO6BhGRAYRQtBM',\n",
       " 'transactTime': 1654520425909,\n",
       " 'price': '28265.00000000',\n",
       " 'origQty': '0.01000000',\n",
       " 'executedQty': '0.00000000',\n",
       " 'cummulativeQuoteQty': '0.00000000',\n",
       " 'status': 'NEW',\n",
       " 'timeInForce': 'GTC',\n",
       " 'type': 'LIMIT',\n",
       " 'side': 'BUY',\n",
       " 'fills': []}"
      ]
     },
     "execution_count": 95,
     "metadata": {},
     "output_type": "execute_result"
    }
   ],
   "source": [
    "order_1"
   ]
  },
  {
   "cell_type": "code",
   "execution_count": 96,
   "id": "690ef19c",
   "metadata": {},
   "outputs": [
    {
     "data": {
      "text/plain": [
       "13573689"
      ]
     },
     "execution_count": 96,
     "metadata": {},
     "output_type": "execute_result"
    }
   ],
   "source": [
    "order_id_buy = order_1[\"orderId\"]\n",
    "order_id_buy"
   ]
  },
  {
   "cell_type": "code",
   "execution_count": 97,
   "id": "809d9492",
   "metadata": {},
   "outputs": [
    {
     "data": {
      "text/plain": [
       "{'symbol': 'BTCUSDT',\n",
       " 'orderId': 13573689,\n",
       " 'orderListId': -1,\n",
       " 'clientOrderId': 'AruxwgWteO6BhGRAYRQtBM',\n",
       " 'price': '28265.00000000',\n",
       " 'origQty': '0.01000000',\n",
       " 'executedQty': '0.00000000',\n",
       " 'cummulativeQuoteQty': '0.00000000',\n",
       " 'status': 'NEW',\n",
       " 'timeInForce': 'GTC',\n",
       " 'type': 'LIMIT',\n",
       " 'side': 'BUY',\n",
       " 'stopPrice': '0.00000000',\n",
       " 'icebergQty': '0.00000000',\n",
       " 'time': 1654520425909,\n",
       " 'updateTime': 1654520425909,\n",
       " 'isWorking': True,\n",
       " 'origQuoteOrderQty': '0.00000000'}"
      ]
     },
     "execution_count": 97,
     "metadata": {},
     "output_type": "execute_result"
    }
   ],
   "source": [
    "# get continiously more information about the order using the order id\n",
    "client.get_order(symbol = \"BTCUSDT\", orderId = order_id_buy)"
   ]
  },
  {
   "cell_type": "markdown",
   "id": "d2e795c2",
   "metadata": {},
   "source": [
    "## Limit Sell Order"
   ]
  },
  {
   "cell_type": "code",
   "execution_count": 98,
   "id": "e085e704",
   "metadata": {},
   "outputs": [],
   "source": [
    "# checking the current price for Bitcoin/USTether\n",
    "current_price = client.get_symbol_ticker(symbol = \"BTCUSDT\") "
   ]
  },
  {
   "cell_type": "code",
   "execution_count": 99,
   "id": "3f70d42e",
   "metadata": {},
   "outputs": [
    {
     "data": {
      "text/plain": [
       "31392.6"
      ]
     },
     "execution_count": 99,
     "metadata": {},
     "output_type": "execute_result"
    }
   ],
   "source": [
    "price = float(current_price[\"price\"])\n",
    "price"
   ]
  },
  {
   "cell_type": "code",
   "execution_count": 100,
   "id": "71870aac",
   "metadata": {},
   "outputs": [
    {
     "data": {
      "text/plain": [
       "34531"
      ]
     },
     "execution_count": 100,
     "metadata": {},
     "output_type": "execute_result"
    }
   ],
   "source": [
    "# set a limit price that is 10% above the current price\n",
    "limit_price_2 = int(price + price*0.1)\n",
    "limit_price_2"
   ]
  },
  {
   "cell_type": "code",
   "execution_count": 101,
   "id": "6fc1d165",
   "metadata": {},
   "outputs": [],
   "source": [
    "# timeInForce specifies how long limit order is in force\n",
    "# GTC = good till cancel\n",
    "order_2 = client.create_order(\n",
    "    symbol = \"BTCUSDT\", side = \"SELL\", type = \"LIMIT\", \n",
    "    quantity = 0.1, timeInForce = \"GTC\", price = limit_price_2)"
   ]
  },
  {
   "cell_type": "code",
   "execution_count": 102,
   "id": "cde95296",
   "metadata": {},
   "outputs": [
    {
     "data": {
      "text/plain": [
       "{'symbol': 'BTCUSDT',\n",
       " 'orderId': 13573810,\n",
       " 'orderListId': -1,\n",
       " 'clientOrderId': 'JFNX7brYhoCfViQlsqODUy',\n",
       " 'transactTime': 1654520450155,\n",
       " 'price': '34531.00000000',\n",
       " 'origQty': '0.10000000',\n",
       " 'executedQty': '0.00000000',\n",
       " 'cummulativeQuoteQty': '0.00000000',\n",
       " 'status': 'NEW',\n",
       " 'timeInForce': 'GTC',\n",
       " 'type': 'LIMIT',\n",
       " 'side': 'SELL',\n",
       " 'fills': []}"
      ]
     },
     "execution_count": 102,
     "metadata": {},
     "output_type": "execute_result"
    }
   ],
   "source": [
    "order_2"
   ]
  },
  {
   "cell_type": "code",
   "execution_count": 103,
   "id": "7c7474a6",
   "metadata": {},
   "outputs": [
    {
     "data": {
      "text/plain": [
       "13573810"
      ]
     },
     "execution_count": 103,
     "metadata": {},
     "output_type": "execute_result"
    }
   ],
   "source": [
    "order_id_sell = order_2[\"orderId\"]\n",
    "order_id_sell"
   ]
  },
  {
   "cell_type": "code",
   "execution_count": 104,
   "id": "ff8a0084",
   "metadata": {},
   "outputs": [
    {
     "data": {
      "text/plain": [
       "[{'symbol': 'BTCUSDT',\n",
       "  'orderId': 13573689,\n",
       "  'orderListId': -1,\n",
       "  'clientOrderId': 'AruxwgWteO6BhGRAYRQtBM',\n",
       "  'price': '28265.00000000',\n",
       "  'origQty': '0.01000000',\n",
       "  'executedQty': '0.00000000',\n",
       "  'cummulativeQuoteQty': '0.00000000',\n",
       "  'status': 'NEW',\n",
       "  'timeInForce': 'GTC',\n",
       "  'type': 'LIMIT',\n",
       "  'side': 'BUY',\n",
       "  'stopPrice': '0.00000000',\n",
       "  'icebergQty': '0.00000000',\n",
       "  'time': 1654520425909,\n",
       "  'updateTime': 1654520425909,\n",
       "  'isWorking': True,\n",
       "  'origQuoteOrderQty': '0.00000000'},\n",
       " {'symbol': 'BTCUSDT',\n",
       "  'orderId': 13573810,\n",
       "  'orderListId': -1,\n",
       "  'clientOrderId': 'JFNX7brYhoCfViQlsqODUy',\n",
       "  'price': '34531.00000000',\n",
       "  'origQty': '0.10000000',\n",
       "  'executedQty': '0.00000000',\n",
       "  'cummulativeQuoteQty': '0.00000000',\n",
       "  'status': 'NEW',\n",
       "  'timeInForce': 'GTC',\n",
       "  'type': 'LIMIT',\n",
       "  'side': 'SELL',\n",
       "  'stopPrice': '0.00000000',\n",
       "  'icebergQty': '0.00000000',\n",
       "  'time': 1654520450155,\n",
       "  'updateTime': 1654520450155,\n",
       "  'isWorking': True,\n",
       "  'origQuoteOrderQty': '0.00000000'}]"
      ]
     },
     "execution_count": 104,
     "metadata": {},
     "output_type": "execute_result"
    }
   ],
   "source": [
    "open_orders = client.get_open_orders(symbol = \"BTCUSDT\")\n",
    "open_orders"
   ]
  },
  {
   "cell_type": "code",
   "execution_count": 105,
   "id": "00fa7b1e",
   "metadata": {},
   "outputs": [
    {
     "data": {
      "text/html": [
       "<div>\n",
       "<style scoped>\n",
       "    .dataframe tbody tr th:only-of-type {\n",
       "        vertical-align: middle;\n",
       "    }\n",
       "\n",
       "    .dataframe tbody tr th {\n",
       "        vertical-align: top;\n",
       "    }\n",
       "\n",
       "    .dataframe thead th {\n",
       "        text-align: right;\n",
       "    }\n",
       "</style>\n",
       "<table border=\"1\" class=\"dataframe\">\n",
       "  <thead>\n",
       "    <tr style=\"text-align: right;\">\n",
       "      <th></th>\n",
       "      <th>symbol</th>\n",
       "      <th>orderId</th>\n",
       "      <th>orderListId</th>\n",
       "      <th>clientOrderId</th>\n",
       "      <th>price</th>\n",
       "      <th>origQty</th>\n",
       "      <th>executedQty</th>\n",
       "      <th>cummulativeQuoteQty</th>\n",
       "      <th>status</th>\n",
       "      <th>timeInForce</th>\n",
       "      <th>type</th>\n",
       "      <th>side</th>\n",
       "      <th>stopPrice</th>\n",
       "      <th>icebergQty</th>\n",
       "      <th>time</th>\n",
       "      <th>updateTime</th>\n",
       "      <th>isWorking</th>\n",
       "      <th>origQuoteOrderQty</th>\n",
       "    </tr>\n",
       "  </thead>\n",
       "  <tbody>\n",
       "    <tr>\n",
       "      <th>0</th>\n",
       "      <td>BTCUSDT</td>\n",
       "      <td>13573689</td>\n",
       "      <td>-1</td>\n",
       "      <td>AruxwgWteO6BhGRAYRQtBM</td>\n",
       "      <td>28265.00000000</td>\n",
       "      <td>0.01000000</td>\n",
       "      <td>0.00000000</td>\n",
       "      <td>0.00000000</td>\n",
       "      <td>NEW</td>\n",
       "      <td>GTC</td>\n",
       "      <td>LIMIT</td>\n",
       "      <td>BUY</td>\n",
       "      <td>0.00000000</td>\n",
       "      <td>0.00000000</td>\n",
       "      <td>1654520425909</td>\n",
       "      <td>1654520425909</td>\n",
       "      <td>True</td>\n",
       "      <td>0.00000000</td>\n",
       "    </tr>\n",
       "    <tr>\n",
       "      <th>1</th>\n",
       "      <td>BTCUSDT</td>\n",
       "      <td>13573810</td>\n",
       "      <td>-1</td>\n",
       "      <td>JFNX7brYhoCfViQlsqODUy</td>\n",
       "      <td>34531.00000000</td>\n",
       "      <td>0.10000000</td>\n",
       "      <td>0.00000000</td>\n",
       "      <td>0.00000000</td>\n",
       "      <td>NEW</td>\n",
       "      <td>GTC</td>\n",
       "      <td>LIMIT</td>\n",
       "      <td>SELL</td>\n",
       "      <td>0.00000000</td>\n",
       "      <td>0.00000000</td>\n",
       "      <td>1654520450155</td>\n",
       "      <td>1654520450155</td>\n",
       "      <td>True</td>\n",
       "      <td>0.00000000</td>\n",
       "    </tr>\n",
       "  </tbody>\n",
       "</table>\n",
       "</div>"
      ],
      "text/plain": [
       "    symbol   orderId  orderListId           clientOrderId           price  \\\n",
       "0  BTCUSDT  13573689           -1  AruxwgWteO6BhGRAYRQtBM  28265.00000000   \n",
       "1  BTCUSDT  13573810           -1  JFNX7brYhoCfViQlsqODUy  34531.00000000   \n",
       "\n",
       "      origQty executedQty cummulativeQuoteQty status timeInForce   type  side  \\\n",
       "0  0.01000000  0.00000000          0.00000000    NEW         GTC  LIMIT   BUY   \n",
       "1  0.10000000  0.00000000          0.00000000    NEW         GTC  LIMIT  SELL   \n",
       "\n",
       "    stopPrice  icebergQty           time     updateTime  isWorking  \\\n",
       "0  0.00000000  0.00000000  1654520425909  1654520425909       True   \n",
       "1  0.00000000  0.00000000  1654520450155  1654520450155       True   \n",
       "\n",
       "  origQuoteOrderQty  \n",
       "0        0.00000000  \n",
       "1        0.00000000  "
      ]
     },
     "execution_count": 105,
     "metadata": {},
     "output_type": "execute_result"
    }
   ],
   "source": [
    "pd.DataFrame(open_orders)"
   ]
  },
  {
   "cell_type": "code",
   "execution_count": 106,
   "id": "8b090056",
   "metadata": {},
   "outputs": [
    {
     "data": {
      "text/plain": [
       "{'symbol': 'BTCUSDT',\n",
       " 'origClientOrderId': 'AruxwgWteO6BhGRAYRQtBM',\n",
       " 'orderId': 13573689,\n",
       " 'orderListId': -1,\n",
       " 'clientOrderId': 'dc7SYRvzNJuvYio1Z1sxKr',\n",
       " 'price': '28265.00000000',\n",
       " 'origQty': '0.01000000',\n",
       " 'executedQty': '0.00000000',\n",
       " 'cummulativeQuoteQty': '0.00000000',\n",
       " 'status': 'CANCELED',\n",
       " 'timeInForce': 'GTC',\n",
       " 'type': 'LIMIT',\n",
       " 'side': 'BUY'}"
      ]
     },
     "execution_count": 106,
     "metadata": {},
     "output_type": "execute_result"
    }
   ],
   "source": [
    "result = client.cancel_order(symbol = \"BTCUSDT\", orderId = order_id_buy)\n",
    "result"
   ]
  },
  {
   "cell_type": "code",
   "execution_count": 107,
   "id": "75dd5874",
   "metadata": {},
   "outputs": [
    {
     "data": {
      "text/plain": [
       "{'symbol': 'BTCUSDT',\n",
       " 'origClientOrderId': 'JFNX7brYhoCfViQlsqODUy',\n",
       " 'orderId': 13573810,\n",
       " 'orderListId': -1,\n",
       " 'clientOrderId': 'gqw2pnXVZyMnRWcOKZnudn',\n",
       " 'price': '34531.00000000',\n",
       " 'origQty': '0.10000000',\n",
       " 'executedQty': '0.00000000',\n",
       " 'cummulativeQuoteQty': '0.00000000',\n",
       " 'status': 'CANCELED',\n",
       " 'timeInForce': 'GTC',\n",
       " 'type': 'LIMIT',\n",
       " 'side': 'SELL'}"
      ]
     },
     "execution_count": 107,
     "metadata": {},
     "output_type": "execute_result"
    }
   ],
   "source": [
    "result = client.cancel_order(symbol = \"BTCUSDT\", orderId = order_id_sell)\n",
    "result"
   ]
  },
  {
   "cell_type": "code",
   "execution_count": 108,
   "id": "94ccbd26",
   "metadata": {},
   "outputs": [
    {
     "data": {
      "text/plain": [
       "[]"
      ]
     },
     "execution_count": 108,
     "metadata": {},
     "output_type": "execute_result"
    }
   ],
   "source": [
    "open_orders = client.get_open_orders(symbol = \"BTCUSDT\")\n",
    "open_orders"
   ]
  },
  {
   "cell_type": "code",
   "execution_count": 109,
   "id": "bbd06a4d",
   "metadata": {},
   "outputs": [
    {
     "data": {
      "text/html": [
       "<div>\n",
       "<style scoped>\n",
       "    .dataframe tbody tr th:only-of-type {\n",
       "        vertical-align: middle;\n",
       "    }\n",
       "\n",
       "    .dataframe tbody tr th {\n",
       "        vertical-align: top;\n",
       "    }\n",
       "\n",
       "    .dataframe thead th {\n",
       "        text-align: right;\n",
       "    }\n",
       "</style>\n",
       "<table border=\"1\" class=\"dataframe\">\n",
       "  <thead>\n",
       "    <tr style=\"text-align: right;\">\n",
       "      <th></th>\n",
       "    </tr>\n",
       "  </thead>\n",
       "  <tbody>\n",
       "  </tbody>\n",
       "</table>\n",
       "</div>"
      ],
      "text/plain": [
       "Empty DataFrame\n",
       "Columns: []\n",
       "Index: []"
      ]
     },
     "execution_count": 109,
     "metadata": {},
     "output_type": "execute_result"
    }
   ],
   "source": [
    "pd.DataFrame(open_orders)"
   ]
  },
  {
   "cell_type": "code",
   "execution_count": null,
   "id": "14013efa",
   "metadata": {},
   "outputs": [],
   "source": []
  }
 ],
 "metadata": {
  "kernelspec": {
   "display_name": "Python 3 (ipykernel)",
   "language": "python",
   "name": "python3"
  },
  "language_info": {
   "codemirror_mode": {
    "name": "ipython",
    "version": 3
   },
   "file_extension": ".py",
   "mimetype": "text/x-python",
   "name": "python",
   "nbconvert_exporter": "python",
   "pygments_lexer": "ipython3",
   "version": "3.9.10"
  }
 },
 "nbformat": 4,
 "nbformat_minor": 5
}
