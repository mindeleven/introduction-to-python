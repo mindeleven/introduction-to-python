{
 "cells": [
  {
   "cell_type": "markdown",
   "id": "7c6f90a3",
   "metadata": {},
   "source": [
    "# Investment Multiple and CAGR (Compound Annual Growth Rate)"
   ]
  },
  {
   "cell_type": "markdown",
   "id": "cd429141",
   "metadata": {},
   "source": [
    "### Two alternative reward metrics that are more intuitive and easier to interpret (compared to the arithmetic mean)."
   ]
  },
  {
   "cell_type": "code",
   "execution_count": 1,
   "id": "e7b0293e",
   "metadata": {},
   "outputs": [],
   "source": [
    "import pandas as pd\n",
    "import numpy as np\n",
    "import matplotlib.pyplot as plt\n",
    "pd.options.display.float_format = '{:.4f}'.format\n",
    "plt.style.use(\"seaborn\")"
   ]
  },
  {
   "cell_type": "code",
   "execution_count": 2,
   "id": "5e37e0e8",
   "metadata": {},
   "outputs": [
    {
     "data": {
      "text/html": [
       "<div>\n",
       "<style scoped>\n",
       "    .dataframe tbody tr th:only-of-type {\n",
       "        vertical-align: middle;\n",
       "    }\n",
       "\n",
       "    .dataframe tbody tr th {\n",
       "        vertical-align: top;\n",
       "    }\n",
       "\n",
       "    .dataframe thead th {\n",
       "        text-align: right;\n",
       "    }\n",
       "</style>\n",
       "<table border=\"1\" class=\"dataframe\">\n",
       "  <thead>\n",
       "    <tr style=\"text-align: right;\">\n",
       "      <th></th>\n",
       "      <th>Price</th>\n",
       "      <th>Returns</th>\n",
       "    </tr>\n",
       "    <tr>\n",
       "      <th>Date</th>\n",
       "      <th></th>\n",
       "      <th></th>\n",
       "    </tr>\n",
       "  </thead>\n",
       "  <tbody>\n",
       "    <tr>\n",
       "      <th>2014-09-30</th>\n",
       "      <td>46.3600</td>\n",
       "      <td>NaN</td>\n",
       "    </tr>\n",
       "    <tr>\n",
       "      <th>2014-10-01</th>\n",
       "      <td>45.9000</td>\n",
       "      <td>-0.0099</td>\n",
       "    </tr>\n",
       "    <tr>\n",
       "      <th>2014-10-02</th>\n",
       "      <td>45.7600</td>\n",
       "      <td>-0.0031</td>\n",
       "    </tr>\n",
       "    <tr>\n",
       "      <th>2014-10-03</th>\n",
       "      <td>46.0900</td>\n",
       "      <td>0.0072</td>\n",
       "    </tr>\n",
       "    <tr>\n",
       "      <th>2014-10-06</th>\n",
       "      <td>46.0900</td>\n",
       "      <td>0.0000</td>\n",
       "    </tr>\n",
       "    <tr>\n",
       "      <th>...</th>\n",
       "      <td>...</td>\n",
       "      <td>...</td>\n",
       "    </tr>\n",
       "    <tr>\n",
       "      <th>2021-05-24</th>\n",
       "      <td>250.7800</td>\n",
       "      <td>0.0229</td>\n",
       "    </tr>\n",
       "    <tr>\n",
       "      <th>2021-05-25</th>\n",
       "      <td>251.7200</td>\n",
       "      <td>0.0037</td>\n",
       "    </tr>\n",
       "    <tr>\n",
       "      <th>2021-05-26</th>\n",
       "      <td>251.4900</td>\n",
       "      <td>-0.0009</td>\n",
       "    </tr>\n",
       "    <tr>\n",
       "      <th>2021-05-27</th>\n",
       "      <td>249.3100</td>\n",
       "      <td>-0.0087</td>\n",
       "    </tr>\n",
       "    <tr>\n",
       "      <th>2021-05-28</th>\n",
       "      <td>249.6800</td>\n",
       "      <td>0.0015</td>\n",
       "    </tr>\n",
       "  </tbody>\n",
       "</table>\n",
       "<p>1678 rows × 2 columns</p>\n",
       "</div>"
      ],
      "text/plain": [
       "              Price  Returns\n",
       "Date                        \n",
       "2014-09-30  46.3600      NaN\n",
       "2014-10-01  45.9000  -0.0099\n",
       "2014-10-02  45.7600  -0.0031\n",
       "2014-10-03  46.0900   0.0072\n",
       "2014-10-06  46.0900   0.0000\n",
       "...             ...      ...\n",
       "2021-05-24 250.7800   0.0229\n",
       "2021-05-25 251.7200   0.0037\n",
       "2021-05-26 251.4900  -0.0009\n",
       "2021-05-27 249.3100  -0.0087\n",
       "2021-05-28 249.6800   0.0015\n",
       "\n",
       "[1678 rows x 2 columns]"
      ]
     },
     "execution_count": 2,
     "metadata": {},
     "output_type": "execute_result"
    }
   ],
   "source": [
    "msft = pd.read_csv(\"../../Assets/Data-Files/msft.csv\", index_col = \"Date\", parse_dates = [\"Date\"])\n",
    "msft"
   ]
  },
  {
   "cell_type": "markdown",
   "id": "c946c1e3",
   "metadata": {},
   "source": [
    "**Investment Multiple:** Ending Value of 1 (Dollar, Euro, etc.) invested.  \n",
    "Multiple = Ending Value / Initial Value"
   ]
  },
  {
   "cell_type": "code",
   "execution_count": 5,
   "id": "b731e945",
   "metadata": {},
   "outputs": [
    {
     "data": {
      "text/plain": [
       "5.3856770791334085"
      ]
     },
     "execution_count": 5,
     "metadata": {},
     "output_type": "execute_result"
    }
   ],
   "source": [
    "# last price of a given period divided by the first price returns the multiple\n",
    "multiple = (msft.Price[-1] / msft.Price[0])\n",
    "multiple # result is the ending value of one dollar invested"
   ]
  },
  {
   "cell_type": "markdown",
   "id": "b8646088",
   "metadata": {},
   "source": [
    "**Price Increase (in %)**"
   ]
  },
  {
   "cell_type": "code",
   "execution_count": 7,
   "id": "e8825873",
   "metadata": {},
   "outputs": [
    {
     "data": {
      "text/plain": [
       "438.5677079133409"
      ]
     },
     "execution_count": 7,
     "metadata": {},
     "output_type": "execute_result"
    }
   ],
   "source": [
    "# calculate the increase in percent\n",
    "(multiple - 1) * 100 # the invested dollar gets subtracted from the multiple"
   ]
  },
  {
   "cell_type": "code",
   "execution_count": 9,
   "id": "4e92d1e4",
   "metadata": {},
   "outputs": [
    {
     "data": {
      "text/plain": [
       "Date\n",
       "2014-09-30   1.0000\n",
       "2014-10-01   0.9901\n",
       "2014-10-02   0.9871\n",
       "2014-10-03   0.9942\n",
       "2014-10-06   0.9942\n",
       "              ...  \n",
       "2021-05-24   5.4094\n",
       "2021-05-25   5.4297\n",
       "2021-05-26   5.4247\n",
       "2021-05-27   5.3777\n",
       "2021-05-28   5.3857\n",
       "Name: Price, Length: 1678, dtype: float64"
      ]
     },
     "execution_count": 9,
     "metadata": {},
     "output_type": "execute_result"
    }
   ],
   "source": [
    "# similar (not identical) concept: Normalized Price with a Base Value 1\n",
    "msft.Price / msft.Price[0] # last value is equivalent to multiple"
   ]
  },
  {
   "cell_type": "markdown",
   "id": "e1007491",
   "metadata": {},
   "source": [
    "**Drawback of Investment Multiple:** Doesn't take into account investment period (5.38 is great over seven years but not so great over 100 years). Meaningful only in conjunction with investment period (this means investment period has to be taken into account which is the benefit of the CAGR)."
   ]
  },
  {
   "cell_type": "markdown",
   "id": "4c0ee5e4",
   "metadata": {},
   "source": [
    "<font size=\"4\" style=\"line-height:1.3\">**Compound Annual Growth Rate (CAGR):** The (constant annual) rate of return that would be required for an investment to grow from its beginning balance to its ending balance, assuming the profits were reinvested at the end of each year of the investment's lifespan (Wikipedia).</font>"
   ]
  },
  {
   "cell_type": "code",
   "execution_count": 13,
   "id": "1a192717",
   "metadata": {},
   "outputs": [
    {
     "data": {
      "text/plain": [
       "Timestamp('2014-09-30 00:00:00')"
      ]
     },
     "execution_count": 13,
     "metadata": {},
     "output_type": "execute_result"
    }
   ],
   "source": [
    "start = msft.index[0]\n",
    "start"
   ]
  },
  {
   "cell_type": "code",
   "execution_count": 12,
   "id": "84d4ebab",
   "metadata": {},
   "outputs": [
    {
     "data": {
      "text/plain": [
       "Timestamp('2021-05-28 00:00:00')"
      ]
     },
     "execution_count": 12,
     "metadata": {},
     "output_type": "execute_result"
    }
   ],
   "source": [
    "end = msft.index[-1]\n",
    "end"
   ]
  },
  {
   "cell_type": "code",
   "execution_count": 17,
   "id": "9dfad60b",
   "metadata": {},
   "outputs": [
    {
     "data": {
      "text/plain": [
       "Timedelta('2432 days 00:00:00')"
      ]
     },
     "execution_count": 17,
     "metadata": {},
     "output_type": "execute_result"
    }
   ],
   "source": [
    "# timestamp objects can be subtracted\n",
    "td = end - start\n",
    "td # returns a timedelta object"
   ]
  },
  {
   "cell_type": "code",
   "execution_count": 15,
   "id": "2d108371",
   "metadata": {},
   "outputs": [
    {
     "data": {
      "text/plain": [
       "6.658453114305271"
      ]
     },
     "execution_count": 15,
     "metadata": {},
     "output_type": "execute_result"
    }
   ],
   "source": [
    "# timedelta divided by average number of years = 365.25\n",
    "td_years = td.days / 365.25\n",
    "td_years"
   ]
  },
  {
   "cell_type": "code",
   "execution_count": 19,
   "id": "c17ce19b",
   "metadata": {},
   "outputs": [
    {
     "data": {
      "text/plain": [
       "0.2877197304182786"
      ]
     },
     "execution_count": 19,
     "metadata": {},
     "output_type": "execute_result"
    }
   ],
   "source": [
    "# Compound Annual Growth Rate is the multiple to the power of one devided by the annual timedelta\n",
    "# and then subtracted by one\n",
    "cagr = multiple**(1 / td_years) - 1 #short version\n",
    "cagr"
   ]
  },
  {
   "cell_type": "code",
   "execution_count": 27,
   "id": "fdd15b75",
   "metadata": {},
   "outputs": [
    {
     "data": {
      "text/plain": [
       "0.2877197304182786"
      ]
     },
     "execution_count": 27,
     "metadata": {},
     "output_type": "execute_result"
    }
   ],
   "source": [
    "# more complex calculation with pandas data frame\n",
    "# (msft.Price[-1]/msft.Price[0]) calculates the multiple\n",
    "# then the timedelta divided by average number of years = 365.25 minus 1 is calculated\n",
    "cagr = (msft.Price[-1]/msft.Price[0])**(1/((msft.index[-1] - msft.index[0]).days / 365.25)) - 1 \n",
    "cagr"
   ]
  },
  {
   "cell_type": "code",
   "execution_count": 28,
   "id": "4e85434f",
   "metadata": {},
   "outputs": [
    {
     "data": {
      "text/plain": [
       "5.38567707913341"
      ]
     },
     "execution_count": 28,
     "metadata": {},
     "output_type": "execute_result"
    }
   ],
   "source": [
    "# inverse calculation, calculating multiple with cagr\n",
    "(1 + cagr)**(td_years) # alternative 2 to calculate multiple"
   ]
  },
  {
   "cell_type": "markdown",
   "id": "e002ebcd",
   "metadata": {},
   "source": [
    "**Take Home:** CAGR can be used to compare investments with different investment horizons."
   ]
  },
  {
   "cell_type": "code",
   "execution_count": null,
   "id": "27f03dd4",
   "metadata": {},
   "outputs": [],
   "source": []
  }
 ],
 "metadata": {
  "kernelspec": {
   "display_name": "Python 3 (ipykernel)",
   "language": "python",
   "name": "python3"
  },
  "language_info": {
   "codemirror_mode": {
    "name": "ipython",
    "version": 3
   },
   "file_extension": ".py",
   "mimetype": "text/x-python",
   "name": "python",
   "nbconvert_exporter": "python",
   "pygments_lexer": "ipython3",
   "version": "3.9.10"
  }
 },
 "nbformat": 4,
 "nbformat_minor": 5
}
