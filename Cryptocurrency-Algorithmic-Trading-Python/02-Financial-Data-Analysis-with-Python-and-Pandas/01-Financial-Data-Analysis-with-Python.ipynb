{
 "cells": [
  {
   "cell_type": "markdown",
   "id": "74a22a58",
   "metadata": {},
   "source": [
    "# Financial Data Analysis with Python - a Deep Dive"
   ]
  },
  {
   "cell_type": "code",
   "execution_count": null,
   "id": "944651ec",
   "metadata": {},
   "outputs": [],
   "source": [
    "import pandas as pd\n",
    "# import Yahoo finance API\n",
    "import yfinance as yf"
   ]
  },
  {
   "cell_type": "code",
   "execution_count": null,
   "id": "ea0ab7bf",
   "metadata": {},
   "outputs": [],
   "source": [
    "# set start and end date for time series\n",
    "start = \"2014-10-01\"\n",
    "end = \"2021-05-31\""
   ]
  },
  {
   "cell_type": "code",
   "execution_count": null,
   "id": "e155baa5",
   "metadata": {},
   "outputs": [],
   "source": [
    "# set ticker symbol of financial instrument\n",
    "# BA = The Boeing Company\n",
    "# can be searcherd at https://finance.yahoo.com/\n",
    "symbol = \"BA\""
   ]
  },
  {
   "cell_type": "code",
   "execution_count": null,
   "id": "d0f26f4d",
   "metadata": {},
   "outputs": [],
   "source": [
    "# download historical price data for Boeing\n",
    "# Boeing is a dividend paying stock therefore the adjusted close is lower than the close\n",
    "# open, high, low and close prices don't take into account dividend payouts\n",
    "# daily trading volume is in units (numbers of stocks that have been traded on a day)\n",
    "df = yf.download(symbol, start, end)\n",
    "df"
   ]
  },
  {
   "cell_type": "code",
   "execution_count": null,
   "id": "387540e1",
   "metadata": {},
   "outputs": [],
   "source": [
    "# get some meta information about the data frame\n",
    "df.info()"
   ]
  },
  {
   "cell_type": "code",
   "execution_count": null,
   "id": "2c91d484",
   "metadata": {},
   "outputs": [],
   "source": [
    "# drawing data for different ticker symbols at once\n",
    "symbol = [\"BA\", \"MSFT\", \"^DJI\", \"EURUSD=X\", \"GC=F\", \"BTC-USD\"]"
   ]
  },
  {
   "cell_type": "markdown",
   "id": "f8a801b4",
   "metadata": {},
   "source": [
    "Ticker Symbols:\n",
    "- **BA:** Boeing (US Stock)\n",
    "- **MSFT:** Microsoft Corp (US Stock)\n",
    "- **^DJI:** Dow Jones Industrial Average (US Stock Index)\n",
    "- **EURUSD=X:** Exchange Rate for Currency Pair EUR/USD (Forex)\n",
    "- **GC=F:** Gold Price (Precious Metal / Commodity)\n",
    "- **BTC-USD:** Bitcoin in USD (Cryptocurrency)"
   ]
  },
  {
   "cell_type": "code",
   "execution_count": null,
   "id": "0a0ada03",
   "metadata": {},
   "outputs": [],
   "source": [
    "df = yf.download(symbol, start, end)\n",
    "df"
   ]
  },
  {
   "cell_type": "code",
   "execution_count": null,
   "id": "da1b424c",
   "metadata": {},
   "outputs": [],
   "source": [
    "df.info()"
   ]
  },
  {
   "cell_type": "code",
   "execution_count": null,
   "id": "e0feb85f",
   "metadata": {},
   "outputs": [],
   "source": [
    "# saving the panda's data frame locally in a file\n",
    "df.to_csv(\"../../Assets/Data-Files/multi_assets.csv\")"
   ]
  },
  {
   "cell_type": "markdown",
   "id": "03e1455d",
   "metadata": {},
   "source": [
    "## Initial Inspection and Visualization"
   ]
  },
  {
   "cell_type": "code",
   "execution_count": null,
   "id": "9d597e1d",
   "metadata": {},
   "outputs": [],
   "source": [
    "import pandas as pd\n",
    "import matplotlib.pyplot as plt\n",
    "pd.options.display.float_format = '{:.4f}'.format\n",
    "plt.style.use(\"seaborn\")"
   ]
  },
  {
   "cell_type": "markdown",
   "id": "2cc98e68",
   "metadata": {},
   "source": [
    "Some more (advanced) techniques to load data into Pandas: https://blog.udemy.com/how-to-create-pandas-dataframes-a-hands-on-guide/"
   ]
  },
  {
   "cell_type": "code",
   "execution_count": null,
   "id": "1a6bcff1",
   "metadata": {},
   "outputs": [],
   "source": [
    "# load the data back into python and pandas\n",
    "# header = [0, 1] sets the first two rows to column headers\n",
    "# index_col = 0 moves date to the index\n",
    "# parse_dates transform date string to datetime index\n",
    "df = pd.read_csv(\"../../Assets/Data-Files/multi_assets.csv\", header = [0, 1], index_col = 0, parse_dates = [0])\n",
    "df"
   ]
  },
  {
   "cell_type": "code",
   "execution_count": null,
   "id": "43ece077",
   "metadata": {},
   "outputs": [],
   "source": [
    "df.info()"
   ]
  },
  {
   "cell_type": "code",
   "execution_count": null,
   "id": "dbdf9eb4",
   "metadata": {},
   "outputs": [],
   "source": [
    "# select data element in the outer index level\n",
    "df.Close"
   ]
  },
  {
   "cell_type": "code",
   "execution_count": null,
   "id": "f794cded",
   "metadata": {},
   "outputs": [],
   "source": [
    "# further slice data frame and select single column\n",
    "df.Close.BA # returns onedimensional labeled array"
   ]
  },
  {
   "cell_type": "code",
   "execution_count": null,
   "id": "20604f9b",
   "metadata": {},
   "outputs": [],
   "source": [
    "# second option how to select one column\n",
    "# DataFrame.loc accesses a group of rows and columns by label(s) or a boolean array\n",
    "# https://pandas.pydata.org/docs/reference/api/pandas.DataFrame.loc.html\n",
    "df.loc[:, (\"Close\", \"BA\")]"
   ]
  },
  {
   "cell_type": "code",
   "execution_count": null,
   "id": "c3df44b1",
   "metadata": {},
   "outputs": [],
   "source": [
    "# select single row for all columns\n",
    "df.loc[\"2015-01-07\"]"
   ]
  },
  {
   "cell_type": "code",
   "execution_count": null,
   "id": "9c1e63d3",
   "metadata": {},
   "outputs": [],
   "source": [
    "# select single year\n",
    "df.loc[\"2015\"]"
   ]
  },
  {
   "cell_type": "code",
   "execution_count": null,
   "id": "e7423406",
   "metadata": {},
   "outputs": [],
   "source": [
    "# swap the levels\n",
    "df = df.swaplevel(axis = \"columns\").sort_index(axis = \"columns\") # swap outer and inner index\n",
    "df"
   ]
  },
  {
   "cell_type": "code",
   "execution_count": null,
   "id": "ab60c310",
   "metadata": {},
   "outputs": [],
   "source": [
    "# after the swap some columns have special characters\n",
    "# so they can't be retrieved with dot noation anymore\n",
    "df[\"EURUSD=X\"]"
   ]
  },
  {
   "cell_type": "code",
   "execution_count": null,
   "id": "48ad392b",
   "metadata": {},
   "outputs": [],
   "source": [
    "df[\"BTC-USD\"]"
   ]
  },
  {
   "cell_type": "code",
   "execution_count": null,
   "id": "96900778",
   "metadata": {},
   "outputs": [],
   "source": [
    "# swap the levels back\n",
    "df = df.swaplevel(axis = \"columns\").sort_index(axis = \"columns\") # swap outer and inner index\n",
    "df"
   ]
  },
  {
   "cell_type": "code",
   "execution_count": null,
   "id": "31208d11",
   "metadata": {},
   "outputs": [],
   "source": [
    "# for further analysis we're only intersted in the close price\n",
    "# select daily close prices only and create a separate data frame\n",
    "close = df.Close.copy()\n",
    "close"
   ]
  },
  {
   "cell_type": "code",
   "execution_count": null,
   "id": "0758b96a",
   "metadata": {},
   "outputs": [],
   "source": [
    "# get summary statistics\n",
    "close.describe()"
   ]
  },
  {
   "cell_type": "code",
   "execution_count": null,
   "id": "e9bd06b3",
   "metadata": {},
   "outputs": [],
   "source": [
    "# create price chart for singule instrument\n",
    "# dropna() drops missing values\n",
    "# create chart with plot method\n",
    "close.BA.dropna().plot(figsize = (15, 8), fontsize = 13)\n",
    "plt.legend(fontsize = 13)\n",
    "plt.show()"
   ]
  },
  {
   "cell_type": "code",
   "execution_count": null,
   "id": "1171ef4d",
   "metadata": {},
   "outputs": [],
   "source": [
    "# create price chart for all six instruments in one single chart\n",
    "close.dropna().plot(figsize = (15, 8), fontsize = 13)\n",
    "plt.legend(fontsize = 13)\n",
    "plt.show()"
   ]
  },
  {
   "cell_type": "markdown",
   "id": "a9c53345",
   "metadata": {},
   "source": [
    "**Take Home: Absolute Prices are absolutely meaningless/useless (in most cases)**\n",
    "\n",
    "- Prices that are in a different scale are hard to compare\n",
    "- A higher price does not imply a higher value or a better performance"
   ]
  },
  {
   "cell_type": "markdown",
   "id": "e7b10256",
   "metadata": {},
   "source": [
    "## Normalizing Financial Time Series to Base Value (100)"
   ]
  },
  {
   "cell_type": "markdown",
   "id": "6bd1a4f1",
   "metadata": {},
   "source": [
    "Normalizing to **Base Value** means that all instruments start at the very same level."
   ]
  },
  {
   "cell_type": "code",
   "execution_count": null,
   "id": "24d6320b",
   "metadata": {},
   "outputs": [],
   "source": [
    "# the data frame to work with\n",
    "close"
   ]
  },
  {
   "cell_type": "code",
   "execution_count": null,
   "id": "9bdd4c2c",
   "metadata": {},
   "outputs": [],
   "source": [
    "# normalizing for one instrument (Boeing)\n",
    "close.iloc[0,0] # first price of BA"
   ]
  },
  {
   "cell_type": "code",
   "execution_count": null,
   "id": "6d145ffb",
   "metadata": {},
   "outputs": [],
   "source": [
    "# divide all prices of BA by the very first price\n",
    "# which creates a base value of 1\n",
    "# then multiply with 100 to get base value of 100\n",
    "close.BA.div(close.iloc[0,0]).mul(100)"
   ]
  },
  {
   "cell_type": "code",
   "execution_count": null,
   "id": "accaa513",
   "metadata": {},
   "outputs": [],
   "source": [
    "close.iloc[0] # first price all tickers"
   ]
  },
  {
   "cell_type": "code",
   "execution_count": null,
   "id": "bd7c24ce",
   "metadata": {},
   "outputs": [],
   "source": [
    "norm = close.div(close.iloc[0]).mul(100)\n",
    "norm"
   ]
  },
  {
   "cell_type": "code",
   "execution_count": null,
   "id": "e611f71e",
   "metadata": {},
   "outputs": [],
   "source": [
    "# visualizing the normalized data\n",
    "norm.dropna().plot(figsize = (15, 8), fontsize = 13, logy = False)\n",
    "plt.legend(fontsize = 13)\n",
    "plt.show()"
   ]
  },
  {
   "cell_type": "markdown",
   "id": "5988d60a",
   "metadata": {},
   "source": [
    "The normalized data is still difficult to compare because Bitcoin shows a much better performance than the other five instruments. To make the data better comparable the scale of the y-axis can be changed to create a logarithimc scale."
   ]
  },
  {
   "cell_type": "code",
   "execution_count": null,
   "id": "7001b3bf",
   "metadata": {},
   "outputs": [],
   "source": [
    "# changing the scale of the y-axis to logarithmic scale with logy = True\n",
    "norm.dropna().plot(figsize = (15, 8), fontsize = 13, logy = True)\n",
    "plt.legend(fontsize = 13)\n",
    "plt.show()"
   ]
  },
  {
   "cell_type": "markdown",
   "id": "76865ba4",
   "metadata": {},
   "source": [
    "**Take Home: Normalized prices help to compare financial instruments....**\n",
    "\n",
    "**....but they are limited when it comes to measuring/comparing performance in more detail**"
   ]
  },
  {
   "cell_type": "code",
   "execution_count": null,
   "id": "e5343651",
   "metadata": {},
   "outputs": [],
   "source": [
    "close.to_csv((\"../../Assets/Data-Files/close.csv\"))"
   ]
  },
  {
   "cell_type": "code",
   "execution_count": null,
   "id": "14bcd947",
   "metadata": {},
   "outputs": [],
   "source": []
  }
 ],
 "metadata": {
  "kernelspec": {
   "display_name": "Python 3 (ipykernel)",
   "language": "python",
   "name": "python3"
  },
  "language_info": {
   "codemirror_mode": {
    "name": "ipython",
    "version": 3
   },
   "file_extension": ".py",
   "mimetype": "text/x-python",
   "name": "python",
   "nbconvert_exporter": "python",
   "pygments_lexer": "ipython3",
   "version": "3.9.10"
  }
 },
 "nbformat": 4,
 "nbformat_minor": 5
}
