{
 "cells": [
  {
   "cell_type": "markdown",
   "id": "0f3f8bc4",
   "metadata": {},
   "source": [
    "# Coding Challenge 2"
   ]
  },
  {
   "cell_type": "markdown",
   "id": "1235ffa4",
   "metadata": {},
   "source": [
    "1. Calculate Boeing´s Investment Multiple\n",
    "\n",
    "2. Calculate Boeing´s CAGR\n",
    "\n",
    "3. Calculate Boeing´s Geometric Mean Return\n",
    "\n",
    "4. Calculate Boeing´s Investment Multiple with compound daily returns"
   ]
  },
  {
   "cell_type": "code",
   "execution_count": 1,
   "id": "2f557e65",
   "metadata": {},
   "outputs": [],
   "source": [
    "import pandas as pd\n",
    "import numpy as np\n",
    "import matplotlib.pyplot as plt\n",
    "pd.options.display.float_format = '{:.4f}'.format\n",
    "plt.style.use(\"seaborn\")"
   ]
  },
  {
   "cell_type": "code",
   "execution_count": 7,
   "id": "e4c2c6d1",
   "metadata": {},
   "outputs": [
    {
     "data": {
      "text/html": [
       "<div>\n",
       "<style scoped>\n",
       "    .dataframe tbody tr th:only-of-type {\n",
       "        vertical-align: middle;\n",
       "    }\n",
       "\n",
       "    .dataframe tbody tr th {\n",
       "        vertical-align: top;\n",
       "    }\n",
       "\n",
       "    .dataframe thead th {\n",
       "        text-align: right;\n",
       "    }\n",
       "</style>\n",
       "<table border=\"1\" class=\"dataframe\">\n",
       "  <thead>\n",
       "    <tr style=\"text-align: right;\">\n",
       "      <th></th>\n",
       "      <th>BA</th>\n",
       "      <th>BTC-USD</th>\n",
       "      <th>EURUSD=X</th>\n",
       "      <th>GC=F</th>\n",
       "      <th>MSFT</th>\n",
       "      <th>^DJI</th>\n",
       "    </tr>\n",
       "    <tr>\n",
       "      <th>Date</th>\n",
       "      <th></th>\n",
       "      <th></th>\n",
       "      <th></th>\n",
       "      <th></th>\n",
       "      <th></th>\n",
       "      <th></th>\n",
       "    </tr>\n",
       "  </thead>\n",
       "  <tbody>\n",
       "    <tr>\n",
       "      <th>2014-09-30</th>\n",
       "      <td>127.3800</td>\n",
       "      <td>386.9440</td>\n",
       "      <td>1.2691</td>\n",
       "      <td>1210.5000</td>\n",
       "      <td>46.3600</td>\n",
       "      <td>17042.9004</td>\n",
       "    </tr>\n",
       "    <tr>\n",
       "      <th>2014-10-01</th>\n",
       "      <td>124.6700</td>\n",
       "      <td>383.6150</td>\n",
       "      <td>1.2628</td>\n",
       "      <td>1214.6000</td>\n",
       "      <td>45.9000</td>\n",
       "      <td>16804.7109</td>\n",
       "    </tr>\n",
       "    <tr>\n",
       "      <th>2014-10-02</th>\n",
       "      <td>124.1700</td>\n",
       "      <td>375.0720</td>\n",
       "      <td>1.2624</td>\n",
       "      <td>1214.2000</td>\n",
       "      <td>45.7600</td>\n",
       "      <td>16801.0508</td>\n",
       "    </tr>\n",
       "    <tr>\n",
       "      <th>2014-10-03</th>\n",
       "      <td>126.3600</td>\n",
       "      <td>359.5120</td>\n",
       "      <td>1.2671</td>\n",
       "      <td>1192.2000</td>\n",
       "      <td>46.0900</td>\n",
       "      <td>17009.6895</td>\n",
       "    </tr>\n",
       "    <tr>\n",
       "      <th>2014-10-04</th>\n",
       "      <td>NaN</td>\n",
       "      <td>328.8660</td>\n",
       "      <td>NaN</td>\n",
       "      <td>NaN</td>\n",
       "      <td>NaN</td>\n",
       "      <td>NaN</td>\n",
       "    </tr>\n",
       "    <tr>\n",
       "      <th>...</th>\n",
       "      <td>...</td>\n",
       "      <td>...</td>\n",
       "      <td>...</td>\n",
       "      <td>...</td>\n",
       "      <td>...</td>\n",
       "      <td>...</td>\n",
       "    </tr>\n",
       "    <tr>\n",
       "      <th>2021-05-26</th>\n",
       "      <td>241.3700</td>\n",
       "      <td>39294.1992</td>\n",
       "      <td>1.2249</td>\n",
       "      <td>1901.3000</td>\n",
       "      <td>251.4900</td>\n",
       "      <td>34323.0508</td>\n",
       "    </tr>\n",
       "    <tr>\n",
       "      <th>2021-05-27</th>\n",
       "      <td>250.7000</td>\n",
       "      <td>38436.9688</td>\n",
       "      <td>1.2193</td>\n",
       "      <td>1895.7000</td>\n",
       "      <td>249.3100</td>\n",
       "      <td>34464.6406</td>\n",
       "    </tr>\n",
       "    <tr>\n",
       "      <th>2021-05-28</th>\n",
       "      <td>247.0200</td>\n",
       "      <td>35697.6055</td>\n",
       "      <td>1.2193</td>\n",
       "      <td>1902.5000</td>\n",
       "      <td>249.6800</td>\n",
       "      <td>34529.4492</td>\n",
       "    </tr>\n",
       "    <tr>\n",
       "      <th>2021-05-29</th>\n",
       "      <td>NaN</td>\n",
       "      <td>34616.0664</td>\n",
       "      <td>NaN</td>\n",
       "      <td>NaN</td>\n",
       "      <td>NaN</td>\n",
       "      <td>NaN</td>\n",
       "    </tr>\n",
       "    <tr>\n",
       "      <th>2021-05-30</th>\n",
       "      <td>NaN</td>\n",
       "      <td>35678.1289</td>\n",
       "      <td>NaN</td>\n",
       "      <td>NaN</td>\n",
       "      <td>NaN</td>\n",
       "      <td>NaN</td>\n",
       "    </tr>\n",
       "  </tbody>\n",
       "</table>\n",
       "<p>2435 rows × 6 columns</p>\n",
       "</div>"
      ],
      "text/plain": [
       "                 BA    BTC-USD  EURUSD=X      GC=F     MSFT       ^DJI\n",
       "Date                                                                  \n",
       "2014-09-30 127.3800   386.9440    1.2691 1210.5000  46.3600 17042.9004\n",
       "2014-10-01 124.6700   383.6150    1.2628 1214.6000  45.9000 16804.7109\n",
       "2014-10-02 124.1700   375.0720    1.2624 1214.2000  45.7600 16801.0508\n",
       "2014-10-03 126.3600   359.5120    1.2671 1192.2000  46.0900 17009.6895\n",
       "2014-10-04      NaN   328.8660       NaN       NaN      NaN        NaN\n",
       "...             ...        ...       ...       ...      ...        ...\n",
       "2021-05-26 241.3700 39294.1992    1.2249 1901.3000 251.4900 34323.0508\n",
       "2021-05-27 250.7000 38436.9688    1.2193 1895.7000 249.3100 34464.6406\n",
       "2021-05-28 247.0200 35697.6055    1.2193 1902.5000 249.6800 34529.4492\n",
       "2021-05-29      NaN 34616.0664       NaN       NaN      NaN        NaN\n",
       "2021-05-30      NaN 35678.1289       NaN       NaN      NaN        NaN\n",
       "\n",
       "[2435 rows x 6 columns]"
      ]
     },
     "execution_count": 7,
     "metadata": {},
     "output_type": "execute_result"
    }
   ],
   "source": [
    "close = pd.read_csv(\"../../Assets/Data-Files/close.csv\", index_col = \"Date\", parse_dates = [\"Date\"])\n",
    "close"
   ]
  },
  {
   "cell_type": "code",
   "execution_count": 8,
   "id": "be02175b",
   "metadata": {},
   "outputs": [
    {
     "data": {
      "text/html": [
       "<div>\n",
       "<style scoped>\n",
       "    .dataframe tbody tr th:only-of-type {\n",
       "        vertical-align: middle;\n",
       "    }\n",
       "\n",
       "    .dataframe tbody tr th {\n",
       "        vertical-align: top;\n",
       "    }\n",
       "\n",
       "    .dataframe thead th {\n",
       "        text-align: right;\n",
       "    }\n",
       "</style>\n",
       "<table border=\"1\" class=\"dataframe\">\n",
       "  <thead>\n",
       "    <tr style=\"text-align: right;\">\n",
       "      <th></th>\n",
       "      <th>BA</th>\n",
       "    </tr>\n",
       "    <tr>\n",
       "      <th>Date</th>\n",
       "      <th></th>\n",
       "    </tr>\n",
       "  </thead>\n",
       "  <tbody>\n",
       "    <tr>\n",
       "      <th>2014-09-30</th>\n",
       "      <td>127.3800</td>\n",
       "    </tr>\n",
       "    <tr>\n",
       "      <th>2014-10-01</th>\n",
       "      <td>124.6700</td>\n",
       "    </tr>\n",
       "    <tr>\n",
       "      <th>2014-10-02</th>\n",
       "      <td>124.1700</td>\n",
       "    </tr>\n",
       "    <tr>\n",
       "      <th>2014-10-03</th>\n",
       "      <td>126.3600</td>\n",
       "    </tr>\n",
       "    <tr>\n",
       "      <th>2014-10-06</th>\n",
       "      <td>126.2600</td>\n",
       "    </tr>\n",
       "    <tr>\n",
       "      <th>...</th>\n",
       "      <td>...</td>\n",
       "    </tr>\n",
       "    <tr>\n",
       "      <th>2021-05-24</th>\n",
       "      <td>237.4400</td>\n",
       "    </tr>\n",
       "    <tr>\n",
       "      <th>2021-05-25</th>\n",
       "      <td>240.7400</td>\n",
       "    </tr>\n",
       "    <tr>\n",
       "      <th>2021-05-26</th>\n",
       "      <td>241.3700</td>\n",
       "    </tr>\n",
       "    <tr>\n",
       "      <th>2021-05-27</th>\n",
       "      <td>250.7000</td>\n",
       "    </tr>\n",
       "    <tr>\n",
       "      <th>2021-05-28</th>\n",
       "      <td>247.0200</td>\n",
       "    </tr>\n",
       "  </tbody>\n",
       "</table>\n",
       "<p>1678 rows × 1 columns</p>\n",
       "</div>"
      ],
      "text/plain": [
       "                 BA\n",
       "Date               \n",
       "2014-09-30 127.3800\n",
       "2014-10-01 124.6700\n",
       "2014-10-02 124.1700\n",
       "2014-10-03 126.3600\n",
       "2014-10-06 126.2600\n",
       "...             ...\n",
       "2021-05-24 237.4400\n",
       "2021-05-25 240.7400\n",
       "2021-05-26 241.3700\n",
       "2021-05-27 250.7000\n",
       "2021-05-28 247.0200\n",
       "\n",
       "[1678 rows x 1 columns]"
      ]
     },
     "execution_count": 8,
     "metadata": {},
     "output_type": "execute_result"
    }
   ],
   "source": [
    "# focusing on a single instrument, in this case the Boeing (BA) stock\n",
    "ba = close.BA.dropna().to_frame().copy()\n",
    "ba"
   ]
  },
  {
   "cell_type": "code",
   "execution_count": 9,
   "id": "2db41726",
   "metadata": {},
   "outputs": [
    {
     "data": {
      "text/html": [
       "<div>\n",
       "<style scoped>\n",
       "    .dataframe tbody tr th:only-of-type {\n",
       "        vertical-align: middle;\n",
       "    }\n",
       "\n",
       "    .dataframe tbody tr th {\n",
       "        vertical-align: top;\n",
       "    }\n",
       "\n",
       "    .dataframe thead th {\n",
       "        text-align: right;\n",
       "    }\n",
       "</style>\n",
       "<table border=\"1\" class=\"dataframe\">\n",
       "  <thead>\n",
       "    <tr style=\"text-align: right;\">\n",
       "      <th></th>\n",
       "      <th>Price</th>\n",
       "    </tr>\n",
       "    <tr>\n",
       "      <th>Date</th>\n",
       "      <th></th>\n",
       "    </tr>\n",
       "  </thead>\n",
       "  <tbody>\n",
       "    <tr>\n",
       "      <th>2014-09-30</th>\n",
       "      <td>127.3800</td>\n",
       "    </tr>\n",
       "    <tr>\n",
       "      <th>2014-10-01</th>\n",
       "      <td>124.6700</td>\n",
       "    </tr>\n",
       "    <tr>\n",
       "      <th>2014-10-02</th>\n",
       "      <td>124.1700</td>\n",
       "    </tr>\n",
       "    <tr>\n",
       "      <th>2014-10-03</th>\n",
       "      <td>126.3600</td>\n",
       "    </tr>\n",
       "    <tr>\n",
       "      <th>2014-10-06</th>\n",
       "      <td>126.2600</td>\n",
       "    </tr>\n",
       "    <tr>\n",
       "      <th>...</th>\n",
       "      <td>...</td>\n",
       "    </tr>\n",
       "    <tr>\n",
       "      <th>2021-05-24</th>\n",
       "      <td>237.4400</td>\n",
       "    </tr>\n",
       "    <tr>\n",
       "      <th>2021-05-25</th>\n",
       "      <td>240.7400</td>\n",
       "    </tr>\n",
       "    <tr>\n",
       "      <th>2021-05-26</th>\n",
       "      <td>241.3700</td>\n",
       "    </tr>\n",
       "    <tr>\n",
       "      <th>2021-05-27</th>\n",
       "      <td>250.7000</td>\n",
       "    </tr>\n",
       "    <tr>\n",
       "      <th>2021-05-28</th>\n",
       "      <td>247.0200</td>\n",
       "    </tr>\n",
       "  </tbody>\n",
       "</table>\n",
       "<p>1678 rows × 1 columns</p>\n",
       "</div>"
      ],
      "text/plain": [
       "              Price\n",
       "Date               \n",
       "2014-09-30 127.3800\n",
       "2014-10-01 124.6700\n",
       "2014-10-02 124.1700\n",
       "2014-10-03 126.3600\n",
       "2014-10-06 126.2600\n",
       "...             ...\n",
       "2021-05-24 237.4400\n",
       "2021-05-25 240.7400\n",
       "2021-05-26 241.3700\n",
       "2021-05-27 250.7000\n",
       "2021-05-28 247.0200\n",
       "\n",
       "[1678 rows x 1 columns]"
      ]
     },
     "execution_count": 9,
     "metadata": {},
     "output_type": "execute_result"
    }
   ],
   "source": [
    "# change column header\n",
    "ba.rename(columns = {\"BA\":\"Price\"}, inplace = True)\n",
    "ba"
   ]
  },
  {
   "cell_type": "code",
   "execution_count": 12,
   "id": "d3dc5b47",
   "metadata": {},
   "outputs": [
    {
     "data": {
      "text/html": [
       "<div>\n",
       "<style scoped>\n",
       "    .dataframe tbody tr th:only-of-type {\n",
       "        vertical-align: middle;\n",
       "    }\n",
       "\n",
       "    .dataframe tbody tr th {\n",
       "        vertical-align: top;\n",
       "    }\n",
       "\n",
       "    .dataframe thead th {\n",
       "        text-align: right;\n",
       "    }\n",
       "</style>\n",
       "<table border=\"1\" class=\"dataframe\">\n",
       "  <thead>\n",
       "    <tr style=\"text-align: right;\">\n",
       "      <th></th>\n",
       "      <th>Price</th>\n",
       "      <th>Returns</th>\n",
       "    </tr>\n",
       "    <tr>\n",
       "      <th>Date</th>\n",
       "      <th></th>\n",
       "      <th></th>\n",
       "    </tr>\n",
       "  </thead>\n",
       "  <tbody>\n",
       "    <tr>\n",
       "      <th>2014-09-30</th>\n",
       "      <td>127.3800</td>\n",
       "      <td>NaN</td>\n",
       "    </tr>\n",
       "    <tr>\n",
       "      <th>2014-10-01</th>\n",
       "      <td>124.6700</td>\n",
       "      <td>-0.0213</td>\n",
       "    </tr>\n",
       "    <tr>\n",
       "      <th>2014-10-02</th>\n",
       "      <td>124.1700</td>\n",
       "      <td>-0.0040</td>\n",
       "    </tr>\n",
       "    <tr>\n",
       "      <th>2014-10-03</th>\n",
       "      <td>126.3600</td>\n",
       "      <td>0.0176</td>\n",
       "    </tr>\n",
       "    <tr>\n",
       "      <th>2014-10-06</th>\n",
       "      <td>126.2600</td>\n",
       "      <td>-0.0008</td>\n",
       "    </tr>\n",
       "    <tr>\n",
       "      <th>...</th>\n",
       "      <td>...</td>\n",
       "      <td>...</td>\n",
       "    </tr>\n",
       "    <tr>\n",
       "      <th>2021-05-24</th>\n",
       "      <td>237.4400</td>\n",
       "      <td>0.0112</td>\n",
       "    </tr>\n",
       "    <tr>\n",
       "      <th>2021-05-25</th>\n",
       "      <td>240.7400</td>\n",
       "      <td>0.0139</td>\n",
       "    </tr>\n",
       "    <tr>\n",
       "      <th>2021-05-26</th>\n",
       "      <td>241.3700</td>\n",
       "      <td>0.0026</td>\n",
       "    </tr>\n",
       "    <tr>\n",
       "      <th>2021-05-27</th>\n",
       "      <td>250.7000</td>\n",
       "      <td>0.0387</td>\n",
       "    </tr>\n",
       "    <tr>\n",
       "      <th>2021-05-28</th>\n",
       "      <td>247.0200</td>\n",
       "      <td>-0.0147</td>\n",
       "    </tr>\n",
       "  </tbody>\n",
       "</table>\n",
       "<p>1678 rows × 2 columns</p>\n",
       "</div>"
      ],
      "text/plain": [
       "              Price  Returns\n",
       "Date                        \n",
       "2014-09-30 127.3800      NaN\n",
       "2014-10-01 124.6700  -0.0213\n",
       "2014-10-02 124.1700  -0.0040\n",
       "2014-10-03 126.3600   0.0176\n",
       "2014-10-06 126.2600  -0.0008\n",
       "...             ...      ...\n",
       "2021-05-24 237.4400   0.0112\n",
       "2021-05-25 240.7400   0.0139\n",
       "2021-05-26 241.3700   0.0026\n",
       "2021-05-27 250.7000   0.0387\n",
       "2021-05-28 247.0200  -0.0147\n",
       "\n",
       "[1678 rows x 2 columns]"
      ]
     },
     "execution_count": 12,
     "metadata": {},
     "output_type": "execute_result"
    }
   ],
   "source": [
    "# use build in Python method to calculate the percentage change\n",
    "ba[\"Returns\"] = ba.Price.pct_change(periods = 1) # alternative 2\n",
    "ba"
   ]
  },
  {
   "cell_type": "code",
   "execution_count": 13,
   "id": "57839811",
   "metadata": {},
   "outputs": [],
   "source": [
    "ba.to_csv(\"../../Assets/Data-Files/ba.csv\")"
   ]
  },
  {
   "cell_type": "code",
   "execution_count": 14,
   "id": "66fb1343",
   "metadata": {},
   "outputs": [
    {
     "data": {
      "text/html": [
       "<div>\n",
       "<style scoped>\n",
       "    .dataframe tbody tr th:only-of-type {\n",
       "        vertical-align: middle;\n",
       "    }\n",
       "\n",
       "    .dataframe tbody tr th {\n",
       "        vertical-align: top;\n",
       "    }\n",
       "\n",
       "    .dataframe thead th {\n",
       "        text-align: right;\n",
       "    }\n",
       "</style>\n",
       "<table border=\"1\" class=\"dataframe\">\n",
       "  <thead>\n",
       "    <tr style=\"text-align: right;\">\n",
       "      <th></th>\n",
       "      <th>Price</th>\n",
       "      <th>Returns</th>\n",
       "    </tr>\n",
       "    <tr>\n",
       "      <th>Date</th>\n",
       "      <th></th>\n",
       "      <th></th>\n",
       "    </tr>\n",
       "  </thead>\n",
       "  <tbody>\n",
       "    <tr>\n",
       "      <th>2014-09-30</th>\n",
       "      <td>127.3800</td>\n",
       "      <td>NaN</td>\n",
       "    </tr>\n",
       "    <tr>\n",
       "      <th>2014-10-01</th>\n",
       "      <td>124.6700</td>\n",
       "      <td>-0.0213</td>\n",
       "    </tr>\n",
       "    <tr>\n",
       "      <th>2014-10-02</th>\n",
       "      <td>124.1700</td>\n",
       "      <td>-0.0040</td>\n",
       "    </tr>\n",
       "    <tr>\n",
       "      <th>2014-10-03</th>\n",
       "      <td>126.3600</td>\n",
       "      <td>0.0176</td>\n",
       "    </tr>\n",
       "    <tr>\n",
       "      <th>2014-10-06</th>\n",
       "      <td>126.2600</td>\n",
       "      <td>-0.0008</td>\n",
       "    </tr>\n",
       "    <tr>\n",
       "      <th>...</th>\n",
       "      <td>...</td>\n",
       "      <td>...</td>\n",
       "    </tr>\n",
       "    <tr>\n",
       "      <th>2021-05-24</th>\n",
       "      <td>237.4400</td>\n",
       "      <td>0.0112</td>\n",
       "    </tr>\n",
       "    <tr>\n",
       "      <th>2021-05-25</th>\n",
       "      <td>240.7400</td>\n",
       "      <td>0.0139</td>\n",
       "    </tr>\n",
       "    <tr>\n",
       "      <th>2021-05-26</th>\n",
       "      <td>241.3700</td>\n",
       "      <td>0.0026</td>\n",
       "    </tr>\n",
       "    <tr>\n",
       "      <th>2021-05-27</th>\n",
       "      <td>250.7000</td>\n",
       "      <td>0.0387</td>\n",
       "    </tr>\n",
       "    <tr>\n",
       "      <th>2021-05-28</th>\n",
       "      <td>247.0200</td>\n",
       "      <td>-0.0147</td>\n",
       "    </tr>\n",
       "  </tbody>\n",
       "</table>\n",
       "<p>1678 rows × 2 columns</p>\n",
       "</div>"
      ],
      "text/plain": [
       "              Price  Returns\n",
       "Date                        \n",
       "2014-09-30 127.3800      NaN\n",
       "2014-10-01 124.6700  -0.0213\n",
       "2014-10-02 124.1700  -0.0040\n",
       "2014-10-03 126.3600   0.0176\n",
       "2014-10-06 126.2600  -0.0008\n",
       "...             ...      ...\n",
       "2021-05-24 237.4400   0.0112\n",
       "2021-05-25 240.7400   0.0139\n",
       "2021-05-26 241.3700   0.0026\n",
       "2021-05-27 250.7000   0.0387\n",
       "2021-05-28 247.0200  -0.0147\n",
       "\n",
       "[1678 rows x 2 columns]"
      ]
     },
     "execution_count": 14,
     "metadata": {},
     "output_type": "execute_result"
    }
   ],
   "source": [
    "# using the Boing data file for further analysis\n",
    "ba = pd.read_csv(\"../../Assets/Data-Files/ba.csv\", index_col = \"Date\", parse_dates = [\"Date\"])\n",
    "ba"
   ]
  },
  {
   "cell_type": "code",
   "execution_count": 15,
   "id": "567e6912",
   "metadata": {},
   "outputs": [
    {
     "data": {
      "image/png": "[encoded data removed]",
      "text/plain": [
       "<Figure size 1080x576 with 1 Axes>"
      ]
     },
     "metadata": {},
     "output_type": "display_data"
    }
   ],
   "source": [
    "ba.Price.plot(figsize = (15, 8), fontsize = 13)\n",
    "plt.legend(fontsize = 13)\n",
    "plt.show()"
   ]
  },
  {
   "cell_type": "code",
   "execution_count": 16,
   "id": "00eba626",
   "metadata": {},
   "outputs": [
    {
     "data": {
      "text/html": [
       "<div>\n",
       "<style scoped>\n",
       "    .dataframe tbody tr th:only-of-type {\n",
       "        vertical-align: middle;\n",
       "    }\n",
       "\n",
       "    .dataframe tbody tr th {\n",
       "        vertical-align: top;\n",
       "    }\n",
       "\n",
       "    .dataframe thead th {\n",
       "        text-align: right;\n",
       "    }\n",
       "</style>\n",
       "<table border=\"1\" class=\"dataframe\">\n",
       "  <thead>\n",
       "    <tr style=\"text-align: right;\">\n",
       "      <th></th>\n",
       "      <th>Price</th>\n",
       "      <th>Returns</th>\n",
       "    </tr>\n",
       "  </thead>\n",
       "  <tbody>\n",
       "    <tr>\n",
       "      <th>count</th>\n",
       "      <td>1678.0000</td>\n",
       "      <td>1677.0000</td>\n",
       "    </tr>\n",
       "    <tr>\n",
       "      <th>mean</th>\n",
       "      <td>228.6776</td>\n",
       "      <td>0.0007</td>\n",
       "    </tr>\n",
       "    <tr>\n",
       "      <th>std</th>\n",
       "      <td>94.3785</td>\n",
       "      <td>0.0263</td>\n",
       "    </tr>\n",
       "    <tr>\n",
       "      <th>min</th>\n",
       "      <td>95.0100</td>\n",
       "      <td>-0.2385</td>\n",
       "    </tr>\n",
       "    <tr>\n",
       "      <th>25%</th>\n",
       "      <td>143.3175</td>\n",
       "      <td>-0.0092</td>\n",
       "    </tr>\n",
       "    <tr>\n",
       "      <th>50%</th>\n",
       "      <td>189.0150</td>\n",
       "      <td>0.0007</td>\n",
       "    </tr>\n",
       "    <tr>\n",
       "      <th>75%</th>\n",
       "      <td>335.0775</td>\n",
       "      <td>0.0105</td>\n",
       "    </tr>\n",
       "    <tr>\n",
       "      <th>max</th>\n",
       "      <td>440.6200</td>\n",
       "      <td>0.2432</td>\n",
       "    </tr>\n",
       "  </tbody>\n",
       "</table>\n",
       "</div>"
      ],
      "text/plain": [
       "          Price   Returns\n",
       "count 1678.0000 1677.0000\n",
       "mean   228.6776    0.0007\n",
       "std     94.3785    0.0263\n",
       "min     95.0100   -0.2385\n",
       "25%    143.3175   -0.0092\n",
       "50%    189.0150    0.0007\n",
       "75%    335.0775    0.0105\n",
       "max    440.6200    0.2432"
      ]
     },
     "execution_count": 16,
     "metadata": {},
     "output_type": "execute_result"
    }
   ],
   "source": [
    "ba.describe() # 50th% percentile is the median"
   ]
  },
  {
   "cell_type": "code",
   "execution_count": 17,
   "id": "a6d3531f",
   "metadata": {},
   "outputs": [
    {
     "data": {
      "text/plain": [
       "0.0007405546198028601"
      ]
     },
     "execution_count": 17,
     "metadata": {},
     "output_type": "execute_result"
    }
   ],
   "source": [
    "# artithmetic mean is a popular performance metric for reward\n",
    "mu = ba.Returns.mean() # arithmetic mean return == Reward\n",
    "mu"
   ]
  },
  {
   "cell_type": "code",
   "execution_count": 18,
   "id": "81bc6b36",
   "metadata": {},
   "outputs": [
    {
     "data": {
      "text/plain": [
       "0.02627539199727626"
      ]
     },
     "execution_count": 18,
     "metadata": {},
     "output_type": "execute_result"
    }
   ],
   "source": [
    "# the standard deviation of returns is a popular performance metric for risk/volatility\n",
    "sigma = ba.Returns.std() # standard deviation of returns == Risk/Volatility\n",
    "sigma"
   ]
  },
  {
   "cell_type": "code",
   "execution_count": 20,
   "id": "0edf7223",
   "metadata": {},
   "outputs": [
    {
     "data": {
      "text/plain": [
       "0.02627539199727626"
      ]
     },
     "execution_count": 20,
     "metadata": {},
     "output_type": "execute_result"
    }
   ],
   "source": [
    "# sidenote: standard deviation is the square root of the variance\n",
    "np.sqrt(ba.Returns.var())"
   ]
  },
  {
   "cell_type": "markdown",
   "id": "2601d593",
   "metadata": {},
   "source": [
    "## Challenge (1) - Calculate Boeing´s Investment Multiple"
   ]
  },
  {
   "cell_type": "markdown",
   "id": "e3c47fb1",
   "metadata": {},
   "source": [
    "**Investment Multiple:** Ending Value of 1 (Dollar, Euro, etc.) invested.  \n",
    "Multiple = Ending Value / Initial Value"
   ]
  },
  {
   "cell_type": "code",
   "execution_count": 22,
   "id": "3f0c6239",
   "metadata": {},
   "outputs": [
    {
     "data": {
      "text/plain": [
       "1.9392370042293487"
      ]
     },
     "execution_count": 22,
     "metadata": {},
     "output_type": "execute_result"
    }
   ],
   "source": [
    "# last price of a given period divided by the first price returns the multiple\n",
    "multiple = (ba.Price[-1] / ba.Price[0])\n",
    "multiple # result is the ending value of one dollar invested"
   ]
  },
  {
   "cell_type": "code",
   "execution_count": 23,
   "id": "6cfa8ea0",
   "metadata": {},
   "outputs": [
    {
     "data": {
      "text/plain": [
       "93.92370042293487"
      ]
     },
     "execution_count": 23,
     "metadata": {},
     "output_type": "execute_result"
    }
   ],
   "source": [
    "# calculate the increase in percent\n",
    "(multiple - 1) * 100 # the invested dollar gets subtracted from the multiple"
   ]
  },
  {
   "cell_type": "markdown",
   "id": "5a5d4522",
   "metadata": {},
   "source": [
    "## Challenge (2) - Calculate Boeing´s CAGR"
   ]
  },
  {
   "cell_type": "markdown",
   "id": "c57755ff",
   "metadata": {},
   "source": [
    "**Compound Annual Growth Rate (CAGR):** The (constant annual) rate of return that would be required for an investment to grow from its beginning balance to its ending balance, assuming the profits were reinvested at the end of each year of the investment's lifespan (Wikipedia)."
   ]
  },
  {
   "cell_type": "code",
   "execution_count": 26,
   "id": "7c952079",
   "metadata": {},
   "outputs": [
    {
     "data": {
      "text/plain": [
       "Timestamp('2014-09-30 00:00:00')"
      ]
     },
     "execution_count": 26,
     "metadata": {},
     "output_type": "execute_result"
    }
   ],
   "source": [
    "start = ba.index[0]\n",
    "start"
   ]
  },
  {
   "cell_type": "code",
   "execution_count": 27,
   "id": "dd6d444f",
   "metadata": {},
   "outputs": [
    {
     "data": {
      "text/plain": [
       "Timestamp('2021-05-28 00:00:00')"
      ]
     },
     "execution_count": 27,
     "metadata": {},
     "output_type": "execute_result"
    }
   ],
   "source": [
    "end = ba.index[-1]\n",
    "end"
   ]
  },
  {
   "cell_type": "code",
   "execution_count": 28,
   "id": "24fe3cdc",
   "metadata": {},
   "outputs": [
    {
     "data": {
      "text/plain": [
       "Timedelta('2432 days 00:00:00')"
      ]
     },
     "execution_count": 28,
     "metadata": {},
     "output_type": "execute_result"
    }
   ],
   "source": [
    "# timestamp objects can be subtracted\n",
    "td = end - start\n",
    "td # returns a timedelta object"
   ]
  },
  {
   "cell_type": "code",
   "execution_count": 29,
   "id": "04e021fb",
   "metadata": {},
   "outputs": [
    {
     "data": {
      "text/plain": [
       "6.658453114305271"
      ]
     },
     "execution_count": 29,
     "metadata": {},
     "output_type": "execute_result"
    }
   ],
   "source": [
    "# timedelta divided by average number of years = 365.25\n",
    "td_years = td.days / 365.25\n",
    "td_years"
   ]
  },
  {
   "cell_type": "code",
   "execution_count": 30,
   "id": "b8da196e",
   "metadata": {},
   "outputs": [
    {
     "data": {
      "text/plain": [
       "0.10458172746091354"
      ]
     },
     "execution_count": 30,
     "metadata": {},
     "output_type": "execute_result"
    }
   ],
   "source": [
    "# Compound Annual Growth Rate is the multiple to the power of one devided by the annual timedelta\n",
    "# and then subtracted by one\n",
    "cagr = multiple**(1 / td_years) - 1 #short version\n",
    "cagr"
   ]
  },
  {
   "cell_type": "code",
   "execution_count": 32,
   "id": "a847227a",
   "metadata": {},
   "outputs": [
    {
     "data": {
      "text/plain": [
       "0.10458172746091354"
      ]
     },
     "execution_count": 32,
     "metadata": {},
     "output_type": "execute_result"
    }
   ],
   "source": [
    "# more complex calculation with pandas data frame\n",
    "# (msft.Price[-1]/msft.Price[0]) calculates the multiple\n",
    "# then the timedelta divided by average number of years = 365.25 minus 1 is calculated\n",
    "cagr = (ba.Price[-1]/ba.Price[0])**(1/((ba.index[-1] - ba.index[0]).days / 365.25)) - 1 \n",
    "cagr"
   ]
  },
  {
   "cell_type": "code",
   "execution_count": 33,
   "id": "4b78ba52",
   "metadata": {},
   "outputs": [
    {
     "data": {
      "text/plain": [
       "1.9392370042293487"
      ]
     },
     "execution_count": 33,
     "metadata": {},
     "output_type": "execute_result"
    }
   ],
   "source": [
    "# inverse calculation, calculating multiple with cagr\n",
    "(1 + cagr)**(td_years) # alternative 2 to calculate multiple"
   ]
  },
  {
   "cell_type": "markdown",
   "id": "67132a52",
   "metadata": {},
   "source": [
    "## Challenge (3) - Calculate Boeing´s Geometric Mean Return"
   ]
  },
  {
   "cell_type": "markdown",
   "id": "8aea6eb5",
   "metadata": {},
   "source": [
    "**Geometric Mean has similar definition as the Compound Annual Growth Rate:** The (constant daily) rate of return that would be required for an investment to grow from its beginning balance to its ending balance, assuming the profits were reinvested at the end of each day of the investment's lifespan (Wikipedia)."
   ]
  },
  {
   "cell_type": "code",
   "execution_count": 34,
   "id": "23cc5af5",
   "metadata": {},
   "outputs": [
    {
     "data": {
      "text/plain": [
       "1.939237004229414"
      ]
     },
     "execution_count": 34,
     "metadata": {},
     "output_type": "execute_result"
    }
   ],
   "source": [
    "# 3rd alternative to calculate multiple (compounding daily returns)\n",
    "# prod() method multiplies all elements\n",
    "multiple = (1 + ba.Returns).prod()\n",
    "multiple"
   ]
  },
  {
   "cell_type": "code",
   "execution_count": 36,
   "id": "b5623613",
   "metadata": {},
   "outputs": [
    {
     "data": {
      "text/plain": [
       "1677"
      ]
     },
     "execution_count": 36,
     "metadata": {},
     "output_type": "execute_result"
    }
   ],
   "source": [
    "# number of elements in return column\n",
    "n = ba.Returns.count()\n",
    "n"
   ]
  },
  {
   "cell_type": "code",
   "execution_count": 37,
   "id": "cd98aa01",
   "metadata": {},
   "outputs": [
    {
     "data": {
      "text/plain": [
       "0.00039500619889754063"
      ]
     },
     "execution_count": 37,
     "metadata": {},
     "output_type": "execute_result"
    }
   ],
   "source": [
    "# geometric mean return\n",
    "geo_mean = multiple**(1/n) - 1\n",
    "geo_mean"
   ]
  },
  {
   "cell_type": "code",
   "execution_count": 38,
   "id": "7d13e049",
   "metadata": {},
   "outputs": [
    {
     "data": {
      "text/plain": [
       "1.9392370042296294"
      ]
     },
     "execution_count": 38,
     "metadata": {},
     "output_type": "execute_result"
    }
   ],
   "source": [
    "# alternative #4 to calculate multiple (geometric mean)\n",
    "(1 + geo_mean)**n"
   ]
  },
  {
   "cell_type": "markdown",
   "id": "108779e2",
   "metadata": {},
   "source": [
    "## Challenge (4) - Calculate Boeing´s Investment Multiple with compound daily returns"
   ]
  },
  {
   "cell_type": "code",
   "execution_count": 39,
   "id": "df7845f4",
   "metadata": {},
   "outputs": [
    {
     "data": {
      "text/plain": [
       "1.939237004229414"
      ]
     },
     "execution_count": 39,
     "metadata": {},
     "output_type": "execute_result"
    }
   ],
   "source": [
    "# 3rd alternative to calculate multiple (compounding daily returns)\n",
    "# prod() method multiplies all elements\n",
    "multiple = (1 + ba.Returns).prod()\n",
    "multiple"
   ]
  },
  {
   "cell_type": "code",
   "execution_count": null,
   "id": "a182a823",
   "metadata": {},
   "outputs": [],
   "source": []
  }
 ],
 "metadata": {
  "kernelspec": {
   "display_name": "Python 3 (ipykernel)",
   "language": "python",
   "name": "python3"
  },
  "language_info": {
   "codemirror_mode": {
    "name": "ipython",
    "version": 3
   },
   "file_extension": ".py",
   "mimetype": "text/x-python",
   "name": "python",
   "nbconvert_exporter": "python",
   "pygments_lexer": "ipython3",
   "version": "3.9.10"
  }
 },
 "nbformat": 4,
 "nbformat_minor": 5
}
