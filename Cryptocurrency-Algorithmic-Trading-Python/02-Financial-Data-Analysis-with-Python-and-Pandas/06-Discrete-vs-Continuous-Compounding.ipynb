{
 "cells": [
  {
   "cell_type": "markdown",
   "id": "b93893a0",
   "metadata": {},
   "source": [
    "# Discrete vs. Continuous Compounding"
   ]
  },
  {
   "cell_type": "markdown",
   "id": "4f00b9ac",
   "metadata": {},
   "source": [
    "## Simple Returns vs. Logarithmic Returns (log returns)"
   ]
  },
  {
   "cell_type": "markdown",
   "id": "77d928a6",
   "metadata": {},
   "source": [
    "Very often log returns are used instead of simple returns.\n",
    "\n",
    "- favourable characteristics of log returns\n",
    "- drawbacks of simple returns\n",
    "\n",
    "Discrete vs. Continuous Compounding gives a more detailed background on log returns."
   ]
  },
  {
   "cell_type": "markdown",
   "id": "d6ee3c5b",
   "metadata": {},
   "source": [
    "## Discrete Compounding "
   ]
  },
  {
   "cell_type": "markdown",
   "id": "d5401a87",
   "metadata": {},
   "source": [
    "<font size=\"4\" style=\"line-height:1.3\">**Annual Compounding:** Interests accrune once a year at the end of the year.  </font>\n",
    "\n",
    "<font size=\"4\" style=\"line-height:1.3\">**Example**: Your bank offers an interst rate of **8% p.a. (stated rate)** with **annual compounding** on your savings **(USD 100)**. Calculate the **value** of your savings account **after one year** and the corresponding **effective annual interest rate**.</font>\n",
    "\n",
    "<font size=\"4\" style=\"line-height:1.3\">**Interests are calculated and added to your savings account once at the end of each year.**\n",
    "</font>"
   ]
  },
  {
   "cell_type": "code",
   "execution_count": 14,
   "id": "ef72424c",
   "metadata": {},
   "outputs": [],
   "source": [
    "# your savings, present value\n",
    "PV = 100\n",
    "# interest rate p.a.\n",
    "r = 0.08\n",
    "# time range, 1 year\n",
    "n = 1"
   ]
  },
  {
   "cell_type": "code",
   "execution_count": 17,
   "id": "939e2a8b",
   "metadata": {},
   "outputs": [
    {
     "data": {
      "text/plain": [
       "108.0"
      ]
     },
     "execution_count": 17,
     "metadata": {},
     "output_type": "execute_result"
    }
   ],
   "source": [
    "# value after one year\n",
    "PV * (1 + r)"
   ]
  },
  {
   "cell_type": "code",
   "execution_count": 16,
   "id": "97ccd796",
   "metadata": {},
   "outputs": [
    {
     "data": {
      "text/plain": [
       "116.64000000000001"
      ]
     },
     "execution_count": 16,
     "metadata": {},
     "output_type": "execute_result"
    }
   ],
   "source": [
    "# official formula for future value\n",
    "FV = PV * (1 + r)**n\n",
    "FV"
   ]
  },
  {
   "cell_type": "code",
   "execution_count": 19,
   "id": "f7fedb2a",
   "metadata": {},
   "outputs": [
    {
     "data": {
      "text/plain": [
       "0.08000000000000007"
      ]
     },
     "execution_count": 19,
     "metadata": {},
     "output_type": "execute_result"
    }
   ],
   "source": [
    "# effective annual rate\n",
    "effective_annual_rate = (FV / PV)**(1/n) - 1\n",
    "effective_annual_rate"
   ]
  },
  {
   "cell_type": "markdown",
   "id": "1a5d7383",
   "metadata": {},
   "source": [
    "In case of annual compounding effective annual rate is identical to stated rate."
   ]
  },
  {
   "cell_type": "markdown",
   "id": "c056f3be",
   "metadata": {},
   "source": [
    "<font size=\"4\" style=\"line-height:1.3\">**Quarterly Compounding:** Interests accrune once a quarter at the end of the quarter.  </font>\n",
    "\n",
    "<font size=\"4\" style=\"line-height:1.3\">**Example**: Your bank offers an interst rate of **8% p.a. (stated rate)** with **quarterly compounding** on your savings **(USD 100)**. Calculate the **value** of your savings account **after one year** and the corresponding **effective annual interest rate**.</font>\n",
    "\n",
    "<font size=\"4\" style=\"line-height:1.3\">**Interests are calculated and added to your savings account once at the end of each quarter.**\n",
    "</font>"
   ]
  },
  {
   "cell_type": "code",
   "execution_count": 21,
   "id": "d4348809",
   "metadata": {},
   "outputs": [],
   "source": [
    "# your savings, present value\n",
    "PV = 100\n",
    "# interest rate p.a.\n",
    "r = 0.08\n",
    "# time range, 1 year\n",
    "n = 1\n",
    "# number of compounding events\n",
    "m = 4"
   ]
  },
  {
   "cell_type": "code",
   "execution_count": 25,
   "id": "d374b16b",
   "metadata": {},
   "outputs": [
    {
     "data": {
      "text/plain": [
       "108.243216"
      ]
     },
     "execution_count": 25,
     "metadata": {},
     "output_type": "execute_result"
    }
   ],
   "source": [
    "# value after one year\n",
    "# after on quarter we earn 2%\n",
    "# interest on interests = coumpound interests\n",
    "100 * 1.02 * 1.02 * 1.02 * 1.02"
   ]
  },
  {
   "cell_type": "code",
   "execution_count": 26,
   "id": "697e3a70",
   "metadata": {},
   "outputs": [
    {
     "data": {
      "text/plain": [
       "108.243216"
      ]
     },
     "execution_count": 26,
     "metadata": {},
     "output_type": "execute_result"
    }
   ],
   "source": [
    "# official formula for future value\n",
    "FV = PV * (1 + r/m)**(n*m)\n",
    "FV"
   ]
  },
  {
   "cell_type": "code",
   "execution_count": 27,
   "id": "be6bebe0",
   "metadata": {},
   "outputs": [
    {
     "data": {
      "text/plain": [
       "0.08243215999999998"
      ]
     },
     "execution_count": 27,
     "metadata": {},
     "output_type": "execute_result"
    }
   ],
   "source": [
    "# effective annual rate\n",
    "effective_annual_rate = (FV / PV)**(1/n) - 1\n",
    "effective_annual_rate"
   ]
  },
  {
   "cell_type": "markdown",
   "id": "d4371bc4",
   "metadata": {},
   "source": [
    "With quarterly compounding we end up at a higher value and we also have a higher effective interest rate."
   ]
  },
  {
   "cell_type": "markdown",
   "id": "ff917107",
   "metadata": {},
   "source": [
    "<font size=\"4\" style=\"line-height:1.3\">**Quarterly Compounding is favourable (everything else equal) as we earn compound interest (interest on interest).**</font>\n"
   ]
  },
  {
   "cell_type": "markdown",
   "id": "7379f4ac",
   "metadata": {},
   "source": [
    "<font size=\"4\" style=\"line-height:1.3\">**Monthly Compounding:** Interests accrune once a month at the end of the month.  </font>\n",
    "\n",
    "<font size=\"4\" style=\"line-height:1.3\">**Example**: Your savings bank offers an interst rate of **8% p.a. (stated rate)** with **quarterly compounding** on your savings **(USD 100)**. Calculate the **value** of your savings account **after one year** and the corresponding **effective annual interest rate**.</font>\n",
    "\n",
    "<font size=\"4\" style=\"line-height:1.3\">**Interests are calculated and added to your savings account once at the end of each quarter.**\n",
    "</font>"
   ]
  }
 ],
 "metadata": {
  "kernelspec": {
   "display_name": "Python 3 (ipykernel)",
   "language": "python",
   "name": "python3"
  },
  "language_info": {
   "codemirror_mode": {
    "name": "ipython",
    "version": 3
   },
   "file_extension": ".py",
   "mimetype": "text/x-python",
   "name": "python",
   "nbconvert_exporter": "python",
   "pygments_lexer": "ipython3",
   "version": "3.9.10"
  }
 },
 "nbformat": 4,
 "nbformat_minor": 5
}
