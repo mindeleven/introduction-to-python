{
 "cells": [
  {
   "cell_type": "markdown",
   "id": "2b48f8e9",
   "metadata": {},
   "source": [
    "$A \\subseteq B$"
   ]
  },
  {
   "cell_type": "code",
   "execution_count": 1,
   "id": "a76ee155",
   "metadata": {},
   "outputs": [],
   "source": [
    "# define two sets A and B\n",
    "A = {1, 2, 3, 8}\n",
    "B = {3, 4}"
   ]
  },
  {
   "cell_type": "code",
   "execution_count": 3,
   "id": "0a1a1053",
   "metadata": {},
   "outputs": [
    {
     "name": "stdout",
     "output_type": "stream",
     "text": [
      "True\n"
     ]
    }
   ],
   "source": [
    "# checking membership relationship\n",
    "# is particular element in a set?\n",
    "print(1 in A)"
   ]
  },
  {
   "cell_type": "code",
   "execution_count": 5,
   "id": "6e6ff9e1",
   "metadata": {},
   "outputs": [
    {
     "data": {
      "text/plain": [
       "False"
      ]
     },
     "execution_count": 5,
     "metadata": {},
     "output_type": "execute_result"
    }
   ],
   "source": [
    "# Setting variable to check membership\n",
    "is_member_of = 4 in A\n",
    "is_member_of"
   ]
  },
  {
   "cell_type": "code",
   "execution_count": 6,
   "id": "4436bc2e",
   "metadata": {},
   "outputs": [
    {
     "data": {
      "text/plain": [
       "bool"
      ]
     },
     "execution_count": 6,
     "metadata": {},
     "output_type": "execute_result"
    }
   ],
   "source": [
    "type(is_member_of)"
   ]
  },
  {
   "cell_type": "code",
   "execution_count": 9,
   "id": "0d27bc28",
   "metadata": {},
   "outputs": [
    {
     "data": {
      "text/plain": [
       "False"
      ]
     },
     "execution_count": 9,
     "metadata": {},
     "output_type": "execute_result"
    }
   ],
   "source": [
    "# checking if a set is a subset\n",
    "B.issubset(A) # B has some elements that are not in A so this returns falls"
   ]
  },
  {
   "cell_type": "code",
   "execution_count": 11,
   "id": "9f303dd7",
   "metadata": {},
   "outputs": [],
   "source": [
    "# custom function to check for subset\n",
    "def f_issubset(A, B):\n",
    "    for elem in A:\n",
    "        if elem in B:\n",
    "            pass\n",
    "        else:\n",
    "            return False\n",
    "    return True"
   ]
  },
  {
   "cell_type": "code",
   "execution_count": 12,
   "id": "1666f7ab",
   "metadata": {},
   "outputs": [
    {
     "name": "stdout",
     "output_type": "stream",
     "text": [
      "False\n"
     ]
    }
   ],
   "source": [
    "print(f_issubset(B, A))"
   ]
  },
  {
   "cell_type": "code",
   "execution_count": 13,
   "id": "ec6c5e9a",
   "metadata": {},
   "outputs": [
    {
     "name": "stdout",
     "output_type": "stream",
     "text": [
      "True\n"
     ]
    }
   ],
   "source": [
    "print(f_issubset({2, 3, 4}, {1, 2, 3, 4, 5, 6}))"
   ]
  },
  {
   "cell_type": "markdown",
   "id": "dd28c07e",
   "metadata": {},
   "source": [
    "## Generating Power Set"
   ]
  },
  {
   "cell_type": "code",
   "execution_count": 20,
   "id": "38d77c9f",
   "metadata": {},
   "outputs": [],
   "source": [
    "# coding challenge\n",
    "# write a function that takes a set and returns a powerset\n",
    "# print the powerset\n",
    "def f_getpowerset(A):\n",
    "    B = set()\n",
    "    for elem in A:\n",
    "        B.add(elem)\n",
    "    return A"
   ]
  },
  {
   "cell_type": "code",
   "execution_count": 22,
   "id": "f198f749",
   "metadata": {},
   "outputs": [
    {
     "name": "stdout",
     "output_type": "stream",
     "text": [
      "{8, 1, 2, 3}\n"
     ]
    }
   ],
   "source": [
    "print(f_getpowerset(A))"
   ]
  }
 ],
 "metadata": {
  "kernelspec": {
   "display_name": "Python 3 (ipykernel)",
   "language": "python",
   "name": "python3"
  },
  "language_info": {
   "codemirror_mode": {
    "name": "ipython",
    "version": 3
   },
   "file_extension": ".py",
   "mimetype": "text/x-python",
   "name": "python",
   "nbconvert_exporter": "python",
   "pygments_lexer": "ipython3",
   "version": "3.8.9"
  }
 },
 "nbformat": 4,
 "nbformat_minor": 5
}
