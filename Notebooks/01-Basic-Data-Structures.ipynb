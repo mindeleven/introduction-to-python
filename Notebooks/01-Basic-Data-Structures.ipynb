{
 "cells": [
  {
   "cell_type": "markdown",
   "id": "acfde2e6",
   "metadata": {},
   "source": [
    "## The Zen of Python"
   ]
  },
  {
   "cell_type": "code",
   "execution_count": 1,
   "id": "23403d60",
   "metadata": {},
   "outputs": [
    {
     "name": "stdout",
     "output_type": "stream",
     "text": [
      "The Zen of Python, by Tim Peters\n",
      "\n",
      "Beautiful is better than ugly.\n",
      "Explicit is better than implicit.\n",
      "Simple is better than complex.\n",
      "Complex is better than complicated.\n",
      "Flat is better than nested.\n",
      "Sparse is better than dense.\n",
      "Readability counts.\n",
      "Special cases aren't special enough to break the rules.\n",
      "Although practicality beats purity.\n",
      "Errors should never pass silently.\n",
      "Unless explicitly silenced.\n",
      "In the face of ambiguity, refuse the temptation to guess.\n",
      "There should be one-- and preferably only one --obvious way to do it.\n",
      "Although that way may not be obvious at first unless you're Dutch.\n",
      "Now is better than never.\n",
      "Although never is often better than *right* now.\n",
      "If the implementation is hard to explain, it's a bad idea.\n",
      "If the implementation is easy to explain, it may be a good idea.\n",
      "Namespaces are one honking great idea -- let's do more of those!\n"
     ]
    }
   ],
   "source": [
    "import this"
   ]
  },
  {
   "cell_type": "markdown",
   "id": "70bc1b12",
   "metadata": {},
   "source": [
    "## Variables"
   ]
  },
  {
   "cell_type": "code",
   "execution_count": 10,
   "id": "0797e0d9",
   "metadata": {},
   "outputs": [
    {
     "name": "stdout",
     "output_type": "stream",
     "text": [
      "<class 'int'>\n",
      "<class 'str'>\n",
      "<class 'list'>\n"
     ]
    }
   ],
   "source": [
    "x = 4\n",
    "print(type(x))\n",
    "x = 'Hello World'\n",
    "print(type(x))\n",
    "x = [1, 2, 3]\n",
    "print(type(x))"
   ]
  },
  {
   "cell_type": "markdown",
   "id": "ed7f6491",
   "metadata": {},
   "source": [
    "## Built-In Data Structures"
   ]
  },
  {
   "cell_type": "markdown",
   "id": "7ab8b5f9",
   "metadata": {},
   "source": [
    "Examples taken from *A Whirlwind Tour of Python* by Jake VanderPlas (__[https://jakevdp.github.io/WhirlwindTourOfPython/](https://jakevdp.github.io/WhirlwindTourOfPython/)__)"
   ]
  },
  {
   "cell_type": "markdown",
   "id": "82921513",
   "metadata": {},
   "source": [
    "## Lists"
   ]
  },
  {
   "cell_type": "markdown",
   "id": "a780d0a8",
   "metadata": {},
   "source": [
    "Lists are ordered and mutable data collections."
   ]
  },
  {
   "cell_type": "code",
   "execution_count": 26,
   "id": "9978c2bc",
   "metadata": {},
   "outputs": [
    {
     "data": {
      "text/plain": [
       "[1, 2, 3, 4, 5, 6, 33, 44, 66]"
      ]
     },
     "execution_count": 26,
     "metadata": {},
     "output_type": "execute_result"
    }
   ],
   "source": [
    "my_list = [2, 5, 3, 4, 1]\n",
    "\n",
    "# length of the list\n",
    "len(my_list)\n",
    "\n",
    "# append a value to the end\n",
    "my_list.append(6)\n",
    "\n",
    "# concatenates lists by addition\n",
    "your_list = [66, 33, 44]\n",
    "new_list = my_list + your_list\n",
    "\n",
    "# sort() method sorts in-place L=[2,5,1,6,3,4]\n",
    "new_list.sort()\n",
    "new_list"
   ]
  },
  {
   "cell_type": "markdown",
   "id": "772b505c",
   "metadata": {},
   "source": [
    "List indexing and slicing"
   ]
  },
  {
   "cell_type": "code",
   "execution_count": 1,
   "id": "4fe5c26a",
   "metadata": {},
   "outputs": [],
   "source": [
    "L=[2,3,5,7,11]"
   ]
  },
  {
   "cell_type": "code",
   "execution_count": 2,
   "id": "d872ee62",
   "metadata": {},
   "outputs": [
    {
     "data": {
      "text/plain": [
       "2"
      ]
     },
     "execution_count": 2,
     "metadata": {},
     "output_type": "execute_result"
    }
   ],
   "source": [
    "L[0]"
   ]
  },
  {
   "cell_type": "code",
   "execution_count": 3,
   "id": "57126370",
   "metadata": {},
   "outputs": [
    {
     "data": {
      "text/plain": [
       "3"
      ]
     },
     "execution_count": 3,
     "metadata": {},
     "output_type": "execute_result"
    }
   ],
   "source": [
    "L[1]"
   ]
  },
  {
   "cell_type": "code",
   "execution_count": 5,
   "id": "3c7df426",
   "metadata": {},
   "outputs": [
    {
     "data": {
      "text/plain": [
       "11"
      ]
     },
     "execution_count": 5,
     "metadata": {},
     "output_type": "execute_result"
    }
   ],
   "source": [
    "# accessing elements at the end of the list\n",
    "L[-1]"
   ]
  },
  {
   "cell_type": "code",
   "execution_count": 6,
   "id": "366f7b7c",
   "metadata": {},
   "outputs": [
    {
     "data": {
      "text/plain": [
       "7"
      ]
     },
     "execution_count": 6,
     "metadata": {},
     "output_type": "execute_result"
    }
   ],
   "source": [
    "L[-2]"
   ]
  },
  {
   "cell_type": "markdown",
   "id": "27053657",
   "metadata": {},
   "source": [
    "Multiple values can be accessed with a sublist"
   ]
  },
  {
   "cell_type": "code",
   "execution_count": 8,
   "id": "00c83645",
   "metadata": {},
   "outputs": [
    {
     "data": {
      "text/plain": [
       "[2, 3, 5]"
      ]
     },
     "execution_count": 8,
     "metadata": {},
     "output_type": "execute_result"
    }
   ],
   "source": [
    "L[0:3]"
   ]
  },
  {
   "cell_type": "code",
   "execution_count": 9,
   "id": "b7421ab2",
   "metadata": {},
   "outputs": [
    {
     "data": {
      "text/plain": [
       "[2, 3, 5]"
      ]
     },
     "execution_count": 9,
     "metadata": {},
     "output_type": "execute_result"
    }
   ],
   "source": [
    "L[:3]"
   ]
  },
  {
   "cell_type": "code",
   "execution_count": 10,
   "id": "0b73ab31",
   "metadata": {},
   "outputs": [
    {
     "data": {
      "text/plain": [
       "[5, 7, 11]"
      ]
     },
     "execution_count": 10,
     "metadata": {},
     "output_type": "execute_result"
    }
   ],
   "source": [
    "L[-3:]"
   ]
  },
  {
   "cell_type": "markdown",
   "id": "675e9921",
   "metadata": {},
   "source": [
    "The step size for the subset can be specified by a third integer value."
   ]
  },
  {
   "cell_type": "code",
   "execution_count": 12,
   "id": "6ef67663",
   "metadata": {},
   "outputs": [
    {
     "data": {
      "text/plain": [
       "[2, 5, 11]"
      ]
     },
     "execution_count": 12,
     "metadata": {},
     "output_type": "execute_result"
    }
   ],
   "source": [
    "# selecting every second element of the list\n",
    "L[::2] # equivalent to L[0:len(L):2]"
   ]
  },
  {
   "cell_type": "markdown",
   "id": "2ad63a5f",
   "metadata": {},
   "source": [
    "Specifying a negative step will reverse the array"
   ]
  },
  {
   "cell_type": "code",
   "execution_count": 13,
   "id": "5edc74b5",
   "metadata": {},
   "outputs": [
    {
     "data": {
      "text/plain": [
       "[11, 7, 5, 3, 2]"
      ]
     },
     "execution_count": 13,
     "metadata": {},
     "output_type": "execute_result"
    }
   ],
   "source": [
    "L[::-1]"
   ]
  },
  {
   "cell_type": "markdown",
   "id": "0d12643a",
   "metadata": {},
   "source": [
    "Indexing and slicing can also be used to set elements"
   ]
  },
  {
   "cell_type": "code",
   "execution_count": 15,
   "id": "1ecfa14a",
   "metadata": {},
   "outputs": [
    {
     "name": "stdout",
     "output_type": "stream",
     "text": [
      "[100, 3, 5, 7, 11]\n"
     ]
    }
   ],
   "source": [
    "L[0] = 100\n",
    "print(L)"
   ]
  },
  {
   "cell_type": "code",
   "execution_count": 17,
   "id": "30ff0ffe",
   "metadata": {},
   "outputs": [
    {
     "name": "stdout",
     "output_type": "stream",
     "text": [
      "[100, 55, 56, 7, 11]\n"
     ]
    }
   ],
   "source": [
    "L[1:3] = [55, 56]\n",
    "print(L)"
   ]
  },
  {
   "cell_type": "markdown",
   "id": "605ccf60",
   "metadata": {},
   "source": [
    "## Tuples"
   ]
  },
  {
   "cell_type": "markdown",
   "id": "54d2e5fa",
   "metadata": {},
   "source": [
    "Tuples are similar to lists but they are immutable data structures"
   ]
  },
  {
   "cell_type": "code",
   "execution_count": 6,
   "id": "a000159d",
   "metadata": {},
   "outputs": [],
   "source": [
    "t = (1, 2, 3) # can also be defined without brackets: t = 1, 2, 3"
   ]
  },
  {
   "cell_type": "code",
   "execution_count": 4,
   "id": "0c4a397d",
   "metadata": {},
   "outputs": [
    {
     "data": {
      "text/plain": [
       "(1, 2, 3)"
      ]
     },
     "execution_count": 4,
     "metadata": {},
     "output_type": "execute_result"
    }
   ],
   "source": [
    "t"
   ]
  },
  {
   "cell_type": "code",
   "execution_count": 7,
   "id": "78797bf5",
   "metadata": {},
   "outputs": [
    {
     "data": {
      "text/plain": [
       "3"
      ]
     },
     "execution_count": 7,
     "metadata": {},
     "output_type": "execute_result"
    }
   ],
   "source": [
    "# getting the length of the tuple\n",
    "len(t)"
   ]
  },
  {
   "cell_type": "code",
   "execution_count": 8,
   "id": "b08e7a3d",
   "metadata": {},
   "outputs": [
    {
     "data": {
      "text/plain": [
       "2"
      ]
     },
     "execution_count": 8,
     "metadata": {},
     "output_type": "execute_result"
    }
   ],
   "source": [
    "# extracting an individual element\n",
    "t[1]"
   ]
  },
  {
   "cell_type": "code",
   "execution_count": 9,
   "id": "90aeadea",
   "metadata": {},
   "outputs": [
    {
     "ename": "TypeError",
     "evalue": "'tuple' object does not support item assignment",
     "output_type": "error",
     "traceback": [
      "\u001b[0;31m---------------------------------------------------------------------------\u001b[0m",
      "\u001b[0;31mTypeError\u001b[0m                                 Traceback (most recent call last)",
      "Input \u001b[0;32mIn [9]\u001b[0m, in \u001b[0;36m<module>\u001b[0;34m\u001b[0m\n\u001b[1;32m      1\u001b[0m \u001b[38;5;66;03m# tuples are immutable\u001b[39;00m\n\u001b[0;32m----> 2\u001b[0m t[\u001b[38;5;241m1\u001b[39m] \u001b[38;5;241m=\u001b[39m \u001b[38;5;241m4\u001b[39m\n",
      "\u001b[0;31mTypeError\u001b[0m: 'tuple' object does not support item assignment"
     ]
    }
   ],
   "source": [
    "# tuples are immutable\n",
    "t[1] = 4"
   ]
  },
  {
   "cell_type": "code",
   "execution_count": 11,
   "id": "46f9da91",
   "metadata": {},
   "outputs": [
    {
     "ename": "AttributeError",
     "evalue": "'tuple' object has no attribute 'append'",
     "output_type": "error",
     "traceback": [
      "\u001b[0;31m---------------------------------------------------------------------------\u001b[0m",
      "\u001b[0;31mAttributeError\u001b[0m                            Traceback (most recent call last)",
      "Input \u001b[0;32mIn [11]\u001b[0m, in \u001b[0;36m<module>\u001b[0;34m\u001b[0m\n\u001b[1;32m      1\u001b[0m \u001b[38;5;66;03m# item assignment is not supported either\u001b[39;00m\n\u001b[0;32m----> 2\u001b[0m \u001b[43mt\u001b[49m\u001b[38;5;241;43m.\u001b[39;49m\u001b[43mappend\u001b[49m(\u001b[38;5;241m4\u001b[39m)\n",
      "\u001b[0;31mAttributeError\u001b[0m: 'tuple' object has no attribute 'append'"
     ]
    }
   ],
   "source": [
    "# item assignment is not supported either\n",
    "t.append(4)"
   ]
  },
  {
   "cell_type": "markdown",
   "id": "95a66ee9",
   "metadata": {},
   "source": [
    "A common case to use tuples is in functions that have multiple return values."
   ]
  },
  {
   "cell_type": "code",
   "execution_count": 13,
   "id": "a839143b",
   "metadata": {},
   "outputs": [
    {
     "data": {
      "text/plain": [
       "(1, 8)"
      ]
     },
     "execution_count": 13,
     "metadata": {},
     "output_type": "execute_result"
    }
   ],
   "source": [
    "# the as_integer_ratio() method of floating-point objects returns a numerator and a denominator\n",
    "x = 0.125\n",
    "x.as_integer_ratio()"
   ]
  },
  {
   "cell_type": "markdown",
   "id": "c3226aa9",
   "metadata": {},
   "source": [
    "More about lists and tuples in the __[Data Structures](https://docs.python.org/3/tutorial/datastructures.html)__ chapter of the Python documentation "
   ]
  },
  {
   "cell_type": "markdown",
   "id": "1e3b508b",
   "metadata": {},
   "source": [
    "## Dictionaries"
   ]
  },
  {
   "cell_type": "markdown",
   "id": "445b2e3b",
   "metadata": {},
   "source": [
    "Dictionaries are comma-separated list of key:value pairs within curly braces. This data structure do not maintain any sense of order."
   ]
  },
  {
   "cell_type": "code",
   "execution_count": 15,
   "id": "6ef3c93b",
   "metadata": {},
   "outputs": [],
   "source": [
    "numbers = { 'one': 1, 'two': 2, 'three': 3 }"
   ]
  },
  {
   "cell_type": "code",
   "execution_count": 16,
   "id": "017f2b9e",
   "metadata": {},
   "outputs": [
    {
     "data": {
      "text/plain": [
       "2"
      ]
     },
     "execution_count": 16,
     "metadata": {},
     "output_type": "execute_result"
    }
   ],
   "source": [
    "# accessing a value with the key \n",
    "numbers['two']"
   ]
  },
  {
   "cell_type": "markdown",
   "id": "815480e1",
   "metadata": {},
   "source": [
    "New items can be added to the dictionary using indexing."
   ]
  },
  {
   "cell_type": "code",
   "execution_count": 18,
   "id": "f23582de",
   "metadata": {},
   "outputs": [
    {
     "name": "stdout",
     "output_type": "stream",
     "text": [
      "{'one': 1, 'two': 2, 'three': 3, 'ninety': 90}\n"
     ]
    }
   ],
   "source": [
    "numbers['ninety'] = 90\n",
    "print(numbers)"
   ]
  },
  {
   "cell_type": "markdown",
   "id": "e7b81c67",
   "metadata": {},
   "source": [
    "A list of the methods available for dictionaries can be found in the __[Python documentation](https://docs.python.org/3/tutorial/datastructures.html#dictionaries)__."
   ]
  },
  {
   "cell_type": "markdown",
   "id": "be9489df",
   "metadata": {},
   "source": [
    "## Sets"
   ]
  },
  {
   "cell_type": "markdown",
   "id": "ed18b705",
   "metadata": {},
   "source": [
    "Set contain unordered collections of unique items."
   ]
  },
  {
   "cell_type": "code",
   "execution_count": 19,
   "id": "dc4035ca",
   "metadata": {},
   "outputs": [],
   "source": [
    "primes = { 2, 3, 5, 7 }\n",
    "odds={1,3,5,7,9}"
   ]
  },
  {
   "cell_type": "code",
   "execution_count": 23,
   "id": "faebc033",
   "metadata": {},
   "outputs": [
    {
     "data": {
      "text/plain": [
       "{1, 2, 3, 5, 7, 9}"
      ]
     },
     "execution_count": 23,
     "metadata": {},
     "output_type": "execute_result"
    }
   ],
   "source": [
    "# union - items appearing in either \n",
    "primes | odds # equivalent to primes.union(odds)"
   ]
  },
  {
   "cell_type": "code",
   "execution_count": 24,
   "id": "041bbe36",
   "metadata": {},
   "outputs": [
    {
     "data": {
      "text/plain": [
       "{3, 5, 7}"
      ]
     },
     "execution_count": 24,
     "metadata": {},
     "output_type": "execute_result"
    }
   ],
   "source": [
    "# intersection - items appearing in both\n",
    "primes & odds # equivalent to primes.intersection(odds)"
   ]
  },
  {
   "cell_type": "code",
   "execution_count": 25,
   "id": "4fee57f4",
   "metadata": {},
   "outputs": [
    {
     "data": {
      "text/plain": [
       "{2}"
      ]
     },
     "execution_count": 25,
     "metadata": {},
     "output_type": "execute_result"
    }
   ],
   "source": [
    "# difference - items in primes but not in odds \n",
    "primes - odds # equivalent to primes.difference(odds)"
   ]
  },
  {
   "cell_type": "code",
   "execution_count": 26,
   "id": "9b9885d1",
   "metadata": {},
   "outputs": [
    {
     "data": {
      "text/plain": [
       "{1, 2, 9}"
      ]
     },
     "execution_count": 26,
     "metadata": {},
     "output_type": "execute_result"
    }
   ],
   "source": [
    "# symmetric difference - items appearing in only one set \n",
    "primes ^ odds # equivalent to primes.symmetric_difference(odds)"
   ]
  },
  {
   "cell_type": "code",
   "execution_count": null,
   "id": "75602b8e",
   "metadata": {},
   "outputs": [],
   "source": []
  }
 ],
 "metadata": {
  "kernelspec": {
   "display_name": "Python 3 (ipykernel)",
   "language": "python",
   "name": "python3"
  },
  "language_info": {
   "codemirror_mode": {
    "name": "ipython",
    "version": 3
   },
   "file_extension": ".py",
   "mimetype": "text/x-python",
   "name": "python",
   "nbconvert_exporter": "python",
   "pygments_lexer": "ipython3",
   "version": "3.9.10"
  }
 },
 "nbformat": 4,
 "nbformat_minor": 5
}
