{
 "cells": [
  {
   "cell_type": "markdown",
   "id": "d7e8e9de",
   "metadata": {},
   "source": [
    "# Strategy"
   ]
  },
  {
   "cell_type": "markdown",
   "id": "a1f6bfb0",
   "metadata": {},
   "source": [
    "The strategy we're looking for will allow us to search for all the possible cryptos that we can go long and short on on Bybit within their perpetual derivatives contract."
   ]
  },
  {
   "cell_type": "markdown",
   "id": "bdccbf4e",
   "metadata": {},
   "source": [
    "<font size=\"4\" style=\"line-height:1.3\">**Definition from [CoinDesk](https://www.coindesk.com/learn/what-is-a-perpetual-swap-contract/):** Derivatives are financial instruments that derive their value from an underlying asset. Like other types of derivatives, including futures and options, perpetual swaps provide a means to speculate on the value of assets while the contract is held.</font>"
   ]
  },
  {
   "cell_type": "code",
   "execution_count": null,
   "id": "719eb423",
   "metadata": {},
   "outputs": [],
   "source": []
  }
 ],
 "metadata": {
  "kernelspec": {
   "display_name": "Python 3 (ipykernel)",
   "language": "python",
   "name": "python3"
  },
  "language_info": {
   "codemirror_mode": {
    "name": "ipython",
    "version": 3
   },
   "file_extension": ".py",
   "mimetype": "text/x-python",
   "name": "python",
   "nbconvert_exporter": "python",
   "pygments_lexer": "ipython3",
   "version": "3.8.9"
  }
 },
 "nbformat": 4,
 "nbformat_minor": 5
}
