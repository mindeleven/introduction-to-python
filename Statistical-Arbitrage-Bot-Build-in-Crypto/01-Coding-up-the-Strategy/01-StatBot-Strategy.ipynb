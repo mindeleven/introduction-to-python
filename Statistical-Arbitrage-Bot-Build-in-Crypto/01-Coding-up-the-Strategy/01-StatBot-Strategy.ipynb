{
 "cells": [
  {
   "cell_type": "markdown",
   "id": "d7e8e9de",
   "metadata": {},
   "source": [
    "# StatBot Strategy"
   ]
  },
  {
   "cell_type": "markdown",
   "id": "cada00cf",
   "metadata": {},
   "source": [
    "Strategy for building a trading bot that accesses the ByBit API as outlined by Shaun McDonogh in his [Statistical Arbitrage Bot Build course](https://www.udemy.com/course/statistical-arbitrage-bot-build-in-crypto-with-python-a-z/learn/lecture/31161520#overview) on Udemy."
   ]
  },
  {
   "cell_type": "markdown",
   "id": "b0265eeb",
   "metadata": {},
   "source": [
    "## StatBot - Gameplan"
   ]
  },
  {
   "cell_type": "markdown",
   "id": "a1f6bfb0",
   "metadata": {},
   "source": [
    "The StatBot needs to follow a **gameplan** that tells us which logic we're going to implement in the strategy and execution section."
   ]
  },
  {
   "cell_type": "markdown",
   "id": "bdccbf4e",
   "metadata": {},
   "source": [
    "<font size=\"4\" style=\"line-height:1.3\">**Definition from [CoinDesk](https://www.coindesk.com/learn/what-is-a-perpetual-swap-contract/):** Derivatives are financial instruments that derive their value from an underlying asset. Like other types of derivatives, including futures and options, perpetual swaps provide a means to speculate on the value of assets while the contract is held.</font>"
   ]
  },
  {
   "cell_type": "markdown",
   "id": "f4b68e31",
   "metadata": {},
   "source": [
    "## Strategy"
   ]
  },
  {
   "cell_type": "markdown",
   "id": "8a8f34ab",
   "metadata": {},
   "source": [
    "The strategy we're looking for will allow us to search for all the possible cryptos that we can go long and short on on Bybit within their perpetual derivatives contract.  \n",
    "\n",
    "Next we're going to filter through all the cryptos we found and our goal is to find what pairs or cointegrated. This data will be saved as a spreadsheet that can be opened with Google Sheets or Excel.  \n",
    "\n",
    "This spreadsheet should tell us what are the best looking code integrated pairs on both hourly data or daily data are."
   ]
  },
  {
   "cell_type": "markdown",
   "id": "85f3cfc8",
   "metadata": {},
   "source": [
    "## Coding Step (1) - Get Tradable Symbols"
   ]
  },
  {
   "cell_type": "markdown",
   "id": "24d208a2",
   "metadata": {},
   "source": [
    "- Connect to the ByBit API\n",
    "\n",
    "- Ask Bybit for all the available tickers, assets or tradable symbols"
   ]
  },
  {
   "cell_type": "markdown",
   "id": "59f05f09",
   "metadata": {},
   "source": [
    "## Coding Step (2) - Get The Price History"
   ]
  },
  {
   "cell_type": "markdown",
   "id": "6ac96f5e",
   "metadata": {},
   "source": [
    "- Get the price history for all of those symbols\n"
   ]
  },
  {
   "cell_type": "markdown",
   "id": "bf142eef",
   "metadata": {},
   "source": [
    "## Coding Step (3) - Calculate Cointegration"
   ]
  },
  {
   "cell_type": "markdown",
   "id": "dd463413",
   "metadata": {},
   "source": [
    "- after price history is available, put symbols through a cointegration calculation"
   ]
  },
  {
   "cell_type": "markdown",
   "id": "8a2c737a",
   "metadata": {},
   "source": [
    "## Coding Step (4) - Analyze findings (Spread/ZScore)"
   ]
  },
  {
   "cell_type": "markdown",
   "id": "8736877d",
   "metadata": {},
   "source": [
    "- After cointegration calculation, analyze the findings using spread and Z-score\n",
    "\n",
    "- Calculate the spread and the Z-score\n",
    "\n",
    "- Visualize findings in a chart\n",
    "\n",
    "- Apply a filter that tells you how often the spread crosses the zero line"
   ]
  },
  {
   "cell_type": "markdown",
   "id": "44251648",
   "metadata": {},
   "source": [
    "## Coding Step (5) - Excel Back Test"
   ]
  },
  {
   "cell_type": "markdown",
   "id": "88e05761",
   "metadata": {},
   "source": [
    "- Testing the cointegrated pairs with Excel\n",
    "\n",
    "- Next step will be the execution of StatBotOne"
   ]
  },
  {
   "cell_type": "code",
   "execution_count": null,
   "id": "46697d1d",
   "metadata": {},
   "outputs": [],
   "source": []
  }
 ],
 "metadata": {
  "kernelspec": {
   "display_name": "Python 3 (ipykernel)",
   "language": "python",
   "name": "python3"
  },
  "language_info": {
   "codemirror_mode": {
    "name": "ipython",
    "version": 3
   },
   "file_extension": ".py",
   "mimetype": "text/x-python",
   "name": "python",
   "nbconvert_exporter": "python",
   "pygments_lexer": "ipython3",
   "version": "3.9.10"
  }
 },
 "nbformat": 4,
 "nbformat_minor": 5
}
