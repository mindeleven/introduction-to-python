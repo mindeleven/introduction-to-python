{
 "cells": [
  {
   "cell_type": "markdown",
   "id": "d7e8e9de",
   "metadata": {},
   "source": [
    "# Coding up the Strategy"
   ]
  },
  {
   "cell_type": "markdown",
   "id": "d8825dd7",
   "metadata": {},
   "source": [
    "Coding up the Strategy for building a trading bot as outlined by Shaun McDonogh in his [Statistical Arbitrage Bot Build course](https://www.udemy.com/course/statistical-arbitrage-bot-build-in-crypto-with-python-a-z/learn/lecture/31161552#content) on Udemy."
   ]
  },
  {
   "cell_type": "code",
   "execution_count": 1,
   "id": "41b20eaf",
   "metadata": {},
   "outputs": [],
   "source": [
    "'''\n",
    "    API Documentation\n",
    "    https://bybit-exchange.github.io/docs/inverse/#t-introduction\n",
    "\n",
    "    WebSocket example\n",
    "    https://github.com/bybit-exchange/pybit/blob/master/examples/websocket_example.py\n",
    "'''\n",
    "\n",
    "# API Imports\n",
    "import pandas as pd\n",
    "from time import sleep\n",
    "#from pybit import HTTP\n",
    "#from pybit import WebSocket #returns ImportError: cannot import name 'WebSocket' from 'pybit'\n",
    "from pybit.inverse_perpetual import WebSocket, HTTP\n",
    "\n",
    "from pybit import inverse_perpetual"
   ]
  },
  {
   "cell_type": "markdown",
   "id": "2a1131c4",
   "metadata": {},
   "source": [
    "Coding up the Strategy for building a trading bot as outlined by Shaun McDonogh in his [Statistical Arbitrage Bot Build course](https://www.udemy.com/course/statistical-arbitrage-bot-build-in-crypto-with-python-a-z/learn/lecture/31161552#content) on Udemy."
   ]
  },
  {
   "cell_type": "code",
   "execution_count": 2,
   "id": "7d893957",
   "metadata": {},
   "outputs": [
    {
     "data": {
      "text/plain": [
       "pybit.inverse_perpetual.HTTP"
      ]
     },
     "execution_count": 2,
     "metadata": {},
     "output_type": "execute_result"
    }
   ],
   "source": [
    "HTTP"
   ]
  },
  {
   "cell_type": "code",
   "execution_count": 3,
   "id": "52126308",
   "metadata": {},
   "outputs": [],
   "source": [
    "# CONFIG\n",
    "mode = 'test'\n",
    "# focus is going to be on hourly data (60) and daily (\"D\")\n",
    "# available time frames\n",
    "# https://bybit-exchange.github.io/docs/inverse/#tp-sl-mode-tp_sl_mode\n",
    "timeframe = 60\n",
    "# maximum number of history I want to pull when getting historical candlesticks\n",
    "kline_limit = 200\n",
    "# z_score works like a moving average\n",
    "# window of this moving average needs to be configured\n",
    "# the smaller the number the more aggressive the z-score strategy is going to be\n",
    "z_score_window = 21"
   ]
  },
  {
   "cell_type": "code",
   "execution_count": 4,
   "id": "e5d0bb0d",
   "metadata": {},
   "outputs": [],
   "source": [
    "# LIVE API\n",
    "api_key_mainnet = ''\n",
    "api_secret_mainnet = ''"
   ]
  },
  {
   "cell_type": "code",
   "execution_count": 5,
   "id": "aca91509",
   "metadata": {},
   "outputs": [],
   "source": [
    "# TEST API\n",
    "keys_test = pd.read_csv(\"~/Documents/temp/byb/testnet_key.txt\", sep=\" \", header=None)\n",
    "api_key_testnet = keys_test[0][0]\n",
    "api_secret_testnet = keys_test[0][1]"
   ]
  },
  {
   "cell_type": "code",
   "execution_count": 6,
   "id": "404dc913",
   "metadata": {},
   "outputs": [],
   "source": [
    "# SELECTED API\n",
    "api_key = api_key_testnet if mode == \"test\" else api_key_mainnet\n",
    "api_secret = api_secret_testnet if mode == \"test\" else api_secret_mainnet"
   ]
  },
  {
   "cell_type": "code",
   "execution_count": 7,
   "id": "8db04253",
   "metadata": {},
   "outputs": [],
   "source": [
    "# API URL\n",
    "# REST endpoints, documentation at\n",
    "# https://bybit-exchange.github.io/docs/inverse/#t-authentication\n",
    "api_url = \"https://api-testnet.bybit.com\" if mode == \"test\" else \"https://api.bybit.com\""
   ]
  },
  {
   "cell_type": "code",
   "execution_count": 8,
   "id": "a7994cec",
   "metadata": {},
   "outputs": [],
   "source": [
    "# SESSION Activation\n",
    "session = HTTP(api_url)"
   ]
  },
  {
   "cell_type": "code",
   "execution_count": 9,
   "id": "175dbecb",
   "metadata": {},
   "outputs": [],
   "source": [
    "# Web Socket Connection example following\n",
    "# https://github.com/bybit-exchange/pybit/blob/master/examples/websocket_example.py\n",
    "# Connect with authentication!\n",
    "ws_inverse = inverse_perpetual.WebSocket(\n",
    "    test=True,\n",
    "    api_key=api_key,  # omit the api_key & secret to connect w/o authentication\n",
    "    api_secret=api_secret,\n",
    "    # to pass a custom domain in case of connectivity problems, you can use:\n",
    "    domain=\"bybit\"  # the default is \"bybit\"\n",
    ")"
   ]
  },
  {
   "cell_type": "code",
   "execution_count": 10,
   "id": "d71859b2",
   "metadata": {},
   "outputs": [],
   "source": [
    "def handle_message(msg):\n",
    "    print(msg)"
   ]
  },
  {
   "cell_type": "code",
   "execution_count": 14,
   "id": "b84c3388",
   "metadata": {},
   "outputs": [
    {
     "ename": "NameError",
     "evalue": "name 'ws' is not defined",
     "output_type": "error",
     "traceback": [
      "\u001b[0;31m---------------------------------------------------------------------------\u001b[0m",
      "\u001b[0;31mNameError\u001b[0m                                 Traceback (most recent call last)",
      "Input \u001b[0;32mIn [14]\u001b[0m, in \u001b[0;36m<cell line: 1>\u001b[0;34m()\u001b[0m\n\u001b[0;32m----> 1\u001b[0m \u001b[43mws\u001b[49m\u001b[38;5;241m.\u001b[39msend(\u001b[38;5;124m'\u001b[39m\u001b[38;5;124m{\u001b[39m\u001b[38;5;124m\"\u001b[39m\u001b[38;5;124mop\u001b[39m\u001b[38;5;124m\"\u001b[39m\u001b[38;5;124m:\u001b[39m\u001b[38;5;124m\"\u001b[39m\u001b[38;5;124msubscribe\u001b[39m\u001b[38;5;124m\"\u001b[39m\u001b[38;5;124m,\u001b[39m\u001b[38;5;124m\"\u001b[39m\u001b[38;5;124margs\u001b[39m\u001b[38;5;124m\"\u001b[39m\u001b[38;5;124m:[\u001b[39m\u001b[38;5;124m\"\u001b[39m\u001b[38;5;124mklineV2.1.BTCUSD\u001b[39m\u001b[38;5;124m\"\u001b[39m\u001b[38;5;124m]}\u001b[39m\u001b[38;5;124m'\u001b[39m)\n",
      "\u001b[0;31mNameError\u001b[0m: name 'ws' is not defined"
     ]
    }
   ],
   "source": [
    "ws.send('{\"op\":\"subscribe\",\"args\":[\"klineV2.1.BTCUSD\"]}')"
   ]
  },
  {
   "cell_type": "code",
   "execution_count": null,
   "id": "e9ce968c",
   "metadata": {},
   "outputs": [],
   "source": []
  },
  {
   "cell_type": "code",
   "execution_count": null,
   "id": "1bd1d079",
   "metadata": {},
   "outputs": [],
   "source": []
  },
  {
   "cell_type": "code",
   "execution_count": null,
   "id": "087e0966",
   "metadata": {},
   "outputs": [],
   "source": []
  },
  {
   "cell_type": "code",
   "execution_count": null,
   "id": "d954ac4c",
   "metadata": {},
   "outputs": [],
   "source": []
  },
  {
   "cell_type": "code",
   "execution_count": null,
   "id": "a69f7b77",
   "metadata": {},
   "outputs": [],
   "source": []
  }
 ],
 "metadata": {
  "kernelspec": {
   "display_name": "Python 3 (ipykernel)",
   "language": "python",
   "name": "python3"
  },
  "language_info": {
   "codemirror_mode": {
    "name": "ipython",
    "version": 3
   },
   "file_extension": ".py",
   "mimetype": "text/x-python",
   "name": "python",
   "nbconvert_exporter": "python",
   "pygments_lexer": "ipython3",
   "version": "3.9.10"
  }
 },
 "nbformat": 4,
 "nbformat_minor": 5
}
