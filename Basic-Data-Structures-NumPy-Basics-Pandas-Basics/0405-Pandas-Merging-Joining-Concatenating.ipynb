{
 "cells": [
  {
   "cell_type": "markdown",
   "id": "df8358f5",
   "metadata": {},
   "source": [
    "## Merging, Joining and Concatenating with Pandas"
   ]
  },
  {
   "cell_type": "code",
   "execution_count": 1,
   "id": "3314e256",
   "metadata": {},
   "outputs": [],
   "source": [
    "import numpy as np\n",
    "import pandas as pd"
   ]
  },
  {
   "cell_type": "code",
   "execution_count": null,
   "id": "a8a418c0",
   "metadata": {},
   "outputs": [],
   "source": []
  }
 ],
 "metadata": {
  "kernelspec": {
   "display_name": "Python 3 (ipykernel)",
   "language": "python",
   "name": "python3"
  },
  "language_info": {
   "codemirror_mode": {
    "name": "ipython",
    "version": 3
   },
   "file_extension": ".py",
   "mimetype": "text/x-python",
   "name": "python",
   "nbconvert_exporter": "python",
   "pygments_lexer": "ipython3",
   "version": "3.9.13"
  }
 },
 "nbformat": 4,
 "nbformat_minor": 5
}
