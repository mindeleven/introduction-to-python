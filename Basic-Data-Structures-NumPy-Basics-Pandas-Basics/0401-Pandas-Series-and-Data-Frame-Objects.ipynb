{
 "cells": [
  {
   "cell_type": "markdown",
   "id": "16562477",
   "metadata": {},
   "source": [
    "# Pandas Series and DataFrame Objects"
   ]
  },
  {
   "cell_type": "markdown",
   "id": "20689b8d",
   "metadata": {},
   "source": [
    "## Pandas Series"
   ]
  },
  {
   "cell_type": "markdown",
   "id": "42aa691d",
   "metadata": {},
   "source": [
    "Series are similar to NumPy arrays, except that we gan give them a named or datetime index."
   ]
  },
  {
   "cell_type": "code",
   "execution_count": 2,
   "id": "da1ac10e",
   "metadata": {},
   "outputs": [],
   "source": [
    "import numpy as np\n",
    "import pandas as pd"
   ]
  },
  {
   "cell_type": "code",
   "execution_count": 3,
   "id": "18a40314",
   "metadata": {},
   "outputs": [],
   "source": [
    "# creating a series by converting object types to a series\n",
    "labels = ['a','b','c']\n",
    "my_list = [10,20,30]\n",
    "arr = np.array([10,20,30]) # numpy array\n",
    "d = {'a':10, 'b':20, 'c':100} # dictionary"
   ]
  },
  {
   "cell_type": "code",
   "execution_count": 4,
   "id": "376e5343",
   "metadata": {},
   "outputs": [
    {
     "data": {
      "text/plain": [
       "0    10\n",
       "1    20\n",
       "2    30\n",
       "dtype: int64"
      ]
     },
     "execution_count": 4,
     "metadata": {},
     "output_type": "execute_result"
    }
   ],
   "source": [
    "# create a series from a list\n",
    "pd.Series(my_list)"
   ]
  },
  {
   "cell_type": "code",
   "execution_count": 5,
   "id": "ebfd0e39",
   "metadata": {},
   "outputs": [
    {
     "data": {
      "text/plain": [
       "a    10\n",
       "b    20\n",
       "c    30\n",
       "dtype: int64"
      ]
     },
     "execution_count": 5,
     "metadata": {},
     "output_type": "execute_result"
    }
   ],
   "source": [
    "# create a series from a list with index\n",
    "pd.Series(my_list,index=labels)"
   ]
  },
  {
   "cell_type": "code",
   "execution_count": 6,
   "id": "d2a091f5",
   "metadata": {},
   "outputs": [
    {
     "data": {
      "text/plain": [
       "a    10\n",
       "b    20\n",
       "c    30\n",
       "dtype: int64"
      ]
     },
     "execution_count": 6,
     "metadata": {},
     "output_type": "execute_result"
    }
   ],
   "source": [
    "# create a series from a numpy array\n",
    "pd.Series(arr,index=labels)"
   ]
  },
  {
   "cell_type": "code",
   "execution_count": 7,
   "id": "d67f01b6",
   "metadata": {},
   "outputs": [
    {
     "data": {
      "text/plain": [
       "a     10\n",
       "b     20\n",
       "c    100\n",
       "dtype: int64"
      ]
     },
     "execution_count": 7,
     "metadata": {},
     "output_type": "execute_result"
    }
   ],
   "source": [
    "# create a series from a dictionary\n",
    "pd.Series(d)"
   ]
  },
  {
   "cell_type": "code",
   "execution_count": 9,
   "id": "5a7e476d",
   "metadata": {},
   "outputs": [
    {
     "data": {
      "text/plain": [
       "0    a\n",
       "1    b\n",
       "2    c\n",
       "dtype: object"
      ]
     },
     "execution_count": 9,
     "metadata": {},
     "output_type": "execute_result"
    }
   ],
   "source": [
    "pd.Series(data=labels) # strings as data"
   ]
  },
  {
   "cell_type": "code",
   "execution_count": 11,
   "id": "d30cd22a",
   "metadata": {},
   "outputs": [
    {
     "data": {
      "text/plain": [
       "0      <built-in function sum>\n",
       "1    <built-in function print>\n",
       "2      <built-in function len>\n",
       "dtype: object"
      ]
     },
     "execution_count": 11,
     "metadata": {},
     "output_type": "execute_result"
    }
   ],
   "source": [
    "# passing list of build in functions to a series\n",
    "pd.Series([sum,print,len]) # extremely uncommon and rarely used"
   ]
  },
  {
   "cell_type": "code",
   "execution_count": 12,
   "id": "5444e49b",
   "metadata": {},
   "outputs": [],
   "source": [
    "# using an index with a pandas series\n",
    "ser1 = pd.Series([1,2,3,4],index=['USA','CHINA','FRANCE','GERMANY'])"
   ]
  },
  {
   "cell_type": "code",
   "execution_count": 13,
   "id": "e1017449",
   "metadata": {},
   "outputs": [
    {
     "data": {
      "text/plain": [
       "USA        1\n",
       "CHINA      2\n",
       "FRANCE     3\n",
       "GERMANY    4\n",
       "dtype: int64"
      ]
     },
     "execution_count": 13,
     "metadata": {},
     "output_type": "execute_result"
    }
   ],
   "source": [
    "ser1"
   ]
  },
  {
   "cell_type": "code",
   "execution_count": 14,
   "id": "14d80cd0",
   "metadata": {},
   "outputs": [],
   "source": [
    "ser2 = pd.Series([1,2,3,4],index=['USA','CHINA','ITALY','JAPAN'])"
   ]
  },
  {
   "cell_type": "code",
   "execution_count": 15,
   "id": "51201acb",
   "metadata": {},
   "outputs": [
    {
     "data": {
      "text/plain": [
       "1"
      ]
     },
     "execution_count": 15,
     "metadata": {},
     "output_type": "execute_result"
    }
   ],
   "source": [
    "# selecting by index\n",
    "ser1['USA']"
   ]
  },
  {
   "cell_type": "code",
   "execution_count": 16,
   "id": "52b77705",
   "metadata": {},
   "outputs": [
    {
     "data": {
      "text/plain": [
       "4"
      ]
     },
     "execution_count": 16,
     "metadata": {},
     "output_type": "execute_result"
    }
   ],
   "source": [
    "ser2['JAPAN']"
   ]
  },
  {
   "cell_type": "code",
   "execution_count": 19,
   "id": "3dbb4d3a",
   "metadata": {},
   "outputs": [],
   "source": [
    "# trying to select something that's not in the series\n",
    "# ser1['CANADA'] # returns a key error"
   ]
  },
  {
   "cell_type": "code",
   "execution_count": 22,
   "id": "1ad0cd1e",
   "metadata": {},
   "outputs": [
    {
     "data": {
      "text/plain": [
       "CHINA      4.0\n",
       "FRANCE     NaN\n",
       "GERMANY    NaN\n",
       "ITALY      NaN\n",
       "JAPAN      NaN\n",
       "USA        2.0\n",
       "dtype: float64"
      ]
     },
     "execution_count": 22,
     "metadata": {},
     "output_type": "execute_result"
    }
   ],
   "source": [
    "# adding series adds up values\n",
    "# adds values if there's a match, otherwise a null value\n",
    "ser1 + ser2"
   ]
  },
  {
   "cell_type": "markdown",
   "id": "cd9f9322",
   "metadata": {},
   "source": [
    "## Pandas DataFrame"
   ]
  },
  {
   "cell_type": "code",
   "execution_count": null,
   "id": "b4ac4ee8",
   "metadata": {},
   "outputs": [],
   "source": []
  }
 ],
 "metadata": {
  "kernelspec": {
   "display_name": "Python 3 (ipykernel)",
   "language": "python",
   "name": "python3"
  },
  "language_info": {
   "codemirror_mode": {
    "name": "ipython",
    "version": 3
   },
   "file_extension": ".py",
   "mimetype": "text/x-python",
   "name": "python",
   "nbconvert_exporter": "python",
   "pygments_lexer": "ipython3",
   "version": "3.9.13"
  }
 },
 "nbformat": 4,
 "nbformat_minor": 5
}
