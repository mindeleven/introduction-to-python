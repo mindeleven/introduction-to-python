{
 "cells": [
  {
   "cell_type": "markdown",
   "id": "58d2f2db",
   "metadata": {},
   "source": [
    "# Data Input and Output"
   ]
  },
  {
   "cell_type": "markdown",
   "id": "85a95fb9",
   "metadata": {},
   "source": [
    "- CSV  \n",
    "- Excel  \n",
    "- HTML  \n",
    "- SQL"
   ]
  },
  {
   "cell_type": "code",
   "execution_count": 90,
   "id": "3af74b9b",
   "metadata": {},
   "outputs": [],
   "source": [
    "import pandas as pd"
   ]
  },
  {
   "cell_type": "code",
   "execution_count": 91,
   "id": "613328e6",
   "metadata": {},
   "outputs": [],
   "source": [
    "data_dir = '../Assets/Data-Python-for-Financial-Analysis/'"
   ]
  },
  {
   "cell_type": "markdown",
   "id": "4e171d17",
   "metadata": {},
   "source": [
    "## CSV"
   ]
  },
  {
   "cell_type": "code",
   "execution_count": 92,
   "id": "447c9e0c",
   "metadata": {},
   "outputs": [
    {
     "data": {
      "text/html": [
       "<div>\n",
       "<style scoped>\n",
       "    .dataframe tbody tr th:only-of-type {\n",
       "        vertical-align: middle;\n",
       "    }\n",
       "\n",
       "    .dataframe tbody tr th {\n",
       "        vertical-align: top;\n",
       "    }\n",
       "\n",
       "    .dataframe thead th {\n",
       "        text-align: right;\n",
       "    }\n",
       "</style>\n",
       "<table border=\"1\" class=\"dataframe\">\n",
       "  <thead>\n",
       "    <tr style=\"text-align: right;\">\n",
       "      <th></th>\n",
       "      <th>a</th>\n",
       "      <th>b</th>\n",
       "      <th>c</th>\n",
       "      <th>d</th>\n",
       "    </tr>\n",
       "  </thead>\n",
       "  <tbody>\n",
       "    <tr>\n",
       "      <th>0</th>\n",
       "      <td>0</td>\n",
       "      <td>1</td>\n",
       "      <td>2</td>\n",
       "      <td>3</td>\n",
       "    </tr>\n",
       "    <tr>\n",
       "      <th>1</th>\n",
       "      <td>4</td>\n",
       "      <td>5</td>\n",
       "      <td>6</td>\n",
       "      <td>7</td>\n",
       "    </tr>\n",
       "    <tr>\n",
       "      <th>2</th>\n",
       "      <td>8</td>\n",
       "      <td>9</td>\n",
       "      <td>10</td>\n",
       "      <td>11</td>\n",
       "    </tr>\n",
       "    <tr>\n",
       "      <th>3</th>\n",
       "      <td>12</td>\n",
       "      <td>13</td>\n",
       "      <td>14</td>\n",
       "      <td>15</td>\n",
       "    </tr>\n",
       "  </tbody>\n",
       "</table>\n",
       "</div>"
      ],
      "text/plain": [
       "    a   b   c   d\n",
       "0   0   1   2   3\n",
       "1   4   5   6   7\n",
       "2   8   9  10  11\n",
       "3  12  13  14  15"
      ]
     },
     "execution_count": 92,
     "metadata": {},
     "output_type": "execute_result"
    }
   ],
   "source": [
    "# reading a csv file\n",
    "pd.read_csv(data_dir + 'example') # reads csv as DataFrame"
   ]
  },
  {
   "cell_type": "code",
   "execution_count": 93,
   "id": "bfda7c11",
   "metadata": {},
   "outputs": [],
   "source": [
    "df = pd.read_csv(data_dir + 'example') # store in variable"
   ]
  },
  {
   "cell_type": "code",
   "execution_count": 94,
   "id": "46ffd2b7",
   "metadata": {},
   "outputs": [],
   "source": [
    "df.to_csv(data_dir + 'my_output',index=False) # saving data to file"
   ]
  },
  {
   "cell_type": "code",
   "execution_count": 95,
   "id": "2e88aef6",
   "metadata": {},
   "outputs": [
    {
     "data": {
      "text/html": [
       "<div>\n",
       "<style scoped>\n",
       "    .dataframe tbody tr th:only-of-type {\n",
       "        vertical-align: middle;\n",
       "    }\n",
       "\n",
       "    .dataframe tbody tr th {\n",
       "        vertical-align: top;\n",
       "    }\n",
       "\n",
       "    .dataframe thead th {\n",
       "        text-align: right;\n",
       "    }\n",
       "</style>\n",
       "<table border=\"1\" class=\"dataframe\">\n",
       "  <thead>\n",
       "    <tr style=\"text-align: right;\">\n",
       "      <th></th>\n",
       "      <th>a</th>\n",
       "      <th>b</th>\n",
       "      <th>c</th>\n",
       "      <th>d</th>\n",
       "    </tr>\n",
       "  </thead>\n",
       "  <tbody>\n",
       "    <tr>\n",
       "      <th>0</th>\n",
       "      <td>0</td>\n",
       "      <td>1</td>\n",
       "      <td>2</td>\n",
       "      <td>3</td>\n",
       "    </tr>\n",
       "    <tr>\n",
       "      <th>1</th>\n",
       "      <td>4</td>\n",
       "      <td>5</td>\n",
       "      <td>6</td>\n",
       "      <td>7</td>\n",
       "    </tr>\n",
       "    <tr>\n",
       "      <th>2</th>\n",
       "      <td>8</td>\n",
       "      <td>9</td>\n",
       "      <td>10</td>\n",
       "      <td>11</td>\n",
       "    </tr>\n",
       "    <tr>\n",
       "      <th>3</th>\n",
       "      <td>12</td>\n",
       "      <td>13</td>\n",
       "      <td>14</td>\n",
       "      <td>15</td>\n",
       "    </tr>\n",
       "  </tbody>\n",
       "</table>\n",
       "</div>"
      ],
      "text/plain": [
       "    a   b   c   d\n",
       "0   0   1   2   3\n",
       "1   4   5   6   7\n",
       "2   8   9  10  11\n",
       "3  12  13  14  15"
      ]
     },
     "execution_count": 95,
     "metadata": {},
     "output_type": "execute_result"
    }
   ],
   "source": [
    "pd.read_csv(data_dir + 'my_output')"
   ]
  },
  {
   "cell_type": "markdown",
   "id": "2be70e74",
   "metadata": {},
   "source": [
    "## Excel"
   ]
  },
  {
   "cell_type": "code",
   "execution_count": 96,
   "id": "8ad7415d",
   "metadata": {},
   "outputs": [
    {
     "data": {
      "text/html": [
       "<div>\n",
       "<style scoped>\n",
       "    .dataframe tbody tr th:only-of-type {\n",
       "        vertical-align: middle;\n",
       "    }\n",
       "\n",
       "    .dataframe tbody tr th {\n",
       "        vertical-align: top;\n",
       "    }\n",
       "\n",
       "    .dataframe thead th {\n",
       "        text-align: right;\n",
       "    }\n",
       "</style>\n",
       "<table border=\"1\" class=\"dataframe\">\n",
       "  <thead>\n",
       "    <tr style=\"text-align: right;\">\n",
       "      <th></th>\n",
       "      <th>a</th>\n",
       "      <th>b</th>\n",
       "      <th>c</th>\n",
       "      <th>d</th>\n",
       "    </tr>\n",
       "  </thead>\n",
       "  <tbody>\n",
       "    <tr>\n",
       "      <th>0</th>\n",
       "      <td>0</td>\n",
       "      <td>1</td>\n",
       "      <td>2</td>\n",
       "      <td>3</td>\n",
       "    </tr>\n",
       "    <tr>\n",
       "      <th>1</th>\n",
       "      <td>4</td>\n",
       "      <td>5</td>\n",
       "      <td>6</td>\n",
       "      <td>7</td>\n",
       "    </tr>\n",
       "    <tr>\n",
       "      <th>2</th>\n",
       "      <td>8</td>\n",
       "      <td>9</td>\n",
       "      <td>10</td>\n",
       "      <td>11</td>\n",
       "    </tr>\n",
       "    <tr>\n",
       "      <th>3</th>\n",
       "      <td>12</td>\n",
       "      <td>13</td>\n",
       "      <td>14</td>\n",
       "      <td>15</td>\n",
       "    </tr>\n",
       "  </tbody>\n",
       "</table>\n",
       "</div>"
      ],
      "text/plain": [
       "    a   b   c   d\n",
       "0   0   1   2   3\n",
       "1   4   5   6   7\n",
       "2   8   9  10  11\n",
       "3  12  13  14  15"
      ]
     },
     "execution_count": 96,
     "metadata": {},
     "output_type": "execute_result"
    }
   ],
   "source": [
    "# reading excel files\n",
    "# reading excel files works only if xlrd and openpyxl are installed\n",
    "# pandas reads an excel file as a workbook\n",
    "# a workbook is a bunch of sheets\n",
    "# and each sheet is a DataFrame\n",
    "# dropping \"Unnamed: 0\" with index_col=[0]\n",
    "pd.read_excel(data_dir + 'Excel_Sample.xlsx',sheet_name='Sheet1',index_col=[0])"
   ]
  },
  {
   "cell_type": "code",
   "execution_count": 97,
   "id": "298c02d8",
   "metadata": {},
   "outputs": [],
   "source": [
    "# saving DataFrame to Excel file\n",
    "df.to_excel(data_dir + 'Excel_Sample2.xlsx',sheet_name='NewSheet')"
   ]
  },
  {
   "cell_type": "markdown",
   "id": "8df7f2c7",
   "metadata": {},
   "source": [
    "## HTML"
   ]
  },
  {
   "cell_type": "markdown",
   "id": "81d26b45",
   "metadata": {},
   "source": [
    "Libraies needed for the examples are lxml, html5lib and BeautifulSoup4. The web page with the list of failed banks that will be used as an example can be found at http://www.fdic.gov/bank/individual/failed/banklist.html"
   ]
  },
  {
   "cell_type": "code",
   "execution_count": 98,
   "id": "e5773bb6",
   "metadata": {},
   "outputs": [],
   "source": [
    "html_bank_list = 'http://www.fdic.gov/bank/individual/failed/banklist.html'"
   ]
  },
  {
   "cell_type": "code",
   "execution_count": 99,
   "id": "edbd6700",
   "metadata": {},
   "outputs": [],
   "source": [
    "# the following code returns 'ValueError: No tables found'\n",
    "# most likely because of dynamic page loading\n",
    "# df = pd.read_html(html_bank_list) # returns ValueError"
   ]
  },
  {
   "cell_type": "code",
   "execution_count": 100,
   "id": "1184e6c1",
   "metadata": {},
   "outputs": [],
   "source": [
    "# Wikipedia example\n",
    "html_wiki_page = 'https://en.wikipedia.org/wiki/Minnesota'"
   ]
  },
  {
   "cell_type": "code",
   "execution_count": 101,
   "id": "128c398e",
   "metadata": {},
   "outputs": [],
   "source": [
    "table_MN = pd.read_html(html_wiki_page) # read_html ready all tables on the page"
   ]
  },
  {
   "cell_type": "code",
   "execution_count": 102,
   "id": "cfe27997",
   "metadata": {},
   "outputs": [
    {
     "name": "stdout",
     "output_type": "stream",
     "text": [
      "Total tables: 29\n"
     ]
    }
   ],
   "source": [
    "print(f'Total tables: {len(table_MN)}')"
   ]
  },
  {
   "cell_type": "code",
   "execution_count": 103,
   "id": "9e6e7331",
   "metadata": {},
   "outputs": [
    {
     "data": {
      "text/html": [
       "<div>\n",
       "<style scoped>\n",
       "    .dataframe tbody tr th:only-of-type {\n",
       "        vertical-align: middle;\n",
       "    }\n",
       "\n",
       "    .dataframe tbody tr th {\n",
       "        vertical-align: top;\n",
       "    }\n",
       "\n",
       "    .dataframe thead th {\n",
       "        text-align: right;\n",
       "    }\n",
       "</style>\n",
       "<table border=\"1\" class=\"dataframe\">\n",
       "  <thead>\n",
       "    <tr style=\"text-align: right;\">\n",
       "      <th></th>\n",
       "      <th>Minnesota</th>\n",
       "      <th>Minnesota.1</th>\n",
       "    </tr>\n",
       "  </thead>\n",
       "  <tbody>\n",
       "    <tr>\n",
       "      <th>0</th>\n",
       "      <td>State</td>\n",
       "      <td>State</td>\n",
       "    </tr>\n",
       "    <tr>\n",
       "      <th>1</th>\n",
       "      <td>State of Minnesota</td>\n",
       "      <td>State of Minnesota</td>\n",
       "    </tr>\n",
       "    <tr>\n",
       "      <th>2</th>\n",
       "      <td>.mw-parser-output .ib-settlement-cols{text-ali...</td>\n",
       "      <td>.mw-parser-output .ib-settlement-cols{text-ali...</td>\n",
       "    </tr>\n",
       "    <tr>\n",
       "      <th>3</th>\n",
       "      <td>Nickname(s): Land of 10,000 Lakes;North Star S...</td>\n",
       "      <td>Nickname(s): Land of 10,000 Lakes;North Star S...</td>\n",
       "    </tr>\n",
       "    <tr>\n",
       "      <th>4</th>\n",
       "      <td>Motto: L'Étoile du Nord (French: The Star of t...</td>\n",
       "      <td>Motto: L'Étoile du Nord (French: The Star of t...</td>\n",
       "    </tr>\n",
       "  </tbody>\n",
       "</table>\n",
       "</div>"
      ],
      "text/plain": [
       "                                           Minnesota  \\\n",
       "0                                              State   \n",
       "1                                 State of Minnesota   \n",
       "2  .mw-parser-output .ib-settlement-cols{text-ali...   \n",
       "3  Nickname(s): Land of 10,000 Lakes;North Star S...   \n",
       "4  Motto: L'Étoile du Nord (French: The Star of t...   \n",
       "\n",
       "                                         Minnesota.1  \n",
       "0                                              State  \n",
       "1                                 State of Minnesota  \n",
       "2  .mw-parser-output .ib-settlement-cols{text-ali...  \n",
       "3  Nickname(s): Land of 10,000 Lakes;North Star S...  \n",
       "4  Motto: L'Étoile du Nord (French: The Star of t...  "
      ]
     },
     "execution_count": 103,
     "metadata": {},
     "output_type": "execute_result"
    }
   ],
   "source": [
    "df = table_MN[0] # first table on page\n",
    "df.head()"
   ]
  },
  {
   "cell_type": "code",
   "execution_count": 104,
   "id": "f4d89086",
   "metadata": {},
   "outputs": [],
   "source": [
    "# bank list example with BeautifulSoup\n",
    "# following https://www.youtube.com/watch?v=tnq-f88Yofg\n",
    "from selenium import webdriver\n",
    "from bs4 import BeautifulSoup\n",
    "import time"
   ]
  },
  {
   "cell_type": "code",
   "execution_count": 105,
   "id": "14286a9d",
   "metadata": {},
   "outputs": [],
   "source": [
    "options = webdriver.FirefoxOptions()\n",
    "options.add_argument('--headless')\n",
    "options.add_argument('--no-sandbox')\n",
    "options.add_argument('--disable-dev-shm-usage')"
   ]
  },
  {
   "cell_type": "code",
   "execution_count": 106,
   "id": "e7c395e8",
   "metadata": {},
   "outputs": [],
   "source": [
    "site = html_bank_list"
   ]
  },
  {
   "cell_type": "code",
   "execution_count": 107,
   "id": "b13ccf46",
   "metadata": {},
   "outputs": [],
   "source": [
    "wd = webdriver.Firefox(options=options)"
   ]
  },
  {
   "cell_type": "code",
   "execution_count": 108,
   "id": "6bf4bae8",
   "metadata": {},
   "outputs": [
    {
     "data": {
      "text/plain": [
       "<bound method WebDriver.get of <selenium.webdriver.firefox.webdriver.WebDriver (session=\"ef10c8ca-936d-4fcd-b958-53990bdca47e\")>>"
      ]
     },
     "execution_count": 108,
     "metadata": {},
     "output_type": "execute_result"
    }
   ],
   "source": [
    "wd.get"
   ]
  },
  {
   "cell_type": "code",
   "execution_count": 109,
   "id": "b7b85b2f",
   "metadata": {},
   "outputs": [],
   "source": [
    "wd.get(site)\n",
    "time.sleep(10)"
   ]
  },
  {
   "cell_type": "code",
   "execution_count": 110,
   "id": "c5f3c5cb",
   "metadata": {},
   "outputs": [],
   "source": [
    "html = wd.page_source"
   ]
  },
  {
   "cell_type": "code",
   "execution_count": 111,
   "id": "698985c9",
   "metadata": {},
   "outputs": [
    {
     "data": {
      "text/plain": [
       "'<html lang=\"en-US\"><!--<![endif]--><head>\\n    <!-- Title and Meta Description -->\\n\\n    <title>FDIC | Failed Bank List</title>\\n    <meta property=\"og:title\" content=\"FDIC | Failed Bank List\">\\n\\n    <meta name=\"description\" content=\"Look up information on failed banks, including how your accounts and loans are affected and how vendors can file claims against receivership.\">\\n    <meta property=\"og:description\" content=\"Look up information on failed banks, including how your accounts and loans are affected and how vendors can file claims against receivership.\">\\n\\n    <link rel=\"canonical\" href=\"https://www.fdic.gov/resources/resolutions/bank-failures/failed-bank-list/\">\\n    <meta property=\"og:url\" content=\"https://www.fdic.gov/resources/resolutions/bank-failures/failed-bank-list/\">\\n\\n    <!-- Basic Page Needs -->\\n<meta charset=\"utf-8\">\\n<meta http-equiv=\"X-UA-Compatible\" content=\"IE=edge\">\\n\\n<!-- Share image -->\\n<meta property=\"og:image\" content=\"https://www.fdic.gov/assets/images/share-fdic-default-1200x630.png\">\\n\\n<!-- Mobile Specific Metas -->\\n<meta name=\"HandheldFriendly\" content=\"True\">\\n<meta name=\"MobileOptimized\" content=\"320\">\\n<meta name=\"viewport\" content=\"width=device-width, initial-scale=1.0\">\\n<meta name=\"robots\" content=\"NOODP\">\\n<meta name=\"googlebot\" content=\"NOODP\">\\n\\n<meta name=\"twitter:card\" content=\"summary\">\\n<meta name=\"twitter:site\" content=\"@FDICgov\">\\n<meta name=\"twitter:image\" content=\"https://www.fdic.gov/assets/images/twitter/fdic-card.png\">\\n<meta property=\"og:type\" content=\"article\">\\n\\n<link href=\"/assets/stylesheets/googleapi.css\" rel=\"stylesheet\" type=\"text/css\">\\n<link rel=\"stylesheet\" href=\"/assets/javascript/glider/glider.min.css\">\\n<link rel=\"stylesheet\" href=\"/assets/uswds-2.6.0/css/uswds.min.css\">\\n<link rel=\"stylesheet\" href=\"/assets/fontawesome/css/all.min.css\">\\n<link rel=\"stylesheet\" href=\"/assets/stylesheets/animate-v3.css\">\\n<link rel=\"stylesheet\" href=\"/assets/stylesheets/custom.css\">\\n\\n<!-- Favicons -->\\n\\n<!-- 128x128 -->\\n<link rel=\"shortcut icon\" type=\"image/ico\" href=\"/assets/images/favicons/favicon.ico\">\\n<link rel=\"icon\" type=\"image/png\" href=\"/assets/images/favicons/favicon.png\">\\n\\n<!-- 192x192, as recommended for Android -->\\n<link rel=\"icon\" type=\"image/png\" sizes=\"192x192\" href=\"/assets/images/favicons/favicon-192.png\">\\n\\n<!-- 57x57 (precomposed) for iPhone 3GS, pre-2011 iPod Touch and older Android devices -->\\n<link rel=\"apple-touch-icon-precomposed\" href=\"/assets/images/favicons/favicon-57.png\">\\n<!-- 72x72 (precomposed) for 1st generation iPad, iPad 2 and iPad mini -->\\n<link rel=\"apple-touch-icon-precomposed\" sizes=\"72x72\" href=\"/assets/images/favicons/favicon-72.png\">\\n<!-- 114x114 (precomposed) for iPhone 4, 4S, 5 and post-2011 iPod Touch -->\\n<link rel=\"apple-touch-icon-precomposed\" sizes=\"114x114\" href=\"/assets/images/favicons/favicon-114.png\">\\n<!-- 144x144 (precomposed) for iPad 3rd and 4th generation -->\\n<link rel=\"apple-touch-icon-precomposed\" sizes=\"144x144\" href=\"/assets/images/favicons/favicon-144.png\">\\n\\n\\t\\t    \\t<link rel=\"stylesheet\" type=\"text/css\" href=\"/resources/resolutions/bank-failures/failed-bank-list/css/sorttable.css\">\\n\\n<link href=\"https://kit-free.fontawesome.com/releases/latest/css/free-v4-shims.min.css\" media=\"all\" rel=\"stylesheet\" id=\"font-awesome-5-kit-css\"><link href=\"https://kit-free.fontawesome.com/releases/latest/css/free-v4-font-face.min.css\" media=\"all\" rel=\"stylesheet\" id=\"font-awesome-5-kit-css\"><link href=\"https://kit-free.fontawesome.com/releases/latest/css/free.min.css\" media=\"all\" rel=\"stylesheet\" id=\"font-awesome-5-kit-css\"></head>\\n\\n<body tabindex=\"\" class=\"usa page-archive-list\">\\n    \\n\\n\\n\\n\\n  <div class=\"usa-overlay\"></div>\\n  <a href=\"#main-content\" class=\"skipheader\" tabindex=\"1\">Skip Header</a>\\n  <!--include virtual=\"/assets/includes/header/alert.html\"-->\\n  <div class=\"site-banner usa-banner\">\\n    <div class=\"usa-accordion\">\\n      <header class=\"usa-banner__header overflow-x-hidden\">\\n        <div class=\"usa-banner__inner\">\\n          <div class=\"grid-col-auto\"><img class=\"usa-banner__header-flag\" src=\"/assets/uswds-2.6.0/img/us-flag-small.png\" alt=\"U.S. flag\"></div>\\n          <div class=\"grid-col-fill tablet:grid-col-auto\">\\n            <p class=\"usa-banner__header-text\">An official website of the United States government</p>\\n          </div>\\n          <button tabindex=\"1\" class=\"usa-accordion__button usa-banner__button inside-nav\" aria-expanded=\"false\" aria-controls=\"gov-banner\" aria-label=\"Here’s how you know\"></button>\\n        </div>\\n      </header>\\n      <div class=\"usa-banner__content usa-accordion__content\" id=\"gov-banner\" hidden=\"\">\\n        <div class=\"grid-row grid-gap-lg\">\\n          <div class=\"usa-banner__guidance tablet:grid-col-6\">\\n            <img class=\"usa-banner__icon usa-media-block__img\" src=\"/assets/uswds-2.6.0/img/icon-dot-gov.svg\" alt=\"Dot gov\">\\n            <div class=\"usa-media-block__body\">\\n              <p>\\n                <strong>The .gov means it’s official.</strong>\\n                <br>\\n                Federal government websites often end in .gov or .mil. Before\\n                sharing sensitive information, make sure you’re on a federal\\n                government site.\\n              </p>\\n            </div>\\n          </div>\\n          <div class=\"usa-banner__guidance tablet:grid-col-6\">\\n            <img class=\"usa-banner__icon usa-media-block__img\" src=\"/assets/uswds-2.6.0/img/icon-https.svg\" alt=\"Https\">\\n            <div class=\"usa-media-block__body\">\\n              <p>\\n                <strong>The site is secure.</strong>\\n                <br>\\n                The <strong>https://</strong> ensures that you are connecting to\\n                the official website and that any information you provide is\\n                encrypted and transmitted securely.\\n              </p>\\n            </div>\\n          </div>\\n        </div>\\n      </div>\\n    </div>\\n  </div>\\n  <header class=\"usa-header usa-header--basic usa-header--megamenu position-sticky\">\\n    <script async=\"\" src=\"https://www.google-analytics.com/analytics.js\"></script><script type=\"text/javascript\" src=\"/assets/javascript/jquery-3.6.0.min.js\" integrity=\"sha384-kMhb2a62f93cRiCw1AxAD+mrzY1Cnqes7A2q76CO7RELATYAnimF4nUBzsGOuKf9\"></script>\\n    <script type=\"text/javascript\" src=\"/assets/includes/header/js/header.js\" integrity=\"sha384-ByKy5tyUBj0VuQBe6uOyopW/jeXQxWmCktoCWOpK6aN86N28yJ6Ecchh5HTjEBkm\"></script>\\n    <script type=\"text/javascript\">\\n      $(document).ready(function () {\\n        syncSearch();\\n      });\\n    </script>\\n\\n    <div class=\"usa-nav-container\">\\n      <div class=\"usa-navbar\">\\n        <div class=\"usa-logo\" id=\"basic-mega-logo\">\\n          <a href=\"/\" class=\"inside-nav\" title=\"FDIC.gov home page\" aria-label=\"FDIC.gov home page\"><img src=\"/assets/images/fdic-logo.svg\" alt=\"FDIC.gov home page\"></a>\\n        </div>\\n        <button class=\"usa-menu-btn inside-nav\" aria-label=\"Menu\">\\n          <i class=\"fas fa-bars\" aria-hidden=\"true\"></i>\\n        </button>\\n      </div>\\n      <nav aria-label=\"Primary navigation\" class=\"usa-nav inside-nav\">\\n        <div class=\"usa-nav__inner\">\\n          <button class=\"usa-nav__close inside-nav\" aria-label=\"Close\">\\n            <i class=\"fas fa-times\" aria-hidden=\"true\"></i>\\n          </button>\\n          <ul class=\"usa-nav__primary usa-accordion\">\\n            <li class=\"usa-nav__primary-item\">\\n              <button id=\"nav1\" class=\"usa-accordion__button usa-nav__link\" aria-expanded=\"false\" aria-controls=\"basic-mega-nav-section-one\">\\n                <span>About</span>\\n              </button>\\n              <div id=\"basic-mega-nav-section-one\" class=\"usa-nav__submenu usa-megamenu animated fadeIn\" hidden=\"\">\\n                <div class=\"grid-row grid-gap-4\">\\n                  <div class=\"desktop:grid-col-6\">\\n                    <article>\\n                      <h2>About</h2>\\n                      <p>\\n                        The Federal Deposit Insurance Corporation (FDIC) is an\\n                        independent agency created by the Congress to maintain\\n                        stability and public confidence in the nation’s financial\\n                        system. Learn about the FDIC’s mission, leadership,\\n                        history, career opportunities, and more.\\n                      </p>\\n                      <ul class=\"usa-nav__submenu-list desktop:margin-y-2\">\\n                        <li class=\"usa-nav__submenu-item\">\\n                          <a class=\"usa-button--meganav usa-icon--arrow inside-nav\" href=\"/about/\" aria-label=\"Learn More About the FDIC\">Learn More About the FDIC</a>\\n                        </li>\\n                      </ul>\\n                    </article>\\n                  </div>\\n                  <div class=\"tablet:grid-col-3\">\\n                    <ul class=\"usa-nav__submenu-list\">\\n                      <li class=\"usa-nav__submenu-item\">\\n                        <a href=\"/about/learn/symbol/\" class=\"usa-icon--arrow inside-nav\" aria-label=\"What We Do\">What\\n                          We Do</a>\\n                      </li>\\n                      <li class=\"usa-nav__submenu-item\">\\n                        <a href=\"/about/leadership/index.html\" class=\"usa-icon--arrow inside-nav\" aria-label=\"Leadership\">Leadership</a>\\n                      </li>\\n                      <li class=\"usa-nav__submenu-item\">\\n                        <a href=\"/about/careers/\" class=\"usa-icon--arrow inside-nav\" aria-label=\"Careers\">Careers</a>\\n                      </li>\\n                      <li class=\"usa-nav__submenu-item\">\\n                        <a href=\"/about/diversity/\" class=\"usa-icon--arrow inside-nav\" aria-label=\"Diversity &amp; Inclusion\">Diversity &amp; Inclusion</a>\\n                      </li>\\n                      <li class=\"usa-nav__submenu-item\">\\n                        <a href=\"/about/innovation/\" class=\"usa-icon--arrow inside-nav\" aria-label=\"Innovation\">Innovation</a>\\n                      </li>\\n                      <li class=\"usa-nav__submenu-item\">\\n                        <a href=\"/about/initiatives/\" class=\"usa-icon--arrow inside-nav\" aria-label=\"Initiatives\">Initiatives</a>\\n                      </li>\\n                    </ul>\\n                  </div>\\n                  <div class=\"tablet:grid-col-3\">\\n                    <ul class=\"usa-nav__submenu-list\">\\n                      <li class=\"usa-nav__submenu-item\">\\n                        <a href=\"/about/strategic-plans/\" class=\"usa-icon--arrow inside-nav\" aria-label=\"Strategic Plans\">Strategic Plans</a>\\n                      </li>\\n                      <li class=\"usa-nav__submenu-item\">\\n                        <a href=\"/about/financial-reports/\" class=\"usa-icon--arrow inside-nav\" aria-label=\"Financial Reports\">Financial Reports</a>\\n                      </li>\\n                      <li class=\"usa-nav__submenu-item\">\\n                        <a href=\"/about/history/\" class=\"usa-icon--arrow inside-nav\" aria-label=\"History\">History</a>\\n                      </li>\\n                      <li class=\"usa-nav__submenu-item\">\\n                        <a href=\"/about/governance/index.html\" class=\"usa-icon--arrow inside-nav\" aria-label=\"Governance\">Governance</a>\\n                      </li>\\n                      <li class=\"usa-nav__submenu-item\">\\n                        <a href=\"/about/ombudsman/\" class=\"usa-icon--arrow inside-nav\" aria-label=\"Ombudsman\">Ombudsman</a>\\n                      </li>\\n                      <li class=\"usa-nav__submenu-item\">\\n                        <a href=\"/about/doing-business/\" class=\"usa-icon--arrow inside-nav\" aria-label=\"Doing Business with the FDIC\">Doing Business with the FDIC</a>\\n                      </li>\\n                    </ul>\\n                  </div>\\n                  <div class=\"usa-col margin-top-2\">\\n                    <div class=\"grid-row grid-gap\">\\n                      <!-- slide 1 -->\\n\\n  \\n    <div class=\"grid-col-3\">\\n      <div class=\"card card--news width-281px tablet:border border-gray-nurse margin-bottom-0 height-full\">\\n        <div class=\"card__image height-142px overflow-hidden\">\\n          <a href=\"/news/press-releases/2022/pr22064.html\" class=\"img-bg-blue inside-nav\" aria-label=\"Quarterly Banking Profile\">\\n            <img class=\"usa-media-block__img\" src=\"/assets/images/news-slider/qbp-graph-283x143.png\" alt=\"Quarterly Net Income - FDIC-Insured Institutions Report Net Income of $64.4 Billion in Second Quarter\">\\n          </a>\\n        </div>\\n        <div class=\"card__content tablet:margin-205\">\\n          <p class=\"font-sans-2xs text-yellow-metal tablet:margin-y-0 padding-top-2 padding-bottom-1 text-ls-2\">\\n            <span class=\"text-uppercase\">PRESS RELEASE</span> / September 8, 2022\\n          </p>\\n          <a class=\"news-header inside-nav\" href=\"/news/press-releases/2022/pr22064.html\" aria-label=\"FDIC-Insured Institutions Report Net Income of $64.4 Billion in Second Quarter \">\\n            FDIC-Insured Institutions Report Net Income of $64.4 Billion in Second Quarter \\n          </a>\\n        </div>\\n      </div>\\n    </div>\\n  \\n\\n<!-- end slide 1 -->\\n\\n<!-- slide 2 -->\\n\\n  \\n    <div class=\"grid-col-3\">\\n      <div class=\"card card--news width-281px tablet:border border-gray-nurse margin-bottom-0 height-full\">\\n        <div class=\"card__image height-142px overflow-hidden\">\\n          <a href=\"/resources/consumers/consumer-news/2022-09.html\" class=\"img-bg-blue inside-nav\" aria-label=\"Banking on the Environment\">\\n            <img class=\"usa-media-block__img\" src=\"/assets/images/news-slider/banking-on-the-environment-283x143.jpg\" alt=\"Banking on the Environment\">\\n          </a>\\n        </div>\\n        <div class=\"card__content tablet:margin-205\">\\n          <p class=\"font-sans-2xs text-yellow-metal tablet:margin-y-0 padding-top-2 padding-bottom-1 text-ls-2\">\\n            <span class=\"text-uppercase\">Consumer News</span> / September 2, 2022\\n          </p>\\n          <a class=\"news-header inside-nav\" href=\"/resources/consumers/consumer-news/2022-09.html\" aria-label=\"Banking on the Environment\">\\n            Banking on the Environment\\n          </a>\\n        </div>\\n      </div>\\n    </div>\\n  \\n\\n<!-- end slide 2 -->\\n\\n\\n<!-- slide 3 -->\\n\\n  \\n    <div class=\"grid-col-3\">\\n      <div class=\"card card--news width-281px tablet:border border-gray-nurse margin-bottom-0 height-full\">\\n        <div class=\"card__image height-142px overflow-hidden\">\\n          <a href=\"/news/press-releases/2022/pr22060.html\" class=\"img-bg-blue inside-nav\" aria-label=\"FDIC Issues Cease and Desist Letters to Five Crypto-Related Companies\">\\n            <img class=\"usa-media-block__img\" src=\"/assets/images/news-slider/eagel2-283x143.jpg\" alt=\"FDIC Issues Cease and Desist Letters to Five Crypto-Related Companies\">\\n          </a>\\n        </div>\\n        <div class=\"card__content tablet:margin-205\">\\n          <p class=\"font-sans-2xs text-yellow-metal tablet:margin-y-0 padding-top-2 padding-bottom-1 text-ls-2\">\\n            <span class=\"text-uppercase\">Press Release</span> / August 19, 2022\\n          </p>\\n          <a class=\"news-header inside-nav\" href=\"/news/press-releases/2022/pr22060.html\" aria-label=\"FDIC Issues Cease and Desist Letters to Five Crypto-Related Companies\">\\n            FDIC Issues Cease and Desist Letters to Five Crypto-Related Companies\\n          </a>\\n        </div>\\n      </div>\\n    </div>\\n  \\n\\n<!-- end slide 3 -->\\n\\n\\n\\n<!-- slide 4 -->\\n\\n  \\n    <div class=\"grid-col-3\">\\n      <div class=\"card card--news width-281px tablet:border border-gray-nurse margin-bottom-0 height-full\">\\n        <div class=\"card__image height-142px overflow-hidden\">\\n          <a href=\"/news/financial-institution-letters/2022/fil22035.html\" class=\"img-bg-blue inside-nav\" aria-label=\"Advisory to FDIC-Insured Institutions Regarding Deposit Insurance and Dealings with Crypto Companies\">\\n            <img class=\"usa-media-block__img\" src=\"/assets/images/news-slider/crypto2-283x143.jpg\" alt=\"Advisory to FDIC-Insured Institutions Regarding Deposit Insurance and Dealings with Crypto Companies\">\\n          </a>\\n        </div>\\n        <div class=\"card__content tablet:margin-205\">\\n          <p class=\"font-sans-2xs text-yellow-metal tablet:margin-y-0 padding-top-2 padding-bottom-1 text-ls-2\">\\n            <span class=\"text-uppercase\">Financial Institution Letter</span> / July 29, 2022\\n          </p>\\n          <a class=\"news-header inside-nav\" href=\"/news/financial-institution-letters/2022/fil22035.html\" aria-label=\"Advisory to FDIC-Insured Institutions Regarding Deposit Insurance and Dealings with Crypto Companies\">\\n            Advisory to FDIC-Insured Institutions Regarding Deposit Insurance and Dealings with Crypto Companies\\n          </a>\\n        </div>\\n      </div>\\n    </div>\\n  \\n\\n<!-- end slide 4 -->\\n\\n\\n\\n                    </div>\\n                  </div>\\n                </div>\\n              </div>\\n            </li>\\n            <li class=\"usa-nav__primary-item\">\\n              <button id=\"nav2\" class=\"usa-accordion__button usa-nav__link\" aria-expanded=\"false\" aria-controls=\"basic-mega-nav-section-two\">\\n                <span>Resources</span>\\n              </button>\\n              <div id=\"basic-mega-nav-section-two\" class=\"usa-nav__submenu usa-megamenu animated fadeIn\" hidden=\"\">\\n                <div class=\"grid-row grid-gap-4\">\\n                  <div class=\"desktop:grid-col-6\">\\n                    <article>\\n                      <h2>Resources</h2>\\n                      <p>\\n                        The FDIC provides a wealth of resources for consumers,\\n                        bankers, analysts, and other stakeholders. Browse our\\n                        collection of financial education materials, data tools,\\n                        documentation of laws and regulations, information on\\n                        important initiatives, and more.\\n                      </p>\\n                      <ul class=\"usa-nav__submenu-list desktop:margin-y-2\">\\n                        <li class=\"usa-nav__submenu-item\">\\n                          <a class=\"usa-button--meganav usa-icon--arrow inside-nav\" href=\"/resources/\" aria-label=\"Learn More About Resources\">Additional FDIC Resources</a>\\n                        </li>\\n                      </ul>\\n                    </article>\\n                  </div>\\n                  <div class=\"tablet:grid-col-3\">\\n                    <ul class=\"usa-nav__submenu-list\">\\n                      <li class=\"usa-nav__submenu-item\">\\n                        <a href=\"/resources/consumers/index.html\" class=\"usa-icon--arrow inside-nav\" aria-label=\"Consumer Resource Center\">Consumer Resource Center</a>\\n                      </li>\\n                      <li class=\"usa-nav__submenu-item\">\\n                        <a href=\"/resources/bankers/\" class=\"usa-icon--arrow inside-nav\" aria-label=\"Banker Resource Center\">Banker Resource Center</a>\\n                      </li>\\n                      <li class=\"usa-nav__submenu-item\">\\n                        <a href=\"/resources/deposit-insurance/\" class=\"usa-icon--arrow inside-nav\" aria-label=\"Deposit Insurance\">Deposit Insurance</a>\\n                      </li>\\n                      <li class=\"usa-nav__submenu-item\">\\n                        <a href=\"/resources/supervision-and-examinations/\" class=\"usa-icon--arrow inside-nav\" aria-label=\"Supervision &amp; Examinations\">Supervision &amp; Examinations</a>\\n                      </li>\\n                      <li class=\"usa-nav__submenu-item\">\\n                        <a href=\"/resources/regulations/\" class=\"usa-icon--arrow inside-nav\" aria-label=\"Laws &amp; Regulations\">Laws &amp; Regulations</a>\\n                      </li>\\n                      <li class=\"usa-nav__submenu-item\">\\n                        <a href=\"/resources/resolutions/\" class=\"usa-icon--arrow inside-nav\" aria-label=\"Resolutions\">Resolutions</a>\\n                      </li>\\n                    </ul>\\n                  </div>\\n                  <div class=\"tablet:grid-col-3\">\\n                    <ul class=\"usa-nav__submenu-list\">\\n                      <li class=\"usa-nav__submenu-item\">\\n                        <a href=\"/resources/publications/\" class=\"usa-icon--arrow inside-nav\" aria-label=\"Publications\">Publications</a>\\n                      </li>\\n                      <li class=\"usa-nav__submenu-item\">\\n                        <a href=\"/resources/forms/\" class=\"usa-icon--arrow inside-nav\" aria-label=\"Forms\">Forms</a>\\n                      </li>\\n                      <li class=\"usa-nav__submenu-item\">\\n                        <a href=\"/resources/data-tools/\" class=\"usa-icon--arrow inside-nav\" aria-label=\"Data Tools\">Data\\n                          Tools</a>\\n                      </li>\\n                      <li class=\"usa-nav__submenu-item\">\\n                        <a href=\"/resources/community-banking/\" class=\"usa-icon--arrow inside-nav\" aria-label=\"Community Banking Research Program\">Community Banking Research Program</a>\\n                      </li>\\n                      <li class=\"usa-nav__submenu-item\">\\n                        <a href=\"/coronavirus/\" class=\"usa-icon--arrow inside-nav\" aria-label=\"Coronavirus Response\">Coronavirus Response</a>\\n                      </li>\\n                    </ul>\\n                  </div>\\n                  <div class=\"usa-col margin-top-2\">\\n                    <div class=\"grid-row grid-gap\">\\n                      <!-- slide 1 -->\\n\\n  \\n    <div class=\"grid-col-3\">\\n      <div class=\"card card--news width-281px tablet:border border-gray-nurse margin-bottom-0 height-full\">\\n        <div class=\"card__image height-142px overflow-hidden\">\\n          <a href=\"/news/press-releases/2022/pr22064.html\" class=\"img-bg-blue inside-nav\" aria-label=\"Quarterly Banking Profile\">\\n            <img class=\"usa-media-block__img\" src=\"/assets/images/news-slider/qbp-graph-283x143.png\" alt=\"Quarterly Net Income - FDIC-Insured Institutions Report Net Income of $64.4 Billion in Second Quarter\">\\n          </a>\\n        </div>\\n        <div class=\"card__content tablet:margin-205\">\\n          <p class=\"font-sans-2xs text-yellow-metal tablet:margin-y-0 padding-top-2 padding-bottom-1 text-ls-2\">\\n            <span class=\"text-uppercase\">PRESS RELEASE</span> / September 8, 2022\\n          </p>\\n          <a class=\"news-header inside-nav\" href=\"/news/press-releases/2022/pr22064.html\" aria-label=\"FDIC-Insured Institutions Report Net Income of $64.4 Billion in Second Quarter \">\\n            FDIC-Insured Institutions Report Net Income of $64.4 Billion in Second Quarter \\n          </a>\\n        </div>\\n      </div>\\n    </div>\\n  \\n\\n<!-- end slide 1 -->\\n\\n<!-- slide 2 -->\\n\\n  \\n    <div class=\"grid-col-3\">\\n      <div class=\"card card--news width-281px tablet:border border-gray-nurse margin-bottom-0 height-full\">\\n        <div class=\"card__image height-142px overflow-hidden\">\\n          <a href=\"/resources/consumers/consumer-news/2022-09.html\" class=\"img-bg-blue inside-nav\" aria-label=\"Banking on the Environment\">\\n            <img class=\"usa-media-block__img\" src=\"/assets/images/news-slider/banking-on-the-environment-283x143.jpg\" alt=\"Banking on the Environment\">\\n          </a>\\n        </div>\\n        <div class=\"card__content tablet:margin-205\">\\n          <p class=\"font-sans-2xs text-yellow-metal tablet:margin-y-0 padding-top-2 padding-bottom-1 text-ls-2\">\\n            <span class=\"text-uppercase\">Consumer News</span> / September 2, 2022\\n          </p>\\n          <a class=\"news-header inside-nav\" href=\"/resources/consumers/consumer-news/2022-09.html\" aria-label=\"Banking on the Environment\">\\n            Banking on the Environment\\n          </a>\\n        </div>\\n      </div>\\n    </div>\\n  \\n\\n<!-- end slide 2 -->\\n\\n\\n<!-- slide 3 -->\\n\\n  \\n    <div class=\"grid-col-3\">\\n      <div class=\"card card--news width-281px tablet:border border-gray-nurse margin-bottom-0 height-full\">\\n        <div class=\"card__image height-142px overflow-hidden\">\\n          <a href=\"/news/press-releases/2022/pr22060.html\" class=\"img-bg-blue inside-nav\" aria-label=\"FDIC Issues Cease and Desist Letters to Five Crypto-Related Companies\">\\n            <img class=\"usa-media-block__img\" src=\"/assets/images/news-slider/eagel2-283x143.jpg\" alt=\"FDIC Issues Cease and Desist Letters to Five Crypto-Related Companies\">\\n          </a>\\n        </div>\\n        <div class=\"card__content tablet:margin-205\">\\n          <p class=\"font-sans-2xs text-yellow-metal tablet:margin-y-0 padding-top-2 padding-bottom-1 text-ls-2\">\\n            <span class=\"text-uppercase\">Press Release</span> / August 19, 2022\\n          </p>\\n          <a class=\"news-header inside-nav\" href=\"/news/press-releases/2022/pr22060.html\" aria-label=\"FDIC Issues Cease and Desist Letters to Five Crypto-Related Companies\">\\n            FDIC Issues Cease and Desist Letters to Five Crypto-Related Companies\\n          </a>\\n        </div>\\n      </div>\\n    </div>\\n  \\n\\n<!-- end slide 3 -->\\n\\n\\n\\n<!-- slide 4 -->\\n\\n  \\n    <div class=\"grid-col-3\">\\n      <div class=\"card card--news width-281px tablet:border border-gray-nurse margin-bottom-0 height-full\">\\n        <div class=\"card__image height-142px overflow-hidden\">\\n          <a href=\"/news/financial-institution-letters/2022/fil22035.html\" class=\"img-bg-blue inside-nav\" aria-label=\"Advisory to FDIC-Insured Institutions Regarding Deposit Insurance and Dealings with Crypto Companies\">\\n            <img class=\"usa-media-block__img\" src=\"/assets/images/news-slider/crypto2-283x143.jpg\" alt=\"Advisory to FDIC-Insured Institutions Regarding Deposit Insurance and Dealings with Crypto Companies\">\\n          </a>\\n        </div>\\n        <div class=\"card__content tablet:margin-205\">\\n          <p class=\"font-sans-2xs text-yellow-metal tablet:margin-y-0 padding-top-2 padding-bottom-1 text-ls-2\">\\n            <span class=\"text-uppercase\">Financial Institution Letter</span> / July 29, 2022\\n          </p>\\n          <a class=\"news-header inside-nav\" href=\"/news/financial-institution-letters/2022/fil22035.html\" aria-label=\"Advisory to FDIC-Insured Institutions Regarding Deposit Insurance and Dealings with Crypto Companies\">\\n            Advisory to FDIC-Insured Institutions Regarding Deposit Insurance and Dealings with Crypto Companies\\n          </a>\\n        </div>\\n      </div>\\n    </div>\\n  \\n\\n<!-- end slide 4 -->\\n\\n\\n\\n                    </div>\\n                  </div>\\n                </div>\\n              </div>\\n            </li>\\n            <li class=\"usa-nav__primary-item\">\\n              <button id=\"nav3\" class=\"usa-accordion__button usa-nav__link\" aria-expanded=\"false\" aria-controls=\"basic-mega-nav-section-three\">\\n                <span>Analysis</span>\\n              </button>\\n              <div id=\"basic-mega-nav-section-three\" class=\"usa-nav__submenu usa-megamenu animated fadeIn\" hidden=\"\">\\n                <div class=\"grid-row grid-gap-4\">\\n                  <div class=\"desktop:grid-col-6\">\\n                    <article>\\n                      <h2>Analysis</h2>\\n                      <p>\\n                        The FDIC is proud to be a pre-eminent source of U.S.\\n                        banking industry research, including quarterly banking\\n                        profiles, working papers, and state banking performance\\n                        data. Browse our extensive research tools and reports.\\n                      </p>\\n                      <ul class=\"usa-nav__submenu-list desktop:margin-y-2\">\\n                        <li class=\"usa-nav__submenu-item\">\\n                          <a class=\"usa-button--meganav usa-icon--arrow inside-nav\" href=\"/analysis/\" aria-label=\"Learn More About Analysis\">More FDIC Analysis</a>\\n                        </li>\\n                      </ul>\\n                    </article>\\n                  </div>\\n                  <div class=\"tablet:grid-col-6\">\\n                    <ul class=\"usa-nav__submenu-list\">\\n                      <li class=\"usa-nav__submenu-item\"><a href=\"/analysis/cfr/\" class=\"usa-icon--arrow inside-nav\" aria-label=\"Center for Financial Research\">Center for Financial Research</a></li>\\n                      <li class=\"usa-nav__submenu-item\"><a href=\"/analysis/household-survey/\" class=\"usa-icon--arrow inside-nav\" aria-label=\"Survey: How America Banks\">Survey: How America\\n                          Banks</a></li>\\n                      <li class=\"usa-nav__submenu-item\"><a href=\"/analysis/quarterly-banking-profile/\" class=\"usa-icon--arrow inside-nav\" aria-label=\"Quarterly Banking Profile\">Quarterly Banking\\n                          Profile</a></li>\\n                      <li class=\"usa-nav__submenu-item\"><a href=\"/analysis/academic-challenge/\" class=\"usa-icon--arrow inside-nav\" aria-label=\"FDIC Academic Challenge\">FDIC Academic\\n                          Challenge</a></li>\\n                    </ul>\\n                  </div>\\n                  <div class=\"tablet:grid-col-12\">\\n                    <ul class=\"usa-nav__submenu-list\"></ul>\\n                  </div>\\n                  <div class=\"usa-col margin-top-2\">\\n                    <div class=\"grid-row grid-gap\">\\n                      \\n\\n  <!-- slide 1 -->\\n  \\n    <div class=\"grid-col-3\">\\n      <div class=\"card card--news width-281px tablet:border border-gray-nurse margin-bottom-0 height-full\">\\n        <div class=\"card__image height-142px overflow-hidden\">\\n          <a href=\"/analysis/quarterly-banking-profile/index.html\" class=\"img-bg-blue inside-nav\" aria-label=\"Quarterly Banking Profile\">\\n            <img class=\"usa-media-block__img\" src=\"/assets/images/news-slider/qbp-graph-283x143.png\" alt=\"Quarterly Banking Profile\">\\n          </a>\\n        </div>\\n        <div class=\"card__content tablet:margin-205\">\\n          <p class=\"font-sans-2xs text-yellow-metal tablet:margin-y-0 padding-top-2 padding-bottom-1 text-ls-2\">\\n            <span class=\"text-uppercase\">Event</span> / September 8, 2022\\n          </p>\\n          <a class=\"news-header inside-nav\" href=\"/analysis/quarterly-banking-profile/index.html\" aria-label=\"Quarterly Banking Profile\">\\n            Quarterly Banking Profile\\n          </a>\\n        </div>\\n      </div>\\n    </div>\\n  \\n<!-- end slide 1 -->\\n\\n\\n  <!-- slide 2 -->\\n  \\n    <div class=\"grid-col-3\">\\n      <div class=\"card card--news width-281px tablet:border border-gray-nurse margin-bottom-0 height-full\">\\n        <div class=\"card__image height-142px overflow-hidden\">\\n          <a href=\"/analysis/quarterly-banking-profile/index.html\" class=\"img-bg-blue inside-nav\" aria-label=\"Quarterly Banking Profile\">\\n            <img class=\"usa-media-block__img\" src=\"/assets/images/news-slider/qbp-283x143.jpg\" alt=\"Quarterly Banking Profile\">\\n          </a>\\n        </div>\\n        <div class=\"card__content tablet:margin-205\">\\n          <p class=\"font-sans-2xs text-yellow-metal tablet:margin-y-0 padding-top-2 padding-bottom-1 text-ls-2\">\\n            <span class=\"text-uppercase\">Event</span> / May 24, 2022\\n          </p>\\n          <a class=\"news-header inside-nav\" href=\"/analysis/quarterly-banking-profile/index.html\" aria-label=\"Quarterly Banking Profile\">\\n            Quarterly Banking Profile\\n          </a>\\n        </div>\\n      </div>\\n    </div>\\n  \\n<!-- end slide 2 -->\\n\\n\\n\\n  <!-- slide 3 -->\\n  \\n    <div class=\"grid-col-3\">\\n      <div class=\"card card--news width-281px tablet:border border-gray-nurse margin-bottom-0 height-full\">\\n        <div class=\"card__image height-142px overflow-hidden\">\\n          <a href=\"/analysis/quarterly-banking-profile/index.html\" class=\"img-bg-blue inside-nav\" aria-label=\"Quarterly Banking Profile\">\\n            <img class=\"usa-media-block__img\" src=\"/assets/images/news-slider/qbp-283x143.jpg\" alt=\"Quarterly Banking Profile\">\\n          </a>\\n        </div>\\n        <div class=\"card__content tablet:margin-205\">\\n          <p class=\"font-sans-2xs text-yellow-metal tablet:margin-y-0 padding-top-2 padding-bottom-1 text-ls-2\">\\n            <span class=\"text-uppercase\">Event</span> / March 1, 2022\\n          </p>\\n          <a class=\"news-header inside-nav\" href=\"/analysis/quarterly-banking-profile/index.html\" aria-label=\"Quarterly Banking Profile\">\\n            Quarterly Banking Profile\\n          </a>\\n        </div>\\n      </div>\\n    </div>\\n  \\n<!-- end slide 3 -->\\n\\n\\n\\n  <!-- slide 4 -->\\n  \\n    <div class=\"grid-col-3\">\\n      <div class=\"card card--news width-281px tablet:border border-gray-nurse margin-bottom-0 height-full\">\\n        <div class=\"card__image height-142px overflow-hidden\">\\n          <a href=\"/analysis/quarterly-banking-profile/index.html\" class=\"img-bg-blue inside-nav\" aria-label=\"Quarterly Banking Profile\">\\n            <img class=\"usa-media-block__img\" src=\"/assets/images/news-slider/qbp-283x143.jpg\" alt=\"Quarterly Banking Profile\">\\n          </a>\\n        </div>\\n        <div class=\"card__content tablet:margin-205\">\\n          <p class=\"font-sans-2xs text-yellow-metal tablet:margin-y-0 padding-top-2 padding-bottom-1 text-ls-2\">\\n            <span class=\"text-uppercase\">Event</span> / November 30, 2021\\n          </p>\\n          <a class=\"news-header inside-nav\" href=\"/analysis/quarterly-banking-profile/index.html\" aria-label=\"Quarterly Banking Profile\">\\n            Quarterly Banking Profile\\n          </a>\\n        </div>\\n      </div>\\n    </div>\\n  \\n<!-- end slide 4 -->\\n\\n\\n\\n\\n\\n                    </div>\\n                  </div>\\n                </div>\\n              </div>\\n            </li>\\n            <li class=\"usa-nav__primary-item\">\\n              <button id=\"nav4\" class=\"usa-accordion__button usa-nav__link\" aria-expanded=\"false\" aria-controls=\"basic-mega-nav-section-four\">\\n                <span>News</span>\\n              </button>\\n              <div id=\"basic-mega-nav-section-four\" class=\"usa-nav__submenu usa-megamenu animated fadeIn\" hidden=\"\">\\n                <div class=\"grid-row grid-gap-4\">\\n                  <div class=\"desktop:grid-col-6\">\\n                    <article>\\n                      <h2>News</h2>\\n                      <p>\\n                        The FDIC publishes regular updates on news and activities.\\n                        Keep up with FDIC announcements, read speeches and\\n                        testimony on the latest banking issues, learn about policy\\n                        changes for banks, and get the details on upcoming\\n                        conferences and events.\\n                      </p>\\n                      <ul class=\"usa-nav__submenu-list desktop:margin-y-2\">\\n                        <li class=\"usa-nav__submenu-item\">\\n                          <a class=\"usa-button--meganav usa-icon--arrow inside-nav\" href=\"/news/\" aria-label=\"Learn More About News\">Find More FDIC News</a>\\n                        </li>\\n                      </ul>\\n                    </article>\\n                  </div>\\n                  <div class=\"tablet:grid-col-3\">\\n                    <ul class=\"usa-nav__submenu-list\">\\n                      <li class=\"usa-nav__submenu-item\">\\n                        <a href=\"/news/press-releases/current.html\" class=\"usa-icon--arrow inside-nav\" aria-label=\"Press Releases\">Press Releases</a>\\n                      </li>\\n                      <li class=\"usa-nav__submenu-item\">\\n                        <a href=\"/news/financial-institution-letters/\" class=\"usa-icon--arrow inside-nav\">Financial\\n                          Institution Letters</a>\\n                      </li>\\n                      <li class=\"usa-nav__submenu-item\">\\n                        <a href=\"/news/events/\" class=\"usa-icon--arrow inside-nav\" aria-label=\"Conferences &amp; Events\">Conferences &amp; Events</a>\\n                      </li>\\n                      <li class=\"usa-nav__submenu-item\">\\n                        <a href=\"/news/board-matters/\" class=\"usa-icon--arrow inside-nav\" aria-label=\"Board Matters\">Board Matters</a>\\n                      </li>\\n                      <li class=\"usa-nav__submenu-item\">\\n                        <a href=\"/news/disaster/\" class=\"usa-icon--arrow inside-nav\" aria-label=\"Natural Disasters\">Natural Disasters</a>\\n                      </li>\\n                    </ul>\\n                  </div>\\n                  <div class=\"tablet:grid-col-3\">\\n                    <ul class=\"usa-nav__submenu-list\">\\n                      <li class=\"usa-nav__submenu-item\">\\n                        <a href=\"/news/speeches/\" class=\"usa-icon--arrow inside-nav\" aria-label=\"Speeches &amp; Testimony\">Speeches &amp; Testimony</a>\\n                      </li>\\n                      <li class=\"usa-nav__submenu-item\">\\n                        <a href=\"/news/podcasts/\" class=\"usa-icon--arrow inside-nav\" aria-label=\"Podcasts\">Podcasts</a>\\n                      </li>\\n                      <li class=\"usa-nav__submenu-item\">\\n                        <a href=\"https://www.youtube.com/user/FDICchannel/videos\" class=\"usa-icon--arrow inside-nav\" aria-label=\"Videos\">Videos</a>\\n                      </li>\\n                      <li class=\"usa-nav__submenu-item\">\\n                        <a href=\"/news/editorials/\" class=\"usa-icon--arrow inside-nav\" aria-label=\"Opinion Editorials\">Opinion Editorials</a>\\n                      </li>\\n                      <li class=\"usa-nav__submenu-item\">\\n                        <a href=\"/news/fact-sheets/\" class=\"usa-icon--arrow inside-nav\" aria-label=\"Fact Sheets\">Policy\\n                          Fact Sheets</a>\\n                      </li>\\n                    </ul>\\n                  </div>\\n                  <div class=\"usa-col margin-top-2\">\\n                    <div class=\"grid-row grid-gap\">\\n                      <!-- slide 1 -->\\n\\n  \\n    <div class=\"grid-col-3\">\\n      <div class=\"card card--news width-281px tablet:border border-gray-nurse margin-bottom-0 height-full\">\\n        <div class=\"card__image height-142px overflow-hidden\">\\n          <a href=\"/news/press-releases/2022/pr22064.html\" class=\"img-bg-blue inside-nav\" aria-label=\"Quarterly Banking Profile\">\\n            <img class=\"usa-media-block__img\" src=\"/assets/images/news-slider/qbp-graph-283x143.png\" alt=\"Quarterly Net Income - FDIC-Insured Institutions Report Net Income of $64.4 Billion in Second Quarter\">\\n          </a>\\n        </div>\\n        <div class=\"card__content tablet:margin-205\">\\n          <p class=\"font-sans-2xs text-yellow-metal tablet:margin-y-0 padding-top-2 padding-bottom-1 text-ls-2\">\\n            <span class=\"text-uppercase\">PRESS RELEASE</span> / September 8, 2022\\n          </p>\\n          <a class=\"news-header inside-nav\" href=\"/news/press-releases/2022/pr22064.html\" aria-label=\"FDIC-Insured Institutions Report Net Income of $64.4 Billion in Second Quarter \">\\n            FDIC-Insured Institutions Report Net Income of $64.4 Billion in Second Quarter \\n          </a>\\n        </div>\\n      </div>\\n    </div>\\n  \\n\\n<!-- end slide 1 -->\\n\\n<!-- slide 2 -->\\n\\n  \\n    <div class=\"grid-col-3\">\\n      <div class=\"card card--news width-281px tablet:border border-gray-nurse margin-bottom-0 height-full\">\\n        <div class=\"card__image height-142px overflow-hidden\">\\n          <a href=\"/resources/consumers/consumer-news/2022-09.html\" class=\"img-bg-blue inside-nav\" aria-label=\"Banking on the Environment\">\\n            <img class=\"usa-media-block__img\" src=\"/assets/images/news-slider/banking-on-the-environment-283x143.jpg\" alt=\"Banking on the Environment\">\\n          </a>\\n        </div>\\n        <div class=\"card__content tablet:margin-205\">\\n          <p class=\"font-sans-2xs text-yellow-metal tablet:margin-y-0 padding-top-2 padding-bottom-1 text-ls-2\">\\n            <span class=\"text-uppercase\">Consumer News</span> / September 2, 2022\\n          </p>\\n          <a class=\"news-header inside-nav\" href=\"/resources/consumers/consumer-news/2022-09.html\" aria-label=\"Banking on the Environment\">\\n            Banking on the Environment\\n          </a>\\n        </div>\\n      </div>\\n    </div>\\n  \\n\\n<!-- end slide 2 -->\\n\\n\\n<!-- slide 3 -->\\n\\n  \\n    <div class=\"grid-col-3\">\\n      <div class=\"card card--news width-281px tablet:border border-gray-nurse margin-bottom-0 height-full\">\\n        <div class=\"card__image height-142px overflow-hidden\">\\n          <a href=\"/news/press-releases/2022/pr22060.html\" class=\"img-bg-blue inside-nav\" aria-label=\"FDIC Issues Cease and Desist Letters to Five Crypto-Related Companies\">\\n            <img class=\"usa-media-block__img\" src=\"/assets/images/news-slider/eagel2-283x143.jpg\" alt=\"FDIC Issues Cease and Desist Letters to Five Crypto-Related Companies\">\\n          </a>\\n        </div>\\n        <div class=\"card__content tablet:margin-205\">\\n          <p class=\"font-sans-2xs text-yellow-metal tablet:margin-y-0 padding-top-2 padding-bottom-1 text-ls-2\">\\n            <span class=\"text-uppercase\">Press Release</span> / August 19, 2022\\n          </p>\\n          <a class=\"news-header inside-nav\" href=\"/news/press-releases/2022/pr22060.html\" aria-label=\"FDIC Issues Cease and Desist Letters to Five Crypto-Related Companies\">\\n            FDIC Issues Cease and Desist Letters to Five Crypto-Related Companies\\n          </a>\\n        </div>\\n      </div>\\n    </div>\\n  \\n\\n<!-- end slide 3 -->\\n\\n\\n\\n<!-- slide 4 -->\\n\\n  \\n    <div class=\"grid-col-3\">\\n      <div class=\"card card--news width-281px tablet:border border-gray-nurse margin-bottom-0 height-full\">\\n        <div class=\"card__image height-142px overflow-hidden\">\\n          <a href=\"/news/financial-institution-letters/2022/fil22035.html\" class=\"img-bg-blue inside-nav\" aria-label=\"Advisory to FDIC-Insured Institutions Regarding Deposit Insurance and Dealings with Crypto Companies\">\\n            <img class=\"usa-media-block__img\" src=\"/assets/images/news-slider/crypto2-283x143.jpg\" alt=\"Advisory to FDIC-Insured Institutions Regarding Deposit Insurance and Dealings with Crypto Companies\">\\n          </a>\\n        </div>\\n        <div class=\"card__content tablet:margin-205\">\\n          <p class=\"font-sans-2xs text-yellow-metal tablet:margin-y-0 padding-top-2 padding-bottom-1 text-ls-2\">\\n            <span class=\"text-uppercase\">Financial Institution Letter</span> / July 29, 2022\\n          </p>\\n          <a class=\"news-header inside-nav\" href=\"/news/financial-institution-letters/2022/fil22035.html\" aria-label=\"Advisory to FDIC-Insured Institutions Regarding Deposit Insurance and Dealings with Crypto Companies\">\\n            Advisory to FDIC-Insured Institutions Regarding Deposit Insurance and Dealings with Crypto Companies\\n          </a>\\n        </div>\\n      </div>\\n    </div>\\n  \\n\\n<!-- end slide 4 -->\\n\\n\\n\\n                    </div>\\n                  </div>\\n                </div>\\n              </div>\\n            </li>\\n            <li class=\"usa-nav__primary-item\" id=\"search\" style=\"pointer-events: none;\">\\n              <button id=\"nav5\" class=\"usa-accordion__button usa-nav__link\" aria-expanded=\"false\" aria-controls=\"basic-mega-nav-section-five\" tabindex=\"-1\">\\n                <span id=\"searchBtn\">Search</span>\\n              </button>\\n              <div id=\"basic-mega-nav-section-five\" class=\"usa-nav__submenu usa-megamenu animated fadeIn\" tabindex=\"-1\" hidden=\"\">\\n                <div class=\"grid-container margin-x-neg-2\" id=\"searchModal\">\\n                  <div class=\"grid-row text-center\">\\n                    <form accept-charset=\"UTF-8\" action=\"https://fdic-search.app.cloud.gov\" id=\"cse-search-box-form-id3\" method=\"post\" class=\"usa-form usa-search usa-search--small mobile-lg:padding-x-4 desktop:padding-x-0\">\\n  <div role=\"search\">\\n    <input name=\"utf8\" type=\"hidden\" value=\"✓\">\\n\\n    <label for=\"query3\" class=\"usa-sr-only\">Search FDIC.gov</label>\\n    <input type=\"search\" autocomplete=\"off\" class=\"usa-input extended-mega-search-field-small margin-bottom-2 margin-right-neg-1 margin-left-0 field\" id=\"query3\" name=\"query\" value=\"Search FDIC.gov\" onblur=\"if(this.value == \\'\\') {this.value = \\'Search FDIC.gov\\';}\" onfocus=\"if(this.value == \\'Search FDIC.gov\\') {this.value = \\'\\';}\">\\n    <button name=\"commit3\" type=\"submit\" class=\"usa-button submit\" id=\"searchsubmit3\" aria-label=\"Submit Search Request\" value=\"\">\\n      <span class=\"usa-sr-only\">Search</span>\\n    </button>\\n  </div>\\n  <p>\\n    <a class=\"usa-link text-white\" href=\"/search/help.html\">Advanced Search</a>\\n  </p>\\n</form>\\n\\n                    <div class=\"usa-help text-center text-white width-full\">\\n  <form class=\"usa-form margin-x-auto\">\\n    <label class=\"usa-label usa-help__heading font-heading-xl margin-top-0 margin-x-auto margin-bottom-4 text-normal text-uppercase\" for=\"fmi2_usertype\">How Can We Help You?\\n    </label>\\n    <select class=\"usa-select margin-x-auto margin-bottom-2\" id=\"fmi2_usertype\" onchange=\"fmi2_update_useraction(this);\">\\n      <option value=\"\">I am a...</option>\\n<option value=\"customer\">Bank Customer</option>\\n<option value=\"banker\">Banker</option>\\n<option value=\"consumer\">Consumer</option>\\n<option value=\"business\">Small Business Owner</option>\\n<option value=\"analyst\">Analyst/Researcher/Student</option>\\n<option value=\"legal\">Legal Professional</option>\\n<option value=\"regulator\">Bank Regulator</option>\\n<option value=\"press\">Press/Media</option>\\n<option value=\"vendor\">Vendor/Contractor</option>\\n<option value=\"legislative\">Legislative Staff Member</option>\\n<option value=\"jobseeker\">Jobseeker</option>\\n<option value=\"courtclerk\">Court Clerk</option>\\n<option value=\"prosprobofficer\">Prosecutor/Probation Officer</option>\\n<option value=\"investigator\">Investigator</option>\\n\\n    </select>\\n    <label for=\"fmi2_useraction\" class=\"usa-sr-only\">Select the information you wish to explore based on who you are</label>\\n    <select id=\"fmi2_useraction\" class=\"usa-select margin-x-auto\" onfocus=\"fmi2_useraction_open();\" onchange=\"fmi2_useraction_chosen(this)\">\\n      <option class=\"default\" value=\"\">I want to...</option>\\n    </select>\\n    <button class=\"usa-button margin-bottom-3 margin-x-auto\" type=\"button\" value=\"Go\" onclick=\"fmi2_click();\" aria-label=\"Go to the FDIC webpage that answers your question\">\\n      Get Started\\n    </button>\\n  </form>\\n</div>\\n<script type=\"text/javascript\" src=\"/assets/javascript/find-more-info-v4a-6.js\" integrity=\"sha384-fGVxLuy99QdiU4+nIhoTBBZBf4kh+8BofTNO1/sIMheaIkSDzCpamjgMXS51kTBd\"></script>\\n\\n                  </div>\\n                </div>\\n              </div>\\n            </li>\\n          </ul>\\n          <div class=\"usa-nav__secondary text-right padding-2\">\\n            <form accept-charset=\"UTF-8\" action=\"https://fdic-search.app.cloud.gov\" id=\"cse-search-box-form-id2\" method=\"post\" class=\"usa-form usa-search usa-search--small mobile-lg:padding-x-4 desktop:padding-x-0\">\\n  <div role=\"search\">\\n    <input name=\"utf8\" type=\"hidden\" value=\"✓\">\\n\\n    <label for=\"query2\" class=\"usa-sr-only\">Search FDIC.gov</label>\\n    <input tabindex=\"2\" type=\"search\" autocomplete=\"off\" class=\"usa-input extended-mega-search-field-small margin-bottom-2 margin-right-neg-1 margin-left-0 field\" id=\"query2\" name=\"query\" value=\"Search FDIC.gov\" onblur=\"if(this.value == \\'\\') {this.value = \\'Search FDIC.gov\\';}\" onfocus=\"if(this.value == \\'Search FDIC.gov\\') {this.value = \\'\\';}\">\\n    <button tabindex=\"3\" name=\"commit2\" type=\"submit\" class=\"usa-button submit\" id=\"searchsubmit2\" aria-label=\"Submit Search Request\" value=\"\">\\n      <span class=\"usa-sr-only\">Search</span>\\n    </button>\\n  </div>\\n  <p>\\n    <a class=\"usa-link text-white\" href=\"/search/help.html\">Advanced Search</a>\\n  </p>\\n</form>\\n\\n            <div class=\"usa-help text-center text-white width-full\">\\n  <form class=\"usa-form margin-x-auto\">\\n    <label class=\"usa-label usa-help__heading font-alt-lg margin-top-0 margin-x-auto margin-bottom-4 text-normal text-uppercase\" for=\"fmi3_usertype\">How Can We Help You?\\n    </label>\\n    <select class=\"usa-select margin-x-auto margin-bottom-2\" id=\"fmi3_usertype\" onchange=\"fmi3_update_useraction(this);\">\\n      <option value=\"\">I am a...</option>\\n<option value=\"customer\">Bank Customer</option>\\n<option value=\"banker\">Banker</option>\\n<option value=\"consumer\">Consumer</option>\\n<option value=\"business\">Small Business Owner</option>\\n<option value=\"analyst\">Analyst/Researcher/Student</option>\\n<option value=\"legal\">Legal Professional</option>\\n<option value=\"regulator\">Bank Regulator</option>\\n<option value=\"press\">Press/Media</option>\\n<option value=\"vendor\">Vendor/Contractor</option>\\n<option value=\"legislative\">Legislative Staff Member</option>\\n<option value=\"jobseeker\">Jobseeker</option>\\n<option value=\"courtclerk\">Court Clerk</option>\\n<option value=\"prosprobofficer\">Prosecutor/Probation Officer</option>\\n<option value=\"investigator\">Investigator</option>\\n\\n    </select>\\n    <label for=\"fmi3_useraction\" class=\"usa-sr-only\">Select the information you wish to explore based on who you are</label>\\n    <select id=\"fmi3_useraction\" class=\"usa-select margin-x-auto\" onfocus=\"fmi3_useraction_open();\" onchange=\"fmi3_useraction_chosen(this)\">\\n      <option class=\"default\" value=\"\">I want to...</option>\\n    </select>\\n    <button class=\"usa-button margin-bottom-3 margin-x-auto\" type=\"button\" value=\"Go\" onclick=\"fmi3_click();\" aria-label=\"Go to the FDIC webpage that answers your question\">\\n      Get Started\\n    </button>\\n  </form>\\n</div>\\n<script type=\"text/javascript\" src=\"/assets/javascript/find-more-info-v4b-6.js\" integrity=\"sha384-D4KeInUtjX7BidxXCrrRdEri+lQok96OlTiPZe0vl+93d8pFlsPpcJBdIVAPcsTB\"></script>\\n\\n            <div class=\"usa-footer__contact-links mobile-lg:grid-col tablet:display-none\">\\n              <div class=\"usa-footer__social-links grid-row grid-gap-1\">\\n                <div class=\"grid-container tablet:padding-x-0\">\\n  <div class=\"grid-row grid-gap-1\">\\n    <div class=\"grid-col-fill\"></div>\\n    <div class=\"grid-col-auto\">\\n      <a aria-label=\"Follow the FDIC on Facebook\" class=\"usa-icon usa-icon--gold-circle\" href=\"https://www.facebook.com/FDICgov/\" target=\"_blank\">\\n        <i aria-hidden=\"true\" class=\"fab fa-facebook-f\" title=\"Follow the FDIC on Facebook\"></i><span class=\"sr-only\">Follow the FDIC on Facebook</span>\\n      </a>\\n    </div>\\n    <div class=\"grid-col-auto\">\\n      <a aria-label=\"Follow the FDIC on Twitter\" class=\"usa-icon usa-icon--gold-circle\" href=\"https://twitter.com/FDICgov\" target=\"_blank\">\\n        <i aria-hidden=\"true\" class=\"fab fa-twitter\" title=\"Follow the FDIC on Twitter\"></i><span class=\"sr-only\">Follow the FDIC on Twitter</span>\\n      </a>\\n    </div>\\n    <div class=\"grid-col-auto\">\\n      <a aria-label=\"Follow the FDIC on Instagram\" class=\"usa-icon usa-icon--gold-circle\" href=\"https://www.instagram.com/fdicgov/\" target=\"_blank\">\\n        <i aria-hidden=\"true\" class=\"fab fa-instagram\" title=\"Follow the FDIC on Instagram\"></i><span class=\"sr-only\">Follow the FDIC on Instagram</span>\\n      </a>\\n    </div>\\n    <div class=\"grid-col-auto\">\\n      <a aria-label=\"Follow the FDIC on LinkedIn\" class=\"usa-icon usa-icon--gold-circle\" href=\"https://www.linkedin.com/company/fdic/\" target=\"_blank\">\\n        <i aria-hidden=\"true\" class=\"fab fa-linkedin-in\" title=\"Follow the FDIC on LinkedIn\"></i><span class=\"sr-only\">Follow the FDIC on LinkedIn</span>\\n      </a>\\n    </div>\\n    <div class=\"grid-col-auto\">\\n      <a aria-label=\"Follow the FDIC on Flickr\" class=\"usa-icon usa-icon--gold-circle\" href=\"https://www.flickr.com/photos/187818557@N05/\" target=\"_blank\">\\n        <i aria-hidden=\"true\" class=\"fas fa-circle\" title=\"Follow the FDIC on Flickr\"></i><span class=\"sr-only\">Follow the FDIC on Flickr</span><i aria-hidden=\"true\" class=\"fas fa-circle\" title=\"Follow the FDIC on Flickr\"></i><span class=\"sr-only\">Follow the FDIC on Flickr</span>\\n      </a>\\n    </div>\\n    <div class=\"grid-col-auto\">\\n      <a aria-label=\"Follow the FDIC on YouTube\" class=\"usa-icon usa-icon--gold-circle\" href=\"https://youtube.com/user/FDICchannel/\" target=\"_blank\">\\n        <i aria-hidden=\"true\" class=\"fa fa-youtube\" title=\"Follow the FDIC on YouTube\"></i><span class=\"sr-only\">Follow the FDIC on YouTube</span>\\n      </a>\\n    </div>\\n    <div class=\"grid-col-fill\"></div>\\n  </div>\\n</div>\\n\\n              </div>\\n            </div>\\n          </div>\\n        </div>\\n        <!--close usa-nav__inner -->\\n      </nav>\\n    </div>\\n    <!--close usa-nav-container -->\\n  </header>\\n\\n\\n\\n\\n    <main id=\"main-content\" class=\"grid-container bg-white\">\\n        <div class=\"padding-top-1px tablet:padding-y-0 grid-row margin-x-neg-1 tablet:margin-x-0\">\\n            <div class=\"grid-col-12 order-1 tablet:order-2 tablet:margin-x-2 margin-bottom-2 tablet:margin-y-2 font-alt-2xs text-ls-2 text-gray text-italic\">\\n  <nav aria-label=\"breadcrumb\" id=\"usa-breadcrumbs\">\\n    <div class=\"usa-breadcrumb\">\\n      <ol class=\"padding-left-0 margin-top-0\">\\n        <li class=\"display-inline\">\\n          <a class=\"text-prussian-blue\" href=\"/\" aria-label=\"FDIC.gov home page\">Home</a>\\n        </li>\\n      <li class=\"display-inline\"><a class=\"text-prussian-blue text-capitalize\" aria-label=\"Resources\" href=\"/resources/\">Resources</a></li><li class=\"display-inline\"><a class=\"text-prussian-blue text-capitalize\" aria-label=\"Resolutions\" href=\"/resources/resolutions/\">Resolutions</a></li><li class=\"display-inline\"><a class=\"text-prussian-blue text-capitalize\" aria-label=\"Bank failures\" href=\"/resources/resolutions/bank-failures/\">Bank failures</a></li><li class=\"display-none tablet:display-inline\"><a class=\"text-prussian-blue text-capitalize\" aria-label=\"Failed bank list\" aria-current=\"page\" href=\"/resources/resolutions/bank-failures/failed-bank-list/\">Failed bank list</a></li></ol>\\n    </div>\\n  </nav>\\n</div>\\n\\n<script>\\n  window.addEventListener(\"load\", function () {\\n    var pathArray = window.location.pathname;\\n    var here = location.href\\n      .replace(/(\\\\?.*)$/, \"\")\\n      .split(\"/\")\\n      .slice(3);\\n\\n    var parts = [\\n      {\\n        text: \"Home\",\\n        link: \"/\",\\n      },\\n    ];\\n    var urlContainsHtml = window.location.href.indexOf(\".html\") > -1;\\n    var urlContainsIndex = window.location.href.indexOf(\"index.html\") > -1;\\n    var numSlashes = (pathArray.match(new RegExp(\"/\", \"g\")) || []).length; //detect if first and only arg\\n\\n    for (var j = 0; j < here.length - 1; j++) {\\n      // for (var j = 0; j <= here.length - 1; j++) {\\n      //   //don\\'t add index.thml to breadcrumb\\n      //   if (urlContainsIndex && j === here.length - 1) {\\n      //     return\\n      //   }\\n\\n      var part = here[j];\\n      var pageName = part.toLowerCase();\\n      pageName = part.charAt(0).toUpperCase().replace(/-/g, \"\") + part.slice(1);\\n      var link = \"/\" + here.slice(0, j + 1).join(\"/\") + \"/\";\\n      var currentPage;\\n      var classes;\\n      if (j == here.length - 2) {\\n        currentPage = \\'aria-current=\"page\"\\';\\n        classes = \"display-none tablet:display-inline\";\\n      } else {\\n        currentPage = \"\";\\n        classes = \"display-inline\";\\n      }\\n      // Edge case for URLs with acronyms or specific letters that need to be transformed to uppercase, etc.\\n      switch (pageName) {\\n        case \"Mwob\":\\n          pageName = \"MWOB\";\\n          break;\\n        case \"Cfr\":\\n          pageName = \"CFR\";\\n          break;\\n        case \"Faq\":\\n          pageName = \"FAQ\";\\n          break;\\n        case \"Powerpoint\":\\n          pageName = \"PowerPoint\";\\n          break;\\n        case \"Acsr\":\\n          pageName = \"ACSR\";\\n          break;\\n        case \"2020-10-14-agenda\":\\n          pageName = \"Advisory Committee of State Regulators\";\\n          break;\\n        case \"Diversity-equity-inclusion\":\\n          pageName = \"Fostering Diversity, Equity & Inclusion\";\\n          break;\\n        case \"Strategic-plan\":\\n          pageName = \"Diversity, Equity, & Inclusion Strategic Plan\";\\n          break;\\n        case \"Chairman-eeo-statement\":\\n          pageName = \"Chairman’s EEO Policy Statement\";\\n          break;\\n        case \"Mdi-research\":\\n          pageName = \"MDI Research\";\\n          break;\\n        case \"Mdi-and-cdfi-bank-conference\":\\n          pageName = \"MDI and CDFI Bank Conference\";\\n          break;\\n        case \"Mdi-coordinators\":\\n          pageName = \"MDI Coordinators\";\\n          break;\\n        case \"Firrea\":\\n          pageName = \"FIRREA\";\\n          break;\\n        case \"Fdic-statement-of-policy\":\\n          pageName = \"FDIC Statement Of Policy\";\\n          break;\\n        case \"Becoming-an-mdi\":\\n          pageName = \"Becoming an MDI\";\\n          break;\\n        case \"Foia\":\\n          pageName = \"FOIA\";\\n          break;\\n        case \"Jelena-mcwilliams\":\\n          pageName = \"Jelena McWilliams\";\\n          break;\\n        case \"Fditech\":\\n            pageName = \"FDITECH\";\\n            break;\\n        case \"Speeches\":\\n            pageName = \"Speeches & Testimony\";\\n            break;\\n      }\\n\\t\\t$(\"#usa-breadcrumbs .usa-breadcrumb ol\").append(\\n        \\'<li class=\"\\' +\\n          classes +\\n          \\'\"><a class=\"text-prussian-blue text-capitalize\" aria-label=\"\\' +\\n          pageName\\n            .replace(/\\\\.(htm[l]?|asp[x]?|php|jsp)$/, \" \")\\n            .replace(/-/g, \" \") +\\n          \\'\" \\' +\\n          currentPage +\\n          \\' href=\"\\' +\\n          link +\\n          \\'\">\\' +\\n          pageName\\n            .replace(/\\\\.(htm[l]?|asp[x]?|php|jsp)$/, \" \")\\n            .replace(/-/g, \" \") +\\n          \"</a></li>\"\\n      );\\n\\n      parts.push({\\n        text: pageName,\\n        link: link,\\n      });\\n    } //end for loop\\n  });\\n</script>\\n\\n        </div>\\n        <section class=\"padding-y-1 margin-x-neg-1 tablet:margin-x-0\">\\n            <div class=\"grid-container\">\\n                <div class=\"usa-layout desktop:grid-col-12\">\\n                    <p class=\"font-size-18px tablet:font-size-20px font-family-serif text-yellow-metal text-center text-light margin-top-1 margin-bottom-0\">\\n                        Resources\\n                    </p>\\n                    <h1 class=\"font-size-25px tablet:font-size-36px font-family-serif text-center text-prussian-blue margin-top-1 margin-bottom-0 tablet:margin-top-2\">\\n                        Failed Bank List\\n                    </h1>\\n                    <p class=\"font-sans-md tablet:font-sans-xs text-italic text-center tablet:padding-x-10 margin-bottom-0\">This list includes banks which have failed since October 1, 2000.</p>\\n\\n\\n                    <div class=\"usa-layout desktop:order-1 desktop:grid-col-12 margin-y-4 tablet:margin-bottom-0\">\\n                        <div class=\"padding-x-2 padding-top-1 tablet:padding-105\">\\n                            <div class=\"grid-row flex-align-center flex-justify-center\">\\n                                <div class=\"grid-col-auto padding-bottom-2 tablet:padding-y-0 tablet:grid-col text-center tablet:text-left\">\\n                                    <!--Instructions-->\\n                                    <span class=\"font-body-xs text-ls-3 text-base\">Click arrows next to headers to sort in Ascending or\\n                      Descending order.</span>\\n                  </div>\\n                  <div class=\"grid-auto text-yellow-metal\">\\n                    <!--Download Link-->\\n                    <a class=\"data text-prussian-blue\" href=\"banklist.csv\"><i class=\"fas fa-cloud-download-alt text-prussian-blue\" aria-hidden=\"true\"></i>\\n                      Download Data</a>\\n                  </div>\\n                </div>\\n              </div>\\n            </div>\\n          </div>\\n        </div>\\n      </section>\\n      <section class=\"padding-top-0 padding-bottom-1 margin-top-0 margin-bottom-0 margin-x-4 mobile:margin-x-0\">\\n        <div id=\"DataTables_Table_0_wrapper\" class=\"dataTables_wrapper no-footer\"><div class=\"position-relative\"><div class=\"data-table--header usa-form position-sticky top-68px tablet:top-94px z-200\"><div class=\"dataTables_info\" id=\"DataTables_Table_0_info\" role=\"status\" aria-live=\"polite\">Showing 1 to 12 of 563 entries</div><div id=\"DataTables_Table_0_filter\" class=\"dataTables_filter\"><label><input type=\"search\" class=\"usa-input usa-input-search\" placeholder=\"Search this Listing\" aria-controls=\"DataTables_Table_0\"></label></div><div class=\"dataTables_length\" id=\"DataTables_Table_0_length\"><label><select class=\"usa-select margin-top-0\" aria-label=\"Results displayed\"><option value=\"12\">12</option><option value=\"24\">24</option><option value=\"60\">60</option><option value=\"100\">100</option><option value=\"-1\">All</option></select></label></div><div class=\"dataTables_paginate paging_first_last_numbers\" id=\"DataTables_Table_0_paginate\"><a class=\"paginate_button first disabled\" aria-controls=\"DataTables_Table_0\" data-dt-idx=\"0\" tabindex=\"-1\" id=\"DataTables_Table_0_first\">First</a><span><a class=\"paginate_button current\" aria-controls=\"DataTables_Table_0\" data-dt-idx=\"1\" tabindex=\"0\">1</a><a class=\"paginate_button \" aria-controls=\"DataTables_Table_0\" data-dt-idx=\"2\" tabindex=\"0\">2</a><a class=\"paginate_button \" aria-controls=\"DataTables_Table_0\" data-dt-idx=\"3\" tabindex=\"0\">3</a><a class=\"paginate_button \" aria-controls=\"DataTables_Table_0\" data-dt-idx=\"4\" tabindex=\"0\">4</a><a class=\"paginate_button \" aria-controls=\"DataTables_Table_0\" data-dt-idx=\"5\" tabindex=\"0\">5</a><span class=\"ellipsis\">…</span><a class=\"paginate_button \" aria-controls=\"DataTables_Table_0\" data-dt-idx=\"6\" tabindex=\"0\">47</a></span><a class=\"paginate_button last\" aria-controls=\"DataTables_Table_0\" data-dt-idx=\"7\" tabindex=\"0\" id=\"DataTables_Table_0_last\">Last</a></div></div><div class=\"data-table--content\"><table class=\"dataTable text-light dataTables-sidebar overflow-x-auto no-footer\" id=\"DataTables_Table_0\" aria-describedby=\"DataTables_Table_0_info\" role=\"grid\" cellspacing=\"0\" cellpadding=\"0\">\\n\\n\\t\\t\\t\\n<thead class=\"dataTables-content-header bg-blue\">\\n    <tr role=\"row\"><th class=\"text-no-wrap text-left padding-left-2 padding-right-105 padding-top-2 padding-bottom-1 sorting\" tabindex=\"0\" aria-controls=\"DataTables_Table_0\" rowspan=\"1\" colspan=\"1\" aria-label=\"\\n            Bank NameBank\\n        : activate to sort column ascending\">\\n            <p class=\"font-serif-xs text-light margin-0 padding-0 text-white\"><span class=\"dtfullname\">Bank Name</span><span class=\"dtmobilename\">Bank</span></p>\\n        </th><th class=\"text-no-wrap text-left padding-left-2 padding-right-105 padding-top-2 padding-bottom-1 sorting\" tabindex=\"0\" aria-controls=\"DataTables_Table_0\" rowspan=\"1\" colspan=\"1\" aria-label=\"\\n            CityCity\\n        : activate to sort column ascending\">\\n            <p class=\"font-serif-xs text-light margin-0 padding-0 text-white\"><span class=\"dtfullname\">City</span><span class=\"dtmobilename\">City</span></p>\\n        </th><th class=\"text-no-wrap text-left padding-left-2 desktop:padding-left-1 padding-right-105 padding-top-2 padding-bottom-1 sorting\" tabindex=\"0\" aria-controls=\"DataTables_Table_0\" rowspan=\"1\" colspan=\"1\" aria-label=\"\\n            StateSt\\n        : activate to sort column ascending\">\\n            <p class=\"font-serif-xs text-light margin-0 padding-0 text-white\"><span class=\"dtfullname\">State</span><span class=\"dtmobilename\">St</span></p>\\n        </th><th class=\"text-no-wrap text-left padding-left-2 padding-right-105 padding-top-2 padding-bottom-1 sorting\" tabindex=\"0\" aria-controls=\"DataTables_Table_0\" rowspan=\"1\" colspan=\"1\" aria-label=\"\\n            CertCert\\n        : activate to sort column ascending\">\\n            <p class=\"font-serif-xs text-light margin-0 padding-0 text-white\"><span class=\"dtfullname\">Cert</span><span class=\"dtmobilename\">Cert</span></p>\\n        </th><th class=\"text-no-wrap text-left padding-left-2 padding-right-105 padding-top-2 padding-bottom-1 sorting\" tabindex=\"0\" aria-controls=\"DataTables_Table_0\" rowspan=\"1\" colspan=\"1\" aria-label=\"\\n            Acquiring InstitutionAI\\n        : activate to sort column ascending\">\\n            <p class=\"font-serif-xs text-light margin-0 padding-0 text-white\"><span class=\"dtfullname\">Acquiring Institution</span><span class=\"dtmobilename\">AI</span></p>\\n        </th><th class=\"text-no-wrap text-left padding-left-2 padding-right-105 padding-top-2 padding-bottom-1 sorting\" tabindex=\"0\" aria-controls=\"DataTables_Table_0\" rowspan=\"1\" colspan=\"1\" aria-label=\"\\n            Closing DateClosing\\n        : activate to sort column ascending\">\\n            <p class=\"font-serif-xs text-light margin-0 padding-0 text-white\"><span class=\"dtfullname\">Closing Date</span><span class=\"dtmobilename\">Closing</span></p>\\n        </th><th class=\"text-border-right white text-no-wrap text-left padding-left-2 padding-right-105 padding-top-2 padding-bottom-1 sorting\" tabindex=\"0\" aria-controls=\"DataTables_Table_0\" rowspan=\"1\" colspan=\"1\" aria-label=\"\\n            FundFund\\n        : activate to sort column ascending\">\\n            <p class=\"font-serif-xs text-light margin-0 padding-0 text-white\"><span class=\"dtfullname\">Fund</span><span class=\"dtmobilename\">Fund</span></p>\\n        </th></tr>\\n</thead>\\n\\n<tbody class=\"dataTables-content-main\">\\n    \\n    \\n    \\n    \\n    \\n    \\n    \\n    \\n    \\n    \\n    \\n    \\n    \\n    \\n    \\n    \\n    \\n    \\n    \\n    \\n    \\n    \\n    \\n    \\n    \\n    \\n    \\n    \\n    \\n    \\n    \\n    \\n    \\n    \\n    \\n    \\n    \\n    \\n    \\n    \\n    \\n    \\n    \\n    \\n    \\n    \\n    \\n    \\n    \\n    \\n    \\n    \\n    \\n    \\n    \\n    \\n    \\n    \\n    \\n    \\n    \\n    \\n    \\n    \\n    \\n    \\n    \\n    \\n    \\n    \\n    \\n    \\n    \\n    \\n    \\n    \\n    \\n    \\n    \\n    \\n    \\n    \\n    \\n    \\n    \\n    \\n    \\n    \\n    \\n    \\n    \\n    \\n    \\n    \\n    \\n    \\n    \\n    \\n    \\n    \\n    \\n    \\n    \\n    \\n    \\n    \\n    \\n    \\n    \\n    \\n    \\n    \\n    \\n    \\n    \\n    \\n    \\n    \\n    \\n    \\n    \\n    \\n    \\n    \\n    \\n    \\n    \\n    \\n    \\n    \\n    \\n    \\n    \\n    \\n    \\n    \\n    \\n    \\n    \\n    \\n    \\n    \\n    \\n    \\n    \\n    \\n    \\n    \\n    \\n    \\n    \\n    \\n    \\n    \\n    \\n    \\n    \\n    \\n    \\n    \\n    \\n    \\n    \\n    \\n    \\n    \\n    \\n    \\n    \\n    \\n    \\n    \\n    \\n    \\n    \\n    \\n    \\n    \\n    \\n    \\n    \\n    \\n    \\n    \\n    \\n    \\n    \\n    \\n    \\n    \\n    \\n    \\n    \\n    \\n    \\n    \\n    \\n    \\n    \\n    \\n    \\n    \\n    \\n    \\n    \\n    \\n    \\n    \\n    \\n    \\n    \\n    \\n    \\n    \\n    \\n    \\n    \\n    \\n    \\n    \\n    \\n    \\n    \\n    \\n    \\n    \\n    \\n    \\n    \\n    \\n    \\n    \\n    \\n    \\n    \\n    \\n    \\n    \\n    \\n    \\n    \\n    \\n    \\n    \\n    \\n    \\n    \\n    \\n    \\n    \\n    \\n    \\n    \\n    \\n    \\n    \\n    \\n    \\n    \\n    \\n    \\n    \\n    \\n    \\n    \\n    \\n    \\n    \\n    \\n    \\n    \\n    \\n    \\n    \\n    \\n    \\n    \\n    \\n    \\n    \\n    \\n    \\n    \\n    \\n    \\n    \\n    \\n    \\n    \\n    \\n    \\n    \\n    \\n    \\n    \\n    \\n    \\n    \\n    \\n    \\n    \\n    \\n    \\n    \\n    \\n    \\n    \\n    \\n    \\n    \\n    \\n    \\n    \\n    \\n    \\n    \\n    \\n    \\n    \\n    \\n    \\n    \\n    \\n    \\n    \\n    \\n    \\n    \\n    \\n    \\n    \\n    \\n    \\n    \\n    \\n    \\n    \\n    \\n    \\n    \\n    \\n    \\n    \\n    \\n    \\n    \\n    \\n    \\n    \\n    \\n    \\n    \\n    \\n    \\n    \\n    \\n    \\n    \\n    \\n    \\n    \\n    \\n    \\n    \\n    \\n    \\n    \\n    \\n    \\n    \\n    \\n    \\n    \\n    \\n    \\n    \\n    \\n    \\n    \\n    \\n    \\n    \\n    \\n    \\n    \\n    \\n    \\n    \\n    \\n    \\n    \\n    \\n    \\n    \\n    \\n    \\n    \\n    \\n    \\n    \\n    \\n    \\n    \\n    \\n    \\n    \\n    \\n    \\n    \\n    \\n    \\n    \\n    \\n    \\n    \\n    \\n    \\n    \\n    \\n    \\n    \\n    \\n    \\n    \\n    \\n    \\n    \\n    \\n    \\n    \\n    \\n    \\n    \\n    \\n    \\n    \\n    \\n    \\n    \\n    \\n    \\n    \\n    \\n    \\n    \\n    \\n    \\n    \\n    \\n    \\n    \\n    \\n    \\n    \\n    \\n    \\n    \\n    \\n    \\n    \\n    \\n    \\n    \\n    \\n    \\n    \\n    \\n    \\n    \\n    \\n    \\n    \\n    \\n    \\n    \\n    \\n    \\n    \\n    \\n    \\n    \\n    \\n    \\n    \\n    \\n    \\n    \\n    \\n    \\n    \\n    \\n    \\n    \\n    \\n    \\n    \\n    \\n    \\n    \\n    \\n    \\n    \\n    \\n    \\n    \\n    \\n    \\n    \\n    \\n    \\n    \\n    \\n    \\n    \\n    \\n    \\n    \\n    \\n    \\n    \\n    \\n    \\n    \\n    \\n    \\n    \\n    \\n    \\n    \\n    \\n    \\n    \\n    \\n    \\n    \\n    \\n    \\n    \\n    \\n    \\n    \\n    \\n    \\n    \\n    \\n    \\n    \\n    \\n    \\n    \\n    \\n    \\n    \\n    \\n    \\n    \\n    \\n    \\n    \\n    \\n    \\n    \\n    \\n<tr role=\"row\" class=\"odd\">\\n        <td><a href=\"/resources/resolutions/bank-failures/failed-bank-list/almenastate.html\">Almena State Bank</a></td>\\n        <td>Almena</td>\\n        <td>KS</td>\\n        <td>15426</td>\\n        <td>Equity Bank</td>\\n        <td>October 23, 2020</td>\\n        <td>10538</td>\\n    </tr><tr role=\"row\" class=\"even\">\\n        <td><a href=\"/resources/resolutions/bank-failures/failed-bank-list/firstcitybank.html\">First City Bank of Florida</a></td>\\n        <td>Fort Walton Beach</td>\\n        <td>FL</td>\\n        <td>16748</td>\\n        <td>United Fidelity Bank, fsb</td>\\n        <td>October 16, 2020</td>\\n        <td>10537</td>\\n    </tr><tr role=\"row\" class=\"odd\">\\n        <td><a href=\"/resources/resolutions/bank-failures/failed-bank-list/fsb-wv.html\">The First State Bank</a></td>\\n        <td>Barboursville</td>\\n        <td>WV</td>\\n        <td>14361</td>\\n        <td>MVB Bank, Inc.</td>\\n        <td>April 3, 2020</td>\\n        <td>10536</td>\\n    </tr><tr role=\"row\" class=\"even\">\\n        <td><a href=\"/resources/resolutions/bank-failures/failed-bank-list/ericsonstate.html\">Ericson State Bank</a></td>\\n        <td>Ericson</td>\\n        <td>NE</td>\\n        <td>18265</td>\\n        <td>Farmers and Merchants Bank</td>\\n        <td>February 14, 2020</td>\\n        <td>10535</td>\\n    </tr><tr role=\"row\" class=\"odd\">\\n        <td><a href=\"/resources/resolutions/bank-failures/failed-bank-list/citynatl.html\">City National Bank of New Jersey</a></td>\\n        <td>Newark</td>\\n        <td>NJ</td>\\n        <td>21111</td>\\n        <td>Industrial Bank</td>\\n        <td>November 1, 2019</td>\\n        <td>10534</td>\\n    </tr><tr role=\"row\" class=\"even\">\\n        <td><a href=\"/resources/resolutions/bank-failures/failed-bank-list/resolute.html\">Resolute Bank</a></td>\\n        <td>Maumee</td>\\n        <td>OH</td>\\n        <td>58317</td>\\n        <td>Buckeye State Bank</td>\\n        <td>October 25, 2019</td>\\n        <td>10533</td>\\n    </tr><tr role=\"row\" class=\"odd\">\\n        <td><a href=\"/resources/resolutions/bank-failures/failed-bank-list/louisacomm.html\">Louisa Community Bank</a></td>\\n        <td>Louisa</td>\\n        <td>KY</td>\\n        <td>58112</td>\\n        <td>Kentucky Farmers Bank Corporation</td>\\n        <td>October 25, 2019</td>\\n        <td>10532</td>\\n    </tr><tr role=\"row\" class=\"even\">\\n        <td><a href=\"/resources/resolutions/bank-failures/failed-bank-list/enloe.html\">The Enloe State Bank</a></td>\\n        <td>Cooper</td>\\n        <td>TX</td>\\n        <td>10716</td>\\n        <td>Legend Bank, N. A.</td>\\n        <td>May 31, 2019</td>\\n        <td>10531</td>\\n    </tr><tr role=\"row\" class=\"odd\">\\n        <td><a href=\"/resources/resolutions/bank-failures/failed-bank-list/wafedbank.html\">Washington Federal Bank for Savings</a></td>\\n        <td>Chicago</td>\\n        <td>IL</td>\\n        <td>30570</td>\\n        <td>Royal Savings Bank</td>\\n        <td>December 15, 2017</td>\\n        <td>10530</td>\\n    </tr><tr role=\"row\" class=\"even\">\\n        <td><a href=\"/resources/resolutions/bank-failures/failed-bank-list/fmstatebank.html\">The Farmers and Merchants State Bank of Argonia</a></td>\\n        <td>Argonia</td>\\n        <td>KS</td>\\n        <td>17719</td>\\n        <td>Conway Bank</td>\\n        <td>October 13, 2017</td>\\n        <td>10529</td>\\n    </tr><tr role=\"row\" class=\"odd\">\\n        <td><a href=\"/resources/resolutions/bank-failures/failed-bank-list/fayettecounty.html\">Fayette County Bank</a></td>\\n        <td>Saint Elmo</td>\\n        <td>IL</td>\\n        <td>1802</td>\\n        <td>United Fidelity Bank, fsb</td>\\n        <td>May 26, 2017</td>\\n        <td>10528</td>\\n    </tr><tr role=\"row\" class=\"even\">\\n        <td><a href=\"/resources/resolutions/bank-failures/failed-bank-list/guaranty.html\">Guaranty Bank, (d/b/a BestBank in Georgia &amp; Michigan)</a></td>\\n        <td>Milwaukee</td>\\n        <td>WI</td>\\n        <td>30003</td>\\n        <td>First-Citizens Bank &amp; Trust Company</td>\\n        <td>May 5, 2017</td>\\n        <td>10527</td>\\n    </tr></tbody>\\n\\t\\t\\t\\n          <caption class=\"dataTables-content-aside\">\\n            <aside class=\"desktop:margin-top-neg-1 desktop:margin-right-4\">\\n\\t\\t\\t\\t\\n\\t\\t\\t\\t              <div class=\"margin-bottom-205 padding-bottom-3 desktop:margin-bottom-0 text-left\">\\n                <div class=\"usa-tab-light usa-accordion border border-gray-10 radius-md desktop:display-none\">\\n                  <h2 class=\"usa-accordion__heading font-family-serif\">\\n                    <button class=\"usa-accordion__button text-light text-yellow-metal usa-link padding-1 radius-md\" aria-expanded=\"false\" aria-controls=\"a-a1\">\\n                      Additional Links\\n                      <span class=\"usa-icon bg-gold margin-right-1 radius-right-md\">\\n                        <i class=\"fas fa-chevron-down\" aria-hidden=\"true\"></i>\\n                      </span>\\n                    </button>\\n                  </h2>\\n                </div>\\n                <div id=\"a-a1\" class=\"usa-tab-light usa-accordion border border-gray-10 desktop:display-block bg-white\" hidden=\"\">\\n                  <h2 class=\"usa-accordion__heading border-bottom border-base-lighter margin-x-1\">\\n\\t\\t\\t\\t\\t  <a class=\"text-prussian-blue text-normal font-size-18px font-family-serif padding-x-05 padding-y-2 display-block line-height-sans-3\" href=\"/resources/resolutions/bank-failures/\">Bank Failures Home</a>\\n\\t\\t\\t\\t\\t</h2>\\n                  <h2 class=\"usa-accordion__heading border-bottom border-base-lighter margin-x-1\">\\t\\t\\t\\t\\t  \\n                    <a class=\"text-prussian-blue text-normal font-size-18px font-family-serif padding-x-05 padding-y-2 display-block line-height-sans-3\" href=\"/resources/resolutions/bank-failures/failed-bank-list/\">Failed Bank List</a>\\n                  </h2>\\n\\t\\t\\t\\t\\t\\n                  <h2 class=\"usa-accordion__heading border-bottom border-base-lighter margin-x-1\">\\n                    <a class=\"text-prussian-blue text-normal font-size-18px font-family-serif padding-x-05 padding-y-2 display-block line-height-sans-3\" href=\"/bank/historical/bank/\">Bank Failures in Brief</a>\\n                  </h2>\\n\\t\\t\\t\\t\\t\\n                  <h2 class=\"usa-accordion__heading border-bottom border-base-lighter margin-x-1\">\\n                    <a class=\"text-prussian-blue text-normal font-size-18px font-family-serif line-height-sans-3 padding-x-05 padding-y-2 display-block\" href=\"/consumers/banking/facts/\">Bank Failure FAQ</a>\\n                  </h2>\\n                  \\n\\t\\t\\t\\t\\t<h2 class=\"usa-accordion__heading border-bottom border-base-lighter margin-x-1\">\\n                    <a class=\"text-prussian-blue text-normal font-size-18px font-family-serif line-height-sans-3 padding-x-05 padding-y-2 display-block\" href=\"https://banks.data.fdic.gov/explore/failures\" target=\"_blank\">Bank Failures and Assistance Data</a>\\n                  </h2>\\n\\t\\t\\t\\t\\t\\n                  <h2 class=\"usa-accordion__heading border-bottom border-base-lighter margin-x-1\">\\n                    <a class=\"text-prussian-blue text-normal font-size-18px font-family-serif line-height-sans-3 padding-x-05 padding-y-2 display-block\" href=\" https://closedbanks.fdic.gov/aii/\" target=\"_blank\">Is My Account Fully Insured?</a>\\n                  </h2>\\n\\t\\t\\t\\t\\t\\n                  <h2 class=\"usa-accordion__heading border-bottom border-base-lighter margin-x-1\">\\n                    <a class=\"text-prussian-blue text-normal font-size-18px font-family-serif line-height-sans-3 padding-x-05 padding-y-2 display-block\" href=\"https://closedbanks.fdic.gov/funds/\" target=\"_blank\">Unclaimed Funds</a>\\n                  </h2>\\n\\t\\t\\t\\t\\t\\n                  <h2 class=\"usa-accordion__heading border-bottom border-base-lighter margin-x-1\">\\n                    <a class=\"text-prussian-blue text-normal font-size-18px font-family-serif line-height-sans-3 padding-x-05 padding-y-2 display-block\" href=\"https://closedbanks.fdic.gov/dividends/\" target=\"_blank\">FDIC Dividends from Failed Banks</a>\\n                  </h2>\\n\\t\\t\\t\\t\\t\\n                  <h2 class=\"usa-accordion__heading border-bottom border-base-lighter margin-x-1\">\\n                    <a class=\"text-prussian-blue text-normal font-size-18px font-family-serif line-height-sans-3 padding-x-05 padding-y-2 display-block\" href=\"https://receivership.fdic.gov/drripbal/\" target=\"_blank\">Balance Sheet Summaries from Failed Banks</a>\\n                  </h2>\\n\\t\\t\\t\\t\\t\\n                  <h2 class=\"usa-accordion__heading border-bottom border-base-lighter margin-x-1\">\\n                    <a class=\"text-prussian-blue text-normal font-size-18px font-family-serif line-height-sans-3 padding-x-05 padding-y-2 display-block\" href=\"/resources/resolutions/bank-failures/resources-for-court-clerks-and-law-enforcement/index.html\">Resources for Court Clerks and Law Enforcement Agencies</a>\\n                  </h2>\\n\\t\\t\\t\\t\\t\\n                  <h2 class=\"usa-accordion__heading border-bottom border-base-lighter margin-x-1\">\\n                    <a class=\"text-prussian-blue text-normal font-size-18px font-family-serif line-height-sans-3 padding-x-05 padding-y-2 display-block\" href=\"/deposit/deposits/brokers/\">Deposit Broker\\'s Processing Guide</a>\\n                  </h2>\\n\\n                  <h2 class=\"usa-accordion__heading border-bottom border-base-lighter margin-x-1\">\\n                    <a class=\"text-prussian-blue text-normal font-size-18px font-family-serif line-height-sans-3 padding-x-05 padding-y-2 display-block\" href=\"/resources/resolutions/bank-failures/failed-bank-list/lien/index.html\">Obtaining a Lien Release</a>\\n                  </h2>\\n\\n                  <h2 class=\"usa-accordion__heading border-bottom border-base-lighter margin-x-1\">\\n                    <a class=\"text-prussian-blue text-normal font-size-18px font-family-serif line-height-sans-3 padding-x-05 padding-y-2 display-block\" href=\"/resources/resolutions/professional-liability/index.html\">Professional Liability Program</a>\\n                  </h2>\\n\\t\\t\\t\\t\\t <h2 class=\"usa-accordion__heading margin-x-1\">\\n                    <a class=\"text-prussian-blue text-normal font-size-18px font-family-serif line-height-sans-3 padding-x-05 padding-y-2 display-block\" href=\"/resources/resolutions/bank-failures/reshandbook/index.html\">Resolutions Handbook</a>\\n                  </h2>\\n                </div>\\n              </div>\\n\\n\\t\\t\\t\\t<div class=\"display-none desktop:display-block\">\\n\\t\\t\\t\\t\\t<div class=\"border border-base-lighter margin-bottom-4\">\\n  <div class=\"padding-2\">\\n    <img class=\"display-block margin-x-auto width-15\" src=\"/assets/images/icon-seal.svg\" alt=\"FDIC Seal Graphic\">\\n    <h3 class=\"font-size-20px font-family-serif text-light text-prussian-blue margin-top-2 margin-bottom-1 mobile:text-center tablet:text-left\">\\n      About the FDIC:\\n    </h3>\\n    <p class=\"font-size-14px margin-top-1 mobile:text-center tablet:text-left\">\\n      The Federal Deposit Insurance Corporation (FDIC) is an independent agency\\n      created by the Congress to maintain stability and public confidence in the\\n      nation\\'s financial system. The FDIC insures deposits; examines and\\n      supervises financial institutions for safety, soundness, and consumer\\n      protection; makes large and complex financial institutions resolvable; and\\n      manages receiverships.\\n    </p>\\n    <a href=\"/about/\" class=\"usa-button usa-button--primary width-full text-uppercase\" aria-label=\"Learn More\">Learn More</a>\\n  </div>\\n</div>\\n\\n\\t\\t\\t\\t</div>\\n            </aside>\\n          </caption>\\n        </table></div><div class=\"data-table--footer\"><div class=\"dataTables_paginate paging_first_last_numbers\"><a class=\"paginate_button first disabled\" aria-controls=\"DataTables_Table_0\" data-dt-idx=\"0\" tabindex=\"-1\">First</a><span><a class=\"paginate_button current\" aria-controls=\"DataTables_Table_0\" data-dt-idx=\"1\" tabindex=\"0\">1</a><a class=\"paginate_button \" aria-controls=\"DataTables_Table_0\" data-dt-idx=\"2\" tabindex=\"0\">2</a><a class=\"paginate_button \" aria-controls=\"DataTables_Table_0\" data-dt-idx=\"3\" tabindex=\"0\">3</a><a class=\"paginate_button \" aria-controls=\"DataTables_Table_0\" data-dt-idx=\"4\" tabindex=\"0\">4</a><a class=\"paginate_button \" aria-controls=\"DataTables_Table_0\" data-dt-idx=\"5\" tabindex=\"0\">5</a><span class=\"ellipsis\">…</span><a class=\"paginate_button \" aria-controls=\"DataTables_Table_0\" data-dt-idx=\"6\" tabindex=\"0\">47</a></span><a class=\"paginate_button last\" aria-controls=\"DataTables_Table_0\" data-dt-idx=\"7\" tabindex=\"0\">Last</a></div></div></div></div>\\n      </section>\\n    </main>\\n\\n    <footer class=\"usa-footer usa-footer--slim\">\\n  <div class=\"grid-container usa-footer__return-to-top usa-sr-only\">\\n    <a href=\"#\">Return to top</a>\\n  </div>\\n  <div class=\"usa-footer__primary-section bg-informed\">\\n  <div class=\"grid-container\">\\n    <div class=\"grid-row grid-gap\">\\n      <div class=\"tablet:grid-col-12\">\\n        <div class=\"grid-row grid-gap-4 margin-6\">\\n          <div class=\"mobile-lg:grid-col-9 desktop:grid-col-4 half-pixel-border-white margin-x-auto\">\\n            <section class=\"usa-footer__primary-content usa-footer__primary-content--collapsible\">\\n              <div class=\"usa-contact-cta margin-x-auto text-center text-white\">\\n  <div class=\"usa-form\">\\n    <h3 class=\"usa-contact-cta__heading font-alt-lg margin-top-0 margin-bottom-4 text-uppercase\">\\n      Contact the FDIC\\n    </h3>\\n    <a class=\"usa-button margin-top-1 margin-x-auto\" href=\"/contact/\" aria-label=\"Find out how to get in contact the FDIC\">Contact Us</a>\\n  </div>\\n</div>\\n\\n            </section>\\n          </div>\\n          <div class=\"mobile-lg:grid-col-9 desktop:grid-col-4 half-pixel-border-white margin-x-auto\">\\n            <section class=\"usa-footer__primary-content usa-footer__primary-content--collapsible\">\\n              <div class=\"usa-stay-informed text-center text-white\">\\n  <form class=\"usa-form\" action=\"https://public.govdelivery.com/accounts/USFDIC/subscribers/qualify\" accept-charset=\"UTF-8\" method=\"post\">\\n    <h3 class=\"usa-stay-informed__heading font-alt-lg margin-top-0 margin-bottom-4 text-uppercase\">\\n      Stay Informed\\n    </h3>\\n    <input type=\"hidden\" name=\"authenticity_token\" value=\"j1E/fYVkoSM7tHw2qwDlob2DvT78RtfQKBwd1buCKxnBBGe5cL0xfkbCHh+JMub0yU6qc8JBwQiqf0/BDff6BQ==\">\\n    <input type=\"hidden\" name=\"topic_id\" id=\"topic_id\" value=\"USFDIC\">\\n    <label for=\"email\" class=\"usa-sr-only\">Enter your email address</label>\\n    <input class=\"usa-input margin-top-0 margin-x-auto\" id=\"email\" name=\"email\" type=\"email\" placeholder=\"Enter your email address:\">\\n    <button class=\"usa-button margin-bottom-3 margin-x-auto\" type=\"submit\" aria-label=\"Enter email address to begin receiving updates on FDIC news, publications, and data\">\\n      Get Started\\n    </button>\\n  </form>\\n\\n  <div class=\"grid-container tablet:padding-x-0\">\\n  <div class=\"grid-row grid-gap-1\">\\n    <div class=\"grid-col-fill\"></div>\\n    <div class=\"grid-col-auto\">\\n      <a aria-label=\"Follow the FDIC on Facebook\" class=\"usa-icon usa-icon--gold-circle\" href=\"https://www.facebook.com/FDICgov/\" target=\"_blank\">\\n        <i aria-hidden=\"true\" class=\"fab fa-facebook-f\" title=\"Follow the FDIC on Facebook\"></i><span class=\"sr-only\">Follow the FDIC on Facebook</span>\\n      </a>\\n    </div>\\n    <div class=\"grid-col-auto\">\\n      <a aria-label=\"Follow the FDIC on Twitter\" class=\"usa-icon usa-icon--gold-circle\" href=\"https://twitter.com/FDICgov\" target=\"_blank\">\\n        <i aria-hidden=\"true\" class=\"fab fa-twitter\" title=\"Follow the FDIC on Twitter\"></i><span class=\"sr-only\">Follow the FDIC on Twitter</span>\\n      </a>\\n    </div>\\n    <div class=\"grid-col-auto\">\\n      <a aria-label=\"Follow the FDIC on Instagram\" class=\"usa-icon usa-icon--gold-circle\" href=\"https://www.instagram.com/fdicgov/\" target=\"_blank\">\\n        <i aria-hidden=\"true\" class=\"fab fa-instagram\" title=\"Follow the FDIC on Instagram\"></i><span class=\"sr-only\">Follow the FDIC on Instagram</span>\\n      </a>\\n    </div>\\n    <div class=\"grid-col-auto\">\\n      <a aria-label=\"Follow the FDIC on LinkedIn\" class=\"usa-icon usa-icon--gold-circle\" href=\"https://www.linkedin.com/company/fdic/\" target=\"_blank\">\\n        <i aria-hidden=\"true\" class=\"fab fa-linkedin-in\" title=\"Follow the FDIC on LinkedIn\"></i><span class=\"sr-only\">Follow the FDIC on LinkedIn</span>\\n      </a>\\n    </div>\\n    <div class=\"grid-col-auto\">\\n      <a aria-label=\"Follow the FDIC on Flickr\" class=\"usa-icon usa-icon--gold-circle\" href=\"https://www.flickr.com/photos/187818557@N05/\" target=\"_blank\">\\n        <i aria-hidden=\"true\" class=\"fas fa-circle\" title=\"Follow the FDIC on Flickr\"></i><span class=\"sr-only\">Follow the FDIC on Flickr</span><i aria-hidden=\"true\" class=\"fas fa-circle\" title=\"Follow the FDIC on Flickr\"></i><span class=\"sr-only\">Follow the FDIC on Flickr</span>\\n      </a>\\n    </div>\\n    <div class=\"grid-col-auto\">\\n      <a aria-label=\"Follow the FDIC on YouTube\" class=\"usa-icon usa-icon--gold-circle\" href=\"https://youtube.com/user/FDICchannel/\" target=\"_blank\">\\n        <i aria-hidden=\"true\" class=\"fa fa-youtube\" title=\"Follow the FDIC on YouTube\"></i><span class=\"sr-only\">Follow the FDIC on YouTube</span>\\n      </a>\\n    </div>\\n    <div class=\"grid-col-fill\"></div>\\n  </div>\\n</div>\\n\\n</div>\\n\\n            </section>\\n          </div>\\n          <div class=\"mobile-lg:grid-col-9 desktop:grid-col-4 margin-x-auto\">\\n            <section class=\"usa-footer__primary-content usa-footer__primary-content--collapsible\">\\n              <div class=\"usa-help text-center text-white width-full\">\\n  <h3 class=\"usa-help__heading font-alt-lg margin-top-0 margin-x-auto margin-bottom-4 text-light text-uppercase\">\\n    How Can We Help You?\\n  </h3>\\n  <form class=\"usa-form margin-x-auto\">\\n    <label class=\"usa-sr-only usa-label usa-help__heading font-alt-lg margin-top-0 margin-x-auto margin-bottom-4 text-light text-uppercase\" for=\"fmi4_usertype\">Define “I am a . . . ” to learn more specific information\\n    </label>\\n    <select class=\"usa-select margin-x-auto margin-bottom-2\" id=\"fmi4_usertype\" onchange=\"fmi4_update_useraction(this);\">\\n      <option value=\"\">I am a...</option>\\n<option value=\"customer\">Bank Customer</option>\\n<option value=\"banker\">Banker</option>\\n<option value=\"consumer\">Consumer</option>\\n<option value=\"business\">Small Business Owner</option>\\n<option value=\"analyst\">Analyst/Researcher/Student</option>\\n<option value=\"legal\">Legal Professional</option>\\n<option value=\"regulator\">Bank Regulator</option>\\n<option value=\"press\">Press/Media</option>\\n<option value=\"vendor\">Vendor/Contractor</option>\\n<option value=\"legislative\">Legislative Staff Member</option>\\n<option value=\"jobseeker\">Jobseeker</option>\\n<option value=\"courtclerk\">Court Clerk</option>\\n<option value=\"prosprobofficer\">Prosecutor/Probation Officer</option>\\n<option value=\"investigator\">Investigator</option>\\n\\n    </select>\\n    <label for=\"fmi4_useraction\" class=\"usa-sr-only\">Select the information you wish to explore based on who you are</label>\\n    <select id=\"fmi4_useraction\" class=\"usa-select margin-x-auto\" onfocus=\"fmi4_useraction_open();\" onchange=\"fmi4_useraction_chosen(this);\">\\n      <option class=\"default\" value=\"\">I want to...</option>\\n    </select>\\n    <button class=\"usa-button margin-bottom-3 margin-x-auto\" type=\"button\" value=\"Go\" onclick=\"fmi4_click();\" aria-label=\"Go to the FDIC webpage that answers your question\">\\n      Get Started\\n    </button>\\n  </form>\\n</div>\\n<script type=\"text/javascript\" src=\"/assets/javascript/find-more-info-v5c-6.js\" integrity=\"sha384-Wu3++/Yx+vJ/FkEyM2lhHTwII6layoWfX1v0GKGz0FLYeiBCYSw5wXa5ycaRxFk4\"></script>\\n\\n            </section>\\n          </div>\\n        </div>\\n      </div>\\n    </div>\\n  </div>\\n</div>\\n\\n  <div class=\"usa-footer__secondary-section padding-1\">\\n    <div class=\"usa-footer__secondary-container grid-row\">\\n      <div class=\"margin-x-auto\">\\n        <nav class=\"usa-footer__nav\" aria-label=\"Footer navigation\">\\n          <ul class=\"grid-row grid-gap\">\\n            <li class=\"mobile-lg:grid-col-6 desktop:grid-col-auto usa-footer__secondary-content\">\\n              <a class=\"usa-footer__secondary-link\" href=\"/policies/\" aria-label=\"Policies\"> Policies </a>\\n            </li>\\n            \\n            <li class=\"mobile-lg:grid-col-6 desktop:grid-col-auto usa-footer__secondary-content\">\\n              <a class=\"usa-footer__secondary-link\" href=\"/help/\" aria-label=\"Help\"> Help </a>\\n            </li>\\n            <li class=\"mobile-lg:grid-col-6 desktop:grid-col-auto usa-footer__secondary-content\">\\n              <a class=\"usa-footer__secondary-link\" href=\"/foia/\" aria-label=\"FOIA\"> FOIA </a>\\n            </li>\\n            <li class=\"mobile-lg:grid-col-6 desktop:grid-col-auto usa-footer__secondary-content\">\\n              <a class=\"usa-footer__secondary-link\" href=\"/espanol/\" aria-label=\"En Español\"> En Español </a>\\n            </li>\\n            <li class=\"mobile-lg:grid-col-6 desktop:grid-col-auto usa-footer__secondary-content\">\\n              <a class=\"usa-footer__secondary-link\" href=\"/accessibility/\" aria-label=\"Accessibility\"> Accessibility </a>\\n            </li>\\n            <li class=\"mobile-lg:grid-col-6 desktop:grid-col-auto usa-footer__secondary-content\">\\n              <a class=\"usa-footer__secondary-link\" href=\"/open-government/\" aria-label=\"Open Government\"> Open Government </a>\\n            </li>\\n            <li class=\"mobile-lg:grid-col-6 desktop:grid-col-auto usa-footer__secondary-content\">\\n              <a class=\"usa-footer__secondary-link\" href=\"/sitemap/\" aria-label=\"Site Map\"> Site Map </a>\\n            </li>\\n            <li class=\"mobile-lg:grid-col-6 desktop:grid-col-auto usa-footer__secondary-content\">\\n              <a class=\"usa-footer__secondary-link\" href=\"https://www.usa.gov/\" target=\"_blank\" aria-label=\"USA.gov\">USA.gov</a>\\n            </li>\\n            <li class=\"mobile-lg:grid-col-6 desktop:grid-col-auto usa-footer__secondary-content\">\\n              <a class=\"usa-footer__secondary-link\" href=\"/contact/\" aria-label=\"Contact Us\">Contact Us</a>\\n            </li>\\n\\t\\t\\t  <li class=\"mobile-lg:grid-col-6 desktop:grid-col-auto usa-footer__secondary-content\">\\n              <a class=\"usa-footer__secondary-link\" href=\"/policies/privacy/\" aria-label=\"Privacy\"> Privacy </a>\\n            </li>\\n\\t\\t\\t<li class=\"mobile-lg:grid-col-6 desktop:grid-col-auto usa-footer__secondary-content\">\\n\\t\\t\\t  <a class=\"usa-footer__secondary-link\" href=\"/policies/plain-writing/\" aria-label=\"Plain Writing\">Plain Writing</a> \\n\\t\\t\\t</li>\\n\\t\\t\\t  <li class=\"mobile-lg:grid-col-6 desktop:grid-col-auto usa-footer__secondary-content\">\\n\\t\\t\\t  <a class=\"usa-footer__secondary-link\" href=\"/about/diversity/nofear/\" aria-label=\"No Fear Act Data\">No Fear Act Data</a> \\n\\t\\t\\t</li>\\n            <li class=\"mobile-lg:grid-col-6 desktop:grid-col-auto usa-footer__secondary-content\">\\n              <a class=\"usa-footer__secondary-link\" href=\"https://www.fdicoig.gov/\" aria-label=\"Inspector General\"> Inspector General </a>\\n            </li>\\n\\t\\t  </ul>\\n        </nav>\\n      </div>\\n    </div>\\n  </div>\\n</footer>\\n\\n<script src=\"/assets/javascript/jquery-3.6.0.min.js\" integrity=\"sha384-kMhb2a62f93cRiCw1AxAD+mrzY1Cnqes7A2q76CO7RELATYAnimF4nUBzsGOuKf9\"></script>\\n<script id=\"_fed_an_ua_tag\" src=\"/assets/javascript/dap-universal-federated-analytics-min.js\" crossorigin=\"anonymous\" integrity=\"sha384-Pd05hmD/7hIx9t7Zb7AhvmL50CAOGNy+MglsnXzzOsLLRoadzrzJQmyG+L8tS9vk\"></script>\\n\\n<!-- START Omniture SiteCatalyst Code -->\\n<script type=\"text/javascript\" src=\"/assets/javascript/appmeasurement.js\" crossorigin=\"anonymous\" integrity=\"sha384-MIlP15ZKwbpVFObXxY+o7aJa0wAcpihdyvO/2XHJFZ3XfSS5ewVDKfmMDcF/TZPe\"></script>\\n<script type=\"text/javascript\">\\n  /************* DO NOT ALTER ANYTHING BELOW THIS LINE ! **************/\\n  var s_code = s.t();\\n  if (s_code) document.write(s_code);\\n</script>\\n<script type=\"text/javascript\">\\n  if (navigator.appVersion.indexOf(\"MSIE\") >= 0)\\n    document.write(unescape(\"%3C\") + \"\\\\!-\" + \"-\");\\n</script>\\n<noscript>\\n  <a href=\"http://www.omniture.com/\" title=\"Web Analytics\">\\n    <img\\n      src=\"http://fdic.122.2o7.net/b/ss/fdicgovprod/1/H.21--NS/0?[AQB]%26cl=Session%26AQE\"\\n      style=\"height: 1px; width: 1px; border: none;\"\\n      alt=\"adobe marketing cloud tracking image\"\\n  /></a>\\n</noscript>\\n<!--/DO NOT REMOVE/-->\\n<!-- END Omniture SiteCatalyst Code -->\\n<script src=\"/assets/uswds-2.6.0/js/uswds.min.js\" crossorigin=\"anonymous\" integrity=\"sha384-P0WF7YMI/6m8Cye7CR1O791PF/nef7hed2s+aXf+dSO6F8PkgEJ30mMLgcM/ZuMo\"></script>\\n<script src=\"/assets/javascript/fontawesome-ac35e34b29.js\" crossorigin=\"anonymous\" integrity=\"sha384-BMqrD/sYB325yWlZdfm3hmJIKdmd+hPoenqE0vWeVUWbrZZTt7J3KdcJT7vfMMu2\"></script>\\n<script src=\"/assets/javascript/custom-v34.js\" crossorigin=\"anonymous\" integrity=\"sha384-ZkeYpAPiSgk34mCQ/iVeyf6VJlGYOxWmLWQEY58nqvFmHQVgeBNTku+riy5pIvRu\"></script>\\n<script src=\"/assets/javascript/responsive-tabs.min.js\" crossorigin=\"anonymous\" integrity=\"sha384-e78D7yHy5hvKqbNzuI3VKKqFOChEkulbsWBdUcySPCoEdpgy1kkdisojDItkf3NC\"></script>\\t\\n\\n<script>\\n  $(document).ready(function () {\\n    //This code is to fix the 508 findin: lose focus between search icon and fdic.gov icon when using keyboard tabbing \\n    if (document.body.tabIndex == \"0\"){      \\n      document.body.setAttribute(\\'tabindex\\',\\'\\')\\n    }\\n  });\\n</script>\\n\\n    <script src=\"/assets/javascript/object-fit-polyfil.js\" integrity=\"sha384-j7patq8gsgaQlyvUmJZEkUSiOjjLrJo1QsHQ4lzi0w1g1Gbh+La8Zqxn7SHDd5Vx\"></script>\\n\\n<!-- Sticky Polyfil for ie10+ -->\\n<script src=\"/assets/javascript/jquery.stickybits.min.js\" integrity=\"sha384-huYNMFg8J6D3k02dCnT2ncBNf1qGQRvFLTvJiVEvaogvcM2mQDUq9zMlQnkbuAX2\"></script>\\n\\n<!-- Datatable js files -->\\n<!-- <script type=\"text/javascript\" src=\"/assets/javascript/fixtures/datatable-fixture.js\"></script> -->\\n<script src=\"/assets/javascript/jquery.datatables.js\" integrity=\"sha384-uLaXtyGvzh0r2FKDC56QfnUUmJ4vKcMTotfqB+HDdUiNFKrFb7kvbOhWxk2fiQEM\"></script>\\n<script src=\"/resources/resolutions/bank-failures/failed-bank-list/datatables-sample.js\" integrity=\"sha384-TwuXWZggJ4n6fCzL83ep4yrkMuWe94LFu3kwb77styG6PIMhwyPrIBlSmEhDT605\"></script>\\n\\n<!-- MicroModal include (https://micromodal.now.sh/) -->\\n<script src=\"/assets/javascript/micromodal/micromodal.min.js\" integrity=\"sha384-2wz5lMdQ33iOZOquXibVwFu/PNkgv14G//R6/TRmQ/ULfdf7CwBNAFwOEfCkmNwm\"></script>\\n\\n  \\n</body></html>'"
      ]
     },
     "execution_count": 111,
     "metadata": {},
     "output_type": "execute_result"
    }
   ],
   "source": [
    "html"
   ]
  },
  {
   "cell_type": "code",
   "execution_count": 112,
   "id": "031936d7",
   "metadata": {},
   "outputs": [],
   "source": [
    "df = pd.read_html(html)"
   ]
  },
  {
   "cell_type": "code",
   "execution_count": 113,
   "id": "681ada0c",
   "metadata": {},
   "outputs": [
    {
     "data": {
      "text/html": [
       "<div>\n",
       "<style scoped>\n",
       "    .dataframe tbody tr th:only-of-type {\n",
       "        vertical-align: middle;\n",
       "    }\n",
       "\n",
       "    .dataframe tbody tr th {\n",
       "        vertical-align: top;\n",
       "    }\n",
       "\n",
       "    .dataframe thead th {\n",
       "        text-align: right;\n",
       "    }\n",
       "</style>\n",
       "<table border=\"1\" class=\"dataframe\">\n",
       "  <thead>\n",
       "    <tr style=\"text-align: right;\">\n",
       "      <th></th>\n",
       "      <th>Bank NameBank</th>\n",
       "      <th>CityCity</th>\n",
       "      <th>StateSt</th>\n",
       "      <th>CertCert</th>\n",
       "      <th>Acquiring InstitutionAI</th>\n",
       "      <th>Closing DateClosing</th>\n",
       "      <th>FundFund</th>\n",
       "    </tr>\n",
       "  </thead>\n",
       "  <tbody>\n",
       "    <tr>\n",
       "      <th>0</th>\n",
       "      <td>Almena State Bank</td>\n",
       "      <td>Almena</td>\n",
       "      <td>KS</td>\n",
       "      <td>15426</td>\n",
       "      <td>Equity Bank</td>\n",
       "      <td>October 23, 2020</td>\n",
       "      <td>10538</td>\n",
       "    </tr>\n",
       "    <tr>\n",
       "      <th>1</th>\n",
       "      <td>First City Bank of Florida</td>\n",
       "      <td>Fort Walton Beach</td>\n",
       "      <td>FL</td>\n",
       "      <td>16748</td>\n",
       "      <td>United Fidelity Bank, fsb</td>\n",
       "      <td>October 16, 2020</td>\n",
       "      <td>10537</td>\n",
       "    </tr>\n",
       "    <tr>\n",
       "      <th>2</th>\n",
       "      <td>The First State Bank</td>\n",
       "      <td>Barboursville</td>\n",
       "      <td>WV</td>\n",
       "      <td>14361</td>\n",
       "      <td>MVB Bank, Inc.</td>\n",
       "      <td>April 3, 2020</td>\n",
       "      <td>10536</td>\n",
       "    </tr>\n",
       "    <tr>\n",
       "      <th>3</th>\n",
       "      <td>Ericson State Bank</td>\n",
       "      <td>Ericson</td>\n",
       "      <td>NE</td>\n",
       "      <td>18265</td>\n",
       "      <td>Farmers and Merchants Bank</td>\n",
       "      <td>February 14, 2020</td>\n",
       "      <td>10535</td>\n",
       "    </tr>\n",
       "    <tr>\n",
       "      <th>4</th>\n",
       "      <td>City National Bank of New Jersey</td>\n",
       "      <td>Newark</td>\n",
       "      <td>NJ</td>\n",
       "      <td>21111</td>\n",
       "      <td>Industrial Bank</td>\n",
       "      <td>November 1, 2019</td>\n",
       "      <td>10534</td>\n",
       "    </tr>\n",
       "    <tr>\n",
       "      <th>5</th>\n",
       "      <td>Resolute Bank</td>\n",
       "      <td>Maumee</td>\n",
       "      <td>OH</td>\n",
       "      <td>58317</td>\n",
       "      <td>Buckeye State Bank</td>\n",
       "      <td>October 25, 2019</td>\n",
       "      <td>10533</td>\n",
       "    </tr>\n",
       "    <tr>\n",
       "      <th>6</th>\n",
       "      <td>Louisa Community Bank</td>\n",
       "      <td>Louisa</td>\n",
       "      <td>KY</td>\n",
       "      <td>58112</td>\n",
       "      <td>Kentucky Farmers Bank Corporation</td>\n",
       "      <td>October 25, 2019</td>\n",
       "      <td>10532</td>\n",
       "    </tr>\n",
       "    <tr>\n",
       "      <th>7</th>\n",
       "      <td>The Enloe State Bank</td>\n",
       "      <td>Cooper</td>\n",
       "      <td>TX</td>\n",
       "      <td>10716</td>\n",
       "      <td>Legend Bank, N. A.</td>\n",
       "      <td>May 31, 2019</td>\n",
       "      <td>10531</td>\n",
       "    </tr>\n",
       "    <tr>\n",
       "      <th>8</th>\n",
       "      <td>Washington Federal Bank for Savings</td>\n",
       "      <td>Chicago</td>\n",
       "      <td>IL</td>\n",
       "      <td>30570</td>\n",
       "      <td>Royal Savings Bank</td>\n",
       "      <td>December 15, 2017</td>\n",
       "      <td>10530</td>\n",
       "    </tr>\n",
       "    <tr>\n",
       "      <th>9</th>\n",
       "      <td>The Farmers and Merchants State Bank of Argonia</td>\n",
       "      <td>Argonia</td>\n",
       "      <td>KS</td>\n",
       "      <td>17719</td>\n",
       "      <td>Conway Bank</td>\n",
       "      <td>October 13, 2017</td>\n",
       "      <td>10529</td>\n",
       "    </tr>\n",
       "    <tr>\n",
       "      <th>10</th>\n",
       "      <td>Fayette County Bank</td>\n",
       "      <td>Saint Elmo</td>\n",
       "      <td>IL</td>\n",
       "      <td>1802</td>\n",
       "      <td>United Fidelity Bank, fsb</td>\n",
       "      <td>May 26, 2017</td>\n",
       "      <td>10528</td>\n",
       "    </tr>\n",
       "    <tr>\n",
       "      <th>11</th>\n",
       "      <td>Guaranty Bank, (d/b/a BestBank in Georgia &amp; Mi...</td>\n",
       "      <td>Milwaukee</td>\n",
       "      <td>WI</td>\n",
       "      <td>30003</td>\n",
       "      <td>First-Citizens Bank &amp; Trust Company</td>\n",
       "      <td>May 5, 2017</td>\n",
       "      <td>10527</td>\n",
       "    </tr>\n",
       "  </tbody>\n",
       "</table>\n",
       "</div>"
      ],
      "text/plain": [
       "                                        Bank NameBank           CityCity  \\\n",
       "0                                   Almena State Bank             Almena   \n",
       "1                          First City Bank of Florida  Fort Walton Beach   \n",
       "2                                The First State Bank      Barboursville   \n",
       "3                                  Ericson State Bank            Ericson   \n",
       "4                    City National Bank of New Jersey             Newark   \n",
       "5                                       Resolute Bank             Maumee   \n",
       "6                               Louisa Community Bank             Louisa   \n",
       "7                                The Enloe State Bank             Cooper   \n",
       "8                 Washington Federal Bank for Savings            Chicago   \n",
       "9     The Farmers and Merchants State Bank of Argonia            Argonia   \n",
       "10                                Fayette County Bank         Saint Elmo   \n",
       "11  Guaranty Bank, (d/b/a BestBank in Georgia & Mi...          Milwaukee   \n",
       "\n",
       "   StateSt  CertCert              Acquiring InstitutionAI Closing DateClosing  \\\n",
       "0       KS     15426                          Equity Bank    October 23, 2020   \n",
       "1       FL     16748            United Fidelity Bank, fsb    October 16, 2020   \n",
       "2       WV     14361                       MVB Bank, Inc.       April 3, 2020   \n",
       "3       NE     18265           Farmers and Merchants Bank   February 14, 2020   \n",
       "4       NJ     21111                      Industrial Bank    November 1, 2019   \n",
       "5       OH     58317                   Buckeye State Bank    October 25, 2019   \n",
       "6       KY     58112    Kentucky Farmers Bank Corporation    October 25, 2019   \n",
       "7       TX     10716                   Legend Bank, N. A.        May 31, 2019   \n",
       "8       IL     30570                   Royal Savings Bank   December 15, 2017   \n",
       "9       KS     17719                          Conway Bank    October 13, 2017   \n",
       "10      IL      1802            United Fidelity Bank, fsb        May 26, 2017   \n",
       "11      WI     30003  First-Citizens Bank & Trust Company         May 5, 2017   \n",
       "\n",
       "    FundFund  \n",
       "0      10538  \n",
       "1      10537  \n",
       "2      10536  \n",
       "3      10535  \n",
       "4      10534  \n",
       "5      10533  \n",
       "6      10532  \n",
       "7      10531  \n",
       "8      10530  \n",
       "9      10529  \n",
       "10     10528  \n",
       "11     10527  "
      ]
     },
     "execution_count": 113,
     "metadata": {},
     "output_type": "execute_result"
    }
   ],
   "source": [
    "df[0]"
   ]
  },
  {
   "cell_type": "markdown",
   "id": "e3ecc78c",
   "metadata": {},
   "source": [
    "## SQL"
   ]
  },
  {
   "cell_type": "code",
   "execution_count": 115,
   "id": "388ee782",
   "metadata": {},
   "outputs": [],
   "source": [
    "from sqlalchemy import create_engine"
   ]
  },
  {
   "cell_type": "code",
   "execution_count": 116,
   "id": "af0b5dca",
   "metadata": {},
   "outputs": [],
   "source": [
    "# creating a very simple sql engine in memory\n",
    "engine = create_engine('sqlite:///:memory:')"
   ]
  },
  {
   "cell_type": "code",
   "execution_count": 118,
   "id": "e47fd00c",
   "metadata": {},
   "outputs": [
    {
     "data": {
      "text/plain": [
       "4"
      ]
     },
     "execution_count": 118,
     "metadata": {},
     "output_type": "execute_result"
    }
   ],
   "source": [
    "df = pd.read_csv(data_dir + 'example')\n",
    "df.to_sql('my_table',engine)"
   ]
  },
  {
   "cell_type": "code",
   "execution_count": 119,
   "id": "da4a799b",
   "metadata": {},
   "outputs": [],
   "source": [
    "sqldf = pd.read_sql('my_table',con=engine)"
   ]
  },
  {
   "cell_type": "code",
   "execution_count": 120,
   "id": "56b43e18",
   "metadata": {},
   "outputs": [
    {
     "data": {
      "text/html": [
       "<div>\n",
       "<style scoped>\n",
       "    .dataframe tbody tr th:only-of-type {\n",
       "        vertical-align: middle;\n",
       "    }\n",
       "\n",
       "    .dataframe tbody tr th {\n",
       "        vertical-align: top;\n",
       "    }\n",
       "\n",
       "    .dataframe thead th {\n",
       "        text-align: right;\n",
       "    }\n",
       "</style>\n",
       "<table border=\"1\" class=\"dataframe\">\n",
       "  <thead>\n",
       "    <tr style=\"text-align: right;\">\n",
       "      <th></th>\n",
       "      <th>index</th>\n",
       "      <th>a</th>\n",
       "      <th>b</th>\n",
       "      <th>c</th>\n",
       "      <th>d</th>\n",
       "    </tr>\n",
       "  </thead>\n",
       "  <tbody>\n",
       "    <tr>\n",
       "      <th>0</th>\n",
       "      <td>0</td>\n",
       "      <td>0</td>\n",
       "      <td>1</td>\n",
       "      <td>2</td>\n",
       "      <td>3</td>\n",
       "    </tr>\n",
       "    <tr>\n",
       "      <th>1</th>\n",
       "      <td>1</td>\n",
       "      <td>4</td>\n",
       "      <td>5</td>\n",
       "      <td>6</td>\n",
       "      <td>7</td>\n",
       "    </tr>\n",
       "    <tr>\n",
       "      <th>2</th>\n",
       "      <td>2</td>\n",
       "      <td>8</td>\n",
       "      <td>9</td>\n",
       "      <td>10</td>\n",
       "      <td>11</td>\n",
       "    </tr>\n",
       "    <tr>\n",
       "      <th>3</th>\n",
       "      <td>3</td>\n",
       "      <td>12</td>\n",
       "      <td>13</td>\n",
       "      <td>14</td>\n",
       "      <td>15</td>\n",
       "    </tr>\n",
       "  </tbody>\n",
       "</table>\n",
       "</div>"
      ],
      "text/plain": [
       "   index   a   b   c   d\n",
       "0      0   0   1   2   3\n",
       "1      1   4   5   6   7\n",
       "2      2   8   9  10  11\n",
       "3      3  12  13  14  15"
      ]
     },
     "execution_count": 120,
     "metadata": {},
     "output_type": "execute_result"
    }
   ],
   "source": [
    "sqldf"
   ]
  },
  {
   "cell_type": "code",
   "execution_count": null,
   "id": "9d433f25",
   "metadata": {},
   "outputs": [],
   "source": []
  }
 ],
 "metadata": {
  "kernelspec": {
   "display_name": "Python 3 (ipykernel)",
   "language": "python",
   "name": "python3"
  },
  "language_info": {
   "codemirror_mode": {
    "name": "ipython",
    "version": 3
   },
   "file_extension": ".py",
   "mimetype": "text/x-python",
   "name": "python",
   "nbconvert_exporter": "python",
   "pygments_lexer": "ipython3",
   "version": "3.9.13"
  }
 },
 "nbformat": 4,
 "nbformat_minor": 5
}
