{
 "cells": [
  {
   "cell_type": "markdown",
   "id": "58d2f2db",
   "metadata": {},
   "source": [
    "# Data Input and Output"
   ]
  },
  {
   "cell_type": "markdown",
   "id": "85a95fb9",
   "metadata": {},
   "source": [
    "- CSV  \n",
    "- Excel  \n",
    "- HTML  \n",
    "- SQL"
   ]
  },
  {
   "cell_type": "code",
   "execution_count": null,
   "id": "3af74b9b",
   "metadata": {},
   "outputs": [],
   "source": [
    "import pandas as pd"
   ]
  }
 ],
 "metadata": {
  "kernelspec": {
   "display_name": "Python 3 (ipykernel)",
   "language": "python",
   "name": "python3"
  },
  "language_info": {
   "codemirror_mode": {
    "name": "ipython",
    "version": 3
   },
   "file_extension": ".py",
   "mimetype": "text/x-python",
   "name": "python",
   "nbconvert_exporter": "python",
   "pygments_lexer": "ipython3",
   "version": "3.9.13"
  }
 },
 "nbformat": 4,
 "nbformat_minor": 5
}
