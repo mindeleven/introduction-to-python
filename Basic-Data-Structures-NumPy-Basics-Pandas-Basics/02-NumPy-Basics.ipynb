{
 "cells": [
  {
   "cell_type": "markdown",
   "id": "792f8cac",
   "metadata": {},
   "source": [
    "# NumPy"
   ]
  },
  {
   "cell_type": "markdown",
   "id": "b97f6168",
   "metadata": {},
   "source": [
    "NumPy is a Python package that allows the efficient handling on and operation on large arrays of numerical data. It's one of the most fundamental libraies for quantitative analysis."
   ]
  },
  {
   "cell_type": "code",
   "execution_count": 26,
   "id": "e69f2a4d",
   "metadata": {},
   "outputs": [],
   "source": [
    "import numpy as np"
   ]
  },
  {
   "cell_type": "markdown",
   "id": "17f27824",
   "metadata": {},
   "source": [
    "- NumPy Arrays  \n",
    "- NumPy Indexing and Selection  \n",
    "- NumPy Operations  \n",
    "- NumPy Exercise (and Solution)"
   ]
  },
  {
   "cell_type": "markdown",
   "id": "72c433b5",
   "metadata": {},
   "source": [
    "## Regular ndarray Object"
   ]
  },
  {
   "cell_type": "code",
   "execution_count": 38,
   "id": "8baff019",
   "metadata": {},
   "outputs": [
    {
     "data": {
      "text/plain": [
       "array([1, 2, 3])"
      ]
     },
     "execution_count": 38,
     "metadata": {},
     "output_type": "execute_result"
    }
   ],
   "source": [
    "# creating numpy array by casting a list\n",
    "my_list = [1, 2, 3]\n",
    "np.array(my_list)"
   ]
  },
  {
   "cell_type": "code",
   "execution_count": 41,
   "id": "1d6b6c42",
   "metadata": {},
   "outputs": [
    {
     "data": {
      "text/plain": [
       "numpy.ndarray"
      ]
     },
     "execution_count": 41,
     "metadata": {},
     "output_type": "execute_result"
    }
   ],
   "source": [
    "type(np.array(my_list))"
   ]
  },
  {
   "cell_type": "code",
   "execution_count": 48,
   "id": "4c030b39",
   "metadata": {},
   "outputs": [],
   "source": [
    "# creating a numpy array with the build in range function of python\n",
    "a = np.array(range(24))"
   ]
  },
  {
   "cell_type": "code",
   "execution_count": 40,
   "id": "c1df68ef",
   "metadata": {},
   "outputs": [
    {
     "data": {
      "text/plain": [
       "array([ 0,  1,  2,  3,  4,  5,  6,  7,  8,  9, 10, 11, 12, 13, 14, 15, 16,\n",
       "       17, 18, 19, 20, 21, 22, 23])"
      ]
     },
     "execution_count": 40,
     "metadata": {},
     "output_type": "execute_result"
    }
   ],
   "source": [
    "a"
   ]
  },
  {
   "cell_type": "code",
   "execution_count": 50,
   "id": "6c13d321",
   "metadata": {},
   "outputs": [
    {
     "data": {
      "text/plain": [
       "array([0, 1, 2, 3, 4])"
      ]
     },
     "execution_count": 50,
     "metadata": {},
     "output_type": "execute_result"
    }
   ],
   "source": [
    "# creating a numpy array with the arange function of numpy\n",
    "a1 = np.arange(0,5)\n",
    "a1"
   ]
  },
  {
   "cell_type": "code",
   "execution_count": 54,
   "id": "93099610",
   "metadata": {},
   "outputs": [
    {
     "data": {
      "text/plain": [
       "array([1, 3, 5, 7, 9])"
      ]
     },
     "execution_count": 54,
     "metadata": {},
     "output_type": "execute_result"
    }
   ],
   "source": [
    "a2 = np.arange(1,11,2)\n",
    "a2"
   ]
  },
  {
   "cell_type": "code",
   "execution_count": 56,
   "id": "ef72db84",
   "metadata": {},
   "outputs": [
    {
     "data": {
      "text/plain": [
       "array([0., 0., 0.])"
      ]
     },
     "execution_count": 56,
     "metadata": {},
     "output_type": "execute_result"
    }
   ],
   "source": [
    "# creating arrays of zeros\n",
    "np.zeros(3)"
   ]
  },
  {
   "cell_type": "code",
   "execution_count": 58,
   "id": "1f878bb9",
   "metadata": {},
   "outputs": [
    {
     "data": {
      "text/plain": [
       "array([[0., 0., 0., 0., 0.],\n",
       "       [0., 0., 0., 0., 0.],\n",
       "       [0., 0., 0., 0., 0.],\n",
       "       [0., 0., 0., 0., 0.],\n",
       "       [0., 0., 0., 0., 0.]])"
      ]
     },
     "execution_count": 58,
     "metadata": {},
     "output_type": "execute_result"
    }
   ],
   "source": [
    "# same for two-dimensional arrays\n",
    "# passing tuple to array function (index 1 rows, index two columns)\n",
    "np.zeros((5,5))"
   ]
  },
  {
   "cell_type": "code",
   "execution_count": 59,
   "id": "bea929d6",
   "metadata": {},
   "outputs": [
    {
     "data": {
      "text/plain": [
       "array([1., 1., 1., 1.])"
      ]
     },
     "execution_count": 59,
     "metadata": {},
     "output_type": "execute_result"
    }
   ],
   "source": [
    "# creating arrays of ones\n",
    "np.ones(4)"
   ]
  },
  {
   "cell_type": "code",
   "execution_count": 67,
   "id": "73cd479e",
   "metadata": {},
   "outputs": [
    {
     "data": {
      "text/plain": [
       "array([ 0.        ,  0.20408163,  0.40816327,  0.6122449 ,  0.81632653,\n",
       "        1.02040816,  1.2244898 ,  1.42857143,  1.63265306,  1.83673469,\n",
       "        2.04081633,  2.24489796,  2.44897959,  2.65306122,  2.85714286,\n",
       "        3.06122449,  3.26530612,  3.46938776,  3.67346939,  3.87755102,\n",
       "        4.08163265,  4.28571429,  4.48979592,  4.69387755,  4.89795918,\n",
       "        5.10204082,  5.30612245,  5.51020408,  5.71428571,  5.91836735,\n",
       "        6.12244898,  6.32653061,  6.53061224,  6.73469388,  6.93877551,\n",
       "        7.14285714,  7.34693878,  7.55102041,  7.75510204,  7.95918367,\n",
       "        8.16326531,  8.36734694,  8.57142857,  8.7755102 ,  8.97959184,\n",
       "        9.18367347,  9.3877551 ,  9.59183673,  9.79591837, 10.        ])"
      ]
     },
     "execution_count": 67,
     "metadata": {},
     "output_type": "execute_result"
    }
   ],
   "source": [
    "# returning evenly spaced numbers over a specified interval\n",
    "np.linspace(0, 10, 50)"
   ]
  },
  {
   "cell_type": "code",
   "execution_count": 60,
   "id": "20ad8220",
   "metadata": {},
   "outputs": [],
   "source": [
    "# creating a matrix from a nested list\n",
    "my_matrix = [[1, 2, 3], [4, 5, 6], [7, 8, 9]]\n",
    "np_matrix = np.array(my_matrix)"
   ]
  },
  {
   "cell_type": "code",
   "execution_count": 46,
   "id": "f7796b68",
   "metadata": {},
   "outputs": [
    {
     "data": {
      "text/plain": [
       "array([[1, 2, 3],\n",
       "       [4, 5, 6],\n",
       "       [7, 8, 9]])"
      ]
     },
     "execution_count": 46,
     "metadata": {},
     "output_type": "execute_result"
    }
   ],
   "source": [
    "np_matrix # two dimensional matrix"
   ]
  },
  {
   "cell_type": "code",
   "execution_count": 47,
   "id": "0654159f",
   "metadata": {},
   "outputs": [
    {
     "data": {
      "text/plain": [
       "numpy.ndarray"
      ]
     },
     "execution_count": 47,
     "metadata": {},
     "output_type": "execute_result"
    }
   ],
   "source": [
    "type(np_matrix)"
   ]
  },
  {
   "cell_type": "code",
   "execution_count": 34,
   "id": "47ddd958",
   "metadata": {},
   "outputs": [],
   "source": [
    "# numpy array as matrix\n",
    "b = a.reshape((4, 6))"
   ]
  },
  {
   "cell_type": "code",
   "execution_count": 30,
   "id": "21daf003",
   "metadata": {},
   "outputs": [
    {
     "data": {
      "text/plain": [
       "array([[ 0,  1,  2,  3,  4,  5],\n",
       "       [ 6,  7,  8,  9, 10, 11],\n",
       "       [12, 13, 14, 15, 16, 17],\n",
       "       [18, 19, 20, 21, 22, 23]])"
      ]
     },
     "execution_count": 30,
     "metadata": {},
     "output_type": "execute_result"
    }
   ],
   "source": [
    "b"
   ]
  },
  {
   "cell_type": "code",
   "execution_count": 68,
   "id": "9b8dd531",
   "metadata": {},
   "outputs": [
    {
     "data": {
      "text/plain": [
       "array([[1., 0., 0., 0.],\n",
       "       [0., 1., 0., 0.],\n",
       "       [0., 0., 1., 0.],\n",
       "       [0., 0., 0., 1.]])"
      ]
     },
     "execution_count": 68,
     "metadata": {},
     "output_type": "execute_result"
    }
   ],
   "source": [
    "# creating an identiy matrix\n",
    "np.eye(4)"
   ]
  },
  {
   "cell_type": "code",
   "execution_count": 70,
   "id": "1a635de6",
   "metadata": {},
   "outputs": [
    {
     "data": {
      "text/plain": [
       "array([0.57520399])"
      ]
     },
     "execution_count": 70,
     "metadata": {},
     "output_type": "execute_result"
    }
   ],
   "source": [
    "# numpy's random library\n",
    "# used to model something like monte carlo simulation\n",
    "np.random.rand(1) # retunrs random float between zero and one"
   ]
  },
  {
   "cell_type": "code",
   "execution_count": 73,
   "id": "2dfb24a5",
   "metadata": {},
   "outputs": [
    {
     "data": {
      "text/plain": [
       "array([[0.03653412, 0.59334422, 0.71941695, 0.54220889],\n",
       "       [0.95067598, 0.3131373 , 0.21910992, 0.77232291],\n",
       "       [0.7370869 , 0.18200055, 0.78882848, 0.20873528],\n",
       "       [0.16972963, 0.55941725, 0.9713652 , 0.34537249],\n",
       "       [0.08253812, 0.20685727, 0.80669146, 0.48786248]])"
      ]
     },
     "execution_count": 73,
     "metadata": {},
     "output_type": "execute_result"
    }
   ],
   "source": [
    "np.random.rand(5,4) # returns 5 x 4 matrix with random numbers berween zero and one\n",
    "# uniform distribution, every number has the same odds of being picked"
   ]
  },
  {
   "cell_type": "code",
   "execution_count": 74,
   "id": "d59b3cd3",
   "metadata": {},
   "outputs": [
    {
     "data": {
      "text/plain": [
       "array([ 0.04365106, -1.08550961,  0.03779686, -0.82104894,  0.33275213])"
      ]
     },
     "execution_count": 74,
     "metadata": {},
     "output_type": "execute_result"
    }
   ],
   "source": [
    "np.random.randn(5) # returns sample from the standard_normal distribution"
   ]
  },
  {
   "cell_type": "code",
   "execution_count": 75,
   "id": "c1c8180f",
   "metadata": {},
   "outputs": [
    {
     "data": {
      "text/plain": [
       "array([[-0.60878356, -0.95994127,  0.77458289, -2.00311329,  0.28655119],\n",
       "       [ 1.11178957,  0.40024741,  1.08151689, -0.57886619,  0.23851661],\n",
       "       [-2.32966141,  1.21797192, -0.57766204,  0.88472137,  0.07643117],\n",
       "       [ 0.77728435, -2.25660388, -0.28041456,  1.30072391, -1.70164538],\n",
       "       [ 0.50711975,  0.38201598, -0.1550391 ,  0.05980613, -0.85957188]])"
      ]
     },
     "execution_count": 75,
     "metadata": {},
     "output_type": "execute_result"
    }
   ],
   "source": [
    "np.random.randn(5,5)"
   ]
  },
  {
   "cell_type": "code",
   "execution_count": 77,
   "id": "24b37a19",
   "metadata": {},
   "outputs": [
    {
     "data": {
      "text/plain": [
       "7"
      ]
     },
     "execution_count": 77,
     "metadata": {},
     "output_type": "execute_result"
    }
   ],
   "source": [
    "np.random.randint(1,100) # returns random integer from the \"discrete uniform\" distribution "
   ]
  },
  {
   "cell_type": "code",
   "execution_count": 78,
   "id": "d5cb1bb1",
   "metadata": {},
   "outputs": [
    {
     "data": {
      "text/plain": [
       "array([30, 12, 95, 77, 57, 65, 30, 17, 19, 11])"
      ]
     },
     "execution_count": 78,
     "metadata": {},
     "output_type": "execute_result"
    }
   ],
   "source": [
    "np.random.randint(1,100,10)"
   ]
  },
  {
   "cell_type": "code",
   "execution_count": 79,
   "id": "d0b04ba9",
   "metadata": {},
   "outputs": [
    {
     "data": {
      "text/plain": [
       "array([ 0,  1,  2,  3,  4,  5,  6,  7,  8,  9, 10, 11, 12, 13, 14, 15, 16,\n",
       "       17, 18, 19, 20, 21, 22, 23, 24])"
      ]
     },
     "execution_count": 79,
     "metadata": {},
     "output_type": "execute_result"
    }
   ],
   "source": [
    "# array attributes and methods that are useful\n",
    "arr = np.arange(25)\n",
    "arr"
   ]
  },
  {
   "cell_type": "code",
   "execution_count": 81,
   "id": "16918550",
   "metadata": {},
   "outputs": [
    {
     "data": {
      "text/plain": [
       "array([ 3, 47, 18, 38, 15, 10, 48, 22, 45, 12])"
      ]
     },
     "execution_count": 81,
     "metadata": {},
     "output_type": "execute_result"
    }
   ],
   "source": [
    "ranarr = np.random.randint(0,50,10)\n",
    "ranarr"
   ]
  },
  {
   "cell_type": "code",
   "execution_count": 82,
   "id": "a678f005",
   "metadata": {},
   "outputs": [
    {
     "data": {
      "text/plain": [
       "array([[ 0,  1,  2,  3,  4],\n",
       "       [ 5,  6,  7,  8,  9],\n",
       "       [10, 11, 12, 13, 14],\n",
       "       [15, 16, 17, 18, 19],\n",
       "       [20, 21, 22, 23, 24]])"
      ]
     },
     "execution_count": 82,
     "metadata": {},
     "output_type": "execute_result"
    }
   ],
   "source": [
    "# return an array with the same data but a different shape\n",
    "arr.reshape(5,5) # reshape array to 5 by 5 matrix"
   ]
  },
  {
   "cell_type": "code",
   "execution_count": 84,
   "id": "495b94a6",
   "metadata": {},
   "outputs": [
    {
     "data": {
      "text/plain": [
       "(25,)"
      ]
     },
     "execution_count": 84,
     "metadata": {},
     "output_type": "execute_result"
    }
   ],
   "source": [
    "arr.shape # returns shape of one dimensional array"
   ]
  },
  {
   "cell_type": "code",
   "execution_count": 86,
   "id": "b1850a0c",
   "metadata": {},
   "outputs": [
    {
     "data": {
      "text/plain": [
       "(5, 5)"
      ]
     },
     "execution_count": 86,
     "metadata": {},
     "output_type": "execute_result"
    }
   ],
   "source": [
    "arr.reshape(5,5).shape # shape of 5 by 5 matrix"
   ]
  },
  {
   "cell_type": "code",
   "execution_count": 87,
   "id": "7a5c653b",
   "metadata": {},
   "outputs": [
    {
     "data": {
      "text/plain": [
       "dtype('int64')"
      ]
     },
     "execution_count": 87,
     "metadata": {},
     "output_type": "execute_result"
    }
   ],
   "source": [
    "arr.dtype # data type of the array"
   ]
  },
  {
   "cell_type": "code",
   "execution_count": 88,
   "id": "e521f875",
   "metadata": {},
   "outputs": [
    {
     "data": {
      "text/plain": [
       "48"
      ]
     },
     "execution_count": 88,
     "metadata": {},
     "output_type": "execute_result"
    }
   ],
   "source": [
    "ranarr.max() # max number in an array"
   ]
  },
  {
   "cell_type": "code",
   "execution_count": 89,
   "id": "f360833e",
   "metadata": {},
   "outputs": [
    {
     "data": {
      "text/plain": [
       "6"
      ]
     },
     "execution_count": 89,
     "metadata": {},
     "output_type": "execute_result"
    }
   ],
   "source": [
    "ranarr.argmax() # index location of max number in an array"
   ]
  },
  {
   "cell_type": "code",
   "execution_count": 90,
   "id": "19f5709c",
   "metadata": {},
   "outputs": [
    {
     "data": {
      "text/plain": [
       "3"
      ]
     },
     "execution_count": 90,
     "metadata": {},
     "output_type": "execute_result"
    }
   ],
   "source": [
    "ranarr.min() # min number in an array"
   ]
  },
  {
   "cell_type": "code",
   "execution_count": 91,
   "id": "2a23c6fa",
   "metadata": {},
   "outputs": [
    {
     "data": {
      "text/plain": [
       "0"
      ]
     },
     "execution_count": 91,
     "metadata": {},
     "output_type": "execute_result"
    }
   ],
   "source": [
    "ranarr.argmin() # index location of min number in an array"
   ]
  },
  {
   "cell_type": "code",
   "execution_count": null,
   "id": "402b1dd0",
   "metadata": {},
   "outputs": [],
   "source": []
  }
 ],
 "metadata": {
  "kernelspec": {
   "display_name": "Python 3 (ipykernel)",
   "language": "python",
   "name": "python3"
  },
  "language_info": {
   "codemirror_mode": {
    "name": "ipython",
    "version": 3
   },
   "file_extension": ".py",
   "mimetype": "text/x-python",
   "name": "python",
   "nbconvert_exporter": "python",
   "pygments_lexer": "ipython3",
   "version": "3.9.13"
  }
 },
 "nbformat": 4,
 "nbformat_minor": 5
}
