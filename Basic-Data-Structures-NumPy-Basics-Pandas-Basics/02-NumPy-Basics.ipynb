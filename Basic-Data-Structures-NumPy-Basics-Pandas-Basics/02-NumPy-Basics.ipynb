{
 "cells": [
  {
   "cell_type": "markdown",
   "id": "792f8cac",
   "metadata": {},
   "source": [
    "# NumPy"
   ]
  },
  {
   "cell_type": "markdown",
   "id": "b97f6168",
   "metadata": {},
   "source": [
    "NumPy is a Python package that allows the efficient handling on and operation on large arrays of numerical data. It's one of the most fundamental libraies for quantitative analysis."
   ]
  },
  {
   "cell_type": "code",
   "execution_count": 2,
   "id": "e69f2a4d",
   "metadata": {},
   "outputs": [],
   "source": [
    "import numpy as np"
   ]
  },
  {
   "cell_type": "markdown",
   "id": "c260c2a3",
   "metadata": {},
   "source": [
    "- NumPy Arrays  \n",
    "- NumPy Indexing and Selection  \n",
    "- NumPy Operations  \n",
    "- NumPy Exercise (and Solution)"
   ]
  },
  {
   "cell_type": "markdown",
   "id": "72c433b5",
   "metadata": {},
   "source": [
    "## Regular ndarray Object"
   ]
  },
  {
   "cell_type": "code",
   "execution_count": 3,
   "id": "f395c915",
   "metadata": {},
   "outputs": [
    {
     "data": {
      "text/plain": [
       "array([1, 2, 3])"
      ]
     },
     "execution_count": 3,
     "metadata": {},
     "output_type": "execute_result"
    }
   ],
   "source": [
    "# creating numpy array by casting a list\n",
    "my_list = [1, 2, 3]\n",
    "np.array(my_list)"
   ]
  },
  {
   "cell_type": "code",
   "execution_count": 4,
   "id": "b7f39be8",
   "metadata": {},
   "outputs": [
    {
     "data": {
      "text/plain": [
       "numpy.ndarray"
      ]
     },
     "execution_count": 4,
     "metadata": {},
     "output_type": "execute_result"
    }
   ],
   "source": [
    "type(np.array(my_list))"
   ]
  },
  {
   "cell_type": "code",
   "execution_count": 5,
   "id": "4c030b39",
   "metadata": {},
   "outputs": [],
   "source": [
    "# creating a numpy array with the build in range function of python\n",
    "a = np.array(range(24))"
   ]
  },
  {
   "cell_type": "code",
   "execution_count": 6,
   "id": "c1df68ef",
   "metadata": {},
   "outputs": [
    {
     "data": {
      "text/plain": [
       "array([ 0,  1,  2,  3,  4,  5,  6,  7,  8,  9, 10, 11, 12, 13, 14, 15, 16,\n",
       "       17, 18, 19, 20, 21, 22, 23])"
      ]
     },
     "execution_count": 6,
     "metadata": {},
     "output_type": "execute_result"
    }
   ],
   "source": [
    "a"
   ]
  },
  {
   "cell_type": "code",
   "execution_count": 7,
   "id": "69fcee8c",
   "metadata": {},
   "outputs": [
    {
     "data": {
      "text/plain": [
       "array([0, 1, 2, 3, 4])"
      ]
     },
     "execution_count": 7,
     "metadata": {},
     "output_type": "execute_result"
    }
   ],
   "source": [
    "# creating a numpy array with the arange function of numpy\n",
    "a1 = np.arange(0,5)\n",
    "a1"
   ]
  },
  {
   "cell_type": "code",
   "execution_count": 8,
   "id": "31b02967",
   "metadata": {},
   "outputs": [
    {
     "data": {
      "text/plain": [
       "array([1, 3, 5, 7, 9])"
      ]
     },
     "execution_count": 8,
     "metadata": {},
     "output_type": "execute_result"
    }
   ],
   "source": [
    "a2 = np.arange(1,11,2)\n",
    "a2"
   ]
  },
  {
   "cell_type": "code",
   "execution_count": 9,
   "id": "a4fb7942",
   "metadata": {},
   "outputs": [
    {
     "data": {
      "text/plain": [
       "array([0., 0., 0.])"
      ]
     },
     "execution_count": 9,
     "metadata": {},
     "output_type": "execute_result"
    }
   ],
   "source": [
    "# creating arrays of zeros\n",
    "np.zeros(3)"
   ]
  },
  {
   "cell_type": "code",
   "execution_count": 10,
   "id": "490ef435",
   "metadata": {},
   "outputs": [
    {
     "data": {
      "text/plain": [
       "array([[0., 0., 0., 0., 0.],\n",
       "       [0., 0., 0., 0., 0.],\n",
       "       [0., 0., 0., 0., 0.],\n",
       "       [0., 0., 0., 0., 0.],\n",
       "       [0., 0., 0., 0., 0.]])"
      ]
     },
     "execution_count": 10,
     "metadata": {},
     "output_type": "execute_result"
    }
   ],
   "source": [
    "# same for two-dimensional arrays\n",
    "# passing tuple to array function (index 1 rows, index two columns)\n",
    "np.zeros((5,5))"
   ]
  },
  {
   "cell_type": "code",
   "execution_count": 11,
   "id": "6473ab3f",
   "metadata": {},
   "outputs": [
    {
     "data": {
      "text/plain": [
       "array([1., 1., 1., 1.])"
      ]
     },
     "execution_count": 11,
     "metadata": {},
     "output_type": "execute_result"
    }
   ],
   "source": [
    "# creating arrays of ones\n",
    "np.ones(4)"
   ]
  },
  {
   "cell_type": "code",
   "execution_count": 12,
   "id": "e021f308",
   "metadata": {},
   "outputs": [
    {
     "data": {
      "text/plain": [
       "array([ 0.        ,  0.20408163,  0.40816327,  0.6122449 ,  0.81632653,\n",
       "        1.02040816,  1.2244898 ,  1.42857143,  1.63265306,  1.83673469,\n",
       "        2.04081633,  2.24489796,  2.44897959,  2.65306122,  2.85714286,\n",
       "        3.06122449,  3.26530612,  3.46938776,  3.67346939,  3.87755102,\n",
       "        4.08163265,  4.28571429,  4.48979592,  4.69387755,  4.89795918,\n",
       "        5.10204082,  5.30612245,  5.51020408,  5.71428571,  5.91836735,\n",
       "        6.12244898,  6.32653061,  6.53061224,  6.73469388,  6.93877551,\n",
       "        7.14285714,  7.34693878,  7.55102041,  7.75510204,  7.95918367,\n",
       "        8.16326531,  8.36734694,  8.57142857,  8.7755102 ,  8.97959184,\n",
       "        9.18367347,  9.3877551 ,  9.59183673,  9.79591837, 10.        ])"
      ]
     },
     "execution_count": 12,
     "metadata": {},
     "output_type": "execute_result"
    }
   ],
   "source": [
    "# returning evenly spaced numbers over a specified interval\n",
    "np.linspace(0, 10, 50)"
   ]
  },
  {
   "cell_type": "code",
   "execution_count": 13,
   "id": "9dad10d9",
   "metadata": {},
   "outputs": [],
   "source": [
    "# creating a matrix from a nested list\n",
    "my_matrix = [[1, 2, 3], [4, 5, 6], [7, 8, 9]]\n",
    "np_matrix = np.array(my_matrix)"
   ]
  },
  {
   "cell_type": "code",
   "execution_count": 14,
   "id": "9cc1ab30",
   "metadata": {},
   "outputs": [
    {
     "data": {
      "text/plain": [
       "array([[1, 2, 3],\n",
       "       [4, 5, 6],\n",
       "       [7, 8, 9]])"
      ]
     },
     "execution_count": 14,
     "metadata": {},
     "output_type": "execute_result"
    }
   ],
   "source": [
    "np_matrix # two dimensional matrix"
   ]
  },
  {
   "cell_type": "code",
   "execution_count": 15,
   "id": "f4097efd",
   "metadata": {},
   "outputs": [
    {
     "data": {
      "text/plain": [
       "numpy.ndarray"
      ]
     },
     "execution_count": 15,
     "metadata": {},
     "output_type": "execute_result"
    }
   ],
   "source": [
    "type(np_matrix)"
   ]
  },
  {
   "cell_type": "code",
   "execution_count": 16,
   "id": "47ddd958",
   "metadata": {},
   "outputs": [],
   "source": [
    "# numpy array as matrix\n",
    "b = a.reshape((4, 6))"
   ]
  },
  {
   "cell_type": "code",
   "execution_count": 17,
   "id": "21daf003",
   "metadata": {},
   "outputs": [
    {
     "data": {
      "text/plain": [
       "array([[ 0,  1,  2,  3,  4,  5],\n",
       "       [ 6,  7,  8,  9, 10, 11],\n",
       "       [12, 13, 14, 15, 16, 17],\n",
       "       [18, 19, 20, 21, 22, 23]])"
      ]
     },
     "execution_count": 17,
     "metadata": {},
     "output_type": "execute_result"
    }
   ],
   "source": [
    "b"
   ]
  },
  {
   "cell_type": "code",
   "execution_count": 18,
   "id": "33c77218",
   "metadata": {},
   "outputs": [
    {
     "data": {
      "text/plain": [
       "array([[1., 0., 0., 0.],\n",
       "       [0., 1., 0., 0.],\n",
       "       [0., 0., 1., 0.],\n",
       "       [0., 0., 0., 1.]])"
      ]
     },
     "execution_count": 18,
     "metadata": {},
     "output_type": "execute_result"
    }
   ],
   "source": [
    "# creating an identiy matrix\n",
    "np.eye(4)"
   ]
  },
  {
   "cell_type": "code",
   "execution_count": 19,
   "id": "1a635de6",
   "metadata": {},
   "outputs": [
    {
     "data": {
      "text/plain": [
       "array([0.37521105])"
      ]
     },
     "execution_count": 19,
     "metadata": {},
     "output_type": "execute_result"
    }
   ],
   "source": [
    "# numpy's random library\n",
    "# used to model something like monte carlo simulation\n",
    "np.random.rand(1) # retunrs random float between zero and one"
   ]
  },
  {
   "cell_type": "code",
   "execution_count": 20,
   "id": "33b78f77",
   "metadata": {},
   "outputs": [
    {
     "data": {
      "text/plain": [
       "array([[0.03102351, 0.48402309, 0.7422533 , 0.89725759],\n",
       "       [0.57702293, 0.34289534, 0.30137174, 0.05121673],\n",
       "       [0.57041396, 0.85197686, 0.87929654, 0.64120171],\n",
       "       [0.64120012, 0.9151607 , 0.54278444, 0.62121684],\n",
       "       [0.33638859, 0.42004566, 0.73272773, 0.22517464]])"
      ]
     },
     "execution_count": 20,
     "metadata": {},
     "output_type": "execute_result"
    }
   ],
   "source": [
    "np.random.rand(5,4) # returns 5 x 4 matrix with random numbers berween zero and one\n",
    "# uniform distribution, every number has the same odds of being picked"
   ]
  },
  {
   "cell_type": "code",
   "execution_count": 21,
   "id": "02f378ab",
   "metadata": {},
   "outputs": [
    {
     "data": {
      "text/plain": [
       "array([-1.59917961, -2.03398327,  0.53646987, -1.06502547,  0.25181364])"
      ]
     },
     "execution_count": 21,
     "metadata": {},
     "output_type": "execute_result"
    }
   ],
   "source": [
    "np.random.randn(5) # returns sample from the standard_normal distribution"
   ]
  },
  {
   "cell_type": "code",
   "execution_count": 22,
   "id": "b6477a8d",
   "metadata": {},
   "outputs": [
    {
     "data": {
      "text/plain": [
       "array([[-1.5565497 ,  1.69872624, -0.25774533, -0.87589856,  0.03982096],\n",
       "       [-1.25031459, -3.2884616 , -0.18160758,  0.37055099,  0.06055805],\n",
       "       [-0.65620254, -0.50109099,  0.21406414, -0.50271548,  1.47608128],\n",
       "       [-0.54479116, -0.68557177, -0.63302297, -0.23349742, -0.4322695 ],\n",
       "       [-0.51229778, -0.79450861, -0.65543728, -2.07253882, -1.98422148]])"
      ]
     },
     "execution_count": 22,
     "metadata": {},
     "output_type": "execute_result"
    }
   ],
   "source": [
    "np.random.randn(5,5)"
   ]
  },
  {
   "cell_type": "code",
   "execution_count": 23,
   "id": "ae2583d8",
   "metadata": {},
   "outputs": [
    {
     "data": {
      "text/plain": [
       "94"
      ]
     },
     "execution_count": 23,
     "metadata": {},
     "output_type": "execute_result"
    }
   ],
   "source": [
    "np.random.randint(1,100) # returns random integer from the \"discrete uniform\" distribution "
   ]
  },
  {
   "cell_type": "code",
   "execution_count": 24,
   "id": "464cb181",
   "metadata": {},
   "outputs": [
    {
     "data": {
      "text/plain": [
       "array([68, 95, 71, 25, 69, 16, 60, 39, 32, 32])"
      ]
     },
     "execution_count": 24,
     "metadata": {},
     "output_type": "execute_result"
    }
   ],
   "source": [
    "np.random.randint(1,100,10)"
   ]
  },
  {
   "cell_type": "code",
   "execution_count": 25,
   "id": "0fc4086f",
   "metadata": {},
   "outputs": [
    {
     "data": {
      "text/plain": [
       "array([ 0,  1,  2,  3,  4,  5,  6,  7,  8,  9, 10, 11, 12, 13, 14, 15, 16,\n",
       "       17, 18, 19, 20, 21, 22, 23, 24])"
      ]
     },
     "execution_count": 25,
     "metadata": {},
     "output_type": "execute_result"
    }
   ],
   "source": [
    "# array attributes and methods that are useful\n",
    "arr = np.arange(25)\n",
    "arr"
   ]
  },
  {
   "cell_type": "code",
   "execution_count": 26,
   "id": "8e9065ab",
   "metadata": {},
   "outputs": [
    {
     "data": {
      "text/plain": [
       "array([ 8, 20, 12, 36, 29, 38, 42,  7,  8, 17])"
      ]
     },
     "execution_count": 26,
     "metadata": {},
     "output_type": "execute_result"
    }
   ],
   "source": [
    "ranarr = np.random.randint(0,50,10)\n",
    "ranarr"
   ]
  },
  {
   "cell_type": "code",
   "execution_count": 27,
   "id": "11f48490",
   "metadata": {},
   "outputs": [
    {
     "data": {
      "text/plain": [
       "array([[ 0,  1,  2,  3,  4],\n",
       "       [ 5,  6,  7,  8,  9],\n",
       "       [10, 11, 12, 13, 14],\n",
       "       [15, 16, 17, 18, 19],\n",
       "       [20, 21, 22, 23, 24]])"
      ]
     },
     "execution_count": 27,
     "metadata": {},
     "output_type": "execute_result"
    }
   ],
   "source": [
    "# return an array with the same data but a different shape\n",
    "arr.reshape(5,5) # reshape array to 5 by 5 matrix"
   ]
  },
  {
   "cell_type": "code",
   "execution_count": 28,
   "id": "baa91db3",
   "metadata": {},
   "outputs": [
    {
     "data": {
      "text/plain": [
       "(25,)"
      ]
     },
     "execution_count": 28,
     "metadata": {},
     "output_type": "execute_result"
    }
   ],
   "source": [
    "arr.shape # returns shape of one dimensional array"
   ]
  },
  {
   "cell_type": "code",
   "execution_count": 29,
   "id": "bc449320",
   "metadata": {},
   "outputs": [
    {
     "data": {
      "text/plain": [
       "(5, 5)"
      ]
     },
     "execution_count": 29,
     "metadata": {},
     "output_type": "execute_result"
    }
   ],
   "source": [
    "arr.reshape(5,5).shape # shape of 5 by 5 matrix"
   ]
  },
  {
   "cell_type": "code",
   "execution_count": 30,
   "id": "3a021e1b",
   "metadata": {},
   "outputs": [
    {
     "data": {
      "text/plain": [
       "dtype('int64')"
      ]
     },
     "execution_count": 30,
     "metadata": {},
     "output_type": "execute_result"
    }
   ],
   "source": [
    "arr.dtype # data type of the array"
   ]
  },
  {
   "cell_type": "code",
   "execution_count": 31,
   "id": "e9aa9821",
   "metadata": {},
   "outputs": [
    {
     "data": {
      "text/plain": [
       "42"
      ]
     },
     "execution_count": 31,
     "metadata": {},
     "output_type": "execute_result"
    }
   ],
   "source": [
    "ranarr.max() # max number in an array"
   ]
  },
  {
   "cell_type": "code",
   "execution_count": 32,
   "id": "1457f190",
   "metadata": {},
   "outputs": [
    {
     "data": {
      "text/plain": [
       "6"
      ]
     },
     "execution_count": 32,
     "metadata": {},
     "output_type": "execute_result"
    }
   ],
   "source": [
    "ranarr.argmax() # index location of max number in an array"
   ]
  },
  {
   "cell_type": "code",
   "execution_count": 33,
   "id": "c6890314",
   "metadata": {},
   "outputs": [
    {
     "data": {
      "text/plain": [
       "7"
      ]
     },
     "execution_count": 33,
     "metadata": {},
     "output_type": "execute_result"
    }
   ],
   "source": [
    "ranarr.min() # min number in an array"
   ]
  },
  {
   "cell_type": "code",
   "execution_count": 34,
   "id": "73e0607c",
   "metadata": {},
   "outputs": [
    {
     "data": {
      "text/plain": [
       "7"
      ]
     },
     "execution_count": 34,
     "metadata": {},
     "output_type": "execute_result"
    }
   ],
   "source": [
    "ranarr.argmin() # index location of min number in an array"
   ]
  },
  {
   "cell_type": "markdown",
   "id": "e43dbfa3",
   "metadata": {},
   "source": [
    "## NumPy Operations"
   ]
  },
  {
   "cell_type": "code",
   "execution_count": 35,
   "id": "348c32ee",
   "metadata": {},
   "outputs": [
    {
     "data": {
      "text/plain": [
       "array([0, 1, 2, 3, 4, 5, 6, 7, 8, 9])"
      ]
     },
     "execution_count": 35,
     "metadata": {},
     "output_type": "execute_result"
    }
   ],
   "source": [
    "arr = np.arange(0,10)\n",
    "arr"
   ]
  },
  {
   "cell_type": "code",
   "execution_count": 36,
   "id": "2c70f8c9",
   "metadata": {},
   "outputs": [
    {
     "data": {
      "text/plain": [
       "array([ 0,  2,  4,  6,  8, 10, 12, 14, 16, 18])"
      ]
     },
     "execution_count": 36,
     "metadata": {},
     "output_type": "execute_result"
    }
   ],
   "source": [
    "# array addition on element by element basis\n",
    "arr + arr"
   ]
  },
  {
   "cell_type": "code",
   "execution_count": 37,
   "id": "a771b77c",
   "metadata": {},
   "outputs": [
    {
     "data": {
      "text/plain": [
       "array([ 0,  1,  4,  9, 16, 25, 36, 49, 64, 81])"
      ]
     },
     "execution_count": 37,
     "metadata": {},
     "output_type": "execute_result"
    }
   ],
   "source": [
    "# array multiplication on element by element basis\n",
    "arr * arr"
   ]
  },
  {
   "cell_type": "code",
   "execution_count": 38,
   "id": "8209089e",
   "metadata": {},
   "outputs": [
    {
     "data": {
      "text/plain": [
       "array([0, 0, 0, 0, 0, 0, 0, 0, 0, 0])"
      ]
     },
     "execution_count": 38,
     "metadata": {},
     "output_type": "execute_result"
    }
   ],
   "source": [
    "# substraction\n",
    "arr - arr"
   ]
  },
  {
   "cell_type": "code",
   "execution_count": 39,
   "id": "6983ee6e",
   "metadata": {},
   "outputs": [
    {
     "name": "stderr",
     "output_type": "stream",
     "text": [
      "/var/folders/7c/6tn50bjd30l3zb0p8_7mr94m0000gn/T/ipykernel_1558/897384303.py:2: RuntimeWarning: invalid value encountered in true_divide\n",
      "  arr / arr # returns warning if 0 is in array\n"
     ]
    },
    {
     "data": {
      "text/plain": [
       "array([nan,  1.,  1.,  1.,  1.,  1.,  1.,  1.,  1.,  1.])"
      ]
     },
     "execution_count": 39,
     "metadata": {},
     "output_type": "execute_result"
    }
   ],
   "source": [
    "# division\n",
    "arr / arr # returns warning if 0 is in array\n",
    "# 0/0 gets replaced with nan"
   ]
  },
  {
   "cell_type": "code",
   "execution_count": 40,
   "id": "869c0d25",
   "metadata": {},
   "outputs": [
    {
     "name": "stderr",
     "output_type": "stream",
     "text": [
      "/var/folders/7c/6tn50bjd30l3zb0p8_7mr94m0000gn/T/ipykernel_1558/659140530.py:1: RuntimeWarning: divide by zero encountered in true_divide\n",
      "  1/arr # 1/0 gets replaced by infinity\n"
     ]
    },
    {
     "data": {
      "text/plain": [
       "array([       inf, 1.        , 0.5       , 0.33333333, 0.25      ,\n",
       "       0.2       , 0.16666667, 0.14285714, 0.125     , 0.11111111])"
      ]
     },
     "execution_count": 40,
     "metadata": {},
     "output_type": "execute_result"
    }
   ],
   "source": [
    "1/arr # 1/0 gets replaced by infinity"
   ]
  },
  {
   "cell_type": "code",
   "execution_count": 41,
   "id": "564e6ec0",
   "metadata": {},
   "outputs": [
    {
     "data": {
      "text/plain": [
       "array([  0,   1,   8,  27,  64, 125, 216, 343, 512, 729])"
      ]
     },
     "execution_count": 41,
     "metadata": {},
     "output_type": "execute_result"
    }
   ],
   "source": [
    "# exponentials\n",
    "arr ** 3"
   ]
  },
  {
   "cell_type": "code",
   "execution_count": 42,
   "id": "9379de05",
   "metadata": {},
   "outputs": [
    {
     "data": {
      "text/plain": [
       "array([0.        , 1.        , 1.41421356, 1.73205081, 2.        ,\n",
       "       2.23606798, 2.44948974, 2.64575131, 2.82842712, 3.        ])"
      ]
     },
     "execution_count": 42,
     "metadata": {},
     "output_type": "execute_result"
    }
   ],
   "source": [
    "# numpy comes along with array functions\n",
    "np.sqrt(arr) # square root of every element"
   ]
  },
  {
   "cell_type": "code",
   "execution_count": 43,
   "id": "4516a456",
   "metadata": {},
   "outputs": [
    {
     "data": {
      "text/plain": [
       "array([1.00000000e+00, 2.71828183e+00, 7.38905610e+00, 2.00855369e+01,\n",
       "       5.45981500e+01, 1.48413159e+02, 4.03428793e+02, 1.09663316e+03,\n",
       "       2.98095799e+03, 8.10308393e+03])"
      ]
     },
     "execution_count": 43,
     "metadata": {},
     "output_type": "execute_result"
    }
   ],
   "source": [
    "np.exp(arr)"
   ]
  },
  {
   "cell_type": "code",
   "execution_count": 44,
   "id": "19cbe6fd",
   "metadata": {},
   "outputs": [
    {
     "data": {
      "text/plain": [
       "9"
      ]
     },
     "execution_count": 44,
     "metadata": {},
     "output_type": "execute_result"
    }
   ],
   "source": [
    "# what's the maximum value in an array\n",
    "np.max(arr)"
   ]
  },
  {
   "cell_type": "code",
   "execution_count": 45,
   "id": "5a8f0c70",
   "metadata": {},
   "outputs": [
    {
     "data": {
      "text/plain": [
       "array([ 0.        ,  0.84147098,  0.90929743,  0.14112001, -0.7568025 ,\n",
       "       -0.95892427, -0.2794155 ,  0.6569866 ,  0.98935825,  0.41211849])"
      ]
     },
     "execution_count": 45,
     "metadata": {},
     "output_type": "execute_result"
    }
   ],
   "source": [
    "np.sin(arr)"
   ]
  },
  {
   "cell_type": "code",
   "execution_count": 46,
   "id": "c3d681f6",
   "metadata": {},
   "outputs": [
    {
     "name": "stderr",
     "output_type": "stream",
     "text": [
      "/var/folders/7c/6tn50bjd30l3zb0p8_7mr94m0000gn/T/ipykernel_1558/3120950136.py:1: RuntimeWarning: divide by zero encountered in log\n",
      "  np.log(arr)\n"
     ]
    },
    {
     "data": {
      "text/plain": [
       "array([      -inf, 0.        , 0.69314718, 1.09861229, 1.38629436,\n",
       "       1.60943791, 1.79175947, 1.94591015, 2.07944154, 2.19722458])"
      ]
     },
     "execution_count": 46,
     "metadata": {},
     "output_type": "execute_result"
    }
   ],
   "source": [
    "np.log(arr)"
   ]
  },
  {
   "cell_type": "markdown",
   "id": "a36e836f",
   "metadata": {},
   "source": [
    "## NumPy for Indexing and Selection"
   ]
  },
  {
   "cell_type": "code",
   "execution_count": 47,
   "id": "afed6d44",
   "metadata": {},
   "outputs": [],
   "source": [
    "arr = np.arange(0,11)"
   ]
  },
  {
   "cell_type": "code",
   "execution_count": 48,
   "id": "92cec0e3",
   "metadata": {},
   "outputs": [
    {
     "data": {
      "text/plain": [
       "array([ 0,  1,  2,  3,  4,  5,  6,  7,  8,  9, 10])"
      ]
     },
     "execution_count": 48,
     "metadata": {},
     "output_type": "execute_result"
    }
   ],
   "source": [
    "arr"
   ]
  },
  {
   "cell_type": "code",
   "execution_count": 49,
   "id": "800f8d4b",
   "metadata": {},
   "outputs": [
    {
     "data": {
      "text/plain": [
       "8"
      ]
     },
     "execution_count": 49,
     "metadata": {},
     "output_type": "execute_result"
    }
   ],
   "source": [
    "# bracket indexing and selection\n",
    "# element at index 8\n",
    "arr[8]"
   ]
  },
  {
   "cell_type": "code",
   "execution_count": 50,
   "id": "71307204",
   "metadata": {},
   "outputs": [
    {
     "data": {
      "text/plain": [
       "array([1, 2, 3, 4])"
      ]
     },
     "execution_count": 50,
     "metadata": {},
     "output_type": "execute_result"
    }
   ],
   "source": [
    "# slice notation\n",
    "arr[1:5]"
   ]
  },
  {
   "cell_type": "code",
   "execution_count": 51,
   "id": "42303cc2",
   "metadata": {},
   "outputs": [
    {
     "data": {
      "text/plain": [
       "array([0, 1, 2, 3, 4])"
      ]
     },
     "execution_count": 51,
     "metadata": {},
     "output_type": "execute_result"
    }
   ],
   "source": [
    "# everything up to a certain position but not including it\n",
    "arr[:5]"
   ]
  },
  {
   "cell_type": "code",
   "execution_count": 52,
   "id": "30898098",
   "metadata": {},
   "outputs": [
    {
     "data": {
      "text/plain": [
       "array([ 3,  4,  5,  6,  7,  8,  9, 10])"
      ]
     },
     "execution_count": 52,
     "metadata": {},
     "output_type": "execute_result"
    }
   ],
   "source": [
    "# everything from a certain position up to the end\n",
    "arr[3:]"
   ]
  },
  {
   "cell_type": "code",
   "execution_count": 53,
   "id": "bda0a0f9",
   "metadata": {},
   "outputs": [],
   "source": [
    "# broadcasting a reasignment\n",
    "# grab a slice and set it equal to a certain value\n",
    "arr[0:5] = 100"
   ]
  },
  {
   "cell_type": "code",
   "execution_count": 54,
   "id": "519f50f2",
   "metadata": {},
   "outputs": [
    {
     "data": {
      "text/plain": [
       "array([100, 100, 100, 100, 100,   5,   6,   7,   8,   9,  10])"
      ]
     },
     "execution_count": 54,
     "metadata": {},
     "output_type": "execute_result"
    }
   ],
   "source": [
    "arr # five elements now have the number 100, this is known as broadcasting"
   ]
  },
  {
   "cell_type": "code",
   "execution_count": 55,
   "id": "d3b8c395",
   "metadata": {},
   "outputs": [],
   "source": [
    "# resetting the array\n",
    "arr = np.arange(0,11)"
   ]
  },
  {
   "cell_type": "code",
   "execution_count": 56,
   "id": "e69b81a4",
   "metadata": {},
   "outputs": [
    {
     "data": {
      "text/plain": [
       "array([ 0,  1,  2,  3,  4,  5,  6,  7,  8,  9, 10])"
      ]
     },
     "execution_count": 56,
     "metadata": {},
     "output_type": "execute_result"
    }
   ],
   "source": [
    "arr"
   ]
  },
  {
   "cell_type": "code",
   "execution_count": 68,
   "id": "f377190f",
   "metadata": {},
   "outputs": [],
   "source": [
    "# example: slice of array is a pointer to the original array\n",
    "# changing the slice changes the original array as well\n",
    "# the data is not actually copied (avoids memory problems)\n",
    "slice_of_arr = arr[0:6]"
   ]
  },
  {
   "cell_type": "code",
   "execution_count": 60,
   "id": "f46c37d3",
   "metadata": {},
   "outputs": [
    {
     "data": {
      "text/plain": [
       "array([0, 1, 2, 3, 4, 5])"
      ]
     },
     "execution_count": 60,
     "metadata": {},
     "output_type": "execute_result"
    }
   ],
   "source": [
    "slice_of_arr"
   ]
  },
  {
   "cell_type": "code",
   "execution_count": 62,
   "id": "df58c22a",
   "metadata": {},
   "outputs": [],
   "source": [
    "slice_of_arr[:] = 99"
   ]
  },
  {
   "cell_type": "code",
   "execution_count": 64,
   "id": "7ef1e992",
   "metadata": {},
   "outputs": [
    {
     "data": {
      "text/plain": [
       "array([99, 99, 99, 99, 99, 99])"
      ]
     },
     "execution_count": 64,
     "metadata": {},
     "output_type": "execute_result"
    }
   ],
   "source": [
    "slice_of_arr"
   ]
  },
  {
   "cell_type": "code",
   "execution_count": 65,
   "id": "33dfaeb6",
   "metadata": {},
   "outputs": [
    {
     "data": {
      "text/plain": [
       "array([99, 99, 99, 99, 99, 99,  6,  7,  8,  9, 10])"
      ]
     },
     "execution_count": 65,
     "metadata": {},
     "output_type": "execute_result"
    }
   ],
   "source": [
    "arr # notice that slice was just a pointer"
   ]
  },
  {
   "cell_type": "code",
   "execution_count": 69,
   "id": "e360a4bb",
   "metadata": {},
   "outputs": [],
   "source": [
    "# if you want to have a copy you've to explicitly say so\n",
    "arr_copy = arr.copy()"
   ]
  },
  {
   "cell_type": "code",
   "execution_count": 70,
   "id": "c8945e9c",
   "metadata": {},
   "outputs": [
    {
     "data": {
      "text/plain": [
       "array([99, 99, 99, 99, 99, 99,  6,  7,  8,  9, 10])"
      ]
     },
     "execution_count": 70,
     "metadata": {},
     "output_type": "execute_result"
    }
   ],
   "source": [
    "arr"
   ]
  },
  {
   "cell_type": "code",
   "execution_count": 71,
   "id": "28c142da",
   "metadata": {},
   "outputs": [],
   "source": [
    "arr_copy[:] = 200"
   ]
  },
  {
   "cell_type": "code",
   "execution_count": 72,
   "id": "d73b6f1c",
   "metadata": {},
   "outputs": [
    {
     "data": {
      "text/plain": [
       "array([200, 200, 200, 200, 200, 200, 200, 200, 200, 200, 200])"
      ]
     },
     "execution_count": 72,
     "metadata": {},
     "output_type": "execute_result"
    }
   ],
   "source": [
    "arr_copy"
   ]
  },
  {
   "cell_type": "code",
   "execution_count": 74,
   "id": "622d6edd",
   "metadata": {},
   "outputs": [
    {
     "data": {
      "text/plain": [
       "array([99, 99, 99, 99, 99, 99,  6,  7,  8,  9, 10])"
      ]
     },
     "execution_count": 74,
     "metadata": {},
     "output_type": "execute_result"
    }
   ],
   "source": [
    "arr # change doesn't affect original array"
   ]
  },
  {
   "cell_type": "code",
   "execution_count": null,
   "id": "80739688",
   "metadata": {},
   "outputs": [],
   "source": []
  }
 ],
 "metadata": {
  "kernelspec": {
   "display_name": "Python 3 (ipykernel)",
   "language": "python",
   "name": "python3"
  },
  "language_info": {
   "codemirror_mode": {
    "name": "ipython",
    "version": 3
   },
   "file_extension": ".py",
   "mimetype": "text/x-python",
   "name": "python",
   "nbconvert_exporter": "python",
   "pygments_lexer": "ipython3",
   "version": "3.9.13"
  }
 },
 "nbformat": 4,
 "nbformat_minor": 5
}
