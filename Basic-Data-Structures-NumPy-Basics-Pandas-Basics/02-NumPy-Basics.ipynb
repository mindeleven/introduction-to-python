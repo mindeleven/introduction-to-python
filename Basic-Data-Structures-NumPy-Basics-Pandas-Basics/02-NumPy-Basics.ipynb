{
 "cells": [
  {
   "cell_type": "markdown",
   "id": "792f8cac",
   "metadata": {},
   "source": [
    "# NumPy"
   ]
  },
  {
   "cell_type": "markdown",
   "id": "b97f6168",
   "metadata": {},
   "source": [
    "NumPy is a Python package that allows the efficient handling on and operation on large arrays of numerical data. It's one of the most fundamental libraies for quantitative analysis."
   ]
  },
  {
   "cell_type": "code",
   "execution_count": 2,
   "id": "e69f2a4d",
   "metadata": {},
   "outputs": [],
   "source": [
    "import numpy as np"
   ]
  },
  {
   "cell_type": "markdown",
   "id": "c260c2a3",
   "metadata": {},
   "source": [
    "- NumPy Arrays  \n",
    "- NumPy Indexing and Selection  \n",
    "- NumPy Operations  \n",
    "- NumPy Exercise (and Solution)"
   ]
  },
  {
   "cell_type": "markdown",
   "id": "72c433b5",
   "metadata": {},
   "source": [
    "## Regular ndarray Object"
   ]
  },
  {
   "cell_type": "code",
   "execution_count": 3,
   "id": "f395c915",
   "metadata": {},
   "outputs": [
    {
     "data": {
      "text/plain": [
       "array([1, 2, 3])"
      ]
     },
     "execution_count": 3,
     "metadata": {},
     "output_type": "execute_result"
    }
   ],
   "source": [
    "# creating numpy array by casting a list\n",
    "my_list = [1, 2, 3]\n",
    "np.array(my_list)"
   ]
  },
  {
   "cell_type": "code",
   "execution_count": 4,
   "id": "b7f39be8",
   "metadata": {},
   "outputs": [
    {
     "data": {
      "text/plain": [
       "numpy.ndarray"
      ]
     },
     "execution_count": 4,
     "metadata": {},
     "output_type": "execute_result"
    }
   ],
   "source": [
    "type(np.array(my_list))"
   ]
  },
  {
   "cell_type": "code",
   "execution_count": 5,
   "id": "4c030b39",
   "metadata": {},
   "outputs": [],
   "source": [
    "# creating a numpy array with the build in range function of python\n",
    "a = np.array(range(24))"
   ]
  },
  {
   "cell_type": "code",
   "execution_count": 6,
   "id": "c1df68ef",
   "metadata": {},
   "outputs": [
    {
     "data": {
      "text/plain": [
       "array([ 0,  1,  2,  3,  4,  5,  6,  7,  8,  9, 10, 11, 12, 13, 14, 15, 16,\n",
       "       17, 18, 19, 20, 21, 22, 23])"
      ]
     },
     "execution_count": 6,
     "metadata": {},
     "output_type": "execute_result"
    }
   ],
   "source": [
    "a"
   ]
  },
  {
   "cell_type": "code",
   "execution_count": 7,
   "id": "69fcee8c",
   "metadata": {},
   "outputs": [
    {
     "data": {
      "text/plain": [
       "array([0, 1, 2, 3, 4])"
      ]
     },
     "execution_count": 7,
     "metadata": {},
     "output_type": "execute_result"
    }
   ],
   "source": [
    "# creating a numpy array with the arange function of numpy\n",
    "a1 = np.arange(0,5)\n",
    "a1"
   ]
  },
  {
   "cell_type": "code",
   "execution_count": 8,
   "id": "31b02967",
   "metadata": {},
   "outputs": [
    {
     "data": {
      "text/plain": [
       "array([1, 3, 5, 7, 9])"
      ]
     },
     "execution_count": 8,
     "metadata": {},
     "output_type": "execute_result"
    }
   ],
   "source": [
    "a2 = np.arange(1,11,2)\n",
    "a2"
   ]
  },
  {
   "cell_type": "code",
   "execution_count": 9,
   "id": "a4fb7942",
   "metadata": {},
   "outputs": [
    {
     "data": {
      "text/plain": [
       "array([0., 0., 0.])"
      ]
     },
     "execution_count": 9,
     "metadata": {},
     "output_type": "execute_result"
    }
   ],
   "source": [
    "# creating arrays of zeros\n",
    "np.zeros(3)"
   ]
  },
  {
   "cell_type": "code",
   "execution_count": 10,
   "id": "490ef435",
   "metadata": {},
   "outputs": [
    {
     "data": {
      "text/plain": [
       "array([[0., 0., 0., 0., 0.],\n",
       "       [0., 0., 0., 0., 0.],\n",
       "       [0., 0., 0., 0., 0.],\n",
       "       [0., 0., 0., 0., 0.],\n",
       "       [0., 0., 0., 0., 0.]])"
      ]
     },
     "execution_count": 10,
     "metadata": {},
     "output_type": "execute_result"
    }
   ],
   "source": [
    "# same for two-dimensional arrays\n",
    "# passing tuple to array function (index 1 rows, index two columns)\n",
    "np.zeros((5,5))"
   ]
  },
  {
   "cell_type": "code",
   "execution_count": 11,
   "id": "6473ab3f",
   "metadata": {},
   "outputs": [
    {
     "data": {
      "text/plain": [
       "array([1., 1., 1., 1.])"
      ]
     },
     "execution_count": 11,
     "metadata": {},
     "output_type": "execute_result"
    }
   ],
   "source": [
    "# creating arrays of ones\n",
    "np.ones(4)"
   ]
  },
  {
   "cell_type": "code",
   "execution_count": 12,
   "id": "e021f308",
   "metadata": {},
   "outputs": [
    {
     "data": {
      "text/plain": [
       "array([ 0.        ,  0.20408163,  0.40816327,  0.6122449 ,  0.81632653,\n",
       "        1.02040816,  1.2244898 ,  1.42857143,  1.63265306,  1.83673469,\n",
       "        2.04081633,  2.24489796,  2.44897959,  2.65306122,  2.85714286,\n",
       "        3.06122449,  3.26530612,  3.46938776,  3.67346939,  3.87755102,\n",
       "        4.08163265,  4.28571429,  4.48979592,  4.69387755,  4.89795918,\n",
       "        5.10204082,  5.30612245,  5.51020408,  5.71428571,  5.91836735,\n",
       "        6.12244898,  6.32653061,  6.53061224,  6.73469388,  6.93877551,\n",
       "        7.14285714,  7.34693878,  7.55102041,  7.75510204,  7.95918367,\n",
       "        8.16326531,  8.36734694,  8.57142857,  8.7755102 ,  8.97959184,\n",
       "        9.18367347,  9.3877551 ,  9.59183673,  9.79591837, 10.        ])"
      ]
     },
     "execution_count": 12,
     "metadata": {},
     "output_type": "execute_result"
    }
   ],
   "source": [
    "# returning evenly spaced numbers over a specified interval\n",
    "np.linspace(0, 10, 50)"
   ]
  },
  {
   "cell_type": "code",
   "execution_count": 13,
   "id": "9dad10d9",
   "metadata": {},
   "outputs": [],
   "source": [
    "# creating a matrix from a nested list\n",
    "my_matrix = [[1, 2, 3], [4, 5, 6], [7, 8, 9]]\n",
    "np_matrix = np.array(my_matrix)"
   ]
  },
  {
   "cell_type": "code",
   "execution_count": 14,
   "id": "9cc1ab30",
   "metadata": {},
   "outputs": [
    {
     "data": {
      "text/plain": [
       "array([[1, 2, 3],\n",
       "       [4, 5, 6],\n",
       "       [7, 8, 9]])"
      ]
     },
     "execution_count": 14,
     "metadata": {},
     "output_type": "execute_result"
    }
   ],
   "source": [
    "np_matrix # two dimensional matrix"
   ]
  },
  {
   "cell_type": "code",
   "execution_count": 15,
   "id": "f4097efd",
   "metadata": {},
   "outputs": [
    {
     "data": {
      "text/plain": [
       "numpy.ndarray"
      ]
     },
     "execution_count": 15,
     "metadata": {},
     "output_type": "execute_result"
    }
   ],
   "source": [
    "type(np_matrix)"
   ]
  },
  {
   "cell_type": "code",
   "execution_count": 16,
   "id": "47ddd958",
   "metadata": {},
   "outputs": [],
   "source": [
    "# numpy array as matrix\n",
    "b = a.reshape((4, 6))"
   ]
  },
  {
   "cell_type": "code",
   "execution_count": 17,
   "id": "21daf003",
   "metadata": {},
   "outputs": [
    {
     "data": {
      "text/plain": [
       "array([[ 0,  1,  2,  3,  4,  5],\n",
       "       [ 6,  7,  8,  9, 10, 11],\n",
       "       [12, 13, 14, 15, 16, 17],\n",
       "       [18, 19, 20, 21, 22, 23]])"
      ]
     },
     "execution_count": 17,
     "metadata": {},
     "output_type": "execute_result"
    }
   ],
   "source": [
    "b"
   ]
  },
  {
   "cell_type": "code",
   "execution_count": 18,
   "id": "33c77218",
   "metadata": {},
   "outputs": [
    {
     "data": {
      "text/plain": [
       "array([[1., 0., 0., 0.],\n",
       "       [0., 1., 0., 0.],\n",
       "       [0., 0., 1., 0.],\n",
       "       [0., 0., 0., 1.]])"
      ]
     },
     "execution_count": 18,
     "metadata": {},
     "output_type": "execute_result"
    }
   ],
   "source": [
    "# creating an identiy matrix\n",
    "np.eye(4)"
   ]
  },
  {
   "cell_type": "code",
   "execution_count": 19,
   "id": "1a635de6",
   "metadata": {},
   "outputs": [
    {
     "data": {
      "text/plain": [
       "array([0.57649515])"
      ]
     },
     "execution_count": 19,
     "metadata": {},
     "output_type": "execute_result"
    }
   ],
   "source": [
    "# numpy's random library\n",
    "# used to model something like monte carlo simulation\n",
    "np.random.rand(1) # retunrs random float between zero and one"
   ]
  },
  {
   "cell_type": "code",
   "execution_count": 20,
   "id": "33b78f77",
   "metadata": {},
   "outputs": [
    {
     "data": {
      "text/plain": [
       "array([[0.65068102, 0.08116081, 0.17198829, 0.77728694],\n",
       "       [0.59243363, 0.20498973, 0.22194342, 0.5552009 ],\n",
       "       [0.0099158 , 0.28722005, 0.96778144, 0.12808799],\n",
       "       [0.56301183, 0.10066685, 0.4909605 , 0.91774921],\n",
       "       [0.75066562, 0.49978447, 0.56772121, 0.31315185]])"
      ]
     },
     "execution_count": 20,
     "metadata": {},
     "output_type": "execute_result"
    }
   ],
   "source": [
    "np.random.rand(5,4) # returns 5 x 4 matrix with random numbers berween zero and one\n",
    "# uniform distribution, every number has the same odds of being picked"
   ]
  },
  {
   "cell_type": "code",
   "execution_count": 21,
   "id": "02f378ab",
   "metadata": {},
   "outputs": [
    {
     "data": {
      "text/plain": [
       "array([-1.26374146,  1.02563194, -0.23662402, -0.43615547,  0.01832633])"
      ]
     },
     "execution_count": 21,
     "metadata": {},
     "output_type": "execute_result"
    }
   ],
   "source": [
    "np.random.randn(5) # returns sample from the standard_normal distribution"
   ]
  },
  {
   "cell_type": "code",
   "execution_count": 22,
   "id": "b6477a8d",
   "metadata": {},
   "outputs": [
    {
     "data": {
      "text/plain": [
       "array([[-6.00409174e-01, -6.14132816e-01, -6.37563335e-01,\n",
       "        -2.41817055e-01,  3.05983228e-01],\n",
       "       [-4.48366747e-01, -1.30298661e-03, -1.96869604e-01,\n",
       "        -1.98832812e+00, -2.38425860e+00],\n",
       "       [ 6.05103800e-01, -3.94469065e-01,  1.49981652e+00,\n",
       "         1.30677417e-02, -7.98756184e-01],\n",
       "       [ 4.57456610e-01, -2.00359644e+00,  7.14010594e-01,\n",
       "        -5.14126294e-01, -9.29625452e-02],\n",
       "       [ 5.72356929e-01, -1.42982843e+00,  4.54298020e-01,\n",
       "        -1.19734462e+00,  1.12894354e+00]])"
      ]
     },
     "execution_count": 22,
     "metadata": {},
     "output_type": "execute_result"
    }
   ],
   "source": [
    "np.random.randn(5,5)"
   ]
  },
  {
   "cell_type": "code",
   "execution_count": 23,
   "id": "ae2583d8",
   "metadata": {},
   "outputs": [
    {
     "data": {
      "text/plain": [
       "87"
      ]
     },
     "execution_count": 23,
     "metadata": {},
     "output_type": "execute_result"
    }
   ],
   "source": [
    "np.random.randint(1,100) # returns random integer from the \"discrete uniform\" distribution "
   ]
  },
  {
   "cell_type": "code",
   "execution_count": 24,
   "id": "464cb181",
   "metadata": {},
   "outputs": [
    {
     "data": {
      "text/plain": [
       "array([ 7, 49, 55, 75, 77, 90, 12, 41, 37, 14])"
      ]
     },
     "execution_count": 24,
     "metadata": {},
     "output_type": "execute_result"
    }
   ],
   "source": [
    "np.random.randint(1,100,10)"
   ]
  },
  {
   "cell_type": "code",
   "execution_count": 25,
   "id": "0fc4086f",
   "metadata": {},
   "outputs": [
    {
     "data": {
      "text/plain": [
       "array([ 0,  1,  2,  3,  4,  5,  6,  7,  8,  9, 10, 11, 12, 13, 14, 15, 16,\n",
       "       17, 18, 19, 20, 21, 22, 23, 24])"
      ]
     },
     "execution_count": 25,
     "metadata": {},
     "output_type": "execute_result"
    }
   ],
   "source": [
    "# array attributes and methods that are useful\n",
    "arr = np.arange(25)\n",
    "arr"
   ]
  },
  {
   "cell_type": "code",
   "execution_count": 26,
   "id": "8e9065ab",
   "metadata": {},
   "outputs": [
    {
     "data": {
      "text/plain": [
       "array([43,  4, 26, 16,  8, 34, 32, 27, 12, 20])"
      ]
     },
     "execution_count": 26,
     "metadata": {},
     "output_type": "execute_result"
    }
   ],
   "source": [
    "ranarr = np.random.randint(0,50,10)\n",
    "ranarr"
   ]
  },
  {
   "cell_type": "code",
   "execution_count": 27,
   "id": "11f48490",
   "metadata": {},
   "outputs": [
    {
     "data": {
      "text/plain": [
       "array([[ 0,  1,  2,  3,  4],\n",
       "       [ 5,  6,  7,  8,  9],\n",
       "       [10, 11, 12, 13, 14],\n",
       "       [15, 16, 17, 18, 19],\n",
       "       [20, 21, 22, 23, 24]])"
      ]
     },
     "execution_count": 27,
     "metadata": {},
     "output_type": "execute_result"
    }
   ],
   "source": [
    "# return an array with the same data but a different shape\n",
    "arr.reshape(5,5) # reshape array to 5 by 5 matrix"
   ]
  },
  {
   "cell_type": "code",
   "execution_count": 28,
   "id": "baa91db3",
   "metadata": {},
   "outputs": [
    {
     "data": {
      "text/plain": [
       "(25,)"
      ]
     },
     "execution_count": 28,
     "metadata": {},
     "output_type": "execute_result"
    }
   ],
   "source": [
    "arr.shape # returns shape of one dimensional array"
   ]
  },
  {
   "cell_type": "code",
   "execution_count": 29,
   "id": "bc449320",
   "metadata": {},
   "outputs": [
    {
     "data": {
      "text/plain": [
       "(5, 5)"
      ]
     },
     "execution_count": 29,
     "metadata": {},
     "output_type": "execute_result"
    }
   ],
   "source": [
    "arr.reshape(5,5).shape # shape of 5 by 5 matrix"
   ]
  },
  {
   "cell_type": "code",
   "execution_count": 30,
   "id": "3a021e1b",
   "metadata": {},
   "outputs": [
    {
     "data": {
      "text/plain": [
       "dtype('int64')"
      ]
     },
     "execution_count": 30,
     "metadata": {},
     "output_type": "execute_result"
    }
   ],
   "source": [
    "arr.dtype # data type of the array"
   ]
  },
  {
   "cell_type": "code",
   "execution_count": 31,
   "id": "e9aa9821",
   "metadata": {},
   "outputs": [
    {
     "data": {
      "text/plain": [
       "43"
      ]
     },
     "execution_count": 31,
     "metadata": {},
     "output_type": "execute_result"
    }
   ],
   "source": [
    "ranarr.max() # max number in an array"
   ]
  },
  {
   "cell_type": "code",
   "execution_count": 32,
   "id": "1457f190",
   "metadata": {},
   "outputs": [
    {
     "data": {
      "text/plain": [
       "0"
      ]
     },
     "execution_count": 32,
     "metadata": {},
     "output_type": "execute_result"
    }
   ],
   "source": [
    "ranarr.argmax() # index location of max number in an array"
   ]
  },
  {
   "cell_type": "code",
   "execution_count": 33,
   "id": "c6890314",
   "metadata": {},
   "outputs": [
    {
     "data": {
      "text/plain": [
       "4"
      ]
     },
     "execution_count": 33,
     "metadata": {},
     "output_type": "execute_result"
    }
   ],
   "source": [
    "ranarr.min() # min number in an array"
   ]
  },
  {
   "cell_type": "code",
   "execution_count": 34,
   "id": "73e0607c",
   "metadata": {},
   "outputs": [
    {
     "data": {
      "text/plain": [
       "1"
      ]
     },
     "execution_count": 34,
     "metadata": {},
     "output_type": "execute_result"
    }
   ],
   "source": [
    "ranarr.argmin() # index location of min number in an array"
   ]
  },
  {
   "cell_type": "markdown",
   "id": "d4763fca",
   "metadata": {},
   "source": [
    "## NumPy Operations"
   ]
  },
  {
   "cell_type": "code",
   "execution_count": 35,
   "id": "2b2b7bb7",
   "metadata": {},
   "outputs": [
    {
     "data": {
      "text/plain": [
       "array([0, 1, 2, 3, 4, 5, 6, 7, 8, 9])"
      ]
     },
     "execution_count": 35,
     "metadata": {},
     "output_type": "execute_result"
    }
   ],
   "source": [
    "arr = np.arange(0,10)\n",
    "arr"
   ]
  },
  {
   "cell_type": "code",
   "execution_count": 36,
   "id": "a55bca7e",
   "metadata": {},
   "outputs": [
    {
     "data": {
      "text/plain": [
       "array([ 0,  2,  4,  6,  8, 10, 12, 14, 16, 18])"
      ]
     },
     "execution_count": 36,
     "metadata": {},
     "output_type": "execute_result"
    }
   ],
   "source": [
    "# array addition on element by element basis\n",
    "arr + arr"
   ]
  },
  {
   "cell_type": "code",
   "execution_count": 37,
   "id": "978e24f6",
   "metadata": {},
   "outputs": [
    {
     "data": {
      "text/plain": [
       "array([ 0,  1,  4,  9, 16, 25, 36, 49, 64, 81])"
      ]
     },
     "execution_count": 37,
     "metadata": {},
     "output_type": "execute_result"
    }
   ],
   "source": [
    "# array multiplication on element by element basis\n",
    "arr * arr"
   ]
  },
  {
   "cell_type": "code",
   "execution_count": 39,
   "id": "8a40864a",
   "metadata": {},
   "outputs": [
    {
     "data": {
      "text/plain": [
       "array([0, 0, 0, 0, 0, 0, 0, 0, 0, 0])"
      ]
     },
     "execution_count": 39,
     "metadata": {},
     "output_type": "execute_result"
    }
   ],
   "source": [
    "# substraction\n",
    "arr - arr"
   ]
  },
  {
   "cell_type": "code",
   "execution_count": 41,
   "id": "25ac3d4d",
   "metadata": {},
   "outputs": [
    {
     "name": "stderr",
     "output_type": "stream",
     "text": [
      "/var/folders/7c/6tn50bjd30l3zb0p8_7mr94m0000gn/T/ipykernel_1567/3579412427.py:2: RuntimeWarning: invalid value encountered in true_divide\n",
      "  arr / arr # returns warning if 0 is in array\n"
     ]
    },
    {
     "data": {
      "text/plain": [
       "array([nan,  1.,  1.,  1.,  1.,  1.,  1.,  1.,  1.,  1.])"
      ]
     },
     "execution_count": 41,
     "metadata": {},
     "output_type": "execute_result"
    }
   ],
   "source": [
    "# division\n",
    "arr / arr # returns warning if 0 is in array\n",
    "# 0/0 gets replaced with nan"
   ]
  },
  {
   "cell_type": "code",
   "execution_count": 42,
   "id": "dcb194e0",
   "metadata": {},
   "outputs": [
    {
     "name": "stderr",
     "output_type": "stream",
     "text": [
      "/var/folders/7c/6tn50bjd30l3zb0p8_7mr94m0000gn/T/ipykernel_1567/255282349.py:1: RuntimeWarning: divide by zero encountered in true_divide\n",
      "  1/arr\n"
     ]
    },
    {
     "data": {
      "text/plain": [
       "array([       inf, 1.        , 0.5       , 0.33333333, 0.25      ,\n",
       "       0.2       , 0.16666667, 0.14285714, 0.125     , 0.11111111])"
      ]
     },
     "execution_count": 42,
     "metadata": {},
     "output_type": "execute_result"
    }
   ],
   "source": [
    "1/arr # 1/0 gets replaced by infinity"
   ]
  },
  {
   "cell_type": "code",
   "execution_count": 43,
   "id": "541eb112",
   "metadata": {},
   "outputs": [
    {
     "data": {
      "text/plain": [
       "array([  0,   1,   8,  27,  64, 125, 216, 343, 512, 729])"
      ]
     },
     "execution_count": 43,
     "metadata": {},
     "output_type": "execute_result"
    }
   ],
   "source": [
    "# exponentials\n",
    "arr ** 3"
   ]
  },
  {
   "cell_type": "code",
   "execution_count": 44,
   "id": "b3598c32",
   "metadata": {},
   "outputs": [
    {
     "data": {
      "text/plain": [
       "array([0.        , 1.        , 1.41421356, 1.73205081, 2.        ,\n",
       "       2.23606798, 2.44948974, 2.64575131, 2.82842712, 3.        ])"
      ]
     },
     "execution_count": 44,
     "metadata": {},
     "output_type": "execute_result"
    }
   ],
   "source": [
    "# numpay comes along with array functions\n",
    "np.sqrt(arr) # square root of every element"
   ]
  },
  {
   "cell_type": "code",
   "execution_count": null,
   "id": "1b883ca0",
   "metadata": {},
   "outputs": [],
   "source": []
  }
 ],
 "metadata": {
  "kernelspec": {
   "display_name": "Python 3 (ipykernel)",
   "language": "python",
   "name": "python3"
  },
  "language_info": {
   "codemirror_mode": {
    "name": "ipython",
    "version": 3
   },
   "file_extension": ".py",
   "mimetype": "text/x-python",
   "name": "python",
   "nbconvert_exporter": "python",
   "pygments_lexer": "ipython3",
   "version": "3.9.13"
  }
 },
 "nbformat": 4,
 "nbformat_minor": 5
}
