{
 "cells": [
  {
   "cell_type": "markdown",
   "id": "639f3ddc",
   "metadata": {},
   "source": [
    "# Fetching Data from Oanda API Endpoints"
   ]
  },
  {
   "cell_type": "markdown",
   "id": "27d5a7fb",
   "metadata": {},
   "source": [
    "Oanda API endpoints can be found at http://developer.oanda.com/rest-live-v20/account-ep/"
   ]
  },
  {
   "cell_type": "code",
   "execution_count": 43,
   "id": "41030404",
   "metadata": {},
   "outputs": [],
   "source": [
    "import requests\n",
    "import pandas as pd\n",
    "import json"
   ]
  },
  {
   "cell_type": "code",
   "execution_count": 44,
   "id": "1c5c22a6",
   "metadata": {},
   "outputs": [],
   "source": [
    "account_data = pd.read_csv(\"~/Documents/temp/oanda/testnet_key.txt\", sep=\" \", header=None)\n",
    "API_KEY = account_data[0][2]\n",
    "ACCOUNT_ID = account_data[0][1]\n",
    "OANDA_URL = account_data[0][0]"
   ]
  },
  {
   "cell_type": "code",
   "execution_count": 45,
   "id": "820a496c",
   "metadata": {},
   "outputs": [],
   "source": [
    "session = requests.Session()"
   ]
  },
  {
   "cell_type": "markdown",
   "id": "faafa296",
   "metadata": {},
   "source": [
    "## Fetching Data from the Candles Endpoint"
   ]
  },
  {
   "cell_type": "code",
   "execution_count": 46,
   "id": "220a6f59",
   "metadata": {},
   "outputs": [],
   "source": [
    "session.headers.update({\n",
    "    \"Authorization\": f\"Bearer {API_KEY}\",\n",
    "    \"Content-Type\": \"application/json\"\n",
    "})"
   ]
  },
  {
   "cell_type": "code",
   "execution_count": 47,
   "id": "9667a60f",
   "metadata": {},
   "outputs": [],
   "source": [
    "params = dict(\n",
    "    count = 10,\n",
    "    granularity = \"H1\",\n",
    "    price = \"MBA\"\n",
    ")"
   ]
  },
  {
   "cell_type": "code",
   "execution_count": 48,
   "id": "6f40bb4b",
   "metadata": {},
   "outputs": [],
   "source": [
    "url_candles = f\"{OANDA_URL}/instruments/EUR_USD/candles\""
   ]
  },
  {
   "cell_type": "code",
   "execution_count": 49,
   "id": "e97b9a42",
   "metadata": {},
   "outputs": [],
   "source": [
    "response = session.get(url_candles, params=params, data=None, headers=None)"
   ]
  },
  {
   "cell_type": "code",
   "execution_count": 50,
   "id": "ef305afa",
   "metadata": {},
   "outputs": [
    {
     "data": {
      "text/plain": [
       "200"
      ]
     },
     "execution_count": 50,
     "metadata": {},
     "output_type": "execute_result"
    }
   ],
   "source": [
    "response.status_code"
   ]
  },
  {
   "cell_type": "code",
   "execution_count": 51,
   "id": "ceb7640d",
   "metadata": {},
   "outputs": [
    {
     "data": {
      "text/plain": [
       "{'instrument': 'EUR_USD',\n",
       " 'granularity': 'H1',\n",
       " 'candles': [{'complete': True,\n",
       "   'volume': 1759,\n",
       "   'time': '2022-07-18T23:00:00.000000000Z',\n",
       "   'bid': {'o': '1.01411', 'h': '1.01463', 'l': '1.01378', 'c': '1.01456'},\n",
       "   'mid': {'o': '1.01420', 'h': '1.01472', 'l': '1.01387', 'c': '1.01466'},\n",
       "   'ask': {'o': '1.01430', 'h': '1.01482', 'l': '1.01395', 'c': '1.01475'}},\n",
       "  {'complete': True,\n",
       "   'volume': 3057,\n",
       "   'time': '2022-07-19T00:00:00.000000000Z',\n",
       "   'bid': {'o': '1.01457', 'h': '1.01476', 'l': '1.01278', 'c': '1.01282'},\n",
       "   'mid': {'o': '1.01466', 'h': '1.01484', 'l': '1.01286', 'c': '1.01290'},\n",
       "   'ask': {'o': '1.01474', 'h': '1.01492', 'l': '1.01294', 'c': '1.01297'}},\n",
       "  {'complete': True,\n",
       "   'volume': 4467,\n",
       "   'time': '2022-07-19T01:00:00.000000000Z',\n",
       "   'bid': {'o': '1.01282', 'h': '1.01361', 'l': '1.01189', 'c': '1.01218'},\n",
       "   'mid': {'o': '1.01290', 'h': '1.01369', 'l': '1.01196', 'c': '1.01226'},\n",
       "   'ask': {'o': '1.01298', 'h': '1.01377', 'l': '1.01204', 'c': '1.01234'}},\n",
       "  {'complete': True,\n",
       "   'volume': 3033,\n",
       "   'time': '2022-07-19T02:00:00.000000000Z',\n",
       "   'bid': {'o': '1.01225', 'h': '1.01343', 'l': '1.01225', 'c': '1.01287'},\n",
       "   'mid': {'o': '1.01232', 'h': '1.01352', 'l': '1.01232', 'c': '1.01296'},\n",
       "   'ask': {'o': '1.01239', 'h': '1.01360', 'l': '1.01239', 'c': '1.01305'}},\n",
       "  {'complete': True,\n",
       "   'volume': 2839,\n",
       "   'time': '2022-07-19T03:00:00.000000000Z',\n",
       "   'bid': {'o': '1.01287', 'h': '1.01376', 'l': '1.01233', 'c': '1.01262'},\n",
       "   'mid': {'o': '1.01295', 'h': '1.01384', 'l': '1.01241', 'c': '1.01270'},\n",
       "   'ask': {'o': '1.01303', 'h': '1.01393', 'l': '1.01248', 'c': '1.01277'}},\n",
       "  {'complete': True,\n",
       "   'volume': 2877,\n",
       "   'time': '2022-07-19T04:00:00.000000000Z',\n",
       "   'bid': {'o': '1.01261', 'h': '1.01428', 'l': '1.01235', 'c': '1.01275'},\n",
       "   'mid': {'o': '1.01269', 'h': '1.01436', 'l': '1.01243', 'c': '1.01282'},\n",
       "   'ask': {'o': '1.01277', 'h': '1.01444', 'l': '1.01250', 'c': '1.01289'}},\n",
       "  {'complete': True,\n",
       "   'volume': 4746,\n",
       "   'time': '2022-07-19T05:00:00.000000000Z',\n",
       "   'bid': {'o': '1.01275', 'h': '1.01537', 'l': '1.01264', 'c': '1.01466'},\n",
       "   'mid': {'o': '1.01283', 'h': '1.01544', 'l': '1.01273', 'c': '1.01474'},\n",
       "   'ask': {'o': '1.01291', 'h': '1.01552', 'l': '1.01282', 'c': '1.01483'}},\n",
       "  {'complete': True,\n",
       "   'volume': 6810,\n",
       "   'time': '2022-07-19T06:00:00.000000000Z',\n",
       "   'bid': {'o': '1.01468', 'h': '1.01683', 'l': '1.01450', 'c': '1.01657'},\n",
       "   'mid': {'o': '1.01476', 'h': '1.01690', 'l': '1.01458', 'c': '1.01664'},\n",
       "   'ask': {'o': '1.01484', 'h': '1.01696', 'l': '1.01466', 'c': '1.01671'}},\n",
       "  {'complete': True,\n",
       "   'volume': 12833,\n",
       "   'time': '2022-07-19T07:00:00.000000000Z',\n",
       "   'bid': {'o': '1.01659', 'h': '1.02432', 'l': '1.01644', 'c': '1.02407'},\n",
       "   'mid': {'o': '1.01666', 'h': '1.02439', 'l': '1.01650', 'c': '1.02415'},\n",
       "   'ask': {'o': '1.01673', 'h': '1.02447', 'l': '1.01657', 'c': '1.02423'}},\n",
       "  {'complete': False,\n",
       "   'volume': 1602,\n",
       "   'time': '2022-07-19T08:00:00.000000000Z',\n",
       "   'bid': {'o': '1.02407', 'h': '1.02493', 'l': '1.02365', 'c': '1.02474'},\n",
       "   'mid': {'o': '1.02416', 'h': '1.02500', 'l': '1.02372', 'c': '1.02482'},\n",
       "   'ask': {'o': '1.02424', 'h': '1.02507', 'l': '1.02380', 'c': '1.02490'}}]}"
      ]
     },
     "execution_count": 51,
     "metadata": {},
     "output_type": "execute_result"
    }
   ],
   "source": [
    "response.json()"
   ]
  },
  {
   "cell_type": "markdown",
   "id": "c55fba05",
   "metadata": {},
   "source": [
    "## Fetching Data from the Instruments Endpoint"
   ]
  },
  {
   "cell_type": "code",
   "execution_count": 52,
   "id": "befce533",
   "metadata": {},
   "outputs": [],
   "source": [
    "url_inst = f\"{OANDA_URL}/accounts/{ACCOUNT_ID}/instruments\""
   ]
  },
  {
   "cell_type": "code",
   "execution_count": 54,
   "id": "7cc7a8a1",
   "metadata": {},
   "outputs": [],
   "source": [
    "response = session.get(url_inst, params=params, data=None, headers=None)"
   ]
  },
  {
   "cell_type": "code",
   "execution_count": 55,
   "id": "0658cf9d",
   "metadata": {},
   "outputs": [
    {
     "data": {
      "text/plain": [
       "200"
      ]
     },
     "execution_count": 55,
     "metadata": {},
     "output_type": "execute_result"
    }
   ],
   "source": [
    "response.status_code"
   ]
  },
  {
   "cell_type": "code",
   "execution_count": 57,
   "id": "fe34f253",
   "metadata": {},
   "outputs": [],
   "source": [
    "data = response.json() # dict_keys(['instruments', 'lastTransactionID'])"
   ]
  },
  {
   "cell_type": "code",
   "execution_count": 59,
   "id": "0cf0cb0f",
   "metadata": {},
   "outputs": [],
   "source": [
    "instruments_list = data[\"instruments\"]"
   ]
  },
  {
   "cell_type": "code",
   "execution_count": 60,
   "id": "22fc41a2",
   "metadata": {},
   "outputs": [
    {
     "data": {
      "text/plain": [
       "129"
      ]
     },
     "execution_count": 60,
     "metadata": {},
     "output_type": "execute_result"
    }
   ],
   "source": [
    "len(instruments_list)"
   ]
  },
  {
   "cell_type": "code",
   "execution_count": 61,
   "id": "c70519f4",
   "metadata": {},
   "outputs": [
    {
     "data": {
      "text/plain": [
       "{'name': 'CHINAH_HKD',\n",
       " 'type': 'CFD',\n",
       " 'displayName': 'China H Shares',\n",
       " 'pipLocation': 0,\n",
       " 'displayPrecision': 1,\n",
       " 'tradeUnitsPrecision': 1,\n",
       " 'minimumTradeSize': '0.1',\n",
       " 'maximumTrailingStopDistance': '10000.0',\n",
       " 'minimumTrailingStopDistance': '5.0',\n",
       " 'maximumPositionSize': '0',\n",
       " 'maximumOrderUnits': '500',\n",
       " 'marginRate': '0.1',\n",
       " 'guaranteedStopLossOrderMode': 'DISABLED',\n",
       " 'tags': [{'type': 'ASSET_CLASS', 'name': 'INDEX'}],\n",
       " 'financing': {'longRate': '-0.0259',\n",
       "  'shortRate': '-0.0241',\n",
       "  'financingDaysOfWeek': [{'dayOfWeek': 'MONDAY', 'daysCharged': 1},\n",
       "   {'dayOfWeek': 'TUESDAY', 'daysCharged': 1},\n",
       "   {'dayOfWeek': 'WEDNESDAY', 'daysCharged': 1},\n",
       "   {'dayOfWeek': 'THURSDAY', 'daysCharged': 1},\n",
       "   {'dayOfWeek': 'FRIDAY', 'daysCharged': 3},\n",
       "   {'dayOfWeek': 'SATURDAY', 'daysCharged': 0},\n",
       "   {'dayOfWeek': 'SUNDAY', 'daysCharged': 0}]}}"
      ]
     },
     "execution_count": 61,
     "metadata": {},
     "output_type": "execute_result"
    }
   ],
   "source": [
    "instruments_list[0]"
   ]
  },
  {
   "cell_type": "code",
   "execution_count": null,
   "id": "9240ca7e",
   "metadata": {},
   "outputs": [],
   "source": []
  }
 ],
 "metadata": {
  "kernelspec": {
   "display_name": "Python 3 (ipykernel)",
   "language": "python",
   "name": "python3"
  },
  "language_info": {
   "codemirror_mode": {
    "name": "ipython",
    "version": 3
   },
   "file_extension": ".py",
   "mimetype": "text/x-python",
   "name": "python",
   "nbconvert_exporter": "python",
   "pygments_lexer": "ipython3",
   "version": "3.9.10"
  }
 },
 "nbformat": 4,
 "nbformat_minor": 5
}
