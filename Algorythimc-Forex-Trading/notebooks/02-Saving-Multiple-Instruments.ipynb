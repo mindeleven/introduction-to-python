{
 "cells": [
  {
   "cell_type": "markdown",
   "id": "fd774ba7",
   "metadata": {},
   "source": [
    "# Saving Multiple Instruments to a Data File"
   ]
  },
  {
   "cell_type": "code",
   "execution_count": 2,
   "id": "9d76025f",
   "metadata": {},
   "outputs": [],
   "source": [
    "import requests\n",
    "import pandas as pd\n",
    "import json\n",
    "from dateutil import parser"
   ]
  },
  {
   "cell_type": "markdown",
   "id": "11806305",
   "metadata": {},
   "source": [
    "Repeating some steps from notebook 01-Fetching-Data-from-Oanda-API-Endpoints"
   ]
  },
  {
   "cell_type": "code",
   "execution_count": 3,
   "id": "9d35c608",
   "metadata": {},
   "outputs": [],
   "source": [
    "# get the account access data\n",
    "account_data = pd.read_csv(\"~/Documents/temp/oanda/testnet_key.txt\", sep=\" \", header=None)\n",
    "API_KEY = account_data[0][2]\n",
    "ACCOUNT_ID = account_data[0][1]\n",
    "OANDA_URL = account_data[0][0]"
   ]
  },
  {
   "cell_type": "code",
   "execution_count": 5,
   "id": "0a49b2f9",
   "metadata": {},
   "outputs": [],
   "source": [
    "# start session\n",
    "session = requests.Session()"
   ]
  },
  {
   "cell_type": "code",
   "execution_count": 24,
   "id": "bde0ea39",
   "metadata": {},
   "outputs": [],
   "source": [
    "session.headers.update({\n",
    "    \"Authorization\": f\"Bearer {API_KEY}\",\n",
    "    \"Content-Type\": \"application/json\"\n",
    "})"
   ]
  },
  {
   "cell_type": "code",
   "execution_count": 25,
   "id": "a3aaa67e",
   "metadata": {},
   "outputs": [],
   "source": [
    "params = dict(\n",
    "    count = 10,\n",
    "    granularity = \"H1\",\n",
    "    price = \"MBA\"\n",
    ")"
   ]
  },
  {
   "cell_type": "code",
   "execution_count": 26,
   "id": "b73e0368",
   "metadata": {},
   "outputs": [
    {
     "data": {
      "text/plain": [
       "'https://api-fxpractice.oanda.com/v3/accounts/101-012-22793269-001/instruments'"
      ]
     },
     "execution_count": 26,
     "metadata": {},
     "output_type": "execute_result"
    }
   ],
   "source": [
    "# Fetching Data from the Instruments Endpoint\n",
    "url_inst = f\"{OANDA_URL}/accounts/{ACCOUNT_ID}/instruments\"\n",
    "url_inst"
   ]
  },
  {
   "cell_type": "code",
   "execution_count": 27,
   "id": "7fe5771c",
   "metadata": {},
   "outputs": [
    {
     "data": {
      "text/plain": [
       "200"
      ]
     },
     "execution_count": 27,
     "metadata": {},
     "output_type": "execute_result"
    }
   ],
   "source": [
    "response = session.get(url_inst, params=params, data=None, headers=None)\n",
    "response.status_code"
   ]
  },
  {
   "cell_type": "code",
   "execution_count": 30,
   "id": "8f72d1dc",
   "metadata": {},
   "outputs": [],
   "source": [
    "data = response.json() # dict_keys(['instruments', 'lastTransactionID'])\n",
    "instruments_list = data[\"instruments\"]"
   ]
  },
  {
   "cell_type": "code",
   "execution_count": 32,
   "id": "98b83268",
   "metadata": {},
   "outputs": [
    {
     "data": {
      "text/plain": [
       "129"
      ]
     },
     "execution_count": 32,
     "metadata": {},
     "output_type": "execute_result"
    }
   ],
   "source": [
    "len(instruments_list)"
   ]
  },
  {
   "cell_type": "code",
   "execution_count": 33,
   "id": "2454253c",
   "metadata": {},
   "outputs": [],
   "source": [
    "# list of keys we're intersted in getting \n",
    "key_i = ['name', 'type', 'displayName', 'pipLocation', 'displayPrecision', \n",
    "         'tradeUnitsPrecision', 'marginRate']"
   ]
  },
  {
   "cell_type": "code",
   "execution_count": 38,
   "id": "2d30e0bd",
   "metadata": {},
   "outputs": [],
   "source": [
    "instruments_dict = {}\n",
    "for i in instruments_list:\n",
    "    # print(i['name'])\n",
    "    key = i['name']\n",
    "    instruments_dict[key] = {\n",
    "        k: i[k] for k in key_i\n",
    "    }"
   ]
  },
  {
   "cell_type": "code",
   "execution_count": 45,
   "id": "08389085",
   "metadata": {},
   "outputs": [],
   "source": [
    "# Fetching a candle pair\n",
    "def fetch_candles(api_url, pair_name, count=\"10\", granularity=\"H1\"):\n",
    "    url = f\"{api_url}/instruments/{pair_name}/candles\"\n",
    "    params = dict(\n",
    "        count = count,\n",
    "        granularity = granularity,\n",
    "        price = \"MBA\"\n",
    "    )\n",
    "    response = session.get(url, params=params, data=None, headers=None)\n",
    "    data = response.json()\n",
    "    \n",
    "    status = response.status_code\n",
    "    \n",
    "    if status == 200:\n",
    "        if 'candles' not in data:\n",
    "            data = []\n",
    "        else:\n",
    "            data = data['candles']\n",
    "    \n",
    "    return status, data"
   ]
  },
  {
   "cell_type": "code",
   "execution_count": 46,
   "id": "e1c36785",
   "metadata": {},
   "outputs": [],
   "source": [
    "# Saving the fetched Candles in a Data File\n",
    "def create_data_file(api_url, pair_name, count=\"10\", granularity=\"H1\"):\n",
    "    \n",
    "    status, data = fetch_candles(\n",
    "        api_url, \n",
    "        pair_name, \n",
    "        count=count, \n",
    "        granularity=granularity\n",
    "    )\n",
    "    \n",
    "    if status != 200:\n",
    "        print(\"Failed\", pair_name, data)\n",
    "        return    \n",
    "    \n",
    "    if len(data) == 0:\n",
    "        print(\"No candles\", pair_name)\n",
    "        return\n",
    "    \n",
    "    candles_df = get_candles_df(data)\n",
    "    # safe compressed data frame to file\n",
    "    candles_df.to_pickle(f\"Data/{pair_name}_{granularity}.pkl\")\n",
    "    print(f\"{pair_name} {granularity} {candles_df.shape[0]} candles, {candles_df.time.min()} {candles_df.time.max()}\")"
   ]
  },
  {
   "cell_type": "code",
   "execution_count": 49,
   "id": "2a29eff3",
   "metadata": {},
   "outputs": [],
   "source": [
    "# collecting certain info from the instruments\n",
    "# and converting it to a data frame\n",
    "def get_candles_df(data):\n",
    "    if len(data) == 0:\n",
    "        return pd.DataFrame()\n",
    "    \n",
    "    prices = ['mid', 'bid', 'ask']\n",
    "    ohlc = ['o', 'h', 'l', 'c']\n",
    "    final_data = []\n",
    "    \n",
    "    for candle in data:\n",
    "        if candle['complete'] == False:\n",
    "            continue\n",
    "        new_dict = {}\n",
    "        new_dict['time'] = parser.parse(candle['time'])\n",
    "        new_dict['volume'] = candle['volume']\n",
    "        # loop through the prices and make for each one a column key \n",
    "        # that looks like mid_c, mid_o, mid_h, mid_c\n",
    "        for p in prices:\n",
    "            for o in ohlc:\n",
    "                new_dict[f\"{p}_{o}\"] = float(candle[p][o])\n",
    "        final_data.append(new_dict)\n",
    "    df = pd.DataFrame.from_dict(final_data)\n",
    "    return df"
   ]
  },
  {
   "cell_type": "code",
   "execution_count": 50,
   "id": "11870f8e",
   "metadata": {},
   "outputs": [],
   "source": [
    "# list of tradeable currencies\n",
    "our_curr = ['EUR', 'USD', 'GBP', 'JPY', 'CHF', 'NZD', 'CAD', 'AUD']"
   ]
  },
  {
   "cell_type": "code",
   "execution_count": 52,
   "id": "b0294475",
   "metadata": {},
   "outputs": [
    {
     "name": "stdout",
     "output_type": "stream",
     "text": [
      "EUR_USD H1 4000 candles, 2021-11-30 19:00:00+00:00 2022-07-21 12:00:00+00:00\n",
      "EUR_USD H4 4000 candles, 2019-12-26 22:00:00+00:00 2022-07-21 09:00:00+00:00\n",
      "EUR_GBP H1 4000 candles, 2021-11-30 17:00:00+00:00 2022-07-21 12:00:00+00:00\n",
      "EUR_GBP H4 4000 candles, 2019-12-26 22:00:00+00:00 2022-07-21 09:00:00+00:00\n",
      "EUR_JPY H1 4000 candles, 2021-11-30 11:00:00+00:00 2022-07-21 12:00:00+00:00\n",
      "EUR_JPY H4 4000 candles, 2019-12-26 14:00:00+00:00 2022-07-21 09:00:00+00:00\n",
      "EUR_CHF H1 4000 candles, 2021-11-30 20:00:00+00:00 2022-07-21 12:00:00+00:00\n",
      "EUR_CHF H4 4000 candles, 2019-12-26 22:00:00+00:00 2022-07-21 09:00:00+00:00\n",
      "EUR_NZD H1 4000 candles, 2021-11-30 19:00:00+00:00 2022-07-21 12:00:00+00:00\n",
      "EUR_NZD H4 4000 candles, 2019-12-26 22:00:00+00:00 2022-07-21 09:00:00+00:00\n",
      "EUR_CAD H1 4000 candles, 2021-11-30 20:00:00+00:00 2022-07-21 12:00:00+00:00\n",
      "EUR_CAD H4 4000 candles, 2019-12-26 22:00:00+00:00 2022-07-21 09:00:00+00:00\n",
      "EUR_AUD H1 4000 candles, 2021-11-30 18:00:00+00:00 2022-07-21 12:00:00+00:00\n",
      "EUR_AUD H4 4000 candles, 2019-12-26 22:00:00+00:00 2022-07-21 09:00:00+00:00\n",
      "USD_JPY H1 4000 candles, 2021-11-30 19:00:00+00:00 2022-07-21 12:00:00+00:00\n",
      "USD_JPY H4 4000 candles, 2019-12-27 02:00:00+00:00 2022-07-21 09:00:00+00:00\n",
      "USD_CHF H1 4000 candles, 2021-11-30 15:00:00+00:00 2022-07-21 12:00:00+00:00\n",
      "USD_CHF H4 4000 candles, 2019-12-26 22:00:00+00:00 2022-07-21 09:00:00+00:00\n",
      "USD_CAD H1 4000 candles, 2021-11-30 20:00:00+00:00 2022-07-21 12:00:00+00:00\n",
      "USD_CAD H4 4000 candles, 2019-12-26 22:00:00+00:00 2022-07-21 09:00:00+00:00\n",
      "GBP_USD H1 4000 candles, 2021-11-30 19:00:00+00:00 2022-07-21 12:00:00+00:00\n",
      "GBP_USD H4 4000 candles, 2019-12-26 22:00:00+00:00 2022-07-21 09:00:00+00:00\n",
      "GBP_JPY H1 4000 candles, 2021-11-30 20:00:00+00:00 2022-07-21 12:00:00+00:00\n",
      "GBP_JPY H4 4000 candles, 2019-12-26 22:00:00+00:00 2022-07-21 09:00:00+00:00\n",
      "GBP_CHF H1 4000 candles, 2021-11-30 20:00:00+00:00 2022-07-21 12:00:00+00:00\n",
      "GBP_CHF H4 4000 candles, 2019-12-26 22:00:00+00:00 2022-07-21 09:00:00+00:00\n",
      "GBP_NZD H1 4000 candles, 2021-11-30 19:00:00+00:00 2022-07-21 12:00:00+00:00\n",
      "GBP_NZD H4 4000 candles, 2019-12-26 22:00:00+00:00 2022-07-21 09:00:00+00:00\n",
      "GBP_CAD H1 4000 candles, 2021-11-30 20:00:00+00:00 2022-07-21 12:00:00+00:00\n",
      "GBP_CAD H4 4000 candles, 2019-12-26 22:00:00+00:00 2022-07-21 09:00:00+00:00\n",
      "GBP_AUD H1 4000 candles, 2021-11-30 19:00:00+00:00 2022-07-21 12:00:00+00:00\n",
      "GBP_AUD H4 4000 candles, 2019-12-26 22:00:00+00:00 2022-07-21 09:00:00+00:00\n",
      "CHF_JPY H1 4000 candles, 2021-11-30 20:00:00+00:00 2022-07-21 12:00:00+00:00\n",
      "CHF_JPY H4 4000 candles, 2019-12-26 22:00:00+00:00 2022-07-21 09:00:00+00:00\n",
      "NZD_USD H1 4000 candles, 2021-11-30 16:00:00+00:00 2022-07-21 12:00:00+00:00\n",
      "NZD_USD H4 4000 candles, 2019-12-27 02:00:00+00:00 2022-07-21 09:00:00+00:00\n",
      "NZD_JPY H1 4000 candles, 2021-11-30 19:00:00+00:00 2022-07-21 12:00:00+00:00\n",
      "NZD_JPY H4 4000 candles, 2019-12-27 02:00:00+00:00 2022-07-21 09:00:00+00:00\n",
      "NZD_CHF H1 4000 candles, 2021-11-30 13:00:00+00:00 2022-07-21 12:00:00+00:00\n",
      "NZD_CHF H4 4000 candles, 2019-12-26 18:00:00+00:00 2022-07-21 09:00:00+00:00\n",
      "NZD_CAD H1 4000 candles, 2021-11-30 19:00:00+00:00 2022-07-21 12:00:00+00:00\n",
      "NZD_CAD H4 4000 candles, 2019-12-26 22:00:00+00:00 2022-07-21 09:00:00+00:00\n",
      "CAD_JPY H1 4000 candles, 2021-11-30 20:00:00+00:00 2022-07-21 12:00:00+00:00\n",
      "CAD_JPY H4 4000 candles, 2019-12-26 22:00:00+00:00 2022-07-21 09:00:00+00:00\n",
      "CAD_CHF H1 4000 candles, 2021-11-30 20:00:00+00:00 2022-07-21 12:00:00+00:00\n",
      "CAD_CHF H4 4000 candles, 2019-12-26 22:00:00+00:00 2022-07-21 09:00:00+00:00\n",
      "AUD_USD H1 4000 candles, 2021-11-30 14:00:00+00:00 2022-07-21 12:00:00+00:00\n",
      "AUD_USD H4 4000 candles, 2019-12-26 22:00:00+00:00 2022-07-21 09:00:00+00:00\n",
      "AUD_JPY H1 4000 candles, 2021-12-01 06:00:00+00:00 2022-07-21 12:00:00+00:00\n",
      "AUD_JPY H4 4000 candles, 2019-12-29 22:00:00+00:00 2022-07-21 09:00:00+00:00\n",
      "AUD_CHF H1 4000 candles, 2021-11-30 13:00:00+00:00 2022-07-21 12:00:00+00:00\n",
      "AUD_CHF H4 4000 candles, 2019-12-26 18:00:00+00:00 2022-07-21 09:00:00+00:00\n",
      "AUD_NZD H1 4000 candles, 2021-11-30 13:00:00+00:00 2022-07-21 12:00:00+00:00\n",
      "AUD_NZD H4 4000 candles, 2019-12-26 18:00:00+00:00 2022-07-21 09:00:00+00:00\n",
      "AUD_CAD H1 4000 candles, 2021-11-30 20:00:00+00:00 2022-07-21 12:00:00+00:00\n",
      "AUD_CAD H4 4000 candles, 2019-12-26 22:00:00+00:00 2022-07-21 09:00:00+00:00\n"
     ]
    }
   ],
   "source": [
    "for p1 in our_curr:\n",
    "    for p2 in our_curr:\n",
    "        pr = f\"{p1}_{p2}\"\n",
    "        if pr in instruments_dict:\n",
    "            for g in [\"H1\", \"H4\"]:\n",
    "                create_data_file(OANDA_URL, pr, count=4001, granularity=g)"
   ]
  },
  {
   "cell_type": "code",
   "execution_count": null,
   "id": "a81e5cf9",
   "metadata": {},
   "outputs": [],
   "source": []
  }
 ],
 "metadata": {
  "kernelspec": {
   "display_name": "Python 3 (ipykernel)",
   "language": "python",
   "name": "python3"
  },
  "language_info": {
   "codemirror_mode": {
    "name": "ipython",
    "version": 3
   },
   "file_extension": ".py",
   "mimetype": "text/x-python",
   "name": "python",
   "nbconvert_exporter": "python",
   "pygments_lexer": "ipython3",
   "version": "3.9.10"
  }
 },
 "nbformat": 4,
 "nbformat_minor": 5
}
