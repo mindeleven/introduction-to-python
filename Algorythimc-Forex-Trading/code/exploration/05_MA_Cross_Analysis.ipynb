{
 "cells": [
  {
   "cell_type": "code",
   "execution_count": 37,
   "id": "2faa026e",
   "metadata": {},
   "outputs": [],
   "source": [
    "import pandas as pd\n",
    "from plotting import CandlePlot\n",
    "# show all columns of a data frame on screen\n",
    "pd.set_option('display.max_columns', None)"
   ]
  },
  {
   "cell_type": "code",
   "execution_count": 38,
   "id": "bdf45c2f",
   "metadata": {},
   "outputs": [],
   "source": [
    "df_ma_res = pd.read_pickle(\"../../data/2022-08-20-11-ma_res.pkl\")\n",
    "df_ma_trades = pd.read_pickle(\"../../data/2022-08-20-11-ma_trades.pkl\")"
   ]
  },
  {
   "cell_type": "code",
   "execution_count": 39,
   "id": "6038d8ed",
   "metadata": {},
   "outputs": [
    {
     "name": "stdout",
     "output_type": "stream",
     "text": [
      "<class 'pandas.core.frame.DataFrame'>\n",
      "RangeIndex: 480 entries, 0 to 479\n",
      "Data columns (total 10 columns):\n",
      " #   Column       Non-Null Count  Dtype \n",
      "---  ------       --------------  ----- \n",
      " 0   pair         480 non-null    object\n",
      " 1   num_trades   480 non-null    int64 \n",
      " 2   total_gain   480 non-null    int64 \n",
      " 3   mean_gain    480 non-null    int64 \n",
      " 4   min_gain     480 non-null    int64 \n",
      " 5   max_gain     480 non-null    int64 \n",
      " 6   ma_l         480 non-null    object\n",
      " 7   ma_s         480 non-null    object\n",
      " 8   cross        480 non-null    object\n",
      " 9   granularity  480 non-null    object\n",
      "dtypes: int64(5), object(5)\n",
      "memory usage: 37.6+ KB\n"
     ]
    }
   ],
   "source": [
    "df_ma_res.info()"
   ]
  },
  {
   "cell_type": "code",
   "execution_count": 40,
   "id": "e5cbf195",
   "metadata": {},
   "outputs": [
    {
     "data": {
      "text/html": [
       "<div>\n",
       "<style scoped>\n",
       "    .dataframe tbody tr th:only-of-type {\n",
       "        vertical-align: middle;\n",
       "    }\n",
       "\n",
       "    .dataframe tbody tr th {\n",
       "        vertical-align: top;\n",
       "    }\n",
       "\n",
       "    .dataframe thead th {\n",
       "        text-align: right;\n",
       "    }\n",
       "</style>\n",
       "<table border=\"1\" class=\"dataframe\">\n",
       "  <thead>\n",
       "    <tr style=\"text-align: right;\">\n",
       "      <th></th>\n",
       "      <th>pair</th>\n",
       "      <th>num_trades</th>\n",
       "      <th>total_gain</th>\n",
       "      <th>mean_gain</th>\n",
       "      <th>min_gain</th>\n",
       "      <th>max_gain</th>\n",
       "      <th>ma_l</th>\n",
       "      <th>ma_s</th>\n",
       "      <th>cross</th>\n",
       "      <th>granularity</th>\n",
       "    </tr>\n",
       "  </thead>\n",
       "  <tbody>\n",
       "    <tr>\n",
       "      <th>0</th>\n",
       "      <td>EUR_USD</td>\n",
       "      <td>218</td>\n",
       "      <td>103</td>\n",
       "      <td>0</td>\n",
       "      <td>-155</td>\n",
       "      <td>224</td>\n",
       "      <td>MA_20</td>\n",
       "      <td>MA_10</td>\n",
       "      <td>MA_10_MA_20</td>\n",
       "      <td>H1</td>\n",
       "    </tr>\n",
       "    <tr>\n",
       "      <th>1</th>\n",
       "      <td>EUR_USD</td>\n",
       "      <td>128</td>\n",
       "      <td>-534</td>\n",
       "      <td>-4</td>\n",
       "      <td>-163</td>\n",
       "      <td>267</td>\n",
       "      <td>MA_40</td>\n",
       "      <td>MA_10</td>\n",
       "      <td>MA_10_MA_40</td>\n",
       "      <td>H1</td>\n",
       "    </tr>\n",
       "    <tr>\n",
       "      <th>2</th>\n",
       "      <td>EUR_USD</td>\n",
       "      <td>108</td>\n",
       "      <td>-79</td>\n",
       "      <td>0</td>\n",
       "      <td>-131</td>\n",
       "      <td>301</td>\n",
       "      <td>MA_40</td>\n",
       "      <td>MA_20</td>\n",
       "      <td>MA_20_MA_40</td>\n",
       "      <td>H1</td>\n",
       "    </tr>\n",
       "    <tr>\n",
       "      <th>3</th>\n",
       "      <td>EUR_USD</td>\n",
       "      <td>122</td>\n",
       "      <td>110</td>\n",
       "      <td>0</td>\n",
       "      <td>-169</td>\n",
       "      <td>260</td>\n",
       "      <td>MA_40</td>\n",
       "      <td>MA_30</td>\n",
       "      <td>MA_30_MA_40</td>\n",
       "      <td>H1</td>\n",
       "    </tr>\n",
       "    <tr>\n",
       "      <th>4</th>\n",
       "      <td>EUR_USD</td>\n",
       "      <td>93</td>\n",
       "      <td>270</td>\n",
       "      <td>2</td>\n",
       "      <td>-151</td>\n",
       "      <td>477</td>\n",
       "      <td>MA_80</td>\n",
       "      <td>MA_10</td>\n",
       "      <td>MA_10_MA_80</td>\n",
       "      <td>H1</td>\n",
       "    </tr>\n",
       "  </tbody>\n",
       "</table>\n",
       "</div>"
      ],
      "text/plain": [
       "      pair  num_trades  total_gain  mean_gain  min_gain  max_gain   ma_l  \\\n",
       "0  EUR_USD         218         103          0      -155       224  MA_20   \n",
       "1  EUR_USD         128        -534         -4      -163       267  MA_40   \n",
       "2  EUR_USD         108         -79          0      -131       301  MA_40   \n",
       "3  EUR_USD         122         110          0      -169       260  MA_40   \n",
       "4  EUR_USD          93         270          2      -151       477  MA_80   \n",
       "\n",
       "    ma_s        cross granularity  \n",
       "0  MA_10  MA_10_MA_20          H1  \n",
       "1  MA_10  MA_10_MA_40          H1  \n",
       "2  MA_20  MA_20_MA_40          H1  \n",
       "3  MA_30  MA_30_MA_40          H1  \n",
       "4  MA_10  MA_10_MA_80          H1  "
      ]
     },
     "execution_count": 40,
     "metadata": {},
     "output_type": "execute_result"
    }
   ],
   "source": [
    "df_ma_res.head()"
   ]
  },
  {
   "cell_type": "code",
   "execution_count": 41,
   "id": "721ac785",
   "metadata": {},
   "outputs": [
    {
     "data": {
      "text/plain": [
       "array(['H1', 'H4'], dtype=object)"
      ]
     },
     "execution_count": 41,
     "metadata": {},
     "output_type": "execute_result"
    }
   ],
   "source": [
    "# checking what granularitys we have\n",
    "df_ma_res.granularity.unique() # we have one hour and four hour results"
   ]
  },
  {
   "cell_type": "code",
   "execution_count": 42,
   "id": "30bf0b02",
   "metadata": {},
   "outputs": [],
   "source": [
    "# taking subset of data for one hour results\n",
    "df_ma_res_h1 = df_ma_res[df_ma_res.granularity == \"H1\"].copy()"
   ]
  },
  {
   "cell_type": "code",
   "execution_count": 43,
   "id": "779e95ce",
   "metadata": {},
   "outputs": [
    {
     "data": {
      "text/plain": [
       "(240, 10)"
      ]
     },
     "execution_count": 43,
     "metadata": {},
     "output_type": "execute_result"
    }
   ],
   "source": [
    "df_ma_res_h1.shape"
   ]
  },
  {
   "cell_type": "code",
   "execution_count": 44,
   "id": "af06bbb9",
   "metadata": {},
   "outputs": [
    {
     "name": "stdout",
     "output_type": "stream",
     "text": [
      "<class 'pandas.core.frame.DataFrame'>\n",
      "RangeIndex: 34781 entries, 0 to 34780\n",
      "Data columns (total 32 columns):\n",
      " #   Column       Non-Null Count  Dtype                  \n",
      "---  ------       --------------  -----                  \n",
      " 0   time         34781 non-null  datetime64[ns, tzutc()]\n",
      " 1   volume       34781 non-null  int64                  \n",
      " 2   mid_o        34781 non-null  float64                \n",
      " 3   mid_h        34781 non-null  float64                \n",
      " 4   mid_l        34781 non-null  float64                \n",
      " 5   mid_c        34781 non-null  float64                \n",
      " 6   bid_o        34781 non-null  float64                \n",
      " 7   bid_h        34781 non-null  float64                \n",
      " 8   bid_l        34781 non-null  float64                \n",
      " 9   bid_c        34781 non-null  float64                \n",
      " 10  ask_o        34781 non-null  float64                \n",
      " 11  ask_h        34781 non-null  float64                \n",
      " 12  ask_l        34781 non-null  float64                \n",
      " 13  ask_c        34781 non-null  float64                \n",
      " 14  MA_40        34781 non-null  float64                \n",
      " 15  MA_10        34781 non-null  float64                \n",
      " 16  MA_80        34781 non-null  float64                \n",
      " 17  MA_20        34781 non-null  float64                \n",
      " 18  MA_150       34781 non-null  float64                \n",
      " 19  MA_120       34781 non-null  float64                \n",
      " 20  MA_30        34781 non-null  float64                \n",
      " 21  DELTA        34781 non-null  float64                \n",
      " 22  DELTA_PREV   34781 non-null  float64                \n",
      " 23  TRADE        34781 non-null  int64                  \n",
      " 24  DIFF         34781 non-null  float64                \n",
      " 25  GAIN         34781 non-null  float64                \n",
      " 26  granularity  34781 non-null  object                 \n",
      " 27  pair         34781 non-null  object                 \n",
      " 28  GAIN_C       34781 non-null  float64                \n",
      " 29  ma_l         34781 non-null  object                 \n",
      " 30  ma_s         34781 non-null  object                 \n",
      " 31  cross        34781 non-null  object                 \n",
      "dtypes: datetime64[ns, tzutc()](1), float64(24), int64(2), object(5)\n",
      "memory usage: 8.5+ MB\n"
     ]
    }
   ],
   "source": [
    "df_ma_trades.info()"
   ]
  },
  {
   "cell_type": "code",
   "execution_count": 45,
   "id": "43b1298e",
   "metadata": {},
   "outputs": [
    {
     "data": {
      "text/html": [
       "<div>\n",
       "<style scoped>\n",
       "    .dataframe tbody tr th:only-of-type {\n",
       "        vertical-align: middle;\n",
       "    }\n",
       "\n",
       "    .dataframe tbody tr th {\n",
       "        vertical-align: top;\n",
       "    }\n",
       "\n",
       "    .dataframe thead th {\n",
       "        text-align: right;\n",
       "    }\n",
       "</style>\n",
       "<table border=\"1\" class=\"dataframe\">\n",
       "  <thead>\n",
       "    <tr style=\"text-align: right;\">\n",
       "      <th></th>\n",
       "      <th>time</th>\n",
       "      <th>volume</th>\n",
       "      <th>mid_o</th>\n",
       "      <th>mid_h</th>\n",
       "      <th>mid_l</th>\n",
       "      <th>mid_c</th>\n",
       "      <th>bid_o</th>\n",
       "      <th>bid_h</th>\n",
       "      <th>bid_l</th>\n",
       "      <th>bid_c</th>\n",
       "      <th>ask_o</th>\n",
       "      <th>ask_h</th>\n",
       "      <th>ask_l</th>\n",
       "      <th>ask_c</th>\n",
       "      <th>MA_40</th>\n",
       "      <th>MA_10</th>\n",
       "      <th>MA_80</th>\n",
       "      <th>MA_20</th>\n",
       "      <th>MA_150</th>\n",
       "      <th>MA_120</th>\n",
       "      <th>MA_30</th>\n",
       "      <th>DELTA</th>\n",
       "      <th>DELTA_PREV</th>\n",
       "      <th>TRADE</th>\n",
       "      <th>DIFF</th>\n",
       "      <th>GAIN</th>\n",
       "      <th>granularity</th>\n",
       "      <th>pair</th>\n",
       "      <th>GAIN_C</th>\n",
       "      <th>ma_l</th>\n",
       "      <th>ma_s</th>\n",
       "      <th>cross</th>\n",
       "    </tr>\n",
       "  </thead>\n",
       "  <tbody>\n",
       "    <tr>\n",
       "      <th>0</th>\n",
       "      <td>2021-12-10 07:00:00+00:00</td>\n",
       "      <td>2452</td>\n",
       "      <td>1.12980</td>\n",
       "      <td>1.12980</td>\n",
       "      <td>1.12864</td>\n",
       "      <td>1.12942</td>\n",
       "      <td>1.12972</td>\n",
       "      <td>1.12973</td>\n",
       "      <td>1.12857</td>\n",
       "      <td>1.12935</td>\n",
       "      <td>1.12988</td>\n",
       "      <td>1.12988</td>\n",
       "      <td>1.12872</td>\n",
       "      <td>1.12950</td>\n",
       "      <td>1.131482</td>\n",
       "      <td>1.129589</td>\n",
       "      <td>1.129634</td>\n",
       "      <td>1.129580</td>\n",
       "      <td>1.129895</td>\n",
       "      <td>1.129560</td>\n",
       "      <td>1.130562</td>\n",
       "      <td>0.000009</td>\n",
       "      <td>-0.000113</td>\n",
       "      <td>1</td>\n",
       "      <td>-0.00263</td>\n",
       "      <td>-26.3</td>\n",
       "      <td>H1</td>\n",
       "      <td>EUR_USD</td>\n",
       "      <td>-26.3</td>\n",
       "      <td>MA_20</td>\n",
       "      <td>MA_10</td>\n",
       "      <td>MA_10_MA_20</td>\n",
       "    </tr>\n",
       "    <tr>\n",
       "      <th>1</th>\n",
       "      <td>2021-12-10 11:00:00+00:00</td>\n",
       "      <td>2547</td>\n",
       "      <td>1.12684</td>\n",
       "      <td>1.12744</td>\n",
       "      <td>1.12668</td>\n",
       "      <td>1.12679</td>\n",
       "      <td>1.12678</td>\n",
       "      <td>1.12738</td>\n",
       "      <td>1.12661</td>\n",
       "      <td>1.12673</td>\n",
       "      <td>1.12691</td>\n",
       "      <td>1.12751</td>\n",
       "      <td>1.12674</td>\n",
       "      <td>1.12685</td>\n",
       "      <td>1.130813</td>\n",
       "      <td>1.128908</td>\n",
       "      <td>1.129584</td>\n",
       "      <td>1.129039</td>\n",
       "      <td>1.129761</td>\n",
       "      <td>1.129476</td>\n",
       "      <td>1.129804</td>\n",
       "      <td>-0.000131</td>\n",
       "      <td>0.000080</td>\n",
       "      <td>-1</td>\n",
       "      <td>0.00433</td>\n",
       "      <td>-43.3</td>\n",
       "      <td>H1</td>\n",
       "      <td>EUR_USD</td>\n",
       "      <td>-69.6</td>\n",
       "      <td>MA_20</td>\n",
       "      <td>MA_10</td>\n",
       "      <td>MA_10_MA_20</td>\n",
       "    </tr>\n",
       "    <tr>\n",
       "      <th>2</th>\n",
       "      <td>2021-12-10 19:00:00+00:00</td>\n",
       "      <td>1053</td>\n",
       "      <td>1.13154</td>\n",
       "      <td>1.13170</td>\n",
       "      <td>1.13098</td>\n",
       "      <td>1.13112</td>\n",
       "      <td>1.13147</td>\n",
       "      <td>1.13163</td>\n",
       "      <td>1.13091</td>\n",
       "      <td>1.13105</td>\n",
       "      <td>1.13162</td>\n",
       "      <td>1.13177</td>\n",
       "      <td>1.13106</td>\n",
       "      <td>1.13119</td>\n",
       "      <td>1.130057</td>\n",
       "      <td>1.129550</td>\n",
       "      <td>1.129825</td>\n",
       "      <td>1.129476</td>\n",
       "      <td>1.129620</td>\n",
       "      <td>1.129462</td>\n",
       "      <td>1.129375</td>\n",
       "      <td>0.000074</td>\n",
       "      <td>-0.000128</td>\n",
       "      <td>1</td>\n",
       "      <td>-0.00207</td>\n",
       "      <td>-20.7</td>\n",
       "      <td>H1</td>\n",
       "      <td>EUR_USD</td>\n",
       "      <td>-90.3</td>\n",
       "      <td>MA_20</td>\n",
       "      <td>MA_10</td>\n",
       "      <td>MA_10_MA_20</td>\n",
       "    </tr>\n",
       "    <tr>\n",
       "      <th>3</th>\n",
       "      <td>2021-12-13 07:00:00+00:00</td>\n",
       "      <td>2471</td>\n",
       "      <td>1.12852</td>\n",
       "      <td>1.12918</td>\n",
       "      <td>1.12838</td>\n",
       "      <td>1.12905</td>\n",
       "      <td>1.12844</td>\n",
       "      <td>1.12911</td>\n",
       "      <td>1.12830</td>\n",
       "      <td>1.12898</td>\n",
       "      <td>1.12859</td>\n",
       "      <td>1.12925</td>\n",
       "      <td>1.12845</td>\n",
       "      <td>1.12912</td>\n",
       "      <td>1.129648</td>\n",
       "      <td>1.129980</td>\n",
       "      <td>1.130532</td>\n",
       "      <td>1.130258</td>\n",
       "      <td>1.129593</td>\n",
       "      <td>1.129546</td>\n",
       "      <td>1.129808</td>\n",
       "      <td>-0.000278</td>\n",
       "      <td>0.000108</td>\n",
       "      <td>-1</td>\n",
       "      <td>-0.00043</td>\n",
       "      <td>4.3</td>\n",
       "      <td>H1</td>\n",
       "      <td>EUR_USD</td>\n",
       "      <td>-86.0</td>\n",
       "      <td>MA_20</td>\n",
       "      <td>MA_10</td>\n",
       "      <td>MA_10_MA_20</td>\n",
       "    </tr>\n",
       "    <tr>\n",
       "      <th>4</th>\n",
       "      <td>2021-12-13 21:00:00+00:00</td>\n",
       "      <td>581</td>\n",
       "      <td>1.12842</td>\n",
       "      <td>1.12876</td>\n",
       "      <td>1.12818</td>\n",
       "      <td>1.12862</td>\n",
       "      <td>1.12835</td>\n",
       "      <td>1.12869</td>\n",
       "      <td>1.12810</td>\n",
       "      <td>1.12854</td>\n",
       "      <td>1.12850</td>\n",
       "      <td>1.12883</td>\n",
       "      <td>1.12825</td>\n",
       "      <td>1.12871</td>\n",
       "      <td>1.129256</td>\n",
       "      <td>1.128665</td>\n",
       "      <td>1.130425</td>\n",
       "      <td>1.128579</td>\n",
       "      <td>1.129465</td>\n",
       "      <td>1.129487</td>\n",
       "      <td>1.129484</td>\n",
       "      <td>0.000086</td>\n",
       "      <td>-0.000129</td>\n",
       "      <td>1</td>\n",
       "      <td>-0.00088</td>\n",
       "      <td>-8.8</td>\n",
       "      <td>H1</td>\n",
       "      <td>EUR_USD</td>\n",
       "      <td>-94.8</td>\n",
       "      <td>MA_20</td>\n",
       "      <td>MA_10</td>\n",
       "      <td>MA_10_MA_20</td>\n",
       "    </tr>\n",
       "  </tbody>\n",
       "</table>\n",
       "</div>"
      ],
      "text/plain": [
       "                       time  volume    mid_o    mid_h    mid_l    mid_c  \\\n",
       "0 2021-12-10 07:00:00+00:00    2452  1.12980  1.12980  1.12864  1.12942   \n",
       "1 2021-12-10 11:00:00+00:00    2547  1.12684  1.12744  1.12668  1.12679   \n",
       "2 2021-12-10 19:00:00+00:00    1053  1.13154  1.13170  1.13098  1.13112   \n",
       "3 2021-12-13 07:00:00+00:00    2471  1.12852  1.12918  1.12838  1.12905   \n",
       "4 2021-12-13 21:00:00+00:00     581  1.12842  1.12876  1.12818  1.12862   \n",
       "\n",
       "     bid_o    bid_h    bid_l    bid_c    ask_o    ask_h    ask_l    ask_c  \\\n",
       "0  1.12972  1.12973  1.12857  1.12935  1.12988  1.12988  1.12872  1.12950   \n",
       "1  1.12678  1.12738  1.12661  1.12673  1.12691  1.12751  1.12674  1.12685   \n",
       "2  1.13147  1.13163  1.13091  1.13105  1.13162  1.13177  1.13106  1.13119   \n",
       "3  1.12844  1.12911  1.12830  1.12898  1.12859  1.12925  1.12845  1.12912   \n",
       "4  1.12835  1.12869  1.12810  1.12854  1.12850  1.12883  1.12825  1.12871   \n",
       "\n",
       "      MA_40     MA_10     MA_80     MA_20    MA_150    MA_120     MA_30  \\\n",
       "0  1.131482  1.129589  1.129634  1.129580  1.129895  1.129560  1.130562   \n",
       "1  1.130813  1.128908  1.129584  1.129039  1.129761  1.129476  1.129804   \n",
       "2  1.130057  1.129550  1.129825  1.129476  1.129620  1.129462  1.129375   \n",
       "3  1.129648  1.129980  1.130532  1.130258  1.129593  1.129546  1.129808   \n",
       "4  1.129256  1.128665  1.130425  1.128579  1.129465  1.129487  1.129484   \n",
       "\n",
       "      DELTA  DELTA_PREV  TRADE     DIFF  GAIN granularity     pair  GAIN_C  \\\n",
       "0  0.000009   -0.000113      1 -0.00263 -26.3          H1  EUR_USD   -26.3   \n",
       "1 -0.000131    0.000080     -1  0.00433 -43.3          H1  EUR_USD   -69.6   \n",
       "2  0.000074   -0.000128      1 -0.00207 -20.7          H1  EUR_USD   -90.3   \n",
       "3 -0.000278    0.000108     -1 -0.00043   4.3          H1  EUR_USD   -86.0   \n",
       "4  0.000086   -0.000129      1 -0.00088  -8.8          H1  EUR_USD   -94.8   \n",
       "\n",
       "    ma_l   ma_s        cross  \n",
       "0  MA_20  MA_10  MA_10_MA_20  \n",
       "1  MA_20  MA_10  MA_10_MA_20  \n",
       "2  MA_20  MA_10  MA_10_MA_20  \n",
       "3  MA_20  MA_10  MA_10_MA_20  \n",
       "4  MA_20  MA_10  MA_10_MA_20  "
      ]
     },
     "execution_count": 45,
     "metadata": {},
     "output_type": "execute_result"
    }
   ],
   "source": [
    "df_ma_trades.head()"
   ]
  },
  {
   "cell_type": "code",
   "execution_count": 46,
   "id": "3b8e2a62",
   "metadata": {},
   "outputs": [
    {
     "data": {
      "text/plain": [
       "(34781, 32)"
      ]
     },
     "execution_count": 46,
     "metadata": {},
     "output_type": "execute_result"
    }
   ],
   "source": [
    "df_ma_trades.shape"
   ]
  },
  {
   "cell_type": "code",
   "execution_count": 47,
   "id": "c4fc4a64",
   "metadata": {},
   "outputs": [
    {
     "data": {
      "text/plain": [
       "array(['H1', 'H4'], dtype=object)"
      ]
     },
     "execution_count": 47,
     "metadata": {},
     "output_type": "execute_result"
    }
   ],
   "source": [
    "# checking what granularitys we have\n",
    "df_ma_trades.granularity.unique() # we have one hour and four hour results"
   ]
  },
  {
   "cell_type": "code",
   "execution_count": 48,
   "id": "a97d12a4",
   "metadata": {},
   "outputs": [],
   "source": [
    "# taking subset of data for one hour results\n",
    "df_ma_trades_h1 = df_ma_trades[df_ma_trades.granularity == \"H1\"].copy()"
   ]
  },
  {
   "cell_type": "code",
   "execution_count": 49,
   "id": "d509cf9d",
   "metadata": {},
   "outputs": [
    {
     "data": {
      "text/plain": [
       "(17120, 32)"
      ]
     },
     "execution_count": 49,
     "metadata": {},
     "output_type": "execute_result"
    }
   ],
   "source": [
    "df_ma_trades_h1.shape"
   ]
  },
  {
   "cell_type": "code",
   "execution_count": 50,
   "id": "013d665e",
   "metadata": {},
   "outputs": [
    {
     "data": {
      "text/plain": [
       "Index(['pair', 'num_trades', 'total_gain', 'mean_gain', 'min_gain', 'max_gain',\n",
       "       'ma_l', 'ma_s', 'cross', 'granularity'],\n",
       "      dtype='object')"
      ]
     },
     "execution_count": 50,
     "metadata": {},
     "output_type": "execute_result"
    }
   ],
   "source": [
    "# have a look at what crosses where eventually effective\n",
    "# number of columns on the data frame\n",
    "df_ma_res_h1.columns"
   ]
  },
  {
   "cell_type": "code",
   "execution_count": 51,
   "id": "8ffb78f8",
   "metadata": {},
   "outputs": [],
   "source": [
    "# group columns by pair, total_gain, num_trades, cross\n",
    "# copy of data frame of one hourly results\n",
    "df_cross_summary = df_ma_res_h1[['pair', 'num_trades', 'total_gain', 'cross']].copy()"
   ]
  },
  {
   "cell_type": "code",
   "execution_count": 52,
   "id": "4c5964cd",
   "metadata": {},
   "outputs": [
    {
     "data": {
      "text/html": [
       "<div>\n",
       "<style scoped>\n",
       "    .dataframe tbody tr th:only-of-type {\n",
       "        vertical-align: middle;\n",
       "    }\n",
       "\n",
       "    .dataframe tbody tr th {\n",
       "        vertical-align: top;\n",
       "    }\n",
       "\n",
       "    .dataframe thead th {\n",
       "        text-align: right;\n",
       "    }\n",
       "</style>\n",
       "<table border=\"1\" class=\"dataframe\">\n",
       "  <thead>\n",
       "    <tr style=\"text-align: right;\">\n",
       "      <th></th>\n",
       "      <th>pair</th>\n",
       "      <th>num_trades</th>\n",
       "      <th>total_gain</th>\n",
       "      <th>cross</th>\n",
       "    </tr>\n",
       "  </thead>\n",
       "  <tbody>\n",
       "    <tr>\n",
       "      <th>0</th>\n",
       "      <td>EUR_USD</td>\n",
       "      <td>218</td>\n",
       "      <td>103</td>\n",
       "      <td>MA_10_MA_20</td>\n",
       "    </tr>\n",
       "    <tr>\n",
       "      <th>1</th>\n",
       "      <td>EUR_USD</td>\n",
       "      <td>128</td>\n",
       "      <td>-534</td>\n",
       "      <td>MA_10_MA_40</td>\n",
       "    </tr>\n",
       "    <tr>\n",
       "      <th>2</th>\n",
       "      <td>EUR_USD</td>\n",
       "      <td>108</td>\n",
       "      <td>-79</td>\n",
       "      <td>MA_20_MA_40</td>\n",
       "    </tr>\n",
       "    <tr>\n",
       "      <th>3</th>\n",
       "      <td>EUR_USD</td>\n",
       "      <td>122</td>\n",
       "      <td>110</td>\n",
       "      <td>MA_30_MA_40</td>\n",
       "    </tr>\n",
       "    <tr>\n",
       "      <th>4</th>\n",
       "      <td>EUR_USD</td>\n",
       "      <td>93</td>\n",
       "      <td>270</td>\n",
       "      <td>MA_10_MA_80</td>\n",
       "    </tr>\n",
       "    <tr>\n",
       "      <th>...</th>\n",
       "      <td>...</td>\n",
       "      <td>...</td>\n",
       "      <td>...</td>\n",
       "      <td>...</td>\n",
       "    </tr>\n",
       "    <tr>\n",
       "      <th>235</th>\n",
       "      <td>CAD_JPY</td>\n",
       "      <td>38</td>\n",
       "      <td>221</td>\n",
       "      <td>MA_40_MA_120</td>\n",
       "    </tr>\n",
       "    <tr>\n",
       "      <th>236</th>\n",
       "      <td>CAD_JPY</td>\n",
       "      <td>60</td>\n",
       "      <td>28</td>\n",
       "      <td>MA_10_MA_150</td>\n",
       "    </tr>\n",
       "    <tr>\n",
       "      <th>237</th>\n",
       "      <td>CAD_JPY</td>\n",
       "      <td>42</td>\n",
       "      <td>538</td>\n",
       "      <td>MA_20_MA_150</td>\n",
       "    </tr>\n",
       "    <tr>\n",
       "      <th>238</th>\n",
       "      <td>CAD_JPY</td>\n",
       "      <td>38</td>\n",
       "      <td>-281</td>\n",
       "      <td>MA_30_MA_150</td>\n",
       "    </tr>\n",
       "    <tr>\n",
       "      <th>239</th>\n",
       "      <td>CAD_JPY</td>\n",
       "      <td>30</td>\n",
       "      <td>582</td>\n",
       "      <td>MA_40_MA_150</td>\n",
       "    </tr>\n",
       "  </tbody>\n",
       "</table>\n",
       "<p>240 rows × 4 columns</p>\n",
       "</div>"
      ],
      "text/plain": [
       "        pair  num_trades  total_gain         cross\n",
       "0    EUR_USD         218         103   MA_10_MA_20\n",
       "1    EUR_USD         128        -534   MA_10_MA_40\n",
       "2    EUR_USD         108         -79   MA_20_MA_40\n",
       "3    EUR_USD         122         110   MA_30_MA_40\n",
       "4    EUR_USD          93         270   MA_10_MA_80\n",
       "..       ...         ...         ...           ...\n",
       "235  CAD_JPY          38         221  MA_40_MA_120\n",
       "236  CAD_JPY          60          28  MA_10_MA_150\n",
       "237  CAD_JPY          42         538  MA_20_MA_150\n",
       "238  CAD_JPY          38        -281  MA_30_MA_150\n",
       "239  CAD_JPY          30         582  MA_40_MA_150\n",
       "\n",
       "[240 rows x 4 columns]"
      ]
     },
     "execution_count": 52,
     "metadata": {},
     "output_type": "execute_result"
    }
   ],
   "source": [
    "df_cross_summary"
   ]
  },
  {
   "cell_type": "code",
   "execution_count": 53,
   "id": "62eb113a",
   "metadata": {},
   "outputs": [],
   "source": [
    "df_cross_gr = df_cross_summary.groupby(by=\"cross\").sum()"
   ]
  },
  {
   "cell_type": "code",
   "execution_count": 54,
   "id": "0a378b63",
   "metadata": {},
   "outputs": [
    {
     "data": {
      "text/html": [
       "<div>\n",
       "<style scoped>\n",
       "    .dataframe tbody tr th:only-of-type {\n",
       "        vertical-align: middle;\n",
       "    }\n",
       "\n",
       "    .dataframe tbody tr th {\n",
       "        vertical-align: top;\n",
       "    }\n",
       "\n",
       "    .dataframe thead th {\n",
       "        text-align: right;\n",
       "    }\n",
       "</style>\n",
       "<table border=\"1\" class=\"dataframe\">\n",
       "  <thead>\n",
       "    <tr style=\"text-align: right;\">\n",
       "      <th></th>\n",
       "      <th>num_trades</th>\n",
       "      <th>total_gain</th>\n",
       "    </tr>\n",
       "    <tr>\n",
       "      <th>cross</th>\n",
       "      <th></th>\n",
       "      <th></th>\n",
       "    </tr>\n",
       "  </thead>\n",
       "  <tbody>\n",
       "    <tr>\n",
       "      <th>MA_10_MA_120</th>\n",
       "      <td>934</td>\n",
       "      <td>-413</td>\n",
       "    </tr>\n",
       "    <tr>\n",
       "      <th>MA_10_MA_150</th>\n",
       "      <td>834</td>\n",
       "      <td>2047</td>\n",
       "    </tr>\n",
       "    <tr>\n",
       "      <th>MA_10_MA_20</th>\n",
       "      <td>3171</td>\n",
       "      <td>7809</td>\n",
       "    </tr>\n",
       "    <tr>\n",
       "      <th>MA_10_MA_40</th>\n",
       "      <td>1720</td>\n",
       "      <td>11039</td>\n",
       "    </tr>\n",
       "    <tr>\n",
       "      <th>MA_10_MA_80</th>\n",
       "      <td>1140</td>\n",
       "      <td>6106</td>\n",
       "    </tr>\n",
       "    <tr>\n",
       "      <th>MA_20_MA_120</th>\n",
       "      <td>721</td>\n",
       "      <td>551</td>\n",
       "    </tr>\n",
       "    <tr>\n",
       "      <th>MA_20_MA_150</th>\n",
       "      <td>628</td>\n",
       "      <td>2204</td>\n",
       "    </tr>\n",
       "    <tr>\n",
       "      <th>MA_20_MA_40</th>\n",
       "      <td>1508</td>\n",
       "      <td>8146</td>\n",
       "    </tr>\n",
       "    <tr>\n",
       "      <th>MA_20_MA_80</th>\n",
       "      <td>873</td>\n",
       "      <td>3954</td>\n",
       "    </tr>\n",
       "    <tr>\n",
       "      <th>MA_30_MA_120</th>\n",
       "      <td>628</td>\n",
       "      <td>1430</td>\n",
       "    </tr>\n",
       "    <tr>\n",
       "      <th>MA_30_MA_150</th>\n",
       "      <td>559</td>\n",
       "      <td>177</td>\n",
       "    </tr>\n",
       "    <tr>\n",
       "      <th>MA_30_MA_40</th>\n",
       "      <td>1740</td>\n",
       "      <td>7315</td>\n",
       "    </tr>\n",
       "    <tr>\n",
       "      <th>MA_30_MA_80</th>\n",
       "      <td>806</td>\n",
       "      <td>4704</td>\n",
       "    </tr>\n",
       "    <tr>\n",
       "      <th>MA_40_MA_120</th>\n",
       "      <td>569</td>\n",
       "      <td>899</td>\n",
       "    </tr>\n",
       "    <tr>\n",
       "      <th>MA_40_MA_150</th>\n",
       "      <td>509</td>\n",
       "      <td>1158</td>\n",
       "    </tr>\n",
       "    <tr>\n",
       "      <th>MA_40_MA_80</th>\n",
       "      <td>780</td>\n",
       "      <td>1118</td>\n",
       "    </tr>\n",
       "  </tbody>\n",
       "</table>\n",
       "</div>"
      ],
      "text/plain": [
       "              num_trades  total_gain\n",
       "cross                               \n",
       "MA_10_MA_120         934        -413\n",
       "MA_10_MA_150         834        2047\n",
       "MA_10_MA_20         3171        7809\n",
       "MA_10_MA_40         1720       11039\n",
       "MA_10_MA_80         1140        6106\n",
       "MA_20_MA_120         721         551\n",
       "MA_20_MA_150         628        2204\n",
       "MA_20_MA_40         1508        8146\n",
       "MA_20_MA_80          873        3954\n",
       "MA_30_MA_120         628        1430\n",
       "MA_30_MA_150         559         177\n",
       "MA_30_MA_40         1740        7315\n",
       "MA_30_MA_80          806        4704\n",
       "MA_40_MA_120         569         899\n",
       "MA_40_MA_150         509        1158\n",
       "MA_40_MA_80          780        1118"
      ]
     },
     "execution_count": 54,
     "metadata": {},
     "output_type": "execute_result"
    }
   ],
   "source": [
    "df_cross_gr # datadrame where all of the crosses has been grouped"
   ]
  },
  {
   "cell_type": "code",
   "execution_count": 55,
   "id": "e0144263",
   "metadata": {},
   "outputs": [],
   "source": [
    "# fixing nested indexes with as_index\n",
    "df_cross_gr = df_cross_summary.groupby(by=\"cross\", as_index=False).sum()"
   ]
  },
  {
   "cell_type": "code",
   "execution_count": 56,
   "id": "0cb0b4e1",
   "metadata": {},
   "outputs": [],
   "source": [
    "# add sort by \n",
    "# modifying the data frame we're actually calling: inplace=True\n",
    "df_cross_gr.sort_values(by='total_gain', ascending=False, inplace=True)"
   ]
  },
  {
   "cell_type": "code",
   "execution_count": 57,
   "id": "178d7f6c",
   "metadata": {},
   "outputs": [
    {
     "data": {
      "text/html": [
       "<div>\n",
       "<style scoped>\n",
       "    .dataframe tbody tr th:only-of-type {\n",
       "        vertical-align: middle;\n",
       "    }\n",
       "\n",
       "    .dataframe tbody tr th {\n",
       "        vertical-align: top;\n",
       "    }\n",
       "\n",
       "    .dataframe thead th {\n",
       "        text-align: right;\n",
       "    }\n",
       "</style>\n",
       "<table border=\"1\" class=\"dataframe\">\n",
       "  <thead>\n",
       "    <tr style=\"text-align: right;\">\n",
       "      <th></th>\n",
       "      <th>cross</th>\n",
       "      <th>num_trades</th>\n",
       "      <th>total_gain</th>\n",
       "    </tr>\n",
       "  </thead>\n",
       "  <tbody>\n",
       "    <tr>\n",
       "      <th>3</th>\n",
       "      <td>MA_10_MA_40</td>\n",
       "      <td>1720</td>\n",
       "      <td>11039</td>\n",
       "    </tr>\n",
       "    <tr>\n",
       "      <th>7</th>\n",
       "      <td>MA_20_MA_40</td>\n",
       "      <td>1508</td>\n",
       "      <td>8146</td>\n",
       "    </tr>\n",
       "    <tr>\n",
       "      <th>2</th>\n",
       "      <td>MA_10_MA_20</td>\n",
       "      <td>3171</td>\n",
       "      <td>7809</td>\n",
       "    </tr>\n",
       "    <tr>\n",
       "      <th>11</th>\n",
       "      <td>MA_30_MA_40</td>\n",
       "      <td>1740</td>\n",
       "      <td>7315</td>\n",
       "    </tr>\n",
       "    <tr>\n",
       "      <th>4</th>\n",
       "      <td>MA_10_MA_80</td>\n",
       "      <td>1140</td>\n",
       "      <td>6106</td>\n",
       "    </tr>\n",
       "    <tr>\n",
       "      <th>12</th>\n",
       "      <td>MA_30_MA_80</td>\n",
       "      <td>806</td>\n",
       "      <td>4704</td>\n",
       "    </tr>\n",
       "    <tr>\n",
       "      <th>8</th>\n",
       "      <td>MA_20_MA_80</td>\n",
       "      <td>873</td>\n",
       "      <td>3954</td>\n",
       "    </tr>\n",
       "    <tr>\n",
       "      <th>6</th>\n",
       "      <td>MA_20_MA_150</td>\n",
       "      <td>628</td>\n",
       "      <td>2204</td>\n",
       "    </tr>\n",
       "    <tr>\n",
       "      <th>1</th>\n",
       "      <td>MA_10_MA_150</td>\n",
       "      <td>834</td>\n",
       "      <td>2047</td>\n",
       "    </tr>\n",
       "    <tr>\n",
       "      <th>9</th>\n",
       "      <td>MA_30_MA_120</td>\n",
       "      <td>628</td>\n",
       "      <td>1430</td>\n",
       "    </tr>\n",
       "    <tr>\n",
       "      <th>14</th>\n",
       "      <td>MA_40_MA_150</td>\n",
       "      <td>509</td>\n",
       "      <td>1158</td>\n",
       "    </tr>\n",
       "    <tr>\n",
       "      <th>15</th>\n",
       "      <td>MA_40_MA_80</td>\n",
       "      <td>780</td>\n",
       "      <td>1118</td>\n",
       "    </tr>\n",
       "    <tr>\n",
       "      <th>13</th>\n",
       "      <td>MA_40_MA_120</td>\n",
       "      <td>569</td>\n",
       "      <td>899</td>\n",
       "    </tr>\n",
       "    <tr>\n",
       "      <th>5</th>\n",
       "      <td>MA_20_MA_120</td>\n",
       "      <td>721</td>\n",
       "      <td>551</td>\n",
       "    </tr>\n",
       "    <tr>\n",
       "      <th>10</th>\n",
       "      <td>MA_30_MA_150</td>\n",
       "      <td>559</td>\n",
       "      <td>177</td>\n",
       "    </tr>\n",
       "    <tr>\n",
       "      <th>0</th>\n",
       "      <td>MA_10_MA_120</td>\n",
       "      <td>934</td>\n",
       "      <td>-413</td>\n",
       "    </tr>\n",
       "  </tbody>\n",
       "</table>\n",
       "</div>"
      ],
      "text/plain": [
       "           cross  num_trades  total_gain\n",
       "3    MA_10_MA_40        1720       11039\n",
       "7    MA_20_MA_40        1508        8146\n",
       "2    MA_10_MA_20        3171        7809\n",
       "11   MA_30_MA_40        1740        7315\n",
       "4    MA_10_MA_80        1140        6106\n",
       "12   MA_30_MA_80         806        4704\n",
       "8    MA_20_MA_80         873        3954\n",
       "6   MA_20_MA_150         628        2204\n",
       "1   MA_10_MA_150         834        2047\n",
       "9   MA_30_MA_120         628        1430\n",
       "14  MA_40_MA_150         509        1158\n",
       "15   MA_40_MA_80         780        1118\n",
       "13  MA_40_MA_120         569         899\n",
       "5   MA_20_MA_120         721         551\n",
       "10  MA_30_MA_150         559         177\n",
       "0   MA_10_MA_120         934        -413"
      ]
     },
     "execution_count": 57,
     "metadata": {},
     "output_type": "execute_result"
    }
   ],
   "source": [
    "df_cross_gr # spread is not taken into account\n",
    "# taking spread into account would most likely mean that positive looking results are negative\n",
    "# conclusion: strategy doesn't perform very well"
   ]
  },
  {
   "cell_type": "code",
   "execution_count": 58,
   "id": "6b9faf07",
   "metadata": {},
   "outputs": [
    {
     "data": {
      "text/plain": [
       "array(['EUR_USD', 'EUR_GBP', 'EUR_JPY', 'EUR_AUD', 'EUR_CAD', 'USD_JPY',\n",
       "       'USD_CAD', 'GBP_USD', 'GBP_JPY', 'GBP_AUD', 'GBP_CAD', 'AUD_USD',\n",
       "       'AUD_JPY', 'AUD_CAD', 'CAD_JPY'], dtype=object)"
      ]
     },
     "execution_count": 58,
     "metadata": {},
     "output_type": "execute_result"
    }
   ],
   "source": [
    "# what percentage of the crosses we've tested actually gave us a gain?\n",
    "# pairs we actually tested \n",
    "df_ma_res_h1.pair.unique()"
   ]
  },
  {
   "cell_type": "code",
   "execution_count": 59,
   "id": "59530913",
   "metadata": {},
   "outputs": [
    {
     "data": {
      "text/plain": [
       "15"
      ]
     },
     "execution_count": 59,
     "metadata": {},
     "output_type": "execute_result"
    }
   ],
   "source": [
    "# number of pairs we actually tested\n",
    "total_pairs = len(df_ma_res_h1.pair.unique())\n",
    "total_pairs"
   ]
  },
  {
   "cell_type": "code",
   "execution_count": 60,
   "id": "f4b87f19",
   "metadata": {},
   "outputs": [],
   "source": [
    "# data frame for single cross\n",
    "temp = df_ma_res_h1[df_ma_res_h1.cross == 'MA_10_MA_40']"
   ]
  },
  {
   "cell_type": "code",
   "execution_count": 61,
   "id": "4fce405b",
   "metadata": {},
   "outputs": [
    {
     "data": {
      "text/html": [
       "<div>\n",
       "<style scoped>\n",
       "    .dataframe tbody tr th:only-of-type {\n",
       "        vertical-align: middle;\n",
       "    }\n",
       "\n",
       "    .dataframe tbody tr th {\n",
       "        vertical-align: top;\n",
       "    }\n",
       "\n",
       "    .dataframe thead th {\n",
       "        text-align: right;\n",
       "    }\n",
       "</style>\n",
       "<table border=\"1\" class=\"dataframe\">\n",
       "  <thead>\n",
       "    <tr style=\"text-align: right;\">\n",
       "      <th></th>\n",
       "      <th>pair</th>\n",
       "      <th>num_trades</th>\n",
       "      <th>total_gain</th>\n",
       "      <th>mean_gain</th>\n",
       "      <th>min_gain</th>\n",
       "      <th>max_gain</th>\n",
       "      <th>ma_l</th>\n",
       "      <th>ma_s</th>\n",
       "      <th>cross</th>\n",
       "      <th>granularity</th>\n",
       "    </tr>\n",
       "  </thead>\n",
       "  <tbody>\n",
       "    <tr>\n",
       "      <th>1</th>\n",
       "      <td>EUR_USD</td>\n",
       "      <td>128</td>\n",
       "      <td>-534</td>\n",
       "      <td>-4</td>\n",
       "      <td>-163</td>\n",
       "      <td>267</td>\n",
       "      <td>MA_40</td>\n",
       "      <td>MA_10</td>\n",
       "      <td>MA_10_MA_40</td>\n",
       "      <td>H1</td>\n",
       "    </tr>\n",
       "    <tr>\n",
       "      <th>17</th>\n",
       "      <td>EUR_GBP</td>\n",
       "      <td>113</td>\n",
       "      <td>-433</td>\n",
       "      <td>-3</td>\n",
       "      <td>-67</td>\n",
       "      <td>158</td>\n",
       "      <td>MA_40</td>\n",
       "      <td>MA_10</td>\n",
       "      <td>MA_10_MA_40</td>\n",
       "      <td>H1</td>\n",
       "    </tr>\n",
       "    <tr>\n",
       "      <th>33</th>\n",
       "      <td>EUR_JPY</td>\n",
       "      <td>125</td>\n",
       "      <td>1192</td>\n",
       "      <td>9</td>\n",
       "      <td>-155</td>\n",
       "      <td>644</td>\n",
       "      <td>MA_40</td>\n",
       "      <td>MA_10</td>\n",
       "      <td>MA_10_MA_40</td>\n",
       "      <td>H1</td>\n",
       "    </tr>\n",
       "    <tr>\n",
       "      <th>49</th>\n",
       "      <td>EUR_AUD</td>\n",
       "      <td>116</td>\n",
       "      <td>2173</td>\n",
       "      <td>18</td>\n",
       "      <td>-152</td>\n",
       "      <td>732</td>\n",
       "      <td>MA_40</td>\n",
       "      <td>MA_10</td>\n",
       "      <td>MA_10_MA_40</td>\n",
       "      <td>H1</td>\n",
       "    </tr>\n",
       "    <tr>\n",
       "      <th>65</th>\n",
       "      <td>EUR_CAD</td>\n",
       "      <td>115</td>\n",
       "      <td>187</td>\n",
       "      <td>1</td>\n",
       "      <td>-134</td>\n",
       "      <td>510</td>\n",
       "      <td>MA_40</td>\n",
       "      <td>MA_10</td>\n",
       "      <td>MA_10_MA_40</td>\n",
       "      <td>H1</td>\n",
       "    </tr>\n",
       "    <tr>\n",
       "      <th>81</th>\n",
       "      <td>USD_JPY</td>\n",
       "      <td>120</td>\n",
       "      <td>1548</td>\n",
       "      <td>12</td>\n",
       "      <td>-81</td>\n",
       "      <td>365</td>\n",
       "      <td>MA_40</td>\n",
       "      <td>MA_10</td>\n",
       "      <td>MA_10_MA_40</td>\n",
       "      <td>H1</td>\n",
       "    </tr>\n",
       "    <tr>\n",
       "      <th>97</th>\n",
       "      <td>USD_CAD</td>\n",
       "      <td>117</td>\n",
       "      <td>110</td>\n",
       "      <td>0</td>\n",
       "      <td>-122</td>\n",
       "      <td>326</td>\n",
       "      <td>MA_40</td>\n",
       "      <td>MA_10</td>\n",
       "      <td>MA_10_MA_40</td>\n",
       "      <td>H1</td>\n",
       "    </tr>\n",
       "    <tr>\n",
       "      <th>113</th>\n",
       "      <td>GBP_USD</td>\n",
       "      <td>121</td>\n",
       "      <td>369</td>\n",
       "      <td>3</td>\n",
       "      <td>-228</td>\n",
       "      <td>486</td>\n",
       "      <td>MA_40</td>\n",
       "      <td>MA_10</td>\n",
       "      <td>MA_10_MA_40</td>\n",
       "      <td>H1</td>\n",
       "    </tr>\n",
       "    <tr>\n",
       "      <th>129</th>\n",
       "      <td>GBP_JPY</td>\n",
       "      <td>112</td>\n",
       "      <td>2239</td>\n",
       "      <td>19</td>\n",
       "      <td>-215</td>\n",
       "      <td>694</td>\n",
       "      <td>MA_40</td>\n",
       "      <td>MA_10</td>\n",
       "      <td>MA_10_MA_40</td>\n",
       "      <td>H1</td>\n",
       "    </tr>\n",
       "    <tr>\n",
       "      <th>145</th>\n",
       "      <td>GBP_AUD</td>\n",
       "      <td>116</td>\n",
       "      <td>431</td>\n",
       "      <td>3</td>\n",
       "      <td>-194</td>\n",
       "      <td>425</td>\n",
       "      <td>MA_40</td>\n",
       "      <td>MA_10</td>\n",
       "      <td>MA_10_MA_40</td>\n",
       "      <td>H1</td>\n",
       "    </tr>\n",
       "    <tr>\n",
       "      <th>161</th>\n",
       "      <td>GBP_CAD</td>\n",
       "      <td>105</td>\n",
       "      <td>45</td>\n",
       "      <td>0</td>\n",
       "      <td>-126</td>\n",
       "      <td>354</td>\n",
       "      <td>MA_40</td>\n",
       "      <td>MA_10</td>\n",
       "      <td>MA_10_MA_40</td>\n",
       "      <td>H1</td>\n",
       "    </tr>\n",
       "    <tr>\n",
       "      <th>177</th>\n",
       "      <td>AUD_USD</td>\n",
       "      <td>118</td>\n",
       "      <td>120</td>\n",
       "      <td>1</td>\n",
       "      <td>-87</td>\n",
       "      <td>264</td>\n",
       "      <td>MA_40</td>\n",
       "      <td>MA_10</td>\n",
       "      <td>MA_10_MA_40</td>\n",
       "      <td>H1</td>\n",
       "    </tr>\n",
       "    <tr>\n",
       "      <th>193</th>\n",
       "      <td>AUD_JPY</td>\n",
       "      <td>104</td>\n",
       "      <td>2111</td>\n",
       "      <td>20</td>\n",
       "      <td>-147</td>\n",
       "      <td>742</td>\n",
       "      <td>MA_40</td>\n",
       "      <td>MA_10</td>\n",
       "      <td>MA_10_MA_40</td>\n",
       "      <td>H1</td>\n",
       "    </tr>\n",
       "    <tr>\n",
       "      <th>209</th>\n",
       "      <td>AUD_CAD</td>\n",
       "      <td>112</td>\n",
       "      <td>-217</td>\n",
       "      <td>-1</td>\n",
       "      <td>-68</td>\n",
       "      <td>137</td>\n",
       "      <td>MA_40</td>\n",
       "      <td>MA_10</td>\n",
       "      <td>MA_10_MA_40</td>\n",
       "      <td>H1</td>\n",
       "    </tr>\n",
       "    <tr>\n",
       "      <th>225</th>\n",
       "      <td>CAD_JPY</td>\n",
       "      <td>98</td>\n",
       "      <td>1698</td>\n",
       "      <td>17</td>\n",
       "      <td>-115</td>\n",
       "      <td>661</td>\n",
       "      <td>MA_40</td>\n",
       "      <td>MA_10</td>\n",
       "      <td>MA_10_MA_40</td>\n",
       "      <td>H1</td>\n",
       "    </tr>\n",
       "  </tbody>\n",
       "</table>\n",
       "</div>"
      ],
      "text/plain": [
       "        pair  num_trades  total_gain  mean_gain  min_gain  max_gain   ma_l  \\\n",
       "1    EUR_USD         128        -534         -4      -163       267  MA_40   \n",
       "17   EUR_GBP         113        -433         -3       -67       158  MA_40   \n",
       "33   EUR_JPY         125        1192          9      -155       644  MA_40   \n",
       "49   EUR_AUD         116        2173         18      -152       732  MA_40   \n",
       "65   EUR_CAD         115         187          1      -134       510  MA_40   \n",
       "81   USD_JPY         120        1548         12       -81       365  MA_40   \n",
       "97   USD_CAD         117         110          0      -122       326  MA_40   \n",
       "113  GBP_USD         121         369          3      -228       486  MA_40   \n",
       "129  GBP_JPY         112        2239         19      -215       694  MA_40   \n",
       "145  GBP_AUD         116         431          3      -194       425  MA_40   \n",
       "161  GBP_CAD         105          45          0      -126       354  MA_40   \n",
       "177  AUD_USD         118         120          1       -87       264  MA_40   \n",
       "193  AUD_JPY         104        2111         20      -147       742  MA_40   \n",
       "209  AUD_CAD         112        -217         -1       -68       137  MA_40   \n",
       "225  CAD_JPY          98        1698         17      -115       661  MA_40   \n",
       "\n",
       "      ma_s        cross granularity  \n",
       "1    MA_10  MA_10_MA_40          H1  \n",
       "17   MA_10  MA_10_MA_40          H1  \n",
       "33   MA_10  MA_10_MA_40          H1  \n",
       "49   MA_10  MA_10_MA_40          H1  \n",
       "65   MA_10  MA_10_MA_40          H1  \n",
       "81   MA_10  MA_10_MA_40          H1  \n",
       "97   MA_10  MA_10_MA_40          H1  \n",
       "113  MA_10  MA_10_MA_40          H1  \n",
       "129  MA_10  MA_10_MA_40          H1  \n",
       "145  MA_10  MA_10_MA_40          H1  \n",
       "161  MA_10  MA_10_MA_40          H1  \n",
       "177  MA_10  MA_10_MA_40          H1  \n",
       "193  MA_10  MA_10_MA_40          H1  \n",
       "209  MA_10  MA_10_MA_40          H1  \n",
       "225  MA_10  MA_10_MA_40          H1  "
      ]
     },
     "execution_count": 61,
     "metadata": {},
     "output_type": "execute_result"
    }
   ],
   "source": [
    "temp"
   ]
  },
  {
   "cell_type": "code",
   "execution_count": 62,
   "id": "b4cd2cc3",
   "metadata": {},
   "outputs": [
    {
     "data": {
      "text/html": [
       "<div>\n",
       "<style scoped>\n",
       "    .dataframe tbody tr th:only-of-type {\n",
       "        vertical-align: middle;\n",
       "    }\n",
       "\n",
       "    .dataframe tbody tr th {\n",
       "        vertical-align: top;\n",
       "    }\n",
       "\n",
       "    .dataframe thead th {\n",
       "        text-align: right;\n",
       "    }\n",
       "</style>\n",
       "<table border=\"1\" class=\"dataframe\">\n",
       "  <thead>\n",
       "    <tr style=\"text-align: right;\">\n",
       "      <th></th>\n",
       "      <th>pair</th>\n",
       "      <th>num_trades</th>\n",
       "      <th>total_gain</th>\n",
       "      <th>mean_gain</th>\n",
       "      <th>min_gain</th>\n",
       "      <th>max_gain</th>\n",
       "      <th>ma_l</th>\n",
       "      <th>ma_s</th>\n",
       "      <th>cross</th>\n",
       "      <th>granularity</th>\n",
       "    </tr>\n",
       "  </thead>\n",
       "  <tbody>\n",
       "    <tr>\n",
       "      <th>33</th>\n",
       "      <td>EUR_JPY</td>\n",
       "      <td>125</td>\n",
       "      <td>1192</td>\n",
       "      <td>9</td>\n",
       "      <td>-155</td>\n",
       "      <td>644</td>\n",
       "      <td>MA_40</td>\n",
       "      <td>MA_10</td>\n",
       "      <td>MA_10_MA_40</td>\n",
       "      <td>H1</td>\n",
       "    </tr>\n",
       "    <tr>\n",
       "      <th>49</th>\n",
       "      <td>EUR_AUD</td>\n",
       "      <td>116</td>\n",
       "      <td>2173</td>\n",
       "      <td>18</td>\n",
       "      <td>-152</td>\n",
       "      <td>732</td>\n",
       "      <td>MA_40</td>\n",
       "      <td>MA_10</td>\n",
       "      <td>MA_10_MA_40</td>\n",
       "      <td>H1</td>\n",
       "    </tr>\n",
       "    <tr>\n",
       "      <th>65</th>\n",
       "      <td>EUR_CAD</td>\n",
       "      <td>115</td>\n",
       "      <td>187</td>\n",
       "      <td>1</td>\n",
       "      <td>-134</td>\n",
       "      <td>510</td>\n",
       "      <td>MA_40</td>\n",
       "      <td>MA_10</td>\n",
       "      <td>MA_10_MA_40</td>\n",
       "      <td>H1</td>\n",
       "    </tr>\n",
       "    <tr>\n",
       "      <th>81</th>\n",
       "      <td>USD_JPY</td>\n",
       "      <td>120</td>\n",
       "      <td>1548</td>\n",
       "      <td>12</td>\n",
       "      <td>-81</td>\n",
       "      <td>365</td>\n",
       "      <td>MA_40</td>\n",
       "      <td>MA_10</td>\n",
       "      <td>MA_10_MA_40</td>\n",
       "      <td>H1</td>\n",
       "    </tr>\n",
       "    <tr>\n",
       "      <th>97</th>\n",
       "      <td>USD_CAD</td>\n",
       "      <td>117</td>\n",
       "      <td>110</td>\n",
       "      <td>0</td>\n",
       "      <td>-122</td>\n",
       "      <td>326</td>\n",
       "      <td>MA_40</td>\n",
       "      <td>MA_10</td>\n",
       "      <td>MA_10_MA_40</td>\n",
       "      <td>H1</td>\n",
       "    </tr>\n",
       "    <tr>\n",
       "      <th>113</th>\n",
       "      <td>GBP_USD</td>\n",
       "      <td>121</td>\n",
       "      <td>369</td>\n",
       "      <td>3</td>\n",
       "      <td>-228</td>\n",
       "      <td>486</td>\n",
       "      <td>MA_40</td>\n",
       "      <td>MA_10</td>\n",
       "      <td>MA_10_MA_40</td>\n",
       "      <td>H1</td>\n",
       "    </tr>\n",
       "    <tr>\n",
       "      <th>129</th>\n",
       "      <td>GBP_JPY</td>\n",
       "      <td>112</td>\n",
       "      <td>2239</td>\n",
       "      <td>19</td>\n",
       "      <td>-215</td>\n",
       "      <td>694</td>\n",
       "      <td>MA_40</td>\n",
       "      <td>MA_10</td>\n",
       "      <td>MA_10_MA_40</td>\n",
       "      <td>H1</td>\n",
       "    </tr>\n",
       "    <tr>\n",
       "      <th>145</th>\n",
       "      <td>GBP_AUD</td>\n",
       "      <td>116</td>\n",
       "      <td>431</td>\n",
       "      <td>3</td>\n",
       "      <td>-194</td>\n",
       "      <td>425</td>\n",
       "      <td>MA_40</td>\n",
       "      <td>MA_10</td>\n",
       "      <td>MA_10_MA_40</td>\n",
       "      <td>H1</td>\n",
       "    </tr>\n",
       "    <tr>\n",
       "      <th>161</th>\n",
       "      <td>GBP_CAD</td>\n",
       "      <td>105</td>\n",
       "      <td>45</td>\n",
       "      <td>0</td>\n",
       "      <td>-126</td>\n",
       "      <td>354</td>\n",
       "      <td>MA_40</td>\n",
       "      <td>MA_10</td>\n",
       "      <td>MA_10_MA_40</td>\n",
       "      <td>H1</td>\n",
       "    </tr>\n",
       "    <tr>\n",
       "      <th>177</th>\n",
       "      <td>AUD_USD</td>\n",
       "      <td>118</td>\n",
       "      <td>120</td>\n",
       "      <td>1</td>\n",
       "      <td>-87</td>\n",
       "      <td>264</td>\n",
       "      <td>MA_40</td>\n",
       "      <td>MA_10</td>\n",
       "      <td>MA_10_MA_40</td>\n",
       "      <td>H1</td>\n",
       "    </tr>\n",
       "    <tr>\n",
       "      <th>193</th>\n",
       "      <td>AUD_JPY</td>\n",
       "      <td>104</td>\n",
       "      <td>2111</td>\n",
       "      <td>20</td>\n",
       "      <td>-147</td>\n",
       "      <td>742</td>\n",
       "      <td>MA_40</td>\n",
       "      <td>MA_10</td>\n",
       "      <td>MA_10_MA_40</td>\n",
       "      <td>H1</td>\n",
       "    </tr>\n",
       "    <tr>\n",
       "      <th>225</th>\n",
       "      <td>CAD_JPY</td>\n",
       "      <td>98</td>\n",
       "      <td>1698</td>\n",
       "      <td>17</td>\n",
       "      <td>-115</td>\n",
       "      <td>661</td>\n",
       "      <td>MA_40</td>\n",
       "      <td>MA_10</td>\n",
       "      <td>MA_10_MA_40</td>\n",
       "      <td>H1</td>\n",
       "    </tr>\n",
       "  </tbody>\n",
       "</table>\n",
       "</div>"
      ],
      "text/plain": [
       "        pair  num_trades  total_gain  mean_gain  min_gain  max_gain   ma_l  \\\n",
       "33   EUR_JPY         125        1192          9      -155       644  MA_40   \n",
       "49   EUR_AUD         116        2173         18      -152       732  MA_40   \n",
       "65   EUR_CAD         115         187          1      -134       510  MA_40   \n",
       "81   USD_JPY         120        1548         12       -81       365  MA_40   \n",
       "97   USD_CAD         117         110          0      -122       326  MA_40   \n",
       "113  GBP_USD         121         369          3      -228       486  MA_40   \n",
       "129  GBP_JPY         112        2239         19      -215       694  MA_40   \n",
       "145  GBP_AUD         116         431          3      -194       425  MA_40   \n",
       "161  GBP_CAD         105          45          0      -126       354  MA_40   \n",
       "177  AUD_USD         118         120          1       -87       264  MA_40   \n",
       "193  AUD_JPY         104        2111         20      -147       742  MA_40   \n",
       "225  CAD_JPY          98        1698         17      -115       661  MA_40   \n",
       "\n",
       "      ma_s        cross granularity  \n",
       "33   MA_10  MA_10_MA_40          H1  \n",
       "49   MA_10  MA_10_MA_40          H1  \n",
       "65   MA_10  MA_10_MA_40          H1  \n",
       "81   MA_10  MA_10_MA_40          H1  \n",
       "97   MA_10  MA_10_MA_40          H1  \n",
       "113  MA_10  MA_10_MA_40          H1  \n",
       "129  MA_10  MA_10_MA_40          H1  \n",
       "145  MA_10  MA_10_MA_40          H1  \n",
       "161  MA_10  MA_10_MA_40          H1  \n",
       "177  MA_10  MA_10_MA_40          H1  \n",
       "193  MA_10  MA_10_MA_40          H1  \n",
       "225  MA_10  MA_10_MA_40          H1  "
      ]
     },
     "execution_count": 62,
     "metadata": {},
     "output_type": "execute_result"
    }
   ],
   "source": [
    "# how many pairs gave us a positive result?\n",
    "temp[temp.total_gain > 0] "
   ]
  },
  {
   "cell_type": "code",
   "execution_count": 63,
   "id": "49dfb19e",
   "metadata": {},
   "outputs": [
    {
     "data": {
      "text/plain": [
       "12"
      ]
     },
     "execution_count": 63,
     "metadata": {},
     "output_type": "execute_result"
    }
   ],
   "source": [
    "# actual number of columns with a a positive result\n",
    "temp[temp.total_gain > 0].shape[0]"
   ]
  },
  {
   "cell_type": "code",
   "execution_count": 64,
   "id": "ffd8e06d",
   "metadata": {},
   "outputs": [
    {
     "name": "stdout",
     "output_type": "stream",
     "text": [
      "MA_10_MA_20 pg: 11 perc gain: 73%\n",
      "MA_10_MA_40 pg: 12 perc gain: 80%\n",
      "MA_20_MA_40 pg: 8 perc gain: 53%\n",
      "MA_30_MA_40 pg: 10 perc gain: 67%\n",
      "MA_10_MA_80 pg: 7 perc gain: 47%\n",
      "MA_20_MA_80 pg: 9 perc gain: 60%\n",
      "MA_30_MA_80 pg: 10 perc gain: 67%\n",
      "MA_40_MA_80 pg: 7 perc gain: 47%\n",
      "MA_10_MA_120 pg: 6 perc gain: 40%\n",
      "MA_20_MA_120 pg: 7 perc gain: 47%\n",
      "MA_30_MA_120 pg: 9 perc gain: 60%\n",
      "MA_40_MA_120 pg: 9 perc gain: 60%\n",
      "MA_10_MA_150 pg: 8 perc gain: 53%\n",
      "MA_20_MA_150 pg: 8 perc gain: 53%\n",
      "MA_30_MA_150 pg: 7 perc gain: 47%\n",
      "MA_40_MA_150 pg: 8 perc gain: 53%\n"
     ]
    }
   ],
   "source": [
    "# looking at the number of positive results for all the crosses\n",
    "for c in df_ma_res_h1.cross.unique():\n",
    "    temp = df_ma_res_h1[df_ma_res_h1.cross == c]\n",
    "    pg = temp[temp.total_gain > 0].shape[0]\n",
    "    # crossing, number of positive results, success rate\n",
    "    print(f\"{c} pg: {pg} perc gain: {(pg / total_pairs) * 100:.0f}%\")"
   ]
  },
  {
   "cell_type": "code",
   "execution_count": 65,
   "id": "091c7968",
   "metadata": {},
   "outputs": [],
   "source": [
    "# taking a closer look at the MA_10_MA_20 cross\n",
    "cross = \"MA_10_MA_20\"\n",
    "df_MA_10_MA_20 = df_ma_res_h1[df_ma_res_h1.cross == cross].copy()\n",
    "df_MA_10_MA_20.sort_values(by=\"total_gain\", ascending=False, inplace=True)"
   ]
  },
  {
   "cell_type": "code",
   "execution_count": 66,
   "id": "f0ef24bf",
   "metadata": {},
   "outputs": [
    {
     "data": {
      "text/html": [
       "<div>\n",
       "<style scoped>\n",
       "    .dataframe tbody tr th:only-of-type {\n",
       "        vertical-align: middle;\n",
       "    }\n",
       "\n",
       "    .dataframe tbody tr th {\n",
       "        vertical-align: top;\n",
       "    }\n",
       "\n",
       "    .dataframe thead th {\n",
       "        text-align: right;\n",
       "    }\n",
       "</style>\n",
       "<table border=\"1\" class=\"dataframe\">\n",
       "  <thead>\n",
       "    <tr style=\"text-align: right;\">\n",
       "      <th></th>\n",
       "      <th>pair</th>\n",
       "      <th>num_trades</th>\n",
       "      <th>total_gain</th>\n",
       "      <th>mean_gain</th>\n",
       "      <th>min_gain</th>\n",
       "      <th>max_gain</th>\n",
       "      <th>ma_l</th>\n",
       "      <th>ma_s</th>\n",
       "      <th>cross</th>\n",
       "      <th>granularity</th>\n",
       "    </tr>\n",
       "  </thead>\n",
       "  <tbody>\n",
       "    <tr>\n",
       "      <th>128</th>\n",
       "      <td>GBP_JPY</td>\n",
       "      <td>218</td>\n",
       "      <td>2709</td>\n",
       "      <td>12</td>\n",
       "      <td>-210</td>\n",
       "      <td>416</td>\n",
       "      <td>MA_20</td>\n",
       "      <td>MA_10</td>\n",
       "      <td>MA_10_MA_20</td>\n",
       "      <td>H1</td>\n",
       "    </tr>\n",
       "    <tr>\n",
       "      <th>48</th>\n",
       "      <td>EUR_AUD</td>\n",
       "      <td>191</td>\n",
       "      <td>1408</td>\n",
       "      <td>7</td>\n",
       "      <td>-139</td>\n",
       "      <td>688</td>\n",
       "      <td>MA_20</td>\n",
       "      <td>MA_10</td>\n",
       "      <td>MA_10_MA_20</td>\n",
       "      <td>H1</td>\n",
       "    </tr>\n",
       "    <tr>\n",
       "      <th>224</th>\n",
       "      <td>CAD_JPY</td>\n",
       "      <td>202</td>\n",
       "      <td>1368</td>\n",
       "      <td>6</td>\n",
       "      <td>-156</td>\n",
       "      <td>322</td>\n",
       "      <td>MA_20</td>\n",
       "      <td>MA_10</td>\n",
       "      <td>MA_10_MA_20</td>\n",
       "      <td>H1</td>\n",
       "    </tr>\n",
       "    <tr>\n",
       "      <th>80</th>\n",
       "      <td>USD_JPY</td>\n",
       "      <td>196</td>\n",
       "      <td>1103</td>\n",
       "      <td>5</td>\n",
       "      <td>-138</td>\n",
       "      <td>292</td>\n",
       "      <td>MA_20</td>\n",
       "      <td>MA_10</td>\n",
       "      <td>MA_10_MA_20</td>\n",
       "      <td>H1</td>\n",
       "    </tr>\n",
       "    <tr>\n",
       "      <th>192</th>\n",
       "      <td>AUD_JPY</td>\n",
       "      <td>187</td>\n",
       "      <td>1073</td>\n",
       "      <td>5</td>\n",
       "      <td>-112</td>\n",
       "      <td>341</td>\n",
       "      <td>MA_20</td>\n",
       "      <td>MA_10</td>\n",
       "      <td>MA_10_MA_20</td>\n",
       "      <td>H1</td>\n",
       "    </tr>\n",
       "    <tr>\n",
       "      <th>112</th>\n",
       "      <td>GBP_USD</td>\n",
       "      <td>219</td>\n",
       "      <td>520</td>\n",
       "      <td>2</td>\n",
       "      <td>-182</td>\n",
       "      <td>315</td>\n",
       "      <td>MA_20</td>\n",
       "      <td>MA_10</td>\n",
       "      <td>MA_10_MA_20</td>\n",
       "      <td>H1</td>\n",
       "    </tr>\n",
       "    <tr>\n",
       "      <th>32</th>\n",
       "      <td>EUR_JPY</td>\n",
       "      <td>216</td>\n",
       "      <td>505</td>\n",
       "      <td>2</td>\n",
       "      <td>-173</td>\n",
       "      <td>320</td>\n",
       "      <td>MA_20</td>\n",
       "      <td>MA_10</td>\n",
       "      <td>MA_10_MA_20</td>\n",
       "      <td>H1</td>\n",
       "    </tr>\n",
       "    <tr>\n",
       "      <th>96</th>\n",
       "      <td>USD_CAD</td>\n",
       "      <td>213</td>\n",
       "      <td>389</td>\n",
       "      <td>1</td>\n",
       "      <td>-79</td>\n",
       "      <td>369</td>\n",
       "      <td>MA_20</td>\n",
       "      <td>MA_10</td>\n",
       "      <td>MA_10_MA_20</td>\n",
       "      <td>H1</td>\n",
       "    </tr>\n",
       "    <tr>\n",
       "      <th>64</th>\n",
       "      <td>EUR_CAD</td>\n",
       "      <td>220</td>\n",
       "      <td>374</td>\n",
       "      <td>1</td>\n",
       "      <td>-127</td>\n",
       "      <td>285</td>\n",
       "      <td>MA_20</td>\n",
       "      <td>MA_10</td>\n",
       "      <td>MA_10_MA_20</td>\n",
       "      <td>H1</td>\n",
       "    </tr>\n",
       "    <tr>\n",
       "      <th>176</th>\n",
       "      <td>AUD_USD</td>\n",
       "      <td>207</td>\n",
       "      <td>124</td>\n",
       "      <td>0</td>\n",
       "      <td>-104</td>\n",
       "      <td>264</td>\n",
       "      <td>MA_20</td>\n",
       "      <td>MA_10</td>\n",
       "      <td>MA_10_MA_20</td>\n",
       "      <td>H1</td>\n",
       "    </tr>\n",
       "    <tr>\n",
       "      <th>0</th>\n",
       "      <td>EUR_USD</td>\n",
       "      <td>218</td>\n",
       "      <td>103</td>\n",
       "      <td>0</td>\n",
       "      <td>-155</td>\n",
       "      <td>224</td>\n",
       "      <td>MA_20</td>\n",
       "      <td>MA_10</td>\n",
       "      <td>MA_10_MA_20</td>\n",
       "      <td>H1</td>\n",
       "    </tr>\n",
       "    <tr>\n",
       "      <th>144</th>\n",
       "      <td>GBP_AUD</td>\n",
       "      <td>221</td>\n",
       "      <td>-282</td>\n",
       "      <td>-1</td>\n",
       "      <td>-118</td>\n",
       "      <td>392</td>\n",
       "      <td>MA_20</td>\n",
       "      <td>MA_10</td>\n",
       "      <td>MA_10_MA_20</td>\n",
       "      <td>H1</td>\n",
       "    </tr>\n",
       "    <tr>\n",
       "      <th>208</th>\n",
       "      <td>AUD_CAD</td>\n",
       "      <td>211</td>\n",
       "      <td>-440</td>\n",
       "      <td>-2</td>\n",
       "      <td>-110</td>\n",
       "      <td>165</td>\n",
       "      <td>MA_20</td>\n",
       "      <td>MA_10</td>\n",
       "      <td>MA_10_MA_20</td>\n",
       "      <td>H1</td>\n",
       "    </tr>\n",
       "    <tr>\n",
       "      <th>160</th>\n",
       "      <td>GBP_CAD</td>\n",
       "      <td>222</td>\n",
       "      <td>-470</td>\n",
       "      <td>-2</td>\n",
       "      <td>-116</td>\n",
       "      <td>250</td>\n",
       "      <td>MA_20</td>\n",
       "      <td>MA_10</td>\n",
       "      <td>MA_10_MA_20</td>\n",
       "      <td>H1</td>\n",
       "    </tr>\n",
       "    <tr>\n",
       "      <th>16</th>\n",
       "      <td>EUR_GBP</td>\n",
       "      <td>230</td>\n",
       "      <td>-675</td>\n",
       "      <td>-2</td>\n",
       "      <td>-69</td>\n",
       "      <td>117</td>\n",
       "      <td>MA_20</td>\n",
       "      <td>MA_10</td>\n",
       "      <td>MA_10_MA_20</td>\n",
       "      <td>H1</td>\n",
       "    </tr>\n",
       "  </tbody>\n",
       "</table>\n",
       "</div>"
      ],
      "text/plain": [
       "        pair  num_trades  total_gain  mean_gain  min_gain  max_gain   ma_l  \\\n",
       "128  GBP_JPY         218        2709         12      -210       416  MA_20   \n",
       "48   EUR_AUD         191        1408          7      -139       688  MA_20   \n",
       "224  CAD_JPY         202        1368          6      -156       322  MA_20   \n",
       "80   USD_JPY         196        1103          5      -138       292  MA_20   \n",
       "192  AUD_JPY         187        1073          5      -112       341  MA_20   \n",
       "112  GBP_USD         219         520          2      -182       315  MA_20   \n",
       "32   EUR_JPY         216         505          2      -173       320  MA_20   \n",
       "96   USD_CAD         213         389          1       -79       369  MA_20   \n",
       "64   EUR_CAD         220         374          1      -127       285  MA_20   \n",
       "176  AUD_USD         207         124          0      -104       264  MA_20   \n",
       "0    EUR_USD         218         103          0      -155       224  MA_20   \n",
       "144  GBP_AUD         221        -282         -1      -118       392  MA_20   \n",
       "208  AUD_CAD         211        -440         -2      -110       165  MA_20   \n",
       "160  GBP_CAD         222        -470         -2      -116       250  MA_20   \n",
       "16   EUR_GBP         230        -675         -2       -69       117  MA_20   \n",
       "\n",
       "      ma_s        cross granularity  \n",
       "128  MA_10  MA_10_MA_20          H1  \n",
       "48   MA_10  MA_10_MA_20          H1  \n",
       "224  MA_10  MA_10_MA_20          H1  \n",
       "80   MA_10  MA_10_MA_20          H1  \n",
       "192  MA_10  MA_10_MA_20          H1  \n",
       "112  MA_10  MA_10_MA_20          H1  \n",
       "32   MA_10  MA_10_MA_20          H1  \n",
       "96   MA_10  MA_10_MA_20          H1  \n",
       "64   MA_10  MA_10_MA_20          H1  \n",
       "176  MA_10  MA_10_MA_20          H1  \n",
       "0    MA_10  MA_10_MA_20          H1  \n",
       "144  MA_10  MA_10_MA_20          H1  \n",
       "208  MA_10  MA_10_MA_20          H1  \n",
       "160  MA_10  MA_10_MA_20          H1  \n",
       "16   MA_10  MA_10_MA_20          H1  "
      ]
     },
     "execution_count": 66,
     "metadata": {},
     "output_type": "execute_result"
    }
   ],
   "source": [
    "df_MA_10_MA_20"
   ]
  },
  {
   "cell_type": "code",
   "execution_count": 67,
   "id": "3a0f1698",
   "metadata": {},
   "outputs": [],
   "source": [
    "# next step in analysing: how does gain look over a period of time?\n",
    "# did we get our gains in just on or two days and did we only have losses after this?\n",
    "# or did he have wins continously over a wider period of time?\n",
    "# -> plot the accumulative gain over the period of the backtest\n",
    "# df_ma_trades_h1 contains all of out trades\n",
    "# selecting the data we're interested in from the df_ma_trades_h1\n",
    "df_gains = df_ma_trades_h1[(df_ma_trades_h1.cross == cross) & (df_ma_trades_h1.pair == \"GBP_JPY\")].copy()"
   ]
  },
  {
   "cell_type": "code",
   "execution_count": 68,
   "id": "f0a864f1",
   "metadata": {},
   "outputs": [
    {
     "data": {
      "text/html": [
       "<div>\n",
       "<style scoped>\n",
       "    .dataframe tbody tr th:only-of-type {\n",
       "        vertical-align: middle;\n",
       "    }\n",
       "\n",
       "    .dataframe tbody tr th {\n",
       "        vertical-align: top;\n",
       "    }\n",
       "\n",
       "    .dataframe thead th {\n",
       "        text-align: right;\n",
       "    }\n",
       "</style>\n",
       "<table border=\"1\" class=\"dataframe\">\n",
       "  <thead>\n",
       "    <tr style=\"text-align: right;\">\n",
       "      <th></th>\n",
       "      <th>time</th>\n",
       "      <th>volume</th>\n",
       "      <th>mid_o</th>\n",
       "      <th>mid_h</th>\n",
       "      <th>mid_l</th>\n",
       "      <th>mid_c</th>\n",
       "      <th>bid_o</th>\n",
       "      <th>bid_h</th>\n",
       "      <th>bid_l</th>\n",
       "      <th>bid_c</th>\n",
       "      <th>ask_o</th>\n",
       "      <th>ask_h</th>\n",
       "      <th>ask_l</th>\n",
       "      <th>ask_c</th>\n",
       "      <th>MA_40</th>\n",
       "      <th>MA_10</th>\n",
       "      <th>MA_80</th>\n",
       "      <th>MA_20</th>\n",
       "      <th>MA_150</th>\n",
       "      <th>MA_120</th>\n",
       "      <th>MA_30</th>\n",
       "      <th>DELTA</th>\n",
       "      <th>DELTA_PREV</th>\n",
       "      <th>TRADE</th>\n",
       "      <th>DIFF</th>\n",
       "      <th>GAIN</th>\n",
       "      <th>granularity</th>\n",
       "      <th>pair</th>\n",
       "      <th>GAIN_C</th>\n",
       "      <th>ma_l</th>\n",
       "      <th>ma_s</th>\n",
       "      <th>cross</th>\n",
       "    </tr>\n",
       "  </thead>\n",
       "  <tbody>\n",
       "    <tr>\n",
       "      <th>9216</th>\n",
       "      <td>2021-12-09 23:00:00+00:00</td>\n",
       "      <td>1001</td>\n",
       "      <td>150.006</td>\n",
       "      <td>150.050</td>\n",
       "      <td>149.948</td>\n",
       "      <td>150.019</td>\n",
       "      <td>149.960</td>\n",
       "      <td>150.037</td>\n",
       "      <td>149.932</td>\n",
       "      <td>150.006</td>\n",
       "      <td>150.051</td>\n",
       "      <td>150.068</td>\n",
       "      <td>149.964</td>\n",
       "      <td>150.032</td>\n",
       "      <td>150.087475</td>\n",
       "      <td>149.9250</td>\n",
       "      <td>150.300563</td>\n",
       "      <td>149.89110</td>\n",
       "      <td>150.212840</td>\n",
       "      <td>150.190358</td>\n",
       "      <td>150.003600</td>\n",
       "      <td>0.03390</td>\n",
       "      <td>-0.00395</td>\n",
       "      <td>1</td>\n",
       "      <td>-0.045</td>\n",
       "      <td>-4.5</td>\n",
       "      <td>H1</td>\n",
       "      <td>GBP_JPY</td>\n",
       "      <td>-4.5</td>\n",
       "      <td>MA_20</td>\n",
       "      <td>MA_10</td>\n",
       "      <td>MA_10_MA_20</td>\n",
       "    </tr>\n",
       "    <tr>\n",
       "      <th>9217</th>\n",
       "      <td>2021-12-13 18:00:00+00:00</td>\n",
       "      <td>1364</td>\n",
       "      <td>149.928</td>\n",
       "      <td>149.997</td>\n",
       "      <td>149.875</td>\n",
       "      <td>149.974</td>\n",
       "      <td>149.915</td>\n",
       "      <td>149.985</td>\n",
       "      <td>149.864</td>\n",
       "      <td>149.963</td>\n",
       "      <td>149.941</td>\n",
       "      <td>150.009</td>\n",
       "      <td>149.886</td>\n",
       "      <td>149.985</td>\n",
       "      <td>150.289575</td>\n",
       "      <td>150.3864</td>\n",
       "      <td>150.181162</td>\n",
       "      <td>150.38700</td>\n",
       "      <td>150.191473</td>\n",
       "      <td>150.287867</td>\n",
       "      <td>150.350300</td>\n",
       "      <td>-0.00060</td>\n",
       "      <td>0.01050</td>\n",
       "      <td>-1</td>\n",
       "      <td>0.352</td>\n",
       "      <td>-35.2</td>\n",
       "      <td>H1</td>\n",
       "      <td>GBP_JPY</td>\n",
       "      <td>-39.7</td>\n",
       "      <td>MA_20</td>\n",
       "      <td>MA_10</td>\n",
       "      <td>MA_10_MA_20</td>\n",
       "    </tr>\n",
       "    <tr>\n",
       "      <th>9218</th>\n",
       "      <td>2021-12-14 10:00:00+00:00</td>\n",
       "      <td>2720</td>\n",
       "      <td>150.210</td>\n",
       "      <td>150.397</td>\n",
       "      <td>150.166</td>\n",
       "      <td>150.326</td>\n",
       "      <td>150.196</td>\n",
       "      <td>150.385</td>\n",
       "      <td>150.153</td>\n",
       "      <td>150.313</td>\n",
       "      <td>150.223</td>\n",
       "      <td>150.409</td>\n",
       "      <td>150.179</td>\n",
       "      <td>150.338</td>\n",
       "      <td>150.268300</td>\n",
       "      <td>150.0887</td>\n",
       "      <td>150.135625</td>\n",
       "      <td>150.07910</td>\n",
       "      <td>150.246233</td>\n",
       "      <td>150.205800</td>\n",
       "      <td>150.210433</td>\n",
       "      <td>0.00960</td>\n",
       "      <td>-0.02795</td>\n",
       "      <td>1</td>\n",
       "      <td>1.199</td>\n",
       "      <td>119.9</td>\n",
       "      <td>H1</td>\n",
       "      <td>GBP_JPY</td>\n",
       "      <td>80.2</td>\n",
       "      <td>MA_20</td>\n",
       "      <td>MA_10</td>\n",
       "      <td>MA_10_MA_20</td>\n",
       "    </tr>\n",
       "    <tr>\n",
       "      <th>9219</th>\n",
       "      <td>2021-12-16 22:00:00+00:00</td>\n",
       "      <td>208</td>\n",
       "      <td>151.485</td>\n",
       "      <td>151.548</td>\n",
       "      <td>151.431</td>\n",
       "      <td>151.525</td>\n",
       "      <td>151.410</td>\n",
       "      <td>151.497</td>\n",
       "      <td>151.356</td>\n",
       "      <td>151.469</td>\n",
       "      <td>151.560</td>\n",
       "      <td>151.601</td>\n",
       "      <td>151.506</td>\n",
       "      <td>151.581</td>\n",
       "      <td>151.227150</td>\n",
       "      <td>151.5331</td>\n",
       "      <td>150.748425</td>\n",
       "      <td>151.53485</td>\n",
       "      <td>150.478440</td>\n",
       "      <td>150.593508</td>\n",
       "      <td>151.388600</td>\n",
       "      <td>-0.00175</td>\n",
       "      <td>0.10355</td>\n",
       "      <td>-1</td>\n",
       "      <td>-1.405</td>\n",
       "      <td>140.5</td>\n",
       "      <td>H1</td>\n",
       "      <td>GBP_JPY</td>\n",
       "      <td>220.7</td>\n",
       "      <td>MA_20</td>\n",
       "      <td>MA_10</td>\n",
       "      <td>MA_10_MA_20</td>\n",
       "    </tr>\n",
       "    <tr>\n",
       "      <th>9220</th>\n",
       "      <td>2021-12-20 19:00:00+00:00</td>\n",
       "      <td>1446</td>\n",
       "      <td>150.132</td>\n",
       "      <td>150.235</td>\n",
       "      <td>150.120</td>\n",
       "      <td>150.120</td>\n",
       "      <td>150.119</td>\n",
       "      <td>150.222</td>\n",
       "      <td>150.108</td>\n",
       "      <td>150.108</td>\n",
       "      <td>150.146</td>\n",
       "      <td>150.248</td>\n",
       "      <td>150.131</td>\n",
       "      <td>150.131</td>\n",
       "      <td>150.442175</td>\n",
       "      <td>150.0679</td>\n",
       "      <td>150.871213</td>\n",
       "      <td>150.05300</td>\n",
       "      <td>150.632427</td>\n",
       "      <td>150.703908</td>\n",
       "      <td>150.227433</td>\n",
       "      <td>0.01490</td>\n",
       "      <td>-0.03490</td>\n",
       "      <td>1</td>\n",
       "      <td>3.124</td>\n",
       "      <td>312.4</td>\n",
       "      <td>H1</td>\n",
       "      <td>GBP_JPY</td>\n",
       "      <td>533.1</td>\n",
       "      <td>MA_20</td>\n",
       "      <td>MA_10</td>\n",
       "      <td>MA_10_MA_20</td>\n",
       "    </tr>\n",
       "    <tr>\n",
       "      <th>...</th>\n",
       "      <td>...</td>\n",
       "      <td>...</td>\n",
       "      <td>...</td>\n",
       "      <td>...</td>\n",
       "      <td>...</td>\n",
       "      <td>...</td>\n",
       "      <td>...</td>\n",
       "      <td>...</td>\n",
       "      <td>...</td>\n",
       "      <td>...</td>\n",
       "      <td>...</td>\n",
       "      <td>...</td>\n",
       "      <td>...</td>\n",
       "      <td>...</td>\n",
       "      <td>...</td>\n",
       "      <td>...</td>\n",
       "      <td>...</td>\n",
       "      <td>...</td>\n",
       "      <td>...</td>\n",
       "      <td>...</td>\n",
       "      <td>...</td>\n",
       "      <td>...</td>\n",
       "      <td>...</td>\n",
       "      <td>...</td>\n",
       "      <td>...</td>\n",
       "      <td>...</td>\n",
       "      <td>...</td>\n",
       "      <td>...</td>\n",
       "      <td>...</td>\n",
       "      <td>...</td>\n",
       "      <td>...</td>\n",
       "      <td>...</td>\n",
       "    </tr>\n",
       "    <tr>\n",
       "      <th>9429</th>\n",
       "      <td>2022-07-19 00:00:00+00:00</td>\n",
       "      <td>9374</td>\n",
       "      <td>165.208</td>\n",
       "      <td>165.316</td>\n",
       "      <td>164.919</td>\n",
       "      <td>164.992</td>\n",
       "      <td>165.193</td>\n",
       "      <td>165.300</td>\n",
       "      <td>164.902</td>\n",
       "      <td>164.977</td>\n",
       "      <td>165.223</td>\n",
       "      <td>165.333</td>\n",
       "      <td>164.936</td>\n",
       "      <td>165.007</td>\n",
       "      <td>164.789600</td>\n",
       "      <td>165.1864</td>\n",
       "      <td>164.440037</td>\n",
       "      <td>165.25575</td>\n",
       "      <td>163.878800</td>\n",
       "      <td>163.917025</td>\n",
       "      <td>164.972900</td>\n",
       "      <td>-0.06935</td>\n",
       "      <td>0.05740</td>\n",
       "      <td>-1</td>\n",
       "      <td>0.255</td>\n",
       "      <td>-25.5</td>\n",
       "      <td>H1</td>\n",
       "      <td>GBP_JPY</td>\n",
       "      <td>2770.8</td>\n",
       "      <td>MA_20</td>\n",
       "      <td>MA_10</td>\n",
       "      <td>MA_10_MA_20</td>\n",
       "    </tr>\n",
       "    <tr>\n",
       "      <th>9430</th>\n",
       "      <td>2022-07-19 11:00:00+00:00</td>\n",
       "      <td>12316</td>\n",
       "      <td>165.355</td>\n",
       "      <td>165.420</td>\n",
       "      <td>165.129</td>\n",
       "      <td>165.247</td>\n",
       "      <td>165.339</td>\n",
       "      <td>165.405</td>\n",
       "      <td>165.114</td>\n",
       "      <td>165.233</td>\n",
       "      <td>165.371</td>\n",
       "      <td>165.436</td>\n",
       "      <td>165.144</td>\n",
       "      <td>165.261</td>\n",
       "      <td>165.036175</td>\n",
       "      <td>165.1860</td>\n",
       "      <td>164.665712</td>\n",
       "      <td>165.13950</td>\n",
       "      <td>163.963687</td>\n",
       "      <td>164.150583</td>\n",
       "      <td>165.243233</td>\n",
       "      <td>0.04650</td>\n",
       "      <td>-0.02255</td>\n",
       "      <td>1</td>\n",
       "      <td>0.207</td>\n",
       "      <td>20.7</td>\n",
       "      <td>H1</td>\n",
       "      <td>GBP_JPY</td>\n",
       "      <td>2791.5</td>\n",
       "      <td>MA_20</td>\n",
       "      <td>MA_10</td>\n",
       "      <td>MA_10_MA_20</td>\n",
       "    </tr>\n",
       "    <tr>\n",
       "      <th>9431</th>\n",
       "      <td>2022-07-20 12:00:00+00:00</td>\n",
       "      <td>16061</td>\n",
       "      <td>165.412</td>\n",
       "      <td>165.566</td>\n",
       "      <td>165.138</td>\n",
       "      <td>165.454</td>\n",
       "      <td>165.398</td>\n",
       "      <td>165.549</td>\n",
       "      <td>165.123</td>\n",
       "      <td>165.441</td>\n",
       "      <td>165.425</td>\n",
       "      <td>165.583</td>\n",
       "      <td>165.152</td>\n",
       "      <td>165.467</td>\n",
       "      <td>165.557950</td>\n",
       "      <td>165.8182</td>\n",
       "      <td>165.125225</td>\n",
       "      <td>165.84940</td>\n",
       "      <td>164.360747</td>\n",
       "      <td>164.762175</td>\n",
       "      <td>165.740533</td>\n",
       "      <td>-0.03120</td>\n",
       "      <td>0.01920</td>\n",
       "      <td>-1</td>\n",
       "      <td>0.210</td>\n",
       "      <td>-21.0</td>\n",
       "      <td>H1</td>\n",
       "      <td>GBP_JPY</td>\n",
       "      <td>2770.5</td>\n",
       "      <td>MA_20</td>\n",
       "      <td>MA_10</td>\n",
       "      <td>MA_10_MA_20</td>\n",
       "    </tr>\n",
       "    <tr>\n",
       "      <th>9432</th>\n",
       "      <td>2022-07-21 03:00:00+00:00</td>\n",
       "      <td>11383</td>\n",
       "      <td>165.796</td>\n",
       "      <td>166.002</td>\n",
       "      <td>165.437</td>\n",
       "      <td>165.664</td>\n",
       "      <td>165.779</td>\n",
       "      <td>165.983</td>\n",
       "      <td>165.409</td>\n",
       "      <td>165.648</td>\n",
       "      <td>165.812</td>\n",
       "      <td>166.021</td>\n",
       "      <td>165.464</td>\n",
       "      <td>165.680</td>\n",
       "      <td>165.730475</td>\n",
       "      <td>165.6428</td>\n",
       "      <td>165.383325</td>\n",
       "      <td>165.62870</td>\n",
       "      <td>164.675953</td>\n",
       "      <td>165.020633</td>\n",
       "      <td>165.733167</td>\n",
       "      <td>0.01410</td>\n",
       "      <td>-0.01620</td>\n",
       "      <td>1</td>\n",
       "      <td>-0.611</td>\n",
       "      <td>-61.1</td>\n",
       "      <td>H1</td>\n",
       "      <td>GBP_JPY</td>\n",
       "      <td>2709.4</td>\n",
       "      <td>MA_20</td>\n",
       "      <td>MA_10</td>\n",
       "      <td>MA_10_MA_20</td>\n",
       "    </tr>\n",
       "    <tr>\n",
       "      <th>9433</th>\n",
       "      <td>2022-07-21 13:00:00+00:00</td>\n",
       "      <td>29885</td>\n",
       "      <td>165.868</td>\n",
       "      <td>165.912</td>\n",
       "      <td>164.540</td>\n",
       "      <td>165.053</td>\n",
       "      <td>165.853</td>\n",
       "      <td>165.897</td>\n",
       "      <td>164.524</td>\n",
       "      <td>165.036</td>\n",
       "      <td>165.883</td>\n",
       "      <td>165.928</td>\n",
       "      <td>164.556</td>\n",
       "      <td>165.070</td>\n",
       "      <td>165.705850</td>\n",
       "      <td>165.6239</td>\n",
       "      <td>165.534438</td>\n",
       "      <td>165.63335</td>\n",
       "      <td>164.852340</td>\n",
       "      <td>165.122308</td>\n",
       "      <td>165.627100</td>\n",
       "      <td>-0.00945</td>\n",
       "      <td>0.03720</td>\n",
       "      <td>-1</td>\n",
       "      <td>0.000</td>\n",
       "      <td>-0.0</td>\n",
       "      <td>H1</td>\n",
       "      <td>GBP_JPY</td>\n",
       "      <td>2709.4</td>\n",
       "      <td>MA_20</td>\n",
       "      <td>MA_10</td>\n",
       "      <td>MA_10_MA_20</td>\n",
       "    </tr>\n",
       "  </tbody>\n",
       "</table>\n",
       "<p>218 rows × 32 columns</p>\n",
       "</div>"
      ],
      "text/plain": [
       "                          time  volume    mid_o    mid_h    mid_l    mid_c  \\\n",
       "9216 2021-12-09 23:00:00+00:00    1001  150.006  150.050  149.948  150.019   \n",
       "9217 2021-12-13 18:00:00+00:00    1364  149.928  149.997  149.875  149.974   \n",
       "9218 2021-12-14 10:00:00+00:00    2720  150.210  150.397  150.166  150.326   \n",
       "9219 2021-12-16 22:00:00+00:00     208  151.485  151.548  151.431  151.525   \n",
       "9220 2021-12-20 19:00:00+00:00    1446  150.132  150.235  150.120  150.120   \n",
       "...                        ...     ...      ...      ...      ...      ...   \n",
       "9429 2022-07-19 00:00:00+00:00    9374  165.208  165.316  164.919  164.992   \n",
       "9430 2022-07-19 11:00:00+00:00   12316  165.355  165.420  165.129  165.247   \n",
       "9431 2022-07-20 12:00:00+00:00   16061  165.412  165.566  165.138  165.454   \n",
       "9432 2022-07-21 03:00:00+00:00   11383  165.796  166.002  165.437  165.664   \n",
       "9433 2022-07-21 13:00:00+00:00   29885  165.868  165.912  164.540  165.053   \n",
       "\n",
       "        bid_o    bid_h    bid_l    bid_c    ask_o    ask_h    ask_l    ask_c  \\\n",
       "9216  149.960  150.037  149.932  150.006  150.051  150.068  149.964  150.032   \n",
       "9217  149.915  149.985  149.864  149.963  149.941  150.009  149.886  149.985   \n",
       "9218  150.196  150.385  150.153  150.313  150.223  150.409  150.179  150.338   \n",
       "9219  151.410  151.497  151.356  151.469  151.560  151.601  151.506  151.581   \n",
       "9220  150.119  150.222  150.108  150.108  150.146  150.248  150.131  150.131   \n",
       "...       ...      ...      ...      ...      ...      ...      ...      ...   \n",
       "9429  165.193  165.300  164.902  164.977  165.223  165.333  164.936  165.007   \n",
       "9430  165.339  165.405  165.114  165.233  165.371  165.436  165.144  165.261   \n",
       "9431  165.398  165.549  165.123  165.441  165.425  165.583  165.152  165.467   \n",
       "9432  165.779  165.983  165.409  165.648  165.812  166.021  165.464  165.680   \n",
       "9433  165.853  165.897  164.524  165.036  165.883  165.928  164.556  165.070   \n",
       "\n",
       "           MA_40     MA_10       MA_80      MA_20      MA_150      MA_120  \\\n",
       "9216  150.087475  149.9250  150.300563  149.89110  150.212840  150.190358   \n",
       "9217  150.289575  150.3864  150.181162  150.38700  150.191473  150.287867   \n",
       "9218  150.268300  150.0887  150.135625  150.07910  150.246233  150.205800   \n",
       "9219  151.227150  151.5331  150.748425  151.53485  150.478440  150.593508   \n",
       "9220  150.442175  150.0679  150.871213  150.05300  150.632427  150.703908   \n",
       "...          ...       ...         ...        ...         ...         ...   \n",
       "9429  164.789600  165.1864  164.440037  165.25575  163.878800  163.917025   \n",
       "9430  165.036175  165.1860  164.665712  165.13950  163.963687  164.150583   \n",
       "9431  165.557950  165.8182  165.125225  165.84940  164.360747  164.762175   \n",
       "9432  165.730475  165.6428  165.383325  165.62870  164.675953  165.020633   \n",
       "9433  165.705850  165.6239  165.534438  165.63335  164.852340  165.122308   \n",
       "\n",
       "           MA_30    DELTA  DELTA_PREV  TRADE   DIFF   GAIN granularity  \\\n",
       "9216  150.003600  0.03390    -0.00395      1 -0.045   -4.5          H1   \n",
       "9217  150.350300 -0.00060     0.01050     -1  0.352  -35.2          H1   \n",
       "9218  150.210433  0.00960    -0.02795      1  1.199  119.9          H1   \n",
       "9219  151.388600 -0.00175     0.10355     -1 -1.405  140.5          H1   \n",
       "9220  150.227433  0.01490    -0.03490      1  3.124  312.4          H1   \n",
       "...          ...      ...         ...    ...    ...    ...         ...   \n",
       "9429  164.972900 -0.06935     0.05740     -1  0.255  -25.5          H1   \n",
       "9430  165.243233  0.04650    -0.02255      1  0.207   20.7          H1   \n",
       "9431  165.740533 -0.03120     0.01920     -1  0.210  -21.0          H1   \n",
       "9432  165.733167  0.01410    -0.01620      1 -0.611  -61.1          H1   \n",
       "9433  165.627100 -0.00945     0.03720     -1  0.000   -0.0          H1   \n",
       "\n",
       "         pair  GAIN_C   ma_l   ma_s        cross  \n",
       "9216  GBP_JPY    -4.5  MA_20  MA_10  MA_10_MA_20  \n",
       "9217  GBP_JPY   -39.7  MA_20  MA_10  MA_10_MA_20  \n",
       "9218  GBP_JPY    80.2  MA_20  MA_10  MA_10_MA_20  \n",
       "9219  GBP_JPY   220.7  MA_20  MA_10  MA_10_MA_20  \n",
       "9220  GBP_JPY   533.1  MA_20  MA_10  MA_10_MA_20  \n",
       "...       ...     ...    ...    ...          ...  \n",
       "9429  GBP_JPY  2770.8  MA_20  MA_10  MA_10_MA_20  \n",
       "9430  GBP_JPY  2791.5  MA_20  MA_10  MA_10_MA_20  \n",
       "9431  GBP_JPY  2770.5  MA_20  MA_10  MA_10_MA_20  \n",
       "9432  GBP_JPY  2709.4  MA_20  MA_10  MA_10_MA_20  \n",
       "9433  GBP_JPY  2709.4  MA_20  MA_10  MA_10_MA_20  \n",
       "\n",
       "[218 rows x 32 columns]"
      ]
     },
     "execution_count": 68,
     "metadata": {},
     "output_type": "execute_result"
    }
   ],
   "source": [
    "df_gains # all gains for the GBP_JPY pair for the MA_10_MA_20 cross"
   ]
  },
  {
   "cell_type": "code",
   "execution_count": 69,
   "id": "3cb7d650",
   "metadata": {},
   "outputs": [
    {
     "data": {
      "application/vnd.plotly.v1+json": {
       "config": {
        "plotlyServerURL": "https://plot.ly"
       },
       "data": [
        {
         "line": {
          "shape": "spline",
          "width": 2
         },
         "name": "GAIN_C",
         "type": "scatter",
         "x": [
          "s21-12-09 23:00",
          "s21-12-13 18:00",
          "s21-12-14 10:00",
          "s21-12-16 22:00",
          "s21-12-20 19:00",
          "s21-12-24 04:00",
          "s21-12-24 18:00",
          "s21-12-24 19:00",
          "s21-12-27 04:00",
          "s21-12-28 09:00",
          "s21-12-28 13:00",
          "s21-12-28 16:00",
          "s21-12-29 07:00",
          "s21-12-31 05:00",
          "s21-12-31 08:00",
          "s22-01-03 08:00",
          "s22-01-04 02:00",
          "s22-01-05 06:00",
          "s22-01-05 19:00",
          "s22-01-06 06:00",
          "s22-01-06 20:00",
          "s22-01-07 16:00",
          "s22-01-07 20:00",
          "s22-01-10 12:00",
          "s22-01-11 03:00",
          "s22-01-12 18:00",
          "s22-01-13 09:00",
          "s22-01-13 15:00",
          "s22-01-17 01:00",
          "s22-01-17 18:00",
          "s22-01-18 04:00",
          "s22-01-18 12:00",
          "s22-01-19 06:00",
          "s22-01-19 07:00",
          "s22-01-19 15:00",
          "s22-01-19 23:00",
          "s22-01-20 08:00",
          "s22-01-20 15:00",
          "s22-01-24 05:00",
          "s22-01-24 10:00",
          "s22-01-25 02:00",
          "s22-01-25 10:00",
          "s22-01-25 16:00",
          "s22-01-27 03:00",
          "s22-01-27 14:00",
          "s22-01-28 17:00",
          "s22-01-31 04:00",
          "s22-01-31 18:00",
          "s22-02-01 12:00",
          "s22-02-02 13:00",
          "s22-02-02 19:00",
          "s22-02-03 08:00",
          "s22-02-03 09:00",
          "s22-02-04 09:00",
          "s22-02-07 07:00",
          "s22-02-07 08:00",
          "s22-02-07 23:00",
          "s22-02-09 08:00",
          "s22-02-09 11:00",
          "s22-02-09 20:00",
          "s22-02-10 08:00",
          "s22-02-11 03:00",
          "s22-02-11 14:00",
          "s22-02-11 20:00",
          "s22-02-14 19:00",
          "s22-02-15 06:00",
          "s22-02-15 10:00",
          "s22-02-16 20:00",
          "s22-02-16 23:00",
          "s22-02-17 04:00",
          "s22-02-17 20:00",
          "s22-02-18 00:00",
          "s22-02-18 06:00",
          "s22-02-18 17:00",
          "s22-02-21 07:00",
          "s22-02-21 16:00",
          "s22-02-22 15:00",
          "s22-02-23 17:00",
          "s22-02-24 23:00",
          "s22-02-25 14:00",
          "s22-02-25 16:00",
          "s22-02-28 03:00",
          "s22-02-28 14:00",
          "s22-02-28 20:00",
          "s22-03-01 06:00",
          "s22-03-01 10:00",
          "s22-03-02 09:00",
          "s22-03-03 15:00",
          "s22-03-08 08:00",
          "s22-03-10 14:00",
          "s22-03-11 07:00",
          "s22-03-15 01:00",
          "s22-03-15 03:00",
          "s22-03-15 16:00",
          "s22-03-15 17:00",
          "s22-03-17 15:00",
          "s22-03-18 03:00",
          "s22-03-21 07:00",
          "s22-03-21 16:00",
          "s22-03-23 11:00",
          "s22-03-24 01:00",
          "s22-03-25 07:00",
          "s22-03-25 18:00",
          "s22-03-28 19:00",
          "s22-03-29 06:00",
          "s22-03-29 08:00",
          "s22-03-30 17:00",
          "s22-03-31 00:00",
          "s22-03-31 05:00",
          "s22-03-31 10:00",
          "s22-04-01 00:00",
          "s22-04-01 19:00",
          "s22-04-04 06:00",
          "s22-04-05 04:00",
          "s22-04-05 10:00",
          "s22-04-06 20:00",
          "s22-04-07 09:00",
          "s22-04-08 07:00",
          "s22-04-08 18:00",
          "s22-04-12 01:00",
          "s22-04-12 14:00",
          "s22-04-12 15:00",
          "s22-04-13 05:00",
          "s22-04-14 11:00",
          "s22-04-14 23:00",
          "s22-04-15 19:00",
          "s22-04-18 18:00",
          "s22-04-20 09:00",
          "s22-04-21 01:00",
          "s22-04-21 17:00",
          "s22-04-21 22:00",
          "s22-04-21 23:00",
          "s22-04-26 02:00",
          "s22-04-26 11:00",
          "s22-04-27 08:00",
          "s22-04-28 22:00",
          "s22-04-29 03:00",
          "s22-04-29 19:00",
          "s22-05-02 00:00",
          "s22-05-02 13:00",
          "s22-05-03 07:00",
          "s22-05-03 17:00",
          "s22-05-04 12:00",
          "s22-05-04 17:00",
          "s22-05-04 21:00",
          "s22-05-05 08:00",
          "s22-05-06 05:00",
          "s22-05-06 12:00",
          "s22-05-08 23:00",
          "s22-05-09 07:00",
          "s22-05-09 10:00",
          "s22-05-09 20:00",
          "s22-05-10 07:00",
          "s22-05-10 12:00",
          "s22-05-11 01:00",
          "s22-05-11 12:00",
          "s22-05-11 13:00",
          "s22-05-11 15:00",
          "s22-05-13 02:00",
          "s22-05-16 08:00",
          "s22-05-16 16:00",
          "s22-05-18 05:00",
          "s22-05-19 07:00",
          "s22-05-20 08:00",
          "s22-05-20 10:00",
          "s22-05-23 01:00",
          "s22-05-23 02:00",
          "s22-05-24 06:00",
          "s22-05-25 03:00",
          "s22-05-26 09:00",
          "s22-05-26 18:00",
          "s22-05-27 14:00",
          "s22-05-27 20:00",
          "s22-05-31 09:00",
          "s22-05-31 16:00",
          "s22-06-01 17:00",
          "s22-06-02 08:00",
          "s22-06-06 00:00",
          "s22-06-06 09:00",
          "s22-06-09 06:00",
          "s22-06-09 19:00",
          "s22-06-10 05:00",
          "s22-06-14 05:00",
          "s22-06-14 13:00",
          "s22-06-15 03:00",
          "s22-06-15 13:00",
          "s22-06-15 15:00",
          "s22-06-16 10:00",
          "s22-06-16 20:00",
          "s22-06-17 20:00",
          "s22-06-20 05:00",
          "s22-06-20 10:00",
          "s22-06-20 11:00",
          "s22-06-22 05:00",
          "s22-06-22 18:00",
          "s22-06-23 03:00",
          "s22-06-24 01:00",
          "s22-06-27 02:00",
          "s22-06-27 11:00",
          "s22-06-28 01:00",
          "s22-06-28 08:00",
          "s22-06-28 20:00",
          "s22-07-04 00:00",
          "s22-07-05 11:00",
          "s22-07-06 21:00",
          "s22-07-08 07:00",
          "s22-07-08 17:00",
          "s22-07-11 13:00",
          "s22-07-12 21:00",
          "s22-07-14 20:00",
          "s22-07-15 03:00",
          "s22-07-15 12:00",
          "s22-07-17 21:00",
          "s22-07-19 00:00",
          "s22-07-19 11:00",
          "s22-07-20 12:00",
          "s22-07-21 03:00",
          "s22-07-21 13:00"
         ],
         "y": [
          -4.500000000001592,
          -39.70000000000198,
          80.19999999999925,
          220.69999999999936,
          533.0999999999989,
          540.7999999999987,
          545.999999999998,
          520.8999999999975,
          608.899999999997,
          605.2999999999969,
          579.6999999999969,
          566.3999999999959,
          674.0999999999957,
          648.9999999999952,
          676.3999999999953,
          687.6999999999953,
          809.6999999999952,
          755.1999999999964,
          664.6999999999963,
          643.6999999999955,
          664.4999999999953,
          657.0999999999941,
          584.0999999999923,
          539.2999999999915,
          560.0999999999914,
          528.8999999999902,
          468.9999999999884,
          497.59999999998854,
          491.79999999998927,
          466.09999999998877,
          379.59999999998786,
          414.09999999998774,
          419.299999999987,
          385.6999999999857,
          364.29999999998586,
          348.69999999998527,
          336.6999999999848,
          486.4999999999867,
          421.89999999998804,
          436.8999999999886,
          470.2999999999889,
          472.29999999998995,
          510.49999999999045,
          463.49999999999056,
          439.4999999999925,
          376.29999999999484,
          349.0999999999957,
          354.4999999999959,
          411.2999999999971,
          389.69999999999914,
          399.50000000000045,
          389.30000000000007,
          428.3999999999992,
          415.49999999999727,
          386.4999999999952,
          390.6999999999954,
          471.89999999999657,
          457.699999999997,
          424.0999999999957,
          401.29999999999484,
          463.39999999999577,
          457.19999999999743,
          351.09999999999957,
          337.5,
          301.6999999999996,
          231.99999999999932,
          251.09999999999957,
          269.2000000000007,
          240.5000000000001,
          235.0999999999999,
          221.10000000000127,
          170.60000000000173,
          115.50000000000296,
          82.10000000000548,
          44.500000000007844,
          33.700000000007435,
          -9.19999999999277,
          133.50000000000932,
          144.5000000000107,
          108.50000000001216,
          29.900000000012028,
          -9.79999999998995,
          -49.59999999998956,
          -74.99999999998863,
          -137.49999999998863,
          -86.29999999998859,
          8.700000000010277,
          281.40000000001066,
          385.90000000001226,
          385.90000000001226,
          519.3000000000126,
          472.7000000000146,
          474.40000000001703,
          480.20000000001914,
          630.600000000021,
          584.3000000000217,
          634.2000000000212,
          573.1000000000222,
          786.9000000000227,
          750.9000000000214,
          817.500000000021,
          773.6000000000217,
          886.6000000000213,
          910.7000000000198,
          878.9000000000186,
          1030.5000000000177,
          1094.5000000000164,
          1141.4000000000158,
          1080.3000000000168,
          1000.1000000000175,
          1026.1000000000167,
          995.5000000000156,
          974.4000000000143,
          922.3000000000128,
          968.5000000000117,
          958.9000000000113,
          949.5000000000119,
          911.3000000000114,
          1018.8000000000103,
          1022.30000000001,
          1022.5000000000109,
          1000.100000000012,
          1099.0000000000123,
          1052.1000000000129,
          1074.7000000000128,
          1066.5000000000134,
          1236.3000000000143,
          1163.8000000000147,
          1111.500000000015,
          1095.200000000014,
          1099.0000000000123,
          1515.9000000000106,
          1383.9000000000112,
          1521.3000000000136,
          1788.6000000000138,
          1790.3000000000134,
          1801.3000000000147,
          1772.9000000000156,
          1743.5000000000146,
          1738.9000000000124,
          1674.900000000011,
          1660.1000000000113,
          1628.0000000000114,
          1548.7000000000107,
          1500.500000000011,
          1627.900000000011,
          1583.7000000000103,
          1569.5000000000107,
          1576.700000000011,
          1517.7000000000107,
          1404.6000000000108,
          1416.500000000011,
          1371.6000000000126,
          1312.1000000000126,
          1307.7000000000116,
          1243.300000000011,
          1146.9000000000112,
          1442.7000000000112,
          1534.6000000000095,
          1523.5000000000077,
          1814.7000000000085,
          2067.8000000000093,
          2182.500000000008,
          2191.7000000000066,
          2171.3000000000056,
          2162.5000000000064,
          2240.7000000000075,
          2362.500000000009,
          2414.1000000000113,
          2377.7000000000135,
          2394.500000000014,
          2372.7000000000126,
          2435.90000000001,
          2335.100000000009,
          2372.9000000000106,
          2346.600000000013,
          2392.400000000013,
          2300.500000000012,
          2630.0000000000105,
          2590.7000000000103,
          2526.7000000000116,
          2838.9000000000133,
          2628.5000000000146,
          2592.900000000015,
          2603.5000000000146,
          2636.8000000000143,
          2603.3000000000166,
          2454.9000000000187,
          2616.100000000018,
          2577.1000000000167,
          2567.9000000000156,
          2543.8000000000143,
          2669.8000000000134,
          2631.3000000000116,
          2509.300000000009,
          2560.700000000007,
          2577.3000000000065,
          2526.1000000000067,
          2501.200000000007,
          2415.5000000000073,
          2338.900000000005,
          2595.5000000000027,
          2579.8000000000015,
          2698.5000000000027,
          2721.7000000000025,
          2575.6000000000013,
          2561.6,
          2649.299999999998,
          2811.6999999999975,
          2797.699999999999,
          2771.499999999999,
          2743.099999999997,
          2796.2999999999956,
          2770.7999999999934,
          2791.4999999999927,
          2770.4999999999945,
          2709.3999999999955,
          2709.3999999999955
         ]
        }
       ],
       "layout": {
        "font": {
         "color": "#e1e1e1",
         "size": 8
        },
        "height": 400,
        "margin": {
         "b": 10,
         "l": 10,
         "r": 10,
         "t": 10
        },
        "paper_bgcolor": "#2c303c",
        "plot_bgcolor": "#2c303c",
        "template": {
         "data": {
          "bar": [
           {
            "error_x": {
             "color": "#2a3f5f"
            },
            "error_y": {
             "color": "#2a3f5f"
            },
            "marker": {
             "line": {
              "color": "#E5ECF6",
              "width": 0.5
             },
             "pattern": {
              "fillmode": "overlay",
              "size": 10,
              "solidity": 0.2
             }
            },
            "type": "bar"
           }
          ],
          "barpolar": [
           {
            "marker": {
             "line": {
              "color": "#E5ECF6",
              "width": 0.5
             },
             "pattern": {
              "fillmode": "overlay",
              "size": 10,
              "solidity": 0.2
             }
            },
            "type": "barpolar"
           }
          ],
          "carpet": [
           {
            "aaxis": {
             "endlinecolor": "#2a3f5f",
             "gridcolor": "white",
             "linecolor": "white",
             "minorgridcolor": "white",
             "startlinecolor": "#2a3f5f"
            },
            "baxis": {
             "endlinecolor": "#2a3f5f",
             "gridcolor": "white",
             "linecolor": "white",
             "minorgridcolor": "white",
             "startlinecolor": "#2a3f5f"
            },
            "type": "carpet"
           }
          ],
          "choropleth": [
           {
            "colorbar": {
             "outlinewidth": 0,
             "ticks": ""
            },
            "type": "choropleth"
           }
          ],
          "contour": [
           {
            "colorbar": {
             "outlinewidth": 0,
             "ticks": ""
            },
            "colorscale": [
             [
              0,
              "#0d0887"
             ],
             [
              0.1111111111111111,
              "#46039f"
             ],
             [
              0.2222222222222222,
              "#7201a8"
             ],
             [
              0.3333333333333333,
              "#9c179e"
             ],
             [
              0.4444444444444444,
              "#bd3786"
             ],
             [
              0.5555555555555556,
              "#d8576b"
             ],
             [
              0.6666666666666666,
              "#ed7953"
             ],
             [
              0.7777777777777778,
              "#fb9f3a"
             ],
             [
              0.8888888888888888,
              "#fdca26"
             ],
             [
              1,
              "#f0f921"
             ]
            ],
            "type": "contour"
           }
          ],
          "contourcarpet": [
           {
            "colorbar": {
             "outlinewidth": 0,
             "ticks": ""
            },
            "type": "contourcarpet"
           }
          ],
          "heatmap": [
           {
            "colorbar": {
             "outlinewidth": 0,
             "ticks": ""
            },
            "colorscale": [
             [
              0,
              "#0d0887"
             ],
             [
              0.1111111111111111,
              "#46039f"
             ],
             [
              0.2222222222222222,
              "#7201a8"
             ],
             [
              0.3333333333333333,
              "#9c179e"
             ],
             [
              0.4444444444444444,
              "#bd3786"
             ],
             [
              0.5555555555555556,
              "#d8576b"
             ],
             [
              0.6666666666666666,
              "#ed7953"
             ],
             [
              0.7777777777777778,
              "#fb9f3a"
             ],
             [
              0.8888888888888888,
              "#fdca26"
             ],
             [
              1,
              "#f0f921"
             ]
            ],
            "type": "heatmap"
           }
          ],
          "heatmapgl": [
           {
            "colorbar": {
             "outlinewidth": 0,
             "ticks": ""
            },
            "colorscale": [
             [
              0,
              "#0d0887"
             ],
             [
              0.1111111111111111,
              "#46039f"
             ],
             [
              0.2222222222222222,
              "#7201a8"
             ],
             [
              0.3333333333333333,
              "#9c179e"
             ],
             [
              0.4444444444444444,
              "#bd3786"
             ],
             [
              0.5555555555555556,
              "#d8576b"
             ],
             [
              0.6666666666666666,
              "#ed7953"
             ],
             [
              0.7777777777777778,
              "#fb9f3a"
             ],
             [
              0.8888888888888888,
              "#fdca26"
             ],
             [
              1,
              "#f0f921"
             ]
            ],
            "type": "heatmapgl"
           }
          ],
          "histogram": [
           {
            "marker": {
             "pattern": {
              "fillmode": "overlay",
              "size": 10,
              "solidity": 0.2
             }
            },
            "type": "histogram"
           }
          ],
          "histogram2d": [
           {
            "colorbar": {
             "outlinewidth": 0,
             "ticks": ""
            },
            "colorscale": [
             [
              0,
              "#0d0887"
             ],
             [
              0.1111111111111111,
              "#46039f"
             ],
             [
              0.2222222222222222,
              "#7201a8"
             ],
             [
              0.3333333333333333,
              "#9c179e"
             ],
             [
              0.4444444444444444,
              "#bd3786"
             ],
             [
              0.5555555555555556,
              "#d8576b"
             ],
             [
              0.6666666666666666,
              "#ed7953"
             ],
             [
              0.7777777777777778,
              "#fb9f3a"
             ],
             [
              0.8888888888888888,
              "#fdca26"
             ],
             [
              1,
              "#f0f921"
             ]
            ],
            "type": "histogram2d"
           }
          ],
          "histogram2dcontour": [
           {
            "colorbar": {
             "outlinewidth": 0,
             "ticks": ""
            },
            "colorscale": [
             [
              0,
              "#0d0887"
             ],
             [
              0.1111111111111111,
              "#46039f"
             ],
             [
              0.2222222222222222,
              "#7201a8"
             ],
             [
              0.3333333333333333,
              "#9c179e"
             ],
             [
              0.4444444444444444,
              "#bd3786"
             ],
             [
              0.5555555555555556,
              "#d8576b"
             ],
             [
              0.6666666666666666,
              "#ed7953"
             ],
             [
              0.7777777777777778,
              "#fb9f3a"
             ],
             [
              0.8888888888888888,
              "#fdca26"
             ],
             [
              1,
              "#f0f921"
             ]
            ],
            "type": "histogram2dcontour"
           }
          ],
          "mesh3d": [
           {
            "colorbar": {
             "outlinewidth": 0,
             "ticks": ""
            },
            "type": "mesh3d"
           }
          ],
          "parcoords": [
           {
            "line": {
             "colorbar": {
              "outlinewidth": 0,
              "ticks": ""
             }
            },
            "type": "parcoords"
           }
          ],
          "pie": [
           {
            "automargin": true,
            "type": "pie"
           }
          ],
          "scatter": [
           {
            "fillpattern": {
             "fillmode": "overlay",
             "size": 10,
             "solidity": 0.2
            },
            "type": "scatter"
           }
          ],
          "scatter3d": [
           {
            "line": {
             "colorbar": {
              "outlinewidth": 0,
              "ticks": ""
             }
            },
            "marker": {
             "colorbar": {
              "outlinewidth": 0,
              "ticks": ""
             }
            },
            "type": "scatter3d"
           }
          ],
          "scattercarpet": [
           {
            "marker": {
             "colorbar": {
              "outlinewidth": 0,
              "ticks": ""
             }
            },
            "type": "scattercarpet"
           }
          ],
          "scattergeo": [
           {
            "marker": {
             "colorbar": {
              "outlinewidth": 0,
              "ticks": ""
             }
            },
            "type": "scattergeo"
           }
          ],
          "scattergl": [
           {
            "marker": {
             "colorbar": {
              "outlinewidth": 0,
              "ticks": ""
             }
            },
            "type": "scattergl"
           }
          ],
          "scattermapbox": [
           {
            "marker": {
             "colorbar": {
              "outlinewidth": 0,
              "ticks": ""
             }
            },
            "type": "scattermapbox"
           }
          ],
          "scatterpolar": [
           {
            "marker": {
             "colorbar": {
              "outlinewidth": 0,
              "ticks": ""
             }
            },
            "type": "scatterpolar"
           }
          ],
          "scatterpolargl": [
           {
            "marker": {
             "colorbar": {
              "outlinewidth": 0,
              "ticks": ""
             }
            },
            "type": "scatterpolargl"
           }
          ],
          "scatterternary": [
           {
            "marker": {
             "colorbar": {
              "outlinewidth": 0,
              "ticks": ""
             }
            },
            "type": "scatterternary"
           }
          ],
          "surface": [
           {
            "colorbar": {
             "outlinewidth": 0,
             "ticks": ""
            },
            "colorscale": [
             [
              0,
              "#0d0887"
             ],
             [
              0.1111111111111111,
              "#46039f"
             ],
             [
              0.2222222222222222,
              "#7201a8"
             ],
             [
              0.3333333333333333,
              "#9c179e"
             ],
             [
              0.4444444444444444,
              "#bd3786"
             ],
             [
              0.5555555555555556,
              "#d8576b"
             ],
             [
              0.6666666666666666,
              "#ed7953"
             ],
             [
              0.7777777777777778,
              "#fb9f3a"
             ],
             [
              0.8888888888888888,
              "#fdca26"
             ],
             [
              1,
              "#f0f921"
             ]
            ],
            "type": "surface"
           }
          ],
          "table": [
           {
            "cells": {
             "fill": {
              "color": "#EBF0F8"
             },
             "line": {
              "color": "white"
             }
            },
            "header": {
             "fill": {
              "color": "#C8D4E3"
             },
             "line": {
              "color": "white"
             }
            },
            "type": "table"
           }
          ]
         },
         "layout": {
          "annotationdefaults": {
           "arrowcolor": "#2a3f5f",
           "arrowhead": 0,
           "arrowwidth": 1
          },
          "autotypenumbers": "strict",
          "coloraxis": {
           "colorbar": {
            "outlinewidth": 0,
            "ticks": ""
           }
          },
          "colorscale": {
           "diverging": [
            [
             0,
             "#8e0152"
            ],
            [
             0.1,
             "#c51b7d"
            ],
            [
             0.2,
             "#de77ae"
            ],
            [
             0.3,
             "#f1b6da"
            ],
            [
             0.4,
             "#fde0ef"
            ],
            [
             0.5,
             "#f7f7f7"
            ],
            [
             0.6,
             "#e6f5d0"
            ],
            [
             0.7,
             "#b8e186"
            ],
            [
             0.8,
             "#7fbc41"
            ],
            [
             0.9,
             "#4d9221"
            ],
            [
             1,
             "#276419"
            ]
           ],
           "sequential": [
            [
             0,
             "#0d0887"
            ],
            [
             0.1111111111111111,
             "#46039f"
            ],
            [
             0.2222222222222222,
             "#7201a8"
            ],
            [
             0.3333333333333333,
             "#9c179e"
            ],
            [
             0.4444444444444444,
             "#bd3786"
            ],
            [
             0.5555555555555556,
             "#d8576b"
            ],
            [
             0.6666666666666666,
             "#ed7953"
            ],
            [
             0.7777777777777778,
             "#fb9f3a"
            ],
            [
             0.8888888888888888,
             "#fdca26"
            ],
            [
             1,
             "#f0f921"
            ]
           ],
           "sequentialminus": [
            [
             0,
             "#0d0887"
            ],
            [
             0.1111111111111111,
             "#46039f"
            ],
            [
             0.2222222222222222,
             "#7201a8"
            ],
            [
             0.3333333333333333,
             "#9c179e"
            ],
            [
             0.4444444444444444,
             "#bd3786"
            ],
            [
             0.5555555555555556,
             "#d8576b"
            ],
            [
             0.6666666666666666,
             "#ed7953"
            ],
            [
             0.7777777777777778,
             "#fb9f3a"
            ],
            [
             0.8888888888888888,
             "#fdca26"
            ],
            [
             1,
             "#f0f921"
            ]
           ]
          },
          "colorway": [
           "#636efa",
           "#EF553B",
           "#00cc96",
           "#ab63fa",
           "#FFA15A",
           "#19d3f3",
           "#FF6692",
           "#B6E880",
           "#FF97FF",
           "#FECB52"
          ],
          "font": {
           "color": "#2a3f5f"
          },
          "geo": {
           "bgcolor": "white",
           "lakecolor": "white",
           "landcolor": "#E5ECF6",
           "showlakes": true,
           "showland": true,
           "subunitcolor": "white"
          },
          "hoverlabel": {
           "align": "left"
          },
          "hovermode": "closest",
          "mapbox": {
           "style": "light"
          },
          "paper_bgcolor": "white",
          "plot_bgcolor": "#E5ECF6",
          "polar": {
           "angularaxis": {
            "gridcolor": "white",
            "linecolor": "white",
            "ticks": ""
           },
           "bgcolor": "#E5ECF6",
           "radialaxis": {
            "gridcolor": "white",
            "linecolor": "white",
            "ticks": ""
           }
          },
          "scene": {
           "xaxis": {
            "backgroundcolor": "#E5ECF6",
            "gridcolor": "white",
            "gridwidth": 2,
            "linecolor": "white",
            "showbackground": true,
            "ticks": "",
            "zerolinecolor": "white"
           },
           "yaxis": {
            "backgroundcolor": "#E5ECF6",
            "gridcolor": "white",
            "gridwidth": 2,
            "linecolor": "white",
            "showbackground": true,
            "ticks": "",
            "zerolinecolor": "white"
           },
           "zaxis": {
            "backgroundcolor": "#E5ECF6",
            "gridcolor": "white",
            "gridwidth": 2,
            "linecolor": "white",
            "showbackground": true,
            "ticks": "",
            "zerolinecolor": "white"
           }
          },
          "shapedefaults": {
           "line": {
            "color": "#2a3f5f"
           }
          },
          "ternary": {
           "aaxis": {
            "gridcolor": "white",
            "linecolor": "white",
            "ticks": ""
           },
           "baxis": {
            "gridcolor": "white",
            "linecolor": "white",
            "ticks": ""
           },
           "bgcolor": "#E5ECF6",
           "caxis": {
            "gridcolor": "white",
            "linecolor": "white",
            "ticks": ""
           }
          },
          "title": {
           "x": 0.05
          },
          "xaxis": {
           "automargin": true,
           "gridcolor": "white",
           "linecolor": "white",
           "ticks": "",
           "title": {
            "standoff": 15
           },
           "zerolinecolor": "white",
           "zerolinewidth": 2
          },
          "yaxis": {
           "automargin": true,
           "gridcolor": "white",
           "linecolor": "white",
           "ticks": "",
           "title": {
            "standoff": 15
           },
           "zerolinecolor": "white",
           "zerolinewidth": 2
          }
         }
        },
        "width": 900,
        "xaxis": {
         "gridcolor": "#1f292f",
         "nticks": 5,
         "rangeslider": {
          "visible": false
         }
        },
        "yaxis": {
         "gridcolor": "#1f292f"
        }
       }
      },
      "text/html": [
       "<div>                            <div id=\"1f6b89cb-9aed-4e9d-b4df-7c17044b89c3\" class=\"plotly-graph-div\" style=\"height:400px; width:900px;\"></div>            <script type=\"text/javascript\">                require([\"plotly\"], function(Plotly) {                    window.PLOTLYENV=window.PLOTLYENV || {};                                    if (document.getElementById(\"1f6b89cb-9aed-4e9d-b4df-7c17044b89c3\")) {                    Plotly.newPlot(                        \"1f6b89cb-9aed-4e9d-b4df-7c17044b89c3\",                        [{\"line\":{\"shape\":\"spline\",\"width\":2},\"name\":\"GAIN_C\",\"x\":[\"s21-12-09 23:00\",\"s21-12-13 18:00\",\"s21-12-14 10:00\",\"s21-12-16 22:00\",\"s21-12-20 19:00\",\"s21-12-24 04:00\",\"s21-12-24 18:00\",\"s21-12-24 19:00\",\"s21-12-27 04:00\",\"s21-12-28 09:00\",\"s21-12-28 13:00\",\"s21-12-28 16:00\",\"s21-12-29 07:00\",\"s21-12-31 05:00\",\"s21-12-31 08:00\",\"s22-01-03 08:00\",\"s22-01-04 02:00\",\"s22-01-05 06:00\",\"s22-01-05 19:00\",\"s22-01-06 06:00\",\"s22-01-06 20:00\",\"s22-01-07 16:00\",\"s22-01-07 20:00\",\"s22-01-10 12:00\",\"s22-01-11 03:00\",\"s22-01-12 18:00\",\"s22-01-13 09:00\",\"s22-01-13 15:00\",\"s22-01-17 01:00\",\"s22-01-17 18:00\",\"s22-01-18 04:00\",\"s22-01-18 12:00\",\"s22-01-19 06:00\",\"s22-01-19 07:00\",\"s22-01-19 15:00\",\"s22-01-19 23:00\",\"s22-01-20 08:00\",\"s22-01-20 15:00\",\"s22-01-24 05:00\",\"s22-01-24 10:00\",\"s22-01-25 02:00\",\"s22-01-25 10:00\",\"s22-01-25 16:00\",\"s22-01-27 03:00\",\"s22-01-27 14:00\",\"s22-01-28 17:00\",\"s22-01-31 04:00\",\"s22-01-31 18:00\",\"s22-02-01 12:00\",\"s22-02-02 13:00\",\"s22-02-02 19:00\",\"s22-02-03 08:00\",\"s22-02-03 09:00\",\"s22-02-04 09:00\",\"s22-02-07 07:00\",\"s22-02-07 08:00\",\"s22-02-07 23:00\",\"s22-02-09 08:00\",\"s22-02-09 11:00\",\"s22-02-09 20:00\",\"s22-02-10 08:00\",\"s22-02-11 03:00\",\"s22-02-11 14:00\",\"s22-02-11 20:00\",\"s22-02-14 19:00\",\"s22-02-15 06:00\",\"s22-02-15 10:00\",\"s22-02-16 20:00\",\"s22-02-16 23:00\",\"s22-02-17 04:00\",\"s22-02-17 20:00\",\"s22-02-18 00:00\",\"s22-02-18 06:00\",\"s22-02-18 17:00\",\"s22-02-21 07:00\",\"s22-02-21 16:00\",\"s22-02-22 15:00\",\"s22-02-23 17:00\",\"s22-02-24 23:00\",\"s22-02-25 14:00\",\"s22-02-25 16:00\",\"s22-02-28 03:00\",\"s22-02-28 14:00\",\"s22-02-28 20:00\",\"s22-03-01 06:00\",\"s22-03-01 10:00\",\"s22-03-02 09:00\",\"s22-03-03 15:00\",\"s22-03-08 08:00\",\"s22-03-10 14:00\",\"s22-03-11 07:00\",\"s22-03-15 01:00\",\"s22-03-15 03:00\",\"s22-03-15 16:00\",\"s22-03-15 17:00\",\"s22-03-17 15:00\",\"s22-03-18 03:00\",\"s22-03-21 07:00\",\"s22-03-21 16:00\",\"s22-03-23 11:00\",\"s22-03-24 01:00\",\"s22-03-25 07:00\",\"s22-03-25 18:00\",\"s22-03-28 19:00\",\"s22-03-29 06:00\",\"s22-03-29 08:00\",\"s22-03-30 17:00\",\"s22-03-31 00:00\",\"s22-03-31 05:00\",\"s22-03-31 10:00\",\"s22-04-01 00:00\",\"s22-04-01 19:00\",\"s22-04-04 06:00\",\"s22-04-05 04:00\",\"s22-04-05 10:00\",\"s22-04-06 20:00\",\"s22-04-07 09:00\",\"s22-04-08 07:00\",\"s22-04-08 18:00\",\"s22-04-12 01:00\",\"s22-04-12 14:00\",\"s22-04-12 15:00\",\"s22-04-13 05:00\",\"s22-04-14 11:00\",\"s22-04-14 23:00\",\"s22-04-15 19:00\",\"s22-04-18 18:00\",\"s22-04-20 09:00\",\"s22-04-21 01:00\",\"s22-04-21 17:00\",\"s22-04-21 22:00\",\"s22-04-21 23:00\",\"s22-04-26 02:00\",\"s22-04-26 11:00\",\"s22-04-27 08:00\",\"s22-04-28 22:00\",\"s22-04-29 03:00\",\"s22-04-29 19:00\",\"s22-05-02 00:00\",\"s22-05-02 13:00\",\"s22-05-03 07:00\",\"s22-05-03 17:00\",\"s22-05-04 12:00\",\"s22-05-04 17:00\",\"s22-05-04 21:00\",\"s22-05-05 08:00\",\"s22-05-06 05:00\",\"s22-05-06 12:00\",\"s22-05-08 23:00\",\"s22-05-09 07:00\",\"s22-05-09 10:00\",\"s22-05-09 20:00\",\"s22-05-10 07:00\",\"s22-05-10 12:00\",\"s22-05-11 01:00\",\"s22-05-11 12:00\",\"s22-05-11 13:00\",\"s22-05-11 15:00\",\"s22-05-13 02:00\",\"s22-05-16 08:00\",\"s22-05-16 16:00\",\"s22-05-18 05:00\",\"s22-05-19 07:00\",\"s22-05-20 08:00\",\"s22-05-20 10:00\",\"s22-05-23 01:00\",\"s22-05-23 02:00\",\"s22-05-24 06:00\",\"s22-05-25 03:00\",\"s22-05-26 09:00\",\"s22-05-26 18:00\",\"s22-05-27 14:00\",\"s22-05-27 20:00\",\"s22-05-31 09:00\",\"s22-05-31 16:00\",\"s22-06-01 17:00\",\"s22-06-02 08:00\",\"s22-06-06 00:00\",\"s22-06-06 09:00\",\"s22-06-09 06:00\",\"s22-06-09 19:00\",\"s22-06-10 05:00\",\"s22-06-14 05:00\",\"s22-06-14 13:00\",\"s22-06-15 03:00\",\"s22-06-15 13:00\",\"s22-06-15 15:00\",\"s22-06-16 10:00\",\"s22-06-16 20:00\",\"s22-06-17 20:00\",\"s22-06-20 05:00\",\"s22-06-20 10:00\",\"s22-06-20 11:00\",\"s22-06-22 05:00\",\"s22-06-22 18:00\",\"s22-06-23 03:00\",\"s22-06-24 01:00\",\"s22-06-27 02:00\",\"s22-06-27 11:00\",\"s22-06-28 01:00\",\"s22-06-28 08:00\",\"s22-06-28 20:00\",\"s22-07-04 00:00\",\"s22-07-05 11:00\",\"s22-07-06 21:00\",\"s22-07-08 07:00\",\"s22-07-08 17:00\",\"s22-07-11 13:00\",\"s22-07-12 21:00\",\"s22-07-14 20:00\",\"s22-07-15 03:00\",\"s22-07-15 12:00\",\"s22-07-17 21:00\",\"s22-07-19 00:00\",\"s22-07-19 11:00\",\"s22-07-20 12:00\",\"s22-07-21 03:00\",\"s22-07-21 13:00\"],\"y\":[-4.500000000001592,-39.70000000000198,80.19999999999925,220.69999999999936,533.0999999999989,540.7999999999987,545.999999999998,520.8999999999975,608.899999999997,605.2999999999969,579.6999999999969,566.3999999999959,674.0999999999957,648.9999999999952,676.3999999999953,687.6999999999953,809.6999999999952,755.1999999999964,664.6999999999963,643.6999999999955,664.4999999999953,657.0999999999941,584.0999999999923,539.2999999999915,560.0999999999914,528.8999999999902,468.9999999999884,497.59999999998854,491.79999999998927,466.09999999998877,379.59999999998786,414.09999999998774,419.299999999987,385.6999999999857,364.29999999998586,348.69999999998527,336.6999999999848,486.4999999999867,421.89999999998804,436.8999999999886,470.2999999999889,472.29999999998995,510.49999999999045,463.49999999999056,439.4999999999925,376.29999999999484,349.0999999999957,354.4999999999959,411.2999999999971,389.69999999999914,399.50000000000045,389.30000000000007,428.3999999999992,415.49999999999727,386.4999999999952,390.6999999999954,471.89999999999657,457.699999999997,424.0999999999957,401.29999999999484,463.39999999999577,457.19999999999743,351.09999999999957,337.5,301.6999999999996,231.99999999999932,251.09999999999957,269.2000000000007,240.5000000000001,235.0999999999999,221.10000000000127,170.60000000000173,115.50000000000296,82.10000000000548,44.500000000007844,33.700000000007435,-9.19999999999277,133.50000000000932,144.5000000000107,108.50000000001216,29.900000000012028,-9.79999999998995,-49.59999999998956,-74.99999999998863,-137.49999999998863,-86.29999999998859,8.700000000010277,281.40000000001066,385.90000000001226,385.90000000001226,519.3000000000126,472.7000000000146,474.40000000001703,480.20000000001914,630.600000000021,584.3000000000217,634.2000000000212,573.1000000000222,786.9000000000227,750.9000000000214,817.500000000021,773.6000000000217,886.6000000000213,910.7000000000198,878.9000000000186,1030.5000000000177,1094.5000000000164,1141.4000000000158,1080.3000000000168,1000.1000000000175,1026.1000000000167,995.5000000000156,974.4000000000143,922.3000000000128,968.5000000000117,958.9000000000113,949.5000000000119,911.3000000000114,1018.8000000000103,1022.30000000001,1022.5000000000109,1000.100000000012,1099.0000000000123,1052.1000000000129,1074.7000000000128,1066.5000000000134,1236.3000000000143,1163.8000000000147,1111.500000000015,1095.200000000014,1099.0000000000123,1515.9000000000106,1383.9000000000112,1521.3000000000136,1788.6000000000138,1790.3000000000134,1801.3000000000147,1772.9000000000156,1743.5000000000146,1738.9000000000124,1674.900000000011,1660.1000000000113,1628.0000000000114,1548.7000000000107,1500.500000000011,1627.900000000011,1583.7000000000103,1569.5000000000107,1576.700000000011,1517.7000000000107,1404.6000000000108,1416.500000000011,1371.6000000000126,1312.1000000000126,1307.7000000000116,1243.300000000011,1146.9000000000112,1442.7000000000112,1534.6000000000095,1523.5000000000077,1814.7000000000085,2067.8000000000093,2182.500000000008,2191.7000000000066,2171.3000000000056,2162.5000000000064,2240.7000000000075,2362.500000000009,2414.1000000000113,2377.7000000000135,2394.500000000014,2372.7000000000126,2435.90000000001,2335.100000000009,2372.9000000000106,2346.600000000013,2392.400000000013,2300.500000000012,2630.0000000000105,2590.7000000000103,2526.7000000000116,2838.9000000000133,2628.5000000000146,2592.900000000015,2603.5000000000146,2636.8000000000143,2603.3000000000166,2454.9000000000187,2616.100000000018,2577.1000000000167,2567.9000000000156,2543.8000000000143,2669.8000000000134,2631.3000000000116,2509.300000000009,2560.700000000007,2577.3000000000065,2526.1000000000067,2501.200000000007,2415.5000000000073,2338.900000000005,2595.5000000000027,2579.8000000000015,2698.5000000000027,2721.7000000000025,2575.6000000000013,2561.6,2649.299999999998,2811.6999999999975,2797.699999999999,2771.499999999999,2743.099999999997,2796.2999999999956,2770.7999999999934,2791.4999999999927,2770.4999999999945,2709.3999999999955,2709.3999999999955],\"type\":\"scatter\"}],                        {\"template\":{\"data\":{\"histogram2dcontour\":[{\"type\":\"histogram2dcontour\",\"colorbar\":{\"outlinewidth\":0,\"ticks\":\"\"},\"colorscale\":[[0.0,\"#0d0887\"],[0.1111111111111111,\"#46039f\"],[0.2222222222222222,\"#7201a8\"],[0.3333333333333333,\"#9c179e\"],[0.4444444444444444,\"#bd3786\"],[0.5555555555555556,\"#d8576b\"],[0.6666666666666666,\"#ed7953\"],[0.7777777777777778,\"#fb9f3a\"],[0.8888888888888888,\"#fdca26\"],[1.0,\"#f0f921\"]]}],\"choropleth\":[{\"type\":\"choropleth\",\"colorbar\":{\"outlinewidth\":0,\"ticks\":\"\"}}],\"histogram2d\":[{\"type\":\"histogram2d\",\"colorbar\":{\"outlinewidth\":0,\"ticks\":\"\"},\"colorscale\":[[0.0,\"#0d0887\"],[0.1111111111111111,\"#46039f\"],[0.2222222222222222,\"#7201a8\"],[0.3333333333333333,\"#9c179e\"],[0.4444444444444444,\"#bd3786\"],[0.5555555555555556,\"#d8576b\"],[0.6666666666666666,\"#ed7953\"],[0.7777777777777778,\"#fb9f3a\"],[0.8888888888888888,\"#fdca26\"],[1.0,\"#f0f921\"]]}],\"heatmap\":[{\"type\":\"heatmap\",\"colorbar\":{\"outlinewidth\":0,\"ticks\":\"\"},\"colorscale\":[[0.0,\"#0d0887\"],[0.1111111111111111,\"#46039f\"],[0.2222222222222222,\"#7201a8\"],[0.3333333333333333,\"#9c179e\"],[0.4444444444444444,\"#bd3786\"],[0.5555555555555556,\"#d8576b\"],[0.6666666666666666,\"#ed7953\"],[0.7777777777777778,\"#fb9f3a\"],[0.8888888888888888,\"#fdca26\"],[1.0,\"#f0f921\"]]}],\"heatmapgl\":[{\"type\":\"heatmapgl\",\"colorbar\":{\"outlinewidth\":0,\"ticks\":\"\"},\"colorscale\":[[0.0,\"#0d0887\"],[0.1111111111111111,\"#46039f\"],[0.2222222222222222,\"#7201a8\"],[0.3333333333333333,\"#9c179e\"],[0.4444444444444444,\"#bd3786\"],[0.5555555555555556,\"#d8576b\"],[0.6666666666666666,\"#ed7953\"],[0.7777777777777778,\"#fb9f3a\"],[0.8888888888888888,\"#fdca26\"],[1.0,\"#f0f921\"]]}],\"contourcarpet\":[{\"type\":\"contourcarpet\",\"colorbar\":{\"outlinewidth\":0,\"ticks\":\"\"}}],\"contour\":[{\"type\":\"contour\",\"colorbar\":{\"outlinewidth\":0,\"ticks\":\"\"},\"colorscale\":[[0.0,\"#0d0887\"],[0.1111111111111111,\"#46039f\"],[0.2222222222222222,\"#7201a8\"],[0.3333333333333333,\"#9c179e\"],[0.4444444444444444,\"#bd3786\"],[0.5555555555555556,\"#d8576b\"],[0.6666666666666666,\"#ed7953\"],[0.7777777777777778,\"#fb9f3a\"],[0.8888888888888888,\"#fdca26\"],[1.0,\"#f0f921\"]]}],\"surface\":[{\"type\":\"surface\",\"colorbar\":{\"outlinewidth\":0,\"ticks\":\"\"},\"colorscale\":[[0.0,\"#0d0887\"],[0.1111111111111111,\"#46039f\"],[0.2222222222222222,\"#7201a8\"],[0.3333333333333333,\"#9c179e\"],[0.4444444444444444,\"#bd3786\"],[0.5555555555555556,\"#d8576b\"],[0.6666666666666666,\"#ed7953\"],[0.7777777777777778,\"#fb9f3a\"],[0.8888888888888888,\"#fdca26\"],[1.0,\"#f0f921\"]]}],\"mesh3d\":[{\"type\":\"mesh3d\",\"colorbar\":{\"outlinewidth\":0,\"ticks\":\"\"}}],\"scatter\":[{\"fillpattern\":{\"fillmode\":\"overlay\",\"size\":10,\"solidity\":0.2},\"type\":\"scatter\"}],\"parcoords\":[{\"type\":\"parcoords\",\"line\":{\"colorbar\":{\"outlinewidth\":0,\"ticks\":\"\"}}}],\"scatterpolargl\":[{\"type\":\"scatterpolargl\",\"marker\":{\"colorbar\":{\"outlinewidth\":0,\"ticks\":\"\"}}}],\"bar\":[{\"error_x\":{\"color\":\"#2a3f5f\"},\"error_y\":{\"color\":\"#2a3f5f\"},\"marker\":{\"line\":{\"color\":\"#E5ECF6\",\"width\":0.5},\"pattern\":{\"fillmode\":\"overlay\",\"size\":10,\"solidity\":0.2}},\"type\":\"bar\"}],\"scattergeo\":[{\"type\":\"scattergeo\",\"marker\":{\"colorbar\":{\"outlinewidth\":0,\"ticks\":\"\"}}}],\"scatterpolar\":[{\"type\":\"scatterpolar\",\"marker\":{\"colorbar\":{\"outlinewidth\":0,\"ticks\":\"\"}}}],\"histogram\":[{\"marker\":{\"pattern\":{\"fillmode\":\"overlay\",\"size\":10,\"solidity\":0.2}},\"type\":\"histogram\"}],\"scattergl\":[{\"type\":\"scattergl\",\"marker\":{\"colorbar\":{\"outlinewidth\":0,\"ticks\":\"\"}}}],\"scatter3d\":[{\"type\":\"scatter3d\",\"line\":{\"colorbar\":{\"outlinewidth\":0,\"ticks\":\"\"}},\"marker\":{\"colorbar\":{\"outlinewidth\":0,\"ticks\":\"\"}}}],\"scattermapbox\":[{\"type\":\"scattermapbox\",\"marker\":{\"colorbar\":{\"outlinewidth\":0,\"ticks\":\"\"}}}],\"scatterternary\":[{\"type\":\"scatterternary\",\"marker\":{\"colorbar\":{\"outlinewidth\":0,\"ticks\":\"\"}}}],\"scattercarpet\":[{\"type\":\"scattercarpet\",\"marker\":{\"colorbar\":{\"outlinewidth\":0,\"ticks\":\"\"}}}],\"carpet\":[{\"aaxis\":{\"endlinecolor\":\"#2a3f5f\",\"gridcolor\":\"white\",\"linecolor\":\"white\",\"minorgridcolor\":\"white\",\"startlinecolor\":\"#2a3f5f\"},\"baxis\":{\"endlinecolor\":\"#2a3f5f\",\"gridcolor\":\"white\",\"linecolor\":\"white\",\"minorgridcolor\":\"white\",\"startlinecolor\":\"#2a3f5f\"},\"type\":\"carpet\"}],\"table\":[{\"cells\":{\"fill\":{\"color\":\"#EBF0F8\"},\"line\":{\"color\":\"white\"}},\"header\":{\"fill\":{\"color\":\"#C8D4E3\"},\"line\":{\"color\":\"white\"}},\"type\":\"table\"}],\"barpolar\":[{\"marker\":{\"line\":{\"color\":\"#E5ECF6\",\"width\":0.5},\"pattern\":{\"fillmode\":\"overlay\",\"size\":10,\"solidity\":0.2}},\"type\":\"barpolar\"}],\"pie\":[{\"automargin\":true,\"type\":\"pie\"}]},\"layout\":{\"autotypenumbers\":\"strict\",\"colorway\":[\"#636efa\",\"#EF553B\",\"#00cc96\",\"#ab63fa\",\"#FFA15A\",\"#19d3f3\",\"#FF6692\",\"#B6E880\",\"#FF97FF\",\"#FECB52\"],\"font\":{\"color\":\"#2a3f5f\"},\"hovermode\":\"closest\",\"hoverlabel\":{\"align\":\"left\"},\"paper_bgcolor\":\"white\",\"plot_bgcolor\":\"#E5ECF6\",\"polar\":{\"bgcolor\":\"#E5ECF6\",\"angularaxis\":{\"gridcolor\":\"white\",\"linecolor\":\"white\",\"ticks\":\"\"},\"radialaxis\":{\"gridcolor\":\"white\",\"linecolor\":\"white\",\"ticks\":\"\"}},\"ternary\":{\"bgcolor\":\"#E5ECF6\",\"aaxis\":{\"gridcolor\":\"white\",\"linecolor\":\"white\",\"ticks\":\"\"},\"baxis\":{\"gridcolor\":\"white\",\"linecolor\":\"white\",\"ticks\":\"\"},\"caxis\":{\"gridcolor\":\"white\",\"linecolor\":\"white\",\"ticks\":\"\"}},\"coloraxis\":{\"colorbar\":{\"outlinewidth\":0,\"ticks\":\"\"}},\"colorscale\":{\"sequential\":[[0.0,\"#0d0887\"],[0.1111111111111111,\"#46039f\"],[0.2222222222222222,\"#7201a8\"],[0.3333333333333333,\"#9c179e\"],[0.4444444444444444,\"#bd3786\"],[0.5555555555555556,\"#d8576b\"],[0.6666666666666666,\"#ed7953\"],[0.7777777777777778,\"#fb9f3a\"],[0.8888888888888888,\"#fdca26\"],[1.0,\"#f0f921\"]],\"sequentialminus\":[[0.0,\"#0d0887\"],[0.1111111111111111,\"#46039f\"],[0.2222222222222222,\"#7201a8\"],[0.3333333333333333,\"#9c179e\"],[0.4444444444444444,\"#bd3786\"],[0.5555555555555556,\"#d8576b\"],[0.6666666666666666,\"#ed7953\"],[0.7777777777777778,\"#fb9f3a\"],[0.8888888888888888,\"#fdca26\"],[1.0,\"#f0f921\"]],\"diverging\":[[0,\"#8e0152\"],[0.1,\"#c51b7d\"],[0.2,\"#de77ae\"],[0.3,\"#f1b6da\"],[0.4,\"#fde0ef\"],[0.5,\"#f7f7f7\"],[0.6,\"#e6f5d0\"],[0.7,\"#b8e186\"],[0.8,\"#7fbc41\"],[0.9,\"#4d9221\"],[1,\"#276419\"]]},\"xaxis\":{\"gridcolor\":\"white\",\"linecolor\":\"white\",\"ticks\":\"\",\"title\":{\"standoff\":15},\"zerolinecolor\":\"white\",\"automargin\":true,\"zerolinewidth\":2},\"yaxis\":{\"gridcolor\":\"white\",\"linecolor\":\"white\",\"ticks\":\"\",\"title\":{\"standoff\":15},\"zerolinecolor\":\"white\",\"automargin\":true,\"zerolinewidth\":2},\"scene\":{\"xaxis\":{\"backgroundcolor\":\"#E5ECF6\",\"gridcolor\":\"white\",\"linecolor\":\"white\",\"showbackground\":true,\"ticks\":\"\",\"zerolinecolor\":\"white\",\"gridwidth\":2},\"yaxis\":{\"backgroundcolor\":\"#E5ECF6\",\"gridcolor\":\"white\",\"linecolor\":\"white\",\"showbackground\":true,\"ticks\":\"\",\"zerolinecolor\":\"white\",\"gridwidth\":2},\"zaxis\":{\"backgroundcolor\":\"#E5ECF6\",\"gridcolor\":\"white\",\"linecolor\":\"white\",\"showbackground\":true,\"ticks\":\"\",\"zerolinecolor\":\"white\",\"gridwidth\":2}},\"shapedefaults\":{\"line\":{\"color\":\"#2a3f5f\"}},\"annotationdefaults\":{\"arrowcolor\":\"#2a3f5f\",\"arrowhead\":0,\"arrowwidth\":1},\"geo\":{\"bgcolor\":\"white\",\"landcolor\":\"#E5ECF6\",\"subunitcolor\":\"white\",\"showland\":true,\"showlakes\":true,\"lakecolor\":\"white\"},\"title\":{\"x\":0.05},\"mapbox\":{\"style\":\"light\"}}},\"yaxis\":{\"gridcolor\":\"#1f292f\"},\"xaxis\":{\"rangeslider\":{\"visible\":false},\"gridcolor\":\"#1f292f\",\"nticks\":5},\"margin\":{\"l\":10,\"r\":10,\"b\":10,\"t\":10},\"font\":{\"size\":8,\"color\":\"#e1e1e1\"},\"width\":900,\"height\":400,\"paper_bgcolor\":\"#2c303c\",\"plot_bgcolor\":\"#2c303c\"},                        {\"responsive\": true}                    ).then(function(){\n",
       "                            \n",
       "var gd = document.getElementById('1f6b89cb-9aed-4e9d-b4df-7c17044b89c3');\n",
       "var x = new MutationObserver(function (mutations, observer) {{\n",
       "        var display = window.getComputedStyle(gd).display;\n",
       "        if (!display || display === 'none') {{\n",
       "            console.log([gd, 'removed!']);\n",
       "            Plotly.purge(gd);\n",
       "            observer.disconnect();\n",
       "        }}\n",
       "}});\n",
       "\n",
       "// Listen for the removal of the full notebook cells\n",
       "var notebookContainer = gd.closest('#notebook-container');\n",
       "if (notebookContainer) {{\n",
       "    x.observe(notebookContainer, {childList: true});\n",
       "}}\n",
       "\n",
       "// Listen for the clearing of the current output cell\n",
       "var outputEl = gd.closest('.output');\n",
       "if (outputEl) {{\n",
       "    x.observe(outputEl, {childList: true});\n",
       "}}\n",
       "\n",
       "                        })                };                });            </script>        </div>"
      ]
     },
     "metadata": {},
     "output_type": "display_data"
    }
   ],
   "source": [
    "cp = CandlePlot(df_gains, candles=False)\n",
    "cp.show_plot(line_traces=['GAIN_C'])"
   ]
  },
  {
   "cell_type": "code",
   "execution_count": 70,
   "id": "32d4c6ae",
   "metadata": {},
   "outputs": [],
   "source": [
    "# similar analysis for the EUR_AUD pair\n",
    "df_gains_EUR_AUD = df_ma_trades_h1[(df_ma_trades_h1.cross == cross) & (df_ma_trades_h1.pair == \"EUR_AUD\")].copy()"
   ]
  },
  {
   "cell_type": "code",
   "execution_count": 71,
   "id": "8ae6eb2a",
   "metadata": {},
   "outputs": [
    {
     "data": {
      "text/html": [
       "<div>\n",
       "<style scoped>\n",
       "    .dataframe tbody tr th:only-of-type {\n",
       "        vertical-align: middle;\n",
       "    }\n",
       "\n",
       "    .dataframe tbody tr th {\n",
       "        vertical-align: top;\n",
       "    }\n",
       "\n",
       "    .dataframe thead th {\n",
       "        text-align: right;\n",
       "    }\n",
       "</style>\n",
       "<table border=\"1\" class=\"dataframe\">\n",
       "  <thead>\n",
       "    <tr style=\"text-align: right;\">\n",
       "      <th></th>\n",
       "      <th>time</th>\n",
       "      <th>volume</th>\n",
       "      <th>mid_o</th>\n",
       "      <th>mid_h</th>\n",
       "      <th>mid_l</th>\n",
       "      <th>mid_c</th>\n",
       "      <th>bid_o</th>\n",
       "      <th>bid_h</th>\n",
       "      <th>bid_l</th>\n",
       "      <th>bid_c</th>\n",
       "      <th>ask_o</th>\n",
       "      <th>ask_h</th>\n",
       "      <th>ask_l</th>\n",
       "      <th>ask_c</th>\n",
       "      <th>MA_40</th>\n",
       "      <th>MA_10</th>\n",
       "      <th>MA_80</th>\n",
       "      <th>MA_20</th>\n",
       "      <th>MA_150</th>\n",
       "      <th>MA_120</th>\n",
       "      <th>MA_30</th>\n",
       "      <th>DELTA</th>\n",
       "      <th>DELTA_PREV</th>\n",
       "      <th>TRADE</th>\n",
       "      <th>DIFF</th>\n",
       "      <th>GAIN</th>\n",
       "      <th>granularity</th>\n",
       "      <th>pair</th>\n",
       "      <th>GAIN_C</th>\n",
       "      <th>ma_l</th>\n",
       "      <th>ma_s</th>\n",
       "      <th>cross</th>\n",
       "    </tr>\n",
       "  </thead>\n",
       "  <tbody>\n",
       "    <tr>\n",
       "      <th>3499</th>\n",
       "      <td>2021-12-09 21:00:00+00:00</td>\n",
       "      <td>257</td>\n",
       "      <td>1.57968</td>\n",
       "      <td>1.58022</td>\n",
       "      <td>1.57924</td>\n",
       "      <td>1.58014</td>\n",
       "      <td>1.57956</td>\n",
       "      <td>1.58006</td>\n",
       "      <td>1.57911</td>\n",
       "      <td>1.57989</td>\n",
       "      <td>1.57980</td>\n",
       "      <td>1.58053</td>\n",
       "      <td>1.57938</td>\n",
       "      <td>1.58039</td>\n",
       "      <td>1.581414</td>\n",
       "      <td>1.580444</td>\n",
       "      <td>1.586035</td>\n",
       "      <td>1.580573</td>\n",
       "      <td>1.592599</td>\n",
       "      <td>1.592436</td>\n",
       "      <td>1.580982</td>\n",
       "      <td>-0.000129</td>\n",
       "      <td>2.270000e-04</td>\n",
       "      <td>-1</td>\n",
       "      <td>-0.00107</td>\n",
       "      <td>10.7</td>\n",
       "      <td>H1</td>\n",
       "      <td>EUR_AUD</td>\n",
       "      <td>10.7</td>\n",
       "      <td>MA_20</td>\n",
       "      <td>MA_10</td>\n",
       "      <td>MA_10_MA_20</td>\n",
       "    </tr>\n",
       "    <tr>\n",
       "      <th>3500</th>\n",
       "      <td>2021-12-13 00:00:00+00:00</td>\n",
       "      <td>393</td>\n",
       "      <td>1.57849</td>\n",
       "      <td>1.57945</td>\n",
       "      <td>1.57770</td>\n",
       "      <td>1.57907</td>\n",
       "      <td>1.57837</td>\n",
       "      <td>1.57933</td>\n",
       "      <td>1.57758</td>\n",
       "      <td>1.57895</td>\n",
       "      <td>1.57861</td>\n",
       "      <td>1.57958</td>\n",
       "      <td>1.57781</td>\n",
       "      <td>1.57919</td>\n",
       "      <td>1.579125</td>\n",
       "      <td>1.577933</td>\n",
       "      <td>1.580603</td>\n",
       "      <td>1.577633</td>\n",
       "      <td>1.589910</td>\n",
       "      <td>1.586600</td>\n",
       "      <td>1.578463</td>\n",
       "      <td>0.000300</td>\n",
       "      <td>-5.350000e-05</td>\n",
       "      <td>1</td>\n",
       "      <td>-0.00094</td>\n",
       "      <td>-9.4</td>\n",
       "      <td>H1</td>\n",
       "      <td>EUR_AUD</td>\n",
       "      <td>1.3</td>\n",
       "      <td>MA_20</td>\n",
       "      <td>MA_10</td>\n",
       "      <td>MA_10_MA_20</td>\n",
       "    </tr>\n",
       "    <tr>\n",
       "      <th>3501</th>\n",
       "      <td>2021-12-13 09:00:00+00:00</td>\n",
       "      <td>947</td>\n",
       "      <td>1.57846</td>\n",
       "      <td>1.57882</td>\n",
       "      <td>1.57730</td>\n",
       "      <td>1.57813</td>\n",
       "      <td>1.57833</td>\n",
       "      <td>1.57871</td>\n",
       "      <td>1.57720</td>\n",
       "      <td>1.57801</td>\n",
       "      <td>1.57860</td>\n",
       "      <td>1.57893</td>\n",
       "      <td>1.57739</td>\n",
       "      <td>1.57825</td>\n",
       "      <td>1.578113</td>\n",
       "      <td>1.577095</td>\n",
       "      <td>1.579918</td>\n",
       "      <td>1.577371</td>\n",
       "      <td>1.588798</td>\n",
       "      <td>1.584252</td>\n",
       "      <td>1.577499</td>\n",
       "      <td>-0.000277</td>\n",
       "      <td>5.000000e-07</td>\n",
       "      <td>-1</td>\n",
       "      <td>0.00369</td>\n",
       "      <td>-36.9</td>\n",
       "      <td>H1</td>\n",
       "      <td>EUR_AUD</td>\n",
       "      <td>-35.6</td>\n",
       "      <td>MA_20</td>\n",
       "      <td>MA_10</td>\n",
       "      <td>MA_10_MA_20</td>\n",
       "    </tr>\n",
       "    <tr>\n",
       "      <th>3502</th>\n",
       "      <td>2021-12-13 13:00:00+00:00</td>\n",
       "      <td>962</td>\n",
       "      <td>1.57982</td>\n",
       "      <td>1.58182</td>\n",
       "      <td>1.57902</td>\n",
       "      <td>1.58182</td>\n",
       "      <td>1.57972</td>\n",
       "      <td>1.58171</td>\n",
       "      <td>1.57891</td>\n",
       "      <td>1.58171</td>\n",
       "      <td>1.57993</td>\n",
       "      <td>1.58193</td>\n",
       "      <td>1.57914</td>\n",
       "      <td>1.58193</td>\n",
       "      <td>1.578203</td>\n",
       "      <td>1.578441</td>\n",
       "      <td>1.579809</td>\n",
       "      <td>1.578145</td>\n",
       "      <td>1.588358</td>\n",
       "      <td>1.583425</td>\n",
       "      <td>1.577573</td>\n",
       "      <td>0.000296</td>\n",
       "      <td>-1.335000e-04</td>\n",
       "      <td>1</td>\n",
       "      <td>0.00274</td>\n",
       "      <td>27.4</td>\n",
       "      <td>H1</td>\n",
       "      <td>EUR_AUD</td>\n",
       "      <td>-8.2</td>\n",
       "      <td>MA_20</td>\n",
       "      <td>MA_10</td>\n",
       "      <td>MA_10_MA_20</td>\n",
       "    </tr>\n",
       "    <tr>\n",
       "      <th>3503</th>\n",
       "      <td>2021-12-14 20:00:00+00:00</td>\n",
       "      <td>430</td>\n",
       "      <td>1.58410</td>\n",
       "      <td>1.58535</td>\n",
       "      <td>1.58374</td>\n",
       "      <td>1.58456</td>\n",
       "      <td>1.58394</td>\n",
       "      <td>1.58520</td>\n",
       "      <td>1.58361</td>\n",
       "      <td>1.58444</td>\n",
       "      <td>1.58425</td>\n",
       "      <td>1.58550</td>\n",
       "      <td>1.58387</td>\n",
       "      <td>1.58469</td>\n",
       "      <td>1.583812</td>\n",
       "      <td>1.586035</td>\n",
       "      <td>1.581141</td>\n",
       "      <td>1.586211</td>\n",
       "      <td>1.583673</td>\n",
       "      <td>1.581455</td>\n",
       "      <td>1.585322</td>\n",
       "      <td>-0.000176</td>\n",
       "      <td>1.885000e-04</td>\n",
       "      <td>-1</td>\n",
       "      <td>-0.00749</td>\n",
       "      <td>74.9</td>\n",
       "      <td>H1</td>\n",
       "      <td>EUR_AUD</td>\n",
       "      <td>66.7</td>\n",
       "      <td>MA_20</td>\n",
       "      <td>MA_10</td>\n",
       "      <td>MA_10_MA_20</td>\n",
       "    </tr>\n",
       "    <tr>\n",
       "      <th>...</th>\n",
       "      <td>...</td>\n",
       "      <td>...</td>\n",
       "      <td>...</td>\n",
       "      <td>...</td>\n",
       "      <td>...</td>\n",
       "      <td>...</td>\n",
       "      <td>...</td>\n",
       "      <td>...</td>\n",
       "      <td>...</td>\n",
       "      <td>...</td>\n",
       "      <td>...</td>\n",
       "      <td>...</td>\n",
       "      <td>...</td>\n",
       "      <td>...</td>\n",
       "      <td>...</td>\n",
       "      <td>...</td>\n",
       "      <td>...</td>\n",
       "      <td>...</td>\n",
       "      <td>...</td>\n",
       "      <td>...</td>\n",
       "      <td>...</td>\n",
       "      <td>...</td>\n",
       "      <td>...</td>\n",
       "      <td>...</td>\n",
       "      <td>...</td>\n",
       "      <td>...</td>\n",
       "      <td>...</td>\n",
       "      <td>...</td>\n",
       "      <td>...</td>\n",
       "      <td>...</td>\n",
       "      <td>...</td>\n",
       "      <td>...</td>\n",
       "    </tr>\n",
       "    <tr>\n",
       "      <th>3685</th>\n",
       "      <td>2022-07-15 17:00:00+00:00</td>\n",
       "      <td>5620</td>\n",
       "      <td>1.48502</td>\n",
       "      <td>1.48516</td>\n",
       "      <td>1.48376</td>\n",
       "      <td>1.48396</td>\n",
       "      <td>1.48489</td>\n",
       "      <td>1.48503</td>\n",
       "      <td>1.48363</td>\n",
       "      <td>1.48383</td>\n",
       "      <td>1.48515</td>\n",
       "      <td>1.48528</td>\n",
       "      <td>1.48388</td>\n",
       "      <td>1.48408</td>\n",
       "      <td>1.486305</td>\n",
       "      <td>1.486604</td>\n",
       "      <td>1.485931</td>\n",
       "      <td>1.486800</td>\n",
       "      <td>1.486900</td>\n",
       "      <td>1.487071</td>\n",
       "      <td>1.486943</td>\n",
       "      <td>-0.000197</td>\n",
       "      <td>4.015000e-04</td>\n",
       "      <td>-1</td>\n",
       "      <td>0.00204</td>\n",
       "      <td>-20.4</td>\n",
       "      <td>H1</td>\n",
       "      <td>EUR_AUD</td>\n",
       "      <td>1467.8</td>\n",
       "      <td>MA_20</td>\n",
       "      <td>MA_10</td>\n",
       "      <td>MA_10_MA_20</td>\n",
       "    </tr>\n",
       "    <tr>\n",
       "      <th>3686</th>\n",
       "      <td>2022-07-18 10:00:00+00:00</td>\n",
       "      <td>7217</td>\n",
       "      <td>1.48508</td>\n",
       "      <td>1.48701</td>\n",
       "      <td>1.48498</td>\n",
       "      <td>1.48600</td>\n",
       "      <td>1.48495</td>\n",
       "      <td>1.48689</td>\n",
       "      <td>1.48485</td>\n",
       "      <td>1.48586</td>\n",
       "      <td>1.48520</td>\n",
       "      <td>1.48713</td>\n",
       "      <td>1.48509</td>\n",
       "      <td>1.48614</td>\n",
       "      <td>1.485429</td>\n",
       "      <td>1.484058</td>\n",
       "      <td>1.485417</td>\n",
       "      <td>1.484051</td>\n",
       "      <td>1.486565</td>\n",
       "      <td>1.486662</td>\n",
       "      <td>1.485384</td>\n",
       "      <td>0.000007</td>\n",
       "      <td>-1.820000e-04</td>\n",
       "      <td>1</td>\n",
       "      <td>-0.00493</td>\n",
       "      <td>-49.3</td>\n",
       "      <td>H1</td>\n",
       "      <td>EUR_AUD</td>\n",
       "      <td>1418.5</td>\n",
       "      <td>MA_20</td>\n",
       "      <td>MA_10</td>\n",
       "      <td>MA_10_MA_20</td>\n",
       "    </tr>\n",
       "    <tr>\n",
       "      <th>3687</th>\n",
       "      <td>2022-07-19 04:00:00+00:00</td>\n",
       "      <td>5942</td>\n",
       "      <td>1.48100</td>\n",
       "      <td>1.48238</td>\n",
       "      <td>1.48080</td>\n",
       "      <td>1.48107</td>\n",
       "      <td>1.48086</td>\n",
       "      <td>1.48223</td>\n",
       "      <td>1.48067</td>\n",
       "      <td>1.48092</td>\n",
       "      <td>1.48114</td>\n",
       "      <td>1.48253</td>\n",
       "      <td>1.48092</td>\n",
       "      <td>1.48122</td>\n",
       "      <td>1.485318</td>\n",
       "      <td>1.486591</td>\n",
       "      <td>1.485980</td>\n",
       "      <td>1.486643</td>\n",
       "      <td>1.486718</td>\n",
       "      <td>1.485906</td>\n",
       "      <td>1.485579</td>\n",
       "      <td>-0.000052</td>\n",
       "      <td>7.375000e-04</td>\n",
       "      <td>-1</td>\n",
       "      <td>-0.00166</td>\n",
       "      <td>16.6</td>\n",
       "      <td>H1</td>\n",
       "      <td>EUR_AUD</td>\n",
       "      <td>1435.1</td>\n",
       "      <td>MA_20</td>\n",
       "      <td>MA_10</td>\n",
       "      <td>MA_10_MA_20</td>\n",
       "    </tr>\n",
       "    <tr>\n",
       "      <th>3688</th>\n",
       "      <td>2022-07-21 05:00:00+00:00</td>\n",
       "      <td>6452</td>\n",
       "      <td>1.47852</td>\n",
       "      <td>1.47970</td>\n",
       "      <td>1.47831</td>\n",
       "      <td>1.47941</td>\n",
       "      <td>1.47840</td>\n",
       "      <td>1.47958</td>\n",
       "      <td>1.47818</td>\n",
       "      <td>1.47929</td>\n",
       "      <td>1.47864</td>\n",
       "      <td>1.47983</td>\n",
       "      <td>1.47844</td>\n",
       "      <td>1.47953</td>\n",
       "      <td>1.480684</td>\n",
       "      <td>1.479121</td>\n",
       "      <td>1.483064</td>\n",
       "      <td>1.479042</td>\n",
       "      <td>1.484295</td>\n",
       "      <td>1.484277</td>\n",
       "      <td>1.479906</td>\n",
       "      <td>0.000079</td>\n",
       "      <td>-1.305000e-04</td>\n",
       "      <td>1</td>\n",
       "      <td>-0.00265</td>\n",
       "      <td>-26.5</td>\n",
       "      <td>H1</td>\n",
       "      <td>EUR_AUD</td>\n",
       "      <td>1408.6</td>\n",
       "      <td>MA_20</td>\n",
       "      <td>MA_10</td>\n",
       "      <td>MA_10_MA_20</td>\n",
       "    </tr>\n",
       "    <tr>\n",
       "      <th>3689</th>\n",
       "      <td>2022-07-21 18:00:00+00:00</td>\n",
       "      <td>5346</td>\n",
       "      <td>1.47635</td>\n",
       "      <td>1.47770</td>\n",
       "      <td>1.47612</td>\n",
       "      <td>1.47676</td>\n",
       "      <td>1.47624</td>\n",
       "      <td>1.47759</td>\n",
       "      <td>1.47600</td>\n",
       "      <td>1.47665</td>\n",
       "      <td>1.47646</td>\n",
       "      <td>1.47783</td>\n",
       "      <td>1.47625</td>\n",
       "      <td>1.47688</td>\n",
       "      <td>1.479925</td>\n",
       "      <td>1.480187</td>\n",
       "      <td>1.482575</td>\n",
       "      <td>1.480295</td>\n",
       "      <td>1.484113</td>\n",
       "      <td>1.483527</td>\n",
       "      <td>1.479893</td>\n",
       "      <td>-0.000108</td>\n",
       "      <td>5.235000e-04</td>\n",
       "      <td>-1</td>\n",
       "      <td>0.00000</td>\n",
       "      <td>-0.0</td>\n",
       "      <td>H1</td>\n",
       "      <td>EUR_AUD</td>\n",
       "      <td>1408.6</td>\n",
       "      <td>MA_20</td>\n",
       "      <td>MA_10</td>\n",
       "      <td>MA_10_MA_20</td>\n",
       "    </tr>\n",
       "  </tbody>\n",
       "</table>\n",
       "<p>191 rows × 32 columns</p>\n",
       "</div>"
      ],
      "text/plain": [
       "                          time  volume    mid_o    mid_h    mid_l    mid_c  \\\n",
       "3499 2021-12-09 21:00:00+00:00     257  1.57968  1.58022  1.57924  1.58014   \n",
       "3500 2021-12-13 00:00:00+00:00     393  1.57849  1.57945  1.57770  1.57907   \n",
       "3501 2021-12-13 09:00:00+00:00     947  1.57846  1.57882  1.57730  1.57813   \n",
       "3502 2021-12-13 13:00:00+00:00     962  1.57982  1.58182  1.57902  1.58182   \n",
       "3503 2021-12-14 20:00:00+00:00     430  1.58410  1.58535  1.58374  1.58456   \n",
       "...                        ...     ...      ...      ...      ...      ...   \n",
       "3685 2022-07-15 17:00:00+00:00    5620  1.48502  1.48516  1.48376  1.48396   \n",
       "3686 2022-07-18 10:00:00+00:00    7217  1.48508  1.48701  1.48498  1.48600   \n",
       "3687 2022-07-19 04:00:00+00:00    5942  1.48100  1.48238  1.48080  1.48107   \n",
       "3688 2022-07-21 05:00:00+00:00    6452  1.47852  1.47970  1.47831  1.47941   \n",
       "3689 2022-07-21 18:00:00+00:00    5346  1.47635  1.47770  1.47612  1.47676   \n",
       "\n",
       "        bid_o    bid_h    bid_l    bid_c    ask_o    ask_h    ask_l    ask_c  \\\n",
       "3499  1.57956  1.58006  1.57911  1.57989  1.57980  1.58053  1.57938  1.58039   \n",
       "3500  1.57837  1.57933  1.57758  1.57895  1.57861  1.57958  1.57781  1.57919   \n",
       "3501  1.57833  1.57871  1.57720  1.57801  1.57860  1.57893  1.57739  1.57825   \n",
       "3502  1.57972  1.58171  1.57891  1.58171  1.57993  1.58193  1.57914  1.58193   \n",
       "3503  1.58394  1.58520  1.58361  1.58444  1.58425  1.58550  1.58387  1.58469   \n",
       "...       ...      ...      ...      ...      ...      ...      ...      ...   \n",
       "3685  1.48489  1.48503  1.48363  1.48383  1.48515  1.48528  1.48388  1.48408   \n",
       "3686  1.48495  1.48689  1.48485  1.48586  1.48520  1.48713  1.48509  1.48614   \n",
       "3687  1.48086  1.48223  1.48067  1.48092  1.48114  1.48253  1.48092  1.48122   \n",
       "3688  1.47840  1.47958  1.47818  1.47929  1.47864  1.47983  1.47844  1.47953   \n",
       "3689  1.47624  1.47759  1.47600  1.47665  1.47646  1.47783  1.47625  1.47688   \n",
       "\n",
       "         MA_40     MA_10     MA_80     MA_20    MA_150    MA_120     MA_30  \\\n",
       "3499  1.581414  1.580444  1.586035  1.580573  1.592599  1.592436  1.580982   \n",
       "3500  1.579125  1.577933  1.580603  1.577633  1.589910  1.586600  1.578463   \n",
       "3501  1.578113  1.577095  1.579918  1.577371  1.588798  1.584252  1.577499   \n",
       "3502  1.578203  1.578441  1.579809  1.578145  1.588358  1.583425  1.577573   \n",
       "3503  1.583812  1.586035  1.581141  1.586211  1.583673  1.581455  1.585322   \n",
       "...        ...       ...       ...       ...       ...       ...       ...   \n",
       "3685  1.486305  1.486604  1.485931  1.486800  1.486900  1.487071  1.486943   \n",
       "3686  1.485429  1.484058  1.485417  1.484051  1.486565  1.486662  1.485384   \n",
       "3687  1.485318  1.486591  1.485980  1.486643  1.486718  1.485906  1.485579   \n",
       "3688  1.480684  1.479121  1.483064  1.479042  1.484295  1.484277  1.479906   \n",
       "3689  1.479925  1.480187  1.482575  1.480295  1.484113  1.483527  1.479893   \n",
       "\n",
       "         DELTA    DELTA_PREV  TRADE     DIFF  GAIN granularity     pair  \\\n",
       "3499 -0.000129  2.270000e-04     -1 -0.00107  10.7          H1  EUR_AUD   \n",
       "3500  0.000300 -5.350000e-05      1 -0.00094  -9.4          H1  EUR_AUD   \n",
       "3501 -0.000277  5.000000e-07     -1  0.00369 -36.9          H1  EUR_AUD   \n",
       "3502  0.000296 -1.335000e-04      1  0.00274  27.4          H1  EUR_AUD   \n",
       "3503 -0.000176  1.885000e-04     -1 -0.00749  74.9          H1  EUR_AUD   \n",
       "...        ...           ...    ...      ...   ...         ...      ...   \n",
       "3685 -0.000197  4.015000e-04     -1  0.00204 -20.4          H1  EUR_AUD   \n",
       "3686  0.000007 -1.820000e-04      1 -0.00493 -49.3          H1  EUR_AUD   \n",
       "3687 -0.000052  7.375000e-04     -1 -0.00166  16.6          H1  EUR_AUD   \n",
       "3688  0.000079 -1.305000e-04      1 -0.00265 -26.5          H1  EUR_AUD   \n",
       "3689 -0.000108  5.235000e-04     -1  0.00000  -0.0          H1  EUR_AUD   \n",
       "\n",
       "      GAIN_C   ma_l   ma_s        cross  \n",
       "3499    10.7  MA_20  MA_10  MA_10_MA_20  \n",
       "3500     1.3  MA_20  MA_10  MA_10_MA_20  \n",
       "3501   -35.6  MA_20  MA_10  MA_10_MA_20  \n",
       "3502    -8.2  MA_20  MA_10  MA_10_MA_20  \n",
       "3503    66.7  MA_20  MA_10  MA_10_MA_20  \n",
       "...      ...    ...    ...          ...  \n",
       "3685  1467.8  MA_20  MA_10  MA_10_MA_20  \n",
       "3686  1418.5  MA_20  MA_10  MA_10_MA_20  \n",
       "3687  1435.1  MA_20  MA_10  MA_10_MA_20  \n",
       "3688  1408.6  MA_20  MA_10  MA_10_MA_20  \n",
       "3689  1408.6  MA_20  MA_10  MA_10_MA_20  \n",
       "\n",
       "[191 rows x 32 columns]"
      ]
     },
     "execution_count": 71,
     "metadata": {},
     "output_type": "execute_result"
    }
   ],
   "source": [
    "df_gains_EUR_AUD"
   ]
  },
  {
   "cell_type": "code",
   "execution_count": 72,
   "id": "daab2ade",
   "metadata": {},
   "outputs": [
    {
     "data": {
      "application/vnd.plotly.v1+json": {
       "config": {
        "plotlyServerURL": "https://plot.ly"
       },
       "data": [
        {
         "line": {
          "shape": "spline",
          "width": 2
         },
         "name": "GAIN_C",
         "type": "scatter",
         "x": [
          "s21-12-09 21:00",
          "s21-12-13 00:00",
          "s21-12-13 09:00",
          "s21-12-13 13:00",
          "s21-12-14 20:00",
          "s21-12-16 21:00",
          "s21-12-17 18:00",
          "s21-12-20 05:00",
          "s21-12-21 01:00",
          "s21-12-21 05:00",
          "s21-12-21 06:00",
          "s21-12-22 06:00",
          "s21-12-22 13:00",
          "s21-12-23 07:00",
          "s21-12-23 08:00",
          "s21-12-24 02:00",
          "s21-12-24 17:00",
          "s21-12-26 22:00",
          "s21-12-27 03:00",
          "s21-12-27 11:00",
          "s21-12-27 20:00",
          "s21-12-28 22:00",
          "s21-12-29 09:00",
          "s21-12-29 18:00",
          "s21-12-30 04:00",
          "s21-12-30 22:00",
          "s21-12-31 07:00",
          "s21-12-31 16:00",
          "s22-01-03 08:00",
          "s22-01-03 12:00",
          "s22-01-04 06:00",
          "s22-01-05 08:00",
          "s22-01-05 17:00",
          "s22-01-05 20:00",
          "s22-01-06 23:00",
          "s22-01-07 08:00",
          "s22-01-10 02:00",
          "s22-01-10 18:00",
          "s22-01-11 07:00",
          "s22-01-11 13:00",
          "s22-01-11 22:00",
          "s22-01-13 19:00",
          "s22-01-17 13:00",
          "s22-01-18 03:00",
          "s22-01-18 16:00",
          "s22-01-21 02:00",
          "s22-01-25 02:00",
          "s22-01-26 22:00",
          "s22-01-27 13:00",
          "s22-01-27 22:00",
          "s22-01-31 03:00",
          "s22-01-31 22:00",
          "s22-02-01 13:00",
          "s22-02-02 10:00",
          "s22-02-07 04:00",
          "s22-02-10 05:00",
          "s22-02-10 12:00",
          "s22-02-10 22:00",
          "s22-02-11 15:00",
          "s22-02-14 04:00",
          "s22-02-14 15:00",
          "s22-02-15 07:00",
          "s22-02-15 22:00",
          "s22-02-17 23:00",
          "s22-02-18 08:00",
          "s22-02-18 21:00",
          "s22-02-21 04:00",
          "s22-02-22 17:00",
          "s22-02-22 22:00",
          "s22-02-24 00:00",
          "s22-02-24 11:00",
          "s22-02-24 22:00",
          "s22-02-25 06:00",
          "s22-02-25 21:00",
          "s22-02-28 04:00",
          "s22-03-07 16:00",
          "s22-03-09 08:00",
          "s22-03-09 15:00",
          "s22-03-10 08:00",
          "s22-03-11 08:00",
          "s22-03-11 20:00",
          "s22-03-14 03:00",
          "s22-03-15 17:00",
          "s22-03-21 09:00",
          "s22-03-21 19:00",
          "s22-03-24 07:00",
          "s22-03-24 13:00",
          "s22-03-25 04:00",
          "s22-03-25 16:00",
          "s22-03-28 14:00",
          "s22-03-30 03:00",
          "s22-03-30 08:00",
          "s22-03-31 13:00",
          "s22-04-04 00:00",
          "s22-04-04 06:00",
          "s22-04-06 00:00",
          "s22-04-07 20:00",
          "s22-04-08 11:00",
          "s22-04-12 05:00",
          "s22-04-13 07:00",
          "s22-04-14 14:00",
          "s22-04-15 03:00",
          "s22-04-15 11:00",
          "s22-04-15 12:00",
          "s22-04-19 01:00",
          "s22-04-19 16:00",
          "s22-04-19 22:00",
          "s22-04-21 06:00",
          "s22-04-25 16:00",
          "s22-04-26 19:00",
          "s22-04-27 06:00",
          "s22-04-28 03:00",
          "s22-04-28 07:00",
          "s22-04-28 17:00",
          "s22-04-29 00:00",
          "s22-04-29 16:00",
          "s22-05-02 12:00",
          "s22-05-03 17:00",
          "s22-05-04 02:00",
          "s22-05-05 12:00",
          "s22-05-09 01:00",
          "s22-05-09 04:00",
          "s22-05-10 11:00",
          "s22-05-10 21:00",
          "s22-05-11 02:00",
          "s22-05-11 21:00",
          "s22-05-12 16:00",
          "s22-05-16 06:00",
          "s22-05-16 17:00",
          "s22-05-17 14:00",
          "s22-05-18 06:00",
          "s22-05-18 20:00",
          "s22-05-19 07:00",
          "s22-05-19 20:00",
          "s22-05-20 11:00",
          "s22-05-22 23:00",
          "s22-05-23 01:00",
          "s22-05-23 14:00",
          "s22-05-25 00:00",
          "s22-05-25 16:00",
          "s22-05-25 23:00",
          "s22-05-26 08:00",
          "s22-05-27 03:00",
          "s22-05-30 15:00",
          "s22-05-30 23:00",
          "s22-05-31 21:00",
          "s22-06-01 06:00",
          "s22-06-02 05:00",
          "s22-06-02 14:00",
          "s22-06-03 06:00",
          "s22-06-06 13:00",
          "s22-06-07 00:00",
          "s22-06-07 12:00",
          "s22-06-08 08:00",
          "s22-06-10 06:00",
          "s22-06-12 22:00",
          "s22-06-14 03:00",
          "s22-06-14 10:00",
          "s22-06-15 04:00",
          "s22-06-16 12:00",
          "s22-06-17 05:00",
          "s22-06-17 06:00",
          "s22-06-20 07:00",
          "s22-06-20 21:00",
          "s22-06-21 20:00",
          "s22-06-22 05:00",
          "s22-06-23 13:00",
          "s22-06-24 01:00",
          "s22-06-24 11:00",
          "s22-06-27 04:00",
          "s22-06-28 05:00",
          "s22-06-29 00:00",
          "s22-06-29 18:00",
          "s22-06-30 21:00",
          "s22-07-03 21:00",
          "s22-07-05 11:00",
          "s22-07-05 14:00",
          "s22-07-08 09:00",
          "s22-07-08 14:00",
          "s22-07-11 00:00",
          "s22-07-12 01:00",
          "s22-07-13 17:00",
          "s22-07-14 05:00",
          "s22-07-14 13:00",
          "s22-07-14 23:00",
          "s22-07-15 08:00",
          "s22-07-15 17:00",
          "s22-07-18 10:00",
          "s22-07-19 04:00",
          "s22-07-21 05:00",
          "s22-07-21 18:00"
         ],
         "y": [
          10.700000000001264,
          1.3000000000018552,
          -35.59999999999785,
          -8.199999999998202,
          66.70000000000176,
          60.20000000000137,
          -13.399999999998968,
          -2.7999999999983594,
          -7.499999999998064,
          -19.599999999997397,
          12.40000000000352,
          -59.99999999999561,
          -2.89999999999457,
          -40.59999999999508,
          -55.19999999999524,
          -40.499999999994415,
          -31.99999999999424,
          -51.39999999999477,
          -89.59999999999633,
          -121.79999999999633,
          -122.89999999999466,
          -144.1999999999943,
          -156.1999999999952,
          -181.09999999999624,
          -190.1999999999959,
          -243.1999999999945,
          -324.4999999999942,
          -350.7999999999933,
          -403.5999999999928,
          -417.3999999999944,
          -366.5999999999947,
          -367.699999999993,
          -418.9999999999916,
          -314.9999999999919,
          -363.69999999999345,
          -412.99999999999443,
          -435.89999999999566,
          -451.99999999999676,
          -483.5999999999973,
          -520.5999999999976,
          -471.5999999999986,
          -385.8000000000005,
          -432.4000000000016,
          -516.9000000000024,
          -490.80000000000234,
          -402.60000000000184,
          -364.4000000000025,
          -408.00000000000387,
          -505.7000000000044,
          -425.70000000000437,
          -393.5000000000044,
          -427.6000000000035,
          -378.80000000000354,
          -57.40000000000521,
          145.9999999999928,
          105.29999999999262,
          44.59999999999243,
          -17.90000000000846,
          -69.90000000000938,
          -129.0000000000102,
          -152.4000000000103,
          -176.40000000000987,
          -107.80000000000899,
          -161.8000000000097,
          -182.50000000000986,
          -209.10000000000872,
          -159.00000000000912,
          -170.40000000001052,
          -134.60000000001136,
          -209.70000000001264,
          -263.0000000000132,
          -335.4000000000123,
          -362.60000000001287,
          -427.2000000000142,
          261.1999999999859,
          405.7999999999873,
          294.9999999999875,
          250.89999999998724,
          313.1999999999868,
          305.99999999998624,
          246.799999999987,
          431.7999999999866,
          675.399999999986,
          585.5999999999862,
          790.9999999999861,
          750.8999999999854,
          732.0999999999843,
          687.5999999999837,
          631.7999999999822,
          745.999999999982,
          683.8999999999837,
          628.2999999999836,
          674.1999999999823,
          614.3999999999813,
          924.7999999999809,
          1096.0999999999817,
          1081.7999999999836,
          1146.3999999999849,
          1209.6999999999844,
          1185.7999999999831,
          1126.999999999982,
          1134.8999999999805,
          1138.399999999979,
          1182.0999999999788,
          1193.1999999999805,
          1163.599999999982,
          1124.3999999999828,
          1436.399999999984,
          1480.0999999999838,
          1381.199999999982,
          1380.2999999999806,
          1322.7999999999793,
          1287.9999999999777,
          1254.9999999999768,
          1121.8999999999776,
          1146.9999999999777,
          1228.399999999978,
          1181.1999999999796,
          1281.9999999999804,
          1572.9999999999818,
          1551.9999999999818,
          1723.4999999999818,
          1718.3999999999817,
          1691.1999999999812,
          1690.3999999999826,
          1635.199999999983,
          1624.4999999999818,
          1506.9999999999802,
          1453.599999999979,
          1413.1999999999784,
          1366.7999999999786,
          1324.29999999998,
          1309.39999999998,
          1258.7999999999795,
          1260.699999999981,
          1240.0999999999815,
          1161.199999999982,
          1253.5999999999835,
          1276.1999999999828,
          1255.0999999999822,
          1247.3999999999828,
          1230.999999999982,
          1318.1999999999805,
          1314.4999999999807,
          1331.6999999999823,
          1326.8999999999842,
          1386.7999999999859,
          1307.999999999987,
          1298.3999999999885,
          1303.9999999999895,
          1251.7999999999895,
          1248.3999999999894,
          1253.7999999999893,
          1313.7999999999893,
          1299.7999999999886,
          1343.099999999988,
          1203.2999999999893,
          1186.2999999999888,
          1357.5999999999874,
          1413.8999999999876,
          1365.999999999989,
          1387.7999999999897,
          1336.3999999999905,
          1326.9999999999911,
          1270.3999999999912,
          1333.0999999999913,
          1310.5999999999904,
          1301.7999999999904,
          1301.2999999999915,
          1320.2999999999918,
          1338.3999999999905,
          1282.39999999999,
          1285.599999999991,
          1399.299999999992,
          1519.9999999999923,
          1456.7999999999913,
          1728.3999999999899,
          1700.0999999999888,
          1665.599999999987,
          1702.7999999999863,
          1737.4999999999873,
          1713.7999999999874,
          1646.1999999999864,
          1591.0999999999851,
          1539.9999999999857,
          1488.199999999986,
          1467.7999999999856,
          1418.4999999999868,
          1435.099999999989,
          1408.5999999999908,
          1408.5999999999908
         ]
        }
       ],
       "layout": {
        "font": {
         "color": "#e1e1e1",
         "size": 8
        },
        "height": 400,
        "margin": {
         "b": 10,
         "l": 10,
         "r": 10,
         "t": 10
        },
        "paper_bgcolor": "#2c303c",
        "plot_bgcolor": "#2c303c",
        "template": {
         "data": {
          "bar": [
           {
            "error_x": {
             "color": "#2a3f5f"
            },
            "error_y": {
             "color": "#2a3f5f"
            },
            "marker": {
             "line": {
              "color": "#E5ECF6",
              "width": 0.5
             },
             "pattern": {
              "fillmode": "overlay",
              "size": 10,
              "solidity": 0.2
             }
            },
            "type": "bar"
           }
          ],
          "barpolar": [
           {
            "marker": {
             "line": {
              "color": "#E5ECF6",
              "width": 0.5
             },
             "pattern": {
              "fillmode": "overlay",
              "size": 10,
              "solidity": 0.2
             }
            },
            "type": "barpolar"
           }
          ],
          "carpet": [
           {
            "aaxis": {
             "endlinecolor": "#2a3f5f",
             "gridcolor": "white",
             "linecolor": "white",
             "minorgridcolor": "white",
             "startlinecolor": "#2a3f5f"
            },
            "baxis": {
             "endlinecolor": "#2a3f5f",
             "gridcolor": "white",
             "linecolor": "white",
             "minorgridcolor": "white",
             "startlinecolor": "#2a3f5f"
            },
            "type": "carpet"
           }
          ],
          "choropleth": [
           {
            "colorbar": {
             "outlinewidth": 0,
             "ticks": ""
            },
            "type": "choropleth"
           }
          ],
          "contour": [
           {
            "colorbar": {
             "outlinewidth": 0,
             "ticks": ""
            },
            "colorscale": [
             [
              0,
              "#0d0887"
             ],
             [
              0.1111111111111111,
              "#46039f"
             ],
             [
              0.2222222222222222,
              "#7201a8"
             ],
             [
              0.3333333333333333,
              "#9c179e"
             ],
             [
              0.4444444444444444,
              "#bd3786"
             ],
             [
              0.5555555555555556,
              "#d8576b"
             ],
             [
              0.6666666666666666,
              "#ed7953"
             ],
             [
              0.7777777777777778,
              "#fb9f3a"
             ],
             [
              0.8888888888888888,
              "#fdca26"
             ],
             [
              1,
              "#f0f921"
             ]
            ],
            "type": "contour"
           }
          ],
          "contourcarpet": [
           {
            "colorbar": {
             "outlinewidth": 0,
             "ticks": ""
            },
            "type": "contourcarpet"
           }
          ],
          "heatmap": [
           {
            "colorbar": {
             "outlinewidth": 0,
             "ticks": ""
            },
            "colorscale": [
             [
              0,
              "#0d0887"
             ],
             [
              0.1111111111111111,
              "#46039f"
             ],
             [
              0.2222222222222222,
              "#7201a8"
             ],
             [
              0.3333333333333333,
              "#9c179e"
             ],
             [
              0.4444444444444444,
              "#bd3786"
             ],
             [
              0.5555555555555556,
              "#d8576b"
             ],
             [
              0.6666666666666666,
              "#ed7953"
             ],
             [
              0.7777777777777778,
              "#fb9f3a"
             ],
             [
              0.8888888888888888,
              "#fdca26"
             ],
             [
              1,
              "#f0f921"
             ]
            ],
            "type": "heatmap"
           }
          ],
          "heatmapgl": [
           {
            "colorbar": {
             "outlinewidth": 0,
             "ticks": ""
            },
            "colorscale": [
             [
              0,
              "#0d0887"
             ],
             [
              0.1111111111111111,
              "#46039f"
             ],
             [
              0.2222222222222222,
              "#7201a8"
             ],
             [
              0.3333333333333333,
              "#9c179e"
             ],
             [
              0.4444444444444444,
              "#bd3786"
             ],
             [
              0.5555555555555556,
              "#d8576b"
             ],
             [
              0.6666666666666666,
              "#ed7953"
             ],
             [
              0.7777777777777778,
              "#fb9f3a"
             ],
             [
              0.8888888888888888,
              "#fdca26"
             ],
             [
              1,
              "#f0f921"
             ]
            ],
            "type": "heatmapgl"
           }
          ],
          "histogram": [
           {
            "marker": {
             "pattern": {
              "fillmode": "overlay",
              "size": 10,
              "solidity": 0.2
             }
            },
            "type": "histogram"
           }
          ],
          "histogram2d": [
           {
            "colorbar": {
             "outlinewidth": 0,
             "ticks": ""
            },
            "colorscale": [
             [
              0,
              "#0d0887"
             ],
             [
              0.1111111111111111,
              "#46039f"
             ],
             [
              0.2222222222222222,
              "#7201a8"
             ],
             [
              0.3333333333333333,
              "#9c179e"
             ],
             [
              0.4444444444444444,
              "#bd3786"
             ],
             [
              0.5555555555555556,
              "#d8576b"
             ],
             [
              0.6666666666666666,
              "#ed7953"
             ],
             [
              0.7777777777777778,
              "#fb9f3a"
             ],
             [
              0.8888888888888888,
              "#fdca26"
             ],
             [
              1,
              "#f0f921"
             ]
            ],
            "type": "histogram2d"
           }
          ],
          "histogram2dcontour": [
           {
            "colorbar": {
             "outlinewidth": 0,
             "ticks": ""
            },
            "colorscale": [
             [
              0,
              "#0d0887"
             ],
             [
              0.1111111111111111,
              "#46039f"
             ],
             [
              0.2222222222222222,
              "#7201a8"
             ],
             [
              0.3333333333333333,
              "#9c179e"
             ],
             [
              0.4444444444444444,
              "#bd3786"
             ],
             [
              0.5555555555555556,
              "#d8576b"
             ],
             [
              0.6666666666666666,
              "#ed7953"
             ],
             [
              0.7777777777777778,
              "#fb9f3a"
             ],
             [
              0.8888888888888888,
              "#fdca26"
             ],
             [
              1,
              "#f0f921"
             ]
            ],
            "type": "histogram2dcontour"
           }
          ],
          "mesh3d": [
           {
            "colorbar": {
             "outlinewidth": 0,
             "ticks": ""
            },
            "type": "mesh3d"
           }
          ],
          "parcoords": [
           {
            "line": {
             "colorbar": {
              "outlinewidth": 0,
              "ticks": ""
             }
            },
            "type": "parcoords"
           }
          ],
          "pie": [
           {
            "automargin": true,
            "type": "pie"
           }
          ],
          "scatter": [
           {
            "fillpattern": {
             "fillmode": "overlay",
             "size": 10,
             "solidity": 0.2
            },
            "type": "scatter"
           }
          ],
          "scatter3d": [
           {
            "line": {
             "colorbar": {
              "outlinewidth": 0,
              "ticks": ""
             }
            },
            "marker": {
             "colorbar": {
              "outlinewidth": 0,
              "ticks": ""
             }
            },
            "type": "scatter3d"
           }
          ],
          "scattercarpet": [
           {
            "marker": {
             "colorbar": {
              "outlinewidth": 0,
              "ticks": ""
             }
            },
            "type": "scattercarpet"
           }
          ],
          "scattergeo": [
           {
            "marker": {
             "colorbar": {
              "outlinewidth": 0,
              "ticks": ""
             }
            },
            "type": "scattergeo"
           }
          ],
          "scattergl": [
           {
            "marker": {
             "colorbar": {
              "outlinewidth": 0,
              "ticks": ""
             }
            },
            "type": "scattergl"
           }
          ],
          "scattermapbox": [
           {
            "marker": {
             "colorbar": {
              "outlinewidth": 0,
              "ticks": ""
             }
            },
            "type": "scattermapbox"
           }
          ],
          "scatterpolar": [
           {
            "marker": {
             "colorbar": {
              "outlinewidth": 0,
              "ticks": ""
             }
            },
            "type": "scatterpolar"
           }
          ],
          "scatterpolargl": [
           {
            "marker": {
             "colorbar": {
              "outlinewidth": 0,
              "ticks": ""
             }
            },
            "type": "scatterpolargl"
           }
          ],
          "scatterternary": [
           {
            "marker": {
             "colorbar": {
              "outlinewidth": 0,
              "ticks": ""
             }
            },
            "type": "scatterternary"
           }
          ],
          "surface": [
           {
            "colorbar": {
             "outlinewidth": 0,
             "ticks": ""
            },
            "colorscale": [
             [
              0,
              "#0d0887"
             ],
             [
              0.1111111111111111,
              "#46039f"
             ],
             [
              0.2222222222222222,
              "#7201a8"
             ],
             [
              0.3333333333333333,
              "#9c179e"
             ],
             [
              0.4444444444444444,
              "#bd3786"
             ],
             [
              0.5555555555555556,
              "#d8576b"
             ],
             [
              0.6666666666666666,
              "#ed7953"
             ],
             [
              0.7777777777777778,
              "#fb9f3a"
             ],
             [
              0.8888888888888888,
              "#fdca26"
             ],
             [
              1,
              "#f0f921"
             ]
            ],
            "type": "surface"
           }
          ],
          "table": [
           {
            "cells": {
             "fill": {
              "color": "#EBF0F8"
             },
             "line": {
              "color": "white"
             }
            },
            "header": {
             "fill": {
              "color": "#C8D4E3"
             },
             "line": {
              "color": "white"
             }
            },
            "type": "table"
           }
          ]
         },
         "layout": {
          "annotationdefaults": {
           "arrowcolor": "#2a3f5f",
           "arrowhead": 0,
           "arrowwidth": 1
          },
          "autotypenumbers": "strict",
          "coloraxis": {
           "colorbar": {
            "outlinewidth": 0,
            "ticks": ""
           }
          },
          "colorscale": {
           "diverging": [
            [
             0,
             "#8e0152"
            ],
            [
             0.1,
             "#c51b7d"
            ],
            [
             0.2,
             "#de77ae"
            ],
            [
             0.3,
             "#f1b6da"
            ],
            [
             0.4,
             "#fde0ef"
            ],
            [
             0.5,
             "#f7f7f7"
            ],
            [
             0.6,
             "#e6f5d0"
            ],
            [
             0.7,
             "#b8e186"
            ],
            [
             0.8,
             "#7fbc41"
            ],
            [
             0.9,
             "#4d9221"
            ],
            [
             1,
             "#276419"
            ]
           ],
           "sequential": [
            [
             0,
             "#0d0887"
            ],
            [
             0.1111111111111111,
             "#46039f"
            ],
            [
             0.2222222222222222,
             "#7201a8"
            ],
            [
             0.3333333333333333,
             "#9c179e"
            ],
            [
             0.4444444444444444,
             "#bd3786"
            ],
            [
             0.5555555555555556,
             "#d8576b"
            ],
            [
             0.6666666666666666,
             "#ed7953"
            ],
            [
             0.7777777777777778,
             "#fb9f3a"
            ],
            [
             0.8888888888888888,
             "#fdca26"
            ],
            [
             1,
             "#f0f921"
            ]
           ],
           "sequentialminus": [
            [
             0,
             "#0d0887"
            ],
            [
             0.1111111111111111,
             "#46039f"
            ],
            [
             0.2222222222222222,
             "#7201a8"
            ],
            [
             0.3333333333333333,
             "#9c179e"
            ],
            [
             0.4444444444444444,
             "#bd3786"
            ],
            [
             0.5555555555555556,
             "#d8576b"
            ],
            [
             0.6666666666666666,
             "#ed7953"
            ],
            [
             0.7777777777777778,
             "#fb9f3a"
            ],
            [
             0.8888888888888888,
             "#fdca26"
            ],
            [
             1,
             "#f0f921"
            ]
           ]
          },
          "colorway": [
           "#636efa",
           "#EF553B",
           "#00cc96",
           "#ab63fa",
           "#FFA15A",
           "#19d3f3",
           "#FF6692",
           "#B6E880",
           "#FF97FF",
           "#FECB52"
          ],
          "font": {
           "color": "#2a3f5f"
          },
          "geo": {
           "bgcolor": "white",
           "lakecolor": "white",
           "landcolor": "#E5ECF6",
           "showlakes": true,
           "showland": true,
           "subunitcolor": "white"
          },
          "hoverlabel": {
           "align": "left"
          },
          "hovermode": "closest",
          "mapbox": {
           "style": "light"
          },
          "paper_bgcolor": "white",
          "plot_bgcolor": "#E5ECF6",
          "polar": {
           "angularaxis": {
            "gridcolor": "white",
            "linecolor": "white",
            "ticks": ""
           },
           "bgcolor": "#E5ECF6",
           "radialaxis": {
            "gridcolor": "white",
            "linecolor": "white",
            "ticks": ""
           }
          },
          "scene": {
           "xaxis": {
            "backgroundcolor": "#E5ECF6",
            "gridcolor": "white",
            "gridwidth": 2,
            "linecolor": "white",
            "showbackground": true,
            "ticks": "",
            "zerolinecolor": "white"
           },
           "yaxis": {
            "backgroundcolor": "#E5ECF6",
            "gridcolor": "white",
            "gridwidth": 2,
            "linecolor": "white",
            "showbackground": true,
            "ticks": "",
            "zerolinecolor": "white"
           },
           "zaxis": {
            "backgroundcolor": "#E5ECF6",
            "gridcolor": "white",
            "gridwidth": 2,
            "linecolor": "white",
            "showbackground": true,
            "ticks": "",
            "zerolinecolor": "white"
           }
          },
          "shapedefaults": {
           "line": {
            "color": "#2a3f5f"
           }
          },
          "ternary": {
           "aaxis": {
            "gridcolor": "white",
            "linecolor": "white",
            "ticks": ""
           },
           "baxis": {
            "gridcolor": "white",
            "linecolor": "white",
            "ticks": ""
           },
           "bgcolor": "#E5ECF6",
           "caxis": {
            "gridcolor": "white",
            "linecolor": "white",
            "ticks": ""
           }
          },
          "title": {
           "x": 0.05
          },
          "xaxis": {
           "automargin": true,
           "gridcolor": "white",
           "linecolor": "white",
           "ticks": "",
           "title": {
            "standoff": 15
           },
           "zerolinecolor": "white",
           "zerolinewidth": 2
          },
          "yaxis": {
           "automargin": true,
           "gridcolor": "white",
           "linecolor": "white",
           "ticks": "",
           "title": {
            "standoff": 15
           },
           "zerolinecolor": "white",
           "zerolinewidth": 2
          }
         }
        },
        "width": 900,
        "xaxis": {
         "gridcolor": "#1f292f",
         "nticks": 5,
         "rangeslider": {
          "visible": false
         }
        },
        "yaxis": {
         "gridcolor": "#1f292f"
        }
       }
      },
      "text/html": [
       "<div>                            <div id=\"1cebf73a-8f7d-41fe-9b73-0af3f66b742b\" class=\"plotly-graph-div\" style=\"height:400px; width:900px;\"></div>            <script type=\"text/javascript\">                require([\"plotly\"], function(Plotly) {                    window.PLOTLYENV=window.PLOTLYENV || {};                                    if (document.getElementById(\"1cebf73a-8f7d-41fe-9b73-0af3f66b742b\")) {                    Plotly.newPlot(                        \"1cebf73a-8f7d-41fe-9b73-0af3f66b742b\",                        [{\"line\":{\"shape\":\"spline\",\"width\":2},\"name\":\"GAIN_C\",\"x\":[\"s21-12-09 21:00\",\"s21-12-13 00:00\",\"s21-12-13 09:00\",\"s21-12-13 13:00\",\"s21-12-14 20:00\",\"s21-12-16 21:00\",\"s21-12-17 18:00\",\"s21-12-20 05:00\",\"s21-12-21 01:00\",\"s21-12-21 05:00\",\"s21-12-21 06:00\",\"s21-12-22 06:00\",\"s21-12-22 13:00\",\"s21-12-23 07:00\",\"s21-12-23 08:00\",\"s21-12-24 02:00\",\"s21-12-24 17:00\",\"s21-12-26 22:00\",\"s21-12-27 03:00\",\"s21-12-27 11:00\",\"s21-12-27 20:00\",\"s21-12-28 22:00\",\"s21-12-29 09:00\",\"s21-12-29 18:00\",\"s21-12-30 04:00\",\"s21-12-30 22:00\",\"s21-12-31 07:00\",\"s21-12-31 16:00\",\"s22-01-03 08:00\",\"s22-01-03 12:00\",\"s22-01-04 06:00\",\"s22-01-05 08:00\",\"s22-01-05 17:00\",\"s22-01-05 20:00\",\"s22-01-06 23:00\",\"s22-01-07 08:00\",\"s22-01-10 02:00\",\"s22-01-10 18:00\",\"s22-01-11 07:00\",\"s22-01-11 13:00\",\"s22-01-11 22:00\",\"s22-01-13 19:00\",\"s22-01-17 13:00\",\"s22-01-18 03:00\",\"s22-01-18 16:00\",\"s22-01-21 02:00\",\"s22-01-25 02:00\",\"s22-01-26 22:00\",\"s22-01-27 13:00\",\"s22-01-27 22:00\",\"s22-01-31 03:00\",\"s22-01-31 22:00\",\"s22-02-01 13:00\",\"s22-02-02 10:00\",\"s22-02-07 04:00\",\"s22-02-10 05:00\",\"s22-02-10 12:00\",\"s22-02-10 22:00\",\"s22-02-11 15:00\",\"s22-02-14 04:00\",\"s22-02-14 15:00\",\"s22-02-15 07:00\",\"s22-02-15 22:00\",\"s22-02-17 23:00\",\"s22-02-18 08:00\",\"s22-02-18 21:00\",\"s22-02-21 04:00\",\"s22-02-22 17:00\",\"s22-02-22 22:00\",\"s22-02-24 00:00\",\"s22-02-24 11:00\",\"s22-02-24 22:00\",\"s22-02-25 06:00\",\"s22-02-25 21:00\",\"s22-02-28 04:00\",\"s22-03-07 16:00\",\"s22-03-09 08:00\",\"s22-03-09 15:00\",\"s22-03-10 08:00\",\"s22-03-11 08:00\",\"s22-03-11 20:00\",\"s22-03-14 03:00\",\"s22-03-15 17:00\",\"s22-03-21 09:00\",\"s22-03-21 19:00\",\"s22-03-24 07:00\",\"s22-03-24 13:00\",\"s22-03-25 04:00\",\"s22-03-25 16:00\",\"s22-03-28 14:00\",\"s22-03-30 03:00\",\"s22-03-30 08:00\",\"s22-03-31 13:00\",\"s22-04-04 00:00\",\"s22-04-04 06:00\",\"s22-04-06 00:00\",\"s22-04-07 20:00\",\"s22-04-08 11:00\",\"s22-04-12 05:00\",\"s22-04-13 07:00\",\"s22-04-14 14:00\",\"s22-04-15 03:00\",\"s22-04-15 11:00\",\"s22-04-15 12:00\",\"s22-04-19 01:00\",\"s22-04-19 16:00\",\"s22-04-19 22:00\",\"s22-04-21 06:00\",\"s22-04-25 16:00\",\"s22-04-26 19:00\",\"s22-04-27 06:00\",\"s22-04-28 03:00\",\"s22-04-28 07:00\",\"s22-04-28 17:00\",\"s22-04-29 00:00\",\"s22-04-29 16:00\",\"s22-05-02 12:00\",\"s22-05-03 17:00\",\"s22-05-04 02:00\",\"s22-05-05 12:00\",\"s22-05-09 01:00\",\"s22-05-09 04:00\",\"s22-05-10 11:00\",\"s22-05-10 21:00\",\"s22-05-11 02:00\",\"s22-05-11 21:00\",\"s22-05-12 16:00\",\"s22-05-16 06:00\",\"s22-05-16 17:00\",\"s22-05-17 14:00\",\"s22-05-18 06:00\",\"s22-05-18 20:00\",\"s22-05-19 07:00\",\"s22-05-19 20:00\",\"s22-05-20 11:00\",\"s22-05-22 23:00\",\"s22-05-23 01:00\",\"s22-05-23 14:00\",\"s22-05-25 00:00\",\"s22-05-25 16:00\",\"s22-05-25 23:00\",\"s22-05-26 08:00\",\"s22-05-27 03:00\",\"s22-05-30 15:00\",\"s22-05-30 23:00\",\"s22-05-31 21:00\",\"s22-06-01 06:00\",\"s22-06-02 05:00\",\"s22-06-02 14:00\",\"s22-06-03 06:00\",\"s22-06-06 13:00\",\"s22-06-07 00:00\",\"s22-06-07 12:00\",\"s22-06-08 08:00\",\"s22-06-10 06:00\",\"s22-06-12 22:00\",\"s22-06-14 03:00\",\"s22-06-14 10:00\",\"s22-06-15 04:00\",\"s22-06-16 12:00\",\"s22-06-17 05:00\",\"s22-06-17 06:00\",\"s22-06-20 07:00\",\"s22-06-20 21:00\",\"s22-06-21 20:00\",\"s22-06-22 05:00\",\"s22-06-23 13:00\",\"s22-06-24 01:00\",\"s22-06-24 11:00\",\"s22-06-27 04:00\",\"s22-06-28 05:00\",\"s22-06-29 00:00\",\"s22-06-29 18:00\",\"s22-06-30 21:00\",\"s22-07-03 21:00\",\"s22-07-05 11:00\",\"s22-07-05 14:00\",\"s22-07-08 09:00\",\"s22-07-08 14:00\",\"s22-07-11 00:00\",\"s22-07-12 01:00\",\"s22-07-13 17:00\",\"s22-07-14 05:00\",\"s22-07-14 13:00\",\"s22-07-14 23:00\",\"s22-07-15 08:00\",\"s22-07-15 17:00\",\"s22-07-18 10:00\",\"s22-07-19 04:00\",\"s22-07-21 05:00\",\"s22-07-21 18:00\"],\"y\":[10.700000000001264,1.3000000000018552,-35.59999999999785,-8.199999999998202,66.70000000000176,60.20000000000137,-13.399999999998968,-2.7999999999983594,-7.499999999998064,-19.599999999997397,12.40000000000352,-59.99999999999561,-2.89999999999457,-40.59999999999508,-55.19999999999524,-40.499999999994415,-31.99999999999424,-51.39999999999477,-89.59999999999633,-121.79999999999633,-122.89999999999466,-144.1999999999943,-156.1999999999952,-181.09999999999624,-190.1999999999959,-243.1999999999945,-324.4999999999942,-350.7999999999933,-403.5999999999928,-417.3999999999944,-366.5999999999947,-367.699999999993,-418.9999999999916,-314.9999999999919,-363.69999999999345,-412.99999999999443,-435.89999999999566,-451.99999999999676,-483.5999999999973,-520.5999999999976,-471.5999999999986,-385.8000000000005,-432.4000000000016,-516.9000000000024,-490.80000000000234,-402.60000000000184,-364.4000000000025,-408.00000000000387,-505.7000000000044,-425.70000000000437,-393.5000000000044,-427.6000000000035,-378.80000000000354,-57.40000000000521,145.9999999999928,105.29999999999262,44.59999999999243,-17.90000000000846,-69.90000000000938,-129.0000000000102,-152.4000000000103,-176.40000000000987,-107.80000000000899,-161.8000000000097,-182.50000000000986,-209.10000000000872,-159.00000000000912,-170.40000000001052,-134.60000000001136,-209.70000000001264,-263.0000000000132,-335.4000000000123,-362.60000000001287,-427.2000000000142,261.1999999999859,405.7999999999873,294.9999999999875,250.89999999998724,313.1999999999868,305.99999999998624,246.799999999987,431.7999999999866,675.399999999986,585.5999999999862,790.9999999999861,750.8999999999854,732.0999999999843,687.5999999999837,631.7999999999822,745.999999999982,683.8999999999837,628.2999999999836,674.1999999999823,614.3999999999813,924.7999999999809,1096.0999999999817,1081.7999999999836,1146.3999999999849,1209.6999999999844,1185.7999999999831,1126.999999999982,1134.8999999999805,1138.399999999979,1182.0999999999788,1193.1999999999805,1163.599999999982,1124.3999999999828,1436.399999999984,1480.0999999999838,1381.199999999982,1380.2999999999806,1322.7999999999793,1287.9999999999777,1254.9999999999768,1121.8999999999776,1146.9999999999777,1228.399999999978,1181.1999999999796,1281.9999999999804,1572.9999999999818,1551.9999999999818,1723.4999999999818,1718.3999999999817,1691.1999999999812,1690.3999999999826,1635.199999999983,1624.4999999999818,1506.9999999999802,1453.599999999979,1413.1999999999784,1366.7999999999786,1324.29999999998,1309.39999999998,1258.7999999999795,1260.699999999981,1240.0999999999815,1161.199999999982,1253.5999999999835,1276.1999999999828,1255.0999999999822,1247.3999999999828,1230.999999999982,1318.1999999999805,1314.4999999999807,1331.6999999999823,1326.8999999999842,1386.7999999999859,1307.999999999987,1298.3999999999885,1303.9999999999895,1251.7999999999895,1248.3999999999894,1253.7999999999893,1313.7999999999893,1299.7999999999886,1343.099999999988,1203.2999999999893,1186.2999999999888,1357.5999999999874,1413.8999999999876,1365.999999999989,1387.7999999999897,1336.3999999999905,1326.9999999999911,1270.3999999999912,1333.0999999999913,1310.5999999999904,1301.7999999999904,1301.2999999999915,1320.2999999999918,1338.3999999999905,1282.39999999999,1285.599999999991,1399.299999999992,1519.9999999999923,1456.7999999999913,1728.3999999999899,1700.0999999999888,1665.599999999987,1702.7999999999863,1737.4999999999873,1713.7999999999874,1646.1999999999864,1591.0999999999851,1539.9999999999857,1488.199999999986,1467.7999999999856,1418.4999999999868,1435.099999999989,1408.5999999999908,1408.5999999999908],\"type\":\"scatter\"}],                        {\"template\":{\"data\":{\"histogram2dcontour\":[{\"type\":\"histogram2dcontour\",\"colorbar\":{\"outlinewidth\":0,\"ticks\":\"\"},\"colorscale\":[[0.0,\"#0d0887\"],[0.1111111111111111,\"#46039f\"],[0.2222222222222222,\"#7201a8\"],[0.3333333333333333,\"#9c179e\"],[0.4444444444444444,\"#bd3786\"],[0.5555555555555556,\"#d8576b\"],[0.6666666666666666,\"#ed7953\"],[0.7777777777777778,\"#fb9f3a\"],[0.8888888888888888,\"#fdca26\"],[1.0,\"#f0f921\"]]}],\"choropleth\":[{\"type\":\"choropleth\",\"colorbar\":{\"outlinewidth\":0,\"ticks\":\"\"}}],\"histogram2d\":[{\"type\":\"histogram2d\",\"colorbar\":{\"outlinewidth\":0,\"ticks\":\"\"},\"colorscale\":[[0.0,\"#0d0887\"],[0.1111111111111111,\"#46039f\"],[0.2222222222222222,\"#7201a8\"],[0.3333333333333333,\"#9c179e\"],[0.4444444444444444,\"#bd3786\"],[0.5555555555555556,\"#d8576b\"],[0.6666666666666666,\"#ed7953\"],[0.7777777777777778,\"#fb9f3a\"],[0.8888888888888888,\"#fdca26\"],[1.0,\"#f0f921\"]]}],\"heatmap\":[{\"type\":\"heatmap\",\"colorbar\":{\"outlinewidth\":0,\"ticks\":\"\"},\"colorscale\":[[0.0,\"#0d0887\"],[0.1111111111111111,\"#46039f\"],[0.2222222222222222,\"#7201a8\"],[0.3333333333333333,\"#9c179e\"],[0.4444444444444444,\"#bd3786\"],[0.5555555555555556,\"#d8576b\"],[0.6666666666666666,\"#ed7953\"],[0.7777777777777778,\"#fb9f3a\"],[0.8888888888888888,\"#fdca26\"],[1.0,\"#f0f921\"]]}],\"heatmapgl\":[{\"type\":\"heatmapgl\",\"colorbar\":{\"outlinewidth\":0,\"ticks\":\"\"},\"colorscale\":[[0.0,\"#0d0887\"],[0.1111111111111111,\"#46039f\"],[0.2222222222222222,\"#7201a8\"],[0.3333333333333333,\"#9c179e\"],[0.4444444444444444,\"#bd3786\"],[0.5555555555555556,\"#d8576b\"],[0.6666666666666666,\"#ed7953\"],[0.7777777777777778,\"#fb9f3a\"],[0.8888888888888888,\"#fdca26\"],[1.0,\"#f0f921\"]]}],\"contourcarpet\":[{\"type\":\"contourcarpet\",\"colorbar\":{\"outlinewidth\":0,\"ticks\":\"\"}}],\"contour\":[{\"type\":\"contour\",\"colorbar\":{\"outlinewidth\":0,\"ticks\":\"\"},\"colorscale\":[[0.0,\"#0d0887\"],[0.1111111111111111,\"#46039f\"],[0.2222222222222222,\"#7201a8\"],[0.3333333333333333,\"#9c179e\"],[0.4444444444444444,\"#bd3786\"],[0.5555555555555556,\"#d8576b\"],[0.6666666666666666,\"#ed7953\"],[0.7777777777777778,\"#fb9f3a\"],[0.8888888888888888,\"#fdca26\"],[1.0,\"#f0f921\"]]}],\"surface\":[{\"type\":\"surface\",\"colorbar\":{\"outlinewidth\":0,\"ticks\":\"\"},\"colorscale\":[[0.0,\"#0d0887\"],[0.1111111111111111,\"#46039f\"],[0.2222222222222222,\"#7201a8\"],[0.3333333333333333,\"#9c179e\"],[0.4444444444444444,\"#bd3786\"],[0.5555555555555556,\"#d8576b\"],[0.6666666666666666,\"#ed7953\"],[0.7777777777777778,\"#fb9f3a\"],[0.8888888888888888,\"#fdca26\"],[1.0,\"#f0f921\"]]}],\"mesh3d\":[{\"type\":\"mesh3d\",\"colorbar\":{\"outlinewidth\":0,\"ticks\":\"\"}}],\"scatter\":[{\"fillpattern\":{\"fillmode\":\"overlay\",\"size\":10,\"solidity\":0.2},\"type\":\"scatter\"}],\"parcoords\":[{\"type\":\"parcoords\",\"line\":{\"colorbar\":{\"outlinewidth\":0,\"ticks\":\"\"}}}],\"scatterpolargl\":[{\"type\":\"scatterpolargl\",\"marker\":{\"colorbar\":{\"outlinewidth\":0,\"ticks\":\"\"}}}],\"bar\":[{\"error_x\":{\"color\":\"#2a3f5f\"},\"error_y\":{\"color\":\"#2a3f5f\"},\"marker\":{\"line\":{\"color\":\"#E5ECF6\",\"width\":0.5},\"pattern\":{\"fillmode\":\"overlay\",\"size\":10,\"solidity\":0.2}},\"type\":\"bar\"}],\"scattergeo\":[{\"type\":\"scattergeo\",\"marker\":{\"colorbar\":{\"outlinewidth\":0,\"ticks\":\"\"}}}],\"scatterpolar\":[{\"type\":\"scatterpolar\",\"marker\":{\"colorbar\":{\"outlinewidth\":0,\"ticks\":\"\"}}}],\"histogram\":[{\"marker\":{\"pattern\":{\"fillmode\":\"overlay\",\"size\":10,\"solidity\":0.2}},\"type\":\"histogram\"}],\"scattergl\":[{\"type\":\"scattergl\",\"marker\":{\"colorbar\":{\"outlinewidth\":0,\"ticks\":\"\"}}}],\"scatter3d\":[{\"type\":\"scatter3d\",\"line\":{\"colorbar\":{\"outlinewidth\":0,\"ticks\":\"\"}},\"marker\":{\"colorbar\":{\"outlinewidth\":0,\"ticks\":\"\"}}}],\"scattermapbox\":[{\"type\":\"scattermapbox\",\"marker\":{\"colorbar\":{\"outlinewidth\":0,\"ticks\":\"\"}}}],\"scatterternary\":[{\"type\":\"scatterternary\",\"marker\":{\"colorbar\":{\"outlinewidth\":0,\"ticks\":\"\"}}}],\"scattercarpet\":[{\"type\":\"scattercarpet\",\"marker\":{\"colorbar\":{\"outlinewidth\":0,\"ticks\":\"\"}}}],\"carpet\":[{\"aaxis\":{\"endlinecolor\":\"#2a3f5f\",\"gridcolor\":\"white\",\"linecolor\":\"white\",\"minorgridcolor\":\"white\",\"startlinecolor\":\"#2a3f5f\"},\"baxis\":{\"endlinecolor\":\"#2a3f5f\",\"gridcolor\":\"white\",\"linecolor\":\"white\",\"minorgridcolor\":\"white\",\"startlinecolor\":\"#2a3f5f\"},\"type\":\"carpet\"}],\"table\":[{\"cells\":{\"fill\":{\"color\":\"#EBF0F8\"},\"line\":{\"color\":\"white\"}},\"header\":{\"fill\":{\"color\":\"#C8D4E3\"},\"line\":{\"color\":\"white\"}},\"type\":\"table\"}],\"barpolar\":[{\"marker\":{\"line\":{\"color\":\"#E5ECF6\",\"width\":0.5},\"pattern\":{\"fillmode\":\"overlay\",\"size\":10,\"solidity\":0.2}},\"type\":\"barpolar\"}],\"pie\":[{\"automargin\":true,\"type\":\"pie\"}]},\"layout\":{\"autotypenumbers\":\"strict\",\"colorway\":[\"#636efa\",\"#EF553B\",\"#00cc96\",\"#ab63fa\",\"#FFA15A\",\"#19d3f3\",\"#FF6692\",\"#B6E880\",\"#FF97FF\",\"#FECB52\"],\"font\":{\"color\":\"#2a3f5f\"},\"hovermode\":\"closest\",\"hoverlabel\":{\"align\":\"left\"},\"paper_bgcolor\":\"white\",\"plot_bgcolor\":\"#E5ECF6\",\"polar\":{\"bgcolor\":\"#E5ECF6\",\"angularaxis\":{\"gridcolor\":\"white\",\"linecolor\":\"white\",\"ticks\":\"\"},\"radialaxis\":{\"gridcolor\":\"white\",\"linecolor\":\"white\",\"ticks\":\"\"}},\"ternary\":{\"bgcolor\":\"#E5ECF6\",\"aaxis\":{\"gridcolor\":\"white\",\"linecolor\":\"white\",\"ticks\":\"\"},\"baxis\":{\"gridcolor\":\"white\",\"linecolor\":\"white\",\"ticks\":\"\"},\"caxis\":{\"gridcolor\":\"white\",\"linecolor\":\"white\",\"ticks\":\"\"}},\"coloraxis\":{\"colorbar\":{\"outlinewidth\":0,\"ticks\":\"\"}},\"colorscale\":{\"sequential\":[[0.0,\"#0d0887\"],[0.1111111111111111,\"#46039f\"],[0.2222222222222222,\"#7201a8\"],[0.3333333333333333,\"#9c179e\"],[0.4444444444444444,\"#bd3786\"],[0.5555555555555556,\"#d8576b\"],[0.6666666666666666,\"#ed7953\"],[0.7777777777777778,\"#fb9f3a\"],[0.8888888888888888,\"#fdca26\"],[1.0,\"#f0f921\"]],\"sequentialminus\":[[0.0,\"#0d0887\"],[0.1111111111111111,\"#46039f\"],[0.2222222222222222,\"#7201a8\"],[0.3333333333333333,\"#9c179e\"],[0.4444444444444444,\"#bd3786\"],[0.5555555555555556,\"#d8576b\"],[0.6666666666666666,\"#ed7953\"],[0.7777777777777778,\"#fb9f3a\"],[0.8888888888888888,\"#fdca26\"],[1.0,\"#f0f921\"]],\"diverging\":[[0,\"#8e0152\"],[0.1,\"#c51b7d\"],[0.2,\"#de77ae\"],[0.3,\"#f1b6da\"],[0.4,\"#fde0ef\"],[0.5,\"#f7f7f7\"],[0.6,\"#e6f5d0\"],[0.7,\"#b8e186\"],[0.8,\"#7fbc41\"],[0.9,\"#4d9221\"],[1,\"#276419\"]]},\"xaxis\":{\"gridcolor\":\"white\",\"linecolor\":\"white\",\"ticks\":\"\",\"title\":{\"standoff\":15},\"zerolinecolor\":\"white\",\"automargin\":true,\"zerolinewidth\":2},\"yaxis\":{\"gridcolor\":\"white\",\"linecolor\":\"white\",\"ticks\":\"\",\"title\":{\"standoff\":15},\"zerolinecolor\":\"white\",\"automargin\":true,\"zerolinewidth\":2},\"scene\":{\"xaxis\":{\"backgroundcolor\":\"#E5ECF6\",\"gridcolor\":\"white\",\"linecolor\":\"white\",\"showbackground\":true,\"ticks\":\"\",\"zerolinecolor\":\"white\",\"gridwidth\":2},\"yaxis\":{\"backgroundcolor\":\"#E5ECF6\",\"gridcolor\":\"white\",\"linecolor\":\"white\",\"showbackground\":true,\"ticks\":\"\",\"zerolinecolor\":\"white\",\"gridwidth\":2},\"zaxis\":{\"backgroundcolor\":\"#E5ECF6\",\"gridcolor\":\"white\",\"linecolor\":\"white\",\"showbackground\":true,\"ticks\":\"\",\"zerolinecolor\":\"white\",\"gridwidth\":2}},\"shapedefaults\":{\"line\":{\"color\":\"#2a3f5f\"}},\"annotationdefaults\":{\"arrowcolor\":\"#2a3f5f\",\"arrowhead\":0,\"arrowwidth\":1},\"geo\":{\"bgcolor\":\"white\",\"landcolor\":\"#E5ECF6\",\"subunitcolor\":\"white\",\"showland\":true,\"showlakes\":true,\"lakecolor\":\"white\"},\"title\":{\"x\":0.05},\"mapbox\":{\"style\":\"light\"}}},\"yaxis\":{\"gridcolor\":\"#1f292f\"},\"xaxis\":{\"rangeslider\":{\"visible\":false},\"gridcolor\":\"#1f292f\",\"nticks\":5},\"margin\":{\"l\":10,\"r\":10,\"b\":10,\"t\":10},\"font\":{\"size\":8,\"color\":\"#e1e1e1\"},\"width\":900,\"height\":400,\"paper_bgcolor\":\"#2c303c\",\"plot_bgcolor\":\"#2c303c\"},                        {\"responsive\": true}                    ).then(function(){\n",
       "                            \n",
       "var gd = document.getElementById('1cebf73a-8f7d-41fe-9b73-0af3f66b742b');\n",
       "var x = new MutationObserver(function (mutations, observer) {{\n",
       "        var display = window.getComputedStyle(gd).display;\n",
       "        if (!display || display === 'none') {{\n",
       "            console.log([gd, 'removed!']);\n",
       "            Plotly.purge(gd);\n",
       "            observer.disconnect();\n",
       "        }}\n",
       "}});\n",
       "\n",
       "// Listen for the removal of the full notebook cells\n",
       "var notebookContainer = gd.closest('#notebook-container');\n",
       "if (notebookContainer) {{\n",
       "    x.observe(notebookContainer, {childList: true});\n",
       "}}\n",
       "\n",
       "// Listen for the clearing of the current output cell\n",
       "var outputEl = gd.closest('.output');\n",
       "if (outputEl) {{\n",
       "    x.observe(outputEl, {childList: true});\n",
       "}}\n",
       "\n",
       "                        })                };                });            </script>        </div>"
      ]
     },
     "metadata": {},
     "output_type": "display_data"
    }
   ],
   "source": [
    "cp = CandlePlot(df_gains_EUR_AUD, candles=False)\n",
    "cp.show_plot(line_traces=['GAIN_C'])"
   ]
  },
  {
   "cell_type": "code",
   "execution_count": 81,
   "id": "0b78f4ee",
   "metadata": {
    "scrolled": false
   },
   "outputs": [
    {
     "name": "stdout",
     "output_type": "stream",
     "text": [
      "GBP_JPY 2709\n"
     ]
    },
    {
     "data": {
      "application/vnd.plotly.v1+json": {
       "config": {
        "plotlyServerURL": "https://plot.ly"
       },
       "data": [
        {
         "line": {
          "shape": "spline",
          "width": 2
         },
         "name": "GAIN_C",
         "type": "scatter",
         "x": [
          "s21-12-09 23:00",
          "s21-12-13 18:00",
          "s21-12-14 10:00",
          "s21-12-16 22:00",
          "s21-12-20 19:00",
          "s21-12-24 04:00",
          "s21-12-24 18:00",
          "s21-12-24 19:00",
          "s21-12-27 04:00",
          "s21-12-28 09:00",
          "s21-12-28 13:00",
          "s21-12-28 16:00",
          "s21-12-29 07:00",
          "s21-12-31 05:00",
          "s21-12-31 08:00",
          "s22-01-03 08:00",
          "s22-01-04 02:00",
          "s22-01-05 06:00",
          "s22-01-05 19:00",
          "s22-01-06 06:00",
          "s22-01-06 20:00",
          "s22-01-07 16:00",
          "s22-01-07 20:00",
          "s22-01-10 12:00",
          "s22-01-11 03:00",
          "s22-01-12 18:00",
          "s22-01-13 09:00",
          "s22-01-13 15:00",
          "s22-01-17 01:00",
          "s22-01-17 18:00",
          "s22-01-18 04:00",
          "s22-01-18 12:00",
          "s22-01-19 06:00",
          "s22-01-19 07:00",
          "s22-01-19 15:00",
          "s22-01-19 23:00",
          "s22-01-20 08:00",
          "s22-01-20 15:00",
          "s22-01-24 05:00",
          "s22-01-24 10:00",
          "s22-01-25 02:00",
          "s22-01-25 10:00",
          "s22-01-25 16:00",
          "s22-01-27 03:00",
          "s22-01-27 14:00",
          "s22-01-28 17:00",
          "s22-01-31 04:00",
          "s22-01-31 18:00",
          "s22-02-01 12:00",
          "s22-02-02 13:00",
          "s22-02-02 19:00",
          "s22-02-03 08:00",
          "s22-02-03 09:00",
          "s22-02-04 09:00",
          "s22-02-07 07:00",
          "s22-02-07 08:00",
          "s22-02-07 23:00",
          "s22-02-09 08:00",
          "s22-02-09 11:00",
          "s22-02-09 20:00",
          "s22-02-10 08:00",
          "s22-02-11 03:00",
          "s22-02-11 14:00",
          "s22-02-11 20:00",
          "s22-02-14 19:00",
          "s22-02-15 06:00",
          "s22-02-15 10:00",
          "s22-02-16 20:00",
          "s22-02-16 23:00",
          "s22-02-17 04:00",
          "s22-02-17 20:00",
          "s22-02-18 00:00",
          "s22-02-18 06:00",
          "s22-02-18 17:00",
          "s22-02-21 07:00",
          "s22-02-21 16:00",
          "s22-02-22 15:00",
          "s22-02-23 17:00",
          "s22-02-24 23:00",
          "s22-02-25 14:00",
          "s22-02-25 16:00",
          "s22-02-28 03:00",
          "s22-02-28 14:00",
          "s22-02-28 20:00",
          "s22-03-01 06:00",
          "s22-03-01 10:00",
          "s22-03-02 09:00",
          "s22-03-03 15:00",
          "s22-03-08 08:00",
          "s22-03-10 14:00",
          "s22-03-11 07:00",
          "s22-03-15 01:00",
          "s22-03-15 03:00",
          "s22-03-15 16:00",
          "s22-03-15 17:00",
          "s22-03-17 15:00",
          "s22-03-18 03:00",
          "s22-03-21 07:00",
          "s22-03-21 16:00",
          "s22-03-23 11:00",
          "s22-03-24 01:00",
          "s22-03-25 07:00",
          "s22-03-25 18:00",
          "s22-03-28 19:00",
          "s22-03-29 06:00",
          "s22-03-29 08:00",
          "s22-03-30 17:00",
          "s22-03-31 00:00",
          "s22-03-31 05:00",
          "s22-03-31 10:00",
          "s22-04-01 00:00",
          "s22-04-01 19:00",
          "s22-04-04 06:00",
          "s22-04-05 04:00",
          "s22-04-05 10:00",
          "s22-04-06 20:00",
          "s22-04-07 09:00",
          "s22-04-08 07:00",
          "s22-04-08 18:00",
          "s22-04-12 01:00",
          "s22-04-12 14:00",
          "s22-04-12 15:00",
          "s22-04-13 05:00",
          "s22-04-14 11:00",
          "s22-04-14 23:00",
          "s22-04-15 19:00",
          "s22-04-18 18:00",
          "s22-04-20 09:00",
          "s22-04-21 01:00",
          "s22-04-21 17:00",
          "s22-04-21 22:00",
          "s22-04-21 23:00",
          "s22-04-26 02:00",
          "s22-04-26 11:00",
          "s22-04-27 08:00",
          "s22-04-28 22:00",
          "s22-04-29 03:00",
          "s22-04-29 19:00",
          "s22-05-02 00:00",
          "s22-05-02 13:00",
          "s22-05-03 07:00",
          "s22-05-03 17:00",
          "s22-05-04 12:00",
          "s22-05-04 17:00",
          "s22-05-04 21:00",
          "s22-05-05 08:00",
          "s22-05-06 05:00",
          "s22-05-06 12:00",
          "s22-05-08 23:00",
          "s22-05-09 07:00",
          "s22-05-09 10:00",
          "s22-05-09 20:00",
          "s22-05-10 07:00",
          "s22-05-10 12:00",
          "s22-05-11 01:00",
          "s22-05-11 12:00",
          "s22-05-11 13:00",
          "s22-05-11 15:00",
          "s22-05-13 02:00",
          "s22-05-16 08:00",
          "s22-05-16 16:00",
          "s22-05-18 05:00",
          "s22-05-19 07:00",
          "s22-05-20 08:00",
          "s22-05-20 10:00",
          "s22-05-23 01:00",
          "s22-05-23 02:00",
          "s22-05-24 06:00",
          "s22-05-25 03:00",
          "s22-05-26 09:00",
          "s22-05-26 18:00",
          "s22-05-27 14:00",
          "s22-05-27 20:00",
          "s22-05-31 09:00",
          "s22-05-31 16:00",
          "s22-06-01 17:00",
          "s22-06-02 08:00",
          "s22-06-06 00:00",
          "s22-06-06 09:00",
          "s22-06-09 06:00",
          "s22-06-09 19:00",
          "s22-06-10 05:00",
          "s22-06-14 05:00",
          "s22-06-14 13:00",
          "s22-06-15 03:00",
          "s22-06-15 13:00",
          "s22-06-15 15:00",
          "s22-06-16 10:00",
          "s22-06-16 20:00",
          "s22-06-17 20:00",
          "s22-06-20 05:00",
          "s22-06-20 10:00",
          "s22-06-20 11:00",
          "s22-06-22 05:00",
          "s22-06-22 18:00",
          "s22-06-23 03:00",
          "s22-06-24 01:00",
          "s22-06-27 02:00",
          "s22-06-27 11:00",
          "s22-06-28 01:00",
          "s22-06-28 08:00",
          "s22-06-28 20:00",
          "s22-07-04 00:00",
          "s22-07-05 11:00",
          "s22-07-06 21:00",
          "s22-07-08 07:00",
          "s22-07-08 17:00",
          "s22-07-11 13:00",
          "s22-07-12 21:00",
          "s22-07-14 20:00",
          "s22-07-15 03:00",
          "s22-07-15 12:00",
          "s22-07-17 21:00",
          "s22-07-19 00:00",
          "s22-07-19 11:00",
          "s22-07-20 12:00",
          "s22-07-21 03:00",
          "s22-07-21 13:00"
         ],
         "y": [
          -4.500000000001592,
          -39.70000000000198,
          80.19999999999925,
          220.69999999999936,
          533.0999999999989,
          540.7999999999987,
          545.999999999998,
          520.8999999999975,
          608.899999999997,
          605.2999999999969,
          579.6999999999969,
          566.3999999999959,
          674.0999999999957,
          648.9999999999952,
          676.3999999999953,
          687.6999999999953,
          809.6999999999952,
          755.1999999999964,
          664.6999999999963,
          643.6999999999955,
          664.4999999999953,
          657.0999999999941,
          584.0999999999923,
          539.2999999999915,
          560.0999999999914,
          528.8999999999902,
          468.9999999999884,
          497.59999999998854,
          491.79999999998927,
          466.09999999998877,
          379.59999999998786,
          414.09999999998774,
          419.299999999987,
          385.6999999999857,
          364.29999999998586,
          348.69999999998527,
          336.6999999999848,
          486.4999999999867,
          421.89999999998804,
          436.8999999999886,
          470.2999999999889,
          472.29999999998995,
          510.49999999999045,
          463.49999999999056,
          439.4999999999925,
          376.29999999999484,
          349.0999999999957,
          354.4999999999959,
          411.2999999999971,
          389.69999999999914,
          399.50000000000045,
          389.30000000000007,
          428.3999999999992,
          415.49999999999727,
          386.4999999999952,
          390.6999999999954,
          471.89999999999657,
          457.699999999997,
          424.0999999999957,
          401.29999999999484,
          463.39999999999577,
          457.19999999999743,
          351.09999999999957,
          337.5,
          301.6999999999996,
          231.99999999999932,
          251.09999999999957,
          269.2000000000007,
          240.5000000000001,
          235.0999999999999,
          221.10000000000127,
          170.60000000000173,
          115.50000000000296,
          82.10000000000548,
          44.500000000007844,
          33.700000000007435,
          -9.19999999999277,
          133.50000000000932,
          144.5000000000107,
          108.50000000001216,
          29.900000000012028,
          -9.79999999998995,
          -49.59999999998956,
          -74.99999999998863,
          -137.49999999998863,
          -86.29999999998859,
          8.700000000010277,
          281.40000000001066,
          385.90000000001226,
          385.90000000001226,
          519.3000000000126,
          472.7000000000146,
          474.40000000001703,
          480.20000000001914,
          630.600000000021,
          584.3000000000217,
          634.2000000000212,
          573.1000000000222,
          786.9000000000227,
          750.9000000000214,
          817.500000000021,
          773.6000000000217,
          886.6000000000213,
          910.7000000000198,
          878.9000000000186,
          1030.5000000000177,
          1094.5000000000164,
          1141.4000000000158,
          1080.3000000000168,
          1000.1000000000175,
          1026.1000000000167,
          995.5000000000156,
          974.4000000000143,
          922.3000000000128,
          968.5000000000117,
          958.9000000000113,
          949.5000000000119,
          911.3000000000114,
          1018.8000000000103,
          1022.30000000001,
          1022.5000000000109,
          1000.100000000012,
          1099.0000000000123,
          1052.1000000000129,
          1074.7000000000128,
          1066.5000000000134,
          1236.3000000000143,
          1163.8000000000147,
          1111.500000000015,
          1095.200000000014,
          1099.0000000000123,
          1515.9000000000106,
          1383.9000000000112,
          1521.3000000000136,
          1788.6000000000138,
          1790.3000000000134,
          1801.3000000000147,
          1772.9000000000156,
          1743.5000000000146,
          1738.9000000000124,
          1674.900000000011,
          1660.1000000000113,
          1628.0000000000114,
          1548.7000000000107,
          1500.500000000011,
          1627.900000000011,
          1583.7000000000103,
          1569.5000000000107,
          1576.700000000011,
          1517.7000000000107,
          1404.6000000000108,
          1416.500000000011,
          1371.6000000000126,
          1312.1000000000126,
          1307.7000000000116,
          1243.300000000011,
          1146.9000000000112,
          1442.7000000000112,
          1534.6000000000095,
          1523.5000000000077,
          1814.7000000000085,
          2067.8000000000093,
          2182.500000000008,
          2191.7000000000066,
          2171.3000000000056,
          2162.5000000000064,
          2240.7000000000075,
          2362.500000000009,
          2414.1000000000113,
          2377.7000000000135,
          2394.500000000014,
          2372.7000000000126,
          2435.90000000001,
          2335.100000000009,
          2372.9000000000106,
          2346.600000000013,
          2392.400000000013,
          2300.500000000012,
          2630.0000000000105,
          2590.7000000000103,
          2526.7000000000116,
          2838.9000000000133,
          2628.5000000000146,
          2592.900000000015,
          2603.5000000000146,
          2636.8000000000143,
          2603.3000000000166,
          2454.9000000000187,
          2616.100000000018,
          2577.1000000000167,
          2567.9000000000156,
          2543.8000000000143,
          2669.8000000000134,
          2631.3000000000116,
          2509.300000000009,
          2560.700000000007,
          2577.3000000000065,
          2526.1000000000067,
          2501.200000000007,
          2415.5000000000073,
          2338.900000000005,
          2595.5000000000027,
          2579.8000000000015,
          2698.5000000000027,
          2721.7000000000025,
          2575.6000000000013,
          2561.6,
          2649.299999999998,
          2811.6999999999975,
          2797.699999999999,
          2771.499999999999,
          2743.099999999997,
          2796.2999999999956,
          2770.7999999999934,
          2791.4999999999927,
          2770.4999999999945,
          2709.3999999999955,
          2709.3999999999955
         ]
        }
       ],
       "layout": {
        "font": {
         "color": "#e1e1e1",
         "size": 8
        },
        "height": 400,
        "margin": {
         "b": 10,
         "l": 10,
         "r": 10,
         "t": 10
        },
        "paper_bgcolor": "#2c303c",
        "plot_bgcolor": "#2c303c",
        "template": {
         "data": {
          "bar": [
           {
            "error_x": {
             "color": "#2a3f5f"
            },
            "error_y": {
             "color": "#2a3f5f"
            },
            "marker": {
             "line": {
              "color": "#E5ECF6",
              "width": 0.5
             },
             "pattern": {
              "fillmode": "overlay",
              "size": 10,
              "solidity": 0.2
             }
            },
            "type": "bar"
           }
          ],
          "barpolar": [
           {
            "marker": {
             "line": {
              "color": "#E5ECF6",
              "width": 0.5
             },
             "pattern": {
              "fillmode": "overlay",
              "size": 10,
              "solidity": 0.2
             }
            },
            "type": "barpolar"
           }
          ],
          "carpet": [
           {
            "aaxis": {
             "endlinecolor": "#2a3f5f",
             "gridcolor": "white",
             "linecolor": "white",
             "minorgridcolor": "white",
             "startlinecolor": "#2a3f5f"
            },
            "baxis": {
             "endlinecolor": "#2a3f5f",
             "gridcolor": "white",
             "linecolor": "white",
             "minorgridcolor": "white",
             "startlinecolor": "#2a3f5f"
            },
            "type": "carpet"
           }
          ],
          "choropleth": [
           {
            "colorbar": {
             "outlinewidth": 0,
             "ticks": ""
            },
            "type": "choropleth"
           }
          ],
          "contour": [
           {
            "colorbar": {
             "outlinewidth": 0,
             "ticks": ""
            },
            "colorscale": [
             [
              0,
              "#0d0887"
             ],
             [
              0.1111111111111111,
              "#46039f"
             ],
             [
              0.2222222222222222,
              "#7201a8"
             ],
             [
              0.3333333333333333,
              "#9c179e"
             ],
             [
              0.4444444444444444,
              "#bd3786"
             ],
             [
              0.5555555555555556,
              "#d8576b"
             ],
             [
              0.6666666666666666,
              "#ed7953"
             ],
             [
              0.7777777777777778,
              "#fb9f3a"
             ],
             [
              0.8888888888888888,
              "#fdca26"
             ],
             [
              1,
              "#f0f921"
             ]
            ],
            "type": "contour"
           }
          ],
          "contourcarpet": [
           {
            "colorbar": {
             "outlinewidth": 0,
             "ticks": ""
            },
            "type": "contourcarpet"
           }
          ],
          "heatmap": [
           {
            "colorbar": {
             "outlinewidth": 0,
             "ticks": ""
            },
            "colorscale": [
             [
              0,
              "#0d0887"
             ],
             [
              0.1111111111111111,
              "#46039f"
             ],
             [
              0.2222222222222222,
              "#7201a8"
             ],
             [
              0.3333333333333333,
              "#9c179e"
             ],
             [
              0.4444444444444444,
              "#bd3786"
             ],
             [
              0.5555555555555556,
              "#d8576b"
             ],
             [
              0.6666666666666666,
              "#ed7953"
             ],
             [
              0.7777777777777778,
              "#fb9f3a"
             ],
             [
              0.8888888888888888,
              "#fdca26"
             ],
             [
              1,
              "#f0f921"
             ]
            ],
            "type": "heatmap"
           }
          ],
          "heatmapgl": [
           {
            "colorbar": {
             "outlinewidth": 0,
             "ticks": ""
            },
            "colorscale": [
             [
              0,
              "#0d0887"
             ],
             [
              0.1111111111111111,
              "#46039f"
             ],
             [
              0.2222222222222222,
              "#7201a8"
             ],
             [
              0.3333333333333333,
              "#9c179e"
             ],
             [
              0.4444444444444444,
              "#bd3786"
             ],
             [
              0.5555555555555556,
              "#d8576b"
             ],
             [
              0.6666666666666666,
              "#ed7953"
             ],
             [
              0.7777777777777778,
              "#fb9f3a"
             ],
             [
              0.8888888888888888,
              "#fdca26"
             ],
             [
              1,
              "#f0f921"
             ]
            ],
            "type": "heatmapgl"
           }
          ],
          "histogram": [
           {
            "marker": {
             "pattern": {
              "fillmode": "overlay",
              "size": 10,
              "solidity": 0.2
             }
            },
            "type": "histogram"
           }
          ],
          "histogram2d": [
           {
            "colorbar": {
             "outlinewidth": 0,
             "ticks": ""
            },
            "colorscale": [
             [
              0,
              "#0d0887"
             ],
             [
              0.1111111111111111,
              "#46039f"
             ],
             [
              0.2222222222222222,
              "#7201a8"
             ],
             [
              0.3333333333333333,
              "#9c179e"
             ],
             [
              0.4444444444444444,
              "#bd3786"
             ],
             [
              0.5555555555555556,
              "#d8576b"
             ],
             [
              0.6666666666666666,
              "#ed7953"
             ],
             [
              0.7777777777777778,
              "#fb9f3a"
             ],
             [
              0.8888888888888888,
              "#fdca26"
             ],
             [
              1,
              "#f0f921"
             ]
            ],
            "type": "histogram2d"
           }
          ],
          "histogram2dcontour": [
           {
            "colorbar": {
             "outlinewidth": 0,
             "ticks": ""
            },
            "colorscale": [
             [
              0,
              "#0d0887"
             ],
             [
              0.1111111111111111,
              "#46039f"
             ],
             [
              0.2222222222222222,
              "#7201a8"
             ],
             [
              0.3333333333333333,
              "#9c179e"
             ],
             [
              0.4444444444444444,
              "#bd3786"
             ],
             [
              0.5555555555555556,
              "#d8576b"
             ],
             [
              0.6666666666666666,
              "#ed7953"
             ],
             [
              0.7777777777777778,
              "#fb9f3a"
             ],
             [
              0.8888888888888888,
              "#fdca26"
             ],
             [
              1,
              "#f0f921"
             ]
            ],
            "type": "histogram2dcontour"
           }
          ],
          "mesh3d": [
           {
            "colorbar": {
             "outlinewidth": 0,
             "ticks": ""
            },
            "type": "mesh3d"
           }
          ],
          "parcoords": [
           {
            "line": {
             "colorbar": {
              "outlinewidth": 0,
              "ticks": ""
             }
            },
            "type": "parcoords"
           }
          ],
          "pie": [
           {
            "automargin": true,
            "type": "pie"
           }
          ],
          "scatter": [
           {
            "fillpattern": {
             "fillmode": "overlay",
             "size": 10,
             "solidity": 0.2
            },
            "type": "scatter"
           }
          ],
          "scatter3d": [
           {
            "line": {
             "colorbar": {
              "outlinewidth": 0,
              "ticks": ""
             }
            },
            "marker": {
             "colorbar": {
              "outlinewidth": 0,
              "ticks": ""
             }
            },
            "type": "scatter3d"
           }
          ],
          "scattercarpet": [
           {
            "marker": {
             "colorbar": {
              "outlinewidth": 0,
              "ticks": ""
             }
            },
            "type": "scattercarpet"
           }
          ],
          "scattergeo": [
           {
            "marker": {
             "colorbar": {
              "outlinewidth": 0,
              "ticks": ""
             }
            },
            "type": "scattergeo"
           }
          ],
          "scattergl": [
           {
            "marker": {
             "colorbar": {
              "outlinewidth": 0,
              "ticks": ""
             }
            },
            "type": "scattergl"
           }
          ],
          "scattermapbox": [
           {
            "marker": {
             "colorbar": {
              "outlinewidth": 0,
              "ticks": ""
             }
            },
            "type": "scattermapbox"
           }
          ],
          "scatterpolar": [
           {
            "marker": {
             "colorbar": {
              "outlinewidth": 0,
              "ticks": ""
             }
            },
            "type": "scatterpolar"
           }
          ],
          "scatterpolargl": [
           {
            "marker": {
             "colorbar": {
              "outlinewidth": 0,
              "ticks": ""
             }
            },
            "type": "scatterpolargl"
           }
          ],
          "scatterternary": [
           {
            "marker": {
             "colorbar": {
              "outlinewidth": 0,
              "ticks": ""
             }
            },
            "type": "scatterternary"
           }
          ],
          "surface": [
           {
            "colorbar": {
             "outlinewidth": 0,
             "ticks": ""
            },
            "colorscale": [
             [
              0,
              "#0d0887"
             ],
             [
              0.1111111111111111,
              "#46039f"
             ],
             [
              0.2222222222222222,
              "#7201a8"
             ],
             [
              0.3333333333333333,
              "#9c179e"
             ],
             [
              0.4444444444444444,
              "#bd3786"
             ],
             [
              0.5555555555555556,
              "#d8576b"
             ],
             [
              0.6666666666666666,
              "#ed7953"
             ],
             [
              0.7777777777777778,
              "#fb9f3a"
             ],
             [
              0.8888888888888888,
              "#fdca26"
             ],
             [
              1,
              "#f0f921"
             ]
            ],
            "type": "surface"
           }
          ],
          "table": [
           {
            "cells": {
             "fill": {
              "color": "#EBF0F8"
             },
             "line": {
              "color": "white"
             }
            },
            "header": {
             "fill": {
              "color": "#C8D4E3"
             },
             "line": {
              "color": "white"
             }
            },
            "type": "table"
           }
          ]
         },
         "layout": {
          "annotationdefaults": {
           "arrowcolor": "#2a3f5f",
           "arrowhead": 0,
           "arrowwidth": 1
          },
          "autotypenumbers": "strict",
          "coloraxis": {
           "colorbar": {
            "outlinewidth": 0,
            "ticks": ""
           }
          },
          "colorscale": {
           "diverging": [
            [
             0,
             "#8e0152"
            ],
            [
             0.1,
             "#c51b7d"
            ],
            [
             0.2,
             "#de77ae"
            ],
            [
             0.3,
             "#f1b6da"
            ],
            [
             0.4,
             "#fde0ef"
            ],
            [
             0.5,
             "#f7f7f7"
            ],
            [
             0.6,
             "#e6f5d0"
            ],
            [
             0.7,
             "#b8e186"
            ],
            [
             0.8,
             "#7fbc41"
            ],
            [
             0.9,
             "#4d9221"
            ],
            [
             1,
             "#276419"
            ]
           ],
           "sequential": [
            [
             0,
             "#0d0887"
            ],
            [
             0.1111111111111111,
             "#46039f"
            ],
            [
             0.2222222222222222,
             "#7201a8"
            ],
            [
             0.3333333333333333,
             "#9c179e"
            ],
            [
             0.4444444444444444,
             "#bd3786"
            ],
            [
             0.5555555555555556,
             "#d8576b"
            ],
            [
             0.6666666666666666,
             "#ed7953"
            ],
            [
             0.7777777777777778,
             "#fb9f3a"
            ],
            [
             0.8888888888888888,
             "#fdca26"
            ],
            [
             1,
             "#f0f921"
            ]
           ],
           "sequentialminus": [
            [
             0,
             "#0d0887"
            ],
            [
             0.1111111111111111,
             "#46039f"
            ],
            [
             0.2222222222222222,
             "#7201a8"
            ],
            [
             0.3333333333333333,
             "#9c179e"
            ],
            [
             0.4444444444444444,
             "#bd3786"
            ],
            [
             0.5555555555555556,
             "#d8576b"
            ],
            [
             0.6666666666666666,
             "#ed7953"
            ],
            [
             0.7777777777777778,
             "#fb9f3a"
            ],
            [
             0.8888888888888888,
             "#fdca26"
            ],
            [
             1,
             "#f0f921"
            ]
           ]
          },
          "colorway": [
           "#636efa",
           "#EF553B",
           "#00cc96",
           "#ab63fa",
           "#FFA15A",
           "#19d3f3",
           "#FF6692",
           "#B6E880",
           "#FF97FF",
           "#FECB52"
          ],
          "font": {
           "color": "#2a3f5f"
          },
          "geo": {
           "bgcolor": "white",
           "lakecolor": "white",
           "landcolor": "#E5ECF6",
           "showlakes": true,
           "showland": true,
           "subunitcolor": "white"
          },
          "hoverlabel": {
           "align": "left"
          },
          "hovermode": "closest",
          "mapbox": {
           "style": "light"
          },
          "paper_bgcolor": "white",
          "plot_bgcolor": "#E5ECF6",
          "polar": {
           "angularaxis": {
            "gridcolor": "white",
            "linecolor": "white",
            "ticks": ""
           },
           "bgcolor": "#E5ECF6",
           "radialaxis": {
            "gridcolor": "white",
            "linecolor": "white",
            "ticks": ""
           }
          },
          "scene": {
           "xaxis": {
            "backgroundcolor": "#E5ECF6",
            "gridcolor": "white",
            "gridwidth": 2,
            "linecolor": "white",
            "showbackground": true,
            "ticks": "",
            "zerolinecolor": "white"
           },
           "yaxis": {
            "backgroundcolor": "#E5ECF6",
            "gridcolor": "white",
            "gridwidth": 2,
            "linecolor": "white",
            "showbackground": true,
            "ticks": "",
            "zerolinecolor": "white"
           },
           "zaxis": {
            "backgroundcolor": "#E5ECF6",
            "gridcolor": "white",
            "gridwidth": 2,
            "linecolor": "white",
            "showbackground": true,
            "ticks": "",
            "zerolinecolor": "white"
           }
          },
          "shapedefaults": {
           "line": {
            "color": "#2a3f5f"
           }
          },
          "ternary": {
           "aaxis": {
            "gridcolor": "white",
            "linecolor": "white",
            "ticks": ""
           },
           "baxis": {
            "gridcolor": "white",
            "linecolor": "white",
            "ticks": ""
           },
           "bgcolor": "#E5ECF6",
           "caxis": {
            "gridcolor": "white",
            "linecolor": "white",
            "ticks": ""
           }
          },
          "title": {
           "x": 0.05
          },
          "xaxis": {
           "automargin": true,
           "gridcolor": "white",
           "linecolor": "white",
           "ticks": "",
           "title": {
            "standoff": 15
           },
           "zerolinecolor": "white",
           "zerolinewidth": 2
          },
          "yaxis": {
           "automargin": true,
           "gridcolor": "white",
           "linecolor": "white",
           "ticks": "",
           "title": {
            "standoff": 15
           },
           "zerolinecolor": "white",
           "zerolinewidth": 2
          }
         }
        },
        "width": 900,
        "xaxis": {
         "gridcolor": "#1f292f",
         "nticks": 5,
         "rangeslider": {
          "visible": false
         }
        },
        "yaxis": {
         "gridcolor": "#1f292f"
        }
       }
      },
      "text/html": [
       "<div>                            <div id=\"46138ad9-20ee-475f-be1f-a0b89c3414a9\" class=\"plotly-graph-div\" style=\"height:400px; width:900px;\"></div>            <script type=\"text/javascript\">                require([\"plotly\"], function(Plotly) {                    window.PLOTLYENV=window.PLOTLYENV || {};                                    if (document.getElementById(\"46138ad9-20ee-475f-be1f-a0b89c3414a9\")) {                    Plotly.newPlot(                        \"46138ad9-20ee-475f-be1f-a0b89c3414a9\",                        [{\"line\":{\"shape\":\"spline\",\"width\":2},\"name\":\"GAIN_C\",\"x\":[\"s21-12-09 23:00\",\"s21-12-13 18:00\",\"s21-12-14 10:00\",\"s21-12-16 22:00\",\"s21-12-20 19:00\",\"s21-12-24 04:00\",\"s21-12-24 18:00\",\"s21-12-24 19:00\",\"s21-12-27 04:00\",\"s21-12-28 09:00\",\"s21-12-28 13:00\",\"s21-12-28 16:00\",\"s21-12-29 07:00\",\"s21-12-31 05:00\",\"s21-12-31 08:00\",\"s22-01-03 08:00\",\"s22-01-04 02:00\",\"s22-01-05 06:00\",\"s22-01-05 19:00\",\"s22-01-06 06:00\",\"s22-01-06 20:00\",\"s22-01-07 16:00\",\"s22-01-07 20:00\",\"s22-01-10 12:00\",\"s22-01-11 03:00\",\"s22-01-12 18:00\",\"s22-01-13 09:00\",\"s22-01-13 15:00\",\"s22-01-17 01:00\",\"s22-01-17 18:00\",\"s22-01-18 04:00\",\"s22-01-18 12:00\",\"s22-01-19 06:00\",\"s22-01-19 07:00\",\"s22-01-19 15:00\",\"s22-01-19 23:00\",\"s22-01-20 08:00\",\"s22-01-20 15:00\",\"s22-01-24 05:00\",\"s22-01-24 10:00\",\"s22-01-25 02:00\",\"s22-01-25 10:00\",\"s22-01-25 16:00\",\"s22-01-27 03:00\",\"s22-01-27 14:00\",\"s22-01-28 17:00\",\"s22-01-31 04:00\",\"s22-01-31 18:00\",\"s22-02-01 12:00\",\"s22-02-02 13:00\",\"s22-02-02 19:00\",\"s22-02-03 08:00\",\"s22-02-03 09:00\",\"s22-02-04 09:00\",\"s22-02-07 07:00\",\"s22-02-07 08:00\",\"s22-02-07 23:00\",\"s22-02-09 08:00\",\"s22-02-09 11:00\",\"s22-02-09 20:00\",\"s22-02-10 08:00\",\"s22-02-11 03:00\",\"s22-02-11 14:00\",\"s22-02-11 20:00\",\"s22-02-14 19:00\",\"s22-02-15 06:00\",\"s22-02-15 10:00\",\"s22-02-16 20:00\",\"s22-02-16 23:00\",\"s22-02-17 04:00\",\"s22-02-17 20:00\",\"s22-02-18 00:00\",\"s22-02-18 06:00\",\"s22-02-18 17:00\",\"s22-02-21 07:00\",\"s22-02-21 16:00\",\"s22-02-22 15:00\",\"s22-02-23 17:00\",\"s22-02-24 23:00\",\"s22-02-25 14:00\",\"s22-02-25 16:00\",\"s22-02-28 03:00\",\"s22-02-28 14:00\",\"s22-02-28 20:00\",\"s22-03-01 06:00\",\"s22-03-01 10:00\",\"s22-03-02 09:00\",\"s22-03-03 15:00\",\"s22-03-08 08:00\",\"s22-03-10 14:00\",\"s22-03-11 07:00\",\"s22-03-15 01:00\",\"s22-03-15 03:00\",\"s22-03-15 16:00\",\"s22-03-15 17:00\",\"s22-03-17 15:00\",\"s22-03-18 03:00\",\"s22-03-21 07:00\",\"s22-03-21 16:00\",\"s22-03-23 11:00\",\"s22-03-24 01:00\",\"s22-03-25 07:00\",\"s22-03-25 18:00\",\"s22-03-28 19:00\",\"s22-03-29 06:00\",\"s22-03-29 08:00\",\"s22-03-30 17:00\",\"s22-03-31 00:00\",\"s22-03-31 05:00\",\"s22-03-31 10:00\",\"s22-04-01 00:00\",\"s22-04-01 19:00\",\"s22-04-04 06:00\",\"s22-04-05 04:00\",\"s22-04-05 10:00\",\"s22-04-06 20:00\",\"s22-04-07 09:00\",\"s22-04-08 07:00\",\"s22-04-08 18:00\",\"s22-04-12 01:00\",\"s22-04-12 14:00\",\"s22-04-12 15:00\",\"s22-04-13 05:00\",\"s22-04-14 11:00\",\"s22-04-14 23:00\",\"s22-04-15 19:00\",\"s22-04-18 18:00\",\"s22-04-20 09:00\",\"s22-04-21 01:00\",\"s22-04-21 17:00\",\"s22-04-21 22:00\",\"s22-04-21 23:00\",\"s22-04-26 02:00\",\"s22-04-26 11:00\",\"s22-04-27 08:00\",\"s22-04-28 22:00\",\"s22-04-29 03:00\",\"s22-04-29 19:00\",\"s22-05-02 00:00\",\"s22-05-02 13:00\",\"s22-05-03 07:00\",\"s22-05-03 17:00\",\"s22-05-04 12:00\",\"s22-05-04 17:00\",\"s22-05-04 21:00\",\"s22-05-05 08:00\",\"s22-05-06 05:00\",\"s22-05-06 12:00\",\"s22-05-08 23:00\",\"s22-05-09 07:00\",\"s22-05-09 10:00\",\"s22-05-09 20:00\",\"s22-05-10 07:00\",\"s22-05-10 12:00\",\"s22-05-11 01:00\",\"s22-05-11 12:00\",\"s22-05-11 13:00\",\"s22-05-11 15:00\",\"s22-05-13 02:00\",\"s22-05-16 08:00\",\"s22-05-16 16:00\",\"s22-05-18 05:00\",\"s22-05-19 07:00\",\"s22-05-20 08:00\",\"s22-05-20 10:00\",\"s22-05-23 01:00\",\"s22-05-23 02:00\",\"s22-05-24 06:00\",\"s22-05-25 03:00\",\"s22-05-26 09:00\",\"s22-05-26 18:00\",\"s22-05-27 14:00\",\"s22-05-27 20:00\",\"s22-05-31 09:00\",\"s22-05-31 16:00\",\"s22-06-01 17:00\",\"s22-06-02 08:00\",\"s22-06-06 00:00\",\"s22-06-06 09:00\",\"s22-06-09 06:00\",\"s22-06-09 19:00\",\"s22-06-10 05:00\",\"s22-06-14 05:00\",\"s22-06-14 13:00\",\"s22-06-15 03:00\",\"s22-06-15 13:00\",\"s22-06-15 15:00\",\"s22-06-16 10:00\",\"s22-06-16 20:00\",\"s22-06-17 20:00\",\"s22-06-20 05:00\",\"s22-06-20 10:00\",\"s22-06-20 11:00\",\"s22-06-22 05:00\",\"s22-06-22 18:00\",\"s22-06-23 03:00\",\"s22-06-24 01:00\",\"s22-06-27 02:00\",\"s22-06-27 11:00\",\"s22-06-28 01:00\",\"s22-06-28 08:00\",\"s22-06-28 20:00\",\"s22-07-04 00:00\",\"s22-07-05 11:00\",\"s22-07-06 21:00\",\"s22-07-08 07:00\",\"s22-07-08 17:00\",\"s22-07-11 13:00\",\"s22-07-12 21:00\",\"s22-07-14 20:00\",\"s22-07-15 03:00\",\"s22-07-15 12:00\",\"s22-07-17 21:00\",\"s22-07-19 00:00\",\"s22-07-19 11:00\",\"s22-07-20 12:00\",\"s22-07-21 03:00\",\"s22-07-21 13:00\"],\"y\":[-4.500000000001592,-39.70000000000198,80.19999999999925,220.69999999999936,533.0999999999989,540.7999999999987,545.999999999998,520.8999999999975,608.899999999997,605.2999999999969,579.6999999999969,566.3999999999959,674.0999999999957,648.9999999999952,676.3999999999953,687.6999999999953,809.6999999999952,755.1999999999964,664.6999999999963,643.6999999999955,664.4999999999953,657.0999999999941,584.0999999999923,539.2999999999915,560.0999999999914,528.8999999999902,468.9999999999884,497.59999999998854,491.79999999998927,466.09999999998877,379.59999999998786,414.09999999998774,419.299999999987,385.6999999999857,364.29999999998586,348.69999999998527,336.6999999999848,486.4999999999867,421.89999999998804,436.8999999999886,470.2999999999889,472.29999999998995,510.49999999999045,463.49999999999056,439.4999999999925,376.29999999999484,349.0999999999957,354.4999999999959,411.2999999999971,389.69999999999914,399.50000000000045,389.30000000000007,428.3999999999992,415.49999999999727,386.4999999999952,390.6999999999954,471.89999999999657,457.699999999997,424.0999999999957,401.29999999999484,463.39999999999577,457.19999999999743,351.09999999999957,337.5,301.6999999999996,231.99999999999932,251.09999999999957,269.2000000000007,240.5000000000001,235.0999999999999,221.10000000000127,170.60000000000173,115.50000000000296,82.10000000000548,44.500000000007844,33.700000000007435,-9.19999999999277,133.50000000000932,144.5000000000107,108.50000000001216,29.900000000012028,-9.79999999998995,-49.59999999998956,-74.99999999998863,-137.49999999998863,-86.29999999998859,8.700000000010277,281.40000000001066,385.90000000001226,385.90000000001226,519.3000000000126,472.7000000000146,474.40000000001703,480.20000000001914,630.600000000021,584.3000000000217,634.2000000000212,573.1000000000222,786.9000000000227,750.9000000000214,817.500000000021,773.6000000000217,886.6000000000213,910.7000000000198,878.9000000000186,1030.5000000000177,1094.5000000000164,1141.4000000000158,1080.3000000000168,1000.1000000000175,1026.1000000000167,995.5000000000156,974.4000000000143,922.3000000000128,968.5000000000117,958.9000000000113,949.5000000000119,911.3000000000114,1018.8000000000103,1022.30000000001,1022.5000000000109,1000.100000000012,1099.0000000000123,1052.1000000000129,1074.7000000000128,1066.5000000000134,1236.3000000000143,1163.8000000000147,1111.500000000015,1095.200000000014,1099.0000000000123,1515.9000000000106,1383.9000000000112,1521.3000000000136,1788.6000000000138,1790.3000000000134,1801.3000000000147,1772.9000000000156,1743.5000000000146,1738.9000000000124,1674.900000000011,1660.1000000000113,1628.0000000000114,1548.7000000000107,1500.500000000011,1627.900000000011,1583.7000000000103,1569.5000000000107,1576.700000000011,1517.7000000000107,1404.6000000000108,1416.500000000011,1371.6000000000126,1312.1000000000126,1307.7000000000116,1243.300000000011,1146.9000000000112,1442.7000000000112,1534.6000000000095,1523.5000000000077,1814.7000000000085,2067.8000000000093,2182.500000000008,2191.7000000000066,2171.3000000000056,2162.5000000000064,2240.7000000000075,2362.500000000009,2414.1000000000113,2377.7000000000135,2394.500000000014,2372.7000000000126,2435.90000000001,2335.100000000009,2372.9000000000106,2346.600000000013,2392.400000000013,2300.500000000012,2630.0000000000105,2590.7000000000103,2526.7000000000116,2838.9000000000133,2628.5000000000146,2592.900000000015,2603.5000000000146,2636.8000000000143,2603.3000000000166,2454.9000000000187,2616.100000000018,2577.1000000000167,2567.9000000000156,2543.8000000000143,2669.8000000000134,2631.3000000000116,2509.300000000009,2560.700000000007,2577.3000000000065,2526.1000000000067,2501.200000000007,2415.5000000000073,2338.900000000005,2595.5000000000027,2579.8000000000015,2698.5000000000027,2721.7000000000025,2575.6000000000013,2561.6,2649.299999999998,2811.6999999999975,2797.699999999999,2771.499999999999,2743.099999999997,2796.2999999999956,2770.7999999999934,2791.4999999999927,2770.4999999999945,2709.3999999999955,2709.3999999999955],\"type\":\"scatter\"}],                        {\"template\":{\"data\":{\"histogram2dcontour\":[{\"type\":\"histogram2dcontour\",\"colorbar\":{\"outlinewidth\":0,\"ticks\":\"\"},\"colorscale\":[[0.0,\"#0d0887\"],[0.1111111111111111,\"#46039f\"],[0.2222222222222222,\"#7201a8\"],[0.3333333333333333,\"#9c179e\"],[0.4444444444444444,\"#bd3786\"],[0.5555555555555556,\"#d8576b\"],[0.6666666666666666,\"#ed7953\"],[0.7777777777777778,\"#fb9f3a\"],[0.8888888888888888,\"#fdca26\"],[1.0,\"#f0f921\"]]}],\"choropleth\":[{\"type\":\"choropleth\",\"colorbar\":{\"outlinewidth\":0,\"ticks\":\"\"}}],\"histogram2d\":[{\"type\":\"histogram2d\",\"colorbar\":{\"outlinewidth\":0,\"ticks\":\"\"},\"colorscale\":[[0.0,\"#0d0887\"],[0.1111111111111111,\"#46039f\"],[0.2222222222222222,\"#7201a8\"],[0.3333333333333333,\"#9c179e\"],[0.4444444444444444,\"#bd3786\"],[0.5555555555555556,\"#d8576b\"],[0.6666666666666666,\"#ed7953\"],[0.7777777777777778,\"#fb9f3a\"],[0.8888888888888888,\"#fdca26\"],[1.0,\"#f0f921\"]]}],\"heatmap\":[{\"type\":\"heatmap\",\"colorbar\":{\"outlinewidth\":0,\"ticks\":\"\"},\"colorscale\":[[0.0,\"#0d0887\"],[0.1111111111111111,\"#46039f\"],[0.2222222222222222,\"#7201a8\"],[0.3333333333333333,\"#9c179e\"],[0.4444444444444444,\"#bd3786\"],[0.5555555555555556,\"#d8576b\"],[0.6666666666666666,\"#ed7953\"],[0.7777777777777778,\"#fb9f3a\"],[0.8888888888888888,\"#fdca26\"],[1.0,\"#f0f921\"]]}],\"heatmapgl\":[{\"type\":\"heatmapgl\",\"colorbar\":{\"outlinewidth\":0,\"ticks\":\"\"},\"colorscale\":[[0.0,\"#0d0887\"],[0.1111111111111111,\"#46039f\"],[0.2222222222222222,\"#7201a8\"],[0.3333333333333333,\"#9c179e\"],[0.4444444444444444,\"#bd3786\"],[0.5555555555555556,\"#d8576b\"],[0.6666666666666666,\"#ed7953\"],[0.7777777777777778,\"#fb9f3a\"],[0.8888888888888888,\"#fdca26\"],[1.0,\"#f0f921\"]]}],\"contourcarpet\":[{\"type\":\"contourcarpet\",\"colorbar\":{\"outlinewidth\":0,\"ticks\":\"\"}}],\"contour\":[{\"type\":\"contour\",\"colorbar\":{\"outlinewidth\":0,\"ticks\":\"\"},\"colorscale\":[[0.0,\"#0d0887\"],[0.1111111111111111,\"#46039f\"],[0.2222222222222222,\"#7201a8\"],[0.3333333333333333,\"#9c179e\"],[0.4444444444444444,\"#bd3786\"],[0.5555555555555556,\"#d8576b\"],[0.6666666666666666,\"#ed7953\"],[0.7777777777777778,\"#fb9f3a\"],[0.8888888888888888,\"#fdca26\"],[1.0,\"#f0f921\"]]}],\"surface\":[{\"type\":\"surface\",\"colorbar\":{\"outlinewidth\":0,\"ticks\":\"\"},\"colorscale\":[[0.0,\"#0d0887\"],[0.1111111111111111,\"#46039f\"],[0.2222222222222222,\"#7201a8\"],[0.3333333333333333,\"#9c179e\"],[0.4444444444444444,\"#bd3786\"],[0.5555555555555556,\"#d8576b\"],[0.6666666666666666,\"#ed7953\"],[0.7777777777777778,\"#fb9f3a\"],[0.8888888888888888,\"#fdca26\"],[1.0,\"#f0f921\"]]}],\"mesh3d\":[{\"type\":\"mesh3d\",\"colorbar\":{\"outlinewidth\":0,\"ticks\":\"\"}}],\"scatter\":[{\"fillpattern\":{\"fillmode\":\"overlay\",\"size\":10,\"solidity\":0.2},\"type\":\"scatter\"}],\"parcoords\":[{\"type\":\"parcoords\",\"line\":{\"colorbar\":{\"outlinewidth\":0,\"ticks\":\"\"}}}],\"scatterpolargl\":[{\"type\":\"scatterpolargl\",\"marker\":{\"colorbar\":{\"outlinewidth\":0,\"ticks\":\"\"}}}],\"bar\":[{\"error_x\":{\"color\":\"#2a3f5f\"},\"error_y\":{\"color\":\"#2a3f5f\"},\"marker\":{\"line\":{\"color\":\"#E5ECF6\",\"width\":0.5},\"pattern\":{\"fillmode\":\"overlay\",\"size\":10,\"solidity\":0.2}},\"type\":\"bar\"}],\"scattergeo\":[{\"type\":\"scattergeo\",\"marker\":{\"colorbar\":{\"outlinewidth\":0,\"ticks\":\"\"}}}],\"scatterpolar\":[{\"type\":\"scatterpolar\",\"marker\":{\"colorbar\":{\"outlinewidth\":0,\"ticks\":\"\"}}}],\"histogram\":[{\"marker\":{\"pattern\":{\"fillmode\":\"overlay\",\"size\":10,\"solidity\":0.2}},\"type\":\"histogram\"}],\"scattergl\":[{\"type\":\"scattergl\",\"marker\":{\"colorbar\":{\"outlinewidth\":0,\"ticks\":\"\"}}}],\"scatter3d\":[{\"type\":\"scatter3d\",\"line\":{\"colorbar\":{\"outlinewidth\":0,\"ticks\":\"\"}},\"marker\":{\"colorbar\":{\"outlinewidth\":0,\"ticks\":\"\"}}}],\"scattermapbox\":[{\"type\":\"scattermapbox\",\"marker\":{\"colorbar\":{\"outlinewidth\":0,\"ticks\":\"\"}}}],\"scatterternary\":[{\"type\":\"scatterternary\",\"marker\":{\"colorbar\":{\"outlinewidth\":0,\"ticks\":\"\"}}}],\"scattercarpet\":[{\"type\":\"scattercarpet\",\"marker\":{\"colorbar\":{\"outlinewidth\":0,\"ticks\":\"\"}}}],\"carpet\":[{\"aaxis\":{\"endlinecolor\":\"#2a3f5f\",\"gridcolor\":\"white\",\"linecolor\":\"white\",\"minorgridcolor\":\"white\",\"startlinecolor\":\"#2a3f5f\"},\"baxis\":{\"endlinecolor\":\"#2a3f5f\",\"gridcolor\":\"white\",\"linecolor\":\"white\",\"minorgridcolor\":\"white\",\"startlinecolor\":\"#2a3f5f\"},\"type\":\"carpet\"}],\"table\":[{\"cells\":{\"fill\":{\"color\":\"#EBF0F8\"},\"line\":{\"color\":\"white\"}},\"header\":{\"fill\":{\"color\":\"#C8D4E3\"},\"line\":{\"color\":\"white\"}},\"type\":\"table\"}],\"barpolar\":[{\"marker\":{\"line\":{\"color\":\"#E5ECF6\",\"width\":0.5},\"pattern\":{\"fillmode\":\"overlay\",\"size\":10,\"solidity\":0.2}},\"type\":\"barpolar\"}],\"pie\":[{\"automargin\":true,\"type\":\"pie\"}]},\"layout\":{\"autotypenumbers\":\"strict\",\"colorway\":[\"#636efa\",\"#EF553B\",\"#00cc96\",\"#ab63fa\",\"#FFA15A\",\"#19d3f3\",\"#FF6692\",\"#B6E880\",\"#FF97FF\",\"#FECB52\"],\"font\":{\"color\":\"#2a3f5f\"},\"hovermode\":\"closest\",\"hoverlabel\":{\"align\":\"left\"},\"paper_bgcolor\":\"white\",\"plot_bgcolor\":\"#E5ECF6\",\"polar\":{\"bgcolor\":\"#E5ECF6\",\"angularaxis\":{\"gridcolor\":\"white\",\"linecolor\":\"white\",\"ticks\":\"\"},\"radialaxis\":{\"gridcolor\":\"white\",\"linecolor\":\"white\",\"ticks\":\"\"}},\"ternary\":{\"bgcolor\":\"#E5ECF6\",\"aaxis\":{\"gridcolor\":\"white\",\"linecolor\":\"white\",\"ticks\":\"\"},\"baxis\":{\"gridcolor\":\"white\",\"linecolor\":\"white\",\"ticks\":\"\"},\"caxis\":{\"gridcolor\":\"white\",\"linecolor\":\"white\",\"ticks\":\"\"}},\"coloraxis\":{\"colorbar\":{\"outlinewidth\":0,\"ticks\":\"\"}},\"colorscale\":{\"sequential\":[[0.0,\"#0d0887\"],[0.1111111111111111,\"#46039f\"],[0.2222222222222222,\"#7201a8\"],[0.3333333333333333,\"#9c179e\"],[0.4444444444444444,\"#bd3786\"],[0.5555555555555556,\"#d8576b\"],[0.6666666666666666,\"#ed7953\"],[0.7777777777777778,\"#fb9f3a\"],[0.8888888888888888,\"#fdca26\"],[1.0,\"#f0f921\"]],\"sequentialminus\":[[0.0,\"#0d0887\"],[0.1111111111111111,\"#46039f\"],[0.2222222222222222,\"#7201a8\"],[0.3333333333333333,\"#9c179e\"],[0.4444444444444444,\"#bd3786\"],[0.5555555555555556,\"#d8576b\"],[0.6666666666666666,\"#ed7953\"],[0.7777777777777778,\"#fb9f3a\"],[0.8888888888888888,\"#fdca26\"],[1.0,\"#f0f921\"]],\"diverging\":[[0,\"#8e0152\"],[0.1,\"#c51b7d\"],[0.2,\"#de77ae\"],[0.3,\"#f1b6da\"],[0.4,\"#fde0ef\"],[0.5,\"#f7f7f7\"],[0.6,\"#e6f5d0\"],[0.7,\"#b8e186\"],[0.8,\"#7fbc41\"],[0.9,\"#4d9221\"],[1,\"#276419\"]]},\"xaxis\":{\"gridcolor\":\"white\",\"linecolor\":\"white\",\"ticks\":\"\",\"title\":{\"standoff\":15},\"zerolinecolor\":\"white\",\"automargin\":true,\"zerolinewidth\":2},\"yaxis\":{\"gridcolor\":\"white\",\"linecolor\":\"white\",\"ticks\":\"\",\"title\":{\"standoff\":15},\"zerolinecolor\":\"white\",\"automargin\":true,\"zerolinewidth\":2},\"scene\":{\"xaxis\":{\"backgroundcolor\":\"#E5ECF6\",\"gridcolor\":\"white\",\"linecolor\":\"white\",\"showbackground\":true,\"ticks\":\"\",\"zerolinecolor\":\"white\",\"gridwidth\":2},\"yaxis\":{\"backgroundcolor\":\"#E5ECF6\",\"gridcolor\":\"white\",\"linecolor\":\"white\",\"showbackground\":true,\"ticks\":\"\",\"zerolinecolor\":\"white\",\"gridwidth\":2},\"zaxis\":{\"backgroundcolor\":\"#E5ECF6\",\"gridcolor\":\"white\",\"linecolor\":\"white\",\"showbackground\":true,\"ticks\":\"\",\"zerolinecolor\":\"white\",\"gridwidth\":2}},\"shapedefaults\":{\"line\":{\"color\":\"#2a3f5f\"}},\"annotationdefaults\":{\"arrowcolor\":\"#2a3f5f\",\"arrowhead\":0,\"arrowwidth\":1},\"geo\":{\"bgcolor\":\"white\",\"landcolor\":\"#E5ECF6\",\"subunitcolor\":\"white\",\"showland\":true,\"showlakes\":true,\"lakecolor\":\"white\"},\"title\":{\"x\":0.05},\"mapbox\":{\"style\":\"light\"}}},\"yaxis\":{\"gridcolor\":\"#1f292f\"},\"xaxis\":{\"rangeslider\":{\"visible\":false},\"gridcolor\":\"#1f292f\",\"nticks\":5},\"margin\":{\"l\":10,\"r\":10,\"b\":10,\"t\":10},\"font\":{\"size\":8,\"color\":\"#e1e1e1\"},\"width\":900,\"height\":400,\"paper_bgcolor\":\"#2c303c\",\"plot_bgcolor\":\"#2c303c\"},                        {\"responsive\": true}                    ).then(function(){\n",
       "                            \n",
       "var gd = document.getElementById('46138ad9-20ee-475f-be1f-a0b89c3414a9');\n",
       "var x = new MutationObserver(function (mutations, observer) {{\n",
       "        var display = window.getComputedStyle(gd).display;\n",
       "        if (!display || display === 'none') {{\n",
       "            console.log([gd, 'removed!']);\n",
       "            Plotly.purge(gd);\n",
       "            observer.disconnect();\n",
       "        }}\n",
       "}});\n",
       "\n",
       "// Listen for the removal of the full notebook cells\n",
       "var notebookContainer = gd.closest('#notebook-container');\n",
       "if (notebookContainer) {{\n",
       "    x.observe(notebookContainer, {childList: true});\n",
       "}}\n",
       "\n",
       "// Listen for the clearing of the current output cell\n",
       "var outputEl = gd.closest('.output');\n",
       "if (outputEl) {{\n",
       "    x.observe(outputEl, {childList: true});\n",
       "}}\n",
       "\n",
       "                        })                };                });            </script>        </div>"
      ]
     },
     "metadata": {},
     "output_type": "display_data"
    },
    {
     "name": "stdout",
     "output_type": "stream",
     "text": [
      "EUR_AUD 1408\n"
     ]
    },
    {
     "data": {
      "application/vnd.plotly.v1+json": {
       "config": {
        "plotlyServerURL": "https://plot.ly"
       },
       "data": [
        {
         "line": {
          "shape": "spline",
          "width": 2
         },
         "name": "GAIN_C",
         "type": "scatter",
         "x": [
          "s21-12-09 21:00",
          "s21-12-13 00:00",
          "s21-12-13 09:00",
          "s21-12-13 13:00",
          "s21-12-14 20:00",
          "s21-12-16 21:00",
          "s21-12-17 18:00",
          "s21-12-20 05:00",
          "s21-12-21 01:00",
          "s21-12-21 05:00",
          "s21-12-21 06:00",
          "s21-12-22 06:00",
          "s21-12-22 13:00",
          "s21-12-23 07:00",
          "s21-12-23 08:00",
          "s21-12-24 02:00",
          "s21-12-24 17:00",
          "s21-12-26 22:00",
          "s21-12-27 03:00",
          "s21-12-27 11:00",
          "s21-12-27 20:00",
          "s21-12-28 22:00",
          "s21-12-29 09:00",
          "s21-12-29 18:00",
          "s21-12-30 04:00",
          "s21-12-30 22:00",
          "s21-12-31 07:00",
          "s21-12-31 16:00",
          "s22-01-03 08:00",
          "s22-01-03 12:00",
          "s22-01-04 06:00",
          "s22-01-05 08:00",
          "s22-01-05 17:00",
          "s22-01-05 20:00",
          "s22-01-06 23:00",
          "s22-01-07 08:00",
          "s22-01-10 02:00",
          "s22-01-10 18:00",
          "s22-01-11 07:00",
          "s22-01-11 13:00",
          "s22-01-11 22:00",
          "s22-01-13 19:00",
          "s22-01-17 13:00",
          "s22-01-18 03:00",
          "s22-01-18 16:00",
          "s22-01-21 02:00",
          "s22-01-25 02:00",
          "s22-01-26 22:00",
          "s22-01-27 13:00",
          "s22-01-27 22:00",
          "s22-01-31 03:00",
          "s22-01-31 22:00",
          "s22-02-01 13:00",
          "s22-02-02 10:00",
          "s22-02-07 04:00",
          "s22-02-10 05:00",
          "s22-02-10 12:00",
          "s22-02-10 22:00",
          "s22-02-11 15:00",
          "s22-02-14 04:00",
          "s22-02-14 15:00",
          "s22-02-15 07:00",
          "s22-02-15 22:00",
          "s22-02-17 23:00",
          "s22-02-18 08:00",
          "s22-02-18 21:00",
          "s22-02-21 04:00",
          "s22-02-22 17:00",
          "s22-02-22 22:00",
          "s22-02-24 00:00",
          "s22-02-24 11:00",
          "s22-02-24 22:00",
          "s22-02-25 06:00",
          "s22-02-25 21:00",
          "s22-02-28 04:00",
          "s22-03-07 16:00",
          "s22-03-09 08:00",
          "s22-03-09 15:00",
          "s22-03-10 08:00",
          "s22-03-11 08:00",
          "s22-03-11 20:00",
          "s22-03-14 03:00",
          "s22-03-15 17:00",
          "s22-03-21 09:00",
          "s22-03-21 19:00",
          "s22-03-24 07:00",
          "s22-03-24 13:00",
          "s22-03-25 04:00",
          "s22-03-25 16:00",
          "s22-03-28 14:00",
          "s22-03-30 03:00",
          "s22-03-30 08:00",
          "s22-03-31 13:00",
          "s22-04-04 00:00",
          "s22-04-04 06:00",
          "s22-04-06 00:00",
          "s22-04-07 20:00",
          "s22-04-08 11:00",
          "s22-04-12 05:00",
          "s22-04-13 07:00",
          "s22-04-14 14:00",
          "s22-04-15 03:00",
          "s22-04-15 11:00",
          "s22-04-15 12:00",
          "s22-04-19 01:00",
          "s22-04-19 16:00",
          "s22-04-19 22:00",
          "s22-04-21 06:00",
          "s22-04-25 16:00",
          "s22-04-26 19:00",
          "s22-04-27 06:00",
          "s22-04-28 03:00",
          "s22-04-28 07:00",
          "s22-04-28 17:00",
          "s22-04-29 00:00",
          "s22-04-29 16:00",
          "s22-05-02 12:00",
          "s22-05-03 17:00",
          "s22-05-04 02:00",
          "s22-05-05 12:00",
          "s22-05-09 01:00",
          "s22-05-09 04:00",
          "s22-05-10 11:00",
          "s22-05-10 21:00",
          "s22-05-11 02:00",
          "s22-05-11 21:00",
          "s22-05-12 16:00",
          "s22-05-16 06:00",
          "s22-05-16 17:00",
          "s22-05-17 14:00",
          "s22-05-18 06:00",
          "s22-05-18 20:00",
          "s22-05-19 07:00",
          "s22-05-19 20:00",
          "s22-05-20 11:00",
          "s22-05-22 23:00",
          "s22-05-23 01:00",
          "s22-05-23 14:00",
          "s22-05-25 00:00",
          "s22-05-25 16:00",
          "s22-05-25 23:00",
          "s22-05-26 08:00",
          "s22-05-27 03:00",
          "s22-05-30 15:00",
          "s22-05-30 23:00",
          "s22-05-31 21:00",
          "s22-06-01 06:00",
          "s22-06-02 05:00",
          "s22-06-02 14:00",
          "s22-06-03 06:00",
          "s22-06-06 13:00",
          "s22-06-07 00:00",
          "s22-06-07 12:00",
          "s22-06-08 08:00",
          "s22-06-10 06:00",
          "s22-06-12 22:00",
          "s22-06-14 03:00",
          "s22-06-14 10:00",
          "s22-06-15 04:00",
          "s22-06-16 12:00",
          "s22-06-17 05:00",
          "s22-06-17 06:00",
          "s22-06-20 07:00",
          "s22-06-20 21:00",
          "s22-06-21 20:00",
          "s22-06-22 05:00",
          "s22-06-23 13:00",
          "s22-06-24 01:00",
          "s22-06-24 11:00",
          "s22-06-27 04:00",
          "s22-06-28 05:00",
          "s22-06-29 00:00",
          "s22-06-29 18:00",
          "s22-06-30 21:00",
          "s22-07-03 21:00",
          "s22-07-05 11:00",
          "s22-07-05 14:00",
          "s22-07-08 09:00",
          "s22-07-08 14:00",
          "s22-07-11 00:00",
          "s22-07-12 01:00",
          "s22-07-13 17:00",
          "s22-07-14 05:00",
          "s22-07-14 13:00",
          "s22-07-14 23:00",
          "s22-07-15 08:00",
          "s22-07-15 17:00",
          "s22-07-18 10:00",
          "s22-07-19 04:00",
          "s22-07-21 05:00",
          "s22-07-21 18:00"
         ],
         "y": [
          10.700000000001264,
          1.3000000000018552,
          -35.59999999999785,
          -8.199999999998202,
          66.70000000000176,
          60.20000000000137,
          -13.399999999998968,
          -2.7999999999983594,
          -7.499999999998064,
          -19.599999999997397,
          12.40000000000352,
          -59.99999999999561,
          -2.89999999999457,
          -40.59999999999508,
          -55.19999999999524,
          -40.499999999994415,
          -31.99999999999424,
          -51.39999999999477,
          -89.59999999999633,
          -121.79999999999633,
          -122.89999999999466,
          -144.1999999999943,
          -156.1999999999952,
          -181.09999999999624,
          -190.1999999999959,
          -243.1999999999945,
          -324.4999999999942,
          -350.7999999999933,
          -403.5999999999928,
          -417.3999999999944,
          -366.5999999999947,
          -367.699999999993,
          -418.9999999999916,
          -314.9999999999919,
          -363.69999999999345,
          -412.99999999999443,
          -435.89999999999566,
          -451.99999999999676,
          -483.5999999999973,
          -520.5999999999976,
          -471.5999999999986,
          -385.8000000000005,
          -432.4000000000016,
          -516.9000000000024,
          -490.80000000000234,
          -402.60000000000184,
          -364.4000000000025,
          -408.00000000000387,
          -505.7000000000044,
          -425.70000000000437,
          -393.5000000000044,
          -427.6000000000035,
          -378.80000000000354,
          -57.40000000000521,
          145.9999999999928,
          105.29999999999262,
          44.59999999999243,
          -17.90000000000846,
          -69.90000000000938,
          -129.0000000000102,
          -152.4000000000103,
          -176.40000000000987,
          -107.80000000000899,
          -161.8000000000097,
          -182.50000000000986,
          -209.10000000000872,
          -159.00000000000912,
          -170.40000000001052,
          -134.60000000001136,
          -209.70000000001264,
          -263.0000000000132,
          -335.4000000000123,
          -362.60000000001287,
          -427.2000000000142,
          261.1999999999859,
          405.7999999999873,
          294.9999999999875,
          250.89999999998724,
          313.1999999999868,
          305.99999999998624,
          246.799999999987,
          431.7999999999866,
          675.399999999986,
          585.5999999999862,
          790.9999999999861,
          750.8999999999854,
          732.0999999999843,
          687.5999999999837,
          631.7999999999822,
          745.999999999982,
          683.8999999999837,
          628.2999999999836,
          674.1999999999823,
          614.3999999999813,
          924.7999999999809,
          1096.0999999999817,
          1081.7999999999836,
          1146.3999999999849,
          1209.6999999999844,
          1185.7999999999831,
          1126.999999999982,
          1134.8999999999805,
          1138.399999999979,
          1182.0999999999788,
          1193.1999999999805,
          1163.599999999982,
          1124.3999999999828,
          1436.399999999984,
          1480.0999999999838,
          1381.199999999982,
          1380.2999999999806,
          1322.7999999999793,
          1287.9999999999777,
          1254.9999999999768,
          1121.8999999999776,
          1146.9999999999777,
          1228.399999999978,
          1181.1999999999796,
          1281.9999999999804,
          1572.9999999999818,
          1551.9999999999818,
          1723.4999999999818,
          1718.3999999999817,
          1691.1999999999812,
          1690.3999999999826,
          1635.199999999983,
          1624.4999999999818,
          1506.9999999999802,
          1453.599999999979,
          1413.1999999999784,
          1366.7999999999786,
          1324.29999999998,
          1309.39999999998,
          1258.7999999999795,
          1260.699999999981,
          1240.0999999999815,
          1161.199999999982,
          1253.5999999999835,
          1276.1999999999828,
          1255.0999999999822,
          1247.3999999999828,
          1230.999999999982,
          1318.1999999999805,
          1314.4999999999807,
          1331.6999999999823,
          1326.8999999999842,
          1386.7999999999859,
          1307.999999999987,
          1298.3999999999885,
          1303.9999999999895,
          1251.7999999999895,
          1248.3999999999894,
          1253.7999999999893,
          1313.7999999999893,
          1299.7999999999886,
          1343.099999999988,
          1203.2999999999893,
          1186.2999999999888,
          1357.5999999999874,
          1413.8999999999876,
          1365.999999999989,
          1387.7999999999897,
          1336.3999999999905,
          1326.9999999999911,
          1270.3999999999912,
          1333.0999999999913,
          1310.5999999999904,
          1301.7999999999904,
          1301.2999999999915,
          1320.2999999999918,
          1338.3999999999905,
          1282.39999999999,
          1285.599999999991,
          1399.299999999992,
          1519.9999999999923,
          1456.7999999999913,
          1728.3999999999899,
          1700.0999999999888,
          1665.599999999987,
          1702.7999999999863,
          1737.4999999999873,
          1713.7999999999874,
          1646.1999999999864,
          1591.0999999999851,
          1539.9999999999857,
          1488.199999999986,
          1467.7999999999856,
          1418.4999999999868,
          1435.099999999989,
          1408.5999999999908,
          1408.5999999999908
         ]
        }
       ],
       "layout": {
        "font": {
         "color": "#e1e1e1",
         "size": 8
        },
        "height": 400,
        "margin": {
         "b": 10,
         "l": 10,
         "r": 10,
         "t": 10
        },
        "paper_bgcolor": "#2c303c",
        "plot_bgcolor": "#2c303c",
        "template": {
         "data": {
          "bar": [
           {
            "error_x": {
             "color": "#2a3f5f"
            },
            "error_y": {
             "color": "#2a3f5f"
            },
            "marker": {
             "line": {
              "color": "#E5ECF6",
              "width": 0.5
             },
             "pattern": {
              "fillmode": "overlay",
              "size": 10,
              "solidity": 0.2
             }
            },
            "type": "bar"
           }
          ],
          "barpolar": [
           {
            "marker": {
             "line": {
              "color": "#E5ECF6",
              "width": 0.5
             },
             "pattern": {
              "fillmode": "overlay",
              "size": 10,
              "solidity": 0.2
             }
            },
            "type": "barpolar"
           }
          ],
          "carpet": [
           {
            "aaxis": {
             "endlinecolor": "#2a3f5f",
             "gridcolor": "white",
             "linecolor": "white",
             "minorgridcolor": "white",
             "startlinecolor": "#2a3f5f"
            },
            "baxis": {
             "endlinecolor": "#2a3f5f",
             "gridcolor": "white",
             "linecolor": "white",
             "minorgridcolor": "white",
             "startlinecolor": "#2a3f5f"
            },
            "type": "carpet"
           }
          ],
          "choropleth": [
           {
            "colorbar": {
             "outlinewidth": 0,
             "ticks": ""
            },
            "type": "choropleth"
           }
          ],
          "contour": [
           {
            "colorbar": {
             "outlinewidth": 0,
             "ticks": ""
            },
            "colorscale": [
             [
              0,
              "#0d0887"
             ],
             [
              0.1111111111111111,
              "#46039f"
             ],
             [
              0.2222222222222222,
              "#7201a8"
             ],
             [
              0.3333333333333333,
              "#9c179e"
             ],
             [
              0.4444444444444444,
              "#bd3786"
             ],
             [
              0.5555555555555556,
              "#d8576b"
             ],
             [
              0.6666666666666666,
              "#ed7953"
             ],
             [
              0.7777777777777778,
              "#fb9f3a"
             ],
             [
              0.8888888888888888,
              "#fdca26"
             ],
             [
              1,
              "#f0f921"
             ]
            ],
            "type": "contour"
           }
          ],
          "contourcarpet": [
           {
            "colorbar": {
             "outlinewidth": 0,
             "ticks": ""
            },
            "type": "contourcarpet"
           }
          ],
          "heatmap": [
           {
            "colorbar": {
             "outlinewidth": 0,
             "ticks": ""
            },
            "colorscale": [
             [
              0,
              "#0d0887"
             ],
             [
              0.1111111111111111,
              "#46039f"
             ],
             [
              0.2222222222222222,
              "#7201a8"
             ],
             [
              0.3333333333333333,
              "#9c179e"
             ],
             [
              0.4444444444444444,
              "#bd3786"
             ],
             [
              0.5555555555555556,
              "#d8576b"
             ],
             [
              0.6666666666666666,
              "#ed7953"
             ],
             [
              0.7777777777777778,
              "#fb9f3a"
             ],
             [
              0.8888888888888888,
              "#fdca26"
             ],
             [
              1,
              "#f0f921"
             ]
            ],
            "type": "heatmap"
           }
          ],
          "heatmapgl": [
           {
            "colorbar": {
             "outlinewidth": 0,
             "ticks": ""
            },
            "colorscale": [
             [
              0,
              "#0d0887"
             ],
             [
              0.1111111111111111,
              "#46039f"
             ],
             [
              0.2222222222222222,
              "#7201a8"
             ],
             [
              0.3333333333333333,
              "#9c179e"
             ],
             [
              0.4444444444444444,
              "#bd3786"
             ],
             [
              0.5555555555555556,
              "#d8576b"
             ],
             [
              0.6666666666666666,
              "#ed7953"
             ],
             [
              0.7777777777777778,
              "#fb9f3a"
             ],
             [
              0.8888888888888888,
              "#fdca26"
             ],
             [
              1,
              "#f0f921"
             ]
            ],
            "type": "heatmapgl"
           }
          ],
          "histogram": [
           {
            "marker": {
             "pattern": {
              "fillmode": "overlay",
              "size": 10,
              "solidity": 0.2
             }
            },
            "type": "histogram"
           }
          ],
          "histogram2d": [
           {
            "colorbar": {
             "outlinewidth": 0,
             "ticks": ""
            },
            "colorscale": [
             [
              0,
              "#0d0887"
             ],
             [
              0.1111111111111111,
              "#46039f"
             ],
             [
              0.2222222222222222,
              "#7201a8"
             ],
             [
              0.3333333333333333,
              "#9c179e"
             ],
             [
              0.4444444444444444,
              "#bd3786"
             ],
             [
              0.5555555555555556,
              "#d8576b"
             ],
             [
              0.6666666666666666,
              "#ed7953"
             ],
             [
              0.7777777777777778,
              "#fb9f3a"
             ],
             [
              0.8888888888888888,
              "#fdca26"
             ],
             [
              1,
              "#f0f921"
             ]
            ],
            "type": "histogram2d"
           }
          ],
          "histogram2dcontour": [
           {
            "colorbar": {
             "outlinewidth": 0,
             "ticks": ""
            },
            "colorscale": [
             [
              0,
              "#0d0887"
             ],
             [
              0.1111111111111111,
              "#46039f"
             ],
             [
              0.2222222222222222,
              "#7201a8"
             ],
             [
              0.3333333333333333,
              "#9c179e"
             ],
             [
              0.4444444444444444,
              "#bd3786"
             ],
             [
              0.5555555555555556,
              "#d8576b"
             ],
             [
              0.6666666666666666,
              "#ed7953"
             ],
             [
              0.7777777777777778,
              "#fb9f3a"
             ],
             [
              0.8888888888888888,
              "#fdca26"
             ],
             [
              1,
              "#f0f921"
             ]
            ],
            "type": "histogram2dcontour"
           }
          ],
          "mesh3d": [
           {
            "colorbar": {
             "outlinewidth": 0,
             "ticks": ""
            },
            "type": "mesh3d"
           }
          ],
          "parcoords": [
           {
            "line": {
             "colorbar": {
              "outlinewidth": 0,
              "ticks": ""
             }
            },
            "type": "parcoords"
           }
          ],
          "pie": [
           {
            "automargin": true,
            "type": "pie"
           }
          ],
          "scatter": [
           {
            "fillpattern": {
             "fillmode": "overlay",
             "size": 10,
             "solidity": 0.2
            },
            "type": "scatter"
           }
          ],
          "scatter3d": [
           {
            "line": {
             "colorbar": {
              "outlinewidth": 0,
              "ticks": ""
             }
            },
            "marker": {
             "colorbar": {
              "outlinewidth": 0,
              "ticks": ""
             }
            },
            "type": "scatter3d"
           }
          ],
          "scattercarpet": [
           {
            "marker": {
             "colorbar": {
              "outlinewidth": 0,
              "ticks": ""
             }
            },
            "type": "scattercarpet"
           }
          ],
          "scattergeo": [
           {
            "marker": {
             "colorbar": {
              "outlinewidth": 0,
              "ticks": ""
             }
            },
            "type": "scattergeo"
           }
          ],
          "scattergl": [
           {
            "marker": {
             "colorbar": {
              "outlinewidth": 0,
              "ticks": ""
             }
            },
            "type": "scattergl"
           }
          ],
          "scattermapbox": [
           {
            "marker": {
             "colorbar": {
              "outlinewidth": 0,
              "ticks": ""
             }
            },
            "type": "scattermapbox"
           }
          ],
          "scatterpolar": [
           {
            "marker": {
             "colorbar": {
              "outlinewidth": 0,
              "ticks": ""
             }
            },
            "type": "scatterpolar"
           }
          ],
          "scatterpolargl": [
           {
            "marker": {
             "colorbar": {
              "outlinewidth": 0,
              "ticks": ""
             }
            },
            "type": "scatterpolargl"
           }
          ],
          "scatterternary": [
           {
            "marker": {
             "colorbar": {
              "outlinewidth": 0,
              "ticks": ""
             }
            },
            "type": "scatterternary"
           }
          ],
          "surface": [
           {
            "colorbar": {
             "outlinewidth": 0,
             "ticks": ""
            },
            "colorscale": [
             [
              0,
              "#0d0887"
             ],
             [
              0.1111111111111111,
              "#46039f"
             ],
             [
              0.2222222222222222,
              "#7201a8"
             ],
             [
              0.3333333333333333,
              "#9c179e"
             ],
             [
              0.4444444444444444,
              "#bd3786"
             ],
             [
              0.5555555555555556,
              "#d8576b"
             ],
             [
              0.6666666666666666,
              "#ed7953"
             ],
             [
              0.7777777777777778,
              "#fb9f3a"
             ],
             [
              0.8888888888888888,
              "#fdca26"
             ],
             [
              1,
              "#f0f921"
             ]
            ],
            "type": "surface"
           }
          ],
          "table": [
           {
            "cells": {
             "fill": {
              "color": "#EBF0F8"
             },
             "line": {
              "color": "white"
             }
            },
            "header": {
             "fill": {
              "color": "#C8D4E3"
             },
             "line": {
              "color": "white"
             }
            },
            "type": "table"
           }
          ]
         },
         "layout": {
          "annotationdefaults": {
           "arrowcolor": "#2a3f5f",
           "arrowhead": 0,
           "arrowwidth": 1
          },
          "autotypenumbers": "strict",
          "coloraxis": {
           "colorbar": {
            "outlinewidth": 0,
            "ticks": ""
           }
          },
          "colorscale": {
           "diverging": [
            [
             0,
             "#8e0152"
            ],
            [
             0.1,
             "#c51b7d"
            ],
            [
             0.2,
             "#de77ae"
            ],
            [
             0.3,
             "#f1b6da"
            ],
            [
             0.4,
             "#fde0ef"
            ],
            [
             0.5,
             "#f7f7f7"
            ],
            [
             0.6,
             "#e6f5d0"
            ],
            [
             0.7,
             "#b8e186"
            ],
            [
             0.8,
             "#7fbc41"
            ],
            [
             0.9,
             "#4d9221"
            ],
            [
             1,
             "#276419"
            ]
           ],
           "sequential": [
            [
             0,
             "#0d0887"
            ],
            [
             0.1111111111111111,
             "#46039f"
            ],
            [
             0.2222222222222222,
             "#7201a8"
            ],
            [
             0.3333333333333333,
             "#9c179e"
            ],
            [
             0.4444444444444444,
             "#bd3786"
            ],
            [
             0.5555555555555556,
             "#d8576b"
            ],
            [
             0.6666666666666666,
             "#ed7953"
            ],
            [
             0.7777777777777778,
             "#fb9f3a"
            ],
            [
             0.8888888888888888,
             "#fdca26"
            ],
            [
             1,
             "#f0f921"
            ]
           ],
           "sequentialminus": [
            [
             0,
             "#0d0887"
            ],
            [
             0.1111111111111111,
             "#46039f"
            ],
            [
             0.2222222222222222,
             "#7201a8"
            ],
            [
             0.3333333333333333,
             "#9c179e"
            ],
            [
             0.4444444444444444,
             "#bd3786"
            ],
            [
             0.5555555555555556,
             "#d8576b"
            ],
            [
             0.6666666666666666,
             "#ed7953"
            ],
            [
             0.7777777777777778,
             "#fb9f3a"
            ],
            [
             0.8888888888888888,
             "#fdca26"
            ],
            [
             1,
             "#f0f921"
            ]
           ]
          },
          "colorway": [
           "#636efa",
           "#EF553B",
           "#00cc96",
           "#ab63fa",
           "#FFA15A",
           "#19d3f3",
           "#FF6692",
           "#B6E880",
           "#FF97FF",
           "#FECB52"
          ],
          "font": {
           "color": "#2a3f5f"
          },
          "geo": {
           "bgcolor": "white",
           "lakecolor": "white",
           "landcolor": "#E5ECF6",
           "showlakes": true,
           "showland": true,
           "subunitcolor": "white"
          },
          "hoverlabel": {
           "align": "left"
          },
          "hovermode": "closest",
          "mapbox": {
           "style": "light"
          },
          "paper_bgcolor": "white",
          "plot_bgcolor": "#E5ECF6",
          "polar": {
           "angularaxis": {
            "gridcolor": "white",
            "linecolor": "white",
            "ticks": ""
           },
           "bgcolor": "#E5ECF6",
           "radialaxis": {
            "gridcolor": "white",
            "linecolor": "white",
            "ticks": ""
           }
          },
          "scene": {
           "xaxis": {
            "backgroundcolor": "#E5ECF6",
            "gridcolor": "white",
            "gridwidth": 2,
            "linecolor": "white",
            "showbackground": true,
            "ticks": "",
            "zerolinecolor": "white"
           },
           "yaxis": {
            "backgroundcolor": "#E5ECF6",
            "gridcolor": "white",
            "gridwidth": 2,
            "linecolor": "white",
            "showbackground": true,
            "ticks": "",
            "zerolinecolor": "white"
           },
           "zaxis": {
            "backgroundcolor": "#E5ECF6",
            "gridcolor": "white",
            "gridwidth": 2,
            "linecolor": "white",
            "showbackground": true,
            "ticks": "",
            "zerolinecolor": "white"
           }
          },
          "shapedefaults": {
           "line": {
            "color": "#2a3f5f"
           }
          },
          "ternary": {
           "aaxis": {
            "gridcolor": "white",
            "linecolor": "white",
            "ticks": ""
           },
           "baxis": {
            "gridcolor": "white",
            "linecolor": "white",
            "ticks": ""
           },
           "bgcolor": "#E5ECF6",
           "caxis": {
            "gridcolor": "white",
            "linecolor": "white",
            "ticks": ""
           }
          },
          "title": {
           "x": 0.05
          },
          "xaxis": {
           "automargin": true,
           "gridcolor": "white",
           "linecolor": "white",
           "ticks": "",
           "title": {
            "standoff": 15
           },
           "zerolinecolor": "white",
           "zerolinewidth": 2
          },
          "yaxis": {
           "automargin": true,
           "gridcolor": "white",
           "linecolor": "white",
           "ticks": "",
           "title": {
            "standoff": 15
           },
           "zerolinecolor": "white",
           "zerolinewidth": 2
          }
         }
        },
        "width": 900,
        "xaxis": {
         "gridcolor": "#1f292f",
         "nticks": 5,
         "rangeslider": {
          "visible": false
         }
        },
        "yaxis": {
         "gridcolor": "#1f292f"
        }
       }
      },
      "text/html": [
       "<div>                            <div id=\"26a4d8cc-4412-409b-8eab-7017a130a76a\" class=\"plotly-graph-div\" style=\"height:400px; width:900px;\"></div>            <script type=\"text/javascript\">                require([\"plotly\"], function(Plotly) {                    window.PLOTLYENV=window.PLOTLYENV || {};                                    if (document.getElementById(\"26a4d8cc-4412-409b-8eab-7017a130a76a\")) {                    Plotly.newPlot(                        \"26a4d8cc-4412-409b-8eab-7017a130a76a\",                        [{\"line\":{\"shape\":\"spline\",\"width\":2},\"name\":\"GAIN_C\",\"x\":[\"s21-12-09 21:00\",\"s21-12-13 00:00\",\"s21-12-13 09:00\",\"s21-12-13 13:00\",\"s21-12-14 20:00\",\"s21-12-16 21:00\",\"s21-12-17 18:00\",\"s21-12-20 05:00\",\"s21-12-21 01:00\",\"s21-12-21 05:00\",\"s21-12-21 06:00\",\"s21-12-22 06:00\",\"s21-12-22 13:00\",\"s21-12-23 07:00\",\"s21-12-23 08:00\",\"s21-12-24 02:00\",\"s21-12-24 17:00\",\"s21-12-26 22:00\",\"s21-12-27 03:00\",\"s21-12-27 11:00\",\"s21-12-27 20:00\",\"s21-12-28 22:00\",\"s21-12-29 09:00\",\"s21-12-29 18:00\",\"s21-12-30 04:00\",\"s21-12-30 22:00\",\"s21-12-31 07:00\",\"s21-12-31 16:00\",\"s22-01-03 08:00\",\"s22-01-03 12:00\",\"s22-01-04 06:00\",\"s22-01-05 08:00\",\"s22-01-05 17:00\",\"s22-01-05 20:00\",\"s22-01-06 23:00\",\"s22-01-07 08:00\",\"s22-01-10 02:00\",\"s22-01-10 18:00\",\"s22-01-11 07:00\",\"s22-01-11 13:00\",\"s22-01-11 22:00\",\"s22-01-13 19:00\",\"s22-01-17 13:00\",\"s22-01-18 03:00\",\"s22-01-18 16:00\",\"s22-01-21 02:00\",\"s22-01-25 02:00\",\"s22-01-26 22:00\",\"s22-01-27 13:00\",\"s22-01-27 22:00\",\"s22-01-31 03:00\",\"s22-01-31 22:00\",\"s22-02-01 13:00\",\"s22-02-02 10:00\",\"s22-02-07 04:00\",\"s22-02-10 05:00\",\"s22-02-10 12:00\",\"s22-02-10 22:00\",\"s22-02-11 15:00\",\"s22-02-14 04:00\",\"s22-02-14 15:00\",\"s22-02-15 07:00\",\"s22-02-15 22:00\",\"s22-02-17 23:00\",\"s22-02-18 08:00\",\"s22-02-18 21:00\",\"s22-02-21 04:00\",\"s22-02-22 17:00\",\"s22-02-22 22:00\",\"s22-02-24 00:00\",\"s22-02-24 11:00\",\"s22-02-24 22:00\",\"s22-02-25 06:00\",\"s22-02-25 21:00\",\"s22-02-28 04:00\",\"s22-03-07 16:00\",\"s22-03-09 08:00\",\"s22-03-09 15:00\",\"s22-03-10 08:00\",\"s22-03-11 08:00\",\"s22-03-11 20:00\",\"s22-03-14 03:00\",\"s22-03-15 17:00\",\"s22-03-21 09:00\",\"s22-03-21 19:00\",\"s22-03-24 07:00\",\"s22-03-24 13:00\",\"s22-03-25 04:00\",\"s22-03-25 16:00\",\"s22-03-28 14:00\",\"s22-03-30 03:00\",\"s22-03-30 08:00\",\"s22-03-31 13:00\",\"s22-04-04 00:00\",\"s22-04-04 06:00\",\"s22-04-06 00:00\",\"s22-04-07 20:00\",\"s22-04-08 11:00\",\"s22-04-12 05:00\",\"s22-04-13 07:00\",\"s22-04-14 14:00\",\"s22-04-15 03:00\",\"s22-04-15 11:00\",\"s22-04-15 12:00\",\"s22-04-19 01:00\",\"s22-04-19 16:00\",\"s22-04-19 22:00\",\"s22-04-21 06:00\",\"s22-04-25 16:00\",\"s22-04-26 19:00\",\"s22-04-27 06:00\",\"s22-04-28 03:00\",\"s22-04-28 07:00\",\"s22-04-28 17:00\",\"s22-04-29 00:00\",\"s22-04-29 16:00\",\"s22-05-02 12:00\",\"s22-05-03 17:00\",\"s22-05-04 02:00\",\"s22-05-05 12:00\",\"s22-05-09 01:00\",\"s22-05-09 04:00\",\"s22-05-10 11:00\",\"s22-05-10 21:00\",\"s22-05-11 02:00\",\"s22-05-11 21:00\",\"s22-05-12 16:00\",\"s22-05-16 06:00\",\"s22-05-16 17:00\",\"s22-05-17 14:00\",\"s22-05-18 06:00\",\"s22-05-18 20:00\",\"s22-05-19 07:00\",\"s22-05-19 20:00\",\"s22-05-20 11:00\",\"s22-05-22 23:00\",\"s22-05-23 01:00\",\"s22-05-23 14:00\",\"s22-05-25 00:00\",\"s22-05-25 16:00\",\"s22-05-25 23:00\",\"s22-05-26 08:00\",\"s22-05-27 03:00\",\"s22-05-30 15:00\",\"s22-05-30 23:00\",\"s22-05-31 21:00\",\"s22-06-01 06:00\",\"s22-06-02 05:00\",\"s22-06-02 14:00\",\"s22-06-03 06:00\",\"s22-06-06 13:00\",\"s22-06-07 00:00\",\"s22-06-07 12:00\",\"s22-06-08 08:00\",\"s22-06-10 06:00\",\"s22-06-12 22:00\",\"s22-06-14 03:00\",\"s22-06-14 10:00\",\"s22-06-15 04:00\",\"s22-06-16 12:00\",\"s22-06-17 05:00\",\"s22-06-17 06:00\",\"s22-06-20 07:00\",\"s22-06-20 21:00\",\"s22-06-21 20:00\",\"s22-06-22 05:00\",\"s22-06-23 13:00\",\"s22-06-24 01:00\",\"s22-06-24 11:00\",\"s22-06-27 04:00\",\"s22-06-28 05:00\",\"s22-06-29 00:00\",\"s22-06-29 18:00\",\"s22-06-30 21:00\",\"s22-07-03 21:00\",\"s22-07-05 11:00\",\"s22-07-05 14:00\",\"s22-07-08 09:00\",\"s22-07-08 14:00\",\"s22-07-11 00:00\",\"s22-07-12 01:00\",\"s22-07-13 17:00\",\"s22-07-14 05:00\",\"s22-07-14 13:00\",\"s22-07-14 23:00\",\"s22-07-15 08:00\",\"s22-07-15 17:00\",\"s22-07-18 10:00\",\"s22-07-19 04:00\",\"s22-07-21 05:00\",\"s22-07-21 18:00\"],\"y\":[10.700000000001264,1.3000000000018552,-35.59999999999785,-8.199999999998202,66.70000000000176,60.20000000000137,-13.399999999998968,-2.7999999999983594,-7.499999999998064,-19.599999999997397,12.40000000000352,-59.99999999999561,-2.89999999999457,-40.59999999999508,-55.19999999999524,-40.499999999994415,-31.99999999999424,-51.39999999999477,-89.59999999999633,-121.79999999999633,-122.89999999999466,-144.1999999999943,-156.1999999999952,-181.09999999999624,-190.1999999999959,-243.1999999999945,-324.4999999999942,-350.7999999999933,-403.5999999999928,-417.3999999999944,-366.5999999999947,-367.699999999993,-418.9999999999916,-314.9999999999919,-363.69999999999345,-412.99999999999443,-435.89999999999566,-451.99999999999676,-483.5999999999973,-520.5999999999976,-471.5999999999986,-385.8000000000005,-432.4000000000016,-516.9000000000024,-490.80000000000234,-402.60000000000184,-364.4000000000025,-408.00000000000387,-505.7000000000044,-425.70000000000437,-393.5000000000044,-427.6000000000035,-378.80000000000354,-57.40000000000521,145.9999999999928,105.29999999999262,44.59999999999243,-17.90000000000846,-69.90000000000938,-129.0000000000102,-152.4000000000103,-176.40000000000987,-107.80000000000899,-161.8000000000097,-182.50000000000986,-209.10000000000872,-159.00000000000912,-170.40000000001052,-134.60000000001136,-209.70000000001264,-263.0000000000132,-335.4000000000123,-362.60000000001287,-427.2000000000142,261.1999999999859,405.7999999999873,294.9999999999875,250.89999999998724,313.1999999999868,305.99999999998624,246.799999999987,431.7999999999866,675.399999999986,585.5999999999862,790.9999999999861,750.8999999999854,732.0999999999843,687.5999999999837,631.7999999999822,745.999999999982,683.8999999999837,628.2999999999836,674.1999999999823,614.3999999999813,924.7999999999809,1096.0999999999817,1081.7999999999836,1146.3999999999849,1209.6999999999844,1185.7999999999831,1126.999999999982,1134.8999999999805,1138.399999999979,1182.0999999999788,1193.1999999999805,1163.599999999982,1124.3999999999828,1436.399999999984,1480.0999999999838,1381.199999999982,1380.2999999999806,1322.7999999999793,1287.9999999999777,1254.9999999999768,1121.8999999999776,1146.9999999999777,1228.399999999978,1181.1999999999796,1281.9999999999804,1572.9999999999818,1551.9999999999818,1723.4999999999818,1718.3999999999817,1691.1999999999812,1690.3999999999826,1635.199999999983,1624.4999999999818,1506.9999999999802,1453.599999999979,1413.1999999999784,1366.7999999999786,1324.29999999998,1309.39999999998,1258.7999999999795,1260.699999999981,1240.0999999999815,1161.199999999982,1253.5999999999835,1276.1999999999828,1255.0999999999822,1247.3999999999828,1230.999999999982,1318.1999999999805,1314.4999999999807,1331.6999999999823,1326.8999999999842,1386.7999999999859,1307.999999999987,1298.3999999999885,1303.9999999999895,1251.7999999999895,1248.3999999999894,1253.7999999999893,1313.7999999999893,1299.7999999999886,1343.099999999988,1203.2999999999893,1186.2999999999888,1357.5999999999874,1413.8999999999876,1365.999999999989,1387.7999999999897,1336.3999999999905,1326.9999999999911,1270.3999999999912,1333.0999999999913,1310.5999999999904,1301.7999999999904,1301.2999999999915,1320.2999999999918,1338.3999999999905,1282.39999999999,1285.599999999991,1399.299999999992,1519.9999999999923,1456.7999999999913,1728.3999999999899,1700.0999999999888,1665.599999999987,1702.7999999999863,1737.4999999999873,1713.7999999999874,1646.1999999999864,1591.0999999999851,1539.9999999999857,1488.199999999986,1467.7999999999856,1418.4999999999868,1435.099999999989,1408.5999999999908,1408.5999999999908],\"type\":\"scatter\"}],                        {\"template\":{\"data\":{\"histogram2dcontour\":[{\"type\":\"histogram2dcontour\",\"colorbar\":{\"outlinewidth\":0,\"ticks\":\"\"},\"colorscale\":[[0.0,\"#0d0887\"],[0.1111111111111111,\"#46039f\"],[0.2222222222222222,\"#7201a8\"],[0.3333333333333333,\"#9c179e\"],[0.4444444444444444,\"#bd3786\"],[0.5555555555555556,\"#d8576b\"],[0.6666666666666666,\"#ed7953\"],[0.7777777777777778,\"#fb9f3a\"],[0.8888888888888888,\"#fdca26\"],[1.0,\"#f0f921\"]]}],\"choropleth\":[{\"type\":\"choropleth\",\"colorbar\":{\"outlinewidth\":0,\"ticks\":\"\"}}],\"histogram2d\":[{\"type\":\"histogram2d\",\"colorbar\":{\"outlinewidth\":0,\"ticks\":\"\"},\"colorscale\":[[0.0,\"#0d0887\"],[0.1111111111111111,\"#46039f\"],[0.2222222222222222,\"#7201a8\"],[0.3333333333333333,\"#9c179e\"],[0.4444444444444444,\"#bd3786\"],[0.5555555555555556,\"#d8576b\"],[0.6666666666666666,\"#ed7953\"],[0.7777777777777778,\"#fb9f3a\"],[0.8888888888888888,\"#fdca26\"],[1.0,\"#f0f921\"]]}],\"heatmap\":[{\"type\":\"heatmap\",\"colorbar\":{\"outlinewidth\":0,\"ticks\":\"\"},\"colorscale\":[[0.0,\"#0d0887\"],[0.1111111111111111,\"#46039f\"],[0.2222222222222222,\"#7201a8\"],[0.3333333333333333,\"#9c179e\"],[0.4444444444444444,\"#bd3786\"],[0.5555555555555556,\"#d8576b\"],[0.6666666666666666,\"#ed7953\"],[0.7777777777777778,\"#fb9f3a\"],[0.8888888888888888,\"#fdca26\"],[1.0,\"#f0f921\"]]}],\"heatmapgl\":[{\"type\":\"heatmapgl\",\"colorbar\":{\"outlinewidth\":0,\"ticks\":\"\"},\"colorscale\":[[0.0,\"#0d0887\"],[0.1111111111111111,\"#46039f\"],[0.2222222222222222,\"#7201a8\"],[0.3333333333333333,\"#9c179e\"],[0.4444444444444444,\"#bd3786\"],[0.5555555555555556,\"#d8576b\"],[0.6666666666666666,\"#ed7953\"],[0.7777777777777778,\"#fb9f3a\"],[0.8888888888888888,\"#fdca26\"],[1.0,\"#f0f921\"]]}],\"contourcarpet\":[{\"type\":\"contourcarpet\",\"colorbar\":{\"outlinewidth\":0,\"ticks\":\"\"}}],\"contour\":[{\"type\":\"contour\",\"colorbar\":{\"outlinewidth\":0,\"ticks\":\"\"},\"colorscale\":[[0.0,\"#0d0887\"],[0.1111111111111111,\"#46039f\"],[0.2222222222222222,\"#7201a8\"],[0.3333333333333333,\"#9c179e\"],[0.4444444444444444,\"#bd3786\"],[0.5555555555555556,\"#d8576b\"],[0.6666666666666666,\"#ed7953\"],[0.7777777777777778,\"#fb9f3a\"],[0.8888888888888888,\"#fdca26\"],[1.0,\"#f0f921\"]]}],\"surface\":[{\"type\":\"surface\",\"colorbar\":{\"outlinewidth\":0,\"ticks\":\"\"},\"colorscale\":[[0.0,\"#0d0887\"],[0.1111111111111111,\"#46039f\"],[0.2222222222222222,\"#7201a8\"],[0.3333333333333333,\"#9c179e\"],[0.4444444444444444,\"#bd3786\"],[0.5555555555555556,\"#d8576b\"],[0.6666666666666666,\"#ed7953\"],[0.7777777777777778,\"#fb9f3a\"],[0.8888888888888888,\"#fdca26\"],[1.0,\"#f0f921\"]]}],\"mesh3d\":[{\"type\":\"mesh3d\",\"colorbar\":{\"outlinewidth\":0,\"ticks\":\"\"}}],\"scatter\":[{\"fillpattern\":{\"fillmode\":\"overlay\",\"size\":10,\"solidity\":0.2},\"type\":\"scatter\"}],\"parcoords\":[{\"type\":\"parcoords\",\"line\":{\"colorbar\":{\"outlinewidth\":0,\"ticks\":\"\"}}}],\"scatterpolargl\":[{\"type\":\"scatterpolargl\",\"marker\":{\"colorbar\":{\"outlinewidth\":0,\"ticks\":\"\"}}}],\"bar\":[{\"error_x\":{\"color\":\"#2a3f5f\"},\"error_y\":{\"color\":\"#2a3f5f\"},\"marker\":{\"line\":{\"color\":\"#E5ECF6\",\"width\":0.5},\"pattern\":{\"fillmode\":\"overlay\",\"size\":10,\"solidity\":0.2}},\"type\":\"bar\"}],\"scattergeo\":[{\"type\":\"scattergeo\",\"marker\":{\"colorbar\":{\"outlinewidth\":0,\"ticks\":\"\"}}}],\"scatterpolar\":[{\"type\":\"scatterpolar\",\"marker\":{\"colorbar\":{\"outlinewidth\":0,\"ticks\":\"\"}}}],\"histogram\":[{\"marker\":{\"pattern\":{\"fillmode\":\"overlay\",\"size\":10,\"solidity\":0.2}},\"type\":\"histogram\"}],\"scattergl\":[{\"type\":\"scattergl\",\"marker\":{\"colorbar\":{\"outlinewidth\":0,\"ticks\":\"\"}}}],\"scatter3d\":[{\"type\":\"scatter3d\",\"line\":{\"colorbar\":{\"outlinewidth\":0,\"ticks\":\"\"}},\"marker\":{\"colorbar\":{\"outlinewidth\":0,\"ticks\":\"\"}}}],\"scattermapbox\":[{\"type\":\"scattermapbox\",\"marker\":{\"colorbar\":{\"outlinewidth\":0,\"ticks\":\"\"}}}],\"scatterternary\":[{\"type\":\"scatterternary\",\"marker\":{\"colorbar\":{\"outlinewidth\":0,\"ticks\":\"\"}}}],\"scattercarpet\":[{\"type\":\"scattercarpet\",\"marker\":{\"colorbar\":{\"outlinewidth\":0,\"ticks\":\"\"}}}],\"carpet\":[{\"aaxis\":{\"endlinecolor\":\"#2a3f5f\",\"gridcolor\":\"white\",\"linecolor\":\"white\",\"minorgridcolor\":\"white\",\"startlinecolor\":\"#2a3f5f\"},\"baxis\":{\"endlinecolor\":\"#2a3f5f\",\"gridcolor\":\"white\",\"linecolor\":\"white\",\"minorgridcolor\":\"white\",\"startlinecolor\":\"#2a3f5f\"},\"type\":\"carpet\"}],\"table\":[{\"cells\":{\"fill\":{\"color\":\"#EBF0F8\"},\"line\":{\"color\":\"white\"}},\"header\":{\"fill\":{\"color\":\"#C8D4E3\"},\"line\":{\"color\":\"white\"}},\"type\":\"table\"}],\"barpolar\":[{\"marker\":{\"line\":{\"color\":\"#E5ECF6\",\"width\":0.5},\"pattern\":{\"fillmode\":\"overlay\",\"size\":10,\"solidity\":0.2}},\"type\":\"barpolar\"}],\"pie\":[{\"automargin\":true,\"type\":\"pie\"}]},\"layout\":{\"autotypenumbers\":\"strict\",\"colorway\":[\"#636efa\",\"#EF553B\",\"#00cc96\",\"#ab63fa\",\"#FFA15A\",\"#19d3f3\",\"#FF6692\",\"#B6E880\",\"#FF97FF\",\"#FECB52\"],\"font\":{\"color\":\"#2a3f5f\"},\"hovermode\":\"closest\",\"hoverlabel\":{\"align\":\"left\"},\"paper_bgcolor\":\"white\",\"plot_bgcolor\":\"#E5ECF6\",\"polar\":{\"bgcolor\":\"#E5ECF6\",\"angularaxis\":{\"gridcolor\":\"white\",\"linecolor\":\"white\",\"ticks\":\"\"},\"radialaxis\":{\"gridcolor\":\"white\",\"linecolor\":\"white\",\"ticks\":\"\"}},\"ternary\":{\"bgcolor\":\"#E5ECF6\",\"aaxis\":{\"gridcolor\":\"white\",\"linecolor\":\"white\",\"ticks\":\"\"},\"baxis\":{\"gridcolor\":\"white\",\"linecolor\":\"white\",\"ticks\":\"\"},\"caxis\":{\"gridcolor\":\"white\",\"linecolor\":\"white\",\"ticks\":\"\"}},\"coloraxis\":{\"colorbar\":{\"outlinewidth\":0,\"ticks\":\"\"}},\"colorscale\":{\"sequential\":[[0.0,\"#0d0887\"],[0.1111111111111111,\"#46039f\"],[0.2222222222222222,\"#7201a8\"],[0.3333333333333333,\"#9c179e\"],[0.4444444444444444,\"#bd3786\"],[0.5555555555555556,\"#d8576b\"],[0.6666666666666666,\"#ed7953\"],[0.7777777777777778,\"#fb9f3a\"],[0.8888888888888888,\"#fdca26\"],[1.0,\"#f0f921\"]],\"sequentialminus\":[[0.0,\"#0d0887\"],[0.1111111111111111,\"#46039f\"],[0.2222222222222222,\"#7201a8\"],[0.3333333333333333,\"#9c179e\"],[0.4444444444444444,\"#bd3786\"],[0.5555555555555556,\"#d8576b\"],[0.6666666666666666,\"#ed7953\"],[0.7777777777777778,\"#fb9f3a\"],[0.8888888888888888,\"#fdca26\"],[1.0,\"#f0f921\"]],\"diverging\":[[0,\"#8e0152\"],[0.1,\"#c51b7d\"],[0.2,\"#de77ae\"],[0.3,\"#f1b6da\"],[0.4,\"#fde0ef\"],[0.5,\"#f7f7f7\"],[0.6,\"#e6f5d0\"],[0.7,\"#b8e186\"],[0.8,\"#7fbc41\"],[0.9,\"#4d9221\"],[1,\"#276419\"]]},\"xaxis\":{\"gridcolor\":\"white\",\"linecolor\":\"white\",\"ticks\":\"\",\"title\":{\"standoff\":15},\"zerolinecolor\":\"white\",\"automargin\":true,\"zerolinewidth\":2},\"yaxis\":{\"gridcolor\":\"white\",\"linecolor\":\"white\",\"ticks\":\"\",\"title\":{\"standoff\":15},\"zerolinecolor\":\"white\",\"automargin\":true,\"zerolinewidth\":2},\"scene\":{\"xaxis\":{\"backgroundcolor\":\"#E5ECF6\",\"gridcolor\":\"white\",\"linecolor\":\"white\",\"showbackground\":true,\"ticks\":\"\",\"zerolinecolor\":\"white\",\"gridwidth\":2},\"yaxis\":{\"backgroundcolor\":\"#E5ECF6\",\"gridcolor\":\"white\",\"linecolor\":\"white\",\"showbackground\":true,\"ticks\":\"\",\"zerolinecolor\":\"white\",\"gridwidth\":2},\"zaxis\":{\"backgroundcolor\":\"#E5ECF6\",\"gridcolor\":\"white\",\"linecolor\":\"white\",\"showbackground\":true,\"ticks\":\"\",\"zerolinecolor\":\"white\",\"gridwidth\":2}},\"shapedefaults\":{\"line\":{\"color\":\"#2a3f5f\"}},\"annotationdefaults\":{\"arrowcolor\":\"#2a3f5f\",\"arrowhead\":0,\"arrowwidth\":1},\"geo\":{\"bgcolor\":\"white\",\"landcolor\":\"#E5ECF6\",\"subunitcolor\":\"white\",\"showland\":true,\"showlakes\":true,\"lakecolor\":\"white\"},\"title\":{\"x\":0.05},\"mapbox\":{\"style\":\"light\"}}},\"yaxis\":{\"gridcolor\":\"#1f292f\"},\"xaxis\":{\"rangeslider\":{\"visible\":false},\"gridcolor\":\"#1f292f\",\"nticks\":5},\"margin\":{\"l\":10,\"r\":10,\"b\":10,\"t\":10},\"font\":{\"size\":8,\"color\":\"#e1e1e1\"},\"width\":900,\"height\":400,\"paper_bgcolor\":\"#2c303c\",\"plot_bgcolor\":\"#2c303c\"},                        {\"responsive\": true}                    ).then(function(){\n",
       "                            \n",
       "var gd = document.getElementById('26a4d8cc-4412-409b-8eab-7017a130a76a');\n",
       "var x = new MutationObserver(function (mutations, observer) {{\n",
       "        var display = window.getComputedStyle(gd).display;\n",
       "        if (!display || display === 'none') {{\n",
       "            console.log([gd, 'removed!']);\n",
       "            Plotly.purge(gd);\n",
       "            observer.disconnect();\n",
       "        }}\n",
       "}});\n",
       "\n",
       "// Listen for the removal of the full notebook cells\n",
       "var notebookContainer = gd.closest('#notebook-container');\n",
       "if (notebookContainer) {{\n",
       "    x.observe(notebookContainer, {childList: true});\n",
       "}}\n",
       "\n",
       "// Listen for the clearing of the current output cell\n",
       "var outputEl = gd.closest('.output');\n",
       "if (outputEl) {{\n",
       "    x.observe(outputEl, {childList: true});\n",
       "}}\n",
       "\n",
       "                        })                };                });            </script>        </div>"
      ]
     },
     "metadata": {},
     "output_type": "display_data"
    },
    {
     "name": "stdout",
     "output_type": "stream",
     "text": [
      "CAD_JPY 1368\n"
     ]
    },
    {
     "data": {
      "application/vnd.plotly.v1+json": {
       "config": {
        "plotlyServerURL": "https://plot.ly"
       },
       "data": [
        {
         "line": {
          "shape": "spline",
          "width": 2
         },
         "name": "GAIN_C",
         "type": "scatter",
         "x": [
          "s21-12-10 10:00",
          "s21-12-10 19:00",
          "s21-12-13 07:00",
          "s21-12-13 12:00",
          "s21-12-14 14:00",
          "s21-12-14 16:00",
          "s21-12-15 08:00",
          "s21-12-15 12:00",
          "s21-12-15 22:00",
          "s21-12-16 21:00",
          "s21-12-21 01:00",
          "s21-12-24 06:00",
          "s21-12-24 14:00",
          "s21-12-26 23:00",
          "s21-12-27 06:00",
          "s21-12-28 10:00",
          "s21-12-29 08:00",
          "s22-01-03 09:00",
          "s22-01-04 04:00",
          "s22-01-05 06:00",
          "s22-01-06 18:00",
          "s22-01-07 14:00",
          "s22-01-07 17:00",
          "s22-01-10 13:00",
          "s22-01-11 05:00",
          "s22-01-12 19:00",
          "s22-01-13 10:00",
          "s22-01-13 16:00",
          "s22-01-17 02:00",
          "s22-01-18 16:00",
          "s22-01-19 03:00",
          "s22-01-19 12:00",
          "s22-01-19 16:00",
          "s22-01-19 20:00",
          "s22-01-20 08:00",
          "s22-01-20 17:00",
          "s22-01-20 18:00",
          "s22-01-20 19:00",
          "s22-01-24 08:00",
          "s22-01-24 09:00",
          "s22-01-25 03:00",
          "s22-01-26 23:00",
          "s22-01-27 13:00",
          "s22-01-28 00:00",
          "s22-01-28 09:00",
          "s22-01-28 12:00",
          "s22-01-31 03:00",
          "s22-01-31 18:00",
          "s22-02-02 04:00",
          "s22-02-02 09:00",
          "s22-02-03 01:00",
          "s22-02-04 09:00",
          "s22-02-07 02:00",
          "s22-02-08 14:00",
          "s22-02-08 22:00",
          "s22-02-09 08:00",
          "s22-02-09 12:00",
          "s22-02-11 00:00",
          "s22-02-11 14:00",
          "s22-02-11 20:00",
          "s22-02-14 19:00",
          "s22-02-15 06:00",
          "s22-02-15 12:00",
          "s22-02-16 20:00",
          "s22-02-18 05:00",
          "s22-02-18 17:00",
          "s22-02-21 09:00",
          "s22-02-21 12:00",
          "s22-02-22 11:00",
          "s22-02-23 00:00",
          "s22-02-23 08:00",
          "s22-02-23 22:00",
          "s22-02-24 20:00",
          "s22-02-25 11:00",
          "s22-02-25 12:00",
          "s22-02-28 05:00",
          "s22-02-28 15:00",
          "s22-03-01 11:00",
          "s22-03-02 07:00",
          "s22-03-03 17:00",
          "s22-03-07 05:00",
          "s22-03-07 19:00",
          "s22-03-08 12:00",
          "s22-03-08 15:00",
          "s22-03-09 07:00",
          "s22-03-14 22:00",
          "s22-03-15 18:00",
          "s22-03-23 12:00",
          "s22-03-23 20:00",
          "s22-03-25 07:00",
          "s22-03-25 17:00",
          "s22-03-28 19:00",
          "s22-03-29 04:00",
          "s22-03-29 11:00",
          "s22-03-30 19:00",
          "s22-03-31 00:00",
          "s22-03-31 23:00",
          "s22-04-03 21:00",
          "s22-04-04 08:00",
          "s22-04-05 04:00",
          "s22-04-05 09:00",
          "s22-04-06 17:00",
          "s22-04-07 14:00",
          "s22-04-07 16:00",
          "s22-04-07 18:00",
          "s22-04-07 20:00",
          "s22-04-08 07:00",
          "s22-04-11 22:00",
          "s22-04-12 12:00",
          "s22-04-12 21:00",
          "s22-04-13 03:00",
          "s22-04-14 09:00",
          "s22-04-14 17:00",
          "s22-04-14 19:00",
          "s22-04-14 22:00",
          "s22-04-14 23:00",
          "s22-04-15 00:00",
          "s22-04-15 19:00",
          "s22-04-18 15:00",
          "s22-04-20 10:00",
          "s22-04-20 20:00",
          "s22-04-21 17:00",
          "s22-04-26 01:00",
          "s22-04-26 12:00",
          "s22-04-27 06:00",
          "s22-04-29 11:00",
          "s22-05-02 09:00",
          "s22-05-02 13:00",
          "s22-05-03 00:00",
          "s22-05-03 14:00",
          "s22-05-03 19:00",
          "s22-05-04 17:00",
          "s22-05-05 00:00",
          "s22-05-05 01:00",
          "s22-05-05 05:00",
          "s22-05-05 20:00",
          "s22-05-06 05:00",
          "s22-05-06 14:00",
          "s22-05-09 08:00",
          "s22-05-09 16:00",
          "s22-05-10 11:00",
          "s22-05-10 14:00",
          "s22-05-11 02:00",
          "s22-05-11 23:00",
          "s22-05-13 02:00",
          "s22-05-16 07:00",
          "s22-05-16 15:00",
          "s22-05-17 23:00",
          "s22-05-18 00:00",
          "s22-05-18 04:00",
          "s22-05-19 07:00",
          "s22-05-19 14:00",
          "s22-05-20 01:00",
          "s22-05-20 19:00",
          "s22-05-23 07:00",
          "s22-05-24 05:00",
          "s22-05-25 06:00",
          "s22-05-25 13:00",
          "s22-05-25 15:00",
          "s22-05-26 07:00",
          "s22-05-26 17:00",
          "s22-06-02 06:00",
          "s22-06-02 15:00",
          "s22-06-06 06:00",
          "s22-06-06 11:00",
          "s22-06-09 05:00",
          "s22-06-13 00:00",
          "s22-06-13 09:00",
          "s22-06-14 06:00",
          "s22-06-14 10:00",
          "s22-06-14 21:00",
          "s22-06-15 07:00",
          "s22-06-16 02:00",
          "s22-06-16 10:00",
          "s22-06-17 03:00",
          "s22-06-19 21:00",
          "s22-06-19 23:00",
          "s22-06-22 05:00",
          "s22-06-22 19:00",
          "s22-06-23 03:00",
          "s22-06-24 08:00",
          "s22-06-27 09:00",
          "s22-06-27 10:00",
          "s22-06-29 00:00",
          "s22-06-29 11:00",
          "s22-06-30 01:00",
          "s22-07-03 21:00",
          "s22-07-05 11:00",
          "s22-07-06 18:00",
          "s22-07-08 05:00",
          "s22-07-08 15:00",
          "s22-07-12 03:00",
          "s22-07-13 01:00",
          "s22-07-14 15:00",
          "s22-07-15 03:00",
          "s22-07-15 09:00",
          "s22-07-15 10:00",
          "s22-07-19 00:00",
          "s22-07-19 15:00",
          "s22-07-20 12:00",
          "s22-07-20 23:00",
          "s22-07-21 13:00"
         ],
         "y": [
          -34.600000000000364,
          -40.00000000000057,
          -51.00000000000051,
          -8.800000000000807,
          -33.60000000000127,
          -33.80000000000223,
          -24.600000000002353,
          -62.20000000000141,
          -46.700000000001296,
          58.3999999999989,
          184.0999999999994,
          181.79999999999978,
          179.99999999999972,
          174.5999999999995,
          223.60000000000042,
          227.90000000000106,
          339.6000000000015,
          327.800000000002,
          356.2000000000026,
          375.60000000000286,
          390.50000000000296,
          367.80000000000257,
          337.7000000000024,
          336.2000000000023,
          373.0000000000018,
          347.8000000000023,
          310.3000000000023,
          324.20000000000186,
          340.900000000002,
          320.20000000000266,
          336.20000000000374,
          373.6000000000047,
          375.0000000000057,
          368.5000000000059,
          378.80000000000535,
          376.0000000000048,
          369.800000000005,
          506.0000000000059,
          506.4000000000064,
          527.4000000000071,
          593.9000000000078,
          554.0000000000077,
          515.9000000000077,
          534.1000000000079,
          527.0000000000081,
          494.8000000000078,
          478.9000000000072,
          492.50000000000676,
          467.20000000000675,
          466.7000000000072,
          490.0000000000076,
          488.60000000000804,
          526.5000000000085,
          511.8000000000094,
          504.60000000001054,
          495.40000000001066,
          504.20000000001005,
          481.8000000000097,
          399.0000000000094,
          363.800000000009,
          332.50000000000875,
          288.4000000000085,
          293.90000000000776,
          317.50000000000676,
          262.6000000000061,
          265.80000000000575,
          258.30000000000547,
          232.40000000000543,
          210.60000000000508,
          169.80000000000496,
          147.50000000000506,
          154.50000000000438,
          147.0000000000041,
          120.20000000000402,
          111.00000000000415,
          67.40000000000487,
          42.0000000000058,
          50.400000000006116,
          119.40000000000589,
          193.40000000000538,
          155.20000000000488,
          138.6000000000052,
          101.60000000000474,
          77.4000000000043,
          299.0000000000051,
          270.60000000000593,
          593.1000000000067,
          530.5000000000077,
          597.2000000000079,
          524.7000000000071,
          631.0000000000059,
          663.8000000000047,
          711.1000000000047,
          848.2000000000056,
          870.4000000000065,
          919.8000000000064,
          971.0000000000065,
          946.6000000000065,
          952.8000000000063,
          912.4000000000067,
          943.3000000000064,
          988.8000000000063,
          979.9000000000065,
          959.8000000000071,
          948.7000000000081,
          939.6000000000088,
          1016.8000000000093,
          1027.0000000000095,
          1021.1000000000098,
          989.00000000001,
          1035.4000000000099,
          1027.2000000000091,
          1008.6000000000084,
          1001.7000000000082,
          1015.6000000000079,
          1011.0000000000073,
          1023.1000000000067,
          999.2000000000063,
          1140.6000000000065,
          1091.8000000000065,
          1052.5000000000064,
          1231.800000000007,
          1171.6000000000067,
          1135.8000000000063,
          1345.300000000006,
          1456.000000000006,
          1453.2000000000066,
          1423.4000000000065,
          1414.8000000000052,
          1384.3000000000045,
          1389.4000000000046,
          1399.2000000000046,
          1386.000000000004,
          1344.1000000000045,
          1321.300000000005,
          1289.0000000000057,
          1242.2000000000066,
          1224.400000000007,
          1129.4000000000067,
          1167.8000000000068,
          1163.5000000000061,
          1148.8000000000056,
          1118.8000000000059,
          1208.6000000000054,
          1299.000000000005,
          1265.6000000000047,
          1346.8000000000045,
          1360.4000000000042,
          1324.4000000000028,
          1390.900000000002,
          1337.6000000000017,
          1278.400000000002,
          1245.1000000000022,
          1230.6000000000026,
          1219.4000000000033,
          1280.4000000000033,
          1276.8000000000031,
          1262.0000000000036,
          1227.5000000000036,
          1152.8000000000036,
          1453.9000000000033,
          1396.6000000000026,
          1455.600000000003,
          1422.2000000000041,
          1662.8000000000047,
          1766.6000000000045,
          1683.3000000000047,
          1688.6000000000045,
          1615.600000000004,
          1535.3000000000043,
          1460.8000000000038,
          1410.200000000004,
          1253.6000000000035,
          1182.6000000000026,
          1187.4000000000028,
          1138.6000000000029,
          1241.8000000000025,
          1228.600000000002,
          1145.2000000000016,
          1181.5000000000016,
          1265.000000000001,
          1260.8000000000006,
          1330.8000000000009,
          1270.8000000000015,
          1246.6000000000026,
          1342.200000000003,
          1335.8000000000022,
          1406.000000000002,
          1416.9000000000028,
          1335.0000000000025,
          1361.0000000000016,
          1374.0000000000011,
          1447.1000000000006,
          1446.5000000000005,
          1442.8000000000013,
          1433.8000000000025,
          1468.1000000000029,
          1409.1000000000026,
          1420.5000000000032,
          1394.9000000000033,
          1368.7000000000032,
          1368.7000000000032
         ]
        }
       ],
       "layout": {
        "font": {
         "color": "#e1e1e1",
         "size": 8
        },
        "height": 400,
        "margin": {
         "b": 10,
         "l": 10,
         "r": 10,
         "t": 10
        },
        "paper_bgcolor": "#2c303c",
        "plot_bgcolor": "#2c303c",
        "template": {
         "data": {
          "bar": [
           {
            "error_x": {
             "color": "#2a3f5f"
            },
            "error_y": {
             "color": "#2a3f5f"
            },
            "marker": {
             "line": {
              "color": "#E5ECF6",
              "width": 0.5
             },
             "pattern": {
              "fillmode": "overlay",
              "size": 10,
              "solidity": 0.2
             }
            },
            "type": "bar"
           }
          ],
          "barpolar": [
           {
            "marker": {
             "line": {
              "color": "#E5ECF6",
              "width": 0.5
             },
             "pattern": {
              "fillmode": "overlay",
              "size": 10,
              "solidity": 0.2
             }
            },
            "type": "barpolar"
           }
          ],
          "carpet": [
           {
            "aaxis": {
             "endlinecolor": "#2a3f5f",
             "gridcolor": "white",
             "linecolor": "white",
             "minorgridcolor": "white",
             "startlinecolor": "#2a3f5f"
            },
            "baxis": {
             "endlinecolor": "#2a3f5f",
             "gridcolor": "white",
             "linecolor": "white",
             "minorgridcolor": "white",
             "startlinecolor": "#2a3f5f"
            },
            "type": "carpet"
           }
          ],
          "choropleth": [
           {
            "colorbar": {
             "outlinewidth": 0,
             "ticks": ""
            },
            "type": "choropleth"
           }
          ],
          "contour": [
           {
            "colorbar": {
             "outlinewidth": 0,
             "ticks": ""
            },
            "colorscale": [
             [
              0,
              "#0d0887"
             ],
             [
              0.1111111111111111,
              "#46039f"
             ],
             [
              0.2222222222222222,
              "#7201a8"
             ],
             [
              0.3333333333333333,
              "#9c179e"
             ],
             [
              0.4444444444444444,
              "#bd3786"
             ],
             [
              0.5555555555555556,
              "#d8576b"
             ],
             [
              0.6666666666666666,
              "#ed7953"
             ],
             [
              0.7777777777777778,
              "#fb9f3a"
             ],
             [
              0.8888888888888888,
              "#fdca26"
             ],
             [
              1,
              "#f0f921"
             ]
            ],
            "type": "contour"
           }
          ],
          "contourcarpet": [
           {
            "colorbar": {
             "outlinewidth": 0,
             "ticks": ""
            },
            "type": "contourcarpet"
           }
          ],
          "heatmap": [
           {
            "colorbar": {
             "outlinewidth": 0,
             "ticks": ""
            },
            "colorscale": [
             [
              0,
              "#0d0887"
             ],
             [
              0.1111111111111111,
              "#46039f"
             ],
             [
              0.2222222222222222,
              "#7201a8"
             ],
             [
              0.3333333333333333,
              "#9c179e"
             ],
             [
              0.4444444444444444,
              "#bd3786"
             ],
             [
              0.5555555555555556,
              "#d8576b"
             ],
             [
              0.6666666666666666,
              "#ed7953"
             ],
             [
              0.7777777777777778,
              "#fb9f3a"
             ],
             [
              0.8888888888888888,
              "#fdca26"
             ],
             [
              1,
              "#f0f921"
             ]
            ],
            "type": "heatmap"
           }
          ],
          "heatmapgl": [
           {
            "colorbar": {
             "outlinewidth": 0,
             "ticks": ""
            },
            "colorscale": [
             [
              0,
              "#0d0887"
             ],
             [
              0.1111111111111111,
              "#46039f"
             ],
             [
              0.2222222222222222,
              "#7201a8"
             ],
             [
              0.3333333333333333,
              "#9c179e"
             ],
             [
              0.4444444444444444,
              "#bd3786"
             ],
             [
              0.5555555555555556,
              "#d8576b"
             ],
             [
              0.6666666666666666,
              "#ed7953"
             ],
             [
              0.7777777777777778,
              "#fb9f3a"
             ],
             [
              0.8888888888888888,
              "#fdca26"
             ],
             [
              1,
              "#f0f921"
             ]
            ],
            "type": "heatmapgl"
           }
          ],
          "histogram": [
           {
            "marker": {
             "pattern": {
              "fillmode": "overlay",
              "size": 10,
              "solidity": 0.2
             }
            },
            "type": "histogram"
           }
          ],
          "histogram2d": [
           {
            "colorbar": {
             "outlinewidth": 0,
             "ticks": ""
            },
            "colorscale": [
             [
              0,
              "#0d0887"
             ],
             [
              0.1111111111111111,
              "#46039f"
             ],
             [
              0.2222222222222222,
              "#7201a8"
             ],
             [
              0.3333333333333333,
              "#9c179e"
             ],
             [
              0.4444444444444444,
              "#bd3786"
             ],
             [
              0.5555555555555556,
              "#d8576b"
             ],
             [
              0.6666666666666666,
              "#ed7953"
             ],
             [
              0.7777777777777778,
              "#fb9f3a"
             ],
             [
              0.8888888888888888,
              "#fdca26"
             ],
             [
              1,
              "#f0f921"
             ]
            ],
            "type": "histogram2d"
           }
          ],
          "histogram2dcontour": [
           {
            "colorbar": {
             "outlinewidth": 0,
             "ticks": ""
            },
            "colorscale": [
             [
              0,
              "#0d0887"
             ],
             [
              0.1111111111111111,
              "#46039f"
             ],
             [
              0.2222222222222222,
              "#7201a8"
             ],
             [
              0.3333333333333333,
              "#9c179e"
             ],
             [
              0.4444444444444444,
              "#bd3786"
             ],
             [
              0.5555555555555556,
              "#d8576b"
             ],
             [
              0.6666666666666666,
              "#ed7953"
             ],
             [
              0.7777777777777778,
              "#fb9f3a"
             ],
             [
              0.8888888888888888,
              "#fdca26"
             ],
             [
              1,
              "#f0f921"
             ]
            ],
            "type": "histogram2dcontour"
           }
          ],
          "mesh3d": [
           {
            "colorbar": {
             "outlinewidth": 0,
             "ticks": ""
            },
            "type": "mesh3d"
           }
          ],
          "parcoords": [
           {
            "line": {
             "colorbar": {
              "outlinewidth": 0,
              "ticks": ""
             }
            },
            "type": "parcoords"
           }
          ],
          "pie": [
           {
            "automargin": true,
            "type": "pie"
           }
          ],
          "scatter": [
           {
            "fillpattern": {
             "fillmode": "overlay",
             "size": 10,
             "solidity": 0.2
            },
            "type": "scatter"
           }
          ],
          "scatter3d": [
           {
            "line": {
             "colorbar": {
              "outlinewidth": 0,
              "ticks": ""
             }
            },
            "marker": {
             "colorbar": {
              "outlinewidth": 0,
              "ticks": ""
             }
            },
            "type": "scatter3d"
           }
          ],
          "scattercarpet": [
           {
            "marker": {
             "colorbar": {
              "outlinewidth": 0,
              "ticks": ""
             }
            },
            "type": "scattercarpet"
           }
          ],
          "scattergeo": [
           {
            "marker": {
             "colorbar": {
              "outlinewidth": 0,
              "ticks": ""
             }
            },
            "type": "scattergeo"
           }
          ],
          "scattergl": [
           {
            "marker": {
             "colorbar": {
              "outlinewidth": 0,
              "ticks": ""
             }
            },
            "type": "scattergl"
           }
          ],
          "scattermapbox": [
           {
            "marker": {
             "colorbar": {
              "outlinewidth": 0,
              "ticks": ""
             }
            },
            "type": "scattermapbox"
           }
          ],
          "scatterpolar": [
           {
            "marker": {
             "colorbar": {
              "outlinewidth": 0,
              "ticks": ""
             }
            },
            "type": "scatterpolar"
           }
          ],
          "scatterpolargl": [
           {
            "marker": {
             "colorbar": {
              "outlinewidth": 0,
              "ticks": ""
             }
            },
            "type": "scatterpolargl"
           }
          ],
          "scatterternary": [
           {
            "marker": {
             "colorbar": {
              "outlinewidth": 0,
              "ticks": ""
             }
            },
            "type": "scatterternary"
           }
          ],
          "surface": [
           {
            "colorbar": {
             "outlinewidth": 0,
             "ticks": ""
            },
            "colorscale": [
             [
              0,
              "#0d0887"
             ],
             [
              0.1111111111111111,
              "#46039f"
             ],
             [
              0.2222222222222222,
              "#7201a8"
             ],
             [
              0.3333333333333333,
              "#9c179e"
             ],
             [
              0.4444444444444444,
              "#bd3786"
             ],
             [
              0.5555555555555556,
              "#d8576b"
             ],
             [
              0.6666666666666666,
              "#ed7953"
             ],
             [
              0.7777777777777778,
              "#fb9f3a"
             ],
             [
              0.8888888888888888,
              "#fdca26"
             ],
             [
              1,
              "#f0f921"
             ]
            ],
            "type": "surface"
           }
          ],
          "table": [
           {
            "cells": {
             "fill": {
              "color": "#EBF0F8"
             },
             "line": {
              "color": "white"
             }
            },
            "header": {
             "fill": {
              "color": "#C8D4E3"
             },
             "line": {
              "color": "white"
             }
            },
            "type": "table"
           }
          ]
         },
         "layout": {
          "annotationdefaults": {
           "arrowcolor": "#2a3f5f",
           "arrowhead": 0,
           "arrowwidth": 1
          },
          "autotypenumbers": "strict",
          "coloraxis": {
           "colorbar": {
            "outlinewidth": 0,
            "ticks": ""
           }
          },
          "colorscale": {
           "diverging": [
            [
             0,
             "#8e0152"
            ],
            [
             0.1,
             "#c51b7d"
            ],
            [
             0.2,
             "#de77ae"
            ],
            [
             0.3,
             "#f1b6da"
            ],
            [
             0.4,
             "#fde0ef"
            ],
            [
             0.5,
             "#f7f7f7"
            ],
            [
             0.6,
             "#e6f5d0"
            ],
            [
             0.7,
             "#b8e186"
            ],
            [
             0.8,
             "#7fbc41"
            ],
            [
             0.9,
             "#4d9221"
            ],
            [
             1,
             "#276419"
            ]
           ],
           "sequential": [
            [
             0,
             "#0d0887"
            ],
            [
             0.1111111111111111,
             "#46039f"
            ],
            [
             0.2222222222222222,
             "#7201a8"
            ],
            [
             0.3333333333333333,
             "#9c179e"
            ],
            [
             0.4444444444444444,
             "#bd3786"
            ],
            [
             0.5555555555555556,
             "#d8576b"
            ],
            [
             0.6666666666666666,
             "#ed7953"
            ],
            [
             0.7777777777777778,
             "#fb9f3a"
            ],
            [
             0.8888888888888888,
             "#fdca26"
            ],
            [
             1,
             "#f0f921"
            ]
           ],
           "sequentialminus": [
            [
             0,
             "#0d0887"
            ],
            [
             0.1111111111111111,
             "#46039f"
            ],
            [
             0.2222222222222222,
             "#7201a8"
            ],
            [
             0.3333333333333333,
             "#9c179e"
            ],
            [
             0.4444444444444444,
             "#bd3786"
            ],
            [
             0.5555555555555556,
             "#d8576b"
            ],
            [
             0.6666666666666666,
             "#ed7953"
            ],
            [
             0.7777777777777778,
             "#fb9f3a"
            ],
            [
             0.8888888888888888,
             "#fdca26"
            ],
            [
             1,
             "#f0f921"
            ]
           ]
          },
          "colorway": [
           "#636efa",
           "#EF553B",
           "#00cc96",
           "#ab63fa",
           "#FFA15A",
           "#19d3f3",
           "#FF6692",
           "#B6E880",
           "#FF97FF",
           "#FECB52"
          ],
          "font": {
           "color": "#2a3f5f"
          },
          "geo": {
           "bgcolor": "white",
           "lakecolor": "white",
           "landcolor": "#E5ECF6",
           "showlakes": true,
           "showland": true,
           "subunitcolor": "white"
          },
          "hoverlabel": {
           "align": "left"
          },
          "hovermode": "closest",
          "mapbox": {
           "style": "light"
          },
          "paper_bgcolor": "white",
          "plot_bgcolor": "#E5ECF6",
          "polar": {
           "angularaxis": {
            "gridcolor": "white",
            "linecolor": "white",
            "ticks": ""
           },
           "bgcolor": "#E5ECF6",
           "radialaxis": {
            "gridcolor": "white",
            "linecolor": "white",
            "ticks": ""
           }
          },
          "scene": {
           "xaxis": {
            "backgroundcolor": "#E5ECF6",
            "gridcolor": "white",
            "gridwidth": 2,
            "linecolor": "white",
            "showbackground": true,
            "ticks": "",
            "zerolinecolor": "white"
           },
           "yaxis": {
            "backgroundcolor": "#E5ECF6",
            "gridcolor": "white",
            "gridwidth": 2,
            "linecolor": "white",
            "showbackground": true,
            "ticks": "",
            "zerolinecolor": "white"
           },
           "zaxis": {
            "backgroundcolor": "#E5ECF6",
            "gridcolor": "white",
            "gridwidth": 2,
            "linecolor": "white",
            "showbackground": true,
            "ticks": "",
            "zerolinecolor": "white"
           }
          },
          "shapedefaults": {
           "line": {
            "color": "#2a3f5f"
           }
          },
          "ternary": {
           "aaxis": {
            "gridcolor": "white",
            "linecolor": "white",
            "ticks": ""
           },
           "baxis": {
            "gridcolor": "white",
            "linecolor": "white",
            "ticks": ""
           },
           "bgcolor": "#E5ECF6",
           "caxis": {
            "gridcolor": "white",
            "linecolor": "white",
            "ticks": ""
           }
          },
          "title": {
           "x": 0.05
          },
          "xaxis": {
           "automargin": true,
           "gridcolor": "white",
           "linecolor": "white",
           "ticks": "",
           "title": {
            "standoff": 15
           },
           "zerolinecolor": "white",
           "zerolinewidth": 2
          },
          "yaxis": {
           "automargin": true,
           "gridcolor": "white",
           "linecolor": "white",
           "ticks": "",
           "title": {
            "standoff": 15
           },
           "zerolinecolor": "white",
           "zerolinewidth": 2
          }
         }
        },
        "width": 900,
        "xaxis": {
         "gridcolor": "#1f292f",
         "nticks": 5,
         "rangeslider": {
          "visible": false
         }
        },
        "yaxis": {
         "gridcolor": "#1f292f"
        }
       }
      },
      "text/html": [
       "<div>                            <div id=\"5fc072d9-4b9c-428f-b6da-353a14ee378a\" class=\"plotly-graph-div\" style=\"height:400px; width:900px;\"></div>            <script type=\"text/javascript\">                require([\"plotly\"], function(Plotly) {                    window.PLOTLYENV=window.PLOTLYENV || {};                                    if (document.getElementById(\"5fc072d9-4b9c-428f-b6da-353a14ee378a\")) {                    Plotly.newPlot(                        \"5fc072d9-4b9c-428f-b6da-353a14ee378a\",                        [{\"line\":{\"shape\":\"spline\",\"width\":2},\"name\":\"GAIN_C\",\"x\":[\"s21-12-10 10:00\",\"s21-12-10 19:00\",\"s21-12-13 07:00\",\"s21-12-13 12:00\",\"s21-12-14 14:00\",\"s21-12-14 16:00\",\"s21-12-15 08:00\",\"s21-12-15 12:00\",\"s21-12-15 22:00\",\"s21-12-16 21:00\",\"s21-12-21 01:00\",\"s21-12-24 06:00\",\"s21-12-24 14:00\",\"s21-12-26 23:00\",\"s21-12-27 06:00\",\"s21-12-28 10:00\",\"s21-12-29 08:00\",\"s22-01-03 09:00\",\"s22-01-04 04:00\",\"s22-01-05 06:00\",\"s22-01-06 18:00\",\"s22-01-07 14:00\",\"s22-01-07 17:00\",\"s22-01-10 13:00\",\"s22-01-11 05:00\",\"s22-01-12 19:00\",\"s22-01-13 10:00\",\"s22-01-13 16:00\",\"s22-01-17 02:00\",\"s22-01-18 16:00\",\"s22-01-19 03:00\",\"s22-01-19 12:00\",\"s22-01-19 16:00\",\"s22-01-19 20:00\",\"s22-01-20 08:00\",\"s22-01-20 17:00\",\"s22-01-20 18:00\",\"s22-01-20 19:00\",\"s22-01-24 08:00\",\"s22-01-24 09:00\",\"s22-01-25 03:00\",\"s22-01-26 23:00\",\"s22-01-27 13:00\",\"s22-01-28 00:00\",\"s22-01-28 09:00\",\"s22-01-28 12:00\",\"s22-01-31 03:00\",\"s22-01-31 18:00\",\"s22-02-02 04:00\",\"s22-02-02 09:00\",\"s22-02-03 01:00\",\"s22-02-04 09:00\",\"s22-02-07 02:00\",\"s22-02-08 14:00\",\"s22-02-08 22:00\",\"s22-02-09 08:00\",\"s22-02-09 12:00\",\"s22-02-11 00:00\",\"s22-02-11 14:00\",\"s22-02-11 20:00\",\"s22-02-14 19:00\",\"s22-02-15 06:00\",\"s22-02-15 12:00\",\"s22-02-16 20:00\",\"s22-02-18 05:00\",\"s22-02-18 17:00\",\"s22-02-21 09:00\",\"s22-02-21 12:00\",\"s22-02-22 11:00\",\"s22-02-23 00:00\",\"s22-02-23 08:00\",\"s22-02-23 22:00\",\"s22-02-24 20:00\",\"s22-02-25 11:00\",\"s22-02-25 12:00\",\"s22-02-28 05:00\",\"s22-02-28 15:00\",\"s22-03-01 11:00\",\"s22-03-02 07:00\",\"s22-03-03 17:00\",\"s22-03-07 05:00\",\"s22-03-07 19:00\",\"s22-03-08 12:00\",\"s22-03-08 15:00\",\"s22-03-09 07:00\",\"s22-03-14 22:00\",\"s22-03-15 18:00\",\"s22-03-23 12:00\",\"s22-03-23 20:00\",\"s22-03-25 07:00\",\"s22-03-25 17:00\",\"s22-03-28 19:00\",\"s22-03-29 04:00\",\"s22-03-29 11:00\",\"s22-03-30 19:00\",\"s22-03-31 00:00\",\"s22-03-31 23:00\",\"s22-04-03 21:00\",\"s22-04-04 08:00\",\"s22-04-05 04:00\",\"s22-04-05 09:00\",\"s22-04-06 17:00\",\"s22-04-07 14:00\",\"s22-04-07 16:00\",\"s22-04-07 18:00\",\"s22-04-07 20:00\",\"s22-04-08 07:00\",\"s22-04-11 22:00\",\"s22-04-12 12:00\",\"s22-04-12 21:00\",\"s22-04-13 03:00\",\"s22-04-14 09:00\",\"s22-04-14 17:00\",\"s22-04-14 19:00\",\"s22-04-14 22:00\",\"s22-04-14 23:00\",\"s22-04-15 00:00\",\"s22-04-15 19:00\",\"s22-04-18 15:00\",\"s22-04-20 10:00\",\"s22-04-20 20:00\",\"s22-04-21 17:00\",\"s22-04-26 01:00\",\"s22-04-26 12:00\",\"s22-04-27 06:00\",\"s22-04-29 11:00\",\"s22-05-02 09:00\",\"s22-05-02 13:00\",\"s22-05-03 00:00\",\"s22-05-03 14:00\",\"s22-05-03 19:00\",\"s22-05-04 17:00\",\"s22-05-05 00:00\",\"s22-05-05 01:00\",\"s22-05-05 05:00\",\"s22-05-05 20:00\",\"s22-05-06 05:00\",\"s22-05-06 14:00\",\"s22-05-09 08:00\",\"s22-05-09 16:00\",\"s22-05-10 11:00\",\"s22-05-10 14:00\",\"s22-05-11 02:00\",\"s22-05-11 23:00\",\"s22-05-13 02:00\",\"s22-05-16 07:00\",\"s22-05-16 15:00\",\"s22-05-17 23:00\",\"s22-05-18 00:00\",\"s22-05-18 04:00\",\"s22-05-19 07:00\",\"s22-05-19 14:00\",\"s22-05-20 01:00\",\"s22-05-20 19:00\",\"s22-05-23 07:00\",\"s22-05-24 05:00\",\"s22-05-25 06:00\",\"s22-05-25 13:00\",\"s22-05-25 15:00\",\"s22-05-26 07:00\",\"s22-05-26 17:00\",\"s22-06-02 06:00\",\"s22-06-02 15:00\",\"s22-06-06 06:00\",\"s22-06-06 11:00\",\"s22-06-09 05:00\",\"s22-06-13 00:00\",\"s22-06-13 09:00\",\"s22-06-14 06:00\",\"s22-06-14 10:00\",\"s22-06-14 21:00\",\"s22-06-15 07:00\",\"s22-06-16 02:00\",\"s22-06-16 10:00\",\"s22-06-17 03:00\",\"s22-06-19 21:00\",\"s22-06-19 23:00\",\"s22-06-22 05:00\",\"s22-06-22 19:00\",\"s22-06-23 03:00\",\"s22-06-24 08:00\",\"s22-06-27 09:00\",\"s22-06-27 10:00\",\"s22-06-29 00:00\",\"s22-06-29 11:00\",\"s22-06-30 01:00\",\"s22-07-03 21:00\",\"s22-07-05 11:00\",\"s22-07-06 18:00\",\"s22-07-08 05:00\",\"s22-07-08 15:00\",\"s22-07-12 03:00\",\"s22-07-13 01:00\",\"s22-07-14 15:00\",\"s22-07-15 03:00\",\"s22-07-15 09:00\",\"s22-07-15 10:00\",\"s22-07-19 00:00\",\"s22-07-19 15:00\",\"s22-07-20 12:00\",\"s22-07-20 23:00\",\"s22-07-21 13:00\"],\"y\":[-34.600000000000364,-40.00000000000057,-51.00000000000051,-8.800000000000807,-33.60000000000127,-33.80000000000223,-24.600000000002353,-62.20000000000141,-46.700000000001296,58.3999999999989,184.0999999999994,181.79999999999978,179.99999999999972,174.5999999999995,223.60000000000042,227.90000000000106,339.6000000000015,327.800000000002,356.2000000000026,375.60000000000286,390.50000000000296,367.80000000000257,337.7000000000024,336.2000000000023,373.0000000000018,347.8000000000023,310.3000000000023,324.20000000000186,340.900000000002,320.20000000000266,336.20000000000374,373.6000000000047,375.0000000000057,368.5000000000059,378.80000000000535,376.0000000000048,369.800000000005,506.0000000000059,506.4000000000064,527.4000000000071,593.9000000000078,554.0000000000077,515.9000000000077,534.1000000000079,527.0000000000081,494.8000000000078,478.9000000000072,492.50000000000676,467.20000000000675,466.7000000000072,490.0000000000076,488.60000000000804,526.5000000000085,511.8000000000094,504.60000000001054,495.40000000001066,504.20000000001005,481.8000000000097,399.0000000000094,363.800000000009,332.50000000000875,288.4000000000085,293.90000000000776,317.50000000000676,262.6000000000061,265.80000000000575,258.30000000000547,232.40000000000543,210.60000000000508,169.80000000000496,147.50000000000506,154.50000000000438,147.0000000000041,120.20000000000402,111.00000000000415,67.40000000000487,42.0000000000058,50.400000000006116,119.40000000000589,193.40000000000538,155.20000000000488,138.6000000000052,101.60000000000474,77.4000000000043,299.0000000000051,270.60000000000593,593.1000000000067,530.5000000000077,597.2000000000079,524.7000000000071,631.0000000000059,663.8000000000047,711.1000000000047,848.2000000000056,870.4000000000065,919.8000000000064,971.0000000000065,946.6000000000065,952.8000000000063,912.4000000000067,943.3000000000064,988.8000000000063,979.9000000000065,959.8000000000071,948.7000000000081,939.6000000000088,1016.8000000000093,1027.0000000000095,1021.1000000000098,989.00000000001,1035.4000000000099,1027.2000000000091,1008.6000000000084,1001.7000000000082,1015.6000000000079,1011.0000000000073,1023.1000000000067,999.2000000000063,1140.6000000000065,1091.8000000000065,1052.5000000000064,1231.800000000007,1171.6000000000067,1135.8000000000063,1345.300000000006,1456.000000000006,1453.2000000000066,1423.4000000000065,1414.8000000000052,1384.3000000000045,1389.4000000000046,1399.2000000000046,1386.000000000004,1344.1000000000045,1321.300000000005,1289.0000000000057,1242.2000000000066,1224.400000000007,1129.4000000000067,1167.8000000000068,1163.5000000000061,1148.8000000000056,1118.8000000000059,1208.6000000000054,1299.000000000005,1265.6000000000047,1346.8000000000045,1360.4000000000042,1324.4000000000028,1390.900000000002,1337.6000000000017,1278.400000000002,1245.1000000000022,1230.6000000000026,1219.4000000000033,1280.4000000000033,1276.8000000000031,1262.0000000000036,1227.5000000000036,1152.8000000000036,1453.9000000000033,1396.6000000000026,1455.600000000003,1422.2000000000041,1662.8000000000047,1766.6000000000045,1683.3000000000047,1688.6000000000045,1615.600000000004,1535.3000000000043,1460.8000000000038,1410.200000000004,1253.6000000000035,1182.6000000000026,1187.4000000000028,1138.6000000000029,1241.8000000000025,1228.600000000002,1145.2000000000016,1181.5000000000016,1265.000000000001,1260.8000000000006,1330.8000000000009,1270.8000000000015,1246.6000000000026,1342.200000000003,1335.8000000000022,1406.000000000002,1416.9000000000028,1335.0000000000025,1361.0000000000016,1374.0000000000011,1447.1000000000006,1446.5000000000005,1442.8000000000013,1433.8000000000025,1468.1000000000029,1409.1000000000026,1420.5000000000032,1394.9000000000033,1368.7000000000032,1368.7000000000032],\"type\":\"scatter\"}],                        {\"template\":{\"data\":{\"histogram2dcontour\":[{\"type\":\"histogram2dcontour\",\"colorbar\":{\"outlinewidth\":0,\"ticks\":\"\"},\"colorscale\":[[0.0,\"#0d0887\"],[0.1111111111111111,\"#46039f\"],[0.2222222222222222,\"#7201a8\"],[0.3333333333333333,\"#9c179e\"],[0.4444444444444444,\"#bd3786\"],[0.5555555555555556,\"#d8576b\"],[0.6666666666666666,\"#ed7953\"],[0.7777777777777778,\"#fb9f3a\"],[0.8888888888888888,\"#fdca26\"],[1.0,\"#f0f921\"]]}],\"choropleth\":[{\"type\":\"choropleth\",\"colorbar\":{\"outlinewidth\":0,\"ticks\":\"\"}}],\"histogram2d\":[{\"type\":\"histogram2d\",\"colorbar\":{\"outlinewidth\":0,\"ticks\":\"\"},\"colorscale\":[[0.0,\"#0d0887\"],[0.1111111111111111,\"#46039f\"],[0.2222222222222222,\"#7201a8\"],[0.3333333333333333,\"#9c179e\"],[0.4444444444444444,\"#bd3786\"],[0.5555555555555556,\"#d8576b\"],[0.6666666666666666,\"#ed7953\"],[0.7777777777777778,\"#fb9f3a\"],[0.8888888888888888,\"#fdca26\"],[1.0,\"#f0f921\"]]}],\"heatmap\":[{\"type\":\"heatmap\",\"colorbar\":{\"outlinewidth\":0,\"ticks\":\"\"},\"colorscale\":[[0.0,\"#0d0887\"],[0.1111111111111111,\"#46039f\"],[0.2222222222222222,\"#7201a8\"],[0.3333333333333333,\"#9c179e\"],[0.4444444444444444,\"#bd3786\"],[0.5555555555555556,\"#d8576b\"],[0.6666666666666666,\"#ed7953\"],[0.7777777777777778,\"#fb9f3a\"],[0.8888888888888888,\"#fdca26\"],[1.0,\"#f0f921\"]]}],\"heatmapgl\":[{\"type\":\"heatmapgl\",\"colorbar\":{\"outlinewidth\":0,\"ticks\":\"\"},\"colorscale\":[[0.0,\"#0d0887\"],[0.1111111111111111,\"#46039f\"],[0.2222222222222222,\"#7201a8\"],[0.3333333333333333,\"#9c179e\"],[0.4444444444444444,\"#bd3786\"],[0.5555555555555556,\"#d8576b\"],[0.6666666666666666,\"#ed7953\"],[0.7777777777777778,\"#fb9f3a\"],[0.8888888888888888,\"#fdca26\"],[1.0,\"#f0f921\"]]}],\"contourcarpet\":[{\"type\":\"contourcarpet\",\"colorbar\":{\"outlinewidth\":0,\"ticks\":\"\"}}],\"contour\":[{\"type\":\"contour\",\"colorbar\":{\"outlinewidth\":0,\"ticks\":\"\"},\"colorscale\":[[0.0,\"#0d0887\"],[0.1111111111111111,\"#46039f\"],[0.2222222222222222,\"#7201a8\"],[0.3333333333333333,\"#9c179e\"],[0.4444444444444444,\"#bd3786\"],[0.5555555555555556,\"#d8576b\"],[0.6666666666666666,\"#ed7953\"],[0.7777777777777778,\"#fb9f3a\"],[0.8888888888888888,\"#fdca26\"],[1.0,\"#f0f921\"]]}],\"surface\":[{\"type\":\"surface\",\"colorbar\":{\"outlinewidth\":0,\"ticks\":\"\"},\"colorscale\":[[0.0,\"#0d0887\"],[0.1111111111111111,\"#46039f\"],[0.2222222222222222,\"#7201a8\"],[0.3333333333333333,\"#9c179e\"],[0.4444444444444444,\"#bd3786\"],[0.5555555555555556,\"#d8576b\"],[0.6666666666666666,\"#ed7953\"],[0.7777777777777778,\"#fb9f3a\"],[0.8888888888888888,\"#fdca26\"],[1.0,\"#f0f921\"]]}],\"mesh3d\":[{\"type\":\"mesh3d\",\"colorbar\":{\"outlinewidth\":0,\"ticks\":\"\"}}],\"scatter\":[{\"fillpattern\":{\"fillmode\":\"overlay\",\"size\":10,\"solidity\":0.2},\"type\":\"scatter\"}],\"parcoords\":[{\"type\":\"parcoords\",\"line\":{\"colorbar\":{\"outlinewidth\":0,\"ticks\":\"\"}}}],\"scatterpolargl\":[{\"type\":\"scatterpolargl\",\"marker\":{\"colorbar\":{\"outlinewidth\":0,\"ticks\":\"\"}}}],\"bar\":[{\"error_x\":{\"color\":\"#2a3f5f\"},\"error_y\":{\"color\":\"#2a3f5f\"},\"marker\":{\"line\":{\"color\":\"#E5ECF6\",\"width\":0.5},\"pattern\":{\"fillmode\":\"overlay\",\"size\":10,\"solidity\":0.2}},\"type\":\"bar\"}],\"scattergeo\":[{\"type\":\"scattergeo\",\"marker\":{\"colorbar\":{\"outlinewidth\":0,\"ticks\":\"\"}}}],\"scatterpolar\":[{\"type\":\"scatterpolar\",\"marker\":{\"colorbar\":{\"outlinewidth\":0,\"ticks\":\"\"}}}],\"histogram\":[{\"marker\":{\"pattern\":{\"fillmode\":\"overlay\",\"size\":10,\"solidity\":0.2}},\"type\":\"histogram\"}],\"scattergl\":[{\"type\":\"scattergl\",\"marker\":{\"colorbar\":{\"outlinewidth\":0,\"ticks\":\"\"}}}],\"scatter3d\":[{\"type\":\"scatter3d\",\"line\":{\"colorbar\":{\"outlinewidth\":0,\"ticks\":\"\"}},\"marker\":{\"colorbar\":{\"outlinewidth\":0,\"ticks\":\"\"}}}],\"scattermapbox\":[{\"type\":\"scattermapbox\",\"marker\":{\"colorbar\":{\"outlinewidth\":0,\"ticks\":\"\"}}}],\"scatterternary\":[{\"type\":\"scatterternary\",\"marker\":{\"colorbar\":{\"outlinewidth\":0,\"ticks\":\"\"}}}],\"scattercarpet\":[{\"type\":\"scattercarpet\",\"marker\":{\"colorbar\":{\"outlinewidth\":0,\"ticks\":\"\"}}}],\"carpet\":[{\"aaxis\":{\"endlinecolor\":\"#2a3f5f\",\"gridcolor\":\"white\",\"linecolor\":\"white\",\"minorgridcolor\":\"white\",\"startlinecolor\":\"#2a3f5f\"},\"baxis\":{\"endlinecolor\":\"#2a3f5f\",\"gridcolor\":\"white\",\"linecolor\":\"white\",\"minorgridcolor\":\"white\",\"startlinecolor\":\"#2a3f5f\"},\"type\":\"carpet\"}],\"table\":[{\"cells\":{\"fill\":{\"color\":\"#EBF0F8\"},\"line\":{\"color\":\"white\"}},\"header\":{\"fill\":{\"color\":\"#C8D4E3\"},\"line\":{\"color\":\"white\"}},\"type\":\"table\"}],\"barpolar\":[{\"marker\":{\"line\":{\"color\":\"#E5ECF6\",\"width\":0.5},\"pattern\":{\"fillmode\":\"overlay\",\"size\":10,\"solidity\":0.2}},\"type\":\"barpolar\"}],\"pie\":[{\"automargin\":true,\"type\":\"pie\"}]},\"layout\":{\"autotypenumbers\":\"strict\",\"colorway\":[\"#636efa\",\"#EF553B\",\"#00cc96\",\"#ab63fa\",\"#FFA15A\",\"#19d3f3\",\"#FF6692\",\"#B6E880\",\"#FF97FF\",\"#FECB52\"],\"font\":{\"color\":\"#2a3f5f\"},\"hovermode\":\"closest\",\"hoverlabel\":{\"align\":\"left\"},\"paper_bgcolor\":\"white\",\"plot_bgcolor\":\"#E5ECF6\",\"polar\":{\"bgcolor\":\"#E5ECF6\",\"angularaxis\":{\"gridcolor\":\"white\",\"linecolor\":\"white\",\"ticks\":\"\"},\"radialaxis\":{\"gridcolor\":\"white\",\"linecolor\":\"white\",\"ticks\":\"\"}},\"ternary\":{\"bgcolor\":\"#E5ECF6\",\"aaxis\":{\"gridcolor\":\"white\",\"linecolor\":\"white\",\"ticks\":\"\"},\"baxis\":{\"gridcolor\":\"white\",\"linecolor\":\"white\",\"ticks\":\"\"},\"caxis\":{\"gridcolor\":\"white\",\"linecolor\":\"white\",\"ticks\":\"\"}},\"coloraxis\":{\"colorbar\":{\"outlinewidth\":0,\"ticks\":\"\"}},\"colorscale\":{\"sequential\":[[0.0,\"#0d0887\"],[0.1111111111111111,\"#46039f\"],[0.2222222222222222,\"#7201a8\"],[0.3333333333333333,\"#9c179e\"],[0.4444444444444444,\"#bd3786\"],[0.5555555555555556,\"#d8576b\"],[0.6666666666666666,\"#ed7953\"],[0.7777777777777778,\"#fb9f3a\"],[0.8888888888888888,\"#fdca26\"],[1.0,\"#f0f921\"]],\"sequentialminus\":[[0.0,\"#0d0887\"],[0.1111111111111111,\"#46039f\"],[0.2222222222222222,\"#7201a8\"],[0.3333333333333333,\"#9c179e\"],[0.4444444444444444,\"#bd3786\"],[0.5555555555555556,\"#d8576b\"],[0.6666666666666666,\"#ed7953\"],[0.7777777777777778,\"#fb9f3a\"],[0.8888888888888888,\"#fdca26\"],[1.0,\"#f0f921\"]],\"diverging\":[[0,\"#8e0152\"],[0.1,\"#c51b7d\"],[0.2,\"#de77ae\"],[0.3,\"#f1b6da\"],[0.4,\"#fde0ef\"],[0.5,\"#f7f7f7\"],[0.6,\"#e6f5d0\"],[0.7,\"#b8e186\"],[0.8,\"#7fbc41\"],[0.9,\"#4d9221\"],[1,\"#276419\"]]},\"xaxis\":{\"gridcolor\":\"white\",\"linecolor\":\"white\",\"ticks\":\"\",\"title\":{\"standoff\":15},\"zerolinecolor\":\"white\",\"automargin\":true,\"zerolinewidth\":2},\"yaxis\":{\"gridcolor\":\"white\",\"linecolor\":\"white\",\"ticks\":\"\",\"title\":{\"standoff\":15},\"zerolinecolor\":\"white\",\"automargin\":true,\"zerolinewidth\":2},\"scene\":{\"xaxis\":{\"backgroundcolor\":\"#E5ECF6\",\"gridcolor\":\"white\",\"linecolor\":\"white\",\"showbackground\":true,\"ticks\":\"\",\"zerolinecolor\":\"white\",\"gridwidth\":2},\"yaxis\":{\"backgroundcolor\":\"#E5ECF6\",\"gridcolor\":\"white\",\"linecolor\":\"white\",\"showbackground\":true,\"ticks\":\"\",\"zerolinecolor\":\"white\",\"gridwidth\":2},\"zaxis\":{\"backgroundcolor\":\"#E5ECF6\",\"gridcolor\":\"white\",\"linecolor\":\"white\",\"showbackground\":true,\"ticks\":\"\",\"zerolinecolor\":\"white\",\"gridwidth\":2}},\"shapedefaults\":{\"line\":{\"color\":\"#2a3f5f\"}},\"annotationdefaults\":{\"arrowcolor\":\"#2a3f5f\",\"arrowhead\":0,\"arrowwidth\":1},\"geo\":{\"bgcolor\":\"white\",\"landcolor\":\"#E5ECF6\",\"subunitcolor\":\"white\",\"showland\":true,\"showlakes\":true,\"lakecolor\":\"white\"},\"title\":{\"x\":0.05},\"mapbox\":{\"style\":\"light\"}}},\"yaxis\":{\"gridcolor\":\"#1f292f\"},\"xaxis\":{\"rangeslider\":{\"visible\":false},\"gridcolor\":\"#1f292f\",\"nticks\":5},\"margin\":{\"l\":10,\"r\":10,\"b\":10,\"t\":10},\"font\":{\"size\":8,\"color\":\"#e1e1e1\"},\"width\":900,\"height\":400,\"paper_bgcolor\":\"#2c303c\",\"plot_bgcolor\":\"#2c303c\"},                        {\"responsive\": true}                    ).then(function(){\n",
       "                            \n",
       "var gd = document.getElementById('5fc072d9-4b9c-428f-b6da-353a14ee378a');\n",
       "var x = new MutationObserver(function (mutations, observer) {{\n",
       "        var display = window.getComputedStyle(gd).display;\n",
       "        if (!display || display === 'none') {{\n",
       "            console.log([gd, 'removed!']);\n",
       "            Plotly.purge(gd);\n",
       "            observer.disconnect();\n",
       "        }}\n",
       "}});\n",
       "\n",
       "// Listen for the removal of the full notebook cells\n",
       "var notebookContainer = gd.closest('#notebook-container');\n",
       "if (notebookContainer) {{\n",
       "    x.observe(notebookContainer, {childList: true});\n",
       "}}\n",
       "\n",
       "// Listen for the clearing of the current output cell\n",
       "var outputEl = gd.closest('.output');\n",
       "if (outputEl) {{\n",
       "    x.observe(outputEl, {childList: true});\n",
       "}}\n",
       "\n",
       "                        })                };                });            </script>        </div>"
      ]
     },
     "metadata": {},
     "output_type": "display_data"
    },
    {
     "name": "stdout",
     "output_type": "stream",
     "text": [
      "USD_JPY 1103\n"
     ]
    },
    {
     "data": {
      "application/vnd.plotly.v1+json": {
       "config": {
        "plotlyServerURL": "https://plot.ly"
       },
       "data": [
        {
         "line": {
          "shape": "spline",
          "width": 2
         },
         "name": "GAIN_C",
         "type": "scatter",
         "x": [
          "s21-12-10 06:00",
          "s21-12-10 19:00",
          "s21-12-13 06:00",
          "s21-12-13 19:00",
          "s21-12-14 04:00",
          "s21-12-14 17:00",
          "s21-12-14 19:00",
          "s21-12-16 15:00",
          "s21-12-19 22:00",
          "s21-12-20 07:00",
          "s21-12-20 18:00",
          "s21-12-22 22:00",
          "s21-12-23 09:00",
          "s21-12-24 07:00",
          "s21-12-24 19:00",
          "s21-12-26 22:00",
          "s21-12-27 03:00",
          "s21-12-28 10:00",
          "s21-12-29 02:00",
          "s21-12-30 23:00",
          "s21-12-31 11:00",
          "s21-12-31 20:00",
          "s22-01-03 00:00",
          "s22-01-03 15:00",
          "s22-01-03 21:00",
          "s22-01-05 04:00",
          "s22-01-05 21:00",
          "s22-01-06 08:00",
          "s22-01-06 23:00",
          "s22-01-07 11:00",
          "s22-01-10 06:00",
          "s22-01-10 13:00",
          "s22-01-11 05:00",
          "s22-01-12 00:00",
          "s22-01-12 10:00",
          "s22-01-12 15:00",
          "s22-01-14 18:00",
          "s22-01-18 16:00",
          "s22-01-20 07:00",
          "s22-01-20 14:00",
          "s22-01-24 04:00",
          "s22-01-24 13:00",
          "s22-01-24 19:00",
          "s22-01-25 09:00",
          "s22-01-25 11:00",
          "s22-01-25 22:00",
          "s22-01-26 08:00",
          "s22-01-28 17:00",
          "s22-01-31 05:00",
          "s22-01-31 16:00",
          "s22-02-02 04:00",
          "s22-02-02 08:00",
          "s22-02-03 02:00",
          "s22-02-07 09:00",
          "s22-02-08 01:00",
          "s22-02-09 06:00",
          "s22-02-09 19:00",
          "s22-02-11 14:00",
          "s22-02-14 18:00",
          "s22-02-15 05:00",
          "s22-02-15 13:00",
          "s22-02-16 03:00",
          "s22-02-16 07:00",
          "s22-02-16 14:00",
          "s22-02-18 04:00",
          "s22-02-18 18:00",
          "s22-02-22 11:00",
          "s22-02-23 19:00",
          "s22-02-24 16:00",
          "s22-02-25 07:00",
          "s22-02-25 15:00",
          "s22-02-28 04:00",
          "s22-03-01 08:00",
          "s22-03-01 10:00",
          "s22-03-02 02:00",
          "s22-03-03 19:00",
          "s22-03-07 08:00",
          "s22-03-09 20:00",
          "s22-03-09 23:00",
          "s22-03-10 15:00",
          "s22-03-10 18:00",
          "s22-03-15 11:00",
          "s22-03-15 21:00",
          "s22-03-16 10:00",
          "s22-03-16 14:00",
          "s22-03-17 11:00",
          "s22-03-18 03:00",
          "s22-03-21 15:00",
          "s22-03-21 18:00",
          "s22-03-23 12:00",
          "s22-03-23 21:00",
          "s22-03-25 05:00",
          "s22-03-25 18:00",
          "s22-03-28 21:00",
          "s22-03-29 05:00",
          "s22-03-29 06:00",
          "s22-03-30 21:00",
          "s22-03-31 11:00",
          "s22-04-01 01:00",
          "s22-04-04 00:00",
          "s22-04-04 10:00",
          "s22-04-05 03:00",
          "s22-04-05 12:00",
          "s22-04-06 17:00",
          "s22-04-07 11:00",
          "s22-04-12 01:00",
          "s22-04-12 08:00",
          "s22-04-12 15:00",
          "s22-04-13 02:00",
          "s22-04-13 19:00",
          "s22-04-14 14:00",
          "s22-04-15 19:00",
          "s22-04-18 02:00",
          "s22-04-20 08:00",
          "s22-04-21 02:00",
          "s22-04-22 06:00",
          "s22-04-22 16:00",
          "s22-04-25 06:00",
          "s22-04-27 05:00",
          "s22-04-29 03:00",
          "s22-05-02 03:00",
          "s22-05-02 15:00",
          "s22-05-02 21:00",
          "s22-05-03 04:00",
          "s22-05-03 22:00",
          "s22-05-04 09:00",
          "s22-05-05 11:00",
          "s22-05-06 15:00",
          "s22-05-08 23:00",
          "s22-05-09 16:00",
          "s22-05-10 21:00",
          "s22-05-11 08:00",
          "s22-05-13 02:00",
          "s22-05-16 05:00",
          "s22-05-16 15:00",
          "s22-05-16 21:00",
          "s22-05-17 05:00",
          "s22-05-17 23:00",
          "s22-05-19 06:00",
          "s22-05-19 12:00",
          "s22-05-20 01:00",
          "s22-05-20 20:00",
          "s22-05-22 22:00",
          "s22-05-22 23:00",
          "s22-05-23 16:00",
          "s22-05-24 06:00",
          "s22-05-25 05:00",
          "s22-05-26 07:00",
          "s22-05-26 19:00",
          "s22-05-27 03:00",
          "s22-05-27 14:00",
          "s22-05-30 09:00",
          "s22-05-30 10:00",
          "s22-06-02 08:00",
          "s22-06-02 23:00",
          "s22-06-03 08:00",
          "s22-06-03 09:00",
          "s22-06-06 06:00",
          "s22-06-06 14:00",
          "s22-06-07 19:00",
          "s22-06-08 01:00",
          "s22-06-09 07:00",
          "s22-06-09 19:00",
          "s22-06-10 07:00",
          "s22-06-10 17:00",
          "s22-06-13 12:00",
          "s22-06-14 02:00",
          "s22-06-15 08:00",
          "s22-06-16 07:00",
          "s22-06-16 09:00",
          "s22-06-17 03:00",
          "s22-06-20 07:00",
          "s22-06-20 18:00",
          "s22-06-22 06:00",
          "s22-06-22 23:00",
          "s22-06-23 03:00",
          "s22-06-24 13:00",
          "s22-06-27 03:00",
          "s22-06-27 12:00",
          "s22-06-29 04:00",
          "s22-06-29 10:00",
          "s22-06-30 04:00",
          "s22-07-03 21:00",
          "s22-07-03 22:00",
          "s22-07-04 09:00",
          "s22-07-05 15:00",
          "s22-07-06 17:00",
          "s22-07-08 03:00",
          "s22-07-08 14:00",
          "s22-07-12 04:00",
          "s22-07-13 02:00",
          "s22-07-15 00:00",
          "s22-07-19 20:00",
          "s22-07-20 10:00",
          "s22-07-20 14:00",
          "s22-07-21 17:00"
         ],
         "y": [
          -12.299999999999045,
          -24.8999999999981,
          -27.69999999999726,
          -34.099999999996555,
          -26.899999999996282,
          -34.99999999999659,
          -34.59999999999752,
          -28.79999999999825,
          -52.29999999999819,
          -71.19999999999749,
          -23.4999999999971,
          -42.099999999997806,
          -36.69999999999902,
          -36.89999999999998,
          -35.5000000000004,
          -40.2000000000001,
          0.10000000000047748,
          1.300000000000523,
          26.39999999999958,
          20.09999999999934,
          16.899999999999693,
          -1.300000000000523,
          0.0999999999990564,
          -5.500000000000682,
          65.30000000000058,
          60.600000000000875,
          29.300000000000637,
          21.90000000000083,
          15.100000000001046,
          17.100000000000648,
          -21.599999999999397,
          -9.799999999998477,
          -12.199999999998568,
          -32.99999999999841,
          -93.69999999999834,
          -20.199999999998397,
          28.100000000002012,
          48.20000000000135,
          18.700000000001182,
          37.400000000000944,
          20.199999999999818,
          15.59999999999917,
          42.29999999999876,
          47.29999999999848,
          32.399999999998386,
          3.499999999998238,
          112.89999999999765,
          94.09999999999741,
          77.09999999999724,
          126.1999999999972,
          103.09999999999775,
          112.29999999999762,
          170.19999999999698,
          142.89999999999594,
          165.09999999999536,
          168.6999999999955,
          211.8999999999957,
          259.8999999999961,
          249.4999999999962,
          217.09999999999638,
          221.49999999999608,
          227.09999999999582,
          207.09999999999553,
          233.09999999999462,
          217.79999999999404,
          212.49999999999432,
          201.0999999999953,
          151.19999999999578,
          133.09999999999604,
          104.29999999999637,
          104.39999999999685,
          168.99999999999693,
          161.9999999999962,
          148.29999999999615,
          190.99999999999682,
          236.6999999999976,
          320.8999999999989,
          310.89999999999947,
          317.8999999999988,
          304.8999999999978,
          484.099999999998,
          443.4999999999988,
          443.5999999999993,
          433.0999999999989,
          455.0999999999988,
          440.4999999999987,
          479.09999999999826,
          448.09999999999803,
          572.499999999998,
          531.0999999999979,
          588.4999999999977,
          545.7999999999985,
          722.2999999999986,
          752.0999999999988,
          742.899999999999,
          905.8999999999985,
          880.8999999999985,
          809.9999999999982,
          816.8999999999985,
          776.4999999999989,
          747.4999999999982,
          715.9999999999984,
          812.0999999999997,
          797.3000000000001,
          942.9000000000003,
          919.6000000000013,
          880.5000000000022,
          846.4000000000028,
          856.2000000000028,
          834.9000000000019,
          883.3000000000013,
          861.6000000000015,
          1042.6000000000017,
          1021.7000000000014,
          952.3000000000011,
          855.2000000000021,
          775.2000000000038,
          812.7000000000053,
          1105.400000000006,
          1141.1000000000058,
          1132.7000000000055,
          1131.1000000000063,
          1122.700000000006,
          1125.0000000000055,
          1115.7000000000066,
          1117.7000000000075,
          1154.50000000001,
          1116.9000000000124,
          1072.5000000000136,
          1058.700000000013,
          1001.1000000000137,
          1104.3000000000147,
          1120.7000000000135,
          1105.9000000000137,
          1099.5000000000146,
          1072.9000000000126,
          1081.2000000000126,
          1166.1000000000145,
          1027.2000000000148,
          934.4000000000137,
          920.5000000000127,
          922.0000000000127,
          915.3000000000134,
          919.900000000014,
          895.6000000000145,
          955.1000000000143,
          914.3000000000143,
          864.7000000000148,
          836.5000000000152,
          806.300000000016,
          823.7000000000166,
          814.8000000000168,
          1066.1000000000172,
          1061.300000000017,
          1064.300000000017,
          1052.9000000000165,
          1093.8000000000156,
          1010.2000000000172,
          1141.100000000017,
          1092.0000000000155,
          1126.5000000000155,
          1030.7000000000157,
          948.7000000000164,
          873.3000000000173,
          840.900000000019,
          817.8000000000195,
          843.2000000000186,
          872.8000000000178,
          737.8000000000184,
          604.2000000000199,
          648.3000000000202,
          600.9000000000212,
          736.5000000000235,
          786.1000000000245,
          721.3000000000249,
          746.3000000000249,
          719.9000000000239,
          661.2000000000221,
          723.9000000000202,
          678.1000000000204,
          679.0000000000218,
          804.3000000000233,
          792.3000000000228,
          760.4000000000211,
          783.7000000000215,
          784.9000000000216,
          776.5000000000213,
          730.6000000000209,
          854.5000000000214,
          876.2000000000227,
          1054.7000000000223,
          1120.9000000000228,
          1119.9000000000237,
          1129.6000000000245,
          1103.500000000025,
          1103.500000000025
         ]
        }
       ],
       "layout": {
        "font": {
         "color": "#e1e1e1",
         "size": 8
        },
        "height": 400,
        "margin": {
         "b": 10,
         "l": 10,
         "r": 10,
         "t": 10
        },
        "paper_bgcolor": "#2c303c",
        "plot_bgcolor": "#2c303c",
        "template": {
         "data": {
          "bar": [
           {
            "error_x": {
             "color": "#2a3f5f"
            },
            "error_y": {
             "color": "#2a3f5f"
            },
            "marker": {
             "line": {
              "color": "#E5ECF6",
              "width": 0.5
             },
             "pattern": {
              "fillmode": "overlay",
              "size": 10,
              "solidity": 0.2
             }
            },
            "type": "bar"
           }
          ],
          "barpolar": [
           {
            "marker": {
             "line": {
              "color": "#E5ECF6",
              "width": 0.5
             },
             "pattern": {
              "fillmode": "overlay",
              "size": 10,
              "solidity": 0.2
             }
            },
            "type": "barpolar"
           }
          ],
          "carpet": [
           {
            "aaxis": {
             "endlinecolor": "#2a3f5f",
             "gridcolor": "white",
             "linecolor": "white",
             "minorgridcolor": "white",
             "startlinecolor": "#2a3f5f"
            },
            "baxis": {
             "endlinecolor": "#2a3f5f",
             "gridcolor": "white",
             "linecolor": "white",
             "minorgridcolor": "white",
             "startlinecolor": "#2a3f5f"
            },
            "type": "carpet"
           }
          ],
          "choropleth": [
           {
            "colorbar": {
             "outlinewidth": 0,
             "ticks": ""
            },
            "type": "choropleth"
           }
          ],
          "contour": [
           {
            "colorbar": {
             "outlinewidth": 0,
             "ticks": ""
            },
            "colorscale": [
             [
              0,
              "#0d0887"
             ],
             [
              0.1111111111111111,
              "#46039f"
             ],
             [
              0.2222222222222222,
              "#7201a8"
             ],
             [
              0.3333333333333333,
              "#9c179e"
             ],
             [
              0.4444444444444444,
              "#bd3786"
             ],
             [
              0.5555555555555556,
              "#d8576b"
             ],
             [
              0.6666666666666666,
              "#ed7953"
             ],
             [
              0.7777777777777778,
              "#fb9f3a"
             ],
             [
              0.8888888888888888,
              "#fdca26"
             ],
             [
              1,
              "#f0f921"
             ]
            ],
            "type": "contour"
           }
          ],
          "contourcarpet": [
           {
            "colorbar": {
             "outlinewidth": 0,
             "ticks": ""
            },
            "type": "contourcarpet"
           }
          ],
          "heatmap": [
           {
            "colorbar": {
             "outlinewidth": 0,
             "ticks": ""
            },
            "colorscale": [
             [
              0,
              "#0d0887"
             ],
             [
              0.1111111111111111,
              "#46039f"
             ],
             [
              0.2222222222222222,
              "#7201a8"
             ],
             [
              0.3333333333333333,
              "#9c179e"
             ],
             [
              0.4444444444444444,
              "#bd3786"
             ],
             [
              0.5555555555555556,
              "#d8576b"
             ],
             [
              0.6666666666666666,
              "#ed7953"
             ],
             [
              0.7777777777777778,
              "#fb9f3a"
             ],
             [
              0.8888888888888888,
              "#fdca26"
             ],
             [
              1,
              "#f0f921"
             ]
            ],
            "type": "heatmap"
           }
          ],
          "heatmapgl": [
           {
            "colorbar": {
             "outlinewidth": 0,
             "ticks": ""
            },
            "colorscale": [
             [
              0,
              "#0d0887"
             ],
             [
              0.1111111111111111,
              "#46039f"
             ],
             [
              0.2222222222222222,
              "#7201a8"
             ],
             [
              0.3333333333333333,
              "#9c179e"
             ],
             [
              0.4444444444444444,
              "#bd3786"
             ],
             [
              0.5555555555555556,
              "#d8576b"
             ],
             [
              0.6666666666666666,
              "#ed7953"
             ],
             [
              0.7777777777777778,
              "#fb9f3a"
             ],
             [
              0.8888888888888888,
              "#fdca26"
             ],
             [
              1,
              "#f0f921"
             ]
            ],
            "type": "heatmapgl"
           }
          ],
          "histogram": [
           {
            "marker": {
             "pattern": {
              "fillmode": "overlay",
              "size": 10,
              "solidity": 0.2
             }
            },
            "type": "histogram"
           }
          ],
          "histogram2d": [
           {
            "colorbar": {
             "outlinewidth": 0,
             "ticks": ""
            },
            "colorscale": [
             [
              0,
              "#0d0887"
             ],
             [
              0.1111111111111111,
              "#46039f"
             ],
             [
              0.2222222222222222,
              "#7201a8"
             ],
             [
              0.3333333333333333,
              "#9c179e"
             ],
             [
              0.4444444444444444,
              "#bd3786"
             ],
             [
              0.5555555555555556,
              "#d8576b"
             ],
             [
              0.6666666666666666,
              "#ed7953"
             ],
             [
              0.7777777777777778,
              "#fb9f3a"
             ],
             [
              0.8888888888888888,
              "#fdca26"
             ],
             [
              1,
              "#f0f921"
             ]
            ],
            "type": "histogram2d"
           }
          ],
          "histogram2dcontour": [
           {
            "colorbar": {
             "outlinewidth": 0,
             "ticks": ""
            },
            "colorscale": [
             [
              0,
              "#0d0887"
             ],
             [
              0.1111111111111111,
              "#46039f"
             ],
             [
              0.2222222222222222,
              "#7201a8"
             ],
             [
              0.3333333333333333,
              "#9c179e"
             ],
             [
              0.4444444444444444,
              "#bd3786"
             ],
             [
              0.5555555555555556,
              "#d8576b"
             ],
             [
              0.6666666666666666,
              "#ed7953"
             ],
             [
              0.7777777777777778,
              "#fb9f3a"
             ],
             [
              0.8888888888888888,
              "#fdca26"
             ],
             [
              1,
              "#f0f921"
             ]
            ],
            "type": "histogram2dcontour"
           }
          ],
          "mesh3d": [
           {
            "colorbar": {
             "outlinewidth": 0,
             "ticks": ""
            },
            "type": "mesh3d"
           }
          ],
          "parcoords": [
           {
            "line": {
             "colorbar": {
              "outlinewidth": 0,
              "ticks": ""
             }
            },
            "type": "parcoords"
           }
          ],
          "pie": [
           {
            "automargin": true,
            "type": "pie"
           }
          ],
          "scatter": [
           {
            "fillpattern": {
             "fillmode": "overlay",
             "size": 10,
             "solidity": 0.2
            },
            "type": "scatter"
           }
          ],
          "scatter3d": [
           {
            "line": {
             "colorbar": {
              "outlinewidth": 0,
              "ticks": ""
             }
            },
            "marker": {
             "colorbar": {
              "outlinewidth": 0,
              "ticks": ""
             }
            },
            "type": "scatter3d"
           }
          ],
          "scattercarpet": [
           {
            "marker": {
             "colorbar": {
              "outlinewidth": 0,
              "ticks": ""
             }
            },
            "type": "scattercarpet"
           }
          ],
          "scattergeo": [
           {
            "marker": {
             "colorbar": {
              "outlinewidth": 0,
              "ticks": ""
             }
            },
            "type": "scattergeo"
           }
          ],
          "scattergl": [
           {
            "marker": {
             "colorbar": {
              "outlinewidth": 0,
              "ticks": ""
             }
            },
            "type": "scattergl"
           }
          ],
          "scattermapbox": [
           {
            "marker": {
             "colorbar": {
              "outlinewidth": 0,
              "ticks": ""
             }
            },
            "type": "scattermapbox"
           }
          ],
          "scatterpolar": [
           {
            "marker": {
             "colorbar": {
              "outlinewidth": 0,
              "ticks": ""
             }
            },
            "type": "scatterpolar"
           }
          ],
          "scatterpolargl": [
           {
            "marker": {
             "colorbar": {
              "outlinewidth": 0,
              "ticks": ""
             }
            },
            "type": "scatterpolargl"
           }
          ],
          "scatterternary": [
           {
            "marker": {
             "colorbar": {
              "outlinewidth": 0,
              "ticks": ""
             }
            },
            "type": "scatterternary"
           }
          ],
          "surface": [
           {
            "colorbar": {
             "outlinewidth": 0,
             "ticks": ""
            },
            "colorscale": [
             [
              0,
              "#0d0887"
             ],
             [
              0.1111111111111111,
              "#46039f"
             ],
             [
              0.2222222222222222,
              "#7201a8"
             ],
             [
              0.3333333333333333,
              "#9c179e"
             ],
             [
              0.4444444444444444,
              "#bd3786"
             ],
             [
              0.5555555555555556,
              "#d8576b"
             ],
             [
              0.6666666666666666,
              "#ed7953"
             ],
             [
              0.7777777777777778,
              "#fb9f3a"
             ],
             [
              0.8888888888888888,
              "#fdca26"
             ],
             [
              1,
              "#f0f921"
             ]
            ],
            "type": "surface"
           }
          ],
          "table": [
           {
            "cells": {
             "fill": {
              "color": "#EBF0F8"
             },
             "line": {
              "color": "white"
             }
            },
            "header": {
             "fill": {
              "color": "#C8D4E3"
             },
             "line": {
              "color": "white"
             }
            },
            "type": "table"
           }
          ]
         },
         "layout": {
          "annotationdefaults": {
           "arrowcolor": "#2a3f5f",
           "arrowhead": 0,
           "arrowwidth": 1
          },
          "autotypenumbers": "strict",
          "coloraxis": {
           "colorbar": {
            "outlinewidth": 0,
            "ticks": ""
           }
          },
          "colorscale": {
           "diverging": [
            [
             0,
             "#8e0152"
            ],
            [
             0.1,
             "#c51b7d"
            ],
            [
             0.2,
             "#de77ae"
            ],
            [
             0.3,
             "#f1b6da"
            ],
            [
             0.4,
             "#fde0ef"
            ],
            [
             0.5,
             "#f7f7f7"
            ],
            [
             0.6,
             "#e6f5d0"
            ],
            [
             0.7,
             "#b8e186"
            ],
            [
             0.8,
             "#7fbc41"
            ],
            [
             0.9,
             "#4d9221"
            ],
            [
             1,
             "#276419"
            ]
           ],
           "sequential": [
            [
             0,
             "#0d0887"
            ],
            [
             0.1111111111111111,
             "#46039f"
            ],
            [
             0.2222222222222222,
             "#7201a8"
            ],
            [
             0.3333333333333333,
             "#9c179e"
            ],
            [
             0.4444444444444444,
             "#bd3786"
            ],
            [
             0.5555555555555556,
             "#d8576b"
            ],
            [
             0.6666666666666666,
             "#ed7953"
            ],
            [
             0.7777777777777778,
             "#fb9f3a"
            ],
            [
             0.8888888888888888,
             "#fdca26"
            ],
            [
             1,
             "#f0f921"
            ]
           ],
           "sequentialminus": [
            [
             0,
             "#0d0887"
            ],
            [
             0.1111111111111111,
             "#46039f"
            ],
            [
             0.2222222222222222,
             "#7201a8"
            ],
            [
             0.3333333333333333,
             "#9c179e"
            ],
            [
             0.4444444444444444,
             "#bd3786"
            ],
            [
             0.5555555555555556,
             "#d8576b"
            ],
            [
             0.6666666666666666,
             "#ed7953"
            ],
            [
             0.7777777777777778,
             "#fb9f3a"
            ],
            [
             0.8888888888888888,
             "#fdca26"
            ],
            [
             1,
             "#f0f921"
            ]
           ]
          },
          "colorway": [
           "#636efa",
           "#EF553B",
           "#00cc96",
           "#ab63fa",
           "#FFA15A",
           "#19d3f3",
           "#FF6692",
           "#B6E880",
           "#FF97FF",
           "#FECB52"
          ],
          "font": {
           "color": "#2a3f5f"
          },
          "geo": {
           "bgcolor": "white",
           "lakecolor": "white",
           "landcolor": "#E5ECF6",
           "showlakes": true,
           "showland": true,
           "subunitcolor": "white"
          },
          "hoverlabel": {
           "align": "left"
          },
          "hovermode": "closest",
          "mapbox": {
           "style": "light"
          },
          "paper_bgcolor": "white",
          "plot_bgcolor": "#E5ECF6",
          "polar": {
           "angularaxis": {
            "gridcolor": "white",
            "linecolor": "white",
            "ticks": ""
           },
           "bgcolor": "#E5ECF6",
           "radialaxis": {
            "gridcolor": "white",
            "linecolor": "white",
            "ticks": ""
           }
          },
          "scene": {
           "xaxis": {
            "backgroundcolor": "#E5ECF6",
            "gridcolor": "white",
            "gridwidth": 2,
            "linecolor": "white",
            "showbackground": true,
            "ticks": "",
            "zerolinecolor": "white"
           },
           "yaxis": {
            "backgroundcolor": "#E5ECF6",
            "gridcolor": "white",
            "gridwidth": 2,
            "linecolor": "white",
            "showbackground": true,
            "ticks": "",
            "zerolinecolor": "white"
           },
           "zaxis": {
            "backgroundcolor": "#E5ECF6",
            "gridcolor": "white",
            "gridwidth": 2,
            "linecolor": "white",
            "showbackground": true,
            "ticks": "",
            "zerolinecolor": "white"
           }
          },
          "shapedefaults": {
           "line": {
            "color": "#2a3f5f"
           }
          },
          "ternary": {
           "aaxis": {
            "gridcolor": "white",
            "linecolor": "white",
            "ticks": ""
           },
           "baxis": {
            "gridcolor": "white",
            "linecolor": "white",
            "ticks": ""
           },
           "bgcolor": "#E5ECF6",
           "caxis": {
            "gridcolor": "white",
            "linecolor": "white",
            "ticks": ""
           }
          },
          "title": {
           "x": 0.05
          },
          "xaxis": {
           "automargin": true,
           "gridcolor": "white",
           "linecolor": "white",
           "ticks": "",
           "title": {
            "standoff": 15
           },
           "zerolinecolor": "white",
           "zerolinewidth": 2
          },
          "yaxis": {
           "automargin": true,
           "gridcolor": "white",
           "linecolor": "white",
           "ticks": "",
           "title": {
            "standoff": 15
           },
           "zerolinecolor": "white",
           "zerolinewidth": 2
          }
         }
        },
        "width": 900,
        "xaxis": {
         "gridcolor": "#1f292f",
         "nticks": 5,
         "rangeslider": {
          "visible": false
         }
        },
        "yaxis": {
         "gridcolor": "#1f292f"
        }
       }
      },
      "text/html": [
       "<div>                            <div id=\"f0d31865-1d96-4e14-adef-ee394a38d3b5\" class=\"plotly-graph-div\" style=\"height:400px; width:900px;\"></div>            <script type=\"text/javascript\">                require([\"plotly\"], function(Plotly) {                    window.PLOTLYENV=window.PLOTLYENV || {};                                    if (document.getElementById(\"f0d31865-1d96-4e14-adef-ee394a38d3b5\")) {                    Plotly.newPlot(                        \"f0d31865-1d96-4e14-adef-ee394a38d3b5\",                        [{\"line\":{\"shape\":\"spline\",\"width\":2},\"name\":\"GAIN_C\",\"x\":[\"s21-12-10 06:00\",\"s21-12-10 19:00\",\"s21-12-13 06:00\",\"s21-12-13 19:00\",\"s21-12-14 04:00\",\"s21-12-14 17:00\",\"s21-12-14 19:00\",\"s21-12-16 15:00\",\"s21-12-19 22:00\",\"s21-12-20 07:00\",\"s21-12-20 18:00\",\"s21-12-22 22:00\",\"s21-12-23 09:00\",\"s21-12-24 07:00\",\"s21-12-24 19:00\",\"s21-12-26 22:00\",\"s21-12-27 03:00\",\"s21-12-28 10:00\",\"s21-12-29 02:00\",\"s21-12-30 23:00\",\"s21-12-31 11:00\",\"s21-12-31 20:00\",\"s22-01-03 00:00\",\"s22-01-03 15:00\",\"s22-01-03 21:00\",\"s22-01-05 04:00\",\"s22-01-05 21:00\",\"s22-01-06 08:00\",\"s22-01-06 23:00\",\"s22-01-07 11:00\",\"s22-01-10 06:00\",\"s22-01-10 13:00\",\"s22-01-11 05:00\",\"s22-01-12 00:00\",\"s22-01-12 10:00\",\"s22-01-12 15:00\",\"s22-01-14 18:00\",\"s22-01-18 16:00\",\"s22-01-20 07:00\",\"s22-01-20 14:00\",\"s22-01-24 04:00\",\"s22-01-24 13:00\",\"s22-01-24 19:00\",\"s22-01-25 09:00\",\"s22-01-25 11:00\",\"s22-01-25 22:00\",\"s22-01-26 08:00\",\"s22-01-28 17:00\",\"s22-01-31 05:00\",\"s22-01-31 16:00\",\"s22-02-02 04:00\",\"s22-02-02 08:00\",\"s22-02-03 02:00\",\"s22-02-07 09:00\",\"s22-02-08 01:00\",\"s22-02-09 06:00\",\"s22-02-09 19:00\",\"s22-02-11 14:00\",\"s22-02-14 18:00\",\"s22-02-15 05:00\",\"s22-02-15 13:00\",\"s22-02-16 03:00\",\"s22-02-16 07:00\",\"s22-02-16 14:00\",\"s22-02-18 04:00\",\"s22-02-18 18:00\",\"s22-02-22 11:00\",\"s22-02-23 19:00\",\"s22-02-24 16:00\",\"s22-02-25 07:00\",\"s22-02-25 15:00\",\"s22-02-28 04:00\",\"s22-03-01 08:00\",\"s22-03-01 10:00\",\"s22-03-02 02:00\",\"s22-03-03 19:00\",\"s22-03-07 08:00\",\"s22-03-09 20:00\",\"s22-03-09 23:00\",\"s22-03-10 15:00\",\"s22-03-10 18:00\",\"s22-03-15 11:00\",\"s22-03-15 21:00\",\"s22-03-16 10:00\",\"s22-03-16 14:00\",\"s22-03-17 11:00\",\"s22-03-18 03:00\",\"s22-03-21 15:00\",\"s22-03-21 18:00\",\"s22-03-23 12:00\",\"s22-03-23 21:00\",\"s22-03-25 05:00\",\"s22-03-25 18:00\",\"s22-03-28 21:00\",\"s22-03-29 05:00\",\"s22-03-29 06:00\",\"s22-03-30 21:00\",\"s22-03-31 11:00\",\"s22-04-01 01:00\",\"s22-04-04 00:00\",\"s22-04-04 10:00\",\"s22-04-05 03:00\",\"s22-04-05 12:00\",\"s22-04-06 17:00\",\"s22-04-07 11:00\",\"s22-04-12 01:00\",\"s22-04-12 08:00\",\"s22-04-12 15:00\",\"s22-04-13 02:00\",\"s22-04-13 19:00\",\"s22-04-14 14:00\",\"s22-04-15 19:00\",\"s22-04-18 02:00\",\"s22-04-20 08:00\",\"s22-04-21 02:00\",\"s22-04-22 06:00\",\"s22-04-22 16:00\",\"s22-04-25 06:00\",\"s22-04-27 05:00\",\"s22-04-29 03:00\",\"s22-05-02 03:00\",\"s22-05-02 15:00\",\"s22-05-02 21:00\",\"s22-05-03 04:00\",\"s22-05-03 22:00\",\"s22-05-04 09:00\",\"s22-05-05 11:00\",\"s22-05-06 15:00\",\"s22-05-08 23:00\",\"s22-05-09 16:00\",\"s22-05-10 21:00\",\"s22-05-11 08:00\",\"s22-05-13 02:00\",\"s22-05-16 05:00\",\"s22-05-16 15:00\",\"s22-05-16 21:00\",\"s22-05-17 05:00\",\"s22-05-17 23:00\",\"s22-05-19 06:00\",\"s22-05-19 12:00\",\"s22-05-20 01:00\",\"s22-05-20 20:00\",\"s22-05-22 22:00\",\"s22-05-22 23:00\",\"s22-05-23 16:00\",\"s22-05-24 06:00\",\"s22-05-25 05:00\",\"s22-05-26 07:00\",\"s22-05-26 19:00\",\"s22-05-27 03:00\",\"s22-05-27 14:00\",\"s22-05-30 09:00\",\"s22-05-30 10:00\",\"s22-06-02 08:00\",\"s22-06-02 23:00\",\"s22-06-03 08:00\",\"s22-06-03 09:00\",\"s22-06-06 06:00\",\"s22-06-06 14:00\",\"s22-06-07 19:00\",\"s22-06-08 01:00\",\"s22-06-09 07:00\",\"s22-06-09 19:00\",\"s22-06-10 07:00\",\"s22-06-10 17:00\",\"s22-06-13 12:00\",\"s22-06-14 02:00\",\"s22-06-15 08:00\",\"s22-06-16 07:00\",\"s22-06-16 09:00\",\"s22-06-17 03:00\",\"s22-06-20 07:00\",\"s22-06-20 18:00\",\"s22-06-22 06:00\",\"s22-06-22 23:00\",\"s22-06-23 03:00\",\"s22-06-24 13:00\",\"s22-06-27 03:00\",\"s22-06-27 12:00\",\"s22-06-29 04:00\",\"s22-06-29 10:00\",\"s22-06-30 04:00\",\"s22-07-03 21:00\",\"s22-07-03 22:00\",\"s22-07-04 09:00\",\"s22-07-05 15:00\",\"s22-07-06 17:00\",\"s22-07-08 03:00\",\"s22-07-08 14:00\",\"s22-07-12 04:00\",\"s22-07-13 02:00\",\"s22-07-15 00:00\",\"s22-07-19 20:00\",\"s22-07-20 10:00\",\"s22-07-20 14:00\",\"s22-07-21 17:00\"],\"y\":[-12.299999999999045,-24.8999999999981,-27.69999999999726,-34.099999999996555,-26.899999999996282,-34.99999999999659,-34.59999999999752,-28.79999999999825,-52.29999999999819,-71.19999999999749,-23.4999999999971,-42.099999999997806,-36.69999999999902,-36.89999999999998,-35.5000000000004,-40.2000000000001,0.10000000000047748,1.300000000000523,26.39999999999958,20.09999999999934,16.899999999999693,-1.300000000000523,0.0999999999990564,-5.500000000000682,65.30000000000058,60.600000000000875,29.300000000000637,21.90000000000083,15.100000000001046,17.100000000000648,-21.599999999999397,-9.799999999998477,-12.199999999998568,-32.99999999999841,-93.69999999999834,-20.199999999998397,28.100000000002012,48.20000000000135,18.700000000001182,37.400000000000944,20.199999999999818,15.59999999999917,42.29999999999876,47.29999999999848,32.399999999998386,3.499999999998238,112.89999999999765,94.09999999999741,77.09999999999724,126.1999999999972,103.09999999999775,112.29999999999762,170.19999999999698,142.89999999999594,165.09999999999536,168.6999999999955,211.8999999999957,259.8999999999961,249.4999999999962,217.09999999999638,221.49999999999608,227.09999999999582,207.09999999999553,233.09999999999462,217.79999999999404,212.49999999999432,201.0999999999953,151.19999999999578,133.09999999999604,104.29999999999637,104.39999999999685,168.99999999999693,161.9999999999962,148.29999999999615,190.99999999999682,236.6999999999976,320.8999999999989,310.89999999999947,317.8999999999988,304.8999999999978,484.099999999998,443.4999999999988,443.5999999999993,433.0999999999989,455.0999999999988,440.4999999999987,479.09999999999826,448.09999999999803,572.499999999998,531.0999999999979,588.4999999999977,545.7999999999985,722.2999999999986,752.0999999999988,742.899999999999,905.8999999999985,880.8999999999985,809.9999999999982,816.8999999999985,776.4999999999989,747.4999999999982,715.9999999999984,812.0999999999997,797.3000000000001,942.9000000000003,919.6000000000013,880.5000000000022,846.4000000000028,856.2000000000028,834.9000000000019,883.3000000000013,861.6000000000015,1042.6000000000017,1021.7000000000014,952.3000000000011,855.2000000000021,775.2000000000038,812.7000000000053,1105.400000000006,1141.1000000000058,1132.7000000000055,1131.1000000000063,1122.700000000006,1125.0000000000055,1115.7000000000066,1117.7000000000075,1154.50000000001,1116.9000000000124,1072.5000000000136,1058.700000000013,1001.1000000000137,1104.3000000000147,1120.7000000000135,1105.9000000000137,1099.5000000000146,1072.9000000000126,1081.2000000000126,1166.1000000000145,1027.2000000000148,934.4000000000137,920.5000000000127,922.0000000000127,915.3000000000134,919.900000000014,895.6000000000145,955.1000000000143,914.3000000000143,864.7000000000148,836.5000000000152,806.300000000016,823.7000000000166,814.8000000000168,1066.1000000000172,1061.300000000017,1064.300000000017,1052.9000000000165,1093.8000000000156,1010.2000000000172,1141.100000000017,1092.0000000000155,1126.5000000000155,1030.7000000000157,948.7000000000164,873.3000000000173,840.900000000019,817.8000000000195,843.2000000000186,872.8000000000178,737.8000000000184,604.2000000000199,648.3000000000202,600.9000000000212,736.5000000000235,786.1000000000245,721.3000000000249,746.3000000000249,719.9000000000239,661.2000000000221,723.9000000000202,678.1000000000204,679.0000000000218,804.3000000000233,792.3000000000228,760.4000000000211,783.7000000000215,784.9000000000216,776.5000000000213,730.6000000000209,854.5000000000214,876.2000000000227,1054.7000000000223,1120.9000000000228,1119.9000000000237,1129.6000000000245,1103.500000000025,1103.500000000025],\"type\":\"scatter\"}],                        {\"template\":{\"data\":{\"histogram2dcontour\":[{\"type\":\"histogram2dcontour\",\"colorbar\":{\"outlinewidth\":0,\"ticks\":\"\"},\"colorscale\":[[0.0,\"#0d0887\"],[0.1111111111111111,\"#46039f\"],[0.2222222222222222,\"#7201a8\"],[0.3333333333333333,\"#9c179e\"],[0.4444444444444444,\"#bd3786\"],[0.5555555555555556,\"#d8576b\"],[0.6666666666666666,\"#ed7953\"],[0.7777777777777778,\"#fb9f3a\"],[0.8888888888888888,\"#fdca26\"],[1.0,\"#f0f921\"]]}],\"choropleth\":[{\"type\":\"choropleth\",\"colorbar\":{\"outlinewidth\":0,\"ticks\":\"\"}}],\"histogram2d\":[{\"type\":\"histogram2d\",\"colorbar\":{\"outlinewidth\":0,\"ticks\":\"\"},\"colorscale\":[[0.0,\"#0d0887\"],[0.1111111111111111,\"#46039f\"],[0.2222222222222222,\"#7201a8\"],[0.3333333333333333,\"#9c179e\"],[0.4444444444444444,\"#bd3786\"],[0.5555555555555556,\"#d8576b\"],[0.6666666666666666,\"#ed7953\"],[0.7777777777777778,\"#fb9f3a\"],[0.8888888888888888,\"#fdca26\"],[1.0,\"#f0f921\"]]}],\"heatmap\":[{\"type\":\"heatmap\",\"colorbar\":{\"outlinewidth\":0,\"ticks\":\"\"},\"colorscale\":[[0.0,\"#0d0887\"],[0.1111111111111111,\"#46039f\"],[0.2222222222222222,\"#7201a8\"],[0.3333333333333333,\"#9c179e\"],[0.4444444444444444,\"#bd3786\"],[0.5555555555555556,\"#d8576b\"],[0.6666666666666666,\"#ed7953\"],[0.7777777777777778,\"#fb9f3a\"],[0.8888888888888888,\"#fdca26\"],[1.0,\"#f0f921\"]]}],\"heatmapgl\":[{\"type\":\"heatmapgl\",\"colorbar\":{\"outlinewidth\":0,\"ticks\":\"\"},\"colorscale\":[[0.0,\"#0d0887\"],[0.1111111111111111,\"#46039f\"],[0.2222222222222222,\"#7201a8\"],[0.3333333333333333,\"#9c179e\"],[0.4444444444444444,\"#bd3786\"],[0.5555555555555556,\"#d8576b\"],[0.6666666666666666,\"#ed7953\"],[0.7777777777777778,\"#fb9f3a\"],[0.8888888888888888,\"#fdca26\"],[1.0,\"#f0f921\"]]}],\"contourcarpet\":[{\"type\":\"contourcarpet\",\"colorbar\":{\"outlinewidth\":0,\"ticks\":\"\"}}],\"contour\":[{\"type\":\"contour\",\"colorbar\":{\"outlinewidth\":0,\"ticks\":\"\"},\"colorscale\":[[0.0,\"#0d0887\"],[0.1111111111111111,\"#46039f\"],[0.2222222222222222,\"#7201a8\"],[0.3333333333333333,\"#9c179e\"],[0.4444444444444444,\"#bd3786\"],[0.5555555555555556,\"#d8576b\"],[0.6666666666666666,\"#ed7953\"],[0.7777777777777778,\"#fb9f3a\"],[0.8888888888888888,\"#fdca26\"],[1.0,\"#f0f921\"]]}],\"surface\":[{\"type\":\"surface\",\"colorbar\":{\"outlinewidth\":0,\"ticks\":\"\"},\"colorscale\":[[0.0,\"#0d0887\"],[0.1111111111111111,\"#46039f\"],[0.2222222222222222,\"#7201a8\"],[0.3333333333333333,\"#9c179e\"],[0.4444444444444444,\"#bd3786\"],[0.5555555555555556,\"#d8576b\"],[0.6666666666666666,\"#ed7953\"],[0.7777777777777778,\"#fb9f3a\"],[0.8888888888888888,\"#fdca26\"],[1.0,\"#f0f921\"]]}],\"mesh3d\":[{\"type\":\"mesh3d\",\"colorbar\":{\"outlinewidth\":0,\"ticks\":\"\"}}],\"scatter\":[{\"fillpattern\":{\"fillmode\":\"overlay\",\"size\":10,\"solidity\":0.2},\"type\":\"scatter\"}],\"parcoords\":[{\"type\":\"parcoords\",\"line\":{\"colorbar\":{\"outlinewidth\":0,\"ticks\":\"\"}}}],\"scatterpolargl\":[{\"type\":\"scatterpolargl\",\"marker\":{\"colorbar\":{\"outlinewidth\":0,\"ticks\":\"\"}}}],\"bar\":[{\"error_x\":{\"color\":\"#2a3f5f\"},\"error_y\":{\"color\":\"#2a3f5f\"},\"marker\":{\"line\":{\"color\":\"#E5ECF6\",\"width\":0.5},\"pattern\":{\"fillmode\":\"overlay\",\"size\":10,\"solidity\":0.2}},\"type\":\"bar\"}],\"scattergeo\":[{\"type\":\"scattergeo\",\"marker\":{\"colorbar\":{\"outlinewidth\":0,\"ticks\":\"\"}}}],\"scatterpolar\":[{\"type\":\"scatterpolar\",\"marker\":{\"colorbar\":{\"outlinewidth\":0,\"ticks\":\"\"}}}],\"histogram\":[{\"marker\":{\"pattern\":{\"fillmode\":\"overlay\",\"size\":10,\"solidity\":0.2}},\"type\":\"histogram\"}],\"scattergl\":[{\"type\":\"scattergl\",\"marker\":{\"colorbar\":{\"outlinewidth\":0,\"ticks\":\"\"}}}],\"scatter3d\":[{\"type\":\"scatter3d\",\"line\":{\"colorbar\":{\"outlinewidth\":0,\"ticks\":\"\"}},\"marker\":{\"colorbar\":{\"outlinewidth\":0,\"ticks\":\"\"}}}],\"scattermapbox\":[{\"type\":\"scattermapbox\",\"marker\":{\"colorbar\":{\"outlinewidth\":0,\"ticks\":\"\"}}}],\"scatterternary\":[{\"type\":\"scatterternary\",\"marker\":{\"colorbar\":{\"outlinewidth\":0,\"ticks\":\"\"}}}],\"scattercarpet\":[{\"type\":\"scattercarpet\",\"marker\":{\"colorbar\":{\"outlinewidth\":0,\"ticks\":\"\"}}}],\"carpet\":[{\"aaxis\":{\"endlinecolor\":\"#2a3f5f\",\"gridcolor\":\"white\",\"linecolor\":\"white\",\"minorgridcolor\":\"white\",\"startlinecolor\":\"#2a3f5f\"},\"baxis\":{\"endlinecolor\":\"#2a3f5f\",\"gridcolor\":\"white\",\"linecolor\":\"white\",\"minorgridcolor\":\"white\",\"startlinecolor\":\"#2a3f5f\"},\"type\":\"carpet\"}],\"table\":[{\"cells\":{\"fill\":{\"color\":\"#EBF0F8\"},\"line\":{\"color\":\"white\"}},\"header\":{\"fill\":{\"color\":\"#C8D4E3\"},\"line\":{\"color\":\"white\"}},\"type\":\"table\"}],\"barpolar\":[{\"marker\":{\"line\":{\"color\":\"#E5ECF6\",\"width\":0.5},\"pattern\":{\"fillmode\":\"overlay\",\"size\":10,\"solidity\":0.2}},\"type\":\"barpolar\"}],\"pie\":[{\"automargin\":true,\"type\":\"pie\"}]},\"layout\":{\"autotypenumbers\":\"strict\",\"colorway\":[\"#636efa\",\"#EF553B\",\"#00cc96\",\"#ab63fa\",\"#FFA15A\",\"#19d3f3\",\"#FF6692\",\"#B6E880\",\"#FF97FF\",\"#FECB52\"],\"font\":{\"color\":\"#2a3f5f\"},\"hovermode\":\"closest\",\"hoverlabel\":{\"align\":\"left\"},\"paper_bgcolor\":\"white\",\"plot_bgcolor\":\"#E5ECF6\",\"polar\":{\"bgcolor\":\"#E5ECF6\",\"angularaxis\":{\"gridcolor\":\"white\",\"linecolor\":\"white\",\"ticks\":\"\"},\"radialaxis\":{\"gridcolor\":\"white\",\"linecolor\":\"white\",\"ticks\":\"\"}},\"ternary\":{\"bgcolor\":\"#E5ECF6\",\"aaxis\":{\"gridcolor\":\"white\",\"linecolor\":\"white\",\"ticks\":\"\"},\"baxis\":{\"gridcolor\":\"white\",\"linecolor\":\"white\",\"ticks\":\"\"},\"caxis\":{\"gridcolor\":\"white\",\"linecolor\":\"white\",\"ticks\":\"\"}},\"coloraxis\":{\"colorbar\":{\"outlinewidth\":0,\"ticks\":\"\"}},\"colorscale\":{\"sequential\":[[0.0,\"#0d0887\"],[0.1111111111111111,\"#46039f\"],[0.2222222222222222,\"#7201a8\"],[0.3333333333333333,\"#9c179e\"],[0.4444444444444444,\"#bd3786\"],[0.5555555555555556,\"#d8576b\"],[0.6666666666666666,\"#ed7953\"],[0.7777777777777778,\"#fb9f3a\"],[0.8888888888888888,\"#fdca26\"],[1.0,\"#f0f921\"]],\"sequentialminus\":[[0.0,\"#0d0887\"],[0.1111111111111111,\"#46039f\"],[0.2222222222222222,\"#7201a8\"],[0.3333333333333333,\"#9c179e\"],[0.4444444444444444,\"#bd3786\"],[0.5555555555555556,\"#d8576b\"],[0.6666666666666666,\"#ed7953\"],[0.7777777777777778,\"#fb9f3a\"],[0.8888888888888888,\"#fdca26\"],[1.0,\"#f0f921\"]],\"diverging\":[[0,\"#8e0152\"],[0.1,\"#c51b7d\"],[0.2,\"#de77ae\"],[0.3,\"#f1b6da\"],[0.4,\"#fde0ef\"],[0.5,\"#f7f7f7\"],[0.6,\"#e6f5d0\"],[0.7,\"#b8e186\"],[0.8,\"#7fbc41\"],[0.9,\"#4d9221\"],[1,\"#276419\"]]},\"xaxis\":{\"gridcolor\":\"white\",\"linecolor\":\"white\",\"ticks\":\"\",\"title\":{\"standoff\":15},\"zerolinecolor\":\"white\",\"automargin\":true,\"zerolinewidth\":2},\"yaxis\":{\"gridcolor\":\"white\",\"linecolor\":\"white\",\"ticks\":\"\",\"title\":{\"standoff\":15},\"zerolinecolor\":\"white\",\"automargin\":true,\"zerolinewidth\":2},\"scene\":{\"xaxis\":{\"backgroundcolor\":\"#E5ECF6\",\"gridcolor\":\"white\",\"linecolor\":\"white\",\"showbackground\":true,\"ticks\":\"\",\"zerolinecolor\":\"white\",\"gridwidth\":2},\"yaxis\":{\"backgroundcolor\":\"#E5ECF6\",\"gridcolor\":\"white\",\"linecolor\":\"white\",\"showbackground\":true,\"ticks\":\"\",\"zerolinecolor\":\"white\",\"gridwidth\":2},\"zaxis\":{\"backgroundcolor\":\"#E5ECF6\",\"gridcolor\":\"white\",\"linecolor\":\"white\",\"showbackground\":true,\"ticks\":\"\",\"zerolinecolor\":\"white\",\"gridwidth\":2}},\"shapedefaults\":{\"line\":{\"color\":\"#2a3f5f\"}},\"annotationdefaults\":{\"arrowcolor\":\"#2a3f5f\",\"arrowhead\":0,\"arrowwidth\":1},\"geo\":{\"bgcolor\":\"white\",\"landcolor\":\"#E5ECF6\",\"subunitcolor\":\"white\",\"showland\":true,\"showlakes\":true,\"lakecolor\":\"white\"},\"title\":{\"x\":0.05},\"mapbox\":{\"style\":\"light\"}}},\"yaxis\":{\"gridcolor\":\"#1f292f\"},\"xaxis\":{\"rangeslider\":{\"visible\":false},\"gridcolor\":\"#1f292f\",\"nticks\":5},\"margin\":{\"l\":10,\"r\":10,\"b\":10,\"t\":10},\"font\":{\"size\":8,\"color\":\"#e1e1e1\"},\"width\":900,\"height\":400,\"paper_bgcolor\":\"#2c303c\",\"plot_bgcolor\":\"#2c303c\"},                        {\"responsive\": true}                    ).then(function(){\n",
       "                            \n",
       "var gd = document.getElementById('f0d31865-1d96-4e14-adef-ee394a38d3b5');\n",
       "var x = new MutationObserver(function (mutations, observer) {{\n",
       "        var display = window.getComputedStyle(gd).display;\n",
       "        if (!display || display === 'none') {{\n",
       "            console.log([gd, 'removed!']);\n",
       "            Plotly.purge(gd);\n",
       "            observer.disconnect();\n",
       "        }}\n",
       "}});\n",
       "\n",
       "// Listen for the removal of the full notebook cells\n",
       "var notebookContainer = gd.closest('#notebook-container');\n",
       "if (notebookContainer) {{\n",
       "    x.observe(notebookContainer, {childList: true});\n",
       "}}\n",
       "\n",
       "// Listen for the clearing of the current output cell\n",
       "var outputEl = gd.closest('.output');\n",
       "if (outputEl) {{\n",
       "    x.observe(outputEl, {childList: true});\n",
       "}}\n",
       "\n",
       "                        })                };                });            </script>        </div>"
      ]
     },
     "metadata": {},
     "output_type": "display_data"
    },
    {
     "name": "stdout",
     "output_type": "stream",
     "text": [
      "AUD_JPY 1073\n"
     ]
    },
    {
     "data": {
      "application/vnd.plotly.v1+json": {
       "config": {
        "plotlyServerURL": "https://plot.ly"
       },
       "data": [
        {
         "line": {
          "shape": "spline",
          "width": 2
         },
         "name": "GAIN_C",
         "type": "scatter",
         "x": [
          "s21-12-13 07:00",
          "s21-12-13 08:00",
          "s21-12-13 10:00",
          "s21-12-14 14:00",
          "s21-12-14 21:00",
          "s21-12-15 06:00",
          "s21-12-16 21:00",
          "s21-12-20 18:00",
          "s21-12-22 08:00",
          "s21-12-22 12:00",
          "s21-12-24 05:00",
          "s21-12-27 04:00",
          "s21-12-28 18:00",
          "s21-12-29 08:00",
          "s21-12-30 22:00",
          "s21-12-31 09:00",
          "s22-01-03 07:00",
          "s22-01-04 05:00",
          "s22-01-05 07:00",
          "s22-01-05 16:00",
          "s22-01-06 01:00",
          "s22-01-07 00:00",
          "s22-01-07 10:00",
          "s22-01-09 22:00",
          "s22-01-10 14:00",
          "s22-01-11 04:00",
          "s22-01-13 17:00",
          "s22-01-17 05:00",
          "s22-01-18 10:00",
          "s22-01-19 12:00",
          "s22-01-20 22:00",
          "s22-01-25 00:00",
          "s22-01-25 12:00",
          "s22-01-25 20:00",
          "s22-01-27 00:00",
          "s22-01-27 14:00",
          "s22-01-27 22:00",
          "s22-01-31 02:00",
          "s22-02-01 00:00",
          "s22-02-01 13:00",
          "s22-02-02 13:00",
          "s22-02-03 11:00",
          "s22-02-04 08:00",
          "s22-02-07 01:00",
          "s22-02-10 05:00",
          "s22-02-10 09:00",
          "s22-02-11 01:00",
          "s22-02-11 16:00",
          "s22-02-11 22:00",
          "s22-02-14 19:00",
          "s22-02-15 06:00",
          "s22-02-15 13:00",
          "s22-02-17 08:00",
          "s22-02-18 06:00",
          "s22-02-18 18:00",
          "s22-02-21 05:00",
          "s22-02-21 18:00",
          "s22-02-22 10:00",
          "s22-02-23 22:00",
          "s22-02-24 21:00",
          "s22-02-28 02:00",
          "s22-02-28 13:00",
          "s22-03-01 16:00",
          "s22-03-02 04:00",
          "s22-03-04 00:00",
          "s22-03-04 05:00",
          "s22-03-04 18:00",
          "s22-03-07 02:00",
          "s22-03-07 16:00",
          "s22-03-09 02:00",
          "s22-03-09 03:00",
          "s22-03-09 04:00",
          "s22-03-10 02:00",
          "s22-03-10 04:00",
          "s22-03-11 21:00",
          "s22-03-15 17:00",
          "s22-03-21 09:00",
          "s22-03-21 19:00",
          "s22-03-23 13:00",
          "s22-03-23 16:00",
          "s22-03-25 07:00",
          "s22-03-25 18:00",
          "s22-03-28 19:00",
          "s22-03-29 07:00",
          "s22-03-29 08:00",
          "s22-04-01 01:00",
          "s22-04-03 23:00",
          "s22-04-04 06:00",
          "s22-04-06 01:00",
          "s22-04-06 08:00",
          "s22-04-06 15:00",
          "s22-04-07 18:00",
          "s22-04-08 08:00",
          "s22-04-08 19:00",
          "s22-04-11 21:00",
          "s22-04-12 08:00",
          "s22-04-13 13:00",
          "s22-04-14 00:00",
          "s22-04-14 08:00",
          "s22-04-14 22:00",
          "s22-04-15 18:00",
          "s22-04-18 19:00",
          "s22-04-20 12:00",
          "s22-04-21 01:00",
          "s22-04-21 14:00",
          "s22-04-26 01:00",
          "s22-04-26 14:00",
          "s22-04-27 06:00",
          "s22-04-27 18:00",
          "s22-04-28 00:00",
          "s22-04-29 15:00",
          "s22-05-02 11:00",
          "s22-05-02 16:00",
          "s22-05-03 02:00",
          "s22-05-03 19:00",
          "s22-05-04 02:00",
          "s22-05-05 13:00",
          "s22-05-06 08:00",
          "s22-05-06 11:00",
          "s22-05-10 10:00",
          "s22-05-10 15:00",
          "s22-05-11 02:00",
          "s22-05-11 19:00",
          "s22-05-13 03:00",
          "s22-05-16 06:00",
          "s22-05-16 15:00",
          "s22-05-17 23:00",
          "s22-05-19 07:00",
          "s22-05-19 14:00",
          "s22-05-19 18:00",
          "s22-05-20 06:00",
          "s22-05-20 10:00",
          "s22-05-20 20:00",
          "s22-05-23 03:00",
          "s22-05-24 02:00",
          "s22-05-25 02:00",
          "s22-05-25 12:00",
          "s22-05-25 22:00",
          "s22-05-26 08:00",
          "s22-05-26 19:00",
          "s22-06-02 04:00",
          "s22-06-02 13:00",
          "s22-06-03 09:00",
          "s22-06-03 13:00",
          "s22-06-06 00:00",
          "s22-06-06 12:00",
          "s22-06-09 03:00",
          "s22-06-14 05:00",
          "s22-06-14 13:00",
          "s22-06-15 01:00",
          "s22-06-16 10:00",
          "s22-06-17 00:00",
          "s22-06-17 18:00",
          "s22-06-20 05:00",
          "s22-06-20 21:00",
          "s22-06-21 05:00",
          "s22-06-22 04:00",
          "s22-06-22 20:00",
          "s22-06-23 03:00",
          "s22-06-24 04:00",
          "s22-06-27 04:00",
          "s22-06-27 13:00",
          "s22-06-28 02:00",
          "s22-06-28 06:00",
          "s22-06-28 22:00",
          "s22-06-29 17:00",
          "s22-06-30 06:00",
          "s22-07-04 00:00",
          "s22-07-05 10:00",
          "s22-07-06 03:00",
          "s22-07-06 07:00",
          "s22-07-06 19:00",
          "s22-07-08 05:00",
          "s22-07-08 15:00",
          "s22-07-11 11:00",
          "s22-07-12 19:00",
          "s22-07-14 01:00",
          "s22-07-14 04:00",
          "s22-07-14 19:00",
          "s22-07-14 23:00",
          "s22-07-15 09:00",
          "s22-07-15 16:00",
          "s22-07-18 22:00",
          "s22-07-19 07:00",
          "s22-07-20 16:00",
          "s22-07-21 04:00",
          "s22-07-21 15:00"
         ],
         "y": [
          1.999999999999602,
          -12.400000000000944,
          -8.200000000000784,
          -22.700000000000387,
          -35.00000000000085,
          37.79999999999859,
          117.99999999999784,
          196.59999999999798,
          174.69999999999857,
          260.499999999999,
          255.9999999999988,
          268.8999999999979,
          243.99999999999693,
          266.7999999999964,
          240.49999999999585,
          240.5999999999949,
          258.1999999999951,
          303.99999999999494,
          283.0999999999946,
          230.99999999999454,
          280.59999999999405,
          258.1999999999937,
          248.79999999999285,
          204.6999999999926,
          179.29999999999353,
          211.69999999999476,
          278.1999999999954,
          275.19999999999527,
          262.39999999999526,
          248.59999999999474,
          332.7999999999946,
          299.19999999999476,
          274.7999999999948,
          263.6999999999958,
          235.79999999999615,
          177.79999999999632,
          178.99999999999636,
          208.39999999999606,
          199.3999999999957,
          217.59999999999593,
          212.59999999999621,
          225.59999999999576,
          247.79999999999518,
          379.7999999999945,
          349.2999999999938,
          318.9999999999941,
          291.39999999999446,
          198.49999999999426,
          190.09999999999394,
          155.3999999999931,
          93.59999999999218,
          109.3999999999923,
          83.59999999999275,
          37.99999999999244,
          4.199999999991633,
          -28.100000000009118,
          -71.00000000000932,
          -62.900000000009015,
          -25.20000000000806,
          -14.200000000008117,
          -69.20000000000925,
          -83.6000000000098,
          -119.60000000000974,
          -49.000000000009436,
          -108.00000000000978,
          -133.00000000000978,
          -184.20000000000982,
          -251.60000000001048,
          -229.00000000001057,
          -232.6000000000107,
          -246.00000000001074,
          -192.60000000001014,
          -205.40000000001015,
          -156.6000000000102,
          -109.3000000000103,
          189.5999999999887,
          152.89999999998827,
          318.79999999998745,
          248.19999999998714,
          313.4999999999877,
          269.3999999999875,
          363.39999999998724,
          374.9999999999872,
          363.09999999998723,
          464.7999999999868,
          489.59999999998587,
          450.79999999998535,
          605.7999999999851,
          594.199999999985,
          539.7999999999854,
          593.2999999999851,
          578.5999999999844,
          567.699999999985,
          598.3999999999853,
          568.1999999999846,
          555.9999999999845,
          521.6999999999856,
          505.5999999999869,
          505.5999999999869,
          508.79999999998654,
          524.3999999999871,
          702.0999999999872,
          664.5999999999872,
          628.3999999999877,
          969.7999999999879,
          901.9999999999882,
          827.1999999999891,
          792.5999999999901,
          761.2999999999913,
          811.5999999999913,
          852.1999999999905,
          837.1999999999899,
          774.2999999999895,
          781.7999999999897,
          760.5999999999894,
          834.9999999999894,
          918.7999999999902,
          920.9999999999907,
          1118.1999999999916,
          1084.6999999999923,
          1037.799999999993,
          981.8999999999932,
          1106.4999999999927,
          1098.799999999993,
          1008.1999999999937,
          1139.3999999999935,
          1271.0999999999929,
          1286.899999999993,
          1248.199999999993,
          1230.7999999999925,
          1189.3999999999924,
          1161.4999999999927,
          1148.7999999999931,
          1161.799999999994,
          1186.399999999995,
          1125.7999999999956,
          1058.0999999999963,
          1005.9999999999961,
          962.9999999999955,
          1264.699999999995,
          1202.7999999999952,
          1257.799999999995,
          1245.299999999995,
          1218.5999999999954,
          1187.3999999999955,
          1353.1999999999957,
          1592.7999999999959,
          1480.3999999999965,
          1398.8999999999967,
          1315.9999999999973,
          1228.6999999999982,
          1237.499999999999,
          1190.1000000000001,
          1175.8000000000015,
          1170.2000000000019,
          1205.8000000000013,
          1205.8000000000013,
          1099.2000000000012,
          1108.400000000001,
          1125.6000000000008,
          1097.0000000000007,
          1099.4000000000008,
          1035.2000000000012,
          1009.6000000000026,
          1012.4000000000033,
          990.000000000003,
          1171.1000000000022,
          1215.9000000000015,
          1248.0000000000014,
          1259.1000000000017,
          1261.8000000000018,
          1298.2000000000007,
          1215.4000000000005,
          1172.6000000000008,
          1220.8000000000006,
          1288.4000000000008,
          1245.4000000000015,
          1256.7000000000014,
          1237.4,
          1208.0999999999995,
          1162.9999999999986,
          1170.299999999998,
          1107.499999999998,
          1147.7999999999986,
          1110.6999999999991,
          1073.1999999999991,
          1073.1999999999991
         ]
        }
       ],
       "layout": {
        "font": {
         "color": "#e1e1e1",
         "size": 8
        },
        "height": 400,
        "margin": {
         "b": 10,
         "l": 10,
         "r": 10,
         "t": 10
        },
        "paper_bgcolor": "#2c303c",
        "plot_bgcolor": "#2c303c",
        "template": {
         "data": {
          "bar": [
           {
            "error_x": {
             "color": "#2a3f5f"
            },
            "error_y": {
             "color": "#2a3f5f"
            },
            "marker": {
             "line": {
              "color": "#E5ECF6",
              "width": 0.5
             },
             "pattern": {
              "fillmode": "overlay",
              "size": 10,
              "solidity": 0.2
             }
            },
            "type": "bar"
           }
          ],
          "barpolar": [
           {
            "marker": {
             "line": {
              "color": "#E5ECF6",
              "width": 0.5
             },
             "pattern": {
              "fillmode": "overlay",
              "size": 10,
              "solidity": 0.2
             }
            },
            "type": "barpolar"
           }
          ],
          "carpet": [
           {
            "aaxis": {
             "endlinecolor": "#2a3f5f",
             "gridcolor": "white",
             "linecolor": "white",
             "minorgridcolor": "white",
             "startlinecolor": "#2a3f5f"
            },
            "baxis": {
             "endlinecolor": "#2a3f5f",
             "gridcolor": "white",
             "linecolor": "white",
             "minorgridcolor": "white",
             "startlinecolor": "#2a3f5f"
            },
            "type": "carpet"
           }
          ],
          "choropleth": [
           {
            "colorbar": {
             "outlinewidth": 0,
             "ticks": ""
            },
            "type": "choropleth"
           }
          ],
          "contour": [
           {
            "colorbar": {
             "outlinewidth": 0,
             "ticks": ""
            },
            "colorscale": [
             [
              0,
              "#0d0887"
             ],
             [
              0.1111111111111111,
              "#46039f"
             ],
             [
              0.2222222222222222,
              "#7201a8"
             ],
             [
              0.3333333333333333,
              "#9c179e"
             ],
             [
              0.4444444444444444,
              "#bd3786"
             ],
             [
              0.5555555555555556,
              "#d8576b"
             ],
             [
              0.6666666666666666,
              "#ed7953"
             ],
             [
              0.7777777777777778,
              "#fb9f3a"
             ],
             [
              0.8888888888888888,
              "#fdca26"
             ],
             [
              1,
              "#f0f921"
             ]
            ],
            "type": "contour"
           }
          ],
          "contourcarpet": [
           {
            "colorbar": {
             "outlinewidth": 0,
             "ticks": ""
            },
            "type": "contourcarpet"
           }
          ],
          "heatmap": [
           {
            "colorbar": {
             "outlinewidth": 0,
             "ticks": ""
            },
            "colorscale": [
             [
              0,
              "#0d0887"
             ],
             [
              0.1111111111111111,
              "#46039f"
             ],
             [
              0.2222222222222222,
              "#7201a8"
             ],
             [
              0.3333333333333333,
              "#9c179e"
             ],
             [
              0.4444444444444444,
              "#bd3786"
             ],
             [
              0.5555555555555556,
              "#d8576b"
             ],
             [
              0.6666666666666666,
              "#ed7953"
             ],
             [
              0.7777777777777778,
              "#fb9f3a"
             ],
             [
              0.8888888888888888,
              "#fdca26"
             ],
             [
              1,
              "#f0f921"
             ]
            ],
            "type": "heatmap"
           }
          ],
          "heatmapgl": [
           {
            "colorbar": {
             "outlinewidth": 0,
             "ticks": ""
            },
            "colorscale": [
             [
              0,
              "#0d0887"
             ],
             [
              0.1111111111111111,
              "#46039f"
             ],
             [
              0.2222222222222222,
              "#7201a8"
             ],
             [
              0.3333333333333333,
              "#9c179e"
             ],
             [
              0.4444444444444444,
              "#bd3786"
             ],
             [
              0.5555555555555556,
              "#d8576b"
             ],
             [
              0.6666666666666666,
              "#ed7953"
             ],
             [
              0.7777777777777778,
              "#fb9f3a"
             ],
             [
              0.8888888888888888,
              "#fdca26"
             ],
             [
              1,
              "#f0f921"
             ]
            ],
            "type": "heatmapgl"
           }
          ],
          "histogram": [
           {
            "marker": {
             "pattern": {
              "fillmode": "overlay",
              "size": 10,
              "solidity": 0.2
             }
            },
            "type": "histogram"
           }
          ],
          "histogram2d": [
           {
            "colorbar": {
             "outlinewidth": 0,
             "ticks": ""
            },
            "colorscale": [
             [
              0,
              "#0d0887"
             ],
             [
              0.1111111111111111,
              "#46039f"
             ],
             [
              0.2222222222222222,
              "#7201a8"
             ],
             [
              0.3333333333333333,
              "#9c179e"
             ],
             [
              0.4444444444444444,
              "#bd3786"
             ],
             [
              0.5555555555555556,
              "#d8576b"
             ],
             [
              0.6666666666666666,
              "#ed7953"
             ],
             [
              0.7777777777777778,
              "#fb9f3a"
             ],
             [
              0.8888888888888888,
              "#fdca26"
             ],
             [
              1,
              "#f0f921"
             ]
            ],
            "type": "histogram2d"
           }
          ],
          "histogram2dcontour": [
           {
            "colorbar": {
             "outlinewidth": 0,
             "ticks": ""
            },
            "colorscale": [
             [
              0,
              "#0d0887"
             ],
             [
              0.1111111111111111,
              "#46039f"
             ],
             [
              0.2222222222222222,
              "#7201a8"
             ],
             [
              0.3333333333333333,
              "#9c179e"
             ],
             [
              0.4444444444444444,
              "#bd3786"
             ],
             [
              0.5555555555555556,
              "#d8576b"
             ],
             [
              0.6666666666666666,
              "#ed7953"
             ],
             [
              0.7777777777777778,
              "#fb9f3a"
             ],
             [
              0.8888888888888888,
              "#fdca26"
             ],
             [
              1,
              "#f0f921"
             ]
            ],
            "type": "histogram2dcontour"
           }
          ],
          "mesh3d": [
           {
            "colorbar": {
             "outlinewidth": 0,
             "ticks": ""
            },
            "type": "mesh3d"
           }
          ],
          "parcoords": [
           {
            "line": {
             "colorbar": {
              "outlinewidth": 0,
              "ticks": ""
             }
            },
            "type": "parcoords"
           }
          ],
          "pie": [
           {
            "automargin": true,
            "type": "pie"
           }
          ],
          "scatter": [
           {
            "fillpattern": {
             "fillmode": "overlay",
             "size": 10,
             "solidity": 0.2
            },
            "type": "scatter"
           }
          ],
          "scatter3d": [
           {
            "line": {
             "colorbar": {
              "outlinewidth": 0,
              "ticks": ""
             }
            },
            "marker": {
             "colorbar": {
              "outlinewidth": 0,
              "ticks": ""
             }
            },
            "type": "scatter3d"
           }
          ],
          "scattercarpet": [
           {
            "marker": {
             "colorbar": {
              "outlinewidth": 0,
              "ticks": ""
             }
            },
            "type": "scattercarpet"
           }
          ],
          "scattergeo": [
           {
            "marker": {
             "colorbar": {
              "outlinewidth": 0,
              "ticks": ""
             }
            },
            "type": "scattergeo"
           }
          ],
          "scattergl": [
           {
            "marker": {
             "colorbar": {
              "outlinewidth": 0,
              "ticks": ""
             }
            },
            "type": "scattergl"
           }
          ],
          "scattermapbox": [
           {
            "marker": {
             "colorbar": {
              "outlinewidth": 0,
              "ticks": ""
             }
            },
            "type": "scattermapbox"
           }
          ],
          "scatterpolar": [
           {
            "marker": {
             "colorbar": {
              "outlinewidth": 0,
              "ticks": ""
             }
            },
            "type": "scatterpolar"
           }
          ],
          "scatterpolargl": [
           {
            "marker": {
             "colorbar": {
              "outlinewidth": 0,
              "ticks": ""
             }
            },
            "type": "scatterpolargl"
           }
          ],
          "scatterternary": [
           {
            "marker": {
             "colorbar": {
              "outlinewidth": 0,
              "ticks": ""
             }
            },
            "type": "scatterternary"
           }
          ],
          "surface": [
           {
            "colorbar": {
             "outlinewidth": 0,
             "ticks": ""
            },
            "colorscale": [
             [
              0,
              "#0d0887"
             ],
             [
              0.1111111111111111,
              "#46039f"
             ],
             [
              0.2222222222222222,
              "#7201a8"
             ],
             [
              0.3333333333333333,
              "#9c179e"
             ],
             [
              0.4444444444444444,
              "#bd3786"
             ],
             [
              0.5555555555555556,
              "#d8576b"
             ],
             [
              0.6666666666666666,
              "#ed7953"
             ],
             [
              0.7777777777777778,
              "#fb9f3a"
             ],
             [
              0.8888888888888888,
              "#fdca26"
             ],
             [
              1,
              "#f0f921"
             ]
            ],
            "type": "surface"
           }
          ],
          "table": [
           {
            "cells": {
             "fill": {
              "color": "#EBF0F8"
             },
             "line": {
              "color": "white"
             }
            },
            "header": {
             "fill": {
              "color": "#C8D4E3"
             },
             "line": {
              "color": "white"
             }
            },
            "type": "table"
           }
          ]
         },
         "layout": {
          "annotationdefaults": {
           "arrowcolor": "#2a3f5f",
           "arrowhead": 0,
           "arrowwidth": 1
          },
          "autotypenumbers": "strict",
          "coloraxis": {
           "colorbar": {
            "outlinewidth": 0,
            "ticks": ""
           }
          },
          "colorscale": {
           "diverging": [
            [
             0,
             "#8e0152"
            ],
            [
             0.1,
             "#c51b7d"
            ],
            [
             0.2,
             "#de77ae"
            ],
            [
             0.3,
             "#f1b6da"
            ],
            [
             0.4,
             "#fde0ef"
            ],
            [
             0.5,
             "#f7f7f7"
            ],
            [
             0.6,
             "#e6f5d0"
            ],
            [
             0.7,
             "#b8e186"
            ],
            [
             0.8,
             "#7fbc41"
            ],
            [
             0.9,
             "#4d9221"
            ],
            [
             1,
             "#276419"
            ]
           ],
           "sequential": [
            [
             0,
             "#0d0887"
            ],
            [
             0.1111111111111111,
             "#46039f"
            ],
            [
             0.2222222222222222,
             "#7201a8"
            ],
            [
             0.3333333333333333,
             "#9c179e"
            ],
            [
             0.4444444444444444,
             "#bd3786"
            ],
            [
             0.5555555555555556,
             "#d8576b"
            ],
            [
             0.6666666666666666,
             "#ed7953"
            ],
            [
             0.7777777777777778,
             "#fb9f3a"
            ],
            [
             0.8888888888888888,
             "#fdca26"
            ],
            [
             1,
             "#f0f921"
            ]
           ],
           "sequentialminus": [
            [
             0,
             "#0d0887"
            ],
            [
             0.1111111111111111,
             "#46039f"
            ],
            [
             0.2222222222222222,
             "#7201a8"
            ],
            [
             0.3333333333333333,
             "#9c179e"
            ],
            [
             0.4444444444444444,
             "#bd3786"
            ],
            [
             0.5555555555555556,
             "#d8576b"
            ],
            [
             0.6666666666666666,
             "#ed7953"
            ],
            [
             0.7777777777777778,
             "#fb9f3a"
            ],
            [
             0.8888888888888888,
             "#fdca26"
            ],
            [
             1,
             "#f0f921"
            ]
           ]
          },
          "colorway": [
           "#636efa",
           "#EF553B",
           "#00cc96",
           "#ab63fa",
           "#FFA15A",
           "#19d3f3",
           "#FF6692",
           "#B6E880",
           "#FF97FF",
           "#FECB52"
          ],
          "font": {
           "color": "#2a3f5f"
          },
          "geo": {
           "bgcolor": "white",
           "lakecolor": "white",
           "landcolor": "#E5ECF6",
           "showlakes": true,
           "showland": true,
           "subunitcolor": "white"
          },
          "hoverlabel": {
           "align": "left"
          },
          "hovermode": "closest",
          "mapbox": {
           "style": "light"
          },
          "paper_bgcolor": "white",
          "plot_bgcolor": "#E5ECF6",
          "polar": {
           "angularaxis": {
            "gridcolor": "white",
            "linecolor": "white",
            "ticks": ""
           },
           "bgcolor": "#E5ECF6",
           "radialaxis": {
            "gridcolor": "white",
            "linecolor": "white",
            "ticks": ""
           }
          },
          "scene": {
           "xaxis": {
            "backgroundcolor": "#E5ECF6",
            "gridcolor": "white",
            "gridwidth": 2,
            "linecolor": "white",
            "showbackground": true,
            "ticks": "",
            "zerolinecolor": "white"
           },
           "yaxis": {
            "backgroundcolor": "#E5ECF6",
            "gridcolor": "white",
            "gridwidth": 2,
            "linecolor": "white",
            "showbackground": true,
            "ticks": "",
            "zerolinecolor": "white"
           },
           "zaxis": {
            "backgroundcolor": "#E5ECF6",
            "gridcolor": "white",
            "gridwidth": 2,
            "linecolor": "white",
            "showbackground": true,
            "ticks": "",
            "zerolinecolor": "white"
           }
          },
          "shapedefaults": {
           "line": {
            "color": "#2a3f5f"
           }
          },
          "ternary": {
           "aaxis": {
            "gridcolor": "white",
            "linecolor": "white",
            "ticks": ""
           },
           "baxis": {
            "gridcolor": "white",
            "linecolor": "white",
            "ticks": ""
           },
           "bgcolor": "#E5ECF6",
           "caxis": {
            "gridcolor": "white",
            "linecolor": "white",
            "ticks": ""
           }
          },
          "title": {
           "x": 0.05
          },
          "xaxis": {
           "automargin": true,
           "gridcolor": "white",
           "linecolor": "white",
           "ticks": "",
           "title": {
            "standoff": 15
           },
           "zerolinecolor": "white",
           "zerolinewidth": 2
          },
          "yaxis": {
           "automargin": true,
           "gridcolor": "white",
           "linecolor": "white",
           "ticks": "",
           "title": {
            "standoff": 15
           },
           "zerolinecolor": "white",
           "zerolinewidth": 2
          }
         }
        },
        "width": 900,
        "xaxis": {
         "gridcolor": "#1f292f",
         "nticks": 5,
         "rangeslider": {
          "visible": false
         }
        },
        "yaxis": {
         "gridcolor": "#1f292f"
        }
       }
      },
      "text/html": [
       "<div>                            <div id=\"3945f346-91ac-477f-805a-6749608164ca\" class=\"plotly-graph-div\" style=\"height:400px; width:900px;\"></div>            <script type=\"text/javascript\">                require([\"plotly\"], function(Plotly) {                    window.PLOTLYENV=window.PLOTLYENV || {};                                    if (document.getElementById(\"3945f346-91ac-477f-805a-6749608164ca\")) {                    Plotly.newPlot(                        \"3945f346-91ac-477f-805a-6749608164ca\",                        [{\"line\":{\"shape\":\"spline\",\"width\":2},\"name\":\"GAIN_C\",\"x\":[\"s21-12-13 07:00\",\"s21-12-13 08:00\",\"s21-12-13 10:00\",\"s21-12-14 14:00\",\"s21-12-14 21:00\",\"s21-12-15 06:00\",\"s21-12-16 21:00\",\"s21-12-20 18:00\",\"s21-12-22 08:00\",\"s21-12-22 12:00\",\"s21-12-24 05:00\",\"s21-12-27 04:00\",\"s21-12-28 18:00\",\"s21-12-29 08:00\",\"s21-12-30 22:00\",\"s21-12-31 09:00\",\"s22-01-03 07:00\",\"s22-01-04 05:00\",\"s22-01-05 07:00\",\"s22-01-05 16:00\",\"s22-01-06 01:00\",\"s22-01-07 00:00\",\"s22-01-07 10:00\",\"s22-01-09 22:00\",\"s22-01-10 14:00\",\"s22-01-11 04:00\",\"s22-01-13 17:00\",\"s22-01-17 05:00\",\"s22-01-18 10:00\",\"s22-01-19 12:00\",\"s22-01-20 22:00\",\"s22-01-25 00:00\",\"s22-01-25 12:00\",\"s22-01-25 20:00\",\"s22-01-27 00:00\",\"s22-01-27 14:00\",\"s22-01-27 22:00\",\"s22-01-31 02:00\",\"s22-02-01 00:00\",\"s22-02-01 13:00\",\"s22-02-02 13:00\",\"s22-02-03 11:00\",\"s22-02-04 08:00\",\"s22-02-07 01:00\",\"s22-02-10 05:00\",\"s22-02-10 09:00\",\"s22-02-11 01:00\",\"s22-02-11 16:00\",\"s22-02-11 22:00\",\"s22-02-14 19:00\",\"s22-02-15 06:00\",\"s22-02-15 13:00\",\"s22-02-17 08:00\",\"s22-02-18 06:00\",\"s22-02-18 18:00\",\"s22-02-21 05:00\",\"s22-02-21 18:00\",\"s22-02-22 10:00\",\"s22-02-23 22:00\",\"s22-02-24 21:00\",\"s22-02-28 02:00\",\"s22-02-28 13:00\",\"s22-03-01 16:00\",\"s22-03-02 04:00\",\"s22-03-04 00:00\",\"s22-03-04 05:00\",\"s22-03-04 18:00\",\"s22-03-07 02:00\",\"s22-03-07 16:00\",\"s22-03-09 02:00\",\"s22-03-09 03:00\",\"s22-03-09 04:00\",\"s22-03-10 02:00\",\"s22-03-10 04:00\",\"s22-03-11 21:00\",\"s22-03-15 17:00\",\"s22-03-21 09:00\",\"s22-03-21 19:00\",\"s22-03-23 13:00\",\"s22-03-23 16:00\",\"s22-03-25 07:00\",\"s22-03-25 18:00\",\"s22-03-28 19:00\",\"s22-03-29 07:00\",\"s22-03-29 08:00\",\"s22-04-01 01:00\",\"s22-04-03 23:00\",\"s22-04-04 06:00\",\"s22-04-06 01:00\",\"s22-04-06 08:00\",\"s22-04-06 15:00\",\"s22-04-07 18:00\",\"s22-04-08 08:00\",\"s22-04-08 19:00\",\"s22-04-11 21:00\",\"s22-04-12 08:00\",\"s22-04-13 13:00\",\"s22-04-14 00:00\",\"s22-04-14 08:00\",\"s22-04-14 22:00\",\"s22-04-15 18:00\",\"s22-04-18 19:00\",\"s22-04-20 12:00\",\"s22-04-21 01:00\",\"s22-04-21 14:00\",\"s22-04-26 01:00\",\"s22-04-26 14:00\",\"s22-04-27 06:00\",\"s22-04-27 18:00\",\"s22-04-28 00:00\",\"s22-04-29 15:00\",\"s22-05-02 11:00\",\"s22-05-02 16:00\",\"s22-05-03 02:00\",\"s22-05-03 19:00\",\"s22-05-04 02:00\",\"s22-05-05 13:00\",\"s22-05-06 08:00\",\"s22-05-06 11:00\",\"s22-05-10 10:00\",\"s22-05-10 15:00\",\"s22-05-11 02:00\",\"s22-05-11 19:00\",\"s22-05-13 03:00\",\"s22-05-16 06:00\",\"s22-05-16 15:00\",\"s22-05-17 23:00\",\"s22-05-19 07:00\",\"s22-05-19 14:00\",\"s22-05-19 18:00\",\"s22-05-20 06:00\",\"s22-05-20 10:00\",\"s22-05-20 20:00\",\"s22-05-23 03:00\",\"s22-05-24 02:00\",\"s22-05-25 02:00\",\"s22-05-25 12:00\",\"s22-05-25 22:00\",\"s22-05-26 08:00\",\"s22-05-26 19:00\",\"s22-06-02 04:00\",\"s22-06-02 13:00\",\"s22-06-03 09:00\",\"s22-06-03 13:00\",\"s22-06-06 00:00\",\"s22-06-06 12:00\",\"s22-06-09 03:00\",\"s22-06-14 05:00\",\"s22-06-14 13:00\",\"s22-06-15 01:00\",\"s22-06-16 10:00\",\"s22-06-17 00:00\",\"s22-06-17 18:00\",\"s22-06-20 05:00\",\"s22-06-20 21:00\",\"s22-06-21 05:00\",\"s22-06-22 04:00\",\"s22-06-22 20:00\",\"s22-06-23 03:00\",\"s22-06-24 04:00\",\"s22-06-27 04:00\",\"s22-06-27 13:00\",\"s22-06-28 02:00\",\"s22-06-28 06:00\",\"s22-06-28 22:00\",\"s22-06-29 17:00\",\"s22-06-30 06:00\",\"s22-07-04 00:00\",\"s22-07-05 10:00\",\"s22-07-06 03:00\",\"s22-07-06 07:00\",\"s22-07-06 19:00\",\"s22-07-08 05:00\",\"s22-07-08 15:00\",\"s22-07-11 11:00\",\"s22-07-12 19:00\",\"s22-07-14 01:00\",\"s22-07-14 04:00\",\"s22-07-14 19:00\",\"s22-07-14 23:00\",\"s22-07-15 09:00\",\"s22-07-15 16:00\",\"s22-07-18 22:00\",\"s22-07-19 07:00\",\"s22-07-20 16:00\",\"s22-07-21 04:00\",\"s22-07-21 15:00\"],\"y\":[1.999999999999602,-12.400000000000944,-8.200000000000784,-22.700000000000387,-35.00000000000085,37.79999999999859,117.99999999999784,196.59999999999798,174.69999999999857,260.499999999999,255.9999999999988,268.8999999999979,243.99999999999693,266.7999999999964,240.49999999999585,240.5999999999949,258.1999999999951,303.99999999999494,283.0999999999946,230.99999999999454,280.59999999999405,258.1999999999937,248.79999999999285,204.6999999999926,179.29999999999353,211.69999999999476,278.1999999999954,275.19999999999527,262.39999999999526,248.59999999999474,332.7999999999946,299.19999999999476,274.7999999999948,263.6999999999958,235.79999999999615,177.79999999999632,178.99999999999636,208.39999999999606,199.3999999999957,217.59999999999593,212.59999999999621,225.59999999999576,247.79999999999518,379.7999999999945,349.2999999999938,318.9999999999941,291.39999999999446,198.49999999999426,190.09999999999394,155.3999999999931,93.59999999999218,109.3999999999923,83.59999999999275,37.99999999999244,4.199999999991633,-28.100000000009118,-71.00000000000932,-62.900000000009015,-25.20000000000806,-14.200000000008117,-69.20000000000925,-83.6000000000098,-119.60000000000974,-49.000000000009436,-108.00000000000978,-133.00000000000978,-184.20000000000982,-251.60000000001048,-229.00000000001057,-232.6000000000107,-246.00000000001074,-192.60000000001014,-205.40000000001015,-156.6000000000102,-109.3000000000103,189.5999999999887,152.89999999998827,318.79999999998745,248.19999999998714,313.4999999999877,269.3999999999875,363.39999999998724,374.9999999999872,363.09999999998723,464.7999999999868,489.59999999998587,450.79999999998535,605.7999999999851,594.199999999985,539.7999999999854,593.2999999999851,578.5999999999844,567.699999999985,598.3999999999853,568.1999999999846,555.9999999999845,521.6999999999856,505.5999999999869,505.5999999999869,508.79999999998654,524.3999999999871,702.0999999999872,664.5999999999872,628.3999999999877,969.7999999999879,901.9999999999882,827.1999999999891,792.5999999999901,761.2999999999913,811.5999999999913,852.1999999999905,837.1999999999899,774.2999999999895,781.7999999999897,760.5999999999894,834.9999999999894,918.7999999999902,920.9999999999907,1118.1999999999916,1084.6999999999923,1037.799999999993,981.8999999999932,1106.4999999999927,1098.799999999993,1008.1999999999937,1139.3999999999935,1271.0999999999929,1286.899999999993,1248.199999999993,1230.7999999999925,1189.3999999999924,1161.4999999999927,1148.7999999999931,1161.799999999994,1186.399999999995,1125.7999999999956,1058.0999999999963,1005.9999999999961,962.9999999999955,1264.699999999995,1202.7999999999952,1257.799999999995,1245.299999999995,1218.5999999999954,1187.3999999999955,1353.1999999999957,1592.7999999999959,1480.3999999999965,1398.8999999999967,1315.9999999999973,1228.6999999999982,1237.499999999999,1190.1000000000001,1175.8000000000015,1170.2000000000019,1205.8000000000013,1205.8000000000013,1099.2000000000012,1108.400000000001,1125.6000000000008,1097.0000000000007,1099.4000000000008,1035.2000000000012,1009.6000000000026,1012.4000000000033,990.000000000003,1171.1000000000022,1215.9000000000015,1248.0000000000014,1259.1000000000017,1261.8000000000018,1298.2000000000007,1215.4000000000005,1172.6000000000008,1220.8000000000006,1288.4000000000008,1245.4000000000015,1256.7000000000014,1237.4,1208.0999999999995,1162.9999999999986,1170.299999999998,1107.499999999998,1147.7999999999986,1110.6999999999991,1073.1999999999991,1073.1999999999991],\"type\":\"scatter\"}],                        {\"template\":{\"data\":{\"histogram2dcontour\":[{\"type\":\"histogram2dcontour\",\"colorbar\":{\"outlinewidth\":0,\"ticks\":\"\"},\"colorscale\":[[0.0,\"#0d0887\"],[0.1111111111111111,\"#46039f\"],[0.2222222222222222,\"#7201a8\"],[0.3333333333333333,\"#9c179e\"],[0.4444444444444444,\"#bd3786\"],[0.5555555555555556,\"#d8576b\"],[0.6666666666666666,\"#ed7953\"],[0.7777777777777778,\"#fb9f3a\"],[0.8888888888888888,\"#fdca26\"],[1.0,\"#f0f921\"]]}],\"choropleth\":[{\"type\":\"choropleth\",\"colorbar\":{\"outlinewidth\":0,\"ticks\":\"\"}}],\"histogram2d\":[{\"type\":\"histogram2d\",\"colorbar\":{\"outlinewidth\":0,\"ticks\":\"\"},\"colorscale\":[[0.0,\"#0d0887\"],[0.1111111111111111,\"#46039f\"],[0.2222222222222222,\"#7201a8\"],[0.3333333333333333,\"#9c179e\"],[0.4444444444444444,\"#bd3786\"],[0.5555555555555556,\"#d8576b\"],[0.6666666666666666,\"#ed7953\"],[0.7777777777777778,\"#fb9f3a\"],[0.8888888888888888,\"#fdca26\"],[1.0,\"#f0f921\"]]}],\"heatmap\":[{\"type\":\"heatmap\",\"colorbar\":{\"outlinewidth\":0,\"ticks\":\"\"},\"colorscale\":[[0.0,\"#0d0887\"],[0.1111111111111111,\"#46039f\"],[0.2222222222222222,\"#7201a8\"],[0.3333333333333333,\"#9c179e\"],[0.4444444444444444,\"#bd3786\"],[0.5555555555555556,\"#d8576b\"],[0.6666666666666666,\"#ed7953\"],[0.7777777777777778,\"#fb9f3a\"],[0.8888888888888888,\"#fdca26\"],[1.0,\"#f0f921\"]]}],\"heatmapgl\":[{\"type\":\"heatmapgl\",\"colorbar\":{\"outlinewidth\":0,\"ticks\":\"\"},\"colorscale\":[[0.0,\"#0d0887\"],[0.1111111111111111,\"#46039f\"],[0.2222222222222222,\"#7201a8\"],[0.3333333333333333,\"#9c179e\"],[0.4444444444444444,\"#bd3786\"],[0.5555555555555556,\"#d8576b\"],[0.6666666666666666,\"#ed7953\"],[0.7777777777777778,\"#fb9f3a\"],[0.8888888888888888,\"#fdca26\"],[1.0,\"#f0f921\"]]}],\"contourcarpet\":[{\"type\":\"contourcarpet\",\"colorbar\":{\"outlinewidth\":0,\"ticks\":\"\"}}],\"contour\":[{\"type\":\"contour\",\"colorbar\":{\"outlinewidth\":0,\"ticks\":\"\"},\"colorscale\":[[0.0,\"#0d0887\"],[0.1111111111111111,\"#46039f\"],[0.2222222222222222,\"#7201a8\"],[0.3333333333333333,\"#9c179e\"],[0.4444444444444444,\"#bd3786\"],[0.5555555555555556,\"#d8576b\"],[0.6666666666666666,\"#ed7953\"],[0.7777777777777778,\"#fb9f3a\"],[0.8888888888888888,\"#fdca26\"],[1.0,\"#f0f921\"]]}],\"surface\":[{\"type\":\"surface\",\"colorbar\":{\"outlinewidth\":0,\"ticks\":\"\"},\"colorscale\":[[0.0,\"#0d0887\"],[0.1111111111111111,\"#46039f\"],[0.2222222222222222,\"#7201a8\"],[0.3333333333333333,\"#9c179e\"],[0.4444444444444444,\"#bd3786\"],[0.5555555555555556,\"#d8576b\"],[0.6666666666666666,\"#ed7953\"],[0.7777777777777778,\"#fb9f3a\"],[0.8888888888888888,\"#fdca26\"],[1.0,\"#f0f921\"]]}],\"mesh3d\":[{\"type\":\"mesh3d\",\"colorbar\":{\"outlinewidth\":0,\"ticks\":\"\"}}],\"scatter\":[{\"fillpattern\":{\"fillmode\":\"overlay\",\"size\":10,\"solidity\":0.2},\"type\":\"scatter\"}],\"parcoords\":[{\"type\":\"parcoords\",\"line\":{\"colorbar\":{\"outlinewidth\":0,\"ticks\":\"\"}}}],\"scatterpolargl\":[{\"type\":\"scatterpolargl\",\"marker\":{\"colorbar\":{\"outlinewidth\":0,\"ticks\":\"\"}}}],\"bar\":[{\"error_x\":{\"color\":\"#2a3f5f\"},\"error_y\":{\"color\":\"#2a3f5f\"},\"marker\":{\"line\":{\"color\":\"#E5ECF6\",\"width\":0.5},\"pattern\":{\"fillmode\":\"overlay\",\"size\":10,\"solidity\":0.2}},\"type\":\"bar\"}],\"scattergeo\":[{\"type\":\"scattergeo\",\"marker\":{\"colorbar\":{\"outlinewidth\":0,\"ticks\":\"\"}}}],\"scatterpolar\":[{\"type\":\"scatterpolar\",\"marker\":{\"colorbar\":{\"outlinewidth\":0,\"ticks\":\"\"}}}],\"histogram\":[{\"marker\":{\"pattern\":{\"fillmode\":\"overlay\",\"size\":10,\"solidity\":0.2}},\"type\":\"histogram\"}],\"scattergl\":[{\"type\":\"scattergl\",\"marker\":{\"colorbar\":{\"outlinewidth\":0,\"ticks\":\"\"}}}],\"scatter3d\":[{\"type\":\"scatter3d\",\"line\":{\"colorbar\":{\"outlinewidth\":0,\"ticks\":\"\"}},\"marker\":{\"colorbar\":{\"outlinewidth\":0,\"ticks\":\"\"}}}],\"scattermapbox\":[{\"type\":\"scattermapbox\",\"marker\":{\"colorbar\":{\"outlinewidth\":0,\"ticks\":\"\"}}}],\"scatterternary\":[{\"type\":\"scatterternary\",\"marker\":{\"colorbar\":{\"outlinewidth\":0,\"ticks\":\"\"}}}],\"scattercarpet\":[{\"type\":\"scattercarpet\",\"marker\":{\"colorbar\":{\"outlinewidth\":0,\"ticks\":\"\"}}}],\"carpet\":[{\"aaxis\":{\"endlinecolor\":\"#2a3f5f\",\"gridcolor\":\"white\",\"linecolor\":\"white\",\"minorgridcolor\":\"white\",\"startlinecolor\":\"#2a3f5f\"},\"baxis\":{\"endlinecolor\":\"#2a3f5f\",\"gridcolor\":\"white\",\"linecolor\":\"white\",\"minorgridcolor\":\"white\",\"startlinecolor\":\"#2a3f5f\"},\"type\":\"carpet\"}],\"table\":[{\"cells\":{\"fill\":{\"color\":\"#EBF0F8\"},\"line\":{\"color\":\"white\"}},\"header\":{\"fill\":{\"color\":\"#C8D4E3\"},\"line\":{\"color\":\"white\"}},\"type\":\"table\"}],\"barpolar\":[{\"marker\":{\"line\":{\"color\":\"#E5ECF6\",\"width\":0.5},\"pattern\":{\"fillmode\":\"overlay\",\"size\":10,\"solidity\":0.2}},\"type\":\"barpolar\"}],\"pie\":[{\"automargin\":true,\"type\":\"pie\"}]},\"layout\":{\"autotypenumbers\":\"strict\",\"colorway\":[\"#636efa\",\"#EF553B\",\"#00cc96\",\"#ab63fa\",\"#FFA15A\",\"#19d3f3\",\"#FF6692\",\"#B6E880\",\"#FF97FF\",\"#FECB52\"],\"font\":{\"color\":\"#2a3f5f\"},\"hovermode\":\"closest\",\"hoverlabel\":{\"align\":\"left\"},\"paper_bgcolor\":\"white\",\"plot_bgcolor\":\"#E5ECF6\",\"polar\":{\"bgcolor\":\"#E5ECF6\",\"angularaxis\":{\"gridcolor\":\"white\",\"linecolor\":\"white\",\"ticks\":\"\"},\"radialaxis\":{\"gridcolor\":\"white\",\"linecolor\":\"white\",\"ticks\":\"\"}},\"ternary\":{\"bgcolor\":\"#E5ECF6\",\"aaxis\":{\"gridcolor\":\"white\",\"linecolor\":\"white\",\"ticks\":\"\"},\"baxis\":{\"gridcolor\":\"white\",\"linecolor\":\"white\",\"ticks\":\"\"},\"caxis\":{\"gridcolor\":\"white\",\"linecolor\":\"white\",\"ticks\":\"\"}},\"coloraxis\":{\"colorbar\":{\"outlinewidth\":0,\"ticks\":\"\"}},\"colorscale\":{\"sequential\":[[0.0,\"#0d0887\"],[0.1111111111111111,\"#46039f\"],[0.2222222222222222,\"#7201a8\"],[0.3333333333333333,\"#9c179e\"],[0.4444444444444444,\"#bd3786\"],[0.5555555555555556,\"#d8576b\"],[0.6666666666666666,\"#ed7953\"],[0.7777777777777778,\"#fb9f3a\"],[0.8888888888888888,\"#fdca26\"],[1.0,\"#f0f921\"]],\"sequentialminus\":[[0.0,\"#0d0887\"],[0.1111111111111111,\"#46039f\"],[0.2222222222222222,\"#7201a8\"],[0.3333333333333333,\"#9c179e\"],[0.4444444444444444,\"#bd3786\"],[0.5555555555555556,\"#d8576b\"],[0.6666666666666666,\"#ed7953\"],[0.7777777777777778,\"#fb9f3a\"],[0.8888888888888888,\"#fdca26\"],[1.0,\"#f0f921\"]],\"diverging\":[[0,\"#8e0152\"],[0.1,\"#c51b7d\"],[0.2,\"#de77ae\"],[0.3,\"#f1b6da\"],[0.4,\"#fde0ef\"],[0.5,\"#f7f7f7\"],[0.6,\"#e6f5d0\"],[0.7,\"#b8e186\"],[0.8,\"#7fbc41\"],[0.9,\"#4d9221\"],[1,\"#276419\"]]},\"xaxis\":{\"gridcolor\":\"white\",\"linecolor\":\"white\",\"ticks\":\"\",\"title\":{\"standoff\":15},\"zerolinecolor\":\"white\",\"automargin\":true,\"zerolinewidth\":2},\"yaxis\":{\"gridcolor\":\"white\",\"linecolor\":\"white\",\"ticks\":\"\",\"title\":{\"standoff\":15},\"zerolinecolor\":\"white\",\"automargin\":true,\"zerolinewidth\":2},\"scene\":{\"xaxis\":{\"backgroundcolor\":\"#E5ECF6\",\"gridcolor\":\"white\",\"linecolor\":\"white\",\"showbackground\":true,\"ticks\":\"\",\"zerolinecolor\":\"white\",\"gridwidth\":2},\"yaxis\":{\"backgroundcolor\":\"#E5ECF6\",\"gridcolor\":\"white\",\"linecolor\":\"white\",\"showbackground\":true,\"ticks\":\"\",\"zerolinecolor\":\"white\",\"gridwidth\":2},\"zaxis\":{\"backgroundcolor\":\"#E5ECF6\",\"gridcolor\":\"white\",\"linecolor\":\"white\",\"showbackground\":true,\"ticks\":\"\",\"zerolinecolor\":\"white\",\"gridwidth\":2}},\"shapedefaults\":{\"line\":{\"color\":\"#2a3f5f\"}},\"annotationdefaults\":{\"arrowcolor\":\"#2a3f5f\",\"arrowhead\":0,\"arrowwidth\":1},\"geo\":{\"bgcolor\":\"white\",\"landcolor\":\"#E5ECF6\",\"subunitcolor\":\"white\",\"showland\":true,\"showlakes\":true,\"lakecolor\":\"white\"},\"title\":{\"x\":0.05},\"mapbox\":{\"style\":\"light\"}}},\"yaxis\":{\"gridcolor\":\"#1f292f\"},\"xaxis\":{\"rangeslider\":{\"visible\":false},\"gridcolor\":\"#1f292f\",\"nticks\":5},\"margin\":{\"l\":10,\"r\":10,\"b\":10,\"t\":10},\"font\":{\"size\":8,\"color\":\"#e1e1e1\"},\"width\":900,\"height\":400,\"paper_bgcolor\":\"#2c303c\",\"plot_bgcolor\":\"#2c303c\"},                        {\"responsive\": true}                    ).then(function(){\n",
       "                            \n",
       "var gd = document.getElementById('3945f346-91ac-477f-805a-6749608164ca');\n",
       "var x = new MutationObserver(function (mutations, observer) {{\n",
       "        var display = window.getComputedStyle(gd).display;\n",
       "        if (!display || display === 'none') {{\n",
       "            console.log([gd, 'removed!']);\n",
       "            Plotly.purge(gd);\n",
       "            observer.disconnect();\n",
       "        }}\n",
       "}});\n",
       "\n",
       "// Listen for the removal of the full notebook cells\n",
       "var notebookContainer = gd.closest('#notebook-container');\n",
       "if (notebookContainer) {{\n",
       "    x.observe(notebookContainer, {childList: true});\n",
       "}}\n",
       "\n",
       "// Listen for the clearing of the current output cell\n",
       "var outputEl = gd.closest('.output');\n",
       "if (outputEl) {{\n",
       "    x.observe(outputEl, {childList: true});\n",
       "}}\n",
       "\n",
       "                        })                };                });            </script>        </div>"
      ]
     },
     "metadata": {},
     "output_type": "display_data"
    },
    {
     "name": "stdout",
     "output_type": "stream",
     "text": [
      "GBP_USD 520\n"
     ]
    },
    {
     "data": {
      "application/vnd.plotly.v1+json": {
       "config": {
        "plotlyServerURL": "https://plot.ly"
       },
       "data": [
        {
         "line": {
          "shape": "spline",
          "width": 2
         },
         "name": "GAIN_C",
         "type": "scatter",
         "x": [
          "s21-12-09 20:00",
          "s21-12-10 11:00",
          "s21-12-10 18:00",
          "s21-12-13 08:00",
          "s21-12-14 11:00",
          "s21-12-15 01:00",
          "s21-12-15 06:00",
          "s21-12-15 18:00",
          "s21-12-16 02:00",
          "s21-12-17 07:00",
          "s21-12-17 09:00",
          "s21-12-17 10:00",
          "s21-12-20 20:00",
          "s21-12-20 23:00",
          "s21-12-21 08:00",
          "s21-12-24 03:00",
          "s21-12-24 16:00",
          "s21-12-24 17:00",
          "s21-12-24 18:00",
          "s21-12-24 19:00",
          "s21-12-27 05:00",
          "s21-12-28 09:00",
          "s21-12-28 11:00",
          "s21-12-28 21:00",
          "s21-12-29 14:00",
          "s21-12-30 09:00",
          "s21-12-30 18:00",
          "s21-12-31 12:00",
          "s21-12-31 14:00",
          "s22-01-03 05:00",
          "s22-01-04 08:00",
          "s22-01-06 04:00",
          "s22-01-06 19:00",
          "s22-01-10 10:00",
          "s22-01-11 01:00",
          "s22-01-13 21:00",
          "s22-01-14 08:00",
          "s22-01-14 15:00",
          "s22-01-17 10:00",
          "s22-01-17 12:00",
          "s22-01-19 04:00",
          "s22-01-20 03:00",
          "s22-01-20 08:00",
          "s22-01-20 20:00",
          "s22-01-20 21:00",
          "s22-01-20 23:00",
          "s22-01-25 04:00",
          "s22-01-25 11:00",
          "s22-01-25 19:00",
          "s22-01-26 12:00",
          "s22-01-26 16:00",
          "s22-01-26 20:00",
          "s22-01-28 05:00",
          "s22-02-03 05:00",
          "s22-02-03 15:00",
          "s22-02-04 08:00",
          "s22-02-07 20:00",
          "s22-02-09 19:00",
          "s22-02-10 09:00",
          "s22-02-11 02:00",
          "s22-02-11 14:00",
          "s22-02-14 02:00",
          "s22-02-15 00:00",
          "s22-02-15 18:00",
          "s22-02-16 01:00",
          "s22-02-18 04:00",
          "s22-02-18 12:00",
          "s22-02-18 16:00",
          "s22-02-21 04:00",
          "s22-02-21 18:00",
          "s22-02-22 22:00",
          "s22-02-23 16:00",
          "s22-02-25 03:00",
          "s22-02-25 15:00",
          "s22-02-28 13:00",
          "s22-03-01 12:00",
          "s22-03-02 16:00",
          "s22-03-03 13:00",
          "s22-03-08 10:00",
          "s22-03-08 13:00",
          "s22-03-08 17:00",
          "s22-03-08 19:00",
          "s22-03-09 07:00",
          "s22-03-10 08:00",
          "s22-03-14 13:00",
          "s22-03-14 22:00",
          "s22-03-15 08:00",
          "s22-03-16 00:00",
          "s22-03-16 08:00",
          "s22-03-17 18:00",
          "s22-03-18 04:00",
          "s22-03-18 10:00",
          "s22-03-18 19:00",
          "s22-03-21 06:00",
          "s22-03-21 16:00",
          "s22-03-22 02:00",
          "s22-03-22 12:00",
          "s22-03-23 11:00",
          "s22-03-24 19:00",
          "s22-03-24 21:00",
          "s22-03-24 23:00",
          "s22-03-25 00:00",
          "s22-03-25 01:00",
          "s22-03-25 13:00",
          "s22-03-29 06:00",
          "s22-03-29 09:00",
          "s22-03-29 10:00",
          "s22-03-29 23:00",
          "s22-03-30 08:00",
          "s22-03-31 00:00",
          "s22-03-31 14:00",
          "s22-04-01 05:00",
          "s22-04-04 05:00",
          "s22-04-04 16:00",
          "s22-04-05 02:00",
          "s22-04-05 18:00",
          "s22-04-06 11:00",
          "s22-04-06 22:00",
          "s22-04-07 07:00",
          "s22-04-07 15:00",
          "s22-04-08 03:00",
          "s22-04-08 06:00",
          "s22-04-11 01:00",
          "s22-04-11 05:00",
          "s22-04-11 14:00",
          "s22-04-12 00:00",
          "s22-04-12 16:00",
          "s22-04-12 22:00",
          "s22-04-13 14:00",
          "s22-04-14 13:00",
          "s22-04-15 16:00",
          "s22-04-15 19:00",
          "s22-04-19 10:00",
          "s22-04-19 19:00",
          "s22-04-20 03:00",
          "s22-04-21 08:00",
          "s22-04-26 01:00",
          "s22-04-26 11:00",
          "s22-04-29 03:00",
          "s22-05-02 04:00",
          "s22-05-03 06:00",
          "s22-05-03 18:00",
          "s22-05-04 10:00",
          "s22-05-05 10:00",
          "s22-05-08 22:00",
          "s22-05-09 01:00",
          "s22-05-09 15:00",
          "s22-05-10 13:00",
          "s22-05-11 04:00",
          "s22-05-11 18:00",
          "s22-05-13 03:00",
          "s22-05-13 14:00",
          "s22-05-13 19:00",
          "s22-05-16 09:00",
          "s22-05-16 16:00",
          "s22-05-18 06:00",
          "s22-05-19 08:00",
          "s22-05-20 04:00",
          "s22-05-20 13:00",
          "s22-05-24 03:00",
          "s22-05-24 23:00",
          "s22-05-25 09:00",
          "s22-05-25 19:00",
          "s22-05-26 12:00",
          "s22-05-26 15:00",
          "s22-05-27 14:00",
          "s22-05-29 22:00",
          "s22-05-29 23:00",
          "s22-05-30 00:00",
          "s22-05-31 03:00",
          "s22-05-31 22:00",
          "s22-06-01 04:00",
          "s22-06-02 08:00",
          "s22-06-03 10:00",
          "s22-06-06 08:00",
          "s22-06-06 22:00",
          "s22-06-07 15:00",
          "s22-06-08 08:00",
          "s22-06-09 17:00",
          "s22-06-09 20:00",
          "s22-06-14 07:00",
          "s22-06-14 12:00",
          "s22-06-15 06:00",
          "s22-06-16 10:00",
          "s22-06-16 15:00",
          "s22-06-17 07:00",
          "s22-06-20 06:00",
          "s22-06-21 19:00",
          "s22-06-22 16:00",
          "s22-06-23 03:00",
          "s22-06-23 19:00",
          "s22-06-24 20:00",
          "s22-06-27 05:00",
          "s22-06-27 18:00",
          "s22-06-30 06:00",
          "s22-07-01 05:00",
          "s22-07-04 00:00",
          "s22-07-04 22:00",
          "s22-07-06 06:00",
          "s22-07-06 11:00",
          "s22-07-07 02:00",
          "s22-07-08 08:00",
          "s22-07-08 19:00",
          "s22-07-11 05:00",
          "s22-07-12 18:00",
          "s22-07-13 21:00",
          "s22-07-13 22:00",
          "s22-07-14 00:00",
          "s22-07-15 02:00",
          "s22-07-15 13:00",
          "s22-07-15 14:00",
          "s22-07-19 00:00",
          "s22-07-19 09:00",
          "s22-07-20 00:00",
          "s22-07-20 05:00",
          "s22-07-20 12:00",
          "s22-07-21 05:00",
          "s22-07-21 08:00",
          "s22-07-21 21:00"
         ],
         "y": [
          -21.500000000000963,
          -83.5000000000008,
          -119.1999999999993,
          -145.39999999999776,
          -164.09999999999593,
          -172.9999999999943,
          -195.69999999999422,
          -227.59999999999448,
          -169.29999999999447,
          -178.0999999999944,
          -206.5999999999946,
          -125.99999999999504,
          -125.59999999999464,
          -156.2999999999937,
          10.200000000006838,
          20.100000000007302,
          18.800000000007667,
          18.900000000006102,
          18.300000000004392,
          10.200000000004618,
          54.10000000000578,
          45.10000000000677,
          19.40000000000716,
          -25.399999999993234,
          -40.59999999999289,
          -69.19999999999152,
          -74.79999999999046,
          -106.69999999999072,
          -122.19999999999013,
          -114.5999999999892,
          -79.19999999998821,
          -77.79999999998792,
          -14.799999999988195,
          -6.599999999987766,
          120.60000000001287,
          94.70000000001417,
          44.400000000015496,
          48.000000000016875,
          9.900000000018188,
          46.400000000019716,
          68.60000000002083,
          65.70000000002182,
          24.80000000002255,
          15.700000000022886,
          14.300000000022596,
          137.6000000000221,
          110.60000000002286,
          39.00000000002453,
          36.60000000002657,
          36.100000000027734,
          -18.39999999997181,
          30.20000000002905,
          170.3000000000298,
          114.00000000002956,
          77.00000000002919,
          119.000000000029,
          124.00000000002845,
          87.80000000002889,
          67.80000000002887,
          50.000000000027725,
          21.80000000002728,
          21.300000000026223,
          12.200000000024339,
          -1.9999999999776499,
          59.80000000002087,
          50.200000000020154,
          16.700000000020516,
          -18.19999999997941,
          -32.999999999980886,
          -13.999999999980759,
          -47.69999999997949,
          81.60000000002157,
          75.30000000002248,
          79.2000000000236,
          63.900000000025514,
          97.60000000002645,
          112.50000000002638,
          369.6000000000254,
          355.6000000000247,
          329.20000000002494,
          303.20000000002557,
          299.70000000002705,
          347.00000000002825,
          456.7000000000275,
          415.4000000000256,
          391.60000000002515,
          398.8000000000257,
          379.000000000027,
          474.40000000002806,
          473.3000000000275,
          447.0000000000262,
          394.10000000002606,
          363.0000000000266,
          315.00000000002746,
          268.40000000002857,
          186.20000000002963,
          160.70000000003134,
          178.40000000003184,
          172.4000000000325,
          162.60000000003268,
          156.80000000003244,
          132.40000000003246,
          106.20000000003179,
          184.40000000003118,
          160.8000000000298,
          149.50000000002905,
          146.20000000002963,
          98.80000000002997,
          99.80000000002985,
          79.90000000003049,
          52.000000000032,
          57.30000000003342,
          32.80000000003501,
          22.200000000036624,
          -11.299999999963013,
          -15.999999999962718,
          -34.09999999996139,
          -56.49999999996159,
          -86.99999999996156,
          -97.39999999996085,
          -125.3999999999622,
          -107.79999999996237,
          -111.19999999996244,
          -130.39999999996388,
          -150.1999999999648,
          -152.29999999996522,
          -172.7999999999663,
          -208.69999999996833,
          -208.9999999999703,
          -234.79999999997057,
          -234.39999999997016,
          -200.49999999997013,
          -227.3999999999687,
          -265.79999999996716,
          -246.99999999996612,
          66.80000000003349,
          6.400000000033039,
          208.80000000003338,
          277.20000000003296,
          316.2000000000331,
          294.20000000003336,
          265.30000000003275,
          293.1000000000328,
          502.90000000003283,
          475.10000000003276,
          451.0000000000325,
          440.4000000000319,
          427.70000000003085,
          361.2000000000304,
          413.00000000003,
          415.0000000000298,
          392.6000000000296,
          379.6000000000288,
          333.0000000000299,
          499.0000000000316,
          549.0000000000327,
          611.6000000000342,
          576.800000000035,
          653.3000000000343,
          677.4000000000345,
          635.9000000000358,
          559.4000000000365,
          546.7000000000354,
          529.8000000000335,
          563.4000000000316,
          548.2000000000297,
          543.4000000000293,
          540.0000000000292,
          528.100000000029,
          533.9000000000293,
          506.20000000002995,
          551.8000000000311,
          582.2000000000327,
          577.0000000000341,
          533.7000000000346,
          469.00000000003485,
          396.8000000000348,
          401.60000000003515,
          380.00000000003575,
          695.2000000000357,
          591.8000000000357,
          636.2000000000356,
          763.8000000000367,
          581.4000000000385,
          538.4000000000389,
          601.800000000039,
          635.0000000000389,
          638.9000000000378,
          631.0000000000372,
          622.6000000000377,
          632.2000000000384,
          631.9000000000386,
          631.7000000000395,
          760.0000000000407,
          743.6000000000421,
          768.3000000000418,
          771.1000000000402,
          923.60000000004,
          866.0000000000401,
          816.9000000000404,
          803.6000000000421,
          706.6000000000439,
          653.200000000045,
          732.4000000000442,
          725.2000000000437,
          735.1000000000441,
          711.2000000000452,
          730.0000000000463,
          718.9000000000468,
          692.2000000000473,
          772.6000000000478,
          689.9000000000478,
          688.2000000000478,
          680.8000000000482,
          640.600000000049,
          631.0000000000505,
          576.9000000000514,
          520.6000000000511,
          520.6000000000511
         ]
        }
       ],
       "layout": {
        "font": {
         "color": "#e1e1e1",
         "size": 8
        },
        "height": 400,
        "margin": {
         "b": 10,
         "l": 10,
         "r": 10,
         "t": 10
        },
        "paper_bgcolor": "#2c303c",
        "plot_bgcolor": "#2c303c",
        "template": {
         "data": {
          "bar": [
           {
            "error_x": {
             "color": "#2a3f5f"
            },
            "error_y": {
             "color": "#2a3f5f"
            },
            "marker": {
             "line": {
              "color": "#E5ECF6",
              "width": 0.5
             },
             "pattern": {
              "fillmode": "overlay",
              "size": 10,
              "solidity": 0.2
             }
            },
            "type": "bar"
           }
          ],
          "barpolar": [
           {
            "marker": {
             "line": {
              "color": "#E5ECF6",
              "width": 0.5
             },
             "pattern": {
              "fillmode": "overlay",
              "size": 10,
              "solidity": 0.2
             }
            },
            "type": "barpolar"
           }
          ],
          "carpet": [
           {
            "aaxis": {
             "endlinecolor": "#2a3f5f",
             "gridcolor": "white",
             "linecolor": "white",
             "minorgridcolor": "white",
             "startlinecolor": "#2a3f5f"
            },
            "baxis": {
             "endlinecolor": "#2a3f5f",
             "gridcolor": "white",
             "linecolor": "white",
             "minorgridcolor": "white",
             "startlinecolor": "#2a3f5f"
            },
            "type": "carpet"
           }
          ],
          "choropleth": [
           {
            "colorbar": {
             "outlinewidth": 0,
             "ticks": ""
            },
            "type": "choropleth"
           }
          ],
          "contour": [
           {
            "colorbar": {
             "outlinewidth": 0,
             "ticks": ""
            },
            "colorscale": [
             [
              0,
              "#0d0887"
             ],
             [
              0.1111111111111111,
              "#46039f"
             ],
             [
              0.2222222222222222,
              "#7201a8"
             ],
             [
              0.3333333333333333,
              "#9c179e"
             ],
             [
              0.4444444444444444,
              "#bd3786"
             ],
             [
              0.5555555555555556,
              "#d8576b"
             ],
             [
              0.6666666666666666,
              "#ed7953"
             ],
             [
              0.7777777777777778,
              "#fb9f3a"
             ],
             [
              0.8888888888888888,
              "#fdca26"
             ],
             [
              1,
              "#f0f921"
             ]
            ],
            "type": "contour"
           }
          ],
          "contourcarpet": [
           {
            "colorbar": {
             "outlinewidth": 0,
             "ticks": ""
            },
            "type": "contourcarpet"
           }
          ],
          "heatmap": [
           {
            "colorbar": {
             "outlinewidth": 0,
             "ticks": ""
            },
            "colorscale": [
             [
              0,
              "#0d0887"
             ],
             [
              0.1111111111111111,
              "#46039f"
             ],
             [
              0.2222222222222222,
              "#7201a8"
             ],
             [
              0.3333333333333333,
              "#9c179e"
             ],
             [
              0.4444444444444444,
              "#bd3786"
             ],
             [
              0.5555555555555556,
              "#d8576b"
             ],
             [
              0.6666666666666666,
              "#ed7953"
             ],
             [
              0.7777777777777778,
              "#fb9f3a"
             ],
             [
              0.8888888888888888,
              "#fdca26"
             ],
             [
              1,
              "#f0f921"
             ]
            ],
            "type": "heatmap"
           }
          ],
          "heatmapgl": [
           {
            "colorbar": {
             "outlinewidth": 0,
             "ticks": ""
            },
            "colorscale": [
             [
              0,
              "#0d0887"
             ],
             [
              0.1111111111111111,
              "#46039f"
             ],
             [
              0.2222222222222222,
              "#7201a8"
             ],
             [
              0.3333333333333333,
              "#9c179e"
             ],
             [
              0.4444444444444444,
              "#bd3786"
             ],
             [
              0.5555555555555556,
              "#d8576b"
             ],
             [
              0.6666666666666666,
              "#ed7953"
             ],
             [
              0.7777777777777778,
              "#fb9f3a"
             ],
             [
              0.8888888888888888,
              "#fdca26"
             ],
             [
              1,
              "#f0f921"
             ]
            ],
            "type": "heatmapgl"
           }
          ],
          "histogram": [
           {
            "marker": {
             "pattern": {
              "fillmode": "overlay",
              "size": 10,
              "solidity": 0.2
             }
            },
            "type": "histogram"
           }
          ],
          "histogram2d": [
           {
            "colorbar": {
             "outlinewidth": 0,
             "ticks": ""
            },
            "colorscale": [
             [
              0,
              "#0d0887"
             ],
             [
              0.1111111111111111,
              "#46039f"
             ],
             [
              0.2222222222222222,
              "#7201a8"
             ],
             [
              0.3333333333333333,
              "#9c179e"
             ],
             [
              0.4444444444444444,
              "#bd3786"
             ],
             [
              0.5555555555555556,
              "#d8576b"
             ],
             [
              0.6666666666666666,
              "#ed7953"
             ],
             [
              0.7777777777777778,
              "#fb9f3a"
             ],
             [
              0.8888888888888888,
              "#fdca26"
             ],
             [
              1,
              "#f0f921"
             ]
            ],
            "type": "histogram2d"
           }
          ],
          "histogram2dcontour": [
           {
            "colorbar": {
             "outlinewidth": 0,
             "ticks": ""
            },
            "colorscale": [
             [
              0,
              "#0d0887"
             ],
             [
              0.1111111111111111,
              "#46039f"
             ],
             [
              0.2222222222222222,
              "#7201a8"
             ],
             [
              0.3333333333333333,
              "#9c179e"
             ],
             [
              0.4444444444444444,
              "#bd3786"
             ],
             [
              0.5555555555555556,
              "#d8576b"
             ],
             [
              0.6666666666666666,
              "#ed7953"
             ],
             [
              0.7777777777777778,
              "#fb9f3a"
             ],
             [
              0.8888888888888888,
              "#fdca26"
             ],
             [
              1,
              "#f0f921"
             ]
            ],
            "type": "histogram2dcontour"
           }
          ],
          "mesh3d": [
           {
            "colorbar": {
             "outlinewidth": 0,
             "ticks": ""
            },
            "type": "mesh3d"
           }
          ],
          "parcoords": [
           {
            "line": {
             "colorbar": {
              "outlinewidth": 0,
              "ticks": ""
             }
            },
            "type": "parcoords"
           }
          ],
          "pie": [
           {
            "automargin": true,
            "type": "pie"
           }
          ],
          "scatter": [
           {
            "fillpattern": {
             "fillmode": "overlay",
             "size": 10,
             "solidity": 0.2
            },
            "type": "scatter"
           }
          ],
          "scatter3d": [
           {
            "line": {
             "colorbar": {
              "outlinewidth": 0,
              "ticks": ""
             }
            },
            "marker": {
             "colorbar": {
              "outlinewidth": 0,
              "ticks": ""
             }
            },
            "type": "scatter3d"
           }
          ],
          "scattercarpet": [
           {
            "marker": {
             "colorbar": {
              "outlinewidth": 0,
              "ticks": ""
             }
            },
            "type": "scattercarpet"
           }
          ],
          "scattergeo": [
           {
            "marker": {
             "colorbar": {
              "outlinewidth": 0,
              "ticks": ""
             }
            },
            "type": "scattergeo"
           }
          ],
          "scattergl": [
           {
            "marker": {
             "colorbar": {
              "outlinewidth": 0,
              "ticks": ""
             }
            },
            "type": "scattergl"
           }
          ],
          "scattermapbox": [
           {
            "marker": {
             "colorbar": {
              "outlinewidth": 0,
              "ticks": ""
             }
            },
            "type": "scattermapbox"
           }
          ],
          "scatterpolar": [
           {
            "marker": {
             "colorbar": {
              "outlinewidth": 0,
              "ticks": ""
             }
            },
            "type": "scatterpolar"
           }
          ],
          "scatterpolargl": [
           {
            "marker": {
             "colorbar": {
              "outlinewidth": 0,
              "ticks": ""
             }
            },
            "type": "scatterpolargl"
           }
          ],
          "scatterternary": [
           {
            "marker": {
             "colorbar": {
              "outlinewidth": 0,
              "ticks": ""
             }
            },
            "type": "scatterternary"
           }
          ],
          "surface": [
           {
            "colorbar": {
             "outlinewidth": 0,
             "ticks": ""
            },
            "colorscale": [
             [
              0,
              "#0d0887"
             ],
             [
              0.1111111111111111,
              "#46039f"
             ],
             [
              0.2222222222222222,
              "#7201a8"
             ],
             [
              0.3333333333333333,
              "#9c179e"
             ],
             [
              0.4444444444444444,
              "#bd3786"
             ],
             [
              0.5555555555555556,
              "#d8576b"
             ],
             [
              0.6666666666666666,
              "#ed7953"
             ],
             [
              0.7777777777777778,
              "#fb9f3a"
             ],
             [
              0.8888888888888888,
              "#fdca26"
             ],
             [
              1,
              "#f0f921"
             ]
            ],
            "type": "surface"
           }
          ],
          "table": [
           {
            "cells": {
             "fill": {
              "color": "#EBF0F8"
             },
             "line": {
              "color": "white"
             }
            },
            "header": {
             "fill": {
              "color": "#C8D4E3"
             },
             "line": {
              "color": "white"
             }
            },
            "type": "table"
           }
          ]
         },
         "layout": {
          "annotationdefaults": {
           "arrowcolor": "#2a3f5f",
           "arrowhead": 0,
           "arrowwidth": 1
          },
          "autotypenumbers": "strict",
          "coloraxis": {
           "colorbar": {
            "outlinewidth": 0,
            "ticks": ""
           }
          },
          "colorscale": {
           "diverging": [
            [
             0,
             "#8e0152"
            ],
            [
             0.1,
             "#c51b7d"
            ],
            [
             0.2,
             "#de77ae"
            ],
            [
             0.3,
             "#f1b6da"
            ],
            [
             0.4,
             "#fde0ef"
            ],
            [
             0.5,
             "#f7f7f7"
            ],
            [
             0.6,
             "#e6f5d0"
            ],
            [
             0.7,
             "#b8e186"
            ],
            [
             0.8,
             "#7fbc41"
            ],
            [
             0.9,
             "#4d9221"
            ],
            [
             1,
             "#276419"
            ]
           ],
           "sequential": [
            [
             0,
             "#0d0887"
            ],
            [
             0.1111111111111111,
             "#46039f"
            ],
            [
             0.2222222222222222,
             "#7201a8"
            ],
            [
             0.3333333333333333,
             "#9c179e"
            ],
            [
             0.4444444444444444,
             "#bd3786"
            ],
            [
             0.5555555555555556,
             "#d8576b"
            ],
            [
             0.6666666666666666,
             "#ed7953"
            ],
            [
             0.7777777777777778,
             "#fb9f3a"
            ],
            [
             0.8888888888888888,
             "#fdca26"
            ],
            [
             1,
             "#f0f921"
            ]
           ],
           "sequentialminus": [
            [
             0,
             "#0d0887"
            ],
            [
             0.1111111111111111,
             "#46039f"
            ],
            [
             0.2222222222222222,
             "#7201a8"
            ],
            [
             0.3333333333333333,
             "#9c179e"
            ],
            [
             0.4444444444444444,
             "#bd3786"
            ],
            [
             0.5555555555555556,
             "#d8576b"
            ],
            [
             0.6666666666666666,
             "#ed7953"
            ],
            [
             0.7777777777777778,
             "#fb9f3a"
            ],
            [
             0.8888888888888888,
             "#fdca26"
            ],
            [
             1,
             "#f0f921"
            ]
           ]
          },
          "colorway": [
           "#636efa",
           "#EF553B",
           "#00cc96",
           "#ab63fa",
           "#FFA15A",
           "#19d3f3",
           "#FF6692",
           "#B6E880",
           "#FF97FF",
           "#FECB52"
          ],
          "font": {
           "color": "#2a3f5f"
          },
          "geo": {
           "bgcolor": "white",
           "lakecolor": "white",
           "landcolor": "#E5ECF6",
           "showlakes": true,
           "showland": true,
           "subunitcolor": "white"
          },
          "hoverlabel": {
           "align": "left"
          },
          "hovermode": "closest",
          "mapbox": {
           "style": "light"
          },
          "paper_bgcolor": "white",
          "plot_bgcolor": "#E5ECF6",
          "polar": {
           "angularaxis": {
            "gridcolor": "white",
            "linecolor": "white",
            "ticks": ""
           },
           "bgcolor": "#E5ECF6",
           "radialaxis": {
            "gridcolor": "white",
            "linecolor": "white",
            "ticks": ""
           }
          },
          "scene": {
           "xaxis": {
            "backgroundcolor": "#E5ECF6",
            "gridcolor": "white",
            "gridwidth": 2,
            "linecolor": "white",
            "showbackground": true,
            "ticks": "",
            "zerolinecolor": "white"
           },
           "yaxis": {
            "backgroundcolor": "#E5ECF6",
            "gridcolor": "white",
            "gridwidth": 2,
            "linecolor": "white",
            "showbackground": true,
            "ticks": "",
            "zerolinecolor": "white"
           },
           "zaxis": {
            "backgroundcolor": "#E5ECF6",
            "gridcolor": "white",
            "gridwidth": 2,
            "linecolor": "white",
            "showbackground": true,
            "ticks": "",
            "zerolinecolor": "white"
           }
          },
          "shapedefaults": {
           "line": {
            "color": "#2a3f5f"
           }
          },
          "ternary": {
           "aaxis": {
            "gridcolor": "white",
            "linecolor": "white",
            "ticks": ""
           },
           "baxis": {
            "gridcolor": "white",
            "linecolor": "white",
            "ticks": ""
           },
           "bgcolor": "#E5ECF6",
           "caxis": {
            "gridcolor": "white",
            "linecolor": "white",
            "ticks": ""
           }
          },
          "title": {
           "x": 0.05
          },
          "xaxis": {
           "automargin": true,
           "gridcolor": "white",
           "linecolor": "white",
           "ticks": "",
           "title": {
            "standoff": 15
           },
           "zerolinecolor": "white",
           "zerolinewidth": 2
          },
          "yaxis": {
           "automargin": true,
           "gridcolor": "white",
           "linecolor": "white",
           "ticks": "",
           "title": {
            "standoff": 15
           },
           "zerolinecolor": "white",
           "zerolinewidth": 2
          }
         }
        },
        "width": 900,
        "xaxis": {
         "gridcolor": "#1f292f",
         "nticks": 5,
         "rangeslider": {
          "visible": false
         }
        },
        "yaxis": {
         "gridcolor": "#1f292f"
        }
       }
      },
      "text/html": [
       "<div>                            <div id=\"190c00b2-3932-4b9c-8a6f-eb561a05e982\" class=\"plotly-graph-div\" style=\"height:400px; width:900px;\"></div>            <script type=\"text/javascript\">                require([\"plotly\"], function(Plotly) {                    window.PLOTLYENV=window.PLOTLYENV || {};                                    if (document.getElementById(\"190c00b2-3932-4b9c-8a6f-eb561a05e982\")) {                    Plotly.newPlot(                        \"190c00b2-3932-4b9c-8a6f-eb561a05e982\",                        [{\"line\":{\"shape\":\"spline\",\"width\":2},\"name\":\"GAIN_C\",\"x\":[\"s21-12-09 20:00\",\"s21-12-10 11:00\",\"s21-12-10 18:00\",\"s21-12-13 08:00\",\"s21-12-14 11:00\",\"s21-12-15 01:00\",\"s21-12-15 06:00\",\"s21-12-15 18:00\",\"s21-12-16 02:00\",\"s21-12-17 07:00\",\"s21-12-17 09:00\",\"s21-12-17 10:00\",\"s21-12-20 20:00\",\"s21-12-20 23:00\",\"s21-12-21 08:00\",\"s21-12-24 03:00\",\"s21-12-24 16:00\",\"s21-12-24 17:00\",\"s21-12-24 18:00\",\"s21-12-24 19:00\",\"s21-12-27 05:00\",\"s21-12-28 09:00\",\"s21-12-28 11:00\",\"s21-12-28 21:00\",\"s21-12-29 14:00\",\"s21-12-30 09:00\",\"s21-12-30 18:00\",\"s21-12-31 12:00\",\"s21-12-31 14:00\",\"s22-01-03 05:00\",\"s22-01-04 08:00\",\"s22-01-06 04:00\",\"s22-01-06 19:00\",\"s22-01-10 10:00\",\"s22-01-11 01:00\",\"s22-01-13 21:00\",\"s22-01-14 08:00\",\"s22-01-14 15:00\",\"s22-01-17 10:00\",\"s22-01-17 12:00\",\"s22-01-19 04:00\",\"s22-01-20 03:00\",\"s22-01-20 08:00\",\"s22-01-20 20:00\",\"s22-01-20 21:00\",\"s22-01-20 23:00\",\"s22-01-25 04:00\",\"s22-01-25 11:00\",\"s22-01-25 19:00\",\"s22-01-26 12:00\",\"s22-01-26 16:00\",\"s22-01-26 20:00\",\"s22-01-28 05:00\",\"s22-02-03 05:00\",\"s22-02-03 15:00\",\"s22-02-04 08:00\",\"s22-02-07 20:00\",\"s22-02-09 19:00\",\"s22-02-10 09:00\",\"s22-02-11 02:00\",\"s22-02-11 14:00\",\"s22-02-14 02:00\",\"s22-02-15 00:00\",\"s22-02-15 18:00\",\"s22-02-16 01:00\",\"s22-02-18 04:00\",\"s22-02-18 12:00\",\"s22-02-18 16:00\",\"s22-02-21 04:00\",\"s22-02-21 18:00\",\"s22-02-22 22:00\",\"s22-02-23 16:00\",\"s22-02-25 03:00\",\"s22-02-25 15:00\",\"s22-02-28 13:00\",\"s22-03-01 12:00\",\"s22-03-02 16:00\",\"s22-03-03 13:00\",\"s22-03-08 10:00\",\"s22-03-08 13:00\",\"s22-03-08 17:00\",\"s22-03-08 19:00\",\"s22-03-09 07:00\",\"s22-03-10 08:00\",\"s22-03-14 13:00\",\"s22-03-14 22:00\",\"s22-03-15 08:00\",\"s22-03-16 00:00\",\"s22-03-16 08:00\",\"s22-03-17 18:00\",\"s22-03-18 04:00\",\"s22-03-18 10:00\",\"s22-03-18 19:00\",\"s22-03-21 06:00\",\"s22-03-21 16:00\",\"s22-03-22 02:00\",\"s22-03-22 12:00\",\"s22-03-23 11:00\",\"s22-03-24 19:00\",\"s22-03-24 21:00\",\"s22-03-24 23:00\",\"s22-03-25 00:00\",\"s22-03-25 01:00\",\"s22-03-25 13:00\",\"s22-03-29 06:00\",\"s22-03-29 09:00\",\"s22-03-29 10:00\",\"s22-03-29 23:00\",\"s22-03-30 08:00\",\"s22-03-31 00:00\",\"s22-03-31 14:00\",\"s22-04-01 05:00\",\"s22-04-04 05:00\",\"s22-04-04 16:00\",\"s22-04-05 02:00\",\"s22-04-05 18:00\",\"s22-04-06 11:00\",\"s22-04-06 22:00\",\"s22-04-07 07:00\",\"s22-04-07 15:00\",\"s22-04-08 03:00\",\"s22-04-08 06:00\",\"s22-04-11 01:00\",\"s22-04-11 05:00\",\"s22-04-11 14:00\",\"s22-04-12 00:00\",\"s22-04-12 16:00\",\"s22-04-12 22:00\",\"s22-04-13 14:00\",\"s22-04-14 13:00\",\"s22-04-15 16:00\",\"s22-04-15 19:00\",\"s22-04-19 10:00\",\"s22-04-19 19:00\",\"s22-04-20 03:00\",\"s22-04-21 08:00\",\"s22-04-26 01:00\",\"s22-04-26 11:00\",\"s22-04-29 03:00\",\"s22-05-02 04:00\",\"s22-05-03 06:00\",\"s22-05-03 18:00\",\"s22-05-04 10:00\",\"s22-05-05 10:00\",\"s22-05-08 22:00\",\"s22-05-09 01:00\",\"s22-05-09 15:00\",\"s22-05-10 13:00\",\"s22-05-11 04:00\",\"s22-05-11 18:00\",\"s22-05-13 03:00\",\"s22-05-13 14:00\",\"s22-05-13 19:00\",\"s22-05-16 09:00\",\"s22-05-16 16:00\",\"s22-05-18 06:00\",\"s22-05-19 08:00\",\"s22-05-20 04:00\",\"s22-05-20 13:00\",\"s22-05-24 03:00\",\"s22-05-24 23:00\",\"s22-05-25 09:00\",\"s22-05-25 19:00\",\"s22-05-26 12:00\",\"s22-05-26 15:00\",\"s22-05-27 14:00\",\"s22-05-29 22:00\",\"s22-05-29 23:00\",\"s22-05-30 00:00\",\"s22-05-31 03:00\",\"s22-05-31 22:00\",\"s22-06-01 04:00\",\"s22-06-02 08:00\",\"s22-06-03 10:00\",\"s22-06-06 08:00\",\"s22-06-06 22:00\",\"s22-06-07 15:00\",\"s22-06-08 08:00\",\"s22-06-09 17:00\",\"s22-06-09 20:00\",\"s22-06-14 07:00\",\"s22-06-14 12:00\",\"s22-06-15 06:00\",\"s22-06-16 10:00\",\"s22-06-16 15:00\",\"s22-06-17 07:00\",\"s22-06-20 06:00\",\"s22-06-21 19:00\",\"s22-06-22 16:00\",\"s22-06-23 03:00\",\"s22-06-23 19:00\",\"s22-06-24 20:00\",\"s22-06-27 05:00\",\"s22-06-27 18:00\",\"s22-06-30 06:00\",\"s22-07-01 05:00\",\"s22-07-04 00:00\",\"s22-07-04 22:00\",\"s22-07-06 06:00\",\"s22-07-06 11:00\",\"s22-07-07 02:00\",\"s22-07-08 08:00\",\"s22-07-08 19:00\",\"s22-07-11 05:00\",\"s22-07-12 18:00\",\"s22-07-13 21:00\",\"s22-07-13 22:00\",\"s22-07-14 00:00\",\"s22-07-15 02:00\",\"s22-07-15 13:00\",\"s22-07-15 14:00\",\"s22-07-19 00:00\",\"s22-07-19 09:00\",\"s22-07-20 00:00\",\"s22-07-20 05:00\",\"s22-07-20 12:00\",\"s22-07-21 05:00\",\"s22-07-21 08:00\",\"s22-07-21 21:00\"],\"y\":[-21.500000000000963,-83.5000000000008,-119.1999999999993,-145.39999999999776,-164.09999999999593,-172.9999999999943,-195.69999999999422,-227.59999999999448,-169.29999999999447,-178.0999999999944,-206.5999999999946,-125.99999999999504,-125.59999999999464,-156.2999999999937,10.200000000006838,20.100000000007302,18.800000000007667,18.900000000006102,18.300000000004392,10.200000000004618,54.10000000000578,45.10000000000677,19.40000000000716,-25.399999999993234,-40.59999999999289,-69.19999999999152,-74.79999999999046,-106.69999999999072,-122.19999999999013,-114.5999999999892,-79.19999999998821,-77.79999999998792,-14.799999999988195,-6.599999999987766,120.60000000001287,94.70000000001417,44.400000000015496,48.000000000016875,9.900000000018188,46.400000000019716,68.60000000002083,65.70000000002182,24.80000000002255,15.700000000022886,14.300000000022596,137.6000000000221,110.60000000002286,39.00000000002453,36.60000000002657,36.100000000027734,-18.39999999997181,30.20000000002905,170.3000000000298,114.00000000002956,77.00000000002919,119.000000000029,124.00000000002845,87.80000000002889,67.80000000002887,50.000000000027725,21.80000000002728,21.300000000026223,12.200000000024339,-1.9999999999776499,59.80000000002087,50.200000000020154,16.700000000020516,-18.19999999997941,-32.999999999980886,-13.999999999980759,-47.69999999997949,81.60000000002157,75.30000000002248,79.2000000000236,63.900000000025514,97.60000000002645,112.50000000002638,369.6000000000254,355.6000000000247,329.20000000002494,303.20000000002557,299.70000000002705,347.00000000002825,456.7000000000275,415.4000000000256,391.60000000002515,398.8000000000257,379.000000000027,474.40000000002806,473.3000000000275,447.0000000000262,394.10000000002606,363.0000000000266,315.00000000002746,268.40000000002857,186.20000000002963,160.70000000003134,178.40000000003184,172.4000000000325,162.60000000003268,156.80000000003244,132.40000000003246,106.20000000003179,184.40000000003118,160.8000000000298,149.50000000002905,146.20000000002963,98.80000000002997,99.80000000002985,79.90000000003049,52.000000000032,57.30000000003342,32.80000000003501,22.200000000036624,-11.299999999963013,-15.999999999962718,-34.09999999996139,-56.49999999996159,-86.99999999996156,-97.39999999996085,-125.3999999999622,-107.79999999996237,-111.19999999996244,-130.39999999996388,-150.1999999999648,-152.29999999996522,-172.7999999999663,-208.69999999996833,-208.9999999999703,-234.79999999997057,-234.39999999997016,-200.49999999997013,-227.3999999999687,-265.79999999996716,-246.99999999996612,66.80000000003349,6.400000000033039,208.80000000003338,277.20000000003296,316.2000000000331,294.20000000003336,265.30000000003275,293.1000000000328,502.90000000003283,475.10000000003276,451.0000000000325,440.4000000000319,427.70000000003085,361.2000000000304,413.00000000003,415.0000000000298,392.6000000000296,379.6000000000288,333.0000000000299,499.0000000000316,549.0000000000327,611.6000000000342,576.800000000035,653.3000000000343,677.4000000000345,635.9000000000358,559.4000000000365,546.7000000000354,529.8000000000335,563.4000000000316,548.2000000000297,543.4000000000293,540.0000000000292,528.100000000029,533.9000000000293,506.20000000002995,551.8000000000311,582.2000000000327,577.0000000000341,533.7000000000346,469.00000000003485,396.8000000000348,401.60000000003515,380.00000000003575,695.2000000000357,591.8000000000357,636.2000000000356,763.8000000000367,581.4000000000385,538.4000000000389,601.800000000039,635.0000000000389,638.9000000000378,631.0000000000372,622.6000000000377,632.2000000000384,631.9000000000386,631.7000000000395,760.0000000000407,743.6000000000421,768.3000000000418,771.1000000000402,923.60000000004,866.0000000000401,816.9000000000404,803.6000000000421,706.6000000000439,653.200000000045,732.4000000000442,725.2000000000437,735.1000000000441,711.2000000000452,730.0000000000463,718.9000000000468,692.2000000000473,772.6000000000478,689.9000000000478,688.2000000000478,680.8000000000482,640.600000000049,631.0000000000505,576.9000000000514,520.6000000000511,520.6000000000511],\"type\":\"scatter\"}],                        {\"template\":{\"data\":{\"histogram2dcontour\":[{\"type\":\"histogram2dcontour\",\"colorbar\":{\"outlinewidth\":0,\"ticks\":\"\"},\"colorscale\":[[0.0,\"#0d0887\"],[0.1111111111111111,\"#46039f\"],[0.2222222222222222,\"#7201a8\"],[0.3333333333333333,\"#9c179e\"],[0.4444444444444444,\"#bd3786\"],[0.5555555555555556,\"#d8576b\"],[0.6666666666666666,\"#ed7953\"],[0.7777777777777778,\"#fb9f3a\"],[0.8888888888888888,\"#fdca26\"],[1.0,\"#f0f921\"]]}],\"choropleth\":[{\"type\":\"choropleth\",\"colorbar\":{\"outlinewidth\":0,\"ticks\":\"\"}}],\"histogram2d\":[{\"type\":\"histogram2d\",\"colorbar\":{\"outlinewidth\":0,\"ticks\":\"\"},\"colorscale\":[[0.0,\"#0d0887\"],[0.1111111111111111,\"#46039f\"],[0.2222222222222222,\"#7201a8\"],[0.3333333333333333,\"#9c179e\"],[0.4444444444444444,\"#bd3786\"],[0.5555555555555556,\"#d8576b\"],[0.6666666666666666,\"#ed7953\"],[0.7777777777777778,\"#fb9f3a\"],[0.8888888888888888,\"#fdca26\"],[1.0,\"#f0f921\"]]}],\"heatmap\":[{\"type\":\"heatmap\",\"colorbar\":{\"outlinewidth\":0,\"ticks\":\"\"},\"colorscale\":[[0.0,\"#0d0887\"],[0.1111111111111111,\"#46039f\"],[0.2222222222222222,\"#7201a8\"],[0.3333333333333333,\"#9c179e\"],[0.4444444444444444,\"#bd3786\"],[0.5555555555555556,\"#d8576b\"],[0.6666666666666666,\"#ed7953\"],[0.7777777777777778,\"#fb9f3a\"],[0.8888888888888888,\"#fdca26\"],[1.0,\"#f0f921\"]]}],\"heatmapgl\":[{\"type\":\"heatmapgl\",\"colorbar\":{\"outlinewidth\":0,\"ticks\":\"\"},\"colorscale\":[[0.0,\"#0d0887\"],[0.1111111111111111,\"#46039f\"],[0.2222222222222222,\"#7201a8\"],[0.3333333333333333,\"#9c179e\"],[0.4444444444444444,\"#bd3786\"],[0.5555555555555556,\"#d8576b\"],[0.6666666666666666,\"#ed7953\"],[0.7777777777777778,\"#fb9f3a\"],[0.8888888888888888,\"#fdca26\"],[1.0,\"#f0f921\"]]}],\"contourcarpet\":[{\"type\":\"contourcarpet\",\"colorbar\":{\"outlinewidth\":0,\"ticks\":\"\"}}],\"contour\":[{\"type\":\"contour\",\"colorbar\":{\"outlinewidth\":0,\"ticks\":\"\"},\"colorscale\":[[0.0,\"#0d0887\"],[0.1111111111111111,\"#46039f\"],[0.2222222222222222,\"#7201a8\"],[0.3333333333333333,\"#9c179e\"],[0.4444444444444444,\"#bd3786\"],[0.5555555555555556,\"#d8576b\"],[0.6666666666666666,\"#ed7953\"],[0.7777777777777778,\"#fb9f3a\"],[0.8888888888888888,\"#fdca26\"],[1.0,\"#f0f921\"]]}],\"surface\":[{\"type\":\"surface\",\"colorbar\":{\"outlinewidth\":0,\"ticks\":\"\"},\"colorscale\":[[0.0,\"#0d0887\"],[0.1111111111111111,\"#46039f\"],[0.2222222222222222,\"#7201a8\"],[0.3333333333333333,\"#9c179e\"],[0.4444444444444444,\"#bd3786\"],[0.5555555555555556,\"#d8576b\"],[0.6666666666666666,\"#ed7953\"],[0.7777777777777778,\"#fb9f3a\"],[0.8888888888888888,\"#fdca26\"],[1.0,\"#f0f921\"]]}],\"mesh3d\":[{\"type\":\"mesh3d\",\"colorbar\":{\"outlinewidth\":0,\"ticks\":\"\"}}],\"scatter\":[{\"fillpattern\":{\"fillmode\":\"overlay\",\"size\":10,\"solidity\":0.2},\"type\":\"scatter\"}],\"parcoords\":[{\"type\":\"parcoords\",\"line\":{\"colorbar\":{\"outlinewidth\":0,\"ticks\":\"\"}}}],\"scatterpolargl\":[{\"type\":\"scatterpolargl\",\"marker\":{\"colorbar\":{\"outlinewidth\":0,\"ticks\":\"\"}}}],\"bar\":[{\"error_x\":{\"color\":\"#2a3f5f\"},\"error_y\":{\"color\":\"#2a3f5f\"},\"marker\":{\"line\":{\"color\":\"#E5ECF6\",\"width\":0.5},\"pattern\":{\"fillmode\":\"overlay\",\"size\":10,\"solidity\":0.2}},\"type\":\"bar\"}],\"scattergeo\":[{\"type\":\"scattergeo\",\"marker\":{\"colorbar\":{\"outlinewidth\":0,\"ticks\":\"\"}}}],\"scatterpolar\":[{\"type\":\"scatterpolar\",\"marker\":{\"colorbar\":{\"outlinewidth\":0,\"ticks\":\"\"}}}],\"histogram\":[{\"marker\":{\"pattern\":{\"fillmode\":\"overlay\",\"size\":10,\"solidity\":0.2}},\"type\":\"histogram\"}],\"scattergl\":[{\"type\":\"scattergl\",\"marker\":{\"colorbar\":{\"outlinewidth\":0,\"ticks\":\"\"}}}],\"scatter3d\":[{\"type\":\"scatter3d\",\"line\":{\"colorbar\":{\"outlinewidth\":0,\"ticks\":\"\"}},\"marker\":{\"colorbar\":{\"outlinewidth\":0,\"ticks\":\"\"}}}],\"scattermapbox\":[{\"type\":\"scattermapbox\",\"marker\":{\"colorbar\":{\"outlinewidth\":0,\"ticks\":\"\"}}}],\"scatterternary\":[{\"type\":\"scatterternary\",\"marker\":{\"colorbar\":{\"outlinewidth\":0,\"ticks\":\"\"}}}],\"scattercarpet\":[{\"type\":\"scattercarpet\",\"marker\":{\"colorbar\":{\"outlinewidth\":0,\"ticks\":\"\"}}}],\"carpet\":[{\"aaxis\":{\"endlinecolor\":\"#2a3f5f\",\"gridcolor\":\"white\",\"linecolor\":\"white\",\"minorgridcolor\":\"white\",\"startlinecolor\":\"#2a3f5f\"},\"baxis\":{\"endlinecolor\":\"#2a3f5f\",\"gridcolor\":\"white\",\"linecolor\":\"white\",\"minorgridcolor\":\"white\",\"startlinecolor\":\"#2a3f5f\"},\"type\":\"carpet\"}],\"table\":[{\"cells\":{\"fill\":{\"color\":\"#EBF0F8\"},\"line\":{\"color\":\"white\"}},\"header\":{\"fill\":{\"color\":\"#C8D4E3\"},\"line\":{\"color\":\"white\"}},\"type\":\"table\"}],\"barpolar\":[{\"marker\":{\"line\":{\"color\":\"#E5ECF6\",\"width\":0.5},\"pattern\":{\"fillmode\":\"overlay\",\"size\":10,\"solidity\":0.2}},\"type\":\"barpolar\"}],\"pie\":[{\"automargin\":true,\"type\":\"pie\"}]},\"layout\":{\"autotypenumbers\":\"strict\",\"colorway\":[\"#636efa\",\"#EF553B\",\"#00cc96\",\"#ab63fa\",\"#FFA15A\",\"#19d3f3\",\"#FF6692\",\"#B6E880\",\"#FF97FF\",\"#FECB52\"],\"font\":{\"color\":\"#2a3f5f\"},\"hovermode\":\"closest\",\"hoverlabel\":{\"align\":\"left\"},\"paper_bgcolor\":\"white\",\"plot_bgcolor\":\"#E5ECF6\",\"polar\":{\"bgcolor\":\"#E5ECF6\",\"angularaxis\":{\"gridcolor\":\"white\",\"linecolor\":\"white\",\"ticks\":\"\"},\"radialaxis\":{\"gridcolor\":\"white\",\"linecolor\":\"white\",\"ticks\":\"\"}},\"ternary\":{\"bgcolor\":\"#E5ECF6\",\"aaxis\":{\"gridcolor\":\"white\",\"linecolor\":\"white\",\"ticks\":\"\"},\"baxis\":{\"gridcolor\":\"white\",\"linecolor\":\"white\",\"ticks\":\"\"},\"caxis\":{\"gridcolor\":\"white\",\"linecolor\":\"white\",\"ticks\":\"\"}},\"coloraxis\":{\"colorbar\":{\"outlinewidth\":0,\"ticks\":\"\"}},\"colorscale\":{\"sequential\":[[0.0,\"#0d0887\"],[0.1111111111111111,\"#46039f\"],[0.2222222222222222,\"#7201a8\"],[0.3333333333333333,\"#9c179e\"],[0.4444444444444444,\"#bd3786\"],[0.5555555555555556,\"#d8576b\"],[0.6666666666666666,\"#ed7953\"],[0.7777777777777778,\"#fb9f3a\"],[0.8888888888888888,\"#fdca26\"],[1.0,\"#f0f921\"]],\"sequentialminus\":[[0.0,\"#0d0887\"],[0.1111111111111111,\"#46039f\"],[0.2222222222222222,\"#7201a8\"],[0.3333333333333333,\"#9c179e\"],[0.4444444444444444,\"#bd3786\"],[0.5555555555555556,\"#d8576b\"],[0.6666666666666666,\"#ed7953\"],[0.7777777777777778,\"#fb9f3a\"],[0.8888888888888888,\"#fdca26\"],[1.0,\"#f0f921\"]],\"diverging\":[[0,\"#8e0152\"],[0.1,\"#c51b7d\"],[0.2,\"#de77ae\"],[0.3,\"#f1b6da\"],[0.4,\"#fde0ef\"],[0.5,\"#f7f7f7\"],[0.6,\"#e6f5d0\"],[0.7,\"#b8e186\"],[0.8,\"#7fbc41\"],[0.9,\"#4d9221\"],[1,\"#276419\"]]},\"xaxis\":{\"gridcolor\":\"white\",\"linecolor\":\"white\",\"ticks\":\"\",\"title\":{\"standoff\":15},\"zerolinecolor\":\"white\",\"automargin\":true,\"zerolinewidth\":2},\"yaxis\":{\"gridcolor\":\"white\",\"linecolor\":\"white\",\"ticks\":\"\",\"title\":{\"standoff\":15},\"zerolinecolor\":\"white\",\"automargin\":true,\"zerolinewidth\":2},\"scene\":{\"xaxis\":{\"backgroundcolor\":\"#E5ECF6\",\"gridcolor\":\"white\",\"linecolor\":\"white\",\"showbackground\":true,\"ticks\":\"\",\"zerolinecolor\":\"white\",\"gridwidth\":2},\"yaxis\":{\"backgroundcolor\":\"#E5ECF6\",\"gridcolor\":\"white\",\"linecolor\":\"white\",\"showbackground\":true,\"ticks\":\"\",\"zerolinecolor\":\"white\",\"gridwidth\":2},\"zaxis\":{\"backgroundcolor\":\"#E5ECF6\",\"gridcolor\":\"white\",\"linecolor\":\"white\",\"showbackground\":true,\"ticks\":\"\",\"zerolinecolor\":\"white\",\"gridwidth\":2}},\"shapedefaults\":{\"line\":{\"color\":\"#2a3f5f\"}},\"annotationdefaults\":{\"arrowcolor\":\"#2a3f5f\",\"arrowhead\":0,\"arrowwidth\":1},\"geo\":{\"bgcolor\":\"white\",\"landcolor\":\"#E5ECF6\",\"subunitcolor\":\"white\",\"showland\":true,\"showlakes\":true,\"lakecolor\":\"white\"},\"title\":{\"x\":0.05},\"mapbox\":{\"style\":\"light\"}}},\"yaxis\":{\"gridcolor\":\"#1f292f\"},\"xaxis\":{\"rangeslider\":{\"visible\":false},\"gridcolor\":\"#1f292f\",\"nticks\":5},\"margin\":{\"l\":10,\"r\":10,\"b\":10,\"t\":10},\"font\":{\"size\":8,\"color\":\"#e1e1e1\"},\"width\":900,\"height\":400,\"paper_bgcolor\":\"#2c303c\",\"plot_bgcolor\":\"#2c303c\"},                        {\"responsive\": true}                    ).then(function(){\n",
       "                            \n",
       "var gd = document.getElementById('190c00b2-3932-4b9c-8a6f-eb561a05e982');\n",
       "var x = new MutationObserver(function (mutations, observer) {{\n",
       "        var display = window.getComputedStyle(gd).display;\n",
       "        if (!display || display === 'none') {{\n",
       "            console.log([gd, 'removed!']);\n",
       "            Plotly.purge(gd);\n",
       "            observer.disconnect();\n",
       "        }}\n",
       "}});\n",
       "\n",
       "// Listen for the removal of the full notebook cells\n",
       "var notebookContainer = gd.closest('#notebook-container');\n",
       "if (notebookContainer) {{\n",
       "    x.observe(notebookContainer, {childList: true});\n",
       "}}\n",
       "\n",
       "// Listen for the clearing of the current output cell\n",
       "var outputEl = gd.closest('.output');\n",
       "if (outputEl) {{\n",
       "    x.observe(outputEl, {childList: true});\n",
       "}}\n",
       "\n",
       "                        })                };                });            </script>        </div>"
      ]
     },
     "metadata": {},
     "output_type": "display_data"
    },
    {
     "name": "stdout",
     "output_type": "stream",
     "text": [
      "EUR_JPY 505\n"
     ]
    },
    {
     "data": {
      "application/vnd.plotly.v1+json": {
       "config": {
        "plotlyServerURL": "https://plot.ly"
       },
       "data": [
        {
         "line": {
          "shape": "spline",
          "width": 2
         },
         "name": "GAIN_C",
         "type": "scatter",
         "x": [
          "s21-12-10 07:00",
          "s21-12-10 18:00",
          "s21-12-10 21:00",
          "s21-12-13 09:00",
          "s21-12-14 01:00",
          "s21-12-14 07:00",
          "s21-12-14 08:00",
          "s21-12-14 21:00",
          "s21-12-15 09:00",
          "s21-12-16 19:00",
          "s21-12-17 09:00",
          "s21-12-17 10:00",
          "s21-12-20 13:00",
          "s21-12-23 16:00",
          "s21-12-23 17:00",
          "s21-12-24 11:00",
          "s21-12-24 13:00",
          "s21-12-24 15:00",
          "s21-12-27 05:00",
          "s21-12-28 09:00",
          "s21-12-29 07:00",
          "s21-12-30 09:00",
          "s21-12-30 21:00",
          "s21-12-30 22:00",
          "s21-12-30 23:00",
          "s21-12-31 01:00",
          "s21-12-31 12:00",
          "s22-01-03 08:00",
          "s22-01-04 04:00",
          "s22-01-05 03:00",
          "s22-01-05 15:00",
          "s22-01-06 06:00",
          "s22-01-07 06:00",
          "s22-01-10 09:00",
          "s22-01-11 03:00",
          "s22-01-12 23:00",
          "s22-01-13 09:00",
          "s22-01-13 16:00",
          "s22-01-17 02:00",
          "s22-01-18 13:00",
          "s22-01-19 15:00",
          "s22-01-19 22:00",
          "s22-01-20 05:00",
          "s22-01-20 14:00",
          "s22-01-21 13:00",
          "s22-01-21 20:00",
          "s22-01-24 06:00",
          "s22-01-24 08:00",
          "s22-01-24 22:00",
          "s22-01-25 08:00",
          "s22-01-26 00:00",
          "s22-01-27 03:00",
          "s22-01-28 05:00",
          "s22-01-28 17:00",
          "s22-01-31 04:00",
          "s22-02-01 15:00",
          "s22-02-02 03:00",
          "s22-02-02 15:00",
          "s22-02-02 19:00",
          "s22-02-02 20:00",
          "s22-02-03 00:00",
          "s22-02-07 07:00",
          "s22-02-08 00:00",
          "s22-02-08 13:00",
          "s22-02-08 18:00",
          "s22-02-09 07:00",
          "s22-02-09 13:00",
          "s22-02-10 05:00",
          "s22-02-10 06:00",
          "s22-02-11 03:00",
          "s22-02-14 21:00",
          "s22-02-15 05:00",
          "s22-02-15 09:00",
          "s22-02-16 19:00",
          "s22-02-18 05:00",
          "s22-02-18 16:00",
          "s22-02-21 07:00",
          "s22-02-21 15:00",
          "s22-02-22 11:00",
          "s22-02-23 02:00",
          "s22-02-23 09:00",
          "s22-02-23 19:00",
          "s22-02-24 21:00",
          "s22-02-25 11:00",
          "s22-02-25 15:00",
          "s22-02-28 03:00",
          "s22-02-28 15:00",
          "s22-02-28 22:00",
          "s22-03-02 07:00",
          "s22-03-03 09:00",
          "s22-03-07 14:00",
          "s22-03-08 06:00",
          "s22-03-08 08:00",
          "s22-03-10 10:00",
          "s22-03-11 06:00",
          "s22-03-11 21:00",
          "s22-03-14 03:00",
          "s22-03-15 17:00",
          "s22-03-16 04:00",
          "s22-03-18 10:00",
          "s22-03-20 21:00",
          "s22-03-21 11:00",
          "s22-03-22 00:00",
          "s22-03-23 11:00",
          "s22-03-23 23:00",
          "s22-03-25 08:00",
          "s22-03-25 20:00",
          "s22-03-28 00:00",
          "s22-03-28 01:00",
          "s22-03-29 08:00",
          "s22-03-29 09:00",
          "s22-03-29 10:00",
          "s22-03-29 11:00",
          "s22-03-30 00:00",
          "s22-03-30 16:00",
          "s22-03-31 10:00",
          "s22-04-01 04:00",
          "s22-04-01 18:00",
          "s22-04-05 12:00",
          "s22-04-06 21:00",
          "s22-04-07 11:00",
          "s22-04-07 22:00",
          "s22-04-08 12:00",
          "s22-04-11 23:00",
          "s22-04-13 06:00",
          "s22-04-14 11:00",
          "s22-04-15 01:00",
          "s22-04-17 21:00",
          "s22-04-18 02:00",
          "s22-04-18 09:00",
          "s22-04-18 18:00",
          "s22-04-20 10:00",
          "s22-04-21 02:00",
          "s22-04-21 20:00",
          "s22-04-24 22:00",
          "s22-04-25 04:00",
          "s22-04-26 05:00",
          "s22-04-26 06:00",
          "s22-04-27 07:00",
          "s22-04-27 14:00",
          "s22-04-28 00:00",
          "s22-04-29 02:00",
          "s22-05-02 05:00",
          "s22-05-02 13:00",
          "s22-05-03 11:00",
          "s22-05-04 04:00",
          "s22-05-04 15:00",
          "s22-05-05 18:00",
          "s22-05-06 02:00",
          "s22-05-09 01:00",
          "s22-05-09 10:00",
          "s22-05-09 20:00",
          "s22-05-10 07:00",
          "s22-05-10 11:00",
          "s22-05-11 02:00",
          "s22-05-11 10:00",
          "s22-05-13 10:00",
          "s22-05-16 06:00",
          "s22-05-16 12:00",
          "s22-05-18 05:00",
          "s22-05-19 07:00",
          "s22-05-19 14:00",
          "s22-05-19 18:00",
          "s22-05-20 12:00",
          "s22-05-20 13:00",
          "s22-05-20 18:00",
          "s22-05-23 05:00",
          "s22-05-24 06:00",
          "s22-05-25 21:00",
          "s22-05-26 09:00",
          "s22-05-26 17:00",
          "s22-05-27 09:00",
          "s22-05-29 21:00",
          "s22-05-31 09:00",
          "s22-05-31 18:00",
          "s22-06-01 22:00",
          "s22-06-02 07:00",
          "s22-06-06 06:00",
          "s22-06-06 12:00",
          "s22-06-09 06:00",
          "s22-06-13 04:00",
          "s22-06-13 08:00",
          "s22-06-14 06:00",
          "s22-06-15 12:00",
          "s22-06-16 05:00",
          "s22-06-16 09:00",
          "s22-06-16 22:00",
          "s22-06-22 04:00",
          "s22-06-22 16:00",
          "s22-06-23 05:00",
          "s22-06-24 02:00",
          "s22-06-27 05:00",
          "s22-06-27 10:00",
          "s22-06-28 04:00",
          "s22-06-28 09:00",
          "s22-06-28 21:00",
          "s22-06-29 14:00",
          "s22-06-29 20:00",
          "s22-06-30 23:00",
          "s22-07-01 05:00",
          "s22-07-04 05:00",
          "s22-07-05 10:00",
          "s22-07-07 00:00",
          "s22-07-07 15:00",
          "s22-07-08 17:00",
          "s22-07-11 13:00",
          "s22-07-12 23:00",
          "s22-07-15 01:00",
          "s22-07-15 02:00",
          "s22-07-18 06:00",
          "s22-07-18 08:00",
          "s22-07-19 01:00",
          "s22-07-19 09:00",
          "s22-07-20 11:00",
          "s22-07-21 04:00",
          "s22-07-21 17:00"
         ],
         "y": [
          3.0000000000001137,
          2.5000000000005684,
          -16.399999999998727,
          -22.699999999997544,
          -25.59999999999718,
          -34.199999999998454,
          -52.79999999999916,
          -67.69999999999925,
          -23.599999999999,
          -32.79999999999745,
          -51.1999999999972,
          -16.499999999999204,
          113.99999999999864,
          94.59999999999695,
          80.39999999999736,
          88.59999999999957,
          75.80000000000098,
          63.50000000000193,
          121.60000000000366,
          142.00000000000443,
          172.60000000000275,
          155.60000000000116,
          153.0000000000001,
          155.4000000000002,
          152.1000000000015,
          136.6000000000014,
          174.20000000000186,
          167.60000000000161,
          187.00000000000045,
          164.6000000000015,
          130.10000000000161,
          121.80000000000177,
          123.00000000000182,
          139.70000000000198,
          173.1000000000023,
          152.50000000000057,
          90.39999999999964,
          106.1000000000007,
          87.40000000000236,
          157.5000000000017,
          155.50000000000068,
          133.2000000000022,
          85.40000000000418,
          127.20000000000482,
          113.4000000000043,
          117.50000000000398,
          92.60000000000446,
          44.20000000000357,
          4.000000000002046,
          6.200000000001182,
          5.799999999999272,
          -4.000000000002046,
          -28.700000000003456,
          -68.40000000000543,
          -47.300000000007,
          -73.60000000000753,
          -90.80000000000723,
          -107.00000000000784,
          -104.00000000000773,
          -92.80000000000825,
          154.5999999999907,
          138.0999999999915,
          113.69999999999152,
          85.89999999998952,
          56.799999999986994,
          18.99999999998556,
          24.399999999985766,
          21.599999999986608,
          39.399999999986335,
          206.59999999998604,
          195.29999999998608,
          130.79999999998506,
          158.79999999998518,
          208.89999999998565,
          148.2999999999862,
          110.19999999998618,
          57.49999999998465,
          19.499999999985107,
          -8.600000000012642,
          -46.700000000012665,
          -114.00000000001285,
          -46.10000000001264,
          -63.100000000014234,
          -143.20000000001585,
          -256.6000000000173,
          -311.2000000000194,
          -343.7000000000211,
          -214.40000000002186,
          -160.40000000002124,
          107.29999999997943,
          88.0999999999787,
          38.59999999997825,
          246.39999999997855,
          201.79999999998017,
          159.8999999999819,
          113.79999999998347,
          210.59999999998524,
          187.99999999998533,
          364.7999999999854,
          341.0999999999859,
          319.5999999999856,
          287.89999999998486,
          377.09999999998445,
          313.3999999999844,
          367.7999999999855,
          343.39999999998554,
          343.69999999998413,
          283.7999999999852,
          404.79999999998597,
          336.59999999998433,
          322.1999999999838,
          268.0999999999841,
          162.9999999999825,
          156.59999999998035,
          54.69999999997981,
          -11.800000000019395,
          -40.40000000001953,
          27.799999999979264,
          51.19999999997731,
          18.999999999977035,
          -5.600000000021055,
          -7.600000000019236,
          140.5999999999807,
          139.8999999999802,
          109.39999999997951,
          59.399999999979514,
          56.49999999997988,
          48.39999999997815,
          39.799999999976876,
          12.19999999997583,
          193.19999999997606,
          144.199999999978,
          125.79999999997824,
          118.49999999997749,
          53.5999999999774,
          168.19999999997606,
          123.49999999997578,
          212.79999999997585,
          107.39999999997565,
          23.599999999976262,
          189.19999999997685,
          219.39999999997895,
          204.39999999998122,
          209.1999999999814,
          205.3999999999803,
          192.69999999997935,
          203.19999999997833,
          161.29999999997722,
          170.7999999999771,
          108.9999999999776,
          46.099999999978536,
          46.799999999979036,
          12.399999999979627,
          7.7999999999804,
          -30.4000000000201,
          266.79999999998074,
          278.99999999998215,
          210.39999999998145,
          343.5999999999808,
          499.49999999998056,
          534.5999999999805,
          487.79999999998154,
          450.7999999999811,
          416.5999999999798,
          359.7999999999786,
          291.6999999999774,
          380.1999999999765,
          421.29999999997665,
          406.39999999997656,
          348.59999999997626,
          329.499999999976,
          301.99999999997544,
          378.1999999999755,
          286.39999999997485,
          334.79999999997574,
          314.5999999999759,
          427.99999999997453,
          397.7999999999753,
          717.799999999977,
          896.5999999999781,
          803.1999999999783,
          817.5999999999789,
          789.1999999999797,
          814.5999999999788,
          641.599999999977,
          485.2999999999753,
          796.3999999999743,
          687.4999999999744,
          609.1999999999757,
          735.4999999999762,
          776.899999999975,
          706.9999999999737,
          706.2999999999732,
          626.9999999999726,
          559.7999999999729,
          550.1999999999725,
          479.6999999999713,
          513.5999999999711,
          406.3999999999709,
          412.6999999999697,
          302.7999999999679,
          478.99999999996794,
          463.79999999996926,
          437.79999999997017,
          435.59999999997103,
          559.8999999999705,
          777.5999999999698,
          767.4999999999699,
          799.8999999999683,
          783.7999999999681,
          778.9999999999708,
          663.4999999999735,
          640.0999999999755,
          593.399999999977,
          505.19999999997935,
          505.19999999997935
         ]
        }
       ],
       "layout": {
        "font": {
         "color": "#e1e1e1",
         "size": 8
        },
        "height": 400,
        "margin": {
         "b": 10,
         "l": 10,
         "r": 10,
         "t": 10
        },
        "paper_bgcolor": "#2c303c",
        "plot_bgcolor": "#2c303c",
        "template": {
         "data": {
          "bar": [
           {
            "error_x": {
             "color": "#2a3f5f"
            },
            "error_y": {
             "color": "#2a3f5f"
            },
            "marker": {
             "line": {
              "color": "#E5ECF6",
              "width": 0.5
             },
             "pattern": {
              "fillmode": "overlay",
              "size": 10,
              "solidity": 0.2
             }
            },
            "type": "bar"
           }
          ],
          "barpolar": [
           {
            "marker": {
             "line": {
              "color": "#E5ECF6",
              "width": 0.5
             },
             "pattern": {
              "fillmode": "overlay",
              "size": 10,
              "solidity": 0.2
             }
            },
            "type": "barpolar"
           }
          ],
          "carpet": [
           {
            "aaxis": {
             "endlinecolor": "#2a3f5f",
             "gridcolor": "white",
             "linecolor": "white",
             "minorgridcolor": "white",
             "startlinecolor": "#2a3f5f"
            },
            "baxis": {
             "endlinecolor": "#2a3f5f",
             "gridcolor": "white",
             "linecolor": "white",
             "minorgridcolor": "white",
             "startlinecolor": "#2a3f5f"
            },
            "type": "carpet"
           }
          ],
          "choropleth": [
           {
            "colorbar": {
             "outlinewidth": 0,
             "ticks": ""
            },
            "type": "choropleth"
           }
          ],
          "contour": [
           {
            "colorbar": {
             "outlinewidth": 0,
             "ticks": ""
            },
            "colorscale": [
             [
              0,
              "#0d0887"
             ],
             [
              0.1111111111111111,
              "#46039f"
             ],
             [
              0.2222222222222222,
              "#7201a8"
             ],
             [
              0.3333333333333333,
              "#9c179e"
             ],
             [
              0.4444444444444444,
              "#bd3786"
             ],
             [
              0.5555555555555556,
              "#d8576b"
             ],
             [
              0.6666666666666666,
              "#ed7953"
             ],
             [
              0.7777777777777778,
              "#fb9f3a"
             ],
             [
              0.8888888888888888,
              "#fdca26"
             ],
             [
              1,
              "#f0f921"
             ]
            ],
            "type": "contour"
           }
          ],
          "contourcarpet": [
           {
            "colorbar": {
             "outlinewidth": 0,
             "ticks": ""
            },
            "type": "contourcarpet"
           }
          ],
          "heatmap": [
           {
            "colorbar": {
             "outlinewidth": 0,
             "ticks": ""
            },
            "colorscale": [
             [
              0,
              "#0d0887"
             ],
             [
              0.1111111111111111,
              "#46039f"
             ],
             [
              0.2222222222222222,
              "#7201a8"
             ],
             [
              0.3333333333333333,
              "#9c179e"
             ],
             [
              0.4444444444444444,
              "#bd3786"
             ],
             [
              0.5555555555555556,
              "#d8576b"
             ],
             [
              0.6666666666666666,
              "#ed7953"
             ],
             [
              0.7777777777777778,
              "#fb9f3a"
             ],
             [
              0.8888888888888888,
              "#fdca26"
             ],
             [
              1,
              "#f0f921"
             ]
            ],
            "type": "heatmap"
           }
          ],
          "heatmapgl": [
           {
            "colorbar": {
             "outlinewidth": 0,
             "ticks": ""
            },
            "colorscale": [
             [
              0,
              "#0d0887"
             ],
             [
              0.1111111111111111,
              "#46039f"
             ],
             [
              0.2222222222222222,
              "#7201a8"
             ],
             [
              0.3333333333333333,
              "#9c179e"
             ],
             [
              0.4444444444444444,
              "#bd3786"
             ],
             [
              0.5555555555555556,
              "#d8576b"
             ],
             [
              0.6666666666666666,
              "#ed7953"
             ],
             [
              0.7777777777777778,
              "#fb9f3a"
             ],
             [
              0.8888888888888888,
              "#fdca26"
             ],
             [
              1,
              "#f0f921"
             ]
            ],
            "type": "heatmapgl"
           }
          ],
          "histogram": [
           {
            "marker": {
             "pattern": {
              "fillmode": "overlay",
              "size": 10,
              "solidity": 0.2
             }
            },
            "type": "histogram"
           }
          ],
          "histogram2d": [
           {
            "colorbar": {
             "outlinewidth": 0,
             "ticks": ""
            },
            "colorscale": [
             [
              0,
              "#0d0887"
             ],
             [
              0.1111111111111111,
              "#46039f"
             ],
             [
              0.2222222222222222,
              "#7201a8"
             ],
             [
              0.3333333333333333,
              "#9c179e"
             ],
             [
              0.4444444444444444,
              "#bd3786"
             ],
             [
              0.5555555555555556,
              "#d8576b"
             ],
             [
              0.6666666666666666,
              "#ed7953"
             ],
             [
              0.7777777777777778,
              "#fb9f3a"
             ],
             [
              0.8888888888888888,
              "#fdca26"
             ],
             [
              1,
              "#f0f921"
             ]
            ],
            "type": "histogram2d"
           }
          ],
          "histogram2dcontour": [
           {
            "colorbar": {
             "outlinewidth": 0,
             "ticks": ""
            },
            "colorscale": [
             [
              0,
              "#0d0887"
             ],
             [
              0.1111111111111111,
              "#46039f"
             ],
             [
              0.2222222222222222,
              "#7201a8"
             ],
             [
              0.3333333333333333,
              "#9c179e"
             ],
             [
              0.4444444444444444,
              "#bd3786"
             ],
             [
              0.5555555555555556,
              "#d8576b"
             ],
             [
              0.6666666666666666,
              "#ed7953"
             ],
             [
              0.7777777777777778,
              "#fb9f3a"
             ],
             [
              0.8888888888888888,
              "#fdca26"
             ],
             [
              1,
              "#f0f921"
             ]
            ],
            "type": "histogram2dcontour"
           }
          ],
          "mesh3d": [
           {
            "colorbar": {
             "outlinewidth": 0,
             "ticks": ""
            },
            "type": "mesh3d"
           }
          ],
          "parcoords": [
           {
            "line": {
             "colorbar": {
              "outlinewidth": 0,
              "ticks": ""
             }
            },
            "type": "parcoords"
           }
          ],
          "pie": [
           {
            "automargin": true,
            "type": "pie"
           }
          ],
          "scatter": [
           {
            "fillpattern": {
             "fillmode": "overlay",
             "size": 10,
             "solidity": 0.2
            },
            "type": "scatter"
           }
          ],
          "scatter3d": [
           {
            "line": {
             "colorbar": {
              "outlinewidth": 0,
              "ticks": ""
             }
            },
            "marker": {
             "colorbar": {
              "outlinewidth": 0,
              "ticks": ""
             }
            },
            "type": "scatter3d"
           }
          ],
          "scattercarpet": [
           {
            "marker": {
             "colorbar": {
              "outlinewidth": 0,
              "ticks": ""
             }
            },
            "type": "scattercarpet"
           }
          ],
          "scattergeo": [
           {
            "marker": {
             "colorbar": {
              "outlinewidth": 0,
              "ticks": ""
             }
            },
            "type": "scattergeo"
           }
          ],
          "scattergl": [
           {
            "marker": {
             "colorbar": {
              "outlinewidth": 0,
              "ticks": ""
             }
            },
            "type": "scattergl"
           }
          ],
          "scattermapbox": [
           {
            "marker": {
             "colorbar": {
              "outlinewidth": 0,
              "ticks": ""
             }
            },
            "type": "scattermapbox"
           }
          ],
          "scatterpolar": [
           {
            "marker": {
             "colorbar": {
              "outlinewidth": 0,
              "ticks": ""
             }
            },
            "type": "scatterpolar"
           }
          ],
          "scatterpolargl": [
           {
            "marker": {
             "colorbar": {
              "outlinewidth": 0,
              "ticks": ""
             }
            },
            "type": "scatterpolargl"
           }
          ],
          "scatterternary": [
           {
            "marker": {
             "colorbar": {
              "outlinewidth": 0,
              "ticks": ""
             }
            },
            "type": "scatterternary"
           }
          ],
          "surface": [
           {
            "colorbar": {
             "outlinewidth": 0,
             "ticks": ""
            },
            "colorscale": [
             [
              0,
              "#0d0887"
             ],
             [
              0.1111111111111111,
              "#46039f"
             ],
             [
              0.2222222222222222,
              "#7201a8"
             ],
             [
              0.3333333333333333,
              "#9c179e"
             ],
             [
              0.4444444444444444,
              "#bd3786"
             ],
             [
              0.5555555555555556,
              "#d8576b"
             ],
             [
              0.6666666666666666,
              "#ed7953"
             ],
             [
              0.7777777777777778,
              "#fb9f3a"
             ],
             [
              0.8888888888888888,
              "#fdca26"
             ],
             [
              1,
              "#f0f921"
             ]
            ],
            "type": "surface"
           }
          ],
          "table": [
           {
            "cells": {
             "fill": {
              "color": "#EBF0F8"
             },
             "line": {
              "color": "white"
             }
            },
            "header": {
             "fill": {
              "color": "#C8D4E3"
             },
             "line": {
              "color": "white"
             }
            },
            "type": "table"
           }
          ]
         },
         "layout": {
          "annotationdefaults": {
           "arrowcolor": "#2a3f5f",
           "arrowhead": 0,
           "arrowwidth": 1
          },
          "autotypenumbers": "strict",
          "coloraxis": {
           "colorbar": {
            "outlinewidth": 0,
            "ticks": ""
           }
          },
          "colorscale": {
           "diverging": [
            [
             0,
             "#8e0152"
            ],
            [
             0.1,
             "#c51b7d"
            ],
            [
             0.2,
             "#de77ae"
            ],
            [
             0.3,
             "#f1b6da"
            ],
            [
             0.4,
             "#fde0ef"
            ],
            [
             0.5,
             "#f7f7f7"
            ],
            [
             0.6,
             "#e6f5d0"
            ],
            [
             0.7,
             "#b8e186"
            ],
            [
             0.8,
             "#7fbc41"
            ],
            [
             0.9,
             "#4d9221"
            ],
            [
             1,
             "#276419"
            ]
           ],
           "sequential": [
            [
             0,
             "#0d0887"
            ],
            [
             0.1111111111111111,
             "#46039f"
            ],
            [
             0.2222222222222222,
             "#7201a8"
            ],
            [
             0.3333333333333333,
             "#9c179e"
            ],
            [
             0.4444444444444444,
             "#bd3786"
            ],
            [
             0.5555555555555556,
             "#d8576b"
            ],
            [
             0.6666666666666666,
             "#ed7953"
            ],
            [
             0.7777777777777778,
             "#fb9f3a"
            ],
            [
             0.8888888888888888,
             "#fdca26"
            ],
            [
             1,
             "#f0f921"
            ]
           ],
           "sequentialminus": [
            [
             0,
             "#0d0887"
            ],
            [
             0.1111111111111111,
             "#46039f"
            ],
            [
             0.2222222222222222,
             "#7201a8"
            ],
            [
             0.3333333333333333,
             "#9c179e"
            ],
            [
             0.4444444444444444,
             "#bd3786"
            ],
            [
             0.5555555555555556,
             "#d8576b"
            ],
            [
             0.6666666666666666,
             "#ed7953"
            ],
            [
             0.7777777777777778,
             "#fb9f3a"
            ],
            [
             0.8888888888888888,
             "#fdca26"
            ],
            [
             1,
             "#f0f921"
            ]
           ]
          },
          "colorway": [
           "#636efa",
           "#EF553B",
           "#00cc96",
           "#ab63fa",
           "#FFA15A",
           "#19d3f3",
           "#FF6692",
           "#B6E880",
           "#FF97FF",
           "#FECB52"
          ],
          "font": {
           "color": "#2a3f5f"
          },
          "geo": {
           "bgcolor": "white",
           "lakecolor": "white",
           "landcolor": "#E5ECF6",
           "showlakes": true,
           "showland": true,
           "subunitcolor": "white"
          },
          "hoverlabel": {
           "align": "left"
          },
          "hovermode": "closest",
          "mapbox": {
           "style": "light"
          },
          "paper_bgcolor": "white",
          "plot_bgcolor": "#E5ECF6",
          "polar": {
           "angularaxis": {
            "gridcolor": "white",
            "linecolor": "white",
            "ticks": ""
           },
           "bgcolor": "#E5ECF6",
           "radialaxis": {
            "gridcolor": "white",
            "linecolor": "white",
            "ticks": ""
           }
          },
          "scene": {
           "xaxis": {
            "backgroundcolor": "#E5ECF6",
            "gridcolor": "white",
            "gridwidth": 2,
            "linecolor": "white",
            "showbackground": true,
            "ticks": "",
            "zerolinecolor": "white"
           },
           "yaxis": {
            "backgroundcolor": "#E5ECF6",
            "gridcolor": "white",
            "gridwidth": 2,
            "linecolor": "white",
            "showbackground": true,
            "ticks": "",
            "zerolinecolor": "white"
           },
           "zaxis": {
            "backgroundcolor": "#E5ECF6",
            "gridcolor": "white",
            "gridwidth": 2,
            "linecolor": "white",
            "showbackground": true,
            "ticks": "",
            "zerolinecolor": "white"
           }
          },
          "shapedefaults": {
           "line": {
            "color": "#2a3f5f"
           }
          },
          "ternary": {
           "aaxis": {
            "gridcolor": "white",
            "linecolor": "white",
            "ticks": ""
           },
           "baxis": {
            "gridcolor": "white",
            "linecolor": "white",
            "ticks": ""
           },
           "bgcolor": "#E5ECF6",
           "caxis": {
            "gridcolor": "white",
            "linecolor": "white",
            "ticks": ""
           }
          },
          "title": {
           "x": 0.05
          },
          "xaxis": {
           "automargin": true,
           "gridcolor": "white",
           "linecolor": "white",
           "ticks": "",
           "title": {
            "standoff": 15
           },
           "zerolinecolor": "white",
           "zerolinewidth": 2
          },
          "yaxis": {
           "automargin": true,
           "gridcolor": "white",
           "linecolor": "white",
           "ticks": "",
           "title": {
            "standoff": 15
           },
           "zerolinecolor": "white",
           "zerolinewidth": 2
          }
         }
        },
        "width": 900,
        "xaxis": {
         "gridcolor": "#1f292f",
         "nticks": 5,
         "rangeslider": {
          "visible": false
         }
        },
        "yaxis": {
         "gridcolor": "#1f292f"
        }
       }
      },
      "text/html": [
       "<div>                            <div id=\"38976291-5161-4aa1-8312-166d16ef648b\" class=\"plotly-graph-div\" style=\"height:400px; width:900px;\"></div>            <script type=\"text/javascript\">                require([\"plotly\"], function(Plotly) {                    window.PLOTLYENV=window.PLOTLYENV || {};                                    if (document.getElementById(\"38976291-5161-4aa1-8312-166d16ef648b\")) {                    Plotly.newPlot(                        \"38976291-5161-4aa1-8312-166d16ef648b\",                        [{\"line\":{\"shape\":\"spline\",\"width\":2},\"name\":\"GAIN_C\",\"x\":[\"s21-12-10 07:00\",\"s21-12-10 18:00\",\"s21-12-10 21:00\",\"s21-12-13 09:00\",\"s21-12-14 01:00\",\"s21-12-14 07:00\",\"s21-12-14 08:00\",\"s21-12-14 21:00\",\"s21-12-15 09:00\",\"s21-12-16 19:00\",\"s21-12-17 09:00\",\"s21-12-17 10:00\",\"s21-12-20 13:00\",\"s21-12-23 16:00\",\"s21-12-23 17:00\",\"s21-12-24 11:00\",\"s21-12-24 13:00\",\"s21-12-24 15:00\",\"s21-12-27 05:00\",\"s21-12-28 09:00\",\"s21-12-29 07:00\",\"s21-12-30 09:00\",\"s21-12-30 21:00\",\"s21-12-30 22:00\",\"s21-12-30 23:00\",\"s21-12-31 01:00\",\"s21-12-31 12:00\",\"s22-01-03 08:00\",\"s22-01-04 04:00\",\"s22-01-05 03:00\",\"s22-01-05 15:00\",\"s22-01-06 06:00\",\"s22-01-07 06:00\",\"s22-01-10 09:00\",\"s22-01-11 03:00\",\"s22-01-12 23:00\",\"s22-01-13 09:00\",\"s22-01-13 16:00\",\"s22-01-17 02:00\",\"s22-01-18 13:00\",\"s22-01-19 15:00\",\"s22-01-19 22:00\",\"s22-01-20 05:00\",\"s22-01-20 14:00\",\"s22-01-21 13:00\",\"s22-01-21 20:00\",\"s22-01-24 06:00\",\"s22-01-24 08:00\",\"s22-01-24 22:00\",\"s22-01-25 08:00\",\"s22-01-26 00:00\",\"s22-01-27 03:00\",\"s22-01-28 05:00\",\"s22-01-28 17:00\",\"s22-01-31 04:00\",\"s22-02-01 15:00\",\"s22-02-02 03:00\",\"s22-02-02 15:00\",\"s22-02-02 19:00\",\"s22-02-02 20:00\",\"s22-02-03 00:00\",\"s22-02-07 07:00\",\"s22-02-08 00:00\",\"s22-02-08 13:00\",\"s22-02-08 18:00\",\"s22-02-09 07:00\",\"s22-02-09 13:00\",\"s22-02-10 05:00\",\"s22-02-10 06:00\",\"s22-02-11 03:00\",\"s22-02-14 21:00\",\"s22-02-15 05:00\",\"s22-02-15 09:00\",\"s22-02-16 19:00\",\"s22-02-18 05:00\",\"s22-02-18 16:00\",\"s22-02-21 07:00\",\"s22-02-21 15:00\",\"s22-02-22 11:00\",\"s22-02-23 02:00\",\"s22-02-23 09:00\",\"s22-02-23 19:00\",\"s22-02-24 21:00\",\"s22-02-25 11:00\",\"s22-02-25 15:00\",\"s22-02-28 03:00\",\"s22-02-28 15:00\",\"s22-02-28 22:00\",\"s22-03-02 07:00\",\"s22-03-03 09:00\",\"s22-03-07 14:00\",\"s22-03-08 06:00\",\"s22-03-08 08:00\",\"s22-03-10 10:00\",\"s22-03-11 06:00\",\"s22-03-11 21:00\",\"s22-03-14 03:00\",\"s22-03-15 17:00\",\"s22-03-16 04:00\",\"s22-03-18 10:00\",\"s22-03-20 21:00\",\"s22-03-21 11:00\",\"s22-03-22 00:00\",\"s22-03-23 11:00\",\"s22-03-23 23:00\",\"s22-03-25 08:00\",\"s22-03-25 20:00\",\"s22-03-28 00:00\",\"s22-03-28 01:00\",\"s22-03-29 08:00\",\"s22-03-29 09:00\",\"s22-03-29 10:00\",\"s22-03-29 11:00\",\"s22-03-30 00:00\",\"s22-03-30 16:00\",\"s22-03-31 10:00\",\"s22-04-01 04:00\",\"s22-04-01 18:00\",\"s22-04-05 12:00\",\"s22-04-06 21:00\",\"s22-04-07 11:00\",\"s22-04-07 22:00\",\"s22-04-08 12:00\",\"s22-04-11 23:00\",\"s22-04-13 06:00\",\"s22-04-14 11:00\",\"s22-04-15 01:00\",\"s22-04-17 21:00\",\"s22-04-18 02:00\",\"s22-04-18 09:00\",\"s22-04-18 18:00\",\"s22-04-20 10:00\",\"s22-04-21 02:00\",\"s22-04-21 20:00\",\"s22-04-24 22:00\",\"s22-04-25 04:00\",\"s22-04-26 05:00\",\"s22-04-26 06:00\",\"s22-04-27 07:00\",\"s22-04-27 14:00\",\"s22-04-28 00:00\",\"s22-04-29 02:00\",\"s22-05-02 05:00\",\"s22-05-02 13:00\",\"s22-05-03 11:00\",\"s22-05-04 04:00\",\"s22-05-04 15:00\",\"s22-05-05 18:00\",\"s22-05-06 02:00\",\"s22-05-09 01:00\",\"s22-05-09 10:00\",\"s22-05-09 20:00\",\"s22-05-10 07:00\",\"s22-05-10 11:00\",\"s22-05-11 02:00\",\"s22-05-11 10:00\",\"s22-05-13 10:00\",\"s22-05-16 06:00\",\"s22-05-16 12:00\",\"s22-05-18 05:00\",\"s22-05-19 07:00\",\"s22-05-19 14:00\",\"s22-05-19 18:00\",\"s22-05-20 12:00\",\"s22-05-20 13:00\",\"s22-05-20 18:00\",\"s22-05-23 05:00\",\"s22-05-24 06:00\",\"s22-05-25 21:00\",\"s22-05-26 09:00\",\"s22-05-26 17:00\",\"s22-05-27 09:00\",\"s22-05-29 21:00\",\"s22-05-31 09:00\",\"s22-05-31 18:00\",\"s22-06-01 22:00\",\"s22-06-02 07:00\",\"s22-06-06 06:00\",\"s22-06-06 12:00\",\"s22-06-09 06:00\",\"s22-06-13 04:00\",\"s22-06-13 08:00\",\"s22-06-14 06:00\",\"s22-06-15 12:00\",\"s22-06-16 05:00\",\"s22-06-16 09:00\",\"s22-06-16 22:00\",\"s22-06-22 04:00\",\"s22-06-22 16:00\",\"s22-06-23 05:00\",\"s22-06-24 02:00\",\"s22-06-27 05:00\",\"s22-06-27 10:00\",\"s22-06-28 04:00\",\"s22-06-28 09:00\",\"s22-06-28 21:00\",\"s22-06-29 14:00\",\"s22-06-29 20:00\",\"s22-06-30 23:00\",\"s22-07-01 05:00\",\"s22-07-04 05:00\",\"s22-07-05 10:00\",\"s22-07-07 00:00\",\"s22-07-07 15:00\",\"s22-07-08 17:00\",\"s22-07-11 13:00\",\"s22-07-12 23:00\",\"s22-07-15 01:00\",\"s22-07-15 02:00\",\"s22-07-18 06:00\",\"s22-07-18 08:00\",\"s22-07-19 01:00\",\"s22-07-19 09:00\",\"s22-07-20 11:00\",\"s22-07-21 04:00\",\"s22-07-21 17:00\"],\"y\":[3.0000000000001137,2.5000000000005684,-16.399999999998727,-22.699999999997544,-25.59999999999718,-34.199999999998454,-52.79999999999916,-67.69999999999925,-23.599999999999,-32.79999999999745,-51.1999999999972,-16.499999999999204,113.99999999999864,94.59999999999695,80.39999999999736,88.59999999999957,75.80000000000098,63.50000000000193,121.60000000000366,142.00000000000443,172.60000000000275,155.60000000000116,153.0000000000001,155.4000000000002,152.1000000000015,136.6000000000014,174.20000000000186,167.60000000000161,187.00000000000045,164.6000000000015,130.10000000000161,121.80000000000177,123.00000000000182,139.70000000000198,173.1000000000023,152.50000000000057,90.39999999999964,106.1000000000007,87.40000000000236,157.5000000000017,155.50000000000068,133.2000000000022,85.40000000000418,127.20000000000482,113.4000000000043,117.50000000000398,92.60000000000446,44.20000000000357,4.000000000002046,6.200000000001182,5.799999999999272,-4.000000000002046,-28.700000000003456,-68.40000000000543,-47.300000000007,-73.60000000000753,-90.80000000000723,-107.00000000000784,-104.00000000000773,-92.80000000000825,154.5999999999907,138.0999999999915,113.69999999999152,85.89999999998952,56.799999999986994,18.99999999998556,24.399999999985766,21.599999999986608,39.399999999986335,206.59999999998604,195.29999999998608,130.79999999998506,158.79999999998518,208.89999999998565,148.2999999999862,110.19999999998618,57.49999999998465,19.499999999985107,-8.600000000012642,-46.700000000012665,-114.00000000001285,-46.10000000001264,-63.100000000014234,-143.20000000001585,-256.6000000000173,-311.2000000000194,-343.7000000000211,-214.40000000002186,-160.40000000002124,107.29999999997943,88.0999999999787,38.59999999997825,246.39999999997855,201.79999999998017,159.8999999999819,113.79999999998347,210.59999999998524,187.99999999998533,364.7999999999854,341.0999999999859,319.5999999999856,287.89999999998486,377.09999999998445,313.3999999999844,367.7999999999855,343.39999999998554,343.69999999998413,283.7999999999852,404.79999999998597,336.59999999998433,322.1999999999838,268.0999999999841,162.9999999999825,156.59999999998035,54.69999999997981,-11.800000000019395,-40.40000000001953,27.799999999979264,51.19999999997731,18.999999999977035,-5.600000000021055,-7.600000000019236,140.5999999999807,139.8999999999802,109.39999999997951,59.399999999979514,56.49999999997988,48.39999999997815,39.799999999976876,12.19999999997583,193.19999999997606,144.199999999978,125.79999999997824,118.49999999997749,53.5999999999774,168.19999999997606,123.49999999997578,212.79999999997585,107.39999999997565,23.599999999976262,189.19999999997685,219.39999999997895,204.39999999998122,209.1999999999814,205.3999999999803,192.69999999997935,203.19999999997833,161.29999999997722,170.7999999999771,108.9999999999776,46.099999999978536,46.799999999979036,12.399999999979627,7.7999999999804,-30.4000000000201,266.79999999998074,278.99999999998215,210.39999999998145,343.5999999999808,499.49999999998056,534.5999999999805,487.79999999998154,450.7999999999811,416.5999999999798,359.7999999999786,291.6999999999774,380.1999999999765,421.29999999997665,406.39999999997656,348.59999999997626,329.499999999976,301.99999999997544,378.1999999999755,286.39999999997485,334.79999999997574,314.5999999999759,427.99999999997453,397.7999999999753,717.799999999977,896.5999999999781,803.1999999999783,817.5999999999789,789.1999999999797,814.5999999999788,641.599999999977,485.2999999999753,796.3999999999743,687.4999999999744,609.1999999999757,735.4999999999762,776.899999999975,706.9999999999737,706.2999999999732,626.9999999999726,559.7999999999729,550.1999999999725,479.6999999999713,513.5999999999711,406.3999999999709,412.6999999999697,302.7999999999679,478.99999999996794,463.79999999996926,437.79999999997017,435.59999999997103,559.8999999999705,777.5999999999698,767.4999999999699,799.8999999999683,783.7999999999681,778.9999999999708,663.4999999999735,640.0999999999755,593.399999999977,505.19999999997935,505.19999999997935],\"type\":\"scatter\"}],                        {\"template\":{\"data\":{\"histogram2dcontour\":[{\"type\":\"histogram2dcontour\",\"colorbar\":{\"outlinewidth\":0,\"ticks\":\"\"},\"colorscale\":[[0.0,\"#0d0887\"],[0.1111111111111111,\"#46039f\"],[0.2222222222222222,\"#7201a8\"],[0.3333333333333333,\"#9c179e\"],[0.4444444444444444,\"#bd3786\"],[0.5555555555555556,\"#d8576b\"],[0.6666666666666666,\"#ed7953\"],[0.7777777777777778,\"#fb9f3a\"],[0.8888888888888888,\"#fdca26\"],[1.0,\"#f0f921\"]]}],\"choropleth\":[{\"type\":\"choropleth\",\"colorbar\":{\"outlinewidth\":0,\"ticks\":\"\"}}],\"histogram2d\":[{\"type\":\"histogram2d\",\"colorbar\":{\"outlinewidth\":0,\"ticks\":\"\"},\"colorscale\":[[0.0,\"#0d0887\"],[0.1111111111111111,\"#46039f\"],[0.2222222222222222,\"#7201a8\"],[0.3333333333333333,\"#9c179e\"],[0.4444444444444444,\"#bd3786\"],[0.5555555555555556,\"#d8576b\"],[0.6666666666666666,\"#ed7953\"],[0.7777777777777778,\"#fb9f3a\"],[0.8888888888888888,\"#fdca26\"],[1.0,\"#f0f921\"]]}],\"heatmap\":[{\"type\":\"heatmap\",\"colorbar\":{\"outlinewidth\":0,\"ticks\":\"\"},\"colorscale\":[[0.0,\"#0d0887\"],[0.1111111111111111,\"#46039f\"],[0.2222222222222222,\"#7201a8\"],[0.3333333333333333,\"#9c179e\"],[0.4444444444444444,\"#bd3786\"],[0.5555555555555556,\"#d8576b\"],[0.6666666666666666,\"#ed7953\"],[0.7777777777777778,\"#fb9f3a\"],[0.8888888888888888,\"#fdca26\"],[1.0,\"#f0f921\"]]}],\"heatmapgl\":[{\"type\":\"heatmapgl\",\"colorbar\":{\"outlinewidth\":0,\"ticks\":\"\"},\"colorscale\":[[0.0,\"#0d0887\"],[0.1111111111111111,\"#46039f\"],[0.2222222222222222,\"#7201a8\"],[0.3333333333333333,\"#9c179e\"],[0.4444444444444444,\"#bd3786\"],[0.5555555555555556,\"#d8576b\"],[0.6666666666666666,\"#ed7953\"],[0.7777777777777778,\"#fb9f3a\"],[0.8888888888888888,\"#fdca26\"],[1.0,\"#f0f921\"]]}],\"contourcarpet\":[{\"type\":\"contourcarpet\",\"colorbar\":{\"outlinewidth\":0,\"ticks\":\"\"}}],\"contour\":[{\"type\":\"contour\",\"colorbar\":{\"outlinewidth\":0,\"ticks\":\"\"},\"colorscale\":[[0.0,\"#0d0887\"],[0.1111111111111111,\"#46039f\"],[0.2222222222222222,\"#7201a8\"],[0.3333333333333333,\"#9c179e\"],[0.4444444444444444,\"#bd3786\"],[0.5555555555555556,\"#d8576b\"],[0.6666666666666666,\"#ed7953\"],[0.7777777777777778,\"#fb9f3a\"],[0.8888888888888888,\"#fdca26\"],[1.0,\"#f0f921\"]]}],\"surface\":[{\"type\":\"surface\",\"colorbar\":{\"outlinewidth\":0,\"ticks\":\"\"},\"colorscale\":[[0.0,\"#0d0887\"],[0.1111111111111111,\"#46039f\"],[0.2222222222222222,\"#7201a8\"],[0.3333333333333333,\"#9c179e\"],[0.4444444444444444,\"#bd3786\"],[0.5555555555555556,\"#d8576b\"],[0.6666666666666666,\"#ed7953\"],[0.7777777777777778,\"#fb9f3a\"],[0.8888888888888888,\"#fdca26\"],[1.0,\"#f0f921\"]]}],\"mesh3d\":[{\"type\":\"mesh3d\",\"colorbar\":{\"outlinewidth\":0,\"ticks\":\"\"}}],\"scatter\":[{\"fillpattern\":{\"fillmode\":\"overlay\",\"size\":10,\"solidity\":0.2},\"type\":\"scatter\"}],\"parcoords\":[{\"type\":\"parcoords\",\"line\":{\"colorbar\":{\"outlinewidth\":0,\"ticks\":\"\"}}}],\"scatterpolargl\":[{\"type\":\"scatterpolargl\",\"marker\":{\"colorbar\":{\"outlinewidth\":0,\"ticks\":\"\"}}}],\"bar\":[{\"error_x\":{\"color\":\"#2a3f5f\"},\"error_y\":{\"color\":\"#2a3f5f\"},\"marker\":{\"line\":{\"color\":\"#E5ECF6\",\"width\":0.5},\"pattern\":{\"fillmode\":\"overlay\",\"size\":10,\"solidity\":0.2}},\"type\":\"bar\"}],\"scattergeo\":[{\"type\":\"scattergeo\",\"marker\":{\"colorbar\":{\"outlinewidth\":0,\"ticks\":\"\"}}}],\"scatterpolar\":[{\"type\":\"scatterpolar\",\"marker\":{\"colorbar\":{\"outlinewidth\":0,\"ticks\":\"\"}}}],\"histogram\":[{\"marker\":{\"pattern\":{\"fillmode\":\"overlay\",\"size\":10,\"solidity\":0.2}},\"type\":\"histogram\"}],\"scattergl\":[{\"type\":\"scattergl\",\"marker\":{\"colorbar\":{\"outlinewidth\":0,\"ticks\":\"\"}}}],\"scatter3d\":[{\"type\":\"scatter3d\",\"line\":{\"colorbar\":{\"outlinewidth\":0,\"ticks\":\"\"}},\"marker\":{\"colorbar\":{\"outlinewidth\":0,\"ticks\":\"\"}}}],\"scattermapbox\":[{\"type\":\"scattermapbox\",\"marker\":{\"colorbar\":{\"outlinewidth\":0,\"ticks\":\"\"}}}],\"scatterternary\":[{\"type\":\"scatterternary\",\"marker\":{\"colorbar\":{\"outlinewidth\":0,\"ticks\":\"\"}}}],\"scattercarpet\":[{\"type\":\"scattercarpet\",\"marker\":{\"colorbar\":{\"outlinewidth\":0,\"ticks\":\"\"}}}],\"carpet\":[{\"aaxis\":{\"endlinecolor\":\"#2a3f5f\",\"gridcolor\":\"white\",\"linecolor\":\"white\",\"minorgridcolor\":\"white\",\"startlinecolor\":\"#2a3f5f\"},\"baxis\":{\"endlinecolor\":\"#2a3f5f\",\"gridcolor\":\"white\",\"linecolor\":\"white\",\"minorgridcolor\":\"white\",\"startlinecolor\":\"#2a3f5f\"},\"type\":\"carpet\"}],\"table\":[{\"cells\":{\"fill\":{\"color\":\"#EBF0F8\"},\"line\":{\"color\":\"white\"}},\"header\":{\"fill\":{\"color\":\"#C8D4E3\"},\"line\":{\"color\":\"white\"}},\"type\":\"table\"}],\"barpolar\":[{\"marker\":{\"line\":{\"color\":\"#E5ECF6\",\"width\":0.5},\"pattern\":{\"fillmode\":\"overlay\",\"size\":10,\"solidity\":0.2}},\"type\":\"barpolar\"}],\"pie\":[{\"automargin\":true,\"type\":\"pie\"}]},\"layout\":{\"autotypenumbers\":\"strict\",\"colorway\":[\"#636efa\",\"#EF553B\",\"#00cc96\",\"#ab63fa\",\"#FFA15A\",\"#19d3f3\",\"#FF6692\",\"#B6E880\",\"#FF97FF\",\"#FECB52\"],\"font\":{\"color\":\"#2a3f5f\"},\"hovermode\":\"closest\",\"hoverlabel\":{\"align\":\"left\"},\"paper_bgcolor\":\"white\",\"plot_bgcolor\":\"#E5ECF6\",\"polar\":{\"bgcolor\":\"#E5ECF6\",\"angularaxis\":{\"gridcolor\":\"white\",\"linecolor\":\"white\",\"ticks\":\"\"},\"radialaxis\":{\"gridcolor\":\"white\",\"linecolor\":\"white\",\"ticks\":\"\"}},\"ternary\":{\"bgcolor\":\"#E5ECF6\",\"aaxis\":{\"gridcolor\":\"white\",\"linecolor\":\"white\",\"ticks\":\"\"},\"baxis\":{\"gridcolor\":\"white\",\"linecolor\":\"white\",\"ticks\":\"\"},\"caxis\":{\"gridcolor\":\"white\",\"linecolor\":\"white\",\"ticks\":\"\"}},\"coloraxis\":{\"colorbar\":{\"outlinewidth\":0,\"ticks\":\"\"}},\"colorscale\":{\"sequential\":[[0.0,\"#0d0887\"],[0.1111111111111111,\"#46039f\"],[0.2222222222222222,\"#7201a8\"],[0.3333333333333333,\"#9c179e\"],[0.4444444444444444,\"#bd3786\"],[0.5555555555555556,\"#d8576b\"],[0.6666666666666666,\"#ed7953\"],[0.7777777777777778,\"#fb9f3a\"],[0.8888888888888888,\"#fdca26\"],[1.0,\"#f0f921\"]],\"sequentialminus\":[[0.0,\"#0d0887\"],[0.1111111111111111,\"#46039f\"],[0.2222222222222222,\"#7201a8\"],[0.3333333333333333,\"#9c179e\"],[0.4444444444444444,\"#bd3786\"],[0.5555555555555556,\"#d8576b\"],[0.6666666666666666,\"#ed7953\"],[0.7777777777777778,\"#fb9f3a\"],[0.8888888888888888,\"#fdca26\"],[1.0,\"#f0f921\"]],\"diverging\":[[0,\"#8e0152\"],[0.1,\"#c51b7d\"],[0.2,\"#de77ae\"],[0.3,\"#f1b6da\"],[0.4,\"#fde0ef\"],[0.5,\"#f7f7f7\"],[0.6,\"#e6f5d0\"],[0.7,\"#b8e186\"],[0.8,\"#7fbc41\"],[0.9,\"#4d9221\"],[1,\"#276419\"]]},\"xaxis\":{\"gridcolor\":\"white\",\"linecolor\":\"white\",\"ticks\":\"\",\"title\":{\"standoff\":15},\"zerolinecolor\":\"white\",\"automargin\":true,\"zerolinewidth\":2},\"yaxis\":{\"gridcolor\":\"white\",\"linecolor\":\"white\",\"ticks\":\"\",\"title\":{\"standoff\":15},\"zerolinecolor\":\"white\",\"automargin\":true,\"zerolinewidth\":2},\"scene\":{\"xaxis\":{\"backgroundcolor\":\"#E5ECF6\",\"gridcolor\":\"white\",\"linecolor\":\"white\",\"showbackground\":true,\"ticks\":\"\",\"zerolinecolor\":\"white\",\"gridwidth\":2},\"yaxis\":{\"backgroundcolor\":\"#E5ECF6\",\"gridcolor\":\"white\",\"linecolor\":\"white\",\"showbackground\":true,\"ticks\":\"\",\"zerolinecolor\":\"white\",\"gridwidth\":2},\"zaxis\":{\"backgroundcolor\":\"#E5ECF6\",\"gridcolor\":\"white\",\"linecolor\":\"white\",\"showbackground\":true,\"ticks\":\"\",\"zerolinecolor\":\"white\",\"gridwidth\":2}},\"shapedefaults\":{\"line\":{\"color\":\"#2a3f5f\"}},\"annotationdefaults\":{\"arrowcolor\":\"#2a3f5f\",\"arrowhead\":0,\"arrowwidth\":1},\"geo\":{\"bgcolor\":\"white\",\"landcolor\":\"#E5ECF6\",\"subunitcolor\":\"white\",\"showland\":true,\"showlakes\":true,\"lakecolor\":\"white\"},\"title\":{\"x\":0.05},\"mapbox\":{\"style\":\"light\"}}},\"yaxis\":{\"gridcolor\":\"#1f292f\"},\"xaxis\":{\"rangeslider\":{\"visible\":false},\"gridcolor\":\"#1f292f\",\"nticks\":5},\"margin\":{\"l\":10,\"r\":10,\"b\":10,\"t\":10},\"font\":{\"size\":8,\"color\":\"#e1e1e1\"},\"width\":900,\"height\":400,\"paper_bgcolor\":\"#2c303c\",\"plot_bgcolor\":\"#2c303c\"},                        {\"responsive\": true}                    ).then(function(){\n",
       "                            \n",
       "var gd = document.getElementById('38976291-5161-4aa1-8312-166d16ef648b');\n",
       "var x = new MutationObserver(function (mutations, observer) {{\n",
       "        var display = window.getComputedStyle(gd).display;\n",
       "        if (!display || display === 'none') {{\n",
       "            console.log([gd, 'removed!']);\n",
       "            Plotly.purge(gd);\n",
       "            observer.disconnect();\n",
       "        }}\n",
       "}});\n",
       "\n",
       "// Listen for the removal of the full notebook cells\n",
       "var notebookContainer = gd.closest('#notebook-container');\n",
       "if (notebookContainer) {{\n",
       "    x.observe(notebookContainer, {childList: true});\n",
       "}}\n",
       "\n",
       "// Listen for the clearing of the current output cell\n",
       "var outputEl = gd.closest('.output');\n",
       "if (outputEl) {{\n",
       "    x.observe(outputEl, {childList: true});\n",
       "}}\n",
       "\n",
       "                        })                };                });            </script>        </div>"
      ]
     },
     "metadata": {},
     "output_type": "display_data"
    },
    {
     "name": "stdout",
     "output_type": "stream",
     "text": [
      "USD_CAD 389\n"
     ]
    },
    {
     "data": {
      "application/vnd.plotly.v1+json": {
       "config": {
        "plotlyServerURL": "https://plot.ly"
       },
       "data": [
        {
         "line": {
          "shape": "spline",
          "width": 2
         },
         "name": "GAIN_C",
         "type": "scatter",
         "x": [
          "s21-12-16 01:00",
          "s21-12-17 03:00",
          "s21-12-21 04:00",
          "s21-12-21 15:00",
          "s21-12-21 19:00",
          "s21-12-24 06:00",
          "s21-12-24 13:00",
          "s21-12-27 00:00",
          "s21-12-27 18:00",
          "s21-12-28 10:00",
          "s21-12-28 13:00",
          "s21-12-28 14:00",
          "s21-12-29 16:00",
          "s21-12-30 10:00",
          "s21-12-30 17:00",
          "s22-01-03 07:00",
          "s22-01-04 07:00",
          "s22-01-05 07:00",
          "s22-01-05 18:00",
          "s22-01-05 19:00",
          "s22-01-06 16:00",
          "s22-01-10 14:00",
          "s22-01-11 05:00",
          "s22-01-13 22:00",
          "s22-01-14 10:00",
          "s22-01-14 17:00",
          "s22-01-17 07:00",
          "s22-01-18 12:00",
          "s22-01-18 13:00",
          "s22-01-18 16:00",
          "s22-01-19 02:00",
          "s22-01-19 22:00",
          "s22-01-20 08:00",
          "s22-01-21 01:00",
          "s22-01-25 04:00",
          "s22-01-25 13:00",
          "s22-01-25 18:00",
          "s22-01-26 20:00",
          "s22-01-27 17:00",
          "s22-01-27 18:00",
          "s22-01-31 02:00",
          "s22-02-01 20:00",
          "s22-02-02 04:00",
          "s22-02-03 06:00",
          "s22-02-03 20:00",
          "s22-02-04 08:00",
          "s22-02-07 05:00",
          "s22-02-08 08:00",
          "s22-02-09 04:00",
          "s22-02-10 08:00",
          "s22-02-10 12:00",
          "s22-02-10 13:00",
          "s22-02-10 15:00",
          "s22-02-10 19:00",
          "s22-02-11 14:00",
          "s22-02-14 01:00",
          "s22-02-14 20:00",
          "s22-02-15 19:00",
          "s22-02-16 02:00",
          "s22-02-17 02:00",
          "s22-02-17 17:00",
          "s22-02-18 03:00",
          "s22-02-18 08:00",
          "s22-02-18 16:00",
          "s22-02-21 08:00",
          "s22-02-21 16:00",
          "s22-02-22 11:00",
          "s22-02-22 22:00",
          "s22-02-23 08:00",
          "s22-02-23 23:00",
          "s22-02-25 01:00",
          "s22-02-28 05:00",
          "s22-02-28 14:00",
          "s22-03-01 16:00",
          "s22-03-02 10:00",
          "s22-03-03 16:00",
          "s22-03-07 01:00",
          "s22-03-07 15:00",
          "s22-03-09 08:00",
          "s22-03-10 09:00",
          "s22-03-10 11:00",
          "s22-03-11 07:00",
          "s22-03-11 13:00",
          "s22-03-14 03:00",
          "s22-03-15 17:00",
          "s22-03-18 17:00",
          "s22-03-18 19:00",
          "s22-03-18 20:00",
          "s22-03-20 22:00",
          "s22-03-21 11:00",
          "s22-03-21 14:00",
          "s22-03-22 07:00",
          "s22-03-22 18:00",
          "s22-03-23 11:00",
          "s22-03-23 18:00",
          "s22-03-24 06:00",
          "s22-03-24 14:00",
          "s22-03-25 09:00",
          "s22-03-25 10:00",
          "s22-03-25 12:00",
          "s22-03-25 15:00",
          "s22-03-28 08:00",
          "s22-03-29 03:00",
          "s22-03-29 21:00",
          "s22-03-30 02:00",
          "s22-03-30 23:00",
          "s22-03-31 18:00",
          "s22-04-01 04:00",
          "s22-04-01 12:00",
          "s22-04-01 13:00",
          "s22-04-01 14:00",
          "s22-04-01 18:00",
          "s22-04-04 07:00",
          "s22-04-05 22:00",
          "s22-04-08 07:00",
          "s22-04-08 12:00",
          "s22-04-08 19:00",
          "s22-04-11 05:00",
          "s22-04-12 13:00",
          "s22-04-13 01:00",
          "s22-04-13 18:00",
          "s22-04-14 14:00",
          "s22-04-15 08:00",
          "s22-04-15 18:00",
          "s22-04-18 17:00",
          "s22-04-19 15:00",
          "s22-04-20 03:00",
          "s22-04-21 16:00",
          "s22-04-25 23:00",
          "s22-04-26 13:00",
          "s22-04-27 07:00",
          "s22-04-27 10:00",
          "s22-04-27 23:00",
          "s22-04-28 09:00",
          "s22-04-28 21:00",
          "s22-04-29 18:00",
          "s22-05-03 01:00",
          "s22-05-03 16:00",
          "s22-05-03 18:00",
          "s22-05-05 13:00",
          "s22-05-10 11:00",
          "s22-05-10 18:00",
          "s22-05-11 07:00",
          "s22-05-12 00:00",
          "s22-05-13 03:00",
          "s22-05-16 08:00",
          "s22-05-16 15:00",
          "s22-05-17 19:00",
          "s22-05-18 00:00",
          "s22-05-18 08:00",
          "s22-05-19 07:00",
          "s22-05-20 03:00",
          "s22-05-20 08:00",
          "s22-05-20 18:00",
          "s22-05-23 05:00",
          "s22-05-24 03:00",
          "s22-05-25 08:00",
          "s22-05-25 10:00",
          "s22-05-25 21:00",
          "s22-05-26 09:00",
          "s22-05-26 14:00",
          "s22-05-31 05:00",
          "s22-05-31 15:00",
          "s22-06-01 06:00",
          "s22-06-01 14:00",
          "s22-06-01 23:00",
          "s22-06-02 13:00",
          "s22-06-03 17:00",
          "s22-06-06 07:00",
          "s22-06-06 22:00",
          "s22-06-07 15:00",
          "s22-06-08 08:00",
          "s22-06-08 16:00",
          "s22-06-08 23:00",
          "s22-06-15 10:00",
          "s22-06-16 11:00",
          "s22-06-20 03:00",
          "s22-06-22 02:00",
          "s22-06-22 17:00",
          "s22-06-23 04:00",
          "s22-06-24 07:00",
          "s22-06-27 17:00",
          "s22-06-27 22:00",
          "s22-06-28 19:00",
          "s22-06-29 12:00",
          "s22-06-29 14:00",
          "s22-06-29 16:00",
          "s22-06-29 17:00",
          "s22-06-30 18:00",
          "s22-07-01 05:00",
          "s22-07-03 21:00",
          "s22-07-04 23:00",
          "s22-07-05 00:00",
          "s22-07-05 09:00",
          "s22-07-06 07:00",
          "s22-07-06 12:00",
          "s22-07-07 02:00",
          "s22-07-08 06:00",
          "s22-07-08 17:00",
          "s22-07-11 06:00",
          "s22-07-11 23:00",
          "s22-07-12 02:00",
          "s22-07-12 18:00",
          "s22-07-13 04:00",
          "s22-07-13 10:00",
          "s22-07-14 04:00",
          "s22-07-15 02:00",
          "s22-07-19 00:00",
          "s22-07-19 10:00",
          "s22-07-20 13:00",
          "s22-07-21 04:00",
          "s22-07-21 09:00",
          "s22-07-21 21:00"
         ],
         "y": [
          47.80000000000006,
          168.6999999999994,
          162.89999999999915,
          157.00000000000045,
          260.800000000001,
          252.40000000000146,
          251.00000000000117,
          236.60000000000008,
          244.80000000000052,
          240.30000000000211,
          229.30000000000334,
          241.60000000000397,
          262.20000000000346,
          253.90000000000236,
          360.60000000000196,
          414.00000000000097,
          428.9000000000009,
          417.200000000002,
          364.4000000000025,
          336.00000000000296,
          381.9000000000039,
          350.1000000000043,
          485.0000000000043,
          461.20000000000385,
          387.4000000000022,
          347.6000000000013,
          361.9000000000017,
          359.40000000000305,
          329.8000000000045,
          294.00000000000534,
          284.800000000005,
          268.00000000000375,
          239.8000000000033,
          371.30000000000325,
          382.8000000000031,
          347.0000000000039,
          277.4000000000054,
          332.6000000000051,
          336.40000000000333,
          346.0000000000018,
          396.00000000000074,
          399.8000000000012,
          404.80000000000285,
          409.6000000000032,
          392.60000000000286,
          415.40000000000344,
          464.5000000000031,
          476.4000000000034,
          499.3000000000046,
          500.40000000000515,
          469.20000000000505,
          421.0000000000046,
          360.4000000000051,
          343.8000000000051,
          301.0000000000045,
          293.3000000000051,
          293.60000000000485,
          278.400000000003,
          299.3000000000022,
          289.3000000000033,
          281.1000000000051,
          265.2000000000053,
          194.40000000000552,
          173.60000000000693,
          158.60000000000636,
          149.30000000000538,
          115.20000000000626,
          61.20000000000776,
          41.600000000008144,
          100.60000000000831,
          107.80000000000885,
          28.500000000008924,
          25.800000000009,
          30.40000000000805,
          69.10000000000622,
          116.40000000000524,
          69.00000000000557,
          137.80000000000553,
          160.4000000000048,
          167.20000000000493,
          218.20000000000599,
          162.8000000000072,
          97.30000000000665,
          100.40000000000475,
          276.200000000004,
          259.5000000000034,
          248.9000000000028,
          247.60000000000315,
          237.20000000000385,
          210.90000000000475,
          198.20000000000593,
          182.2000000000077,
          171.8000000000084,
          141.80000000000726,
          128.40000000000606,
          63.50000000000499,
          34.800000000003486,
          23.300000000003642,
          23.200000000005208,
          7.300000000005404,
          36.200000000006,
          69.00000000000772,
          85.40000000000857,
          77.20000000000815,
          86.00000000000807,
          84.10000000000895,
          70.00000000000983,
          77.00000000001128,
          74.60000000001332,
          71.20000000001548,
          63.40000000001767,
          42.300000000019324,
          43.60000000001896,
          143.60000000001904,
          134.30000000002028,
          106.40000000001957,
          83.60000000001898,
          102.90000000001885,
          88.60000000001843,
          31.100000000019207,
          -15.199999999979909,
          -32.499999999980005,
          -44.999999999979735,
          -45.99999999997962,
          -55.2999999999806,
          -85.99999999998188,
          -49.19999999998283,
          139.00000000001776,
          64.40000000001754,
          74.20000000001735,
          66.20000000001824,
          50.80000000001726,
          30.600000000015935,
          2.8000000000158884,
          -22.39999999998489,
          -2.2999999999864364,
          -4.799999999987271,
          -16.39999999998777,
          47.800000000013156,
          261.4000000000136,
          228.8000000000132,
          197.00000000001359,
          202.9000000000145,
          217.6000000000153,
          297.4000000000163,
          255.70000000001622,
          320.9000000000148,
          310.7000000000146,
          269.20000000001585,
          256.6000000000177,
          259.80000000001866,
          216.40000000001857,
          154.20000000001744,
          97.40000000001615,
          88.80000000001532,
          128.60000000001403,
          112.40000000001227,
          71.20000000001104,
          70.20000000001116,
          48.800000000010854,
          178.7000000000092,
          153.30000000000933,
          127.60000000000971,
          103.50000000000948,
          78.60000000001067,
          40.400000000011325,
          77.30000000001104,
          49.200000000011244,
          35.500000000012534,
          6.6000000000141625,
          1.3000000000149683,
          -20.09999999998534,
          -41.199999999985906,
          328.0000000000147,
          305.000000000015,
          362.0000000000154,
          395.0000000000162,
          345.40000000001544,
          308.00000000001467,
          329.00000000001455,
          430.5000000000156,
          421.900000000017,
          414.80000000001706,
          396.30000000001576,
          377.80000000001445,
          387.3000000000145,
          390.4000000000148,
          377.400000000014,
          327.6000000000142,
          288.20000000001585,
          310.00000000001654,
          302.0000000000174,
          225.8000000000178,
          321.600000000017,
          318.00000000001785,
          317.20000000001926,
          346.60000000001867,
          317.8000000000187,
          288.20000000002017,
          289.3000000000207,
          273.0000000000205,
          266.4000000000195,
          261.3000000000194,
          254.4000000000208,
          279.7000000000222,
          401.60000000002367,
          517.2000000000238,
          468.8000000000243,
          516.3000000000246,
          487.80000000002445,
          435.6000000000244,
          389.20000000002466,
          389.20000000002466
         ]
        }
       ],
       "layout": {
        "font": {
         "color": "#e1e1e1",
         "size": 8
        },
        "height": 400,
        "margin": {
         "b": 10,
         "l": 10,
         "r": 10,
         "t": 10
        },
        "paper_bgcolor": "#2c303c",
        "plot_bgcolor": "#2c303c",
        "template": {
         "data": {
          "bar": [
           {
            "error_x": {
             "color": "#2a3f5f"
            },
            "error_y": {
             "color": "#2a3f5f"
            },
            "marker": {
             "line": {
              "color": "#E5ECF6",
              "width": 0.5
             },
             "pattern": {
              "fillmode": "overlay",
              "size": 10,
              "solidity": 0.2
             }
            },
            "type": "bar"
           }
          ],
          "barpolar": [
           {
            "marker": {
             "line": {
              "color": "#E5ECF6",
              "width": 0.5
             },
             "pattern": {
              "fillmode": "overlay",
              "size": 10,
              "solidity": 0.2
             }
            },
            "type": "barpolar"
           }
          ],
          "carpet": [
           {
            "aaxis": {
             "endlinecolor": "#2a3f5f",
             "gridcolor": "white",
             "linecolor": "white",
             "minorgridcolor": "white",
             "startlinecolor": "#2a3f5f"
            },
            "baxis": {
             "endlinecolor": "#2a3f5f",
             "gridcolor": "white",
             "linecolor": "white",
             "minorgridcolor": "white",
             "startlinecolor": "#2a3f5f"
            },
            "type": "carpet"
           }
          ],
          "choropleth": [
           {
            "colorbar": {
             "outlinewidth": 0,
             "ticks": ""
            },
            "type": "choropleth"
           }
          ],
          "contour": [
           {
            "colorbar": {
             "outlinewidth": 0,
             "ticks": ""
            },
            "colorscale": [
             [
              0,
              "#0d0887"
             ],
             [
              0.1111111111111111,
              "#46039f"
             ],
             [
              0.2222222222222222,
              "#7201a8"
             ],
             [
              0.3333333333333333,
              "#9c179e"
             ],
             [
              0.4444444444444444,
              "#bd3786"
             ],
             [
              0.5555555555555556,
              "#d8576b"
             ],
             [
              0.6666666666666666,
              "#ed7953"
             ],
             [
              0.7777777777777778,
              "#fb9f3a"
             ],
             [
              0.8888888888888888,
              "#fdca26"
             ],
             [
              1,
              "#f0f921"
             ]
            ],
            "type": "contour"
           }
          ],
          "contourcarpet": [
           {
            "colorbar": {
             "outlinewidth": 0,
             "ticks": ""
            },
            "type": "contourcarpet"
           }
          ],
          "heatmap": [
           {
            "colorbar": {
             "outlinewidth": 0,
             "ticks": ""
            },
            "colorscale": [
             [
              0,
              "#0d0887"
             ],
             [
              0.1111111111111111,
              "#46039f"
             ],
             [
              0.2222222222222222,
              "#7201a8"
             ],
             [
              0.3333333333333333,
              "#9c179e"
             ],
             [
              0.4444444444444444,
              "#bd3786"
             ],
             [
              0.5555555555555556,
              "#d8576b"
             ],
             [
              0.6666666666666666,
              "#ed7953"
             ],
             [
              0.7777777777777778,
              "#fb9f3a"
             ],
             [
              0.8888888888888888,
              "#fdca26"
             ],
             [
              1,
              "#f0f921"
             ]
            ],
            "type": "heatmap"
           }
          ],
          "heatmapgl": [
           {
            "colorbar": {
             "outlinewidth": 0,
             "ticks": ""
            },
            "colorscale": [
             [
              0,
              "#0d0887"
             ],
             [
              0.1111111111111111,
              "#46039f"
             ],
             [
              0.2222222222222222,
              "#7201a8"
             ],
             [
              0.3333333333333333,
              "#9c179e"
             ],
             [
              0.4444444444444444,
              "#bd3786"
             ],
             [
              0.5555555555555556,
              "#d8576b"
             ],
             [
              0.6666666666666666,
              "#ed7953"
             ],
             [
              0.7777777777777778,
              "#fb9f3a"
             ],
             [
              0.8888888888888888,
              "#fdca26"
             ],
             [
              1,
              "#f0f921"
             ]
            ],
            "type": "heatmapgl"
           }
          ],
          "histogram": [
           {
            "marker": {
             "pattern": {
              "fillmode": "overlay",
              "size": 10,
              "solidity": 0.2
             }
            },
            "type": "histogram"
           }
          ],
          "histogram2d": [
           {
            "colorbar": {
             "outlinewidth": 0,
             "ticks": ""
            },
            "colorscale": [
             [
              0,
              "#0d0887"
             ],
             [
              0.1111111111111111,
              "#46039f"
             ],
             [
              0.2222222222222222,
              "#7201a8"
             ],
             [
              0.3333333333333333,
              "#9c179e"
             ],
             [
              0.4444444444444444,
              "#bd3786"
             ],
             [
              0.5555555555555556,
              "#d8576b"
             ],
             [
              0.6666666666666666,
              "#ed7953"
             ],
             [
              0.7777777777777778,
              "#fb9f3a"
             ],
             [
              0.8888888888888888,
              "#fdca26"
             ],
             [
              1,
              "#f0f921"
             ]
            ],
            "type": "histogram2d"
           }
          ],
          "histogram2dcontour": [
           {
            "colorbar": {
             "outlinewidth": 0,
             "ticks": ""
            },
            "colorscale": [
             [
              0,
              "#0d0887"
             ],
             [
              0.1111111111111111,
              "#46039f"
             ],
             [
              0.2222222222222222,
              "#7201a8"
             ],
             [
              0.3333333333333333,
              "#9c179e"
             ],
             [
              0.4444444444444444,
              "#bd3786"
             ],
             [
              0.5555555555555556,
              "#d8576b"
             ],
             [
              0.6666666666666666,
              "#ed7953"
             ],
             [
              0.7777777777777778,
              "#fb9f3a"
             ],
             [
              0.8888888888888888,
              "#fdca26"
             ],
             [
              1,
              "#f0f921"
             ]
            ],
            "type": "histogram2dcontour"
           }
          ],
          "mesh3d": [
           {
            "colorbar": {
             "outlinewidth": 0,
             "ticks": ""
            },
            "type": "mesh3d"
           }
          ],
          "parcoords": [
           {
            "line": {
             "colorbar": {
              "outlinewidth": 0,
              "ticks": ""
             }
            },
            "type": "parcoords"
           }
          ],
          "pie": [
           {
            "automargin": true,
            "type": "pie"
           }
          ],
          "scatter": [
           {
            "fillpattern": {
             "fillmode": "overlay",
             "size": 10,
             "solidity": 0.2
            },
            "type": "scatter"
           }
          ],
          "scatter3d": [
           {
            "line": {
             "colorbar": {
              "outlinewidth": 0,
              "ticks": ""
             }
            },
            "marker": {
             "colorbar": {
              "outlinewidth": 0,
              "ticks": ""
             }
            },
            "type": "scatter3d"
           }
          ],
          "scattercarpet": [
           {
            "marker": {
             "colorbar": {
              "outlinewidth": 0,
              "ticks": ""
             }
            },
            "type": "scattercarpet"
           }
          ],
          "scattergeo": [
           {
            "marker": {
             "colorbar": {
              "outlinewidth": 0,
              "ticks": ""
             }
            },
            "type": "scattergeo"
           }
          ],
          "scattergl": [
           {
            "marker": {
             "colorbar": {
              "outlinewidth": 0,
              "ticks": ""
             }
            },
            "type": "scattergl"
           }
          ],
          "scattermapbox": [
           {
            "marker": {
             "colorbar": {
              "outlinewidth": 0,
              "ticks": ""
             }
            },
            "type": "scattermapbox"
           }
          ],
          "scatterpolar": [
           {
            "marker": {
             "colorbar": {
              "outlinewidth": 0,
              "ticks": ""
             }
            },
            "type": "scatterpolar"
           }
          ],
          "scatterpolargl": [
           {
            "marker": {
             "colorbar": {
              "outlinewidth": 0,
              "ticks": ""
             }
            },
            "type": "scatterpolargl"
           }
          ],
          "scatterternary": [
           {
            "marker": {
             "colorbar": {
              "outlinewidth": 0,
              "ticks": ""
             }
            },
            "type": "scatterternary"
           }
          ],
          "surface": [
           {
            "colorbar": {
             "outlinewidth": 0,
             "ticks": ""
            },
            "colorscale": [
             [
              0,
              "#0d0887"
             ],
             [
              0.1111111111111111,
              "#46039f"
             ],
             [
              0.2222222222222222,
              "#7201a8"
             ],
             [
              0.3333333333333333,
              "#9c179e"
             ],
             [
              0.4444444444444444,
              "#bd3786"
             ],
             [
              0.5555555555555556,
              "#d8576b"
             ],
             [
              0.6666666666666666,
              "#ed7953"
             ],
             [
              0.7777777777777778,
              "#fb9f3a"
             ],
             [
              0.8888888888888888,
              "#fdca26"
             ],
             [
              1,
              "#f0f921"
             ]
            ],
            "type": "surface"
           }
          ],
          "table": [
           {
            "cells": {
             "fill": {
              "color": "#EBF0F8"
             },
             "line": {
              "color": "white"
             }
            },
            "header": {
             "fill": {
              "color": "#C8D4E3"
             },
             "line": {
              "color": "white"
             }
            },
            "type": "table"
           }
          ]
         },
         "layout": {
          "annotationdefaults": {
           "arrowcolor": "#2a3f5f",
           "arrowhead": 0,
           "arrowwidth": 1
          },
          "autotypenumbers": "strict",
          "coloraxis": {
           "colorbar": {
            "outlinewidth": 0,
            "ticks": ""
           }
          },
          "colorscale": {
           "diverging": [
            [
             0,
             "#8e0152"
            ],
            [
             0.1,
             "#c51b7d"
            ],
            [
             0.2,
             "#de77ae"
            ],
            [
             0.3,
             "#f1b6da"
            ],
            [
             0.4,
             "#fde0ef"
            ],
            [
             0.5,
             "#f7f7f7"
            ],
            [
             0.6,
             "#e6f5d0"
            ],
            [
             0.7,
             "#b8e186"
            ],
            [
             0.8,
             "#7fbc41"
            ],
            [
             0.9,
             "#4d9221"
            ],
            [
             1,
             "#276419"
            ]
           ],
           "sequential": [
            [
             0,
             "#0d0887"
            ],
            [
             0.1111111111111111,
             "#46039f"
            ],
            [
             0.2222222222222222,
             "#7201a8"
            ],
            [
             0.3333333333333333,
             "#9c179e"
            ],
            [
             0.4444444444444444,
             "#bd3786"
            ],
            [
             0.5555555555555556,
             "#d8576b"
            ],
            [
             0.6666666666666666,
             "#ed7953"
            ],
            [
             0.7777777777777778,
             "#fb9f3a"
            ],
            [
             0.8888888888888888,
             "#fdca26"
            ],
            [
             1,
             "#f0f921"
            ]
           ],
           "sequentialminus": [
            [
             0,
             "#0d0887"
            ],
            [
             0.1111111111111111,
             "#46039f"
            ],
            [
             0.2222222222222222,
             "#7201a8"
            ],
            [
             0.3333333333333333,
             "#9c179e"
            ],
            [
             0.4444444444444444,
             "#bd3786"
            ],
            [
             0.5555555555555556,
             "#d8576b"
            ],
            [
             0.6666666666666666,
             "#ed7953"
            ],
            [
             0.7777777777777778,
             "#fb9f3a"
            ],
            [
             0.8888888888888888,
             "#fdca26"
            ],
            [
             1,
             "#f0f921"
            ]
           ]
          },
          "colorway": [
           "#636efa",
           "#EF553B",
           "#00cc96",
           "#ab63fa",
           "#FFA15A",
           "#19d3f3",
           "#FF6692",
           "#B6E880",
           "#FF97FF",
           "#FECB52"
          ],
          "font": {
           "color": "#2a3f5f"
          },
          "geo": {
           "bgcolor": "white",
           "lakecolor": "white",
           "landcolor": "#E5ECF6",
           "showlakes": true,
           "showland": true,
           "subunitcolor": "white"
          },
          "hoverlabel": {
           "align": "left"
          },
          "hovermode": "closest",
          "mapbox": {
           "style": "light"
          },
          "paper_bgcolor": "white",
          "plot_bgcolor": "#E5ECF6",
          "polar": {
           "angularaxis": {
            "gridcolor": "white",
            "linecolor": "white",
            "ticks": ""
           },
           "bgcolor": "#E5ECF6",
           "radialaxis": {
            "gridcolor": "white",
            "linecolor": "white",
            "ticks": ""
           }
          },
          "scene": {
           "xaxis": {
            "backgroundcolor": "#E5ECF6",
            "gridcolor": "white",
            "gridwidth": 2,
            "linecolor": "white",
            "showbackground": true,
            "ticks": "",
            "zerolinecolor": "white"
           },
           "yaxis": {
            "backgroundcolor": "#E5ECF6",
            "gridcolor": "white",
            "gridwidth": 2,
            "linecolor": "white",
            "showbackground": true,
            "ticks": "",
            "zerolinecolor": "white"
           },
           "zaxis": {
            "backgroundcolor": "#E5ECF6",
            "gridcolor": "white",
            "gridwidth": 2,
            "linecolor": "white",
            "showbackground": true,
            "ticks": "",
            "zerolinecolor": "white"
           }
          },
          "shapedefaults": {
           "line": {
            "color": "#2a3f5f"
           }
          },
          "ternary": {
           "aaxis": {
            "gridcolor": "white",
            "linecolor": "white",
            "ticks": ""
           },
           "baxis": {
            "gridcolor": "white",
            "linecolor": "white",
            "ticks": ""
           },
           "bgcolor": "#E5ECF6",
           "caxis": {
            "gridcolor": "white",
            "linecolor": "white",
            "ticks": ""
           }
          },
          "title": {
           "x": 0.05
          },
          "xaxis": {
           "automargin": true,
           "gridcolor": "white",
           "linecolor": "white",
           "ticks": "",
           "title": {
            "standoff": 15
           },
           "zerolinecolor": "white",
           "zerolinewidth": 2
          },
          "yaxis": {
           "automargin": true,
           "gridcolor": "white",
           "linecolor": "white",
           "ticks": "",
           "title": {
            "standoff": 15
           },
           "zerolinecolor": "white",
           "zerolinewidth": 2
          }
         }
        },
        "width": 900,
        "xaxis": {
         "gridcolor": "#1f292f",
         "nticks": 5,
         "rangeslider": {
          "visible": false
         }
        },
        "yaxis": {
         "gridcolor": "#1f292f"
        }
       }
      },
      "text/html": [
       "<div>                            <div id=\"f2f4a926-7da3-4824-b2b0-cc01c9291753\" class=\"plotly-graph-div\" style=\"height:400px; width:900px;\"></div>            <script type=\"text/javascript\">                require([\"plotly\"], function(Plotly) {                    window.PLOTLYENV=window.PLOTLYENV || {};                                    if (document.getElementById(\"f2f4a926-7da3-4824-b2b0-cc01c9291753\")) {                    Plotly.newPlot(                        \"f2f4a926-7da3-4824-b2b0-cc01c9291753\",                        [{\"line\":{\"shape\":\"spline\",\"width\":2},\"name\":\"GAIN_C\",\"x\":[\"s21-12-16 01:00\",\"s21-12-17 03:00\",\"s21-12-21 04:00\",\"s21-12-21 15:00\",\"s21-12-21 19:00\",\"s21-12-24 06:00\",\"s21-12-24 13:00\",\"s21-12-27 00:00\",\"s21-12-27 18:00\",\"s21-12-28 10:00\",\"s21-12-28 13:00\",\"s21-12-28 14:00\",\"s21-12-29 16:00\",\"s21-12-30 10:00\",\"s21-12-30 17:00\",\"s22-01-03 07:00\",\"s22-01-04 07:00\",\"s22-01-05 07:00\",\"s22-01-05 18:00\",\"s22-01-05 19:00\",\"s22-01-06 16:00\",\"s22-01-10 14:00\",\"s22-01-11 05:00\",\"s22-01-13 22:00\",\"s22-01-14 10:00\",\"s22-01-14 17:00\",\"s22-01-17 07:00\",\"s22-01-18 12:00\",\"s22-01-18 13:00\",\"s22-01-18 16:00\",\"s22-01-19 02:00\",\"s22-01-19 22:00\",\"s22-01-20 08:00\",\"s22-01-21 01:00\",\"s22-01-25 04:00\",\"s22-01-25 13:00\",\"s22-01-25 18:00\",\"s22-01-26 20:00\",\"s22-01-27 17:00\",\"s22-01-27 18:00\",\"s22-01-31 02:00\",\"s22-02-01 20:00\",\"s22-02-02 04:00\",\"s22-02-03 06:00\",\"s22-02-03 20:00\",\"s22-02-04 08:00\",\"s22-02-07 05:00\",\"s22-02-08 08:00\",\"s22-02-09 04:00\",\"s22-02-10 08:00\",\"s22-02-10 12:00\",\"s22-02-10 13:00\",\"s22-02-10 15:00\",\"s22-02-10 19:00\",\"s22-02-11 14:00\",\"s22-02-14 01:00\",\"s22-02-14 20:00\",\"s22-02-15 19:00\",\"s22-02-16 02:00\",\"s22-02-17 02:00\",\"s22-02-17 17:00\",\"s22-02-18 03:00\",\"s22-02-18 08:00\",\"s22-02-18 16:00\",\"s22-02-21 08:00\",\"s22-02-21 16:00\",\"s22-02-22 11:00\",\"s22-02-22 22:00\",\"s22-02-23 08:00\",\"s22-02-23 23:00\",\"s22-02-25 01:00\",\"s22-02-28 05:00\",\"s22-02-28 14:00\",\"s22-03-01 16:00\",\"s22-03-02 10:00\",\"s22-03-03 16:00\",\"s22-03-07 01:00\",\"s22-03-07 15:00\",\"s22-03-09 08:00\",\"s22-03-10 09:00\",\"s22-03-10 11:00\",\"s22-03-11 07:00\",\"s22-03-11 13:00\",\"s22-03-14 03:00\",\"s22-03-15 17:00\",\"s22-03-18 17:00\",\"s22-03-18 19:00\",\"s22-03-18 20:00\",\"s22-03-20 22:00\",\"s22-03-21 11:00\",\"s22-03-21 14:00\",\"s22-03-22 07:00\",\"s22-03-22 18:00\",\"s22-03-23 11:00\",\"s22-03-23 18:00\",\"s22-03-24 06:00\",\"s22-03-24 14:00\",\"s22-03-25 09:00\",\"s22-03-25 10:00\",\"s22-03-25 12:00\",\"s22-03-25 15:00\",\"s22-03-28 08:00\",\"s22-03-29 03:00\",\"s22-03-29 21:00\",\"s22-03-30 02:00\",\"s22-03-30 23:00\",\"s22-03-31 18:00\",\"s22-04-01 04:00\",\"s22-04-01 12:00\",\"s22-04-01 13:00\",\"s22-04-01 14:00\",\"s22-04-01 18:00\",\"s22-04-04 07:00\",\"s22-04-05 22:00\",\"s22-04-08 07:00\",\"s22-04-08 12:00\",\"s22-04-08 19:00\",\"s22-04-11 05:00\",\"s22-04-12 13:00\",\"s22-04-13 01:00\",\"s22-04-13 18:00\",\"s22-04-14 14:00\",\"s22-04-15 08:00\",\"s22-04-15 18:00\",\"s22-04-18 17:00\",\"s22-04-19 15:00\",\"s22-04-20 03:00\",\"s22-04-21 16:00\",\"s22-04-25 23:00\",\"s22-04-26 13:00\",\"s22-04-27 07:00\",\"s22-04-27 10:00\",\"s22-04-27 23:00\",\"s22-04-28 09:00\",\"s22-04-28 21:00\",\"s22-04-29 18:00\",\"s22-05-03 01:00\",\"s22-05-03 16:00\",\"s22-05-03 18:00\",\"s22-05-05 13:00\",\"s22-05-10 11:00\",\"s22-05-10 18:00\",\"s22-05-11 07:00\",\"s22-05-12 00:00\",\"s22-05-13 03:00\",\"s22-05-16 08:00\",\"s22-05-16 15:00\",\"s22-05-17 19:00\",\"s22-05-18 00:00\",\"s22-05-18 08:00\",\"s22-05-19 07:00\",\"s22-05-20 03:00\",\"s22-05-20 08:00\",\"s22-05-20 18:00\",\"s22-05-23 05:00\",\"s22-05-24 03:00\",\"s22-05-25 08:00\",\"s22-05-25 10:00\",\"s22-05-25 21:00\",\"s22-05-26 09:00\",\"s22-05-26 14:00\",\"s22-05-31 05:00\",\"s22-05-31 15:00\",\"s22-06-01 06:00\",\"s22-06-01 14:00\",\"s22-06-01 23:00\",\"s22-06-02 13:00\",\"s22-06-03 17:00\",\"s22-06-06 07:00\",\"s22-06-06 22:00\",\"s22-06-07 15:00\",\"s22-06-08 08:00\",\"s22-06-08 16:00\",\"s22-06-08 23:00\",\"s22-06-15 10:00\",\"s22-06-16 11:00\",\"s22-06-20 03:00\",\"s22-06-22 02:00\",\"s22-06-22 17:00\",\"s22-06-23 04:00\",\"s22-06-24 07:00\",\"s22-06-27 17:00\",\"s22-06-27 22:00\",\"s22-06-28 19:00\",\"s22-06-29 12:00\",\"s22-06-29 14:00\",\"s22-06-29 16:00\",\"s22-06-29 17:00\",\"s22-06-30 18:00\",\"s22-07-01 05:00\",\"s22-07-03 21:00\",\"s22-07-04 23:00\",\"s22-07-05 00:00\",\"s22-07-05 09:00\",\"s22-07-06 07:00\",\"s22-07-06 12:00\",\"s22-07-07 02:00\",\"s22-07-08 06:00\",\"s22-07-08 17:00\",\"s22-07-11 06:00\",\"s22-07-11 23:00\",\"s22-07-12 02:00\",\"s22-07-12 18:00\",\"s22-07-13 04:00\",\"s22-07-13 10:00\",\"s22-07-14 04:00\",\"s22-07-15 02:00\",\"s22-07-19 00:00\",\"s22-07-19 10:00\",\"s22-07-20 13:00\",\"s22-07-21 04:00\",\"s22-07-21 09:00\",\"s22-07-21 21:00\"],\"y\":[47.80000000000006,168.6999999999994,162.89999999999915,157.00000000000045,260.800000000001,252.40000000000146,251.00000000000117,236.60000000000008,244.80000000000052,240.30000000000211,229.30000000000334,241.60000000000397,262.20000000000346,253.90000000000236,360.60000000000196,414.00000000000097,428.9000000000009,417.200000000002,364.4000000000025,336.00000000000296,381.9000000000039,350.1000000000043,485.0000000000043,461.20000000000385,387.4000000000022,347.6000000000013,361.9000000000017,359.40000000000305,329.8000000000045,294.00000000000534,284.800000000005,268.00000000000375,239.8000000000033,371.30000000000325,382.8000000000031,347.0000000000039,277.4000000000054,332.6000000000051,336.40000000000333,346.0000000000018,396.00000000000074,399.8000000000012,404.80000000000285,409.6000000000032,392.60000000000286,415.40000000000344,464.5000000000031,476.4000000000034,499.3000000000046,500.40000000000515,469.20000000000505,421.0000000000046,360.4000000000051,343.8000000000051,301.0000000000045,293.3000000000051,293.60000000000485,278.400000000003,299.3000000000022,289.3000000000033,281.1000000000051,265.2000000000053,194.40000000000552,173.60000000000693,158.60000000000636,149.30000000000538,115.20000000000626,61.20000000000776,41.600000000008144,100.60000000000831,107.80000000000885,28.500000000008924,25.800000000009,30.40000000000805,69.10000000000622,116.40000000000524,69.00000000000557,137.80000000000553,160.4000000000048,167.20000000000493,218.20000000000599,162.8000000000072,97.30000000000665,100.40000000000475,276.200000000004,259.5000000000034,248.9000000000028,247.60000000000315,237.20000000000385,210.90000000000475,198.20000000000593,182.2000000000077,171.8000000000084,141.80000000000726,128.40000000000606,63.50000000000499,34.800000000003486,23.300000000003642,23.200000000005208,7.300000000005404,36.200000000006,69.00000000000772,85.40000000000857,77.20000000000815,86.00000000000807,84.10000000000895,70.00000000000983,77.00000000001128,74.60000000001332,71.20000000001548,63.40000000001767,42.300000000019324,43.60000000001896,143.60000000001904,134.30000000002028,106.40000000001957,83.60000000001898,102.90000000001885,88.60000000001843,31.100000000019207,-15.199999999979909,-32.499999999980005,-44.999999999979735,-45.99999999997962,-55.2999999999806,-85.99999999998188,-49.19999999998283,139.00000000001776,64.40000000001754,74.20000000001735,66.20000000001824,50.80000000001726,30.600000000015935,2.8000000000158884,-22.39999999998489,-2.2999999999864364,-4.799999999987271,-16.39999999998777,47.800000000013156,261.4000000000136,228.8000000000132,197.00000000001359,202.9000000000145,217.6000000000153,297.4000000000163,255.70000000001622,320.9000000000148,310.7000000000146,269.20000000001585,256.6000000000177,259.80000000001866,216.40000000001857,154.20000000001744,97.40000000001615,88.80000000001532,128.60000000001403,112.40000000001227,71.20000000001104,70.20000000001116,48.800000000010854,178.7000000000092,153.30000000000933,127.60000000000971,103.50000000000948,78.60000000001067,40.400000000011325,77.30000000001104,49.200000000011244,35.500000000012534,6.6000000000141625,1.3000000000149683,-20.09999999998534,-41.199999999985906,328.0000000000147,305.000000000015,362.0000000000154,395.0000000000162,345.40000000001544,308.00000000001467,329.00000000001455,430.5000000000156,421.900000000017,414.80000000001706,396.30000000001576,377.80000000001445,387.3000000000145,390.4000000000148,377.400000000014,327.6000000000142,288.20000000001585,310.00000000001654,302.0000000000174,225.8000000000178,321.600000000017,318.00000000001785,317.20000000001926,346.60000000001867,317.8000000000187,288.20000000002017,289.3000000000207,273.0000000000205,266.4000000000195,261.3000000000194,254.4000000000208,279.7000000000222,401.60000000002367,517.2000000000238,468.8000000000243,516.3000000000246,487.80000000002445,435.6000000000244,389.20000000002466,389.20000000002466],\"type\":\"scatter\"}],                        {\"template\":{\"data\":{\"histogram2dcontour\":[{\"type\":\"histogram2dcontour\",\"colorbar\":{\"outlinewidth\":0,\"ticks\":\"\"},\"colorscale\":[[0.0,\"#0d0887\"],[0.1111111111111111,\"#46039f\"],[0.2222222222222222,\"#7201a8\"],[0.3333333333333333,\"#9c179e\"],[0.4444444444444444,\"#bd3786\"],[0.5555555555555556,\"#d8576b\"],[0.6666666666666666,\"#ed7953\"],[0.7777777777777778,\"#fb9f3a\"],[0.8888888888888888,\"#fdca26\"],[1.0,\"#f0f921\"]]}],\"choropleth\":[{\"type\":\"choropleth\",\"colorbar\":{\"outlinewidth\":0,\"ticks\":\"\"}}],\"histogram2d\":[{\"type\":\"histogram2d\",\"colorbar\":{\"outlinewidth\":0,\"ticks\":\"\"},\"colorscale\":[[0.0,\"#0d0887\"],[0.1111111111111111,\"#46039f\"],[0.2222222222222222,\"#7201a8\"],[0.3333333333333333,\"#9c179e\"],[0.4444444444444444,\"#bd3786\"],[0.5555555555555556,\"#d8576b\"],[0.6666666666666666,\"#ed7953\"],[0.7777777777777778,\"#fb9f3a\"],[0.8888888888888888,\"#fdca26\"],[1.0,\"#f0f921\"]]}],\"heatmap\":[{\"type\":\"heatmap\",\"colorbar\":{\"outlinewidth\":0,\"ticks\":\"\"},\"colorscale\":[[0.0,\"#0d0887\"],[0.1111111111111111,\"#46039f\"],[0.2222222222222222,\"#7201a8\"],[0.3333333333333333,\"#9c179e\"],[0.4444444444444444,\"#bd3786\"],[0.5555555555555556,\"#d8576b\"],[0.6666666666666666,\"#ed7953\"],[0.7777777777777778,\"#fb9f3a\"],[0.8888888888888888,\"#fdca26\"],[1.0,\"#f0f921\"]]}],\"heatmapgl\":[{\"type\":\"heatmapgl\",\"colorbar\":{\"outlinewidth\":0,\"ticks\":\"\"},\"colorscale\":[[0.0,\"#0d0887\"],[0.1111111111111111,\"#46039f\"],[0.2222222222222222,\"#7201a8\"],[0.3333333333333333,\"#9c179e\"],[0.4444444444444444,\"#bd3786\"],[0.5555555555555556,\"#d8576b\"],[0.6666666666666666,\"#ed7953\"],[0.7777777777777778,\"#fb9f3a\"],[0.8888888888888888,\"#fdca26\"],[1.0,\"#f0f921\"]]}],\"contourcarpet\":[{\"type\":\"contourcarpet\",\"colorbar\":{\"outlinewidth\":0,\"ticks\":\"\"}}],\"contour\":[{\"type\":\"contour\",\"colorbar\":{\"outlinewidth\":0,\"ticks\":\"\"},\"colorscale\":[[0.0,\"#0d0887\"],[0.1111111111111111,\"#46039f\"],[0.2222222222222222,\"#7201a8\"],[0.3333333333333333,\"#9c179e\"],[0.4444444444444444,\"#bd3786\"],[0.5555555555555556,\"#d8576b\"],[0.6666666666666666,\"#ed7953\"],[0.7777777777777778,\"#fb9f3a\"],[0.8888888888888888,\"#fdca26\"],[1.0,\"#f0f921\"]]}],\"surface\":[{\"type\":\"surface\",\"colorbar\":{\"outlinewidth\":0,\"ticks\":\"\"},\"colorscale\":[[0.0,\"#0d0887\"],[0.1111111111111111,\"#46039f\"],[0.2222222222222222,\"#7201a8\"],[0.3333333333333333,\"#9c179e\"],[0.4444444444444444,\"#bd3786\"],[0.5555555555555556,\"#d8576b\"],[0.6666666666666666,\"#ed7953\"],[0.7777777777777778,\"#fb9f3a\"],[0.8888888888888888,\"#fdca26\"],[1.0,\"#f0f921\"]]}],\"mesh3d\":[{\"type\":\"mesh3d\",\"colorbar\":{\"outlinewidth\":0,\"ticks\":\"\"}}],\"scatter\":[{\"fillpattern\":{\"fillmode\":\"overlay\",\"size\":10,\"solidity\":0.2},\"type\":\"scatter\"}],\"parcoords\":[{\"type\":\"parcoords\",\"line\":{\"colorbar\":{\"outlinewidth\":0,\"ticks\":\"\"}}}],\"scatterpolargl\":[{\"type\":\"scatterpolargl\",\"marker\":{\"colorbar\":{\"outlinewidth\":0,\"ticks\":\"\"}}}],\"bar\":[{\"error_x\":{\"color\":\"#2a3f5f\"},\"error_y\":{\"color\":\"#2a3f5f\"},\"marker\":{\"line\":{\"color\":\"#E5ECF6\",\"width\":0.5},\"pattern\":{\"fillmode\":\"overlay\",\"size\":10,\"solidity\":0.2}},\"type\":\"bar\"}],\"scattergeo\":[{\"type\":\"scattergeo\",\"marker\":{\"colorbar\":{\"outlinewidth\":0,\"ticks\":\"\"}}}],\"scatterpolar\":[{\"type\":\"scatterpolar\",\"marker\":{\"colorbar\":{\"outlinewidth\":0,\"ticks\":\"\"}}}],\"histogram\":[{\"marker\":{\"pattern\":{\"fillmode\":\"overlay\",\"size\":10,\"solidity\":0.2}},\"type\":\"histogram\"}],\"scattergl\":[{\"type\":\"scattergl\",\"marker\":{\"colorbar\":{\"outlinewidth\":0,\"ticks\":\"\"}}}],\"scatter3d\":[{\"type\":\"scatter3d\",\"line\":{\"colorbar\":{\"outlinewidth\":0,\"ticks\":\"\"}},\"marker\":{\"colorbar\":{\"outlinewidth\":0,\"ticks\":\"\"}}}],\"scattermapbox\":[{\"type\":\"scattermapbox\",\"marker\":{\"colorbar\":{\"outlinewidth\":0,\"ticks\":\"\"}}}],\"scatterternary\":[{\"type\":\"scatterternary\",\"marker\":{\"colorbar\":{\"outlinewidth\":0,\"ticks\":\"\"}}}],\"scattercarpet\":[{\"type\":\"scattercarpet\",\"marker\":{\"colorbar\":{\"outlinewidth\":0,\"ticks\":\"\"}}}],\"carpet\":[{\"aaxis\":{\"endlinecolor\":\"#2a3f5f\",\"gridcolor\":\"white\",\"linecolor\":\"white\",\"minorgridcolor\":\"white\",\"startlinecolor\":\"#2a3f5f\"},\"baxis\":{\"endlinecolor\":\"#2a3f5f\",\"gridcolor\":\"white\",\"linecolor\":\"white\",\"minorgridcolor\":\"white\",\"startlinecolor\":\"#2a3f5f\"},\"type\":\"carpet\"}],\"table\":[{\"cells\":{\"fill\":{\"color\":\"#EBF0F8\"},\"line\":{\"color\":\"white\"}},\"header\":{\"fill\":{\"color\":\"#C8D4E3\"},\"line\":{\"color\":\"white\"}},\"type\":\"table\"}],\"barpolar\":[{\"marker\":{\"line\":{\"color\":\"#E5ECF6\",\"width\":0.5},\"pattern\":{\"fillmode\":\"overlay\",\"size\":10,\"solidity\":0.2}},\"type\":\"barpolar\"}],\"pie\":[{\"automargin\":true,\"type\":\"pie\"}]},\"layout\":{\"autotypenumbers\":\"strict\",\"colorway\":[\"#636efa\",\"#EF553B\",\"#00cc96\",\"#ab63fa\",\"#FFA15A\",\"#19d3f3\",\"#FF6692\",\"#B6E880\",\"#FF97FF\",\"#FECB52\"],\"font\":{\"color\":\"#2a3f5f\"},\"hovermode\":\"closest\",\"hoverlabel\":{\"align\":\"left\"},\"paper_bgcolor\":\"white\",\"plot_bgcolor\":\"#E5ECF6\",\"polar\":{\"bgcolor\":\"#E5ECF6\",\"angularaxis\":{\"gridcolor\":\"white\",\"linecolor\":\"white\",\"ticks\":\"\"},\"radialaxis\":{\"gridcolor\":\"white\",\"linecolor\":\"white\",\"ticks\":\"\"}},\"ternary\":{\"bgcolor\":\"#E5ECF6\",\"aaxis\":{\"gridcolor\":\"white\",\"linecolor\":\"white\",\"ticks\":\"\"},\"baxis\":{\"gridcolor\":\"white\",\"linecolor\":\"white\",\"ticks\":\"\"},\"caxis\":{\"gridcolor\":\"white\",\"linecolor\":\"white\",\"ticks\":\"\"}},\"coloraxis\":{\"colorbar\":{\"outlinewidth\":0,\"ticks\":\"\"}},\"colorscale\":{\"sequential\":[[0.0,\"#0d0887\"],[0.1111111111111111,\"#46039f\"],[0.2222222222222222,\"#7201a8\"],[0.3333333333333333,\"#9c179e\"],[0.4444444444444444,\"#bd3786\"],[0.5555555555555556,\"#d8576b\"],[0.6666666666666666,\"#ed7953\"],[0.7777777777777778,\"#fb9f3a\"],[0.8888888888888888,\"#fdca26\"],[1.0,\"#f0f921\"]],\"sequentialminus\":[[0.0,\"#0d0887\"],[0.1111111111111111,\"#46039f\"],[0.2222222222222222,\"#7201a8\"],[0.3333333333333333,\"#9c179e\"],[0.4444444444444444,\"#bd3786\"],[0.5555555555555556,\"#d8576b\"],[0.6666666666666666,\"#ed7953\"],[0.7777777777777778,\"#fb9f3a\"],[0.8888888888888888,\"#fdca26\"],[1.0,\"#f0f921\"]],\"diverging\":[[0,\"#8e0152\"],[0.1,\"#c51b7d\"],[0.2,\"#de77ae\"],[0.3,\"#f1b6da\"],[0.4,\"#fde0ef\"],[0.5,\"#f7f7f7\"],[0.6,\"#e6f5d0\"],[0.7,\"#b8e186\"],[0.8,\"#7fbc41\"],[0.9,\"#4d9221\"],[1,\"#276419\"]]},\"xaxis\":{\"gridcolor\":\"white\",\"linecolor\":\"white\",\"ticks\":\"\",\"title\":{\"standoff\":15},\"zerolinecolor\":\"white\",\"automargin\":true,\"zerolinewidth\":2},\"yaxis\":{\"gridcolor\":\"white\",\"linecolor\":\"white\",\"ticks\":\"\",\"title\":{\"standoff\":15},\"zerolinecolor\":\"white\",\"automargin\":true,\"zerolinewidth\":2},\"scene\":{\"xaxis\":{\"backgroundcolor\":\"#E5ECF6\",\"gridcolor\":\"white\",\"linecolor\":\"white\",\"showbackground\":true,\"ticks\":\"\",\"zerolinecolor\":\"white\",\"gridwidth\":2},\"yaxis\":{\"backgroundcolor\":\"#E5ECF6\",\"gridcolor\":\"white\",\"linecolor\":\"white\",\"showbackground\":true,\"ticks\":\"\",\"zerolinecolor\":\"white\",\"gridwidth\":2},\"zaxis\":{\"backgroundcolor\":\"#E5ECF6\",\"gridcolor\":\"white\",\"linecolor\":\"white\",\"showbackground\":true,\"ticks\":\"\",\"zerolinecolor\":\"white\",\"gridwidth\":2}},\"shapedefaults\":{\"line\":{\"color\":\"#2a3f5f\"}},\"annotationdefaults\":{\"arrowcolor\":\"#2a3f5f\",\"arrowhead\":0,\"arrowwidth\":1},\"geo\":{\"bgcolor\":\"white\",\"landcolor\":\"#E5ECF6\",\"subunitcolor\":\"white\",\"showland\":true,\"showlakes\":true,\"lakecolor\":\"white\"},\"title\":{\"x\":0.05},\"mapbox\":{\"style\":\"light\"}}},\"yaxis\":{\"gridcolor\":\"#1f292f\"},\"xaxis\":{\"rangeslider\":{\"visible\":false},\"gridcolor\":\"#1f292f\",\"nticks\":5},\"margin\":{\"l\":10,\"r\":10,\"b\":10,\"t\":10},\"font\":{\"size\":8,\"color\":\"#e1e1e1\"},\"width\":900,\"height\":400,\"paper_bgcolor\":\"#2c303c\",\"plot_bgcolor\":\"#2c303c\"},                        {\"responsive\": true}                    ).then(function(){\n",
       "                            \n",
       "var gd = document.getElementById('f2f4a926-7da3-4824-b2b0-cc01c9291753');\n",
       "var x = new MutationObserver(function (mutations, observer) {{\n",
       "        var display = window.getComputedStyle(gd).display;\n",
       "        if (!display || display === 'none') {{\n",
       "            console.log([gd, 'removed!']);\n",
       "            Plotly.purge(gd);\n",
       "            observer.disconnect();\n",
       "        }}\n",
       "}});\n",
       "\n",
       "// Listen for the removal of the full notebook cells\n",
       "var notebookContainer = gd.closest('#notebook-container');\n",
       "if (notebookContainer) {{\n",
       "    x.observe(notebookContainer, {childList: true});\n",
       "}}\n",
       "\n",
       "// Listen for the clearing of the current output cell\n",
       "var outputEl = gd.closest('.output');\n",
       "if (outputEl) {{\n",
       "    x.observe(outputEl, {childList: true});\n",
       "}}\n",
       "\n",
       "                        })                };                });            </script>        </div>"
      ]
     },
     "metadata": {},
     "output_type": "display_data"
    },
    {
     "name": "stdout",
     "output_type": "stream",
     "text": [
      "EUR_CAD 374\n"
     ]
    },
    {
     "data": {
      "application/vnd.plotly.v1+json": {
       "config": {
        "plotlyServerURL": "https://plot.ly"
       },
       "data": [
        {
         "line": {
          "shape": "spline",
          "width": 2
         },
         "name": "GAIN_C",
         "type": "scatter",
         "x": [
          "s21-12-09 21:00",
          "s21-12-09 22:00",
          "s21-12-10 01:00",
          "s21-12-10 11:00",
          "s21-12-10 19:00",
          "s21-12-13 08:00",
          "s21-12-13 15:00",
          "s21-12-15 02:00",
          "s21-12-15 09:00",
          "s21-12-16 02:00",
          "s21-12-17 01:00",
          "s21-12-17 18:00",
          "s21-12-20 04:00",
          "s21-12-21 04:00",
          "s21-12-21 12:00",
          "s21-12-21 18:00",
          "s21-12-22 15:00",
          "s21-12-22 22:00",
          "s21-12-24 02:00",
          "s21-12-24 14:00",
          "s21-12-27 05:00",
          "s21-12-27 18:00",
          "s21-12-28 10:00",
          "s21-12-28 11:00",
          "s21-12-28 12:00",
          "s21-12-28 14:00",
          "s21-12-28 16:00",
          "s21-12-28 20:00",
          "s21-12-28 23:00",
          "s21-12-29 09:00",
          "s21-12-29 15:00",
          "s21-12-30 05:00",
          "s22-01-03 12:00",
          "s22-01-04 04:00",
          "s22-01-05 07:00",
          "s22-01-06 16:00",
          "s22-01-07 11:00",
          "s22-01-07 19:00",
          "s22-01-10 19:00",
          "s22-01-11 08:00",
          "s22-01-12 19:00",
          "s22-01-13 12:00",
          "s22-01-13 15:00",
          "s22-01-14 11:00",
          "s22-01-14 21:00",
          "s22-01-17 05:00",
          "s22-01-19 15:00",
          "s22-01-19 17:00",
          "s22-01-19 19:00",
          "s22-01-20 10:00",
          "s22-01-21 04:00",
          "s22-01-24 08:00",
          "s22-01-24 13:00",
          "s22-01-25 06:00",
          "s22-01-26 03:00",
          "s22-01-26 07:00",
          "s22-01-26 22:00",
          "s22-01-27 11:00",
          "s22-01-28 01:00",
          "s22-01-31 03:00",
          "s22-01-31 15:00",
          "s22-02-03 01:00",
          "s22-02-03 10:00",
          "s22-02-07 04:00",
          "s22-02-08 16:00",
          "s22-02-09 05:00",
          "s22-02-10 10:00",
          "s22-02-11 07:00",
          "s22-02-15 07:00",
          "s22-02-16 04:00",
          "s22-02-16 23:00",
          "s22-02-17 12:00",
          "s22-02-17 15:00",
          "s22-02-17 17:00",
          "s22-02-18 04:00",
          "s22-02-18 09:00",
          "s22-02-18 19:00",
          "s22-02-21 17:00",
          "s22-02-22 13:00",
          "s22-02-23 07:00",
          "s22-02-25 02:00",
          "s22-02-25 10:00",
          "s22-02-25 20:00",
          "s22-02-27 22:00",
          "s22-03-02 02:00",
          "s22-03-02 08:00",
          "s22-03-03 20:00",
          "s22-03-04 06:00",
          "s22-03-07 16:00",
          "s22-03-10 07:00",
          "s22-03-11 09:00",
          "s22-03-11 13:00",
          "s22-03-14 06:00",
          "s22-03-15 18:00",
          "s22-03-16 19:00",
          "s22-03-17 08:00",
          "s22-03-17 15:00",
          "s22-03-18 03:00",
          "s22-03-22 14:00",
          "s22-03-23 02:00",
          "s22-03-25 03:00",
          "s22-03-25 15:00",
          "s22-03-28 13:00",
          "s22-03-29 05:00",
          "s22-03-29 11:00",
          "s22-03-30 06:00",
          "s22-03-30 08:00",
          "s22-03-31 13:00",
          "s22-04-04 00:00",
          "s22-04-04 08:00",
          "s22-04-06 06:00",
          "s22-04-08 00:00",
          "s22-04-08 14:00",
          "s22-04-12 11:00",
          "s22-04-13 10:00",
          "s22-04-13 21:00",
          "s22-04-14 07:00",
          "s22-04-14 12:00",
          "s22-04-15 03:00",
          "s22-04-15 04:00",
          "s22-04-15 05:00",
          "s22-04-15 06:00",
          "s22-04-15 18:00",
          "s22-04-18 14:00",
          "s22-04-19 13:00",
          "s22-04-20 02:00",
          "s22-04-21 09:00",
          "s22-04-25 08:00",
          "s22-04-26 18:00",
          "s22-04-27 03:00",
          "s22-04-29 14:00",
          "s22-05-02 11:00",
          "s22-05-02 12:00",
          "s22-05-02 22:00",
          "s22-05-03 12:00",
          "s22-05-03 22:00",
          "s22-05-04 16:00",
          "s22-05-05 07:00",
          "s22-05-05 21:00",
          "s22-05-09 06:00",
          "s22-05-09 11:00",
          "s22-05-10 11:00",
          "s22-05-11 00:00",
          "s22-05-11 02:00",
          "s22-05-11 03:00",
          "s22-05-11 06:00",
          "s22-05-12 05:00",
          "s22-05-12 08:00",
          "s22-05-16 07:00",
          "s22-05-16 16:00",
          "s22-05-17 10:00",
          "s22-05-18 05:00",
          "s22-05-19 03:00",
          "s22-05-19 06:00",
          "s22-05-19 14:00",
          "s22-05-20 07:00",
          "s22-05-22 21:00",
          "s22-05-25 05:00",
          "s22-05-26 03:00",
          "s22-05-26 20:00",
          "s22-05-27 05:00",
          "s22-05-27 09:00",
          "s22-05-30 04:00",
          "s22-05-30 07:00",
          "s22-05-30 09:00",
          "s22-05-30 13:00",
          "s22-06-01 02:00",
          "s22-06-01 07:00",
          "s22-06-02 06:00",
          "s22-06-02 21:00",
          "s22-06-03 03:00",
          "s22-06-03 11:00",
          "s22-06-06 03:00",
          "s22-06-06 09:00",
          "s22-06-07 05:00",
          "s22-06-07 13:00",
          "s22-06-08 11:00",
          "s22-06-10 13:00",
          "s22-06-13 10:00",
          "s22-06-13 14:00",
          "s22-06-14 05:00",
          "s22-06-15 16:00",
          "s22-06-16 14:00",
          "s22-06-17 09:00",
          "s22-06-17 16:00",
          "s22-06-20 19:00",
          "s22-06-21 14:00",
          "s22-06-21 19:00",
          "s22-06-22 09:00",
          "s22-06-23 09:00",
          "s22-06-23 22:00",
          "s22-06-24 12:00",
          "s22-06-27 12:00",
          "s22-06-28 00:00",
          "s22-06-30 09:00",
          "s22-06-30 12:00",
          "s22-06-30 21:00",
          "s22-07-01 14:00",
          "s22-07-04 08:00",
          "s22-07-04 09:00",
          "s22-07-05 21:00",
          "s22-07-06 06:00",
          "s22-07-08 07:00",
          "s22-07-08 11:00",
          "s22-07-11 01:00",
          "s22-07-11 03:00",
          "s22-07-12 12:00",
          "s22-07-13 01:00",
          "s22-07-13 14:00",
          "s22-07-13 20:00",
          "s22-07-14 10:00",
          "s22-07-15 04:00",
          "s22-07-15 05:00",
          "s22-07-15 15:00",
          "s22-07-18 09:00",
          "s22-07-19 05:00",
          "s22-07-19 07:00",
          "s22-07-19 21:00",
          "s22-07-21 06:00",
          "s22-07-21 22:00"
         ],
         "y": [
          -5.699999999999594,
          -5.199999999998539,
          -48.49999999999799,
          -138.39999999999853,
          -165.79999999999816,
          -237.1999999999974,
          -207.09999999999783,
          -239.7999999999989,
          -233.79999999999956,
          -199.49999999999912,
          -197.99999999999818,
          -234.89999999999787,
          -169.3999999999973,
          -186.19999999999635,
          -213.9999999999964,
          -197.99999999999594,
          -208.19999999999615,
          -185.19999999999646,
          -192.1999999999957,
          -181.99999999999548,
          -188.39999999999523,
          -185.99999999999505,
          -179.9999999999957,
          -167.39999999999532,
          -184.39999999999344,
          -211.1999999999936,
          -216.59999999999567,
          -222.4999999999966,
          -251.79999999999757,
          -311.7999999999976,
          -341.59999999999746,
          -246.39999999999776,
          -263.5999999999972,
          -241.7999999999965,
          -216.5999999999957,
          -203.39999999999583,
          -223.99999999999534,
          -223.99999999999534,
          -228.1999999999962,
          -189.79999999999555,
          -196.99999999999386,
          -199.19999999999274,
          -206.39999999999327,
          -236.29999999999376,
          -245.99999999999292,
          -123.79999999999173,
          -157.09999999999005,
          -167.99999999998818,
          -166.9999999999883,
          -174.19999999998882,
          -100.1999999999881,
          -126.79999999998694,
          -129.5999999999853,
          -99.39999999998507,
          -128.5999999999854,
          -141.1999999999858,
          -204.39999999998685,
          -223.09999999998723,
          -202.79999999998748,
          -243.89999999998804,
          -165.9999999999884,
          -173.59999999998934,
          48.80000000000882,
          105.20000000000749,
          100.20000000000805,
          105.90000000000987,
          106.10000000001118,
          195.00000000001182,
          222.80000000001186,
          216.4000000000121,
          224.00000000001305,
          240.4000000000139,
          221.20000000001468,
          206.8000000000158,
          199.6000000000175,
          178.6000000000176,
          192.40000000001695,
          213.1000000000171,
          222.00000000001768,
          315.80000000001934,
          287.90000000002084,
          300.6000000000219,
          220.00000000002234,
          295.50000000002177,
          239.5000000000213,
          306.20000000002085,
          271.80000000001974,
          394.3000000000185,
          680.3000000000181,
          831.2000000000186,
          810.100000000018,
          839.6000000000181,
          867.200000000019,
          836.3000000000187,
          812.7000000000173,
          762.4000000000165,
          708.8000000000161,
          801.1000000000146,
          774.6000000000141,
          827.3000000000152,
          753.6000000000164,
          716.4000000000169,
          678.2000000000176,
          585.400000000018,
          627.7000000000176,
          581.5000000000168,
          534.0000000000165,
          577.9000000000176,
          519.8000000000189,
          677.6000000000201,
          735.4000000000214,
          711.0000000000214,
          732.8000000000221,
          752.400000000024,
          735.6000000000249,
          721.6000000000242,
          671.400000000024,
          690.200000000025,
          683.0000000000246,
          676.2000000000244,
          660.6000000000244,
          641.3000000000245,
          632.5000000000246,
          628.6000000000234,
          615.8000000000239,
          610.200000000025,
          668.4000000000244,
          720.4000000000232,
          708.9000000000233,
          845.0000000000246,
          911.8000000000247,
          895.8000000000243,
          865.1000000000253,
          816.8000000000263,
          747.2000000000255,
          742.4000000000251,
          739.500000000026,
          719.6000000000266,
          782.6000000000264,
          732.6000000000253,
          801.0000000000248,
          792.1000000000242,
          774.4000000000237,
          772.400000000024,
          770.2000000000229,
          779.2000000000219,
          686.4000000000224,
          812.2000000000228,
          768.0000000000218,
          723.6000000000219,
          750.0000000000239,
          787.0000000000242,
          785.7000000000246,
          674.600000000025,
          632.900000000025,
          609.000000000026,
          790.9000000000275,
          808.2000000000276,
          790.4000000000265,
          784.1000000000251,
          718.9000000000243,
          698.9000000000243,
          674.9000000000248,
          662.3000000000244,
          655.9000000000225,
          749.4000000000221,
          754.2000000000226,
          798.1000000000215,
          795.8000000000197,
          789.4000000000178,
          767.4000000000158,
          767.2000000000145,
          767.5000000000142,
          798.0000000000142,
          770.2000000000141,
          750.000000000015,
          746.3000000000152,
          747.2000000000144,
          705.5000000000143,
          682.6000000000153,
          715.7000000000168,
          587.8000000000181,
          631.0000000000191,
          609.8000000000201,
          599.8000000000212,
          601.3000000000221,
          557.0000000000227,
          507.8000000000224,
          501.0000000000223,
          480.90000000002163,
          462.6000000000216,
          477.50000000002154,
          448.20000000002057,
          586.6000000000213,
          537.6000000000222,
          461.6000000000217,
          390.8000000000219,
          384.8000000000226,
          371.70000000002335,
          409.8000000000243,
          410.80000000002417,
          642.2000000000236,
          679.7000000000228,
          706.0000000000218,
          715.6000000000204,
          780.8000000000189,
          736.2000000000177,
          697.0000000000163,
          654.2000000000156,
          559.6000000000154,
          560.2000000000148,
          563.0000000000155,
          577.0000000000161,
          569.2000000000161,
          547.1000000000156,
          431.20000000001573,
          333.8000000000171,
          354.6000000000179,
          374.7000000000186,
          374.7000000000186
         ]
        }
       ],
       "layout": {
        "font": {
         "color": "#e1e1e1",
         "size": 8
        },
        "height": 400,
        "margin": {
         "b": 10,
         "l": 10,
         "r": 10,
         "t": 10
        },
        "paper_bgcolor": "#2c303c",
        "plot_bgcolor": "#2c303c",
        "template": {
         "data": {
          "bar": [
           {
            "error_x": {
             "color": "#2a3f5f"
            },
            "error_y": {
             "color": "#2a3f5f"
            },
            "marker": {
             "line": {
              "color": "#E5ECF6",
              "width": 0.5
             },
             "pattern": {
              "fillmode": "overlay",
              "size": 10,
              "solidity": 0.2
             }
            },
            "type": "bar"
           }
          ],
          "barpolar": [
           {
            "marker": {
             "line": {
              "color": "#E5ECF6",
              "width": 0.5
             },
             "pattern": {
              "fillmode": "overlay",
              "size": 10,
              "solidity": 0.2
             }
            },
            "type": "barpolar"
           }
          ],
          "carpet": [
           {
            "aaxis": {
             "endlinecolor": "#2a3f5f",
             "gridcolor": "white",
             "linecolor": "white",
             "minorgridcolor": "white",
             "startlinecolor": "#2a3f5f"
            },
            "baxis": {
             "endlinecolor": "#2a3f5f",
             "gridcolor": "white",
             "linecolor": "white",
             "minorgridcolor": "white",
             "startlinecolor": "#2a3f5f"
            },
            "type": "carpet"
           }
          ],
          "choropleth": [
           {
            "colorbar": {
             "outlinewidth": 0,
             "ticks": ""
            },
            "type": "choropleth"
           }
          ],
          "contour": [
           {
            "colorbar": {
             "outlinewidth": 0,
             "ticks": ""
            },
            "colorscale": [
             [
              0,
              "#0d0887"
             ],
             [
              0.1111111111111111,
              "#46039f"
             ],
             [
              0.2222222222222222,
              "#7201a8"
             ],
             [
              0.3333333333333333,
              "#9c179e"
             ],
             [
              0.4444444444444444,
              "#bd3786"
             ],
             [
              0.5555555555555556,
              "#d8576b"
             ],
             [
              0.6666666666666666,
              "#ed7953"
             ],
             [
              0.7777777777777778,
              "#fb9f3a"
             ],
             [
              0.8888888888888888,
              "#fdca26"
             ],
             [
              1,
              "#f0f921"
             ]
            ],
            "type": "contour"
           }
          ],
          "contourcarpet": [
           {
            "colorbar": {
             "outlinewidth": 0,
             "ticks": ""
            },
            "type": "contourcarpet"
           }
          ],
          "heatmap": [
           {
            "colorbar": {
             "outlinewidth": 0,
             "ticks": ""
            },
            "colorscale": [
             [
              0,
              "#0d0887"
             ],
             [
              0.1111111111111111,
              "#46039f"
             ],
             [
              0.2222222222222222,
              "#7201a8"
             ],
             [
              0.3333333333333333,
              "#9c179e"
             ],
             [
              0.4444444444444444,
              "#bd3786"
             ],
             [
              0.5555555555555556,
              "#d8576b"
             ],
             [
              0.6666666666666666,
              "#ed7953"
             ],
             [
              0.7777777777777778,
              "#fb9f3a"
             ],
             [
              0.8888888888888888,
              "#fdca26"
             ],
             [
              1,
              "#f0f921"
             ]
            ],
            "type": "heatmap"
           }
          ],
          "heatmapgl": [
           {
            "colorbar": {
             "outlinewidth": 0,
             "ticks": ""
            },
            "colorscale": [
             [
              0,
              "#0d0887"
             ],
             [
              0.1111111111111111,
              "#46039f"
             ],
             [
              0.2222222222222222,
              "#7201a8"
             ],
             [
              0.3333333333333333,
              "#9c179e"
             ],
             [
              0.4444444444444444,
              "#bd3786"
             ],
             [
              0.5555555555555556,
              "#d8576b"
             ],
             [
              0.6666666666666666,
              "#ed7953"
             ],
             [
              0.7777777777777778,
              "#fb9f3a"
             ],
             [
              0.8888888888888888,
              "#fdca26"
             ],
             [
              1,
              "#f0f921"
             ]
            ],
            "type": "heatmapgl"
           }
          ],
          "histogram": [
           {
            "marker": {
             "pattern": {
              "fillmode": "overlay",
              "size": 10,
              "solidity": 0.2
             }
            },
            "type": "histogram"
           }
          ],
          "histogram2d": [
           {
            "colorbar": {
             "outlinewidth": 0,
             "ticks": ""
            },
            "colorscale": [
             [
              0,
              "#0d0887"
             ],
             [
              0.1111111111111111,
              "#46039f"
             ],
             [
              0.2222222222222222,
              "#7201a8"
             ],
             [
              0.3333333333333333,
              "#9c179e"
             ],
             [
              0.4444444444444444,
              "#bd3786"
             ],
             [
              0.5555555555555556,
              "#d8576b"
             ],
             [
              0.6666666666666666,
              "#ed7953"
             ],
             [
              0.7777777777777778,
              "#fb9f3a"
             ],
             [
              0.8888888888888888,
              "#fdca26"
             ],
             [
              1,
              "#f0f921"
             ]
            ],
            "type": "histogram2d"
           }
          ],
          "histogram2dcontour": [
           {
            "colorbar": {
             "outlinewidth": 0,
             "ticks": ""
            },
            "colorscale": [
             [
              0,
              "#0d0887"
             ],
             [
              0.1111111111111111,
              "#46039f"
             ],
             [
              0.2222222222222222,
              "#7201a8"
             ],
             [
              0.3333333333333333,
              "#9c179e"
             ],
             [
              0.4444444444444444,
              "#bd3786"
             ],
             [
              0.5555555555555556,
              "#d8576b"
             ],
             [
              0.6666666666666666,
              "#ed7953"
             ],
             [
              0.7777777777777778,
              "#fb9f3a"
             ],
             [
              0.8888888888888888,
              "#fdca26"
             ],
             [
              1,
              "#f0f921"
             ]
            ],
            "type": "histogram2dcontour"
           }
          ],
          "mesh3d": [
           {
            "colorbar": {
             "outlinewidth": 0,
             "ticks": ""
            },
            "type": "mesh3d"
           }
          ],
          "parcoords": [
           {
            "line": {
             "colorbar": {
              "outlinewidth": 0,
              "ticks": ""
             }
            },
            "type": "parcoords"
           }
          ],
          "pie": [
           {
            "automargin": true,
            "type": "pie"
           }
          ],
          "scatter": [
           {
            "fillpattern": {
             "fillmode": "overlay",
             "size": 10,
             "solidity": 0.2
            },
            "type": "scatter"
           }
          ],
          "scatter3d": [
           {
            "line": {
             "colorbar": {
              "outlinewidth": 0,
              "ticks": ""
             }
            },
            "marker": {
             "colorbar": {
              "outlinewidth": 0,
              "ticks": ""
             }
            },
            "type": "scatter3d"
           }
          ],
          "scattercarpet": [
           {
            "marker": {
             "colorbar": {
              "outlinewidth": 0,
              "ticks": ""
             }
            },
            "type": "scattercarpet"
           }
          ],
          "scattergeo": [
           {
            "marker": {
             "colorbar": {
              "outlinewidth": 0,
              "ticks": ""
             }
            },
            "type": "scattergeo"
           }
          ],
          "scattergl": [
           {
            "marker": {
             "colorbar": {
              "outlinewidth": 0,
              "ticks": ""
             }
            },
            "type": "scattergl"
           }
          ],
          "scattermapbox": [
           {
            "marker": {
             "colorbar": {
              "outlinewidth": 0,
              "ticks": ""
             }
            },
            "type": "scattermapbox"
           }
          ],
          "scatterpolar": [
           {
            "marker": {
             "colorbar": {
              "outlinewidth": 0,
              "ticks": ""
             }
            },
            "type": "scatterpolar"
           }
          ],
          "scatterpolargl": [
           {
            "marker": {
             "colorbar": {
              "outlinewidth": 0,
              "ticks": ""
             }
            },
            "type": "scatterpolargl"
           }
          ],
          "scatterternary": [
           {
            "marker": {
             "colorbar": {
              "outlinewidth": 0,
              "ticks": ""
             }
            },
            "type": "scatterternary"
           }
          ],
          "surface": [
           {
            "colorbar": {
             "outlinewidth": 0,
             "ticks": ""
            },
            "colorscale": [
             [
              0,
              "#0d0887"
             ],
             [
              0.1111111111111111,
              "#46039f"
             ],
             [
              0.2222222222222222,
              "#7201a8"
             ],
             [
              0.3333333333333333,
              "#9c179e"
             ],
             [
              0.4444444444444444,
              "#bd3786"
             ],
             [
              0.5555555555555556,
              "#d8576b"
             ],
             [
              0.6666666666666666,
              "#ed7953"
             ],
             [
              0.7777777777777778,
              "#fb9f3a"
             ],
             [
              0.8888888888888888,
              "#fdca26"
             ],
             [
              1,
              "#f0f921"
             ]
            ],
            "type": "surface"
           }
          ],
          "table": [
           {
            "cells": {
             "fill": {
              "color": "#EBF0F8"
             },
             "line": {
              "color": "white"
             }
            },
            "header": {
             "fill": {
              "color": "#C8D4E3"
             },
             "line": {
              "color": "white"
             }
            },
            "type": "table"
           }
          ]
         },
         "layout": {
          "annotationdefaults": {
           "arrowcolor": "#2a3f5f",
           "arrowhead": 0,
           "arrowwidth": 1
          },
          "autotypenumbers": "strict",
          "coloraxis": {
           "colorbar": {
            "outlinewidth": 0,
            "ticks": ""
           }
          },
          "colorscale": {
           "diverging": [
            [
             0,
             "#8e0152"
            ],
            [
             0.1,
             "#c51b7d"
            ],
            [
             0.2,
             "#de77ae"
            ],
            [
             0.3,
             "#f1b6da"
            ],
            [
             0.4,
             "#fde0ef"
            ],
            [
             0.5,
             "#f7f7f7"
            ],
            [
             0.6,
             "#e6f5d0"
            ],
            [
             0.7,
             "#b8e186"
            ],
            [
             0.8,
             "#7fbc41"
            ],
            [
             0.9,
             "#4d9221"
            ],
            [
             1,
             "#276419"
            ]
           ],
           "sequential": [
            [
             0,
             "#0d0887"
            ],
            [
             0.1111111111111111,
             "#46039f"
            ],
            [
             0.2222222222222222,
             "#7201a8"
            ],
            [
             0.3333333333333333,
             "#9c179e"
            ],
            [
             0.4444444444444444,
             "#bd3786"
            ],
            [
             0.5555555555555556,
             "#d8576b"
            ],
            [
             0.6666666666666666,
             "#ed7953"
            ],
            [
             0.7777777777777778,
             "#fb9f3a"
            ],
            [
             0.8888888888888888,
             "#fdca26"
            ],
            [
             1,
             "#f0f921"
            ]
           ],
           "sequentialminus": [
            [
             0,
             "#0d0887"
            ],
            [
             0.1111111111111111,
             "#46039f"
            ],
            [
             0.2222222222222222,
             "#7201a8"
            ],
            [
             0.3333333333333333,
             "#9c179e"
            ],
            [
             0.4444444444444444,
             "#bd3786"
            ],
            [
             0.5555555555555556,
             "#d8576b"
            ],
            [
             0.6666666666666666,
             "#ed7953"
            ],
            [
             0.7777777777777778,
             "#fb9f3a"
            ],
            [
             0.8888888888888888,
             "#fdca26"
            ],
            [
             1,
             "#f0f921"
            ]
           ]
          },
          "colorway": [
           "#636efa",
           "#EF553B",
           "#00cc96",
           "#ab63fa",
           "#FFA15A",
           "#19d3f3",
           "#FF6692",
           "#B6E880",
           "#FF97FF",
           "#FECB52"
          ],
          "font": {
           "color": "#2a3f5f"
          },
          "geo": {
           "bgcolor": "white",
           "lakecolor": "white",
           "landcolor": "#E5ECF6",
           "showlakes": true,
           "showland": true,
           "subunitcolor": "white"
          },
          "hoverlabel": {
           "align": "left"
          },
          "hovermode": "closest",
          "mapbox": {
           "style": "light"
          },
          "paper_bgcolor": "white",
          "plot_bgcolor": "#E5ECF6",
          "polar": {
           "angularaxis": {
            "gridcolor": "white",
            "linecolor": "white",
            "ticks": ""
           },
           "bgcolor": "#E5ECF6",
           "radialaxis": {
            "gridcolor": "white",
            "linecolor": "white",
            "ticks": ""
           }
          },
          "scene": {
           "xaxis": {
            "backgroundcolor": "#E5ECF6",
            "gridcolor": "white",
            "gridwidth": 2,
            "linecolor": "white",
            "showbackground": true,
            "ticks": "",
            "zerolinecolor": "white"
           },
           "yaxis": {
            "backgroundcolor": "#E5ECF6",
            "gridcolor": "white",
            "gridwidth": 2,
            "linecolor": "white",
            "showbackground": true,
            "ticks": "",
            "zerolinecolor": "white"
           },
           "zaxis": {
            "backgroundcolor": "#E5ECF6",
            "gridcolor": "white",
            "gridwidth": 2,
            "linecolor": "white",
            "showbackground": true,
            "ticks": "",
            "zerolinecolor": "white"
           }
          },
          "shapedefaults": {
           "line": {
            "color": "#2a3f5f"
           }
          },
          "ternary": {
           "aaxis": {
            "gridcolor": "white",
            "linecolor": "white",
            "ticks": ""
           },
           "baxis": {
            "gridcolor": "white",
            "linecolor": "white",
            "ticks": ""
           },
           "bgcolor": "#E5ECF6",
           "caxis": {
            "gridcolor": "white",
            "linecolor": "white",
            "ticks": ""
           }
          },
          "title": {
           "x": 0.05
          },
          "xaxis": {
           "automargin": true,
           "gridcolor": "white",
           "linecolor": "white",
           "ticks": "",
           "title": {
            "standoff": 15
           },
           "zerolinecolor": "white",
           "zerolinewidth": 2
          },
          "yaxis": {
           "automargin": true,
           "gridcolor": "white",
           "linecolor": "white",
           "ticks": "",
           "title": {
            "standoff": 15
           },
           "zerolinecolor": "white",
           "zerolinewidth": 2
          }
         }
        },
        "width": 900,
        "xaxis": {
         "gridcolor": "#1f292f",
         "nticks": 5,
         "rangeslider": {
          "visible": false
         }
        },
        "yaxis": {
         "gridcolor": "#1f292f"
        }
       }
      },
      "text/html": [
       "<div>                            <div id=\"1f28bb6a-0eab-4b28-820c-58b7f9864ee8\" class=\"plotly-graph-div\" style=\"height:400px; width:900px;\"></div>            <script type=\"text/javascript\">                require([\"plotly\"], function(Plotly) {                    window.PLOTLYENV=window.PLOTLYENV || {};                                    if (document.getElementById(\"1f28bb6a-0eab-4b28-820c-58b7f9864ee8\")) {                    Plotly.newPlot(                        \"1f28bb6a-0eab-4b28-820c-58b7f9864ee8\",                        [{\"line\":{\"shape\":\"spline\",\"width\":2},\"name\":\"GAIN_C\",\"x\":[\"s21-12-09 21:00\",\"s21-12-09 22:00\",\"s21-12-10 01:00\",\"s21-12-10 11:00\",\"s21-12-10 19:00\",\"s21-12-13 08:00\",\"s21-12-13 15:00\",\"s21-12-15 02:00\",\"s21-12-15 09:00\",\"s21-12-16 02:00\",\"s21-12-17 01:00\",\"s21-12-17 18:00\",\"s21-12-20 04:00\",\"s21-12-21 04:00\",\"s21-12-21 12:00\",\"s21-12-21 18:00\",\"s21-12-22 15:00\",\"s21-12-22 22:00\",\"s21-12-24 02:00\",\"s21-12-24 14:00\",\"s21-12-27 05:00\",\"s21-12-27 18:00\",\"s21-12-28 10:00\",\"s21-12-28 11:00\",\"s21-12-28 12:00\",\"s21-12-28 14:00\",\"s21-12-28 16:00\",\"s21-12-28 20:00\",\"s21-12-28 23:00\",\"s21-12-29 09:00\",\"s21-12-29 15:00\",\"s21-12-30 05:00\",\"s22-01-03 12:00\",\"s22-01-04 04:00\",\"s22-01-05 07:00\",\"s22-01-06 16:00\",\"s22-01-07 11:00\",\"s22-01-07 19:00\",\"s22-01-10 19:00\",\"s22-01-11 08:00\",\"s22-01-12 19:00\",\"s22-01-13 12:00\",\"s22-01-13 15:00\",\"s22-01-14 11:00\",\"s22-01-14 21:00\",\"s22-01-17 05:00\",\"s22-01-19 15:00\",\"s22-01-19 17:00\",\"s22-01-19 19:00\",\"s22-01-20 10:00\",\"s22-01-21 04:00\",\"s22-01-24 08:00\",\"s22-01-24 13:00\",\"s22-01-25 06:00\",\"s22-01-26 03:00\",\"s22-01-26 07:00\",\"s22-01-26 22:00\",\"s22-01-27 11:00\",\"s22-01-28 01:00\",\"s22-01-31 03:00\",\"s22-01-31 15:00\",\"s22-02-03 01:00\",\"s22-02-03 10:00\",\"s22-02-07 04:00\",\"s22-02-08 16:00\",\"s22-02-09 05:00\",\"s22-02-10 10:00\",\"s22-02-11 07:00\",\"s22-02-15 07:00\",\"s22-02-16 04:00\",\"s22-02-16 23:00\",\"s22-02-17 12:00\",\"s22-02-17 15:00\",\"s22-02-17 17:00\",\"s22-02-18 04:00\",\"s22-02-18 09:00\",\"s22-02-18 19:00\",\"s22-02-21 17:00\",\"s22-02-22 13:00\",\"s22-02-23 07:00\",\"s22-02-25 02:00\",\"s22-02-25 10:00\",\"s22-02-25 20:00\",\"s22-02-27 22:00\",\"s22-03-02 02:00\",\"s22-03-02 08:00\",\"s22-03-03 20:00\",\"s22-03-04 06:00\",\"s22-03-07 16:00\",\"s22-03-10 07:00\",\"s22-03-11 09:00\",\"s22-03-11 13:00\",\"s22-03-14 06:00\",\"s22-03-15 18:00\",\"s22-03-16 19:00\",\"s22-03-17 08:00\",\"s22-03-17 15:00\",\"s22-03-18 03:00\",\"s22-03-22 14:00\",\"s22-03-23 02:00\",\"s22-03-25 03:00\",\"s22-03-25 15:00\",\"s22-03-28 13:00\",\"s22-03-29 05:00\",\"s22-03-29 11:00\",\"s22-03-30 06:00\",\"s22-03-30 08:00\",\"s22-03-31 13:00\",\"s22-04-04 00:00\",\"s22-04-04 08:00\",\"s22-04-06 06:00\",\"s22-04-08 00:00\",\"s22-04-08 14:00\",\"s22-04-12 11:00\",\"s22-04-13 10:00\",\"s22-04-13 21:00\",\"s22-04-14 07:00\",\"s22-04-14 12:00\",\"s22-04-15 03:00\",\"s22-04-15 04:00\",\"s22-04-15 05:00\",\"s22-04-15 06:00\",\"s22-04-15 18:00\",\"s22-04-18 14:00\",\"s22-04-19 13:00\",\"s22-04-20 02:00\",\"s22-04-21 09:00\",\"s22-04-25 08:00\",\"s22-04-26 18:00\",\"s22-04-27 03:00\",\"s22-04-29 14:00\",\"s22-05-02 11:00\",\"s22-05-02 12:00\",\"s22-05-02 22:00\",\"s22-05-03 12:00\",\"s22-05-03 22:00\",\"s22-05-04 16:00\",\"s22-05-05 07:00\",\"s22-05-05 21:00\",\"s22-05-09 06:00\",\"s22-05-09 11:00\",\"s22-05-10 11:00\",\"s22-05-11 00:00\",\"s22-05-11 02:00\",\"s22-05-11 03:00\",\"s22-05-11 06:00\",\"s22-05-12 05:00\",\"s22-05-12 08:00\",\"s22-05-16 07:00\",\"s22-05-16 16:00\",\"s22-05-17 10:00\",\"s22-05-18 05:00\",\"s22-05-19 03:00\",\"s22-05-19 06:00\",\"s22-05-19 14:00\",\"s22-05-20 07:00\",\"s22-05-22 21:00\",\"s22-05-25 05:00\",\"s22-05-26 03:00\",\"s22-05-26 20:00\",\"s22-05-27 05:00\",\"s22-05-27 09:00\",\"s22-05-30 04:00\",\"s22-05-30 07:00\",\"s22-05-30 09:00\",\"s22-05-30 13:00\",\"s22-06-01 02:00\",\"s22-06-01 07:00\",\"s22-06-02 06:00\",\"s22-06-02 21:00\",\"s22-06-03 03:00\",\"s22-06-03 11:00\",\"s22-06-06 03:00\",\"s22-06-06 09:00\",\"s22-06-07 05:00\",\"s22-06-07 13:00\",\"s22-06-08 11:00\",\"s22-06-10 13:00\",\"s22-06-13 10:00\",\"s22-06-13 14:00\",\"s22-06-14 05:00\",\"s22-06-15 16:00\",\"s22-06-16 14:00\",\"s22-06-17 09:00\",\"s22-06-17 16:00\",\"s22-06-20 19:00\",\"s22-06-21 14:00\",\"s22-06-21 19:00\",\"s22-06-22 09:00\",\"s22-06-23 09:00\",\"s22-06-23 22:00\",\"s22-06-24 12:00\",\"s22-06-27 12:00\",\"s22-06-28 00:00\",\"s22-06-30 09:00\",\"s22-06-30 12:00\",\"s22-06-30 21:00\",\"s22-07-01 14:00\",\"s22-07-04 08:00\",\"s22-07-04 09:00\",\"s22-07-05 21:00\",\"s22-07-06 06:00\",\"s22-07-08 07:00\",\"s22-07-08 11:00\",\"s22-07-11 01:00\",\"s22-07-11 03:00\",\"s22-07-12 12:00\",\"s22-07-13 01:00\",\"s22-07-13 14:00\",\"s22-07-13 20:00\",\"s22-07-14 10:00\",\"s22-07-15 04:00\",\"s22-07-15 05:00\",\"s22-07-15 15:00\",\"s22-07-18 09:00\",\"s22-07-19 05:00\",\"s22-07-19 07:00\",\"s22-07-19 21:00\",\"s22-07-21 06:00\",\"s22-07-21 22:00\"],\"y\":[-5.699999999999594,-5.199999999998539,-48.49999999999799,-138.39999999999853,-165.79999999999816,-237.1999999999974,-207.09999999999783,-239.7999999999989,-233.79999999999956,-199.49999999999912,-197.99999999999818,-234.89999999999787,-169.3999999999973,-186.19999999999635,-213.9999999999964,-197.99999999999594,-208.19999999999615,-185.19999999999646,-192.1999999999957,-181.99999999999548,-188.39999999999523,-185.99999999999505,-179.9999999999957,-167.39999999999532,-184.39999999999344,-211.1999999999936,-216.59999999999567,-222.4999999999966,-251.79999999999757,-311.7999999999976,-341.59999999999746,-246.39999999999776,-263.5999999999972,-241.7999999999965,-216.5999999999957,-203.39999999999583,-223.99999999999534,-223.99999999999534,-228.1999999999962,-189.79999999999555,-196.99999999999386,-199.19999999999274,-206.39999999999327,-236.29999999999376,-245.99999999999292,-123.79999999999173,-157.09999999999005,-167.99999999998818,-166.9999999999883,-174.19999999998882,-100.1999999999881,-126.79999999998694,-129.5999999999853,-99.39999999998507,-128.5999999999854,-141.1999999999858,-204.39999999998685,-223.09999999998723,-202.79999999998748,-243.89999999998804,-165.9999999999884,-173.59999999998934,48.80000000000882,105.20000000000749,100.20000000000805,105.90000000000987,106.10000000001118,195.00000000001182,222.80000000001186,216.4000000000121,224.00000000001305,240.4000000000139,221.20000000001468,206.8000000000158,199.6000000000175,178.6000000000176,192.40000000001695,213.1000000000171,222.00000000001768,315.80000000001934,287.90000000002084,300.6000000000219,220.00000000002234,295.50000000002177,239.5000000000213,306.20000000002085,271.80000000001974,394.3000000000185,680.3000000000181,831.2000000000186,810.100000000018,839.6000000000181,867.200000000019,836.3000000000187,812.7000000000173,762.4000000000165,708.8000000000161,801.1000000000146,774.6000000000141,827.3000000000152,753.6000000000164,716.4000000000169,678.2000000000176,585.400000000018,627.7000000000176,581.5000000000168,534.0000000000165,577.9000000000176,519.8000000000189,677.6000000000201,735.4000000000214,711.0000000000214,732.8000000000221,752.400000000024,735.6000000000249,721.6000000000242,671.400000000024,690.200000000025,683.0000000000246,676.2000000000244,660.6000000000244,641.3000000000245,632.5000000000246,628.6000000000234,615.8000000000239,610.200000000025,668.4000000000244,720.4000000000232,708.9000000000233,845.0000000000246,911.8000000000247,895.8000000000243,865.1000000000253,816.8000000000263,747.2000000000255,742.4000000000251,739.500000000026,719.6000000000266,782.6000000000264,732.6000000000253,801.0000000000248,792.1000000000242,774.4000000000237,772.400000000024,770.2000000000229,779.2000000000219,686.4000000000224,812.2000000000228,768.0000000000218,723.6000000000219,750.0000000000239,787.0000000000242,785.7000000000246,674.600000000025,632.900000000025,609.000000000026,790.9000000000275,808.2000000000276,790.4000000000265,784.1000000000251,718.9000000000243,698.9000000000243,674.9000000000248,662.3000000000244,655.9000000000225,749.4000000000221,754.2000000000226,798.1000000000215,795.8000000000197,789.4000000000178,767.4000000000158,767.2000000000145,767.5000000000142,798.0000000000142,770.2000000000141,750.000000000015,746.3000000000152,747.2000000000144,705.5000000000143,682.6000000000153,715.7000000000168,587.8000000000181,631.0000000000191,609.8000000000201,599.8000000000212,601.3000000000221,557.0000000000227,507.8000000000224,501.0000000000223,480.90000000002163,462.6000000000216,477.50000000002154,448.20000000002057,586.6000000000213,537.6000000000222,461.6000000000217,390.8000000000219,384.8000000000226,371.70000000002335,409.8000000000243,410.80000000002417,642.2000000000236,679.7000000000228,706.0000000000218,715.6000000000204,780.8000000000189,736.2000000000177,697.0000000000163,654.2000000000156,559.6000000000154,560.2000000000148,563.0000000000155,577.0000000000161,569.2000000000161,547.1000000000156,431.20000000001573,333.8000000000171,354.6000000000179,374.7000000000186,374.7000000000186],\"type\":\"scatter\"}],                        {\"template\":{\"data\":{\"histogram2dcontour\":[{\"type\":\"histogram2dcontour\",\"colorbar\":{\"outlinewidth\":0,\"ticks\":\"\"},\"colorscale\":[[0.0,\"#0d0887\"],[0.1111111111111111,\"#46039f\"],[0.2222222222222222,\"#7201a8\"],[0.3333333333333333,\"#9c179e\"],[0.4444444444444444,\"#bd3786\"],[0.5555555555555556,\"#d8576b\"],[0.6666666666666666,\"#ed7953\"],[0.7777777777777778,\"#fb9f3a\"],[0.8888888888888888,\"#fdca26\"],[1.0,\"#f0f921\"]]}],\"choropleth\":[{\"type\":\"choropleth\",\"colorbar\":{\"outlinewidth\":0,\"ticks\":\"\"}}],\"histogram2d\":[{\"type\":\"histogram2d\",\"colorbar\":{\"outlinewidth\":0,\"ticks\":\"\"},\"colorscale\":[[0.0,\"#0d0887\"],[0.1111111111111111,\"#46039f\"],[0.2222222222222222,\"#7201a8\"],[0.3333333333333333,\"#9c179e\"],[0.4444444444444444,\"#bd3786\"],[0.5555555555555556,\"#d8576b\"],[0.6666666666666666,\"#ed7953\"],[0.7777777777777778,\"#fb9f3a\"],[0.8888888888888888,\"#fdca26\"],[1.0,\"#f0f921\"]]}],\"heatmap\":[{\"type\":\"heatmap\",\"colorbar\":{\"outlinewidth\":0,\"ticks\":\"\"},\"colorscale\":[[0.0,\"#0d0887\"],[0.1111111111111111,\"#46039f\"],[0.2222222222222222,\"#7201a8\"],[0.3333333333333333,\"#9c179e\"],[0.4444444444444444,\"#bd3786\"],[0.5555555555555556,\"#d8576b\"],[0.6666666666666666,\"#ed7953\"],[0.7777777777777778,\"#fb9f3a\"],[0.8888888888888888,\"#fdca26\"],[1.0,\"#f0f921\"]]}],\"heatmapgl\":[{\"type\":\"heatmapgl\",\"colorbar\":{\"outlinewidth\":0,\"ticks\":\"\"},\"colorscale\":[[0.0,\"#0d0887\"],[0.1111111111111111,\"#46039f\"],[0.2222222222222222,\"#7201a8\"],[0.3333333333333333,\"#9c179e\"],[0.4444444444444444,\"#bd3786\"],[0.5555555555555556,\"#d8576b\"],[0.6666666666666666,\"#ed7953\"],[0.7777777777777778,\"#fb9f3a\"],[0.8888888888888888,\"#fdca26\"],[1.0,\"#f0f921\"]]}],\"contourcarpet\":[{\"type\":\"contourcarpet\",\"colorbar\":{\"outlinewidth\":0,\"ticks\":\"\"}}],\"contour\":[{\"type\":\"contour\",\"colorbar\":{\"outlinewidth\":0,\"ticks\":\"\"},\"colorscale\":[[0.0,\"#0d0887\"],[0.1111111111111111,\"#46039f\"],[0.2222222222222222,\"#7201a8\"],[0.3333333333333333,\"#9c179e\"],[0.4444444444444444,\"#bd3786\"],[0.5555555555555556,\"#d8576b\"],[0.6666666666666666,\"#ed7953\"],[0.7777777777777778,\"#fb9f3a\"],[0.8888888888888888,\"#fdca26\"],[1.0,\"#f0f921\"]]}],\"surface\":[{\"type\":\"surface\",\"colorbar\":{\"outlinewidth\":0,\"ticks\":\"\"},\"colorscale\":[[0.0,\"#0d0887\"],[0.1111111111111111,\"#46039f\"],[0.2222222222222222,\"#7201a8\"],[0.3333333333333333,\"#9c179e\"],[0.4444444444444444,\"#bd3786\"],[0.5555555555555556,\"#d8576b\"],[0.6666666666666666,\"#ed7953\"],[0.7777777777777778,\"#fb9f3a\"],[0.8888888888888888,\"#fdca26\"],[1.0,\"#f0f921\"]]}],\"mesh3d\":[{\"type\":\"mesh3d\",\"colorbar\":{\"outlinewidth\":0,\"ticks\":\"\"}}],\"scatter\":[{\"fillpattern\":{\"fillmode\":\"overlay\",\"size\":10,\"solidity\":0.2},\"type\":\"scatter\"}],\"parcoords\":[{\"type\":\"parcoords\",\"line\":{\"colorbar\":{\"outlinewidth\":0,\"ticks\":\"\"}}}],\"scatterpolargl\":[{\"type\":\"scatterpolargl\",\"marker\":{\"colorbar\":{\"outlinewidth\":0,\"ticks\":\"\"}}}],\"bar\":[{\"error_x\":{\"color\":\"#2a3f5f\"},\"error_y\":{\"color\":\"#2a3f5f\"},\"marker\":{\"line\":{\"color\":\"#E5ECF6\",\"width\":0.5},\"pattern\":{\"fillmode\":\"overlay\",\"size\":10,\"solidity\":0.2}},\"type\":\"bar\"}],\"scattergeo\":[{\"type\":\"scattergeo\",\"marker\":{\"colorbar\":{\"outlinewidth\":0,\"ticks\":\"\"}}}],\"scatterpolar\":[{\"type\":\"scatterpolar\",\"marker\":{\"colorbar\":{\"outlinewidth\":0,\"ticks\":\"\"}}}],\"histogram\":[{\"marker\":{\"pattern\":{\"fillmode\":\"overlay\",\"size\":10,\"solidity\":0.2}},\"type\":\"histogram\"}],\"scattergl\":[{\"type\":\"scattergl\",\"marker\":{\"colorbar\":{\"outlinewidth\":0,\"ticks\":\"\"}}}],\"scatter3d\":[{\"type\":\"scatter3d\",\"line\":{\"colorbar\":{\"outlinewidth\":0,\"ticks\":\"\"}},\"marker\":{\"colorbar\":{\"outlinewidth\":0,\"ticks\":\"\"}}}],\"scattermapbox\":[{\"type\":\"scattermapbox\",\"marker\":{\"colorbar\":{\"outlinewidth\":0,\"ticks\":\"\"}}}],\"scatterternary\":[{\"type\":\"scatterternary\",\"marker\":{\"colorbar\":{\"outlinewidth\":0,\"ticks\":\"\"}}}],\"scattercarpet\":[{\"type\":\"scattercarpet\",\"marker\":{\"colorbar\":{\"outlinewidth\":0,\"ticks\":\"\"}}}],\"carpet\":[{\"aaxis\":{\"endlinecolor\":\"#2a3f5f\",\"gridcolor\":\"white\",\"linecolor\":\"white\",\"minorgridcolor\":\"white\",\"startlinecolor\":\"#2a3f5f\"},\"baxis\":{\"endlinecolor\":\"#2a3f5f\",\"gridcolor\":\"white\",\"linecolor\":\"white\",\"minorgridcolor\":\"white\",\"startlinecolor\":\"#2a3f5f\"},\"type\":\"carpet\"}],\"table\":[{\"cells\":{\"fill\":{\"color\":\"#EBF0F8\"},\"line\":{\"color\":\"white\"}},\"header\":{\"fill\":{\"color\":\"#C8D4E3\"},\"line\":{\"color\":\"white\"}},\"type\":\"table\"}],\"barpolar\":[{\"marker\":{\"line\":{\"color\":\"#E5ECF6\",\"width\":0.5},\"pattern\":{\"fillmode\":\"overlay\",\"size\":10,\"solidity\":0.2}},\"type\":\"barpolar\"}],\"pie\":[{\"automargin\":true,\"type\":\"pie\"}]},\"layout\":{\"autotypenumbers\":\"strict\",\"colorway\":[\"#636efa\",\"#EF553B\",\"#00cc96\",\"#ab63fa\",\"#FFA15A\",\"#19d3f3\",\"#FF6692\",\"#B6E880\",\"#FF97FF\",\"#FECB52\"],\"font\":{\"color\":\"#2a3f5f\"},\"hovermode\":\"closest\",\"hoverlabel\":{\"align\":\"left\"},\"paper_bgcolor\":\"white\",\"plot_bgcolor\":\"#E5ECF6\",\"polar\":{\"bgcolor\":\"#E5ECF6\",\"angularaxis\":{\"gridcolor\":\"white\",\"linecolor\":\"white\",\"ticks\":\"\"},\"radialaxis\":{\"gridcolor\":\"white\",\"linecolor\":\"white\",\"ticks\":\"\"}},\"ternary\":{\"bgcolor\":\"#E5ECF6\",\"aaxis\":{\"gridcolor\":\"white\",\"linecolor\":\"white\",\"ticks\":\"\"},\"baxis\":{\"gridcolor\":\"white\",\"linecolor\":\"white\",\"ticks\":\"\"},\"caxis\":{\"gridcolor\":\"white\",\"linecolor\":\"white\",\"ticks\":\"\"}},\"coloraxis\":{\"colorbar\":{\"outlinewidth\":0,\"ticks\":\"\"}},\"colorscale\":{\"sequential\":[[0.0,\"#0d0887\"],[0.1111111111111111,\"#46039f\"],[0.2222222222222222,\"#7201a8\"],[0.3333333333333333,\"#9c179e\"],[0.4444444444444444,\"#bd3786\"],[0.5555555555555556,\"#d8576b\"],[0.6666666666666666,\"#ed7953\"],[0.7777777777777778,\"#fb9f3a\"],[0.8888888888888888,\"#fdca26\"],[1.0,\"#f0f921\"]],\"sequentialminus\":[[0.0,\"#0d0887\"],[0.1111111111111111,\"#46039f\"],[0.2222222222222222,\"#7201a8\"],[0.3333333333333333,\"#9c179e\"],[0.4444444444444444,\"#bd3786\"],[0.5555555555555556,\"#d8576b\"],[0.6666666666666666,\"#ed7953\"],[0.7777777777777778,\"#fb9f3a\"],[0.8888888888888888,\"#fdca26\"],[1.0,\"#f0f921\"]],\"diverging\":[[0,\"#8e0152\"],[0.1,\"#c51b7d\"],[0.2,\"#de77ae\"],[0.3,\"#f1b6da\"],[0.4,\"#fde0ef\"],[0.5,\"#f7f7f7\"],[0.6,\"#e6f5d0\"],[0.7,\"#b8e186\"],[0.8,\"#7fbc41\"],[0.9,\"#4d9221\"],[1,\"#276419\"]]},\"xaxis\":{\"gridcolor\":\"white\",\"linecolor\":\"white\",\"ticks\":\"\",\"title\":{\"standoff\":15},\"zerolinecolor\":\"white\",\"automargin\":true,\"zerolinewidth\":2},\"yaxis\":{\"gridcolor\":\"white\",\"linecolor\":\"white\",\"ticks\":\"\",\"title\":{\"standoff\":15},\"zerolinecolor\":\"white\",\"automargin\":true,\"zerolinewidth\":2},\"scene\":{\"xaxis\":{\"backgroundcolor\":\"#E5ECF6\",\"gridcolor\":\"white\",\"linecolor\":\"white\",\"showbackground\":true,\"ticks\":\"\",\"zerolinecolor\":\"white\",\"gridwidth\":2},\"yaxis\":{\"backgroundcolor\":\"#E5ECF6\",\"gridcolor\":\"white\",\"linecolor\":\"white\",\"showbackground\":true,\"ticks\":\"\",\"zerolinecolor\":\"white\",\"gridwidth\":2},\"zaxis\":{\"backgroundcolor\":\"#E5ECF6\",\"gridcolor\":\"white\",\"linecolor\":\"white\",\"showbackground\":true,\"ticks\":\"\",\"zerolinecolor\":\"white\",\"gridwidth\":2}},\"shapedefaults\":{\"line\":{\"color\":\"#2a3f5f\"}},\"annotationdefaults\":{\"arrowcolor\":\"#2a3f5f\",\"arrowhead\":0,\"arrowwidth\":1},\"geo\":{\"bgcolor\":\"white\",\"landcolor\":\"#E5ECF6\",\"subunitcolor\":\"white\",\"showland\":true,\"showlakes\":true,\"lakecolor\":\"white\"},\"title\":{\"x\":0.05},\"mapbox\":{\"style\":\"light\"}}},\"yaxis\":{\"gridcolor\":\"#1f292f\"},\"xaxis\":{\"rangeslider\":{\"visible\":false},\"gridcolor\":\"#1f292f\",\"nticks\":5},\"margin\":{\"l\":10,\"r\":10,\"b\":10,\"t\":10},\"font\":{\"size\":8,\"color\":\"#e1e1e1\"},\"width\":900,\"height\":400,\"paper_bgcolor\":\"#2c303c\",\"plot_bgcolor\":\"#2c303c\"},                        {\"responsive\": true}                    ).then(function(){\n",
       "                            \n",
       "var gd = document.getElementById('1f28bb6a-0eab-4b28-820c-58b7f9864ee8');\n",
       "var x = new MutationObserver(function (mutations, observer) {{\n",
       "        var display = window.getComputedStyle(gd).display;\n",
       "        if (!display || display === 'none') {{\n",
       "            console.log([gd, 'removed!']);\n",
       "            Plotly.purge(gd);\n",
       "            observer.disconnect();\n",
       "        }}\n",
       "}});\n",
       "\n",
       "// Listen for the removal of the full notebook cells\n",
       "var notebookContainer = gd.closest('#notebook-container');\n",
       "if (notebookContainer) {{\n",
       "    x.observe(notebookContainer, {childList: true});\n",
       "}}\n",
       "\n",
       "// Listen for the clearing of the current output cell\n",
       "var outputEl = gd.closest('.output');\n",
       "if (outputEl) {{\n",
       "    x.observe(outputEl, {childList: true});\n",
       "}}\n",
       "\n",
       "                        })                };                });            </script>        </div>"
      ]
     },
     "metadata": {},
     "output_type": "display_data"
    },
    {
     "name": "stdout",
     "output_type": "stream",
     "text": [
      "AUD_USD 124\n"
     ]
    },
    {
     "data": {
      "application/vnd.plotly.v1+json": {
       "config": {
        "plotlyServerURL": "https://plot.ly"
       },
       "data": [
        {
         "line": {
          "shape": "spline",
          "width": 2
         },
         "name": "GAIN_C",
         "type": "scatter",
         "x": [
          "s21-12-10 05:00",
          "s21-12-13 06:00",
          "s21-12-14 14:00",
          "s21-12-14 21:00",
          "s21-12-15 07:00",
          "s21-12-16 23:00",
          "s21-12-20 18:00",
          "s21-12-21 04:00",
          "s21-12-21 08:00",
          "s21-12-22 06:00",
          "s21-12-22 13:00",
          "s21-12-24 04:00",
          "s21-12-27 04:00",
          "s21-12-27 11:00",
          "s21-12-27 19:00",
          "s21-12-28 20:00",
          "s21-12-29 12:00",
          "s21-12-29 13:00",
          "s21-12-29 15:00",
          "s21-12-30 22:00",
          "s21-12-31 08:00",
          "s22-01-03 04:00",
          "s22-01-04 07:00",
          "s22-01-05 08:00",
          "s22-01-05 11:00",
          "s22-01-05 23:00",
          "s22-01-07 00:00",
          "s22-01-07 05:00",
          "s22-01-07 18:00",
          "s22-01-10 14:00",
          "s22-01-11 03:00",
          "s22-01-11 14:00",
          "s22-01-11 19:00",
          "s22-01-13 21:00",
          "s22-01-17 11:00",
          "s22-01-17 21:00",
          "s22-01-19 04:00",
          "s22-01-21 00:00",
          "s22-01-21 18:00",
          "s22-01-21 20:00",
          "s22-01-25 01:00",
          "s22-01-25 12:00",
          "s22-01-25 21:00",
          "s22-01-26 20:00",
          "s22-01-31 02:00",
          "s22-02-02 21:00",
          "s22-02-03 16:00",
          "s22-02-04 08:00",
          "s22-02-07 05:00",
          "s22-02-08 12:00",
          "s22-02-08 17:00",
          "s22-02-10 03:00",
          "s22-02-10 11:00",
          "s22-02-11 01:00",
          "s22-02-11 16:00",
          "s22-02-14 01:00",
          "s22-02-14 19:00",
          "s22-02-17 11:00",
          "s22-02-17 13:00",
          "s22-02-17 23:00",
          "s22-02-18 07:00",
          "s22-02-18 18:00",
          "s22-02-21 05:00",
          "s22-02-21 19:00",
          "s22-02-22 09:00",
          "s22-02-23 22:00",
          "s22-02-25 02:00",
          "s22-02-28 01:00",
          "s22-02-28 13:00",
          "s22-03-01 18:00",
          "s22-03-02 05:00",
          "s22-03-02 15:00",
          "s22-03-02 17:00",
          "s22-03-07 15:00",
          "s22-03-09 07:00",
          "s22-03-10 01:00",
          "s22-03-10 09:00",
          "s22-03-11 05:00",
          "s22-03-15 12:00",
          "s22-03-15 23:00",
          "s22-03-16 06:00",
          "s22-03-21 08:00",
          "s22-03-21 20:00",
          "s22-03-22 01:00",
          "s22-03-22 11:00",
          "s22-03-24 06:00",
          "s22-03-24 15:00",
          "s22-03-25 14:00",
          "s22-03-27 23:00",
          "s22-03-28 13:00",
          "s22-03-29 07:00",
          "s22-03-30 16:00",
          "s22-03-31 18:00",
          "s22-04-01 01:00",
          "s22-04-01 10:00",
          "s22-04-03 22:00",
          "s22-04-04 05:00",
          "s22-04-05 21:00",
          "s22-04-08 02:00",
          "s22-04-08 08:00",
          "s22-04-12 08:00",
          "s22-04-13 03:00",
          "s22-04-13 22:00",
          "s22-04-14 12:00",
          "s22-04-19 05:00",
          "s22-04-21 05:00",
          "s22-04-25 23:00",
          "s22-04-26 15:00",
          "s22-04-27 07:00",
          "s22-04-27 15:00",
          "s22-04-29 01:00",
          "s22-04-29 18:00",
          "s22-05-02 14:00",
          "s22-05-02 19:00",
          "s22-05-03 02:00",
          "s22-05-03 19:00",
          "s22-05-03 20:00",
          "s22-05-03 21:00",
          "s22-05-04 03:00",
          "s22-05-05 16:00",
          "s22-05-10 10:00",
          "s22-05-10 16:00",
          "s22-05-11 05:00",
          "s22-05-11 20:00",
          "s22-05-13 04:00",
          "s22-05-16 07:00",
          "s22-05-16 16:00",
          "s22-05-17 22:00",
          "s22-05-18 00:00",
          "s22-05-18 03:00",
          "s22-05-18 05:00",
          "s22-05-18 07:00",
          "s22-05-19 07:00",
          "s22-05-20 04:00",
          "s22-05-20 12:00",
          "s22-05-20 20:00",
          "s22-05-23 02:00",
          "s22-05-23 21:00",
          "s22-05-24 19:00",
          "s22-05-25 10:00",
          "s22-05-26 00:00",
          "s22-05-26 10:00",
          "s22-05-26 16:00",
          "s22-05-26 17:00",
          "s22-05-26 18:00",
          "s22-05-31 04:00",
          "s22-05-31 23:00",
          "s22-06-01 08:00",
          "s22-06-01 09:00",
          "s22-06-01 10:00",
          "s22-06-01 11:00",
          "s22-06-01 22:00",
          "s22-06-02 10:00",
          "s22-06-03 09:00",
          "s22-06-06 11:00",
          "s22-06-06 21:00",
          "s22-06-07 15:00",
          "s22-06-08 07:00",
          "s22-06-08 19:00",
          "s22-06-09 00:00",
          "s22-06-10 09:00",
          "s22-06-10 15:00",
          "s22-06-14 06:00",
          "s22-06-14 12:00",
          "s22-06-15 04:00",
          "s22-06-16 11:00",
          "s22-06-16 19:00",
          "s22-06-17 07:00",
          "s22-06-20 05:00",
          "s22-06-20 20:00",
          "s22-06-21 06:00",
          "s22-06-21 18:00",
          "s22-06-21 20:00",
          "s22-06-22 01:00",
          "s22-06-22 19:00",
          "s22-06-23 03:00",
          "s22-06-23 18:00",
          "s22-06-23 23:00",
          "s22-06-24 02:00",
          "s22-06-27 07:00",
          "s22-06-27 15:00",
          "s22-06-27 20:00",
          "s22-06-28 07:00",
          "s22-06-28 18:00",
          "s22-06-30 03:00",
          "s22-07-01 03:00",
          "s22-07-03 23:00",
          "s22-07-05 08:00",
          "s22-07-06 02:00",
          "s22-07-06 13:00",
          "s22-07-07 04:00",
          "s22-07-08 08:00",
          "s22-07-08 18:00",
          "s22-07-11 05:00",
          "s22-07-12 14:00",
          "s22-07-13 07:00",
          "s22-07-13 08:00",
          "s22-07-13 20:00",
          "s22-07-14 23:00",
          "s22-07-15 10:00",
          "s22-07-15 14:00",
          "s22-07-18 23:00",
          "s22-07-19 07:00",
          "s22-07-20 15:00",
          "s22-07-21 05:00",
          "s22-07-21 13:00",
          "s22-07-21 19:00"
         ],
         "y": [
          14.100000000000223,
          45.30000000000034,
          25.600000000001177,
          11.800000000001809,
          66.80000000000241,
          124.80000000000268,
          120.20000000000252,
          111.800000000003,
          117.7000000000039,
          56.50000000000487,
          100.40000000000492,
          98.60000000000423,
          80.50000000000445,
          55.60000000000453,
          45.00000000000392,
          48.000000000003595,
          51.400000000003665,
          22.40000000000353,
          10.400000000003741,
          -8.799999999995476,
          -25.999999999994913,
          15.100000000005664,
          45.20000000000634,
          26.200000000006213,
          -10.299999999994206,
          40.60000000000618,
          34.40000000000664,
          15.400000000006514,
          -9.999999999993353,
          -42.49999999999311,
          -68.49999999999358,
          -112.79999999999401,
          -41.199999999994574,
          18.50000000000462,
          8.400000000003955,
          32.20000000000333,
          41.80000000000294,
          48.00000000000248,
          34.6000000000024,
          58.10000000000315,
          30.80000000000305,
          4.8000000000025835,
          -34.299999999997105,
          62.60000000000266,
          185.00000000000182,
          181.60000000000176,
          151.00000000000225,
          177.20000000000292,
          209.00000000000364,
          191.40000000000379,
          226.50000000000392,
          197.60000000000446,
          150.10000000000525,
          122.10000000000612,
          70.00000000000675,
          75.2000000000075,
          158.60000000000764,
          161.00000000000782,
          146.20000000000857,
          118.20000000000833,
          83.20000000000775,
          50.60000000000734,
          32.6000000000071,
          19.500000000006764,
          39.600000000006325,
          93.10000000000599,
          100.10000000000522,
          49.800000000004324,
          71.40000000000373,
          56.00000000000387,
          39.200000000003726,
          7.6000000000032095,
          52.600000000002694,
          85.60000000000238,
          84.90000000000224,
          42.500000000002025,
          43.60000000000257,
          172.0000000000033,
          152.00000000000327,
          110.80000000000314,
          274.0000000000032,
          268.20000000000294,
          243.70000000000232,
          191.00000000000236,
          238.00000000000273,
          206.90000000000217,
          217.10000000000127,
          216.50000000000068,
          175.200000000001,
          150.7000000000015,
          166.6000000000013,
          195.00000000000085,
          190.6000000000009,
          161.40000000000168,
          137.6000000000023,
          111.60000000000294,
          174.30000000000402,
          270.8000000000045,
          253.20000000000465,
          286.80000000000496,
          321.9000000000051,
          336.800000000005,
          320.80000000000456,
          383.60000000000406,
          453.90000000000384,
          718.7000000000032,
          685.0000000000023,
          667.000000000002,
          629.6000000000024,
          627.3000000000029,
          582.8000000000034,
          616.2000000000035,
          620.5000000000039,
          575.4000000000049,
          574.0000000000057,
          575.6000000000062,
          578.4000000000067,
          564.2000000000069,
          540.9000000000063,
          671.000000000006,
          635.8000000000063,
          603.4000000000061,
          588.2000000000054,
          641.9000000000052,
          653.8000000000054,
          608.6000000000057,
          696.5000000000065,
          693.3000000000067,
          661.000000000006,
          628.9000000000055,
          604.2000000000058,
          621.4000000000063,
          656.600000000006,
          630.8000000000058,
          623.200000000006,
          578.800000000006,
          596.600000000006,
          597.0000000000065,
          551.3000000000069,
          507.80000000000723,
          489.30000000000706,
          490.4000000000065,
          495.20000000000687,
          493.90000000000725,
          590.6000000000068,
          596.6000000000062,
          595.2000000000058,
          580.0000000000061,
          574.6000000000063,
          570.0000000000061,
          548.7000000000065,
          523.2000000000071,
          576.1000000000073,
          604.1000000000075,
          573.6000000000075,
          557.6000000000071,
          541.4000000000065,
          541.500000000006,
          528.6000000000059,
          589.8000000000061,
          522.6000000000066,
          615.8000000000065,
          558.5000000000064,
          561.300000000007,
          612.6000000000078,
          507.6000000000082,
          444.4000000000083,
          471.5000000000082,
          458.4000000000079,
          451.5000000000071,
          466.400000000007,
          468.2000000000077,
          436.00000000000773,
          445.70000000000687,
          407.20000000000664,
          408.60000000000696,
          420.300000000007,
          421.7000000000073,
          459.60000000000804,
          458.00000000000864,
          442.40000000000856,
          420.7000000000085,
          386.50000000000875,
          407.8000000000084,
          348.80000000000825,
          367.4000000000091,
          346.70000000001005,
          328.80000000001047,
          317.9000000000101,
          299.10000000001014,
          295.50000000001097,
          260.7000000000117,
          223.2000000000125,
          270.8000000000135,
          279.2000000000141,
          271.20000000001386,
          247.30000000001382,
          248.10000000001463,
          250.9000000000152,
          215.6000000000149,
          230.80000000001453,
          160.80000000001448,
          177.60000000001463,
          163.80000000001527,
          149.30000000001576,
          124.60000000001604,
          124.60000000001604
         ]
        }
       ],
       "layout": {
        "font": {
         "color": "#e1e1e1",
         "size": 8
        },
        "height": 400,
        "margin": {
         "b": 10,
         "l": 10,
         "r": 10,
         "t": 10
        },
        "paper_bgcolor": "#2c303c",
        "plot_bgcolor": "#2c303c",
        "template": {
         "data": {
          "bar": [
           {
            "error_x": {
             "color": "#2a3f5f"
            },
            "error_y": {
             "color": "#2a3f5f"
            },
            "marker": {
             "line": {
              "color": "#E5ECF6",
              "width": 0.5
             },
             "pattern": {
              "fillmode": "overlay",
              "size": 10,
              "solidity": 0.2
             }
            },
            "type": "bar"
           }
          ],
          "barpolar": [
           {
            "marker": {
             "line": {
              "color": "#E5ECF6",
              "width": 0.5
             },
             "pattern": {
              "fillmode": "overlay",
              "size": 10,
              "solidity": 0.2
             }
            },
            "type": "barpolar"
           }
          ],
          "carpet": [
           {
            "aaxis": {
             "endlinecolor": "#2a3f5f",
             "gridcolor": "white",
             "linecolor": "white",
             "minorgridcolor": "white",
             "startlinecolor": "#2a3f5f"
            },
            "baxis": {
             "endlinecolor": "#2a3f5f",
             "gridcolor": "white",
             "linecolor": "white",
             "minorgridcolor": "white",
             "startlinecolor": "#2a3f5f"
            },
            "type": "carpet"
           }
          ],
          "choropleth": [
           {
            "colorbar": {
             "outlinewidth": 0,
             "ticks": ""
            },
            "type": "choropleth"
           }
          ],
          "contour": [
           {
            "colorbar": {
             "outlinewidth": 0,
             "ticks": ""
            },
            "colorscale": [
             [
              0,
              "#0d0887"
             ],
             [
              0.1111111111111111,
              "#46039f"
             ],
             [
              0.2222222222222222,
              "#7201a8"
             ],
             [
              0.3333333333333333,
              "#9c179e"
             ],
             [
              0.4444444444444444,
              "#bd3786"
             ],
             [
              0.5555555555555556,
              "#d8576b"
             ],
             [
              0.6666666666666666,
              "#ed7953"
             ],
             [
              0.7777777777777778,
              "#fb9f3a"
             ],
             [
              0.8888888888888888,
              "#fdca26"
             ],
             [
              1,
              "#f0f921"
             ]
            ],
            "type": "contour"
           }
          ],
          "contourcarpet": [
           {
            "colorbar": {
             "outlinewidth": 0,
             "ticks": ""
            },
            "type": "contourcarpet"
           }
          ],
          "heatmap": [
           {
            "colorbar": {
             "outlinewidth": 0,
             "ticks": ""
            },
            "colorscale": [
             [
              0,
              "#0d0887"
             ],
             [
              0.1111111111111111,
              "#46039f"
             ],
             [
              0.2222222222222222,
              "#7201a8"
             ],
             [
              0.3333333333333333,
              "#9c179e"
             ],
             [
              0.4444444444444444,
              "#bd3786"
             ],
             [
              0.5555555555555556,
              "#d8576b"
             ],
             [
              0.6666666666666666,
              "#ed7953"
             ],
             [
              0.7777777777777778,
              "#fb9f3a"
             ],
             [
              0.8888888888888888,
              "#fdca26"
             ],
             [
              1,
              "#f0f921"
             ]
            ],
            "type": "heatmap"
           }
          ],
          "heatmapgl": [
           {
            "colorbar": {
             "outlinewidth": 0,
             "ticks": ""
            },
            "colorscale": [
             [
              0,
              "#0d0887"
             ],
             [
              0.1111111111111111,
              "#46039f"
             ],
             [
              0.2222222222222222,
              "#7201a8"
             ],
             [
              0.3333333333333333,
              "#9c179e"
             ],
             [
              0.4444444444444444,
              "#bd3786"
             ],
             [
              0.5555555555555556,
              "#d8576b"
             ],
             [
              0.6666666666666666,
              "#ed7953"
             ],
             [
              0.7777777777777778,
              "#fb9f3a"
             ],
             [
              0.8888888888888888,
              "#fdca26"
             ],
             [
              1,
              "#f0f921"
             ]
            ],
            "type": "heatmapgl"
           }
          ],
          "histogram": [
           {
            "marker": {
             "pattern": {
              "fillmode": "overlay",
              "size": 10,
              "solidity": 0.2
             }
            },
            "type": "histogram"
           }
          ],
          "histogram2d": [
           {
            "colorbar": {
             "outlinewidth": 0,
             "ticks": ""
            },
            "colorscale": [
             [
              0,
              "#0d0887"
             ],
             [
              0.1111111111111111,
              "#46039f"
             ],
             [
              0.2222222222222222,
              "#7201a8"
             ],
             [
              0.3333333333333333,
              "#9c179e"
             ],
             [
              0.4444444444444444,
              "#bd3786"
             ],
             [
              0.5555555555555556,
              "#d8576b"
             ],
             [
              0.6666666666666666,
              "#ed7953"
             ],
             [
              0.7777777777777778,
              "#fb9f3a"
             ],
             [
              0.8888888888888888,
              "#fdca26"
             ],
             [
              1,
              "#f0f921"
             ]
            ],
            "type": "histogram2d"
           }
          ],
          "histogram2dcontour": [
           {
            "colorbar": {
             "outlinewidth": 0,
             "ticks": ""
            },
            "colorscale": [
             [
              0,
              "#0d0887"
             ],
             [
              0.1111111111111111,
              "#46039f"
             ],
             [
              0.2222222222222222,
              "#7201a8"
             ],
             [
              0.3333333333333333,
              "#9c179e"
             ],
             [
              0.4444444444444444,
              "#bd3786"
             ],
             [
              0.5555555555555556,
              "#d8576b"
             ],
             [
              0.6666666666666666,
              "#ed7953"
             ],
             [
              0.7777777777777778,
              "#fb9f3a"
             ],
             [
              0.8888888888888888,
              "#fdca26"
             ],
             [
              1,
              "#f0f921"
             ]
            ],
            "type": "histogram2dcontour"
           }
          ],
          "mesh3d": [
           {
            "colorbar": {
             "outlinewidth": 0,
             "ticks": ""
            },
            "type": "mesh3d"
           }
          ],
          "parcoords": [
           {
            "line": {
             "colorbar": {
              "outlinewidth": 0,
              "ticks": ""
             }
            },
            "type": "parcoords"
           }
          ],
          "pie": [
           {
            "automargin": true,
            "type": "pie"
           }
          ],
          "scatter": [
           {
            "fillpattern": {
             "fillmode": "overlay",
             "size": 10,
             "solidity": 0.2
            },
            "type": "scatter"
           }
          ],
          "scatter3d": [
           {
            "line": {
             "colorbar": {
              "outlinewidth": 0,
              "ticks": ""
             }
            },
            "marker": {
             "colorbar": {
              "outlinewidth": 0,
              "ticks": ""
             }
            },
            "type": "scatter3d"
           }
          ],
          "scattercarpet": [
           {
            "marker": {
             "colorbar": {
              "outlinewidth": 0,
              "ticks": ""
             }
            },
            "type": "scattercarpet"
           }
          ],
          "scattergeo": [
           {
            "marker": {
             "colorbar": {
              "outlinewidth": 0,
              "ticks": ""
             }
            },
            "type": "scattergeo"
           }
          ],
          "scattergl": [
           {
            "marker": {
             "colorbar": {
              "outlinewidth": 0,
              "ticks": ""
             }
            },
            "type": "scattergl"
           }
          ],
          "scattermapbox": [
           {
            "marker": {
             "colorbar": {
              "outlinewidth": 0,
              "ticks": ""
             }
            },
            "type": "scattermapbox"
           }
          ],
          "scatterpolar": [
           {
            "marker": {
             "colorbar": {
              "outlinewidth": 0,
              "ticks": ""
             }
            },
            "type": "scatterpolar"
           }
          ],
          "scatterpolargl": [
           {
            "marker": {
             "colorbar": {
              "outlinewidth": 0,
              "ticks": ""
             }
            },
            "type": "scatterpolargl"
           }
          ],
          "scatterternary": [
           {
            "marker": {
             "colorbar": {
              "outlinewidth": 0,
              "ticks": ""
             }
            },
            "type": "scatterternary"
           }
          ],
          "surface": [
           {
            "colorbar": {
             "outlinewidth": 0,
             "ticks": ""
            },
            "colorscale": [
             [
              0,
              "#0d0887"
             ],
             [
              0.1111111111111111,
              "#46039f"
             ],
             [
              0.2222222222222222,
              "#7201a8"
             ],
             [
              0.3333333333333333,
              "#9c179e"
             ],
             [
              0.4444444444444444,
              "#bd3786"
             ],
             [
              0.5555555555555556,
              "#d8576b"
             ],
             [
              0.6666666666666666,
              "#ed7953"
             ],
             [
              0.7777777777777778,
              "#fb9f3a"
             ],
             [
              0.8888888888888888,
              "#fdca26"
             ],
             [
              1,
              "#f0f921"
             ]
            ],
            "type": "surface"
           }
          ],
          "table": [
           {
            "cells": {
             "fill": {
              "color": "#EBF0F8"
             },
             "line": {
              "color": "white"
             }
            },
            "header": {
             "fill": {
              "color": "#C8D4E3"
             },
             "line": {
              "color": "white"
             }
            },
            "type": "table"
           }
          ]
         },
         "layout": {
          "annotationdefaults": {
           "arrowcolor": "#2a3f5f",
           "arrowhead": 0,
           "arrowwidth": 1
          },
          "autotypenumbers": "strict",
          "coloraxis": {
           "colorbar": {
            "outlinewidth": 0,
            "ticks": ""
           }
          },
          "colorscale": {
           "diverging": [
            [
             0,
             "#8e0152"
            ],
            [
             0.1,
             "#c51b7d"
            ],
            [
             0.2,
             "#de77ae"
            ],
            [
             0.3,
             "#f1b6da"
            ],
            [
             0.4,
             "#fde0ef"
            ],
            [
             0.5,
             "#f7f7f7"
            ],
            [
             0.6,
             "#e6f5d0"
            ],
            [
             0.7,
             "#b8e186"
            ],
            [
             0.8,
             "#7fbc41"
            ],
            [
             0.9,
             "#4d9221"
            ],
            [
             1,
             "#276419"
            ]
           ],
           "sequential": [
            [
             0,
             "#0d0887"
            ],
            [
             0.1111111111111111,
             "#46039f"
            ],
            [
             0.2222222222222222,
             "#7201a8"
            ],
            [
             0.3333333333333333,
             "#9c179e"
            ],
            [
             0.4444444444444444,
             "#bd3786"
            ],
            [
             0.5555555555555556,
             "#d8576b"
            ],
            [
             0.6666666666666666,
             "#ed7953"
            ],
            [
             0.7777777777777778,
             "#fb9f3a"
            ],
            [
             0.8888888888888888,
             "#fdca26"
            ],
            [
             1,
             "#f0f921"
            ]
           ],
           "sequentialminus": [
            [
             0,
             "#0d0887"
            ],
            [
             0.1111111111111111,
             "#46039f"
            ],
            [
             0.2222222222222222,
             "#7201a8"
            ],
            [
             0.3333333333333333,
             "#9c179e"
            ],
            [
             0.4444444444444444,
             "#bd3786"
            ],
            [
             0.5555555555555556,
             "#d8576b"
            ],
            [
             0.6666666666666666,
             "#ed7953"
            ],
            [
             0.7777777777777778,
             "#fb9f3a"
            ],
            [
             0.8888888888888888,
             "#fdca26"
            ],
            [
             1,
             "#f0f921"
            ]
           ]
          },
          "colorway": [
           "#636efa",
           "#EF553B",
           "#00cc96",
           "#ab63fa",
           "#FFA15A",
           "#19d3f3",
           "#FF6692",
           "#B6E880",
           "#FF97FF",
           "#FECB52"
          ],
          "font": {
           "color": "#2a3f5f"
          },
          "geo": {
           "bgcolor": "white",
           "lakecolor": "white",
           "landcolor": "#E5ECF6",
           "showlakes": true,
           "showland": true,
           "subunitcolor": "white"
          },
          "hoverlabel": {
           "align": "left"
          },
          "hovermode": "closest",
          "mapbox": {
           "style": "light"
          },
          "paper_bgcolor": "white",
          "plot_bgcolor": "#E5ECF6",
          "polar": {
           "angularaxis": {
            "gridcolor": "white",
            "linecolor": "white",
            "ticks": ""
           },
           "bgcolor": "#E5ECF6",
           "radialaxis": {
            "gridcolor": "white",
            "linecolor": "white",
            "ticks": ""
           }
          },
          "scene": {
           "xaxis": {
            "backgroundcolor": "#E5ECF6",
            "gridcolor": "white",
            "gridwidth": 2,
            "linecolor": "white",
            "showbackground": true,
            "ticks": "",
            "zerolinecolor": "white"
           },
           "yaxis": {
            "backgroundcolor": "#E5ECF6",
            "gridcolor": "white",
            "gridwidth": 2,
            "linecolor": "white",
            "showbackground": true,
            "ticks": "",
            "zerolinecolor": "white"
           },
           "zaxis": {
            "backgroundcolor": "#E5ECF6",
            "gridcolor": "white",
            "gridwidth": 2,
            "linecolor": "white",
            "showbackground": true,
            "ticks": "",
            "zerolinecolor": "white"
           }
          },
          "shapedefaults": {
           "line": {
            "color": "#2a3f5f"
           }
          },
          "ternary": {
           "aaxis": {
            "gridcolor": "white",
            "linecolor": "white",
            "ticks": ""
           },
           "baxis": {
            "gridcolor": "white",
            "linecolor": "white",
            "ticks": ""
           },
           "bgcolor": "#E5ECF6",
           "caxis": {
            "gridcolor": "white",
            "linecolor": "white",
            "ticks": ""
           }
          },
          "title": {
           "x": 0.05
          },
          "xaxis": {
           "automargin": true,
           "gridcolor": "white",
           "linecolor": "white",
           "ticks": "",
           "title": {
            "standoff": 15
           },
           "zerolinecolor": "white",
           "zerolinewidth": 2
          },
          "yaxis": {
           "automargin": true,
           "gridcolor": "white",
           "linecolor": "white",
           "ticks": "",
           "title": {
            "standoff": 15
           },
           "zerolinecolor": "white",
           "zerolinewidth": 2
          }
         }
        },
        "width": 900,
        "xaxis": {
         "gridcolor": "#1f292f",
         "nticks": 5,
         "rangeslider": {
          "visible": false
         }
        },
        "yaxis": {
         "gridcolor": "#1f292f"
        }
       }
      },
      "text/html": [
       "<div>                            <div id=\"26f7d207-34b9-4dab-989f-02f49f2a4ae5\" class=\"plotly-graph-div\" style=\"height:400px; width:900px;\"></div>            <script type=\"text/javascript\">                require([\"plotly\"], function(Plotly) {                    window.PLOTLYENV=window.PLOTLYENV || {};                                    if (document.getElementById(\"26f7d207-34b9-4dab-989f-02f49f2a4ae5\")) {                    Plotly.newPlot(                        \"26f7d207-34b9-4dab-989f-02f49f2a4ae5\",                        [{\"line\":{\"shape\":\"spline\",\"width\":2},\"name\":\"GAIN_C\",\"x\":[\"s21-12-10 05:00\",\"s21-12-13 06:00\",\"s21-12-14 14:00\",\"s21-12-14 21:00\",\"s21-12-15 07:00\",\"s21-12-16 23:00\",\"s21-12-20 18:00\",\"s21-12-21 04:00\",\"s21-12-21 08:00\",\"s21-12-22 06:00\",\"s21-12-22 13:00\",\"s21-12-24 04:00\",\"s21-12-27 04:00\",\"s21-12-27 11:00\",\"s21-12-27 19:00\",\"s21-12-28 20:00\",\"s21-12-29 12:00\",\"s21-12-29 13:00\",\"s21-12-29 15:00\",\"s21-12-30 22:00\",\"s21-12-31 08:00\",\"s22-01-03 04:00\",\"s22-01-04 07:00\",\"s22-01-05 08:00\",\"s22-01-05 11:00\",\"s22-01-05 23:00\",\"s22-01-07 00:00\",\"s22-01-07 05:00\",\"s22-01-07 18:00\",\"s22-01-10 14:00\",\"s22-01-11 03:00\",\"s22-01-11 14:00\",\"s22-01-11 19:00\",\"s22-01-13 21:00\",\"s22-01-17 11:00\",\"s22-01-17 21:00\",\"s22-01-19 04:00\",\"s22-01-21 00:00\",\"s22-01-21 18:00\",\"s22-01-21 20:00\",\"s22-01-25 01:00\",\"s22-01-25 12:00\",\"s22-01-25 21:00\",\"s22-01-26 20:00\",\"s22-01-31 02:00\",\"s22-02-02 21:00\",\"s22-02-03 16:00\",\"s22-02-04 08:00\",\"s22-02-07 05:00\",\"s22-02-08 12:00\",\"s22-02-08 17:00\",\"s22-02-10 03:00\",\"s22-02-10 11:00\",\"s22-02-11 01:00\",\"s22-02-11 16:00\",\"s22-02-14 01:00\",\"s22-02-14 19:00\",\"s22-02-17 11:00\",\"s22-02-17 13:00\",\"s22-02-17 23:00\",\"s22-02-18 07:00\",\"s22-02-18 18:00\",\"s22-02-21 05:00\",\"s22-02-21 19:00\",\"s22-02-22 09:00\",\"s22-02-23 22:00\",\"s22-02-25 02:00\",\"s22-02-28 01:00\",\"s22-02-28 13:00\",\"s22-03-01 18:00\",\"s22-03-02 05:00\",\"s22-03-02 15:00\",\"s22-03-02 17:00\",\"s22-03-07 15:00\",\"s22-03-09 07:00\",\"s22-03-10 01:00\",\"s22-03-10 09:00\",\"s22-03-11 05:00\",\"s22-03-15 12:00\",\"s22-03-15 23:00\",\"s22-03-16 06:00\",\"s22-03-21 08:00\",\"s22-03-21 20:00\",\"s22-03-22 01:00\",\"s22-03-22 11:00\",\"s22-03-24 06:00\",\"s22-03-24 15:00\",\"s22-03-25 14:00\",\"s22-03-27 23:00\",\"s22-03-28 13:00\",\"s22-03-29 07:00\",\"s22-03-30 16:00\",\"s22-03-31 18:00\",\"s22-04-01 01:00\",\"s22-04-01 10:00\",\"s22-04-03 22:00\",\"s22-04-04 05:00\",\"s22-04-05 21:00\",\"s22-04-08 02:00\",\"s22-04-08 08:00\",\"s22-04-12 08:00\",\"s22-04-13 03:00\",\"s22-04-13 22:00\",\"s22-04-14 12:00\",\"s22-04-19 05:00\",\"s22-04-21 05:00\",\"s22-04-25 23:00\",\"s22-04-26 15:00\",\"s22-04-27 07:00\",\"s22-04-27 15:00\",\"s22-04-29 01:00\",\"s22-04-29 18:00\",\"s22-05-02 14:00\",\"s22-05-02 19:00\",\"s22-05-03 02:00\",\"s22-05-03 19:00\",\"s22-05-03 20:00\",\"s22-05-03 21:00\",\"s22-05-04 03:00\",\"s22-05-05 16:00\",\"s22-05-10 10:00\",\"s22-05-10 16:00\",\"s22-05-11 05:00\",\"s22-05-11 20:00\",\"s22-05-13 04:00\",\"s22-05-16 07:00\",\"s22-05-16 16:00\",\"s22-05-17 22:00\",\"s22-05-18 00:00\",\"s22-05-18 03:00\",\"s22-05-18 05:00\",\"s22-05-18 07:00\",\"s22-05-19 07:00\",\"s22-05-20 04:00\",\"s22-05-20 12:00\",\"s22-05-20 20:00\",\"s22-05-23 02:00\",\"s22-05-23 21:00\",\"s22-05-24 19:00\",\"s22-05-25 10:00\",\"s22-05-26 00:00\",\"s22-05-26 10:00\",\"s22-05-26 16:00\",\"s22-05-26 17:00\",\"s22-05-26 18:00\",\"s22-05-31 04:00\",\"s22-05-31 23:00\",\"s22-06-01 08:00\",\"s22-06-01 09:00\",\"s22-06-01 10:00\",\"s22-06-01 11:00\",\"s22-06-01 22:00\",\"s22-06-02 10:00\",\"s22-06-03 09:00\",\"s22-06-06 11:00\",\"s22-06-06 21:00\",\"s22-06-07 15:00\",\"s22-06-08 07:00\",\"s22-06-08 19:00\",\"s22-06-09 00:00\",\"s22-06-10 09:00\",\"s22-06-10 15:00\",\"s22-06-14 06:00\",\"s22-06-14 12:00\",\"s22-06-15 04:00\",\"s22-06-16 11:00\",\"s22-06-16 19:00\",\"s22-06-17 07:00\",\"s22-06-20 05:00\",\"s22-06-20 20:00\",\"s22-06-21 06:00\",\"s22-06-21 18:00\",\"s22-06-21 20:00\",\"s22-06-22 01:00\",\"s22-06-22 19:00\",\"s22-06-23 03:00\",\"s22-06-23 18:00\",\"s22-06-23 23:00\",\"s22-06-24 02:00\",\"s22-06-27 07:00\",\"s22-06-27 15:00\",\"s22-06-27 20:00\",\"s22-06-28 07:00\",\"s22-06-28 18:00\",\"s22-06-30 03:00\",\"s22-07-01 03:00\",\"s22-07-03 23:00\",\"s22-07-05 08:00\",\"s22-07-06 02:00\",\"s22-07-06 13:00\",\"s22-07-07 04:00\",\"s22-07-08 08:00\",\"s22-07-08 18:00\",\"s22-07-11 05:00\",\"s22-07-12 14:00\",\"s22-07-13 07:00\",\"s22-07-13 08:00\",\"s22-07-13 20:00\",\"s22-07-14 23:00\",\"s22-07-15 10:00\",\"s22-07-15 14:00\",\"s22-07-18 23:00\",\"s22-07-19 07:00\",\"s22-07-20 15:00\",\"s22-07-21 05:00\",\"s22-07-21 13:00\",\"s22-07-21 19:00\"],\"y\":[14.100000000000223,45.30000000000034,25.600000000001177,11.800000000001809,66.80000000000241,124.80000000000268,120.20000000000252,111.800000000003,117.7000000000039,56.50000000000487,100.40000000000492,98.60000000000423,80.50000000000445,55.60000000000453,45.00000000000392,48.000000000003595,51.400000000003665,22.40000000000353,10.400000000003741,-8.799999999995476,-25.999999999994913,15.100000000005664,45.20000000000634,26.200000000006213,-10.299999999994206,40.60000000000618,34.40000000000664,15.400000000006514,-9.999999999993353,-42.49999999999311,-68.49999999999358,-112.79999999999401,-41.199999999994574,18.50000000000462,8.400000000003955,32.20000000000333,41.80000000000294,48.00000000000248,34.6000000000024,58.10000000000315,30.80000000000305,4.8000000000025835,-34.299999999997105,62.60000000000266,185.00000000000182,181.60000000000176,151.00000000000225,177.20000000000292,209.00000000000364,191.40000000000379,226.50000000000392,197.60000000000446,150.10000000000525,122.10000000000612,70.00000000000675,75.2000000000075,158.60000000000764,161.00000000000782,146.20000000000857,118.20000000000833,83.20000000000775,50.60000000000734,32.6000000000071,19.500000000006764,39.600000000006325,93.10000000000599,100.10000000000522,49.800000000004324,71.40000000000373,56.00000000000387,39.200000000003726,7.6000000000032095,52.600000000002694,85.60000000000238,84.90000000000224,42.500000000002025,43.60000000000257,172.0000000000033,152.00000000000327,110.80000000000314,274.0000000000032,268.20000000000294,243.70000000000232,191.00000000000236,238.00000000000273,206.90000000000217,217.10000000000127,216.50000000000068,175.200000000001,150.7000000000015,166.6000000000013,195.00000000000085,190.6000000000009,161.40000000000168,137.6000000000023,111.60000000000294,174.30000000000402,270.8000000000045,253.20000000000465,286.80000000000496,321.9000000000051,336.800000000005,320.80000000000456,383.60000000000406,453.90000000000384,718.7000000000032,685.0000000000023,667.000000000002,629.6000000000024,627.3000000000029,582.8000000000034,616.2000000000035,620.5000000000039,575.4000000000049,574.0000000000057,575.6000000000062,578.4000000000067,564.2000000000069,540.9000000000063,671.000000000006,635.8000000000063,603.4000000000061,588.2000000000054,641.9000000000052,653.8000000000054,608.6000000000057,696.5000000000065,693.3000000000067,661.000000000006,628.9000000000055,604.2000000000058,621.4000000000063,656.600000000006,630.8000000000058,623.200000000006,578.800000000006,596.600000000006,597.0000000000065,551.3000000000069,507.80000000000723,489.30000000000706,490.4000000000065,495.20000000000687,493.90000000000725,590.6000000000068,596.6000000000062,595.2000000000058,580.0000000000061,574.6000000000063,570.0000000000061,548.7000000000065,523.2000000000071,576.1000000000073,604.1000000000075,573.6000000000075,557.6000000000071,541.4000000000065,541.500000000006,528.6000000000059,589.8000000000061,522.6000000000066,615.8000000000065,558.5000000000064,561.300000000007,612.6000000000078,507.6000000000082,444.4000000000083,471.5000000000082,458.4000000000079,451.5000000000071,466.400000000007,468.2000000000077,436.00000000000773,445.70000000000687,407.20000000000664,408.60000000000696,420.300000000007,421.7000000000073,459.60000000000804,458.00000000000864,442.40000000000856,420.7000000000085,386.50000000000875,407.8000000000084,348.80000000000825,367.4000000000091,346.70000000001005,328.80000000001047,317.9000000000101,299.10000000001014,295.50000000001097,260.7000000000117,223.2000000000125,270.8000000000135,279.2000000000141,271.20000000001386,247.30000000001382,248.10000000001463,250.9000000000152,215.6000000000149,230.80000000001453,160.80000000001448,177.60000000001463,163.80000000001527,149.30000000001576,124.60000000001604,124.60000000001604],\"type\":\"scatter\"}],                        {\"template\":{\"data\":{\"histogram2dcontour\":[{\"type\":\"histogram2dcontour\",\"colorbar\":{\"outlinewidth\":0,\"ticks\":\"\"},\"colorscale\":[[0.0,\"#0d0887\"],[0.1111111111111111,\"#46039f\"],[0.2222222222222222,\"#7201a8\"],[0.3333333333333333,\"#9c179e\"],[0.4444444444444444,\"#bd3786\"],[0.5555555555555556,\"#d8576b\"],[0.6666666666666666,\"#ed7953\"],[0.7777777777777778,\"#fb9f3a\"],[0.8888888888888888,\"#fdca26\"],[1.0,\"#f0f921\"]]}],\"choropleth\":[{\"type\":\"choropleth\",\"colorbar\":{\"outlinewidth\":0,\"ticks\":\"\"}}],\"histogram2d\":[{\"type\":\"histogram2d\",\"colorbar\":{\"outlinewidth\":0,\"ticks\":\"\"},\"colorscale\":[[0.0,\"#0d0887\"],[0.1111111111111111,\"#46039f\"],[0.2222222222222222,\"#7201a8\"],[0.3333333333333333,\"#9c179e\"],[0.4444444444444444,\"#bd3786\"],[0.5555555555555556,\"#d8576b\"],[0.6666666666666666,\"#ed7953\"],[0.7777777777777778,\"#fb9f3a\"],[0.8888888888888888,\"#fdca26\"],[1.0,\"#f0f921\"]]}],\"heatmap\":[{\"type\":\"heatmap\",\"colorbar\":{\"outlinewidth\":0,\"ticks\":\"\"},\"colorscale\":[[0.0,\"#0d0887\"],[0.1111111111111111,\"#46039f\"],[0.2222222222222222,\"#7201a8\"],[0.3333333333333333,\"#9c179e\"],[0.4444444444444444,\"#bd3786\"],[0.5555555555555556,\"#d8576b\"],[0.6666666666666666,\"#ed7953\"],[0.7777777777777778,\"#fb9f3a\"],[0.8888888888888888,\"#fdca26\"],[1.0,\"#f0f921\"]]}],\"heatmapgl\":[{\"type\":\"heatmapgl\",\"colorbar\":{\"outlinewidth\":0,\"ticks\":\"\"},\"colorscale\":[[0.0,\"#0d0887\"],[0.1111111111111111,\"#46039f\"],[0.2222222222222222,\"#7201a8\"],[0.3333333333333333,\"#9c179e\"],[0.4444444444444444,\"#bd3786\"],[0.5555555555555556,\"#d8576b\"],[0.6666666666666666,\"#ed7953\"],[0.7777777777777778,\"#fb9f3a\"],[0.8888888888888888,\"#fdca26\"],[1.0,\"#f0f921\"]]}],\"contourcarpet\":[{\"type\":\"contourcarpet\",\"colorbar\":{\"outlinewidth\":0,\"ticks\":\"\"}}],\"contour\":[{\"type\":\"contour\",\"colorbar\":{\"outlinewidth\":0,\"ticks\":\"\"},\"colorscale\":[[0.0,\"#0d0887\"],[0.1111111111111111,\"#46039f\"],[0.2222222222222222,\"#7201a8\"],[0.3333333333333333,\"#9c179e\"],[0.4444444444444444,\"#bd3786\"],[0.5555555555555556,\"#d8576b\"],[0.6666666666666666,\"#ed7953\"],[0.7777777777777778,\"#fb9f3a\"],[0.8888888888888888,\"#fdca26\"],[1.0,\"#f0f921\"]]}],\"surface\":[{\"type\":\"surface\",\"colorbar\":{\"outlinewidth\":0,\"ticks\":\"\"},\"colorscale\":[[0.0,\"#0d0887\"],[0.1111111111111111,\"#46039f\"],[0.2222222222222222,\"#7201a8\"],[0.3333333333333333,\"#9c179e\"],[0.4444444444444444,\"#bd3786\"],[0.5555555555555556,\"#d8576b\"],[0.6666666666666666,\"#ed7953\"],[0.7777777777777778,\"#fb9f3a\"],[0.8888888888888888,\"#fdca26\"],[1.0,\"#f0f921\"]]}],\"mesh3d\":[{\"type\":\"mesh3d\",\"colorbar\":{\"outlinewidth\":0,\"ticks\":\"\"}}],\"scatter\":[{\"fillpattern\":{\"fillmode\":\"overlay\",\"size\":10,\"solidity\":0.2},\"type\":\"scatter\"}],\"parcoords\":[{\"type\":\"parcoords\",\"line\":{\"colorbar\":{\"outlinewidth\":0,\"ticks\":\"\"}}}],\"scatterpolargl\":[{\"type\":\"scatterpolargl\",\"marker\":{\"colorbar\":{\"outlinewidth\":0,\"ticks\":\"\"}}}],\"bar\":[{\"error_x\":{\"color\":\"#2a3f5f\"},\"error_y\":{\"color\":\"#2a3f5f\"},\"marker\":{\"line\":{\"color\":\"#E5ECF6\",\"width\":0.5},\"pattern\":{\"fillmode\":\"overlay\",\"size\":10,\"solidity\":0.2}},\"type\":\"bar\"}],\"scattergeo\":[{\"type\":\"scattergeo\",\"marker\":{\"colorbar\":{\"outlinewidth\":0,\"ticks\":\"\"}}}],\"scatterpolar\":[{\"type\":\"scatterpolar\",\"marker\":{\"colorbar\":{\"outlinewidth\":0,\"ticks\":\"\"}}}],\"histogram\":[{\"marker\":{\"pattern\":{\"fillmode\":\"overlay\",\"size\":10,\"solidity\":0.2}},\"type\":\"histogram\"}],\"scattergl\":[{\"type\":\"scattergl\",\"marker\":{\"colorbar\":{\"outlinewidth\":0,\"ticks\":\"\"}}}],\"scatter3d\":[{\"type\":\"scatter3d\",\"line\":{\"colorbar\":{\"outlinewidth\":0,\"ticks\":\"\"}},\"marker\":{\"colorbar\":{\"outlinewidth\":0,\"ticks\":\"\"}}}],\"scattermapbox\":[{\"type\":\"scattermapbox\",\"marker\":{\"colorbar\":{\"outlinewidth\":0,\"ticks\":\"\"}}}],\"scatterternary\":[{\"type\":\"scatterternary\",\"marker\":{\"colorbar\":{\"outlinewidth\":0,\"ticks\":\"\"}}}],\"scattercarpet\":[{\"type\":\"scattercarpet\",\"marker\":{\"colorbar\":{\"outlinewidth\":0,\"ticks\":\"\"}}}],\"carpet\":[{\"aaxis\":{\"endlinecolor\":\"#2a3f5f\",\"gridcolor\":\"white\",\"linecolor\":\"white\",\"minorgridcolor\":\"white\",\"startlinecolor\":\"#2a3f5f\"},\"baxis\":{\"endlinecolor\":\"#2a3f5f\",\"gridcolor\":\"white\",\"linecolor\":\"white\",\"minorgridcolor\":\"white\",\"startlinecolor\":\"#2a3f5f\"},\"type\":\"carpet\"}],\"table\":[{\"cells\":{\"fill\":{\"color\":\"#EBF0F8\"},\"line\":{\"color\":\"white\"}},\"header\":{\"fill\":{\"color\":\"#C8D4E3\"},\"line\":{\"color\":\"white\"}},\"type\":\"table\"}],\"barpolar\":[{\"marker\":{\"line\":{\"color\":\"#E5ECF6\",\"width\":0.5},\"pattern\":{\"fillmode\":\"overlay\",\"size\":10,\"solidity\":0.2}},\"type\":\"barpolar\"}],\"pie\":[{\"automargin\":true,\"type\":\"pie\"}]},\"layout\":{\"autotypenumbers\":\"strict\",\"colorway\":[\"#636efa\",\"#EF553B\",\"#00cc96\",\"#ab63fa\",\"#FFA15A\",\"#19d3f3\",\"#FF6692\",\"#B6E880\",\"#FF97FF\",\"#FECB52\"],\"font\":{\"color\":\"#2a3f5f\"},\"hovermode\":\"closest\",\"hoverlabel\":{\"align\":\"left\"},\"paper_bgcolor\":\"white\",\"plot_bgcolor\":\"#E5ECF6\",\"polar\":{\"bgcolor\":\"#E5ECF6\",\"angularaxis\":{\"gridcolor\":\"white\",\"linecolor\":\"white\",\"ticks\":\"\"},\"radialaxis\":{\"gridcolor\":\"white\",\"linecolor\":\"white\",\"ticks\":\"\"}},\"ternary\":{\"bgcolor\":\"#E5ECF6\",\"aaxis\":{\"gridcolor\":\"white\",\"linecolor\":\"white\",\"ticks\":\"\"},\"baxis\":{\"gridcolor\":\"white\",\"linecolor\":\"white\",\"ticks\":\"\"},\"caxis\":{\"gridcolor\":\"white\",\"linecolor\":\"white\",\"ticks\":\"\"}},\"coloraxis\":{\"colorbar\":{\"outlinewidth\":0,\"ticks\":\"\"}},\"colorscale\":{\"sequential\":[[0.0,\"#0d0887\"],[0.1111111111111111,\"#46039f\"],[0.2222222222222222,\"#7201a8\"],[0.3333333333333333,\"#9c179e\"],[0.4444444444444444,\"#bd3786\"],[0.5555555555555556,\"#d8576b\"],[0.6666666666666666,\"#ed7953\"],[0.7777777777777778,\"#fb9f3a\"],[0.8888888888888888,\"#fdca26\"],[1.0,\"#f0f921\"]],\"sequentialminus\":[[0.0,\"#0d0887\"],[0.1111111111111111,\"#46039f\"],[0.2222222222222222,\"#7201a8\"],[0.3333333333333333,\"#9c179e\"],[0.4444444444444444,\"#bd3786\"],[0.5555555555555556,\"#d8576b\"],[0.6666666666666666,\"#ed7953\"],[0.7777777777777778,\"#fb9f3a\"],[0.8888888888888888,\"#fdca26\"],[1.0,\"#f0f921\"]],\"diverging\":[[0,\"#8e0152\"],[0.1,\"#c51b7d\"],[0.2,\"#de77ae\"],[0.3,\"#f1b6da\"],[0.4,\"#fde0ef\"],[0.5,\"#f7f7f7\"],[0.6,\"#e6f5d0\"],[0.7,\"#b8e186\"],[0.8,\"#7fbc41\"],[0.9,\"#4d9221\"],[1,\"#276419\"]]},\"xaxis\":{\"gridcolor\":\"white\",\"linecolor\":\"white\",\"ticks\":\"\",\"title\":{\"standoff\":15},\"zerolinecolor\":\"white\",\"automargin\":true,\"zerolinewidth\":2},\"yaxis\":{\"gridcolor\":\"white\",\"linecolor\":\"white\",\"ticks\":\"\",\"title\":{\"standoff\":15},\"zerolinecolor\":\"white\",\"automargin\":true,\"zerolinewidth\":2},\"scene\":{\"xaxis\":{\"backgroundcolor\":\"#E5ECF6\",\"gridcolor\":\"white\",\"linecolor\":\"white\",\"showbackground\":true,\"ticks\":\"\",\"zerolinecolor\":\"white\",\"gridwidth\":2},\"yaxis\":{\"backgroundcolor\":\"#E5ECF6\",\"gridcolor\":\"white\",\"linecolor\":\"white\",\"showbackground\":true,\"ticks\":\"\",\"zerolinecolor\":\"white\",\"gridwidth\":2},\"zaxis\":{\"backgroundcolor\":\"#E5ECF6\",\"gridcolor\":\"white\",\"linecolor\":\"white\",\"showbackground\":true,\"ticks\":\"\",\"zerolinecolor\":\"white\",\"gridwidth\":2}},\"shapedefaults\":{\"line\":{\"color\":\"#2a3f5f\"}},\"annotationdefaults\":{\"arrowcolor\":\"#2a3f5f\",\"arrowhead\":0,\"arrowwidth\":1},\"geo\":{\"bgcolor\":\"white\",\"landcolor\":\"#E5ECF6\",\"subunitcolor\":\"white\",\"showland\":true,\"showlakes\":true,\"lakecolor\":\"white\"},\"title\":{\"x\":0.05},\"mapbox\":{\"style\":\"light\"}}},\"yaxis\":{\"gridcolor\":\"#1f292f\"},\"xaxis\":{\"rangeslider\":{\"visible\":false},\"gridcolor\":\"#1f292f\",\"nticks\":5},\"margin\":{\"l\":10,\"r\":10,\"b\":10,\"t\":10},\"font\":{\"size\":8,\"color\":\"#e1e1e1\"},\"width\":900,\"height\":400,\"paper_bgcolor\":\"#2c303c\",\"plot_bgcolor\":\"#2c303c\"},                        {\"responsive\": true}                    ).then(function(){\n",
       "                            \n",
       "var gd = document.getElementById('26f7d207-34b9-4dab-989f-02f49f2a4ae5');\n",
       "var x = new MutationObserver(function (mutations, observer) {{\n",
       "        var display = window.getComputedStyle(gd).display;\n",
       "        if (!display || display === 'none') {{\n",
       "            console.log([gd, 'removed!']);\n",
       "            Plotly.purge(gd);\n",
       "            observer.disconnect();\n",
       "        }}\n",
       "}});\n",
       "\n",
       "// Listen for the removal of the full notebook cells\n",
       "var notebookContainer = gd.closest('#notebook-container');\n",
       "if (notebookContainer) {{\n",
       "    x.observe(notebookContainer, {childList: true});\n",
       "}}\n",
       "\n",
       "// Listen for the clearing of the current output cell\n",
       "var outputEl = gd.closest('.output');\n",
       "if (outputEl) {{\n",
       "    x.observe(outputEl, {childList: true});\n",
       "}}\n",
       "\n",
       "                        })                };                });            </script>        </div>"
      ]
     },
     "metadata": {},
     "output_type": "display_data"
    },
    {
     "name": "stdout",
     "output_type": "stream",
     "text": [
      "EUR_USD 103\n"
     ]
    },
    {
     "data": {
      "application/vnd.plotly.v1+json": {
       "config": {
        "plotlyServerURL": "https://plot.ly"
       },
       "data": [
        {
         "line": {
          "shape": "spline",
          "width": 2
         },
         "name": "GAIN_C",
         "type": "scatter",
         "x": [
          "s21-12-10 07:00",
          "s21-12-10 11:00",
          "s21-12-10 19:00",
          "s21-12-13 07:00",
          "s21-12-13 21:00",
          "s21-12-14 04:00",
          "s21-12-14 11:00",
          "s21-12-14 20:00",
          "s21-12-15 09:00",
          "s21-12-15 18:00",
          "s21-12-15 21:00",
          "s21-12-17 14:00",
          "s21-12-20 10:00",
          "s21-12-21 03:00",
          "s21-12-21 09:00",
          "s21-12-21 18:00",
          "s21-12-22 04:00",
          "s21-12-22 07:00",
          "s21-12-22 12:00",
          "s21-12-23 11:00",
          "s21-12-23 23:00",
          "s21-12-24 15:00",
          "s21-12-27 07:00",
          "s21-12-27 13:00",
          "s21-12-27 14:00",
          "s21-12-27 17:00",
          "s21-12-27 18:00",
          "s21-12-28 09:00",
          "s21-12-28 12:00",
          "s21-12-28 14:00",
          "s21-12-29 16:00",
          "s21-12-30 08:00",
          "s21-12-30 23:00",
          "s21-12-31 05:00",
          "s21-12-31 13:00",
          "s22-01-03 06:00",
          "s22-01-04 09:00",
          "s22-01-04 11:00",
          "s22-01-05 06:00",
          "s22-01-06 03:00",
          "s22-01-07 08:00",
          "s22-01-10 07:00",
          "s22-01-11 00:00",
          "s22-01-12 12:00",
          "s22-01-12 13:00",
          "s22-01-14 00:00",
          "s22-01-14 05:00",
          "s22-01-14 13:00",
          "s22-01-17 09:00",
          "s22-01-17 15:00",
          "s22-01-18 06:00",
          "s22-01-18 08:00",
          "s22-01-19 10:00",
          "s22-01-20 13:00",
          "s22-01-21 09:00",
          "s22-01-24 03:00",
          "s22-01-24 23:00",
          "s22-01-25 08:00",
          "s22-01-25 23:00",
          "s22-01-26 11:00",
          "s22-01-28 06:00",
          "s22-01-28 11:00",
          "s22-01-28 18:00",
          "s22-02-03 03:00",
          "s22-02-03 14:00",
          "s22-02-04 17:00",
          "s22-02-07 19:00",
          "s22-02-08 02:00",
          "s22-02-08 03:00",
          "s22-02-08 05:00",
          "s22-02-08 23:00",
          "s22-02-10 00:00",
          "s22-02-10 10:00",
          "s22-02-11 02:00",
          "s22-02-15 05:00",
          "s22-02-17 04:00",
          "s22-02-17 16:00",
          "s22-02-17 17:00",
          "s22-02-17 18:00",
          "s22-02-17 23:00",
          "s22-02-18 06:00",
          "s22-02-18 14:00",
          "s22-02-21 06:00",
          "s22-02-21 17:00",
          "s22-02-22 12:00",
          "s22-02-23 01:00",
          "s22-02-23 09:00",
          "s22-02-23 19:00",
          "s22-02-25 02:00",
          "s22-02-28 03:00",
          "s22-02-28 15:00",
          "s22-03-01 04:00",
          "s22-03-02 20:00",
          "s22-03-03 06:00",
          "s22-03-07 18:00",
          "s22-03-07 23:00",
          "s22-03-08 09:00",
          "s22-03-10 08:00",
          "s22-03-11 11:00",
          "s22-03-11 13:00",
          "s22-03-14 09:00",
          "s22-03-15 01:00",
          "s22-03-15 06:00",
          "s22-03-15 19:00",
          "s22-03-16 06:00",
          "s22-03-18 06:00",
          "s22-03-21 01:00",
          "s22-03-21 07:00",
          "s22-03-22 15:00",
          "s22-03-23 08:00",
          "s22-03-24 00:00",
          "s22-03-24 06:00",
          "s22-03-24 18:00",
          "s22-03-25 15:00",
          "s22-03-28 15:00",
          "s22-03-31 09:00",
          "s22-04-04 04:00",
          "s22-04-04 09:00",
          "s22-04-06 12:00",
          "s22-04-06 22:00",
          "s22-04-07 07:00",
          "s22-04-07 15:00",
          "s22-04-08 16:00",
          "s22-04-11 19:00",
          "s22-04-13 10:00",
          "s22-04-14 13:00",
          "s22-04-15 16:00",
          "s22-04-18 00:00",
          "s22-04-19 09:00",
          "s22-04-19 23:00",
          "s22-04-20 03:00",
          "s22-04-21 03:00",
          "s22-04-21 06:00",
          "s22-04-21 19:00",
          "s22-04-26 05:00",
          "s22-04-26 10:00",
          "s22-04-29 03:00",
          "s22-05-02 00:00",
          "s22-05-03 05:00",
          "s22-05-04 01:00",
          "s22-05-04 13:00",
          "s22-05-05 12:00",
          "s22-05-06 09:00",
          "s22-05-09 00:00",
          "s22-05-09 15:00",
          "s22-05-10 13:00",
          "s22-05-11 07:00",
          "s22-05-11 18:00",
          "s22-05-13 06:00",
          "s22-05-13 18:00",
          "s22-05-13 19:00",
          "s22-05-18 06:00",
          "s22-05-19 07:00",
          "s22-05-20 07:00",
          "s22-05-23 03:00",
          "s22-05-24 08:00",
          "s22-05-24 09:00",
          "s22-05-25 04:00",
          "s22-05-26 00:00",
          "s22-05-27 12:00",
          "s22-05-30 00:00",
          "s22-05-31 03:00",
          "s22-05-31 22:00",
          "s22-06-01 07:00",
          "s22-06-02 08:00",
          "s22-06-03 11:00",
          "s22-06-06 07:00",
          "s22-06-06 17:00",
          "s22-06-07 18:00",
          "s22-06-08 06:00",
          "s22-06-08 12:00",
          "s22-06-09 02:00",
          "s22-06-09 11:00",
          "s22-06-09 13:00",
          "s22-06-14 08:00",
          "s22-06-14 18:00",
          "s22-06-15 04:00",
          "s22-06-15 17:00",
          "s22-06-16 03:00",
          "s22-06-16 10:00",
          "s22-06-16 16:00",
          "s22-06-17 07:00",
          "s22-06-20 02:00",
          "s22-06-20 20:00",
          "s22-06-21 05:00",
          "s22-06-21 21:00",
          "s22-06-22 14:00",
          "s22-06-23 07:00",
          "s22-06-24 01:00",
          "s22-06-28 02:00",
          "s22-06-30 19:00",
          "s22-07-01 08:00",
          "s22-07-04 02:00",
          "s22-07-04 20:00",
          "s22-07-05 06:00",
          "s22-07-05 07:00",
          "s22-07-06 07:00",
          "s22-07-06 08:00",
          "s22-07-07 04:00",
          "s22-07-07 15:00",
          "s22-07-08 18:00",
          "s22-07-11 05:00",
          "s22-07-12 15:00",
          "s22-07-13 02:00",
          "s22-07-13 11:00",
          "s22-07-14 02:00",
          "s22-07-15 00:00",
          "s22-07-19 01:00",
          "s22-07-19 08:00",
          "s22-07-20 01:00",
          "s22-07-20 06:00",
          "s22-07-20 11:00",
          "s22-07-21 05:00",
          "s22-07-21 17:00",
          "s22-07-21 20:00",
          "s22-07-21 22:00",
          "s22-07-22 00:00",
          "s22-07-22 06:00"
         ],
         "y": [
          -26.300000000001322,
          -69.60000000000078,
          -90.29999999999872,
          -85.99999999999719,
          -94.79999999999711,
          -136.09999999999678,
          -200.59999999999525,
          -218.1999999999951,
          -230.59999999999638,
          -265.9999999999974,
          -254.1999999999978,
          -214.19999999999777,
          -198.3999999999986,
          -211.29999999999876,
          -233.09999999999724,
          -233.49999999999542,
          -239.7999999999945,
          -276.1999999999954,
          -256.3999999999967,
          -255.7999999999972,
          -270.9999999999969,
          -292.79999999999757,
          -310.89999999999844,
          -328.799999999998,
          -331.5999999999986,
          -330.5000000000003,
          -325.4000000000002,
          -323,
          -344.9999999999998,
          -375.39999999999907,
          -410.299999999999,
          -430.79999999999785,
          -442.3999999999961,
          -479.79999999999467,
          -484.7999999999941,
          -443.79999999999416,
          -469.6999999999951,
          -489.3999999999954,
          -470.1999999999939,
          -467.0999999999936,
          -450.09999999999326,
          -453.8999999999915,
          -423.1999999999902,
          -469.59999999998996,
          -423.1999999999902,
          -445.69999999999106,
          -486.3999999999912,
          -471.99999999999017,
          -491.69999999999044,
          -488.8999999999921,
          -495.3999999999925,
          -447.3999999999911,
          -442.39999999998946,
          -429.89999999998975,
          -440.1999999999906,
          -435.09999999999053,
          -461.19999999999055,
          -466.5999999999904,
          -490.9999999999904,
          -359.3999999999898,
          -373.1999999999892,
          -391.9999999999902,
          -239.39999999999193,
          -326.19999999999214,
          -263.3999999999915,
          -252.1999999999914,
          -264.9999999999909,
          -264.59999999999053,
          -277.39999999999003,
          -280.89999999998855,
          -284.199999999988,
          -302.99999999998903,
          -335.9999999999898,
          -250.29999999999018,
          -225.4999999999898,
          -245.89999999998798,
          -249.1999999999874,
          -252.6999999999881,
          -251.79999999998887,
          -258.9999999999894,
          -281.79999999999,
          -302.49999999999017,
          -334.99999999998994,
          -349.4999999999894,
          -365.39999999998923,
          -385.99999999998875,
          -433.9999999999879,
          -339.99999999998715,
          -402.5999999999865,
          -485.899999999986,
          -523.6999999999849,
          -454.29999999998546,
          -476.7999999999863,
          -252.39999999998616,
          -266.19999999998555,
          -287.4999999999852,
          -142.399999999985,
          -120.69999999998495,
          -133.59999999998507,
          -117.79999999998593,
          -145.59999999998598,
          -161.99999999998462,
          -180.19999999998396,
          -206.39999999998463,
          -101.99999999998458,
          -63.799999999983015,
          -57.79999999998145,
          -28.29999999998137,
          -33.79999999998188,
          -20.1999999999816,
          -36.69999999998089,
          -48.89999999998088,
          -64.49999999998093,
          -57.99999999998053,
          77.60000000001963,
          141.5000000000208,
          103.40000000002212,
          179.90000000002368,
          142.70000000002423,
          141.0000000000242,
          141.800000000025,
          168.20000000002474,
          180.50000000002316,
          237.90000000002172,
          181.40000000002016,
          145.80000000002008,
          140.80000000002062,
          143.6000000000212,
          139.40000000002254,
          114.60000000002216,
          126.00000000002134,
          54.2000000000217,
          -9.39999999997751,
          97.60000000002402,
          55.700000000024865,
          232.00000000002518,
          248.00000000002564,
          270.0000000000254,
          292.0000000000252,
          288.8000000000242,
          309.6000000000228,
          291.9000000000223,
          240.20000000002335,
          202.6000000000235,
          189.40000000002362,
          180.80000000002502,
          159.60000000002603,
          298.0000000000268,
          310.0000000000277,
          313.20000000002864,
          433.0000000000297,
          461.9000000000303,
          546.0000000000306,
          530.0000000000301,
          642.2000000000302,
          635.6000000000313,
          629.800000000031,
          631.00000000003,
          642.0000000000288,
          627.2000000000273,
          648.4000000000264,
          663.0000000000265,
          641.4000000000271,
          672.4000000000282,
          717.0000000000294,
          703.8000000000295,
          660.4000000000294,
          651.6000000000295,
          632.2000000000289,
          588.5000000000291,
          579.6000000000286,
          574.0000000000274,
          532.6000000000271,
          753.9000000000269,
          699.6000000000265,
          684.2000000000255,
          661.1000000000251,
          621.8000000000253,
          584.2000000000255,
          429.20000000002483,
          386.4000000000242,
          385.6000000000234,
          378.4000000000228,
          371.20000000002227,
          387.80000000002224,
          325.700000000024,
          236.3000000000245,
          214.9000000000242,
          262.6000000000236,
          360.4000000000226,
          340.4000000000226,
          367.7000000000238,
          358.8000000000255,
          345.6000000000256,
          284.60000000002566,
          400.7000000000269,
          386.2000000000274,
          428.80000000002667,
          385.4000000000266,
          369.8000000000265,
          335.60000000002674,
          406.70000000002847,
          378.2000000000283,
          350.60000000002736,
          304.600000000028,
          307.10000000002884,
          410.40000000002834,
          288.90000000002726,
          278.70000000002705,
          262.40000000002686,
          203.00000000002632,
          170.80000000002633,
          132.2000000000266,
          86.20000000002722,
          79.80000000002748,
          99.20000000002801,
          103.40000000002888,
          103.40000000002888
         ]
        }
       ],
       "layout": {
        "font": {
         "color": "#e1e1e1",
         "size": 8
        },
        "height": 400,
        "margin": {
         "b": 10,
         "l": 10,
         "r": 10,
         "t": 10
        },
        "paper_bgcolor": "#2c303c",
        "plot_bgcolor": "#2c303c",
        "template": {
         "data": {
          "bar": [
           {
            "error_x": {
             "color": "#2a3f5f"
            },
            "error_y": {
             "color": "#2a3f5f"
            },
            "marker": {
             "line": {
              "color": "#E5ECF6",
              "width": 0.5
             },
             "pattern": {
              "fillmode": "overlay",
              "size": 10,
              "solidity": 0.2
             }
            },
            "type": "bar"
           }
          ],
          "barpolar": [
           {
            "marker": {
             "line": {
              "color": "#E5ECF6",
              "width": 0.5
             },
             "pattern": {
              "fillmode": "overlay",
              "size": 10,
              "solidity": 0.2
             }
            },
            "type": "barpolar"
           }
          ],
          "carpet": [
           {
            "aaxis": {
             "endlinecolor": "#2a3f5f",
             "gridcolor": "white",
             "linecolor": "white",
             "minorgridcolor": "white",
             "startlinecolor": "#2a3f5f"
            },
            "baxis": {
             "endlinecolor": "#2a3f5f",
             "gridcolor": "white",
             "linecolor": "white",
             "minorgridcolor": "white",
             "startlinecolor": "#2a3f5f"
            },
            "type": "carpet"
           }
          ],
          "choropleth": [
           {
            "colorbar": {
             "outlinewidth": 0,
             "ticks": ""
            },
            "type": "choropleth"
           }
          ],
          "contour": [
           {
            "colorbar": {
             "outlinewidth": 0,
             "ticks": ""
            },
            "colorscale": [
             [
              0,
              "#0d0887"
             ],
             [
              0.1111111111111111,
              "#46039f"
             ],
             [
              0.2222222222222222,
              "#7201a8"
             ],
             [
              0.3333333333333333,
              "#9c179e"
             ],
             [
              0.4444444444444444,
              "#bd3786"
             ],
             [
              0.5555555555555556,
              "#d8576b"
             ],
             [
              0.6666666666666666,
              "#ed7953"
             ],
             [
              0.7777777777777778,
              "#fb9f3a"
             ],
             [
              0.8888888888888888,
              "#fdca26"
             ],
             [
              1,
              "#f0f921"
             ]
            ],
            "type": "contour"
           }
          ],
          "contourcarpet": [
           {
            "colorbar": {
             "outlinewidth": 0,
             "ticks": ""
            },
            "type": "contourcarpet"
           }
          ],
          "heatmap": [
           {
            "colorbar": {
             "outlinewidth": 0,
             "ticks": ""
            },
            "colorscale": [
             [
              0,
              "#0d0887"
             ],
             [
              0.1111111111111111,
              "#46039f"
             ],
             [
              0.2222222222222222,
              "#7201a8"
             ],
             [
              0.3333333333333333,
              "#9c179e"
             ],
             [
              0.4444444444444444,
              "#bd3786"
             ],
             [
              0.5555555555555556,
              "#d8576b"
             ],
             [
              0.6666666666666666,
              "#ed7953"
             ],
             [
              0.7777777777777778,
              "#fb9f3a"
             ],
             [
              0.8888888888888888,
              "#fdca26"
             ],
             [
              1,
              "#f0f921"
             ]
            ],
            "type": "heatmap"
           }
          ],
          "heatmapgl": [
           {
            "colorbar": {
             "outlinewidth": 0,
             "ticks": ""
            },
            "colorscale": [
             [
              0,
              "#0d0887"
             ],
             [
              0.1111111111111111,
              "#46039f"
             ],
             [
              0.2222222222222222,
              "#7201a8"
             ],
             [
              0.3333333333333333,
              "#9c179e"
             ],
             [
              0.4444444444444444,
              "#bd3786"
             ],
             [
              0.5555555555555556,
              "#d8576b"
             ],
             [
              0.6666666666666666,
              "#ed7953"
             ],
             [
              0.7777777777777778,
              "#fb9f3a"
             ],
             [
              0.8888888888888888,
              "#fdca26"
             ],
             [
              1,
              "#f0f921"
             ]
            ],
            "type": "heatmapgl"
           }
          ],
          "histogram": [
           {
            "marker": {
             "pattern": {
              "fillmode": "overlay",
              "size": 10,
              "solidity": 0.2
             }
            },
            "type": "histogram"
           }
          ],
          "histogram2d": [
           {
            "colorbar": {
             "outlinewidth": 0,
             "ticks": ""
            },
            "colorscale": [
             [
              0,
              "#0d0887"
             ],
             [
              0.1111111111111111,
              "#46039f"
             ],
             [
              0.2222222222222222,
              "#7201a8"
             ],
             [
              0.3333333333333333,
              "#9c179e"
             ],
             [
              0.4444444444444444,
              "#bd3786"
             ],
             [
              0.5555555555555556,
              "#d8576b"
             ],
             [
              0.6666666666666666,
              "#ed7953"
             ],
             [
              0.7777777777777778,
              "#fb9f3a"
             ],
             [
              0.8888888888888888,
              "#fdca26"
             ],
             [
              1,
              "#f0f921"
             ]
            ],
            "type": "histogram2d"
           }
          ],
          "histogram2dcontour": [
           {
            "colorbar": {
             "outlinewidth": 0,
             "ticks": ""
            },
            "colorscale": [
             [
              0,
              "#0d0887"
             ],
             [
              0.1111111111111111,
              "#46039f"
             ],
             [
              0.2222222222222222,
              "#7201a8"
             ],
             [
              0.3333333333333333,
              "#9c179e"
             ],
             [
              0.4444444444444444,
              "#bd3786"
             ],
             [
              0.5555555555555556,
              "#d8576b"
             ],
             [
              0.6666666666666666,
              "#ed7953"
             ],
             [
              0.7777777777777778,
              "#fb9f3a"
             ],
             [
              0.8888888888888888,
              "#fdca26"
             ],
             [
              1,
              "#f0f921"
             ]
            ],
            "type": "histogram2dcontour"
           }
          ],
          "mesh3d": [
           {
            "colorbar": {
             "outlinewidth": 0,
             "ticks": ""
            },
            "type": "mesh3d"
           }
          ],
          "parcoords": [
           {
            "line": {
             "colorbar": {
              "outlinewidth": 0,
              "ticks": ""
             }
            },
            "type": "parcoords"
           }
          ],
          "pie": [
           {
            "automargin": true,
            "type": "pie"
           }
          ],
          "scatter": [
           {
            "fillpattern": {
             "fillmode": "overlay",
             "size": 10,
             "solidity": 0.2
            },
            "type": "scatter"
           }
          ],
          "scatter3d": [
           {
            "line": {
             "colorbar": {
              "outlinewidth": 0,
              "ticks": ""
             }
            },
            "marker": {
             "colorbar": {
              "outlinewidth": 0,
              "ticks": ""
             }
            },
            "type": "scatter3d"
           }
          ],
          "scattercarpet": [
           {
            "marker": {
             "colorbar": {
              "outlinewidth": 0,
              "ticks": ""
             }
            },
            "type": "scattercarpet"
           }
          ],
          "scattergeo": [
           {
            "marker": {
             "colorbar": {
              "outlinewidth": 0,
              "ticks": ""
             }
            },
            "type": "scattergeo"
           }
          ],
          "scattergl": [
           {
            "marker": {
             "colorbar": {
              "outlinewidth": 0,
              "ticks": ""
             }
            },
            "type": "scattergl"
           }
          ],
          "scattermapbox": [
           {
            "marker": {
             "colorbar": {
              "outlinewidth": 0,
              "ticks": ""
             }
            },
            "type": "scattermapbox"
           }
          ],
          "scatterpolar": [
           {
            "marker": {
             "colorbar": {
              "outlinewidth": 0,
              "ticks": ""
             }
            },
            "type": "scatterpolar"
           }
          ],
          "scatterpolargl": [
           {
            "marker": {
             "colorbar": {
              "outlinewidth": 0,
              "ticks": ""
             }
            },
            "type": "scatterpolargl"
           }
          ],
          "scatterternary": [
           {
            "marker": {
             "colorbar": {
              "outlinewidth": 0,
              "ticks": ""
             }
            },
            "type": "scatterternary"
           }
          ],
          "surface": [
           {
            "colorbar": {
             "outlinewidth": 0,
             "ticks": ""
            },
            "colorscale": [
             [
              0,
              "#0d0887"
             ],
             [
              0.1111111111111111,
              "#46039f"
             ],
             [
              0.2222222222222222,
              "#7201a8"
             ],
             [
              0.3333333333333333,
              "#9c179e"
             ],
             [
              0.4444444444444444,
              "#bd3786"
             ],
             [
              0.5555555555555556,
              "#d8576b"
             ],
             [
              0.6666666666666666,
              "#ed7953"
             ],
             [
              0.7777777777777778,
              "#fb9f3a"
             ],
             [
              0.8888888888888888,
              "#fdca26"
             ],
             [
              1,
              "#f0f921"
             ]
            ],
            "type": "surface"
           }
          ],
          "table": [
           {
            "cells": {
             "fill": {
              "color": "#EBF0F8"
             },
             "line": {
              "color": "white"
             }
            },
            "header": {
             "fill": {
              "color": "#C8D4E3"
             },
             "line": {
              "color": "white"
             }
            },
            "type": "table"
           }
          ]
         },
         "layout": {
          "annotationdefaults": {
           "arrowcolor": "#2a3f5f",
           "arrowhead": 0,
           "arrowwidth": 1
          },
          "autotypenumbers": "strict",
          "coloraxis": {
           "colorbar": {
            "outlinewidth": 0,
            "ticks": ""
           }
          },
          "colorscale": {
           "diverging": [
            [
             0,
             "#8e0152"
            ],
            [
             0.1,
             "#c51b7d"
            ],
            [
             0.2,
             "#de77ae"
            ],
            [
             0.3,
             "#f1b6da"
            ],
            [
             0.4,
             "#fde0ef"
            ],
            [
             0.5,
             "#f7f7f7"
            ],
            [
             0.6,
             "#e6f5d0"
            ],
            [
             0.7,
             "#b8e186"
            ],
            [
             0.8,
             "#7fbc41"
            ],
            [
             0.9,
             "#4d9221"
            ],
            [
             1,
             "#276419"
            ]
           ],
           "sequential": [
            [
             0,
             "#0d0887"
            ],
            [
             0.1111111111111111,
             "#46039f"
            ],
            [
             0.2222222222222222,
             "#7201a8"
            ],
            [
             0.3333333333333333,
             "#9c179e"
            ],
            [
             0.4444444444444444,
             "#bd3786"
            ],
            [
             0.5555555555555556,
             "#d8576b"
            ],
            [
             0.6666666666666666,
             "#ed7953"
            ],
            [
             0.7777777777777778,
             "#fb9f3a"
            ],
            [
             0.8888888888888888,
             "#fdca26"
            ],
            [
             1,
             "#f0f921"
            ]
           ],
           "sequentialminus": [
            [
             0,
             "#0d0887"
            ],
            [
             0.1111111111111111,
             "#46039f"
            ],
            [
             0.2222222222222222,
             "#7201a8"
            ],
            [
             0.3333333333333333,
             "#9c179e"
            ],
            [
             0.4444444444444444,
             "#bd3786"
            ],
            [
             0.5555555555555556,
             "#d8576b"
            ],
            [
             0.6666666666666666,
             "#ed7953"
            ],
            [
             0.7777777777777778,
             "#fb9f3a"
            ],
            [
             0.8888888888888888,
             "#fdca26"
            ],
            [
             1,
             "#f0f921"
            ]
           ]
          },
          "colorway": [
           "#636efa",
           "#EF553B",
           "#00cc96",
           "#ab63fa",
           "#FFA15A",
           "#19d3f3",
           "#FF6692",
           "#B6E880",
           "#FF97FF",
           "#FECB52"
          ],
          "font": {
           "color": "#2a3f5f"
          },
          "geo": {
           "bgcolor": "white",
           "lakecolor": "white",
           "landcolor": "#E5ECF6",
           "showlakes": true,
           "showland": true,
           "subunitcolor": "white"
          },
          "hoverlabel": {
           "align": "left"
          },
          "hovermode": "closest",
          "mapbox": {
           "style": "light"
          },
          "paper_bgcolor": "white",
          "plot_bgcolor": "#E5ECF6",
          "polar": {
           "angularaxis": {
            "gridcolor": "white",
            "linecolor": "white",
            "ticks": ""
           },
           "bgcolor": "#E5ECF6",
           "radialaxis": {
            "gridcolor": "white",
            "linecolor": "white",
            "ticks": ""
           }
          },
          "scene": {
           "xaxis": {
            "backgroundcolor": "#E5ECF6",
            "gridcolor": "white",
            "gridwidth": 2,
            "linecolor": "white",
            "showbackground": true,
            "ticks": "",
            "zerolinecolor": "white"
           },
           "yaxis": {
            "backgroundcolor": "#E5ECF6",
            "gridcolor": "white",
            "gridwidth": 2,
            "linecolor": "white",
            "showbackground": true,
            "ticks": "",
            "zerolinecolor": "white"
           },
           "zaxis": {
            "backgroundcolor": "#E5ECF6",
            "gridcolor": "white",
            "gridwidth": 2,
            "linecolor": "white",
            "showbackground": true,
            "ticks": "",
            "zerolinecolor": "white"
           }
          },
          "shapedefaults": {
           "line": {
            "color": "#2a3f5f"
           }
          },
          "ternary": {
           "aaxis": {
            "gridcolor": "white",
            "linecolor": "white",
            "ticks": ""
           },
           "baxis": {
            "gridcolor": "white",
            "linecolor": "white",
            "ticks": ""
           },
           "bgcolor": "#E5ECF6",
           "caxis": {
            "gridcolor": "white",
            "linecolor": "white",
            "ticks": ""
           }
          },
          "title": {
           "x": 0.05
          },
          "xaxis": {
           "automargin": true,
           "gridcolor": "white",
           "linecolor": "white",
           "ticks": "",
           "title": {
            "standoff": 15
           },
           "zerolinecolor": "white",
           "zerolinewidth": 2
          },
          "yaxis": {
           "automargin": true,
           "gridcolor": "white",
           "linecolor": "white",
           "ticks": "",
           "title": {
            "standoff": 15
           },
           "zerolinecolor": "white",
           "zerolinewidth": 2
          }
         }
        },
        "width": 900,
        "xaxis": {
         "gridcolor": "#1f292f",
         "nticks": 5,
         "rangeslider": {
          "visible": false
         }
        },
        "yaxis": {
         "gridcolor": "#1f292f"
        }
       }
      },
      "text/html": [
       "<div>                            <div id=\"90fced1e-ee3f-4960-ae8c-fc4b1c534f26\" class=\"plotly-graph-div\" style=\"height:400px; width:900px;\"></div>            <script type=\"text/javascript\">                require([\"plotly\"], function(Plotly) {                    window.PLOTLYENV=window.PLOTLYENV || {};                                    if (document.getElementById(\"90fced1e-ee3f-4960-ae8c-fc4b1c534f26\")) {                    Plotly.newPlot(                        \"90fced1e-ee3f-4960-ae8c-fc4b1c534f26\",                        [{\"line\":{\"shape\":\"spline\",\"width\":2},\"name\":\"GAIN_C\",\"x\":[\"s21-12-10 07:00\",\"s21-12-10 11:00\",\"s21-12-10 19:00\",\"s21-12-13 07:00\",\"s21-12-13 21:00\",\"s21-12-14 04:00\",\"s21-12-14 11:00\",\"s21-12-14 20:00\",\"s21-12-15 09:00\",\"s21-12-15 18:00\",\"s21-12-15 21:00\",\"s21-12-17 14:00\",\"s21-12-20 10:00\",\"s21-12-21 03:00\",\"s21-12-21 09:00\",\"s21-12-21 18:00\",\"s21-12-22 04:00\",\"s21-12-22 07:00\",\"s21-12-22 12:00\",\"s21-12-23 11:00\",\"s21-12-23 23:00\",\"s21-12-24 15:00\",\"s21-12-27 07:00\",\"s21-12-27 13:00\",\"s21-12-27 14:00\",\"s21-12-27 17:00\",\"s21-12-27 18:00\",\"s21-12-28 09:00\",\"s21-12-28 12:00\",\"s21-12-28 14:00\",\"s21-12-29 16:00\",\"s21-12-30 08:00\",\"s21-12-30 23:00\",\"s21-12-31 05:00\",\"s21-12-31 13:00\",\"s22-01-03 06:00\",\"s22-01-04 09:00\",\"s22-01-04 11:00\",\"s22-01-05 06:00\",\"s22-01-06 03:00\",\"s22-01-07 08:00\",\"s22-01-10 07:00\",\"s22-01-11 00:00\",\"s22-01-12 12:00\",\"s22-01-12 13:00\",\"s22-01-14 00:00\",\"s22-01-14 05:00\",\"s22-01-14 13:00\",\"s22-01-17 09:00\",\"s22-01-17 15:00\",\"s22-01-18 06:00\",\"s22-01-18 08:00\",\"s22-01-19 10:00\",\"s22-01-20 13:00\",\"s22-01-21 09:00\",\"s22-01-24 03:00\",\"s22-01-24 23:00\",\"s22-01-25 08:00\",\"s22-01-25 23:00\",\"s22-01-26 11:00\",\"s22-01-28 06:00\",\"s22-01-28 11:00\",\"s22-01-28 18:00\",\"s22-02-03 03:00\",\"s22-02-03 14:00\",\"s22-02-04 17:00\",\"s22-02-07 19:00\",\"s22-02-08 02:00\",\"s22-02-08 03:00\",\"s22-02-08 05:00\",\"s22-02-08 23:00\",\"s22-02-10 00:00\",\"s22-02-10 10:00\",\"s22-02-11 02:00\",\"s22-02-15 05:00\",\"s22-02-17 04:00\",\"s22-02-17 16:00\",\"s22-02-17 17:00\",\"s22-02-17 18:00\",\"s22-02-17 23:00\",\"s22-02-18 06:00\",\"s22-02-18 14:00\",\"s22-02-21 06:00\",\"s22-02-21 17:00\",\"s22-02-22 12:00\",\"s22-02-23 01:00\",\"s22-02-23 09:00\",\"s22-02-23 19:00\",\"s22-02-25 02:00\",\"s22-02-28 03:00\",\"s22-02-28 15:00\",\"s22-03-01 04:00\",\"s22-03-02 20:00\",\"s22-03-03 06:00\",\"s22-03-07 18:00\",\"s22-03-07 23:00\",\"s22-03-08 09:00\",\"s22-03-10 08:00\",\"s22-03-11 11:00\",\"s22-03-11 13:00\",\"s22-03-14 09:00\",\"s22-03-15 01:00\",\"s22-03-15 06:00\",\"s22-03-15 19:00\",\"s22-03-16 06:00\",\"s22-03-18 06:00\",\"s22-03-21 01:00\",\"s22-03-21 07:00\",\"s22-03-22 15:00\",\"s22-03-23 08:00\",\"s22-03-24 00:00\",\"s22-03-24 06:00\",\"s22-03-24 18:00\",\"s22-03-25 15:00\",\"s22-03-28 15:00\",\"s22-03-31 09:00\",\"s22-04-04 04:00\",\"s22-04-04 09:00\",\"s22-04-06 12:00\",\"s22-04-06 22:00\",\"s22-04-07 07:00\",\"s22-04-07 15:00\",\"s22-04-08 16:00\",\"s22-04-11 19:00\",\"s22-04-13 10:00\",\"s22-04-14 13:00\",\"s22-04-15 16:00\",\"s22-04-18 00:00\",\"s22-04-19 09:00\",\"s22-04-19 23:00\",\"s22-04-20 03:00\",\"s22-04-21 03:00\",\"s22-04-21 06:00\",\"s22-04-21 19:00\",\"s22-04-26 05:00\",\"s22-04-26 10:00\",\"s22-04-29 03:00\",\"s22-05-02 00:00\",\"s22-05-03 05:00\",\"s22-05-04 01:00\",\"s22-05-04 13:00\",\"s22-05-05 12:00\",\"s22-05-06 09:00\",\"s22-05-09 00:00\",\"s22-05-09 15:00\",\"s22-05-10 13:00\",\"s22-05-11 07:00\",\"s22-05-11 18:00\",\"s22-05-13 06:00\",\"s22-05-13 18:00\",\"s22-05-13 19:00\",\"s22-05-18 06:00\",\"s22-05-19 07:00\",\"s22-05-20 07:00\",\"s22-05-23 03:00\",\"s22-05-24 08:00\",\"s22-05-24 09:00\",\"s22-05-25 04:00\",\"s22-05-26 00:00\",\"s22-05-27 12:00\",\"s22-05-30 00:00\",\"s22-05-31 03:00\",\"s22-05-31 22:00\",\"s22-06-01 07:00\",\"s22-06-02 08:00\",\"s22-06-03 11:00\",\"s22-06-06 07:00\",\"s22-06-06 17:00\",\"s22-06-07 18:00\",\"s22-06-08 06:00\",\"s22-06-08 12:00\",\"s22-06-09 02:00\",\"s22-06-09 11:00\",\"s22-06-09 13:00\",\"s22-06-14 08:00\",\"s22-06-14 18:00\",\"s22-06-15 04:00\",\"s22-06-15 17:00\",\"s22-06-16 03:00\",\"s22-06-16 10:00\",\"s22-06-16 16:00\",\"s22-06-17 07:00\",\"s22-06-20 02:00\",\"s22-06-20 20:00\",\"s22-06-21 05:00\",\"s22-06-21 21:00\",\"s22-06-22 14:00\",\"s22-06-23 07:00\",\"s22-06-24 01:00\",\"s22-06-28 02:00\",\"s22-06-30 19:00\",\"s22-07-01 08:00\",\"s22-07-04 02:00\",\"s22-07-04 20:00\",\"s22-07-05 06:00\",\"s22-07-05 07:00\",\"s22-07-06 07:00\",\"s22-07-06 08:00\",\"s22-07-07 04:00\",\"s22-07-07 15:00\",\"s22-07-08 18:00\",\"s22-07-11 05:00\",\"s22-07-12 15:00\",\"s22-07-13 02:00\",\"s22-07-13 11:00\",\"s22-07-14 02:00\",\"s22-07-15 00:00\",\"s22-07-19 01:00\",\"s22-07-19 08:00\",\"s22-07-20 01:00\",\"s22-07-20 06:00\",\"s22-07-20 11:00\",\"s22-07-21 05:00\",\"s22-07-21 17:00\",\"s22-07-21 20:00\",\"s22-07-21 22:00\",\"s22-07-22 00:00\",\"s22-07-22 06:00\"],\"y\":[-26.300000000001322,-69.60000000000078,-90.29999999999872,-85.99999999999719,-94.79999999999711,-136.09999999999678,-200.59999999999525,-218.1999999999951,-230.59999999999638,-265.9999999999974,-254.1999999999978,-214.19999999999777,-198.3999999999986,-211.29999999999876,-233.09999999999724,-233.49999999999542,-239.7999999999945,-276.1999999999954,-256.3999999999967,-255.7999999999972,-270.9999999999969,-292.79999999999757,-310.89999999999844,-328.799999999998,-331.5999999999986,-330.5000000000003,-325.4000000000002,-323.0,-344.9999999999998,-375.39999999999907,-410.299999999999,-430.79999999999785,-442.3999999999961,-479.79999999999467,-484.7999999999941,-443.79999999999416,-469.6999999999951,-489.3999999999954,-470.1999999999939,-467.0999999999936,-450.09999999999326,-453.8999999999915,-423.1999999999902,-469.59999999998996,-423.1999999999902,-445.69999999999106,-486.3999999999912,-471.99999999999017,-491.69999999999044,-488.8999999999921,-495.3999999999925,-447.3999999999911,-442.39999999998946,-429.89999999998975,-440.1999999999906,-435.09999999999053,-461.19999999999055,-466.5999999999904,-490.9999999999904,-359.3999999999898,-373.1999999999892,-391.9999999999902,-239.39999999999193,-326.19999999999214,-263.3999999999915,-252.1999999999914,-264.9999999999909,-264.59999999999053,-277.39999999999003,-280.89999999998855,-284.199999999988,-302.99999999998903,-335.9999999999898,-250.29999999999018,-225.4999999999898,-245.89999999998798,-249.1999999999874,-252.6999999999881,-251.79999999998887,-258.9999999999894,-281.79999999999,-302.49999999999017,-334.99999999998994,-349.4999999999894,-365.39999999998923,-385.99999999998875,-433.9999999999879,-339.99999999998715,-402.5999999999865,-485.899999999986,-523.6999999999849,-454.29999999998546,-476.7999999999863,-252.39999999998616,-266.19999999998555,-287.4999999999852,-142.399999999985,-120.69999999998495,-133.59999999998507,-117.79999999998593,-145.59999999998598,-161.99999999998462,-180.19999999998396,-206.39999999998463,-101.99999999998458,-63.799999999983015,-57.79999999998145,-28.29999999998137,-33.79999999998188,-20.1999999999816,-36.69999999998089,-48.89999999998088,-64.49999999998093,-57.99999999998053,77.60000000001963,141.5000000000208,103.40000000002212,179.90000000002368,142.70000000002423,141.0000000000242,141.800000000025,168.20000000002474,180.50000000002316,237.90000000002172,181.40000000002016,145.80000000002008,140.80000000002062,143.6000000000212,139.40000000002254,114.60000000002216,126.00000000002134,54.2000000000217,-9.39999999997751,97.60000000002402,55.700000000024865,232.00000000002518,248.00000000002564,270.0000000000254,292.0000000000252,288.8000000000242,309.6000000000228,291.9000000000223,240.20000000002335,202.6000000000235,189.40000000002362,180.80000000002502,159.60000000002603,298.0000000000268,310.0000000000277,313.20000000002864,433.0000000000297,461.9000000000303,546.0000000000306,530.0000000000301,642.2000000000302,635.6000000000313,629.800000000031,631.00000000003,642.0000000000288,627.2000000000273,648.4000000000264,663.0000000000265,641.4000000000271,672.4000000000282,717.0000000000294,703.8000000000295,660.4000000000294,651.6000000000295,632.2000000000289,588.5000000000291,579.6000000000286,574.0000000000274,532.6000000000271,753.9000000000269,699.6000000000265,684.2000000000255,661.1000000000251,621.8000000000253,584.2000000000255,429.20000000002483,386.4000000000242,385.6000000000234,378.4000000000228,371.20000000002227,387.80000000002224,325.700000000024,236.3000000000245,214.9000000000242,262.6000000000236,360.4000000000226,340.4000000000226,367.7000000000238,358.8000000000255,345.6000000000256,284.60000000002566,400.7000000000269,386.2000000000274,428.80000000002667,385.4000000000266,369.8000000000265,335.60000000002674,406.70000000002847,378.2000000000283,350.60000000002736,304.600000000028,307.10000000002884,410.40000000002834,288.90000000002726,278.70000000002705,262.40000000002686,203.00000000002632,170.80000000002633,132.2000000000266,86.20000000002722,79.80000000002748,99.20000000002801,103.40000000002888,103.40000000002888],\"type\":\"scatter\"}],                        {\"template\":{\"data\":{\"histogram2dcontour\":[{\"type\":\"histogram2dcontour\",\"colorbar\":{\"outlinewidth\":0,\"ticks\":\"\"},\"colorscale\":[[0.0,\"#0d0887\"],[0.1111111111111111,\"#46039f\"],[0.2222222222222222,\"#7201a8\"],[0.3333333333333333,\"#9c179e\"],[0.4444444444444444,\"#bd3786\"],[0.5555555555555556,\"#d8576b\"],[0.6666666666666666,\"#ed7953\"],[0.7777777777777778,\"#fb9f3a\"],[0.8888888888888888,\"#fdca26\"],[1.0,\"#f0f921\"]]}],\"choropleth\":[{\"type\":\"choropleth\",\"colorbar\":{\"outlinewidth\":0,\"ticks\":\"\"}}],\"histogram2d\":[{\"type\":\"histogram2d\",\"colorbar\":{\"outlinewidth\":0,\"ticks\":\"\"},\"colorscale\":[[0.0,\"#0d0887\"],[0.1111111111111111,\"#46039f\"],[0.2222222222222222,\"#7201a8\"],[0.3333333333333333,\"#9c179e\"],[0.4444444444444444,\"#bd3786\"],[0.5555555555555556,\"#d8576b\"],[0.6666666666666666,\"#ed7953\"],[0.7777777777777778,\"#fb9f3a\"],[0.8888888888888888,\"#fdca26\"],[1.0,\"#f0f921\"]]}],\"heatmap\":[{\"type\":\"heatmap\",\"colorbar\":{\"outlinewidth\":0,\"ticks\":\"\"},\"colorscale\":[[0.0,\"#0d0887\"],[0.1111111111111111,\"#46039f\"],[0.2222222222222222,\"#7201a8\"],[0.3333333333333333,\"#9c179e\"],[0.4444444444444444,\"#bd3786\"],[0.5555555555555556,\"#d8576b\"],[0.6666666666666666,\"#ed7953\"],[0.7777777777777778,\"#fb9f3a\"],[0.8888888888888888,\"#fdca26\"],[1.0,\"#f0f921\"]]}],\"heatmapgl\":[{\"type\":\"heatmapgl\",\"colorbar\":{\"outlinewidth\":0,\"ticks\":\"\"},\"colorscale\":[[0.0,\"#0d0887\"],[0.1111111111111111,\"#46039f\"],[0.2222222222222222,\"#7201a8\"],[0.3333333333333333,\"#9c179e\"],[0.4444444444444444,\"#bd3786\"],[0.5555555555555556,\"#d8576b\"],[0.6666666666666666,\"#ed7953\"],[0.7777777777777778,\"#fb9f3a\"],[0.8888888888888888,\"#fdca26\"],[1.0,\"#f0f921\"]]}],\"contourcarpet\":[{\"type\":\"contourcarpet\",\"colorbar\":{\"outlinewidth\":0,\"ticks\":\"\"}}],\"contour\":[{\"type\":\"contour\",\"colorbar\":{\"outlinewidth\":0,\"ticks\":\"\"},\"colorscale\":[[0.0,\"#0d0887\"],[0.1111111111111111,\"#46039f\"],[0.2222222222222222,\"#7201a8\"],[0.3333333333333333,\"#9c179e\"],[0.4444444444444444,\"#bd3786\"],[0.5555555555555556,\"#d8576b\"],[0.6666666666666666,\"#ed7953\"],[0.7777777777777778,\"#fb9f3a\"],[0.8888888888888888,\"#fdca26\"],[1.0,\"#f0f921\"]]}],\"surface\":[{\"type\":\"surface\",\"colorbar\":{\"outlinewidth\":0,\"ticks\":\"\"},\"colorscale\":[[0.0,\"#0d0887\"],[0.1111111111111111,\"#46039f\"],[0.2222222222222222,\"#7201a8\"],[0.3333333333333333,\"#9c179e\"],[0.4444444444444444,\"#bd3786\"],[0.5555555555555556,\"#d8576b\"],[0.6666666666666666,\"#ed7953\"],[0.7777777777777778,\"#fb9f3a\"],[0.8888888888888888,\"#fdca26\"],[1.0,\"#f0f921\"]]}],\"mesh3d\":[{\"type\":\"mesh3d\",\"colorbar\":{\"outlinewidth\":0,\"ticks\":\"\"}}],\"scatter\":[{\"fillpattern\":{\"fillmode\":\"overlay\",\"size\":10,\"solidity\":0.2},\"type\":\"scatter\"}],\"parcoords\":[{\"type\":\"parcoords\",\"line\":{\"colorbar\":{\"outlinewidth\":0,\"ticks\":\"\"}}}],\"scatterpolargl\":[{\"type\":\"scatterpolargl\",\"marker\":{\"colorbar\":{\"outlinewidth\":0,\"ticks\":\"\"}}}],\"bar\":[{\"error_x\":{\"color\":\"#2a3f5f\"},\"error_y\":{\"color\":\"#2a3f5f\"},\"marker\":{\"line\":{\"color\":\"#E5ECF6\",\"width\":0.5},\"pattern\":{\"fillmode\":\"overlay\",\"size\":10,\"solidity\":0.2}},\"type\":\"bar\"}],\"scattergeo\":[{\"type\":\"scattergeo\",\"marker\":{\"colorbar\":{\"outlinewidth\":0,\"ticks\":\"\"}}}],\"scatterpolar\":[{\"type\":\"scatterpolar\",\"marker\":{\"colorbar\":{\"outlinewidth\":0,\"ticks\":\"\"}}}],\"histogram\":[{\"marker\":{\"pattern\":{\"fillmode\":\"overlay\",\"size\":10,\"solidity\":0.2}},\"type\":\"histogram\"}],\"scattergl\":[{\"type\":\"scattergl\",\"marker\":{\"colorbar\":{\"outlinewidth\":0,\"ticks\":\"\"}}}],\"scatter3d\":[{\"type\":\"scatter3d\",\"line\":{\"colorbar\":{\"outlinewidth\":0,\"ticks\":\"\"}},\"marker\":{\"colorbar\":{\"outlinewidth\":0,\"ticks\":\"\"}}}],\"scattermapbox\":[{\"type\":\"scattermapbox\",\"marker\":{\"colorbar\":{\"outlinewidth\":0,\"ticks\":\"\"}}}],\"scatterternary\":[{\"type\":\"scatterternary\",\"marker\":{\"colorbar\":{\"outlinewidth\":0,\"ticks\":\"\"}}}],\"scattercarpet\":[{\"type\":\"scattercarpet\",\"marker\":{\"colorbar\":{\"outlinewidth\":0,\"ticks\":\"\"}}}],\"carpet\":[{\"aaxis\":{\"endlinecolor\":\"#2a3f5f\",\"gridcolor\":\"white\",\"linecolor\":\"white\",\"minorgridcolor\":\"white\",\"startlinecolor\":\"#2a3f5f\"},\"baxis\":{\"endlinecolor\":\"#2a3f5f\",\"gridcolor\":\"white\",\"linecolor\":\"white\",\"minorgridcolor\":\"white\",\"startlinecolor\":\"#2a3f5f\"},\"type\":\"carpet\"}],\"table\":[{\"cells\":{\"fill\":{\"color\":\"#EBF0F8\"},\"line\":{\"color\":\"white\"}},\"header\":{\"fill\":{\"color\":\"#C8D4E3\"},\"line\":{\"color\":\"white\"}},\"type\":\"table\"}],\"barpolar\":[{\"marker\":{\"line\":{\"color\":\"#E5ECF6\",\"width\":0.5},\"pattern\":{\"fillmode\":\"overlay\",\"size\":10,\"solidity\":0.2}},\"type\":\"barpolar\"}],\"pie\":[{\"automargin\":true,\"type\":\"pie\"}]},\"layout\":{\"autotypenumbers\":\"strict\",\"colorway\":[\"#636efa\",\"#EF553B\",\"#00cc96\",\"#ab63fa\",\"#FFA15A\",\"#19d3f3\",\"#FF6692\",\"#B6E880\",\"#FF97FF\",\"#FECB52\"],\"font\":{\"color\":\"#2a3f5f\"},\"hovermode\":\"closest\",\"hoverlabel\":{\"align\":\"left\"},\"paper_bgcolor\":\"white\",\"plot_bgcolor\":\"#E5ECF6\",\"polar\":{\"bgcolor\":\"#E5ECF6\",\"angularaxis\":{\"gridcolor\":\"white\",\"linecolor\":\"white\",\"ticks\":\"\"},\"radialaxis\":{\"gridcolor\":\"white\",\"linecolor\":\"white\",\"ticks\":\"\"}},\"ternary\":{\"bgcolor\":\"#E5ECF6\",\"aaxis\":{\"gridcolor\":\"white\",\"linecolor\":\"white\",\"ticks\":\"\"},\"baxis\":{\"gridcolor\":\"white\",\"linecolor\":\"white\",\"ticks\":\"\"},\"caxis\":{\"gridcolor\":\"white\",\"linecolor\":\"white\",\"ticks\":\"\"}},\"coloraxis\":{\"colorbar\":{\"outlinewidth\":0,\"ticks\":\"\"}},\"colorscale\":{\"sequential\":[[0.0,\"#0d0887\"],[0.1111111111111111,\"#46039f\"],[0.2222222222222222,\"#7201a8\"],[0.3333333333333333,\"#9c179e\"],[0.4444444444444444,\"#bd3786\"],[0.5555555555555556,\"#d8576b\"],[0.6666666666666666,\"#ed7953\"],[0.7777777777777778,\"#fb9f3a\"],[0.8888888888888888,\"#fdca26\"],[1.0,\"#f0f921\"]],\"sequentialminus\":[[0.0,\"#0d0887\"],[0.1111111111111111,\"#46039f\"],[0.2222222222222222,\"#7201a8\"],[0.3333333333333333,\"#9c179e\"],[0.4444444444444444,\"#bd3786\"],[0.5555555555555556,\"#d8576b\"],[0.6666666666666666,\"#ed7953\"],[0.7777777777777778,\"#fb9f3a\"],[0.8888888888888888,\"#fdca26\"],[1.0,\"#f0f921\"]],\"diverging\":[[0,\"#8e0152\"],[0.1,\"#c51b7d\"],[0.2,\"#de77ae\"],[0.3,\"#f1b6da\"],[0.4,\"#fde0ef\"],[0.5,\"#f7f7f7\"],[0.6,\"#e6f5d0\"],[0.7,\"#b8e186\"],[0.8,\"#7fbc41\"],[0.9,\"#4d9221\"],[1,\"#276419\"]]},\"xaxis\":{\"gridcolor\":\"white\",\"linecolor\":\"white\",\"ticks\":\"\",\"title\":{\"standoff\":15},\"zerolinecolor\":\"white\",\"automargin\":true,\"zerolinewidth\":2},\"yaxis\":{\"gridcolor\":\"white\",\"linecolor\":\"white\",\"ticks\":\"\",\"title\":{\"standoff\":15},\"zerolinecolor\":\"white\",\"automargin\":true,\"zerolinewidth\":2},\"scene\":{\"xaxis\":{\"backgroundcolor\":\"#E5ECF6\",\"gridcolor\":\"white\",\"linecolor\":\"white\",\"showbackground\":true,\"ticks\":\"\",\"zerolinecolor\":\"white\",\"gridwidth\":2},\"yaxis\":{\"backgroundcolor\":\"#E5ECF6\",\"gridcolor\":\"white\",\"linecolor\":\"white\",\"showbackground\":true,\"ticks\":\"\",\"zerolinecolor\":\"white\",\"gridwidth\":2},\"zaxis\":{\"backgroundcolor\":\"#E5ECF6\",\"gridcolor\":\"white\",\"linecolor\":\"white\",\"showbackground\":true,\"ticks\":\"\",\"zerolinecolor\":\"white\",\"gridwidth\":2}},\"shapedefaults\":{\"line\":{\"color\":\"#2a3f5f\"}},\"annotationdefaults\":{\"arrowcolor\":\"#2a3f5f\",\"arrowhead\":0,\"arrowwidth\":1},\"geo\":{\"bgcolor\":\"white\",\"landcolor\":\"#E5ECF6\",\"subunitcolor\":\"white\",\"showland\":true,\"showlakes\":true,\"lakecolor\":\"white\"},\"title\":{\"x\":0.05},\"mapbox\":{\"style\":\"light\"}}},\"yaxis\":{\"gridcolor\":\"#1f292f\"},\"xaxis\":{\"rangeslider\":{\"visible\":false},\"gridcolor\":\"#1f292f\",\"nticks\":5},\"margin\":{\"l\":10,\"r\":10,\"b\":10,\"t\":10},\"font\":{\"size\":8,\"color\":\"#e1e1e1\"},\"width\":900,\"height\":400,\"paper_bgcolor\":\"#2c303c\",\"plot_bgcolor\":\"#2c303c\"},                        {\"responsive\": true}                    ).then(function(){\n",
       "                            \n",
       "var gd = document.getElementById('90fced1e-ee3f-4960-ae8c-fc4b1c534f26');\n",
       "var x = new MutationObserver(function (mutations, observer) {{\n",
       "        var display = window.getComputedStyle(gd).display;\n",
       "        if (!display || display === 'none') {{\n",
       "            console.log([gd, 'removed!']);\n",
       "            Plotly.purge(gd);\n",
       "            observer.disconnect();\n",
       "        }}\n",
       "}});\n",
       "\n",
       "// Listen for the removal of the full notebook cells\n",
       "var notebookContainer = gd.closest('#notebook-container');\n",
       "if (notebookContainer) {{\n",
       "    x.observe(notebookContainer, {childList: true});\n",
       "}}\n",
       "\n",
       "// Listen for the clearing of the current output cell\n",
       "var outputEl = gd.closest('.output');\n",
       "if (outputEl) {{\n",
       "    x.observe(outputEl, {childList: true});\n",
       "}}\n",
       "\n",
       "                        })                };                });            </script>        </div>"
      ]
     },
     "metadata": {},
     "output_type": "display_data"
    }
   ],
   "source": [
    "# looping through all of the uniquen pairs of the df_MA_10_MA_20 where the total gain is greater than zero\n",
    "for curr in df_MA_10_MA_20[df_MA_10_MA_20.total_gain > 0].pair.unique():\n",
    "    temp_gains = df_ma_trades_h1[(df_ma_trades_h1.cross == cross) & \n",
    "        (df_ma_trades_h1.pair == curr)].copy()\n",
    "    print(curr, int(temp_gains.GAIN.sum()))\n",
    "    cp = CandlePlot(temp_gains, candles=False)\n",
    "    cp.show_plot(line_traces=['GAIN_C'])"
   ]
  },
  {
   "cell_type": "code",
   "execution_count": null,
   "id": "77829744",
   "metadata": {},
   "outputs": [],
   "source": []
  }
 ],
 "metadata": {
  "kernelspec": {
   "display_name": "Python 3 (ipykernel)",
   "language": "python",
   "name": "python3"
  },
  "language_info": {
   "codemirror_mode": {
    "name": "ipython",
    "version": 3
   },
   "file_extension": ".py",
   "mimetype": "text/x-python",
   "name": "python",
   "nbconvert_exporter": "python",
   "pygments_lexer": "ipython3",
   "version": "3.9.13"
  }
 },
 "nbformat": 4,
 "nbformat_minor": 5
}
