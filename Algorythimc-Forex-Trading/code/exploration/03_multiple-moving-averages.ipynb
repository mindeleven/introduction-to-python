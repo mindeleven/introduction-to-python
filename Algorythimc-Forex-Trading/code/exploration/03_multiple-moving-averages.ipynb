{
 "cells": [
  {
   "cell_type": "code",
   "execution_count": 1,
   "id": "b89a3037",
   "metadata": {},
   "outputs": [],
   "source": [
    "import pandas as pd\n",
    "import plotly.graph_objects as go\n",
    "import datetime as dt"
   ]
  },
  {
   "cell_type": "code",
   "execution_count": 2,
   "id": "18423087",
   "metadata": {},
   "outputs": [],
   "source": [
    "from plotting import CandlePlot"
   ]
  },
  {
   "cell_type": "code",
   "execution_count": 3,
   "id": "edfc9662",
   "metadata": {},
   "outputs": [],
   "source": [
    "# https://stackoverflow.com/questions/1254370/reimport-a-module-while-interactive\n",
    "# import importlib\n",
    "# importlib.reload(plotting)"
   ]
  },
  {
   "cell_type": "code",
   "execution_count": 5,
   "id": "d2715280",
   "metadata": {},
   "outputs": [],
   "source": [
    "# loading data for an instruments pair\n",
    "pair = \"EUR_USD\"\n",
    "granularity = \"H4\"\n",
    "df = pd.read_pickle(f\"../../data/{pair}_{granularity}.pkl\")\n",
    "MA_LIST = [10, 20, 50, 100, 200]"
   ]
  },
  {
   "cell_type": "code",
   "execution_count": 6,
   "id": "54bab944",
   "metadata": {},
   "outputs": [
    {
     "data": {
      "text/plain": [
       "(4000, 14)"
      ]
     },
     "execution_count": 6,
     "metadata": {},
     "output_type": "execute_result"
    }
   ],
   "source": [
    "df.shape"
   ]
  },
  {
   "cell_type": "code",
   "execution_count": 7,
   "id": "44c8bf87",
   "metadata": {},
   "outputs": [
    {
     "name": "stdout",
     "output_type": "stream",
     "text": [
      "<class 'pandas.core.frame.DataFrame'>\n",
      "RangeIndex: 4000 entries, 0 to 3999\n",
      "Data columns (total 14 columns):\n",
      " #   Column  Non-Null Count  Dtype                  \n",
      "---  ------  --------------  -----                  \n",
      " 0   time    4000 non-null   datetime64[ns, tzutc()]\n",
      " 1   volume  4000 non-null   int64                  \n",
      " 2   mid_o   4000 non-null   float64                \n",
      " 3   mid_h   4000 non-null   float64                \n",
      " 4   mid_l   4000 non-null   float64                \n",
      " 5   mid_c   4000 non-null   float64                \n",
      " 6   bid_o   4000 non-null   float64                \n",
      " 7   bid_h   4000 non-null   float64                \n",
      " 8   bid_l   4000 non-null   float64                \n",
      " 9   bid_c   4000 non-null   float64                \n",
      " 10  ask_o   4000 non-null   float64                \n",
      " 11  ask_h   4000 non-null   float64                \n",
      " 12  ask_l   4000 non-null   float64                \n",
      " 13  ask_c   4000 non-null   float64                \n",
      "dtypes: datetime64[ns, tzutc()](1), float64(12), int64(1)\n",
      "memory usage: 437.6 KB\n"
     ]
    }
   ],
   "source": [
    "df.info()"
   ]
  },
  {
   "cell_type": "code",
   "execution_count": 8,
   "id": "22d63e21",
   "metadata": {},
   "outputs": [
    {
     "data": {
      "text/html": [
       "<div>\n",
       "<style scoped>\n",
       "    .dataframe tbody tr th:only-of-type {\n",
       "        vertical-align: middle;\n",
       "    }\n",
       "\n",
       "    .dataframe tbody tr th {\n",
       "        vertical-align: top;\n",
       "    }\n",
       "\n",
       "    .dataframe thead th {\n",
       "        text-align: right;\n",
       "    }\n",
       "</style>\n",
       "<table border=\"1\" class=\"dataframe\">\n",
       "  <thead>\n",
       "    <tr style=\"text-align: right;\">\n",
       "      <th></th>\n",
       "      <th>time</th>\n",
       "      <th>volume</th>\n",
       "      <th>mid_o</th>\n",
       "      <th>mid_h</th>\n",
       "      <th>mid_l</th>\n",
       "      <th>mid_c</th>\n",
       "      <th>bid_o</th>\n",
       "      <th>bid_h</th>\n",
       "      <th>bid_l</th>\n",
       "      <th>bid_c</th>\n",
       "      <th>ask_o</th>\n",
       "      <th>ask_h</th>\n",
       "      <th>ask_l</th>\n",
       "      <th>ask_c</th>\n",
       "    </tr>\n",
       "  </thead>\n",
       "  <tbody>\n",
       "    <tr>\n",
       "      <th>0</th>\n",
       "      <td>2019-12-27 14:00:00+00:00</td>\n",
       "      <td>3513</td>\n",
       "      <td>1.11537</td>\n",
       "      <td>1.11843</td>\n",
       "      <td>1.11520</td>\n",
       "      <td>1.11838</td>\n",
       "      <td>1.11531</td>\n",
       "      <td>1.11837</td>\n",
       "      <td>1.11514</td>\n",
       "      <td>1.11832</td>\n",
       "      <td>1.11543</td>\n",
       "      <td>1.11849</td>\n",
       "      <td>1.11527</td>\n",
       "      <td>1.11844</td>\n",
       "    </tr>\n",
       "    <tr>\n",
       "      <th>1</th>\n",
       "      <td>2019-12-27 18:00:00+00:00</td>\n",
       "      <td>1370</td>\n",
       "      <td>1.11836</td>\n",
       "      <td>1.11883</td>\n",
       "      <td>1.11710</td>\n",
       "      <td>1.11758</td>\n",
       "      <td>1.11830</td>\n",
       "      <td>1.11877</td>\n",
       "      <td>1.11683</td>\n",
       "      <td>1.11708</td>\n",
       "      <td>1.11842</td>\n",
       "      <td>1.11889</td>\n",
       "      <td>1.11718</td>\n",
       "      <td>1.11808</td>\n",
       "    </tr>\n",
       "    <tr>\n",
       "      <th>2</th>\n",
       "      <td>2019-12-29 22:00:00+00:00</td>\n",
       "      <td>1060</td>\n",
       "      <td>1.11773</td>\n",
       "      <td>1.11954</td>\n",
       "      <td>1.11718</td>\n",
       "      <td>1.11948</td>\n",
       "      <td>1.11723</td>\n",
       "      <td>1.11948</td>\n",
       "      <td>1.11668</td>\n",
       "      <td>1.11941</td>\n",
       "      <td>1.11823</td>\n",
       "      <td>1.11961</td>\n",
       "      <td>1.11751</td>\n",
       "      <td>1.11954</td>\n",
       "    </tr>\n",
       "    <tr>\n",
       "      <th>3</th>\n",
       "      <td>2019-12-30 02:00:00+00:00</td>\n",
       "      <td>1031</td>\n",
       "      <td>1.11944</td>\n",
       "      <td>1.12108</td>\n",
       "      <td>1.11918</td>\n",
       "      <td>1.12028</td>\n",
       "      <td>1.11937</td>\n",
       "      <td>1.12101</td>\n",
       "      <td>1.11911</td>\n",
       "      <td>1.12021</td>\n",
       "      <td>1.11952</td>\n",
       "      <td>1.12114</td>\n",
       "      <td>1.11925</td>\n",
       "      <td>1.12034</td>\n",
       "    </tr>\n",
       "    <tr>\n",
       "      <th>4</th>\n",
       "      <td>2019-12-30 06:00:00+00:00</td>\n",
       "      <td>2870</td>\n",
       "      <td>1.12028</td>\n",
       "      <td>1.12058</td>\n",
       "      <td>1.11901</td>\n",
       "      <td>1.11994</td>\n",
       "      <td>1.12021</td>\n",
       "      <td>1.12051</td>\n",
       "      <td>1.11895</td>\n",
       "      <td>1.11988</td>\n",
       "      <td>1.12034</td>\n",
       "      <td>1.12064</td>\n",
       "      <td>1.11906</td>\n",
       "      <td>1.12000</td>\n",
       "    </tr>\n",
       "  </tbody>\n",
       "</table>\n",
       "</div>"
      ],
      "text/plain": [
       "                       time  volume    mid_o    mid_h    mid_l    mid_c  \\\n",
       "0 2019-12-27 14:00:00+00:00    3513  1.11537  1.11843  1.11520  1.11838   \n",
       "1 2019-12-27 18:00:00+00:00    1370  1.11836  1.11883  1.11710  1.11758   \n",
       "2 2019-12-29 22:00:00+00:00    1060  1.11773  1.11954  1.11718  1.11948   \n",
       "3 2019-12-30 02:00:00+00:00    1031  1.11944  1.12108  1.11918  1.12028   \n",
       "4 2019-12-30 06:00:00+00:00    2870  1.12028  1.12058  1.11901  1.11994   \n",
       "\n",
       "     bid_o    bid_h    bid_l    bid_c    ask_o    ask_h    ask_l    ask_c  \n",
       "0  1.11531  1.11837  1.11514  1.11832  1.11543  1.11849  1.11527  1.11844  \n",
       "1  1.11830  1.11877  1.11683  1.11708  1.11842  1.11889  1.11718  1.11808  \n",
       "2  1.11723  1.11948  1.11668  1.11941  1.11823  1.11961  1.11751  1.11954  \n",
       "3  1.11937  1.12101  1.11911  1.12021  1.11952  1.12114  1.11925  1.12034  \n",
       "4  1.12021  1.12051  1.11895  1.11988  1.12034  1.12064  1.11906  1.12000  "
      ]
     },
     "execution_count": 8,
     "metadata": {},
     "output_type": "execute_result"
    }
   ],
   "source": [
    "df.head()"
   ]
  },
  {
   "cell_type": "code",
   "execution_count": 9,
   "id": "b83b91ed",
   "metadata": {},
   "outputs": [
    {
     "data": {
      "text/plain": [
       "Index(['time', 'volume', 'mid_o', 'mid_h', 'mid_l', 'mid_c', 'bid_o', 'bid_h',\n",
       "       'bid_l', 'bid_c', 'ask_o', 'ask_h', 'ask_l', 'ask_c'],\n",
       "      dtype='object')"
      ]
     },
     "execution_count": 9,
     "metadata": {},
     "output_type": "execute_result"
    }
   ],
   "source": [
    "df.columns"
   ]
  },
  {
   "cell_type": "code",
   "execution_count": 10,
   "id": "51a05f66",
   "metadata": {},
   "outputs": [],
   "source": [
    "# to calculate the moving average only the mid price columns are needed\n",
    "# get data frame with copy of relevant data\n",
    "df_ma = df[['time', 'mid_o', 'mid_h', 'mid_l', 'mid_c']].copy()"
   ]
  },
  {
   "cell_type": "code",
   "execution_count": 11,
   "id": "fec3f345",
   "metadata": {},
   "outputs": [
    {
     "data": {
      "text/html": [
       "<div>\n",
       "<style scoped>\n",
       "    .dataframe tbody tr th:only-of-type {\n",
       "        vertical-align: middle;\n",
       "    }\n",
       "\n",
       "    .dataframe tbody tr th {\n",
       "        vertical-align: top;\n",
       "    }\n",
       "\n",
       "    .dataframe thead th {\n",
       "        text-align: right;\n",
       "    }\n",
       "</style>\n",
       "<table border=\"1\" class=\"dataframe\">\n",
       "  <thead>\n",
       "    <tr style=\"text-align: right;\">\n",
       "      <th></th>\n",
       "      <th>time</th>\n",
       "      <th>mid_o</th>\n",
       "      <th>mid_h</th>\n",
       "      <th>mid_l</th>\n",
       "      <th>mid_c</th>\n",
       "    </tr>\n",
       "  </thead>\n",
       "  <tbody>\n",
       "    <tr>\n",
       "      <th>0</th>\n",
       "      <td>2019-12-27 14:00:00+00:00</td>\n",
       "      <td>1.11537</td>\n",
       "      <td>1.11843</td>\n",
       "      <td>1.11520</td>\n",
       "      <td>1.11838</td>\n",
       "    </tr>\n",
       "    <tr>\n",
       "      <th>1</th>\n",
       "      <td>2019-12-27 18:00:00+00:00</td>\n",
       "      <td>1.11836</td>\n",
       "      <td>1.11883</td>\n",
       "      <td>1.11710</td>\n",
       "      <td>1.11758</td>\n",
       "    </tr>\n",
       "    <tr>\n",
       "      <th>2</th>\n",
       "      <td>2019-12-29 22:00:00+00:00</td>\n",
       "      <td>1.11773</td>\n",
       "      <td>1.11954</td>\n",
       "      <td>1.11718</td>\n",
       "      <td>1.11948</td>\n",
       "    </tr>\n",
       "    <tr>\n",
       "      <th>3</th>\n",
       "      <td>2019-12-30 02:00:00+00:00</td>\n",
       "      <td>1.11944</td>\n",
       "      <td>1.12108</td>\n",
       "      <td>1.11918</td>\n",
       "      <td>1.12028</td>\n",
       "    </tr>\n",
       "    <tr>\n",
       "      <th>4</th>\n",
       "      <td>2019-12-30 06:00:00+00:00</td>\n",
       "      <td>1.12028</td>\n",
       "      <td>1.12058</td>\n",
       "      <td>1.11901</td>\n",
       "      <td>1.11994</td>\n",
       "    </tr>\n",
       "  </tbody>\n",
       "</table>\n",
       "</div>"
      ],
      "text/plain": [
       "                       time    mid_o    mid_h    mid_l    mid_c\n",
       "0 2019-12-27 14:00:00+00:00  1.11537  1.11843  1.11520  1.11838\n",
       "1 2019-12-27 18:00:00+00:00  1.11836  1.11883  1.11710  1.11758\n",
       "2 2019-12-29 22:00:00+00:00  1.11773  1.11954  1.11718  1.11948\n",
       "3 2019-12-30 02:00:00+00:00  1.11944  1.12108  1.11918  1.12028\n",
       "4 2019-12-30 06:00:00+00:00  1.12028  1.12058  1.11901  1.11994"
      ]
     },
     "execution_count": 11,
     "metadata": {},
     "output_type": "execute_result"
    }
   ],
   "source": [
    "df_ma.head()"
   ]
  },
  {
   "cell_type": "code",
   "execution_count": 13,
   "id": "7d4a32a9",
   "metadata": {},
   "outputs": [],
   "source": [
    "# calculate the moving averages\n",
    "# rolling() -> telling pandas to do rolling calculations\n",
    "for ma in MA_LIST:\n",
    "    df_ma[f'MA_{ma}'] = df_ma.mid_c.rolling(window=ma).mean()\n",
    "df_ma.dropna(inplace=True) # inplace has to be set to True otherwise the dataframe won't get modified\n"
   ]
  },
  {
   "cell_type": "code",
   "execution_count": 16,
   "id": "51a03a6a",
   "metadata": {},
   "outputs": [],
   "source": [
    "#df_ma.head(50)"
   ]
  },
  {
   "cell_type": "code",
   "execution_count": null,
   "id": "e67a75fd",
   "metadata": {},
   "outputs": [],
   "source": [
    "df_ma.info() # only 3991 of 4000 entries are non-null"
   ]
  },
  {
   "cell_type": "code",
   "execution_count": null,
   "id": "1455907a",
   "metadata": {},
   "outputs": [],
   "source": []
  },
  {
   "cell_type": "code",
   "execution_count": null,
   "id": "2601c2fc",
   "metadata": {},
   "outputs": [],
   "source": [
    "df_ma.head()"
   ]
  },
  {
   "cell_type": "code",
   "execution_count": null,
   "id": "cc26d68d",
   "metadata": {},
   "outputs": [],
   "source": [
    "# resetting the index\n",
    "df_ma.reset_index(inplace=True, drop=True)"
   ]
  },
  {
   "cell_type": "code",
   "execution_count": null,
   "id": "ab431f48",
   "metadata": {},
   "outputs": [],
   "source": [
    "df_ma.head()"
   ]
  },
  {
   "cell_type": "code",
   "execution_count": null,
   "id": "f1d71a24",
   "metadata": {},
   "outputs": [],
   "source": [
    "# plotting the data frame with plotly\n",
    "# take the first 100 candles of the data frame\n",
    "df_plot = df_ma.iloc[:100]"
   ]
  },
  {
   "cell_type": "code",
   "execution_count": null,
   "id": "b96716aa",
   "metadata": {},
   "outputs": [],
   "source": [
    "df_plot.shape"
   ]
  },
  {
   "cell_type": "code",
   "execution_count": null,
   "id": "52169204",
   "metadata": {},
   "outputs": [],
   "source": [
    "# create candle plot instance\n",
    "cp = CandlePlot(df_plot)"
   ]
  },
  {
   "cell_type": "code",
   "execution_count": null,
   "id": "4d7311fc",
   "metadata": {},
   "outputs": [],
   "source": [
    "cp.show_plot()"
   ]
  },
  {
   "cell_type": "code",
   "execution_count": null,
   "id": "3ef84800",
   "metadata": {},
   "outputs": [],
   "source": [
    "# adding moving average to plot\n",
    "# cp.fig.add_trace(go.Scatter(\n",
    "#     x = cp.df_plot.sTime,\n",
    "#     y = cp.df_plot.MA_10,\n",
    "#     line = dict(width = 2),\n",
    "#     line_shape='spline',\n",
    "#     name='MA_10'\n",
    "# ))\n",
    "# replace code above with function from plotting.py\n",
    "cp.show_plot(line_traces=['MA_10'])"
   ]
  },
  {
   "cell_type": "code",
   "execution_count": null,
   "id": "ad4bcfcd",
   "metadata": {},
   "outputs": [],
   "source": []
  }
 ],
 "metadata": {
  "kernelspec": {
   "display_name": "Python 3 (ipykernel)",
   "language": "python",
   "name": "python3"
  },
  "language_info": {
   "codemirror_mode": {
    "name": "ipython",
    "version": 3
   },
   "file_extension": ".py",
   "mimetype": "text/x-python",
   "name": "python",
   "nbconvert_exporter": "python",
   "pygments_lexer": "ipython3",
   "version": "3.9.10"
  }
 },
 "nbformat": 4,
 "nbformat_minor": 5
}
