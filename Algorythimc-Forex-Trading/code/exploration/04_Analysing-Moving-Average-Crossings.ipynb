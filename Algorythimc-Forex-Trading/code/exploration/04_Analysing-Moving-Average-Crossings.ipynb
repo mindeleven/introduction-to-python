{
 "cells": [
  {
   "cell_type": "markdown",
   "id": "6e6e88e6",
   "metadata": {},
   "source": [
    "## Analysing moving average crossings"
   ]
  },
  {
   "cell_type": "code",
   "execution_count": 1,
   "id": "0a2e55b4",
   "metadata": {},
   "outputs": [],
   "source": [
    "import pandas as pd\n",
    "import plotly.graph_objects as go\n",
    "import datetime as dt"
   ]
  },
  {
   "cell_type": "code",
   "execution_count": 2,
   "id": "ba545bf8",
   "metadata": {},
   "outputs": [],
   "source": [
    "from plotting import CandlePlot"
   ]
  },
  {
   "cell_type": "code",
   "execution_count": 3,
   "id": "a99b48a6",
   "metadata": {},
   "outputs": [],
   "source": [
    "# loading data for an instruments pair\n",
    "pair = \"EUR_USD\"\n",
    "granularity = \"H4\"\n",
    "df = pd.read_pickle(f\"../../data/{pair}_{granularity}.pkl\")\n",
    "MA_LIST = [10, 20]"
   ]
  },
  {
   "cell_type": "code",
   "execution_count": 4,
   "id": "abd28001",
   "metadata": {},
   "outputs": [
    {
     "data": {
      "text/plain": [
       "(4000, 14)"
      ]
     },
     "execution_count": 4,
     "metadata": {},
     "output_type": "execute_result"
    }
   ],
   "source": [
    "df.shape"
   ]
  },
  {
   "cell_type": "code",
   "execution_count": 5,
   "id": "5a52e67a",
   "metadata": {},
   "outputs": [
    {
     "name": "stdout",
     "output_type": "stream",
     "text": [
      "<class 'pandas.core.frame.DataFrame'>\n",
      "RangeIndex: 4000 entries, 0 to 3999\n",
      "Data columns (total 14 columns):\n",
      " #   Column  Non-Null Count  Dtype                  \n",
      "---  ------  --------------  -----                  \n",
      " 0   time    4000 non-null   datetime64[ns, tzutc()]\n",
      " 1   volume  4000 non-null   int64                  \n",
      " 2   mid_o   4000 non-null   float64                \n",
      " 3   mid_h   4000 non-null   float64                \n",
      " 4   mid_l   4000 non-null   float64                \n",
      " 5   mid_c   4000 non-null   float64                \n",
      " 6   bid_o   4000 non-null   float64                \n",
      " 7   bid_h   4000 non-null   float64                \n",
      " 8   bid_l   4000 non-null   float64                \n",
      " 9   bid_c   4000 non-null   float64                \n",
      " 10  ask_o   4000 non-null   float64                \n",
      " 11  ask_h   4000 non-null   float64                \n",
      " 12  ask_l   4000 non-null   float64                \n",
      " 13  ask_c   4000 non-null   float64                \n",
      "dtypes: datetime64[ns, tzutc()](1), float64(12), int64(1)\n",
      "memory usage: 437.6 KB\n"
     ]
    }
   ],
   "source": [
    "df.info()"
   ]
  },
  {
   "cell_type": "code",
   "execution_count": 6,
   "id": "290900bf",
   "metadata": {},
   "outputs": [
    {
     "data": {
      "text/html": [
       "<div>\n",
       "<style scoped>\n",
       "    .dataframe tbody tr th:only-of-type {\n",
       "        vertical-align: middle;\n",
       "    }\n",
       "\n",
       "    .dataframe tbody tr th {\n",
       "        vertical-align: top;\n",
       "    }\n",
       "\n",
       "    .dataframe thead th {\n",
       "        text-align: right;\n",
       "    }\n",
       "</style>\n",
       "<table border=\"1\" class=\"dataframe\">\n",
       "  <thead>\n",
       "    <tr style=\"text-align: right;\">\n",
       "      <th></th>\n",
       "      <th>time</th>\n",
       "      <th>volume</th>\n",
       "      <th>mid_o</th>\n",
       "      <th>mid_h</th>\n",
       "      <th>mid_l</th>\n",
       "      <th>mid_c</th>\n",
       "      <th>bid_o</th>\n",
       "      <th>bid_h</th>\n",
       "      <th>bid_l</th>\n",
       "      <th>bid_c</th>\n",
       "      <th>ask_o</th>\n",
       "      <th>ask_h</th>\n",
       "      <th>ask_l</th>\n",
       "      <th>ask_c</th>\n",
       "    </tr>\n",
       "  </thead>\n",
       "  <tbody>\n",
       "    <tr>\n",
       "      <th>0</th>\n",
       "      <td>2019-12-27 14:00:00+00:00</td>\n",
       "      <td>3513</td>\n",
       "      <td>1.11537</td>\n",
       "      <td>1.11843</td>\n",
       "      <td>1.11520</td>\n",
       "      <td>1.11838</td>\n",
       "      <td>1.11531</td>\n",
       "      <td>1.11837</td>\n",
       "      <td>1.11514</td>\n",
       "      <td>1.11832</td>\n",
       "      <td>1.11543</td>\n",
       "      <td>1.11849</td>\n",
       "      <td>1.11527</td>\n",
       "      <td>1.11844</td>\n",
       "    </tr>\n",
       "    <tr>\n",
       "      <th>1</th>\n",
       "      <td>2019-12-27 18:00:00+00:00</td>\n",
       "      <td>1370</td>\n",
       "      <td>1.11836</td>\n",
       "      <td>1.11883</td>\n",
       "      <td>1.11710</td>\n",
       "      <td>1.11758</td>\n",
       "      <td>1.11830</td>\n",
       "      <td>1.11877</td>\n",
       "      <td>1.11683</td>\n",
       "      <td>1.11708</td>\n",
       "      <td>1.11842</td>\n",
       "      <td>1.11889</td>\n",
       "      <td>1.11718</td>\n",
       "      <td>1.11808</td>\n",
       "    </tr>\n",
       "    <tr>\n",
       "      <th>2</th>\n",
       "      <td>2019-12-29 22:00:00+00:00</td>\n",
       "      <td>1060</td>\n",
       "      <td>1.11773</td>\n",
       "      <td>1.11954</td>\n",
       "      <td>1.11718</td>\n",
       "      <td>1.11948</td>\n",
       "      <td>1.11723</td>\n",
       "      <td>1.11948</td>\n",
       "      <td>1.11668</td>\n",
       "      <td>1.11941</td>\n",
       "      <td>1.11823</td>\n",
       "      <td>1.11961</td>\n",
       "      <td>1.11751</td>\n",
       "      <td>1.11954</td>\n",
       "    </tr>\n",
       "    <tr>\n",
       "      <th>3</th>\n",
       "      <td>2019-12-30 02:00:00+00:00</td>\n",
       "      <td>1031</td>\n",
       "      <td>1.11944</td>\n",
       "      <td>1.12108</td>\n",
       "      <td>1.11918</td>\n",
       "      <td>1.12028</td>\n",
       "      <td>1.11937</td>\n",
       "      <td>1.12101</td>\n",
       "      <td>1.11911</td>\n",
       "      <td>1.12021</td>\n",
       "      <td>1.11952</td>\n",
       "      <td>1.12114</td>\n",
       "      <td>1.11925</td>\n",
       "      <td>1.12034</td>\n",
       "    </tr>\n",
       "    <tr>\n",
       "      <th>4</th>\n",
       "      <td>2019-12-30 06:00:00+00:00</td>\n",
       "      <td>2870</td>\n",
       "      <td>1.12028</td>\n",
       "      <td>1.12058</td>\n",
       "      <td>1.11901</td>\n",
       "      <td>1.11994</td>\n",
       "      <td>1.12021</td>\n",
       "      <td>1.12051</td>\n",
       "      <td>1.11895</td>\n",
       "      <td>1.11988</td>\n",
       "      <td>1.12034</td>\n",
       "      <td>1.12064</td>\n",
       "      <td>1.11906</td>\n",
       "      <td>1.12000</td>\n",
       "    </tr>\n",
       "  </tbody>\n",
       "</table>\n",
       "</div>"
      ],
      "text/plain": [
       "                       time  volume    mid_o    mid_h    mid_l    mid_c  \\\n",
       "0 2019-12-27 14:00:00+00:00    3513  1.11537  1.11843  1.11520  1.11838   \n",
       "1 2019-12-27 18:00:00+00:00    1370  1.11836  1.11883  1.11710  1.11758   \n",
       "2 2019-12-29 22:00:00+00:00    1060  1.11773  1.11954  1.11718  1.11948   \n",
       "3 2019-12-30 02:00:00+00:00    1031  1.11944  1.12108  1.11918  1.12028   \n",
       "4 2019-12-30 06:00:00+00:00    2870  1.12028  1.12058  1.11901  1.11994   \n",
       "\n",
       "     bid_o    bid_h    bid_l    bid_c    ask_o    ask_h    ask_l    ask_c  \n",
       "0  1.11531  1.11837  1.11514  1.11832  1.11543  1.11849  1.11527  1.11844  \n",
       "1  1.11830  1.11877  1.11683  1.11708  1.11842  1.11889  1.11718  1.11808  \n",
       "2  1.11723  1.11948  1.11668  1.11941  1.11823  1.11961  1.11751  1.11954  \n",
       "3  1.11937  1.12101  1.11911  1.12021  1.11952  1.12114  1.11925  1.12034  \n",
       "4  1.12021  1.12051  1.11895  1.11988  1.12034  1.12064  1.11906  1.12000  "
      ]
     },
     "execution_count": 6,
     "metadata": {},
     "output_type": "execute_result"
    }
   ],
   "source": [
    "df.head()"
   ]
  },
  {
   "cell_type": "code",
   "execution_count": 7,
   "id": "09abcefb",
   "metadata": {},
   "outputs": [],
   "source": [
    "# get data frame with copy of relevant data\n",
    "df_ma = df[['time', 'mid_o', 'mid_h', 'mid_l', 'mid_c']].copy()"
   ]
  },
  {
   "cell_type": "code",
   "execution_count": 8,
   "id": "fccd9448",
   "metadata": {},
   "outputs": [],
   "source": [
    "# calculate the moving averages\n",
    "# rolling() -> telling pandas to do rolling calculations\n",
    "for ma in MA_LIST:\n",
    "    df_ma[f'MA_{ma}'] = df_ma.mid_c.rolling(window=ma).mean()\n",
    "df_ma.dropna(inplace=True) # inplace has to be set to True otherwise the dataframe won't get modified\n",
    "# resetting the index\n",
    "df_ma.reset_index(inplace=True, drop=True)"
   ]
  },
  {
   "cell_type": "code",
   "execution_count": 9,
   "id": "09889e9e",
   "metadata": {},
   "outputs": [
    {
     "data": {
      "text/html": [
       "<div>\n",
       "<style scoped>\n",
       "    .dataframe tbody tr th:only-of-type {\n",
       "        vertical-align: middle;\n",
       "    }\n",
       "\n",
       "    .dataframe tbody tr th {\n",
       "        vertical-align: top;\n",
       "    }\n",
       "\n",
       "    .dataframe thead th {\n",
       "        text-align: right;\n",
       "    }\n",
       "</style>\n",
       "<table border=\"1\" class=\"dataframe\">\n",
       "  <thead>\n",
       "    <tr style=\"text-align: right;\">\n",
       "      <th></th>\n",
       "      <th>time</th>\n",
       "      <th>mid_o</th>\n",
       "      <th>mid_h</th>\n",
       "      <th>mid_l</th>\n",
       "      <th>mid_c</th>\n",
       "      <th>MA_10</th>\n",
       "      <th>MA_20</th>\n",
       "    </tr>\n",
       "  </thead>\n",
       "  <tbody>\n",
       "    <tr>\n",
       "      <th>0</th>\n",
       "      <td>2020-01-02 18:00:00+00:00</td>\n",
       "      <td>1.11702</td>\n",
       "      <td>1.11736</td>\n",
       "      <td>1.11636</td>\n",
       "      <td>1.11728</td>\n",
       "      <td>1.120605</td>\n",
       "      <td>1.120208</td>\n",
       "    </tr>\n",
       "    <tr>\n",
       "      <th>1</th>\n",
       "      <td>2020-01-02 22:00:00+00:00</td>\n",
       "      <td>1.11728</td>\n",
       "      <td>1.11784</td>\n",
       "      <td>1.11700</td>\n",
       "      <td>1.11736</td>\n",
       "      <td>1.120205</td>\n",
       "      <td>1.120157</td>\n",
       "    </tr>\n",
       "    <tr>\n",
       "      <th>2</th>\n",
       "      <td>2020-01-03 02:00:00+00:00</td>\n",
       "      <td>1.11738</td>\n",
       "      <td>1.11774</td>\n",
       "      <td>1.11644</td>\n",
       "      <td>1.11664</td>\n",
       "      <td>1.119489</td>\n",
       "      <td>1.120110</td>\n",
       "    </tr>\n",
       "    <tr>\n",
       "      <th>3</th>\n",
       "      <td>2020-01-03 06:00:00+00:00</td>\n",
       "      <td>1.11664</td>\n",
       "      <td>1.11718</td>\n",
       "      <td>1.11401</td>\n",
       "      <td>1.11402</td>\n",
       "      <td>1.118601</td>\n",
       "      <td>1.119837</td>\n",
       "    </tr>\n",
       "    <tr>\n",
       "      <th>4</th>\n",
       "      <td>2020-01-03 10:00:00+00:00</td>\n",
       "      <td>1.11404</td>\n",
       "      <td>1.11488</td>\n",
       "      <td>1.11249</td>\n",
       "      <td>1.11382</td>\n",
       "      <td>1.117863</td>\n",
       "      <td>1.119514</td>\n",
       "    </tr>\n",
       "  </tbody>\n",
       "</table>\n",
       "</div>"
      ],
      "text/plain": [
       "                       time    mid_o    mid_h    mid_l    mid_c     MA_10  \\\n",
       "0 2020-01-02 18:00:00+00:00  1.11702  1.11736  1.11636  1.11728  1.120605   \n",
       "1 2020-01-02 22:00:00+00:00  1.11728  1.11784  1.11700  1.11736  1.120205   \n",
       "2 2020-01-03 02:00:00+00:00  1.11738  1.11774  1.11644  1.11664  1.119489   \n",
       "3 2020-01-03 06:00:00+00:00  1.11664  1.11718  1.11401  1.11402  1.118601   \n",
       "4 2020-01-03 10:00:00+00:00  1.11404  1.11488  1.11249  1.11382  1.117863   \n",
       "\n",
       "      MA_20  \n",
       "0  1.120208  \n",
       "1  1.120157  \n",
       "2  1.120110  \n",
       "3  1.119837  \n",
       "4  1.119514  "
      ]
     },
     "execution_count": 9,
     "metadata": {},
     "output_type": "execute_result"
    }
   ],
   "source": [
    "df_ma.head()"
   ]
  },
  {
   "cell_type": "code",
   "execution_count": null,
   "id": "13d11101",
   "metadata": {},
   "outputs": [],
   "source": []
  }
 ],
 "metadata": {
  "kernelspec": {
   "display_name": "Python 3 (ipykernel)",
   "language": "python",
   "name": "python3"
  },
  "language_info": {
   "codemirror_mode": {
    "name": "ipython",
    "version": 3
   },
   "file_extension": ".py",
   "mimetype": "text/x-python",
   "name": "python",
   "nbconvert_exporter": "python",
   "pygments_lexer": "ipython3",
   "version": "3.9.10"
  }
 },
 "nbformat": 4,
 "nbformat_minor": 5
}
